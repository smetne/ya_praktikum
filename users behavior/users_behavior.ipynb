{
 "cells": [
  {
   "cell_type": "markdown",
   "id": "74e3655f",
   "metadata": {},
   "source": [
    "# Анализ поведения пользователей мобильного приложения"
   ]
  },
  {
   "cell_type": "markdown",
   "id": "f04a812b",
   "metadata": {},
   "source": [
    "## Подготовка данных к анализу"
   ]
  },
  {
   "cell_type": "code",
   "execution_count": 1,
   "id": "ecefffd0",
   "metadata": {},
   "outputs": [],
   "source": [
    "import pandas as pd\n",
    "import datetime as dt\n",
    "import numpy as np\n",
    "from scipy import stats as st\n",
    "import math as mth\n",
    "import seaborn as sns\n",
    "from plotly import graph_objects as go\n",
    "import matplotlib.pyplot as plt\n",
    "import plotly.express as px\n",
    "from itertools import combinations\n",
    "import warnings\n",
    "warnings.filterwarnings(\"ignore\")"
   ]
  },
  {
   "cell_type": "code",
   "execution_count": 2,
   "id": "76ec10b0",
   "metadata": {},
   "outputs": [],
   "source": [
    "try:\n",
    "    data = pd.read_csv('logs_exp.csv', delim_whitespace=True)\n",
    "except FileNotFoundError:\n",
    "    data = pd.read_csv('/datasets/logs_exp.csv', delim_whitespace=True)"
   ]
  },
  {
   "cell_type": "code",
   "execution_count": 3,
   "id": "76f9f61f",
   "metadata": {
    "scrolled": true
   },
   "outputs": [
    {
     "name": "stdout",
     "output_type": "stream",
     "text": [
      "<class 'pandas.core.frame.DataFrame'>\n",
      "RangeIndex: 244126 entries, 0 to 244125\n",
      "Data columns (total 4 columns):\n",
      " #   Column          Non-Null Count   Dtype \n",
      "---  ------          --------------   ----- \n",
      " 0   EventName       244126 non-null  object\n",
      " 1   DeviceIDHash    244126 non-null  int64 \n",
      " 2   EventTimestamp  244126 non-null  int64 \n",
      " 3   ExpId           244126 non-null  int64 \n",
      "dtypes: int64(3), object(1)\n",
      "memory usage: 7.5+ MB\n"
     ]
    }
   ],
   "source": [
    "data.info()"
   ]
  },
  {
   "cell_type": "markdown",
   "id": "efb52e37",
   "metadata": {},
   "source": [
    "Датафрейм состоит из 4 колонок и 244 126 строк. Пропусков нет. "
   ]
  },
  {
   "cell_type": "code",
   "execution_count": 4,
   "id": "e6b3618a",
   "metadata": {},
   "outputs": [
    {
     "data": {
      "text/html": [
       "<div>\n",
       "<style scoped>\n",
       "    .dataframe tbody tr th:only-of-type {\n",
       "        vertical-align: middle;\n",
       "    }\n",
       "\n",
       "    .dataframe tbody tr th {\n",
       "        vertical-align: top;\n",
       "    }\n",
       "\n",
       "    .dataframe thead th {\n",
       "        text-align: right;\n",
       "    }\n",
       "</style>\n",
       "<table border=\"1\" class=\"dataframe\">\n",
       "  <thead>\n",
       "    <tr style=\"text-align: right;\">\n",
       "      <th></th>\n",
       "      <th>EventName</th>\n",
       "      <th>DeviceIDHash</th>\n",
       "      <th>EventTimestamp</th>\n",
       "      <th>ExpId</th>\n",
       "    </tr>\n",
       "  </thead>\n",
       "  <tbody>\n",
       "    <tr>\n",
       "      <th>156316</th>\n",
       "      <td>CartScreenAppear</td>\n",
       "      <td>5906188182380881977</td>\n",
       "      <td>1565006978</td>\n",
       "      <td>248</td>\n",
       "    </tr>\n",
       "    <tr>\n",
       "      <th>89099</th>\n",
       "      <td>CartScreenAppear</td>\n",
       "      <td>8173190940950873857</td>\n",
       "      <td>1564832605</td>\n",
       "      <td>246</td>\n",
       "    </tr>\n",
       "    <tr>\n",
       "      <th>61303</th>\n",
       "      <td>MainScreenAppear</td>\n",
       "      <td>5401153735414945172</td>\n",
       "      <td>1564757007</td>\n",
       "      <td>246</td>\n",
       "    </tr>\n",
       "    <tr>\n",
       "      <th>202564</th>\n",
       "      <td>OffersScreenAppear</td>\n",
       "      <td>1721101105509587254</td>\n",
       "      <td>1565107588</td>\n",
       "      <td>247</td>\n",
       "    </tr>\n",
       "    <tr>\n",
       "      <th>143450</th>\n",
       "      <td>MainScreenAppear</td>\n",
       "      <td>5132369487098274503</td>\n",
       "      <td>1564982209</td>\n",
       "      <td>246</td>\n",
       "    </tr>\n",
       "  </tbody>\n",
       "</table>\n",
       "</div>"
      ],
      "text/plain": [
       "                 EventName         DeviceIDHash  EventTimestamp  ExpId\n",
       "156316    CartScreenAppear  5906188182380881977      1565006978    248\n",
       "89099     CartScreenAppear  8173190940950873857      1564832605    246\n",
       "61303     MainScreenAppear  5401153735414945172      1564757007    246\n",
       "202564  OffersScreenAppear  1721101105509587254      1565107588    247\n",
       "143450    MainScreenAppear  5132369487098274503      1564982209    246"
      ]
     },
     "execution_count": 4,
     "metadata": {},
     "output_type": "execute_result"
    }
   ],
   "source": [
    "data.sample(5)"
   ]
  },
  {
   "cell_type": "markdown",
   "id": "4319458d",
   "metadata": {},
   "source": [
    "Переименуем столбцы."
   ]
  },
  {
   "cell_type": "code",
   "execution_count": 5,
   "id": "1fb059d2",
   "metadata": {},
   "outputs": [],
   "source": [
    "data = data.rename(\n",
    "    columns={\n",
    "        'EventName':'event_name', \n",
    "        'DeviceIDHash':'user_id', \n",
    "        'EventTimestamp':'event_time',\n",
    "        'ExpId':'group_id'\n",
    "    })"
   ]
  },
  {
   "cell_type": "markdown",
   "id": "81e5f0d7",
   "metadata": {},
   "source": [
    "Преобразуем столбец `event_time` в формат дата и время."
   ]
  },
  {
   "cell_type": "code",
   "execution_count": 6,
   "id": "6445f104",
   "metadata": {},
   "outputs": [],
   "source": [
    "data['event_time'] = pd.to_datetime(data['event_time'], unit='s')"
   ]
  },
  {
   "cell_type": "markdown",
   "id": "e88c0857",
   "metadata": {},
   "source": [
    "Добавим отдельный столбец с датами."
   ]
  },
  {
   "cell_type": "code",
   "execution_count": 7,
   "id": "05c68296",
   "metadata": {
    "scrolled": true
   },
   "outputs": [],
   "source": [
    "data['event_date'] = pd.to_datetime(data['event_time']).dt.date.astype('datetime64[ns]')"
   ]
  },
  {
   "cell_type": "markdown",
   "id": "780c3180",
   "metadata": {},
   "source": [
    "Проверим на дубликаты."
   ]
  },
  {
   "cell_type": "code",
   "execution_count": 8,
   "id": "f1990da5",
   "metadata": {
    "scrolled": true
   },
   "outputs": [
    {
     "name": "stdout",
     "output_type": "stream",
     "text": [
      "Полных дубликатов в данных: 413\n"
     ]
    }
   ],
   "source": [
    "print(f'Полных дубликатов в данных: {data.duplicated().sum()}')"
   ]
  },
  {
   "cell_type": "markdown",
   "id": "eb904f1c",
   "metadata": {},
   "source": [
    "Удалим дубликаты."
   ]
  },
  {
   "cell_type": "code",
   "execution_count": 9,
   "id": "67714c05",
   "metadata": {},
   "outputs": [],
   "source": [
    "data = data.drop_duplicates()"
   ]
  },
  {
   "cell_type": "code",
   "execution_count": 10,
   "id": "5e9173e6",
   "metadata": {
    "scrolled": true
   },
   "outputs": [
    {
     "data": {
      "text/plain": [
       "array(['MainScreenAppear', 'PaymentScreenSuccessful', 'CartScreenAppear',\n",
       "       'OffersScreenAppear', 'Tutorial'], dtype=object)"
      ]
     },
     "execution_count": 10,
     "metadata": {},
     "output_type": "execute_result"
    }
   ],
   "source": [
    "data['event_name'].unique()"
   ]
  },
  {
   "cell_type": "markdown",
   "id": "c95ccd3a",
   "metadata": {},
   "source": [
    "Ошибок в наименованиях событий нет."
   ]
  },
  {
   "cell_type": "markdown",
   "id": "53c39a48",
   "metadata": {},
   "source": [
    "**Вывод**"
   ]
  },
  {
   "cell_type": "markdown",
   "id": "6cb241c7",
   "metadata": {},
   "source": [
    "Данные проверены: пропусков не обнаружено, 413 дубликатов удалено. Столбец с данными о дате и времени переведен в удобочитаемый формат, добавлен отдельный столбец с датой, переименованы столбцы."
   ]
  },
  {
   "cell_type": "markdown",
   "id": "4b5e215e",
   "metadata": {},
   "source": [
    "## Изучение и проверка данных"
   ]
  },
  {
   "cell_type": "code",
   "execution_count": 11,
   "id": "9b198f82",
   "metadata": {},
   "outputs": [
    {
     "name": "stdout",
     "output_type": "stream",
     "text": [
      "Всего в логе 243713 событий и 7551 пользователей\n",
      "В среднем на одного пользователя приходится 20 событий\n"
     ]
    }
   ],
   "source": [
    "print(\n",
    "    f'Всего в логе {len(data)} событий и {data[\"user_id\"].nunique()} пользователей'\n",
    ")\n",
    "print(\n",
    "    f'В среднем на одного пользователя приходится {int(data.groupby(\"user_id\")[\"event_name\"].agg(\"count\").median())} событий'\n",
    ")"
   ]
  },
  {
   "cell_type": "code",
   "execution_count": 12,
   "id": "209c4623",
   "metadata": {
    "scrolled": true
   },
   "outputs": [
    {
     "name": "stdout",
     "output_type": "stream",
     "text": [
      "Минимальная дата 2019-07-25 00:00:00\n",
      "Максимальная дата 2019-08-07 00:00:00\n"
     ]
    }
   ],
   "source": [
    "print(f\"Минимальная дата {data['event_date'].min()}\")\n",
    "print(f\"Максимальная дата {data['event_date'].max()}\")"
   ]
  },
  {
   "cell_type": "code",
   "execution_count": 13,
   "id": "47943bdd",
   "metadata": {},
   "outputs": [
    {
     "name": "stdout",
     "output_type": "stream",
     "text": [
      "Количество дней в данных: 13\n"
     ]
    }
   ],
   "source": [
    "time_diff = data['event_date'].max() - data['event_date'].min()\n",
    "print(f\"Количество дней в данных: {time_diff.days}\")"
   ]
  },
  {
   "cell_type": "markdown",
   "id": "3af722dc",
   "metadata": {},
   "source": [
    "Лог распологает данными с 25 июля по 7 августа 2019 года."
   ]
  },
  {
   "cell_type": "code",
   "execution_count": 14,
   "id": "72414683",
   "metadata": {
    "scrolled": true
   },
   "outputs": [
    {
     "data": {
      "image/png": "[encoded data removed]",
      "text/plain": [
       "<Figure size 864x360 with 1 Axes>"
      ]
     },
     "metadata": {
      "needs_background": "light"
     },
     "output_type": "display_data"
    }
   ],
   "source": [
    "plt.figure(figsize=(12, 5))\n",
    "sns.histplot(x=data['event_time'], bins=13)\n",
    "plt.title('Количество событий по дате и времени')\n",
    "plt.ylabel('Кол-во событий')\n",
    "plt.xlabel('')\n",
    "plt.xticks(rotation=45)\n",
    "plt.show()"
   ]
  },
  {
   "cell_type": "markdown",
   "id": "f7ff0f82",
   "metadata": {},
   "source": [
    "Судя по гистограмме, полные данные есть только за август - с 01 по 07."
   ]
  },
  {
   "cell_type": "markdown",
   "id": "d6ccf359",
   "metadata": {},
   "source": [
    "Уберем неполные данные и посмотрим, сколько событий и пользователей останется в логе."
   ]
  },
  {
   "cell_type": "code",
   "execution_count": 15,
   "id": "02c030b0",
   "metadata": {
    "scrolled": true
   },
   "outputs": [],
   "source": [
    "complete_data = data.query('event_date > \"2019-08-01\"')"
   ]
  },
  {
   "cell_type": "code",
   "execution_count": 16,
   "id": "ff297a47",
   "metadata": {
    "scrolled": true
   },
   "outputs": [
    {
     "name": "stdout",
     "output_type": "stream",
     "text": [
      "Всего в логе осталось 204746 событий и 7286 пользователей\n",
      "В результате очистки данных было удалено 19.03% событий и 3.51% пользователей\n",
      "После очистки данных в среднем на одного пользователя приходится 17 событий\n"
     ]
    }
   ],
   "source": [
    "print(\n",
    "    f'Всего в логе осталось {len(complete_data)} событий и {complete_data[\"user_id\"].nunique()} пользователей'\n",
    ")\n",
    "print(\n",
    "    f'В результате очистки данных было удалено {round((len(data)-len(complete_data))/len(complete_data)*100, 2)}% событий и {round((data[\"user_id\"].nunique()-complete_data[\"user_id\"].nunique())/data[\"user_id\"].nunique()*100, 2)}% пользователей'\n",
    ")\n",
    "print(\n",
    "    f'После очистки данных в среднем на одного пользователя приходится {int(complete_data.groupby(\"user_id\")[\"event_name\"].agg(\"count\").median())} событий'\n",
    ")"
   ]
  },
  {
   "cell_type": "markdown",
   "id": "e6074a22",
   "metadata": {},
   "source": [
    "Убедимся, что в логе есть пользователи из всех трех групп."
   ]
  },
  {
   "cell_type": "code",
   "execution_count": 17,
   "id": "66260af8",
   "metadata": {
    "scrolled": true
   },
   "outputs": [
    {
     "data": {
      "text/plain": [
       "group_id\n",
       "246    2393\n",
       "247    2434\n",
       "248    2459\n",
       "Name: user_id, dtype: int64"
      ]
     },
     "execution_count": 17,
     "metadata": {},
     "output_type": "execute_result"
    }
   ],
   "source": [
    "complete_data.groupby('group_id')['user_id'].nunique()"
   ]
  },
  {
   "cell_type": "markdown",
   "id": "0c90456d",
   "metadata": {},
   "source": [
    "Все три группы на месте, во всех примерно одинаковое количество уникальных пользователей."
   ]
  },
  {
   "cell_type": "markdown",
   "id": "c49fb72a",
   "metadata": {},
   "source": [
    "**Вывод**"
   ]
  },
  {
   "cell_type": "markdown",
   "id": "2614d753",
   "metadata": {},
   "source": [
    "Данные были проверены на полноту. В результате очистки от неполных данных были оставлены собития за август 2019 года с 01 по 07 число и было удалено 38967 событий и 265 пользователей. Всего в логе осталось 204746 событий и 7286 пользователей, в среднем на одного пользователя приходится 17 событий."
   ]
  },
  {
   "cell_type": "markdown",
   "id": "d36ed9b9",
   "metadata": {},
   "source": [
    "## Воронка событий"
   ]
  },
  {
   "cell_type": "markdown",
   "id": "34a633aa",
   "metadata": {},
   "source": [
    "Посмотрим, какие события и как часто встречаются в логе и посчитаем для каждого события количество уникальных пользователей, а так же долю пользователей, совершивших хотя бы одно событие."
   ]
  },
  {
   "cell_type": "code",
   "execution_count": 18,
   "id": "d9227766",
   "metadata": {
    "scrolled": false
   },
   "outputs": [
    {
     "data": {
      "text/html": [
       "<div>\n",
       "<style scoped>\n",
       "    .dataframe tbody tr th:only-of-type {\n",
       "        vertical-align: middle;\n",
       "    }\n",
       "\n",
       "    .dataframe tbody tr th {\n",
       "        vertical-align: top;\n",
       "    }\n",
       "\n",
       "    .dataframe thead th {\n",
       "        text-align: right;\n",
       "    }\n",
       "</style>\n",
       "<table border=\"1\" class=\"dataframe\">\n",
       "  <thead>\n",
       "    <tr style=\"text-align: right;\">\n",
       "      <th></th>\n",
       "      <th>event_name</th>\n",
       "      <th>events_numb</th>\n",
       "      <th>users_unique</th>\n",
       "      <th>cr</th>\n",
       "    </tr>\n",
       "  </thead>\n",
       "  <tbody>\n",
       "    <tr>\n",
       "      <th>0</th>\n",
       "      <td>MainScreenAppear</td>\n",
       "      <td>99383</td>\n",
       "      <td>7156</td>\n",
       "      <td>94.77</td>\n",
       "    </tr>\n",
       "    <tr>\n",
       "      <th>1</th>\n",
       "      <td>OffersScreenAppear</td>\n",
       "      <td>39345</td>\n",
       "      <td>4380</td>\n",
       "      <td>58.01</td>\n",
       "    </tr>\n",
       "    <tr>\n",
       "      <th>2</th>\n",
       "      <td>CartScreenAppear</td>\n",
       "      <td>36086</td>\n",
       "      <td>3571</td>\n",
       "      <td>47.29</td>\n",
       "    </tr>\n",
       "    <tr>\n",
       "      <th>3</th>\n",
       "      <td>PaymentScreenSuccessful</td>\n",
       "      <td>29147</td>\n",
       "      <td>3399</td>\n",
       "      <td>45.01</td>\n",
       "    </tr>\n",
       "    <tr>\n",
       "      <th>4</th>\n",
       "      <td>Tutorial</td>\n",
       "      <td>785</td>\n",
       "      <td>690</td>\n",
       "      <td>9.14</td>\n",
       "    </tr>\n",
       "  </tbody>\n",
       "</table>\n",
       "</div>"
      ],
      "text/plain": [
       "                event_name  events_numb  users_unique     cr\n",
       "0         MainScreenAppear        99383          7156  94.77\n",
       "1       OffersScreenAppear        39345          4380  58.01\n",
       "2         CartScreenAppear        36086          3571  47.29\n",
       "3  PaymentScreenSuccessful        29147          3399  45.01\n",
       "4                 Tutorial          785           690   9.14"
      ]
     },
     "execution_count": 18,
     "metadata": {},
     "output_type": "execute_result"
    }
   ],
   "source": [
    "events = (\n",
    "    complete_data.groupby('event_name')['user_id']\n",
    "    .agg(['count', 'nunique'])\n",
    "    .sort_values(by='count', ascending=False)\n",
    "    .reset_index()\n",
    ")\n",
    "events = events.rename(columns={'count':'events_numb', 'nunique':'users_unique'})\n",
    "events.assign(cr=lambda row: round(row['users_unique'] / data[\"user_id\"].nunique() * 100, 2))"
   ]
  },
  {
   "cell_type": "markdown",
   "id": "4bea3c80",
   "metadata": {},
   "source": [
    "* Самое частое событие это отображение главного экрана, оно происходило 99 383 раза.\n",
    "* Второе по частоте событие это отображение экрана с каталогом товаров - 39 345 раз.\n",
    "* Третье событие это отображение экрана с корзиной - 36 086 раз.\n",
    "* Четвёртое событие это отображение экрана с подтверждением оплаты - оно случалось 29 147 раз.\n",
    "* Самое редкое событие - отображение странички с FAQ случалось 785 раз."
   ]
  },
  {
   "cell_type": "markdown",
   "id": "18346d52",
   "metadata": {},
   "source": [
    "Предположим последовательность событий, пользователь видит:\n",
    "\n",
    "- главный экран\n",
    "- экран с товарами\n",
    "- корзину\n",
    "- подтверждение успешной оплаты\n",
    "\n",
    "Реже всего пользователь видит:\n",
    "- страничку с FAQ"
   ]
  },
  {
   "cell_type": "markdown",
   "id": "482aa5b9",
   "metadata": {},
   "source": [
    "Страничка с FAQ может открываться пользователем на любом этапе и не входит в последовательную цепочку событий, при построении воронки не будем учитывать это событие."
   ]
  },
  {
   "cell_type": "code",
   "execution_count": 19,
   "id": "1820f7da",
   "metadata": {},
   "outputs": [],
   "source": [
    "clear_events = events.query('event_name != \"Tutorial\"')"
   ]
  },
  {
   "cell_type": "code",
   "execution_count": 33,
   "id": "1334d7c0",
   "metadata": {
    "scrolled": true
   },
   "outputs": [
    {
     "data": {
      "application/vnd.plotly.v1+json": {
       "config": {
        "plotlyServerURL": "https://plot.ly"
       },
       "data": [
        {
         "textinfo": "value+percent initial",
         "type": "funnel",
         "x": [
          7156,
          4380,
          3571,
          3399
         ],
         "y": [
          "MainScreenAppear",
          "OffersScreenAppear",
          "CartScreenAppear",
          "PaymentScreenSuccessful"
         ]
        }
       ],
       "layout": {
        "template": {
         "data": {
          "bar": [
           {
            "error_x": {
             "color": "#2a3f5f"
            },
            "error_y": {
             "color": "#2a3f5f"
            },
            "marker": {
             "line": {
              "color": "#E5ECF6",
              "width": 0.5
             },
             "pattern": {
              "fillmode": "overlay",
              "size": 10,
              "solidity": 0.2
             }
            },
            "type": "bar"
           }
          ],
          "barpolar": [
           {
            "marker": {
             "line": {
              "color": "#E5ECF6",
              "width": 0.5
             },
             "pattern": {
              "fillmode": "overlay",
              "size": 10,
              "solidity": 0.2
             }
            },
            "type": "barpolar"
           }
          ],
          "carpet": [
           {
            "aaxis": {
             "endlinecolor": "#2a3f5f",
             "gridcolor": "white",
             "linecolor": "white",
             "minorgridcolor": "white",
             "startlinecolor": "#2a3f5f"
            },
            "baxis": {
             "endlinecolor": "#2a3f5f",
             "gridcolor": "white",
             "linecolor": "white",
             "minorgridcolor": "white",
             "startlinecolor": "#2a3f5f"
            },
            "type": "carpet"
           }
          ],
          "choropleth": [
           {
            "colorbar": {
             "outlinewidth": 0,
             "ticks": ""
            },
            "type": "choropleth"
           }
          ],
          "contour": [
           {
            "colorbar": {
             "outlinewidth": 0,
             "ticks": ""
            },
            "colorscale": [
             [
              0,
              "#0d0887"
             ],
             [
              0.1111111111111111,
              "#46039f"
             ],
             [
              0.2222222222222222,
              "#7201a8"
             ],
             [
              0.3333333333333333,
              "#9c179e"
             ],
             [
              0.4444444444444444,
              "#bd3786"
             ],
             [
              0.5555555555555556,
              "#d8576b"
             ],
             [
              0.6666666666666666,
              "#ed7953"
             ],
             [
              0.7777777777777778,
              "#fb9f3a"
             ],
             [
              0.8888888888888888,
              "#fdca26"
             ],
             [
              1,
              "#f0f921"
             ]
            ],
            "type": "contour"
           }
          ],
          "contourcarpet": [
           {
            "colorbar": {
             "outlinewidth": 0,
             "ticks": ""
            },
            "type": "contourcarpet"
           }
          ],
          "heatmap": [
           {
            "colorbar": {
             "outlinewidth": 0,
             "ticks": ""
            },
            "colorscale": [
             [
              0,
              "#0d0887"
             ],
             [
              0.1111111111111111,
              "#46039f"
             ],
             [
              0.2222222222222222,
              "#7201a8"
             ],
             [
              0.3333333333333333,
              "#9c179e"
             ],
             [
              0.4444444444444444,
              "#bd3786"
             ],
             [
              0.5555555555555556,
              "#d8576b"
             ],
             [
              0.6666666666666666,
              "#ed7953"
             ],
             [
              0.7777777777777778,
              "#fb9f3a"
             ],
             [
              0.8888888888888888,
              "#fdca26"
             ],
             [
              1,
              "#f0f921"
             ]
            ],
            "type": "heatmap"
           }
          ],
          "heatmapgl": [
           {
            "colorbar": {
             "outlinewidth": 0,
             "ticks": ""
            },
            "colorscale": [
             [
              0,
              "#0d0887"
             ],
             [
              0.1111111111111111,
              "#46039f"
             ],
             [
              0.2222222222222222,
              "#7201a8"
             ],
             [
              0.3333333333333333,
              "#9c179e"
             ],
             [
              0.4444444444444444,
              "#bd3786"
             ],
             [
              0.5555555555555556,
              "#d8576b"
             ],
             [
              0.6666666666666666,
              "#ed7953"
             ],
             [
              0.7777777777777778,
              "#fb9f3a"
             ],
             [
              0.8888888888888888,
              "#fdca26"
             ],
             [
              1,
              "#f0f921"
             ]
            ],
            "type": "heatmapgl"
           }
          ],
          "histogram": [
           {
            "marker": {
             "pattern": {
              "fillmode": "overlay",
              "size": 10,
              "solidity": 0.2
             }
            },
            "type": "histogram"
           }
          ],
          "histogram2d": [
           {
            "colorbar": {
             "outlinewidth": 0,
             "ticks": ""
            },
            "colorscale": [
             [
              0,
              "#0d0887"
             ],
             [
              0.1111111111111111,
              "#46039f"
             ],
             [
              0.2222222222222222,
              "#7201a8"
             ],
             [
              0.3333333333333333,
              "#9c179e"
             ],
             [
              0.4444444444444444,
              "#bd3786"
             ],
             [
              0.5555555555555556,
              "#d8576b"
             ],
             [
              0.6666666666666666,
              "#ed7953"
             ],
             [
              0.7777777777777778,
              "#fb9f3a"
             ],
             [
              0.8888888888888888,
              "#fdca26"
             ],
             [
              1,
              "#f0f921"
             ]
            ],
            "type": "histogram2d"
           }
          ],
          "histogram2dcontour": [
           {
            "colorbar": {
             "outlinewidth": 0,
             "ticks": ""
            },
            "colorscale": [
             [
              0,
              "#0d0887"
             ],
             [
              0.1111111111111111,
              "#46039f"
             ],
             [
              0.2222222222222222,
              "#7201a8"
             ],
             [
              0.3333333333333333,
              "#9c179e"
             ],
             [
              0.4444444444444444,
              "#bd3786"
             ],
             [
              0.5555555555555556,
              "#d8576b"
             ],
             [
              0.6666666666666666,
              "#ed7953"
             ],
             [
              0.7777777777777778,
              "#fb9f3a"
             ],
             [
              0.8888888888888888,
              "#fdca26"
             ],
             [
              1,
              "#f0f921"
             ]
            ],
            "type": "histogram2dcontour"
           }
          ],
          "mesh3d": [
           {
            "colorbar": {
             "outlinewidth": 0,
             "ticks": ""
            },
            "type": "mesh3d"
           }
          ],
          "parcoords": [
           {
            "line": {
             "colorbar": {
              "outlinewidth": 0,
              "ticks": ""
             }
            },
            "type": "parcoords"
           }
          ],
          "pie": [
           {
            "automargin": true,
            "type": "pie"
           }
          ],
          "scatter": [
           {
            "marker": {
             "colorbar": {
              "outlinewidth": 0,
              "ticks": ""
             }
            },
            "type": "scatter"
           }
          ],
          "scatter3d": [
           {
            "line": {
             "colorbar": {
              "outlinewidth": 0,
              "ticks": ""
             }
            },
            "marker": {
             "colorbar": {
              "outlinewidth": 0,
              "ticks": ""
             }
            },
            "type": "scatter3d"
           }
          ],
          "scattercarpet": [
           {
            "marker": {
             "colorbar": {
              "outlinewidth": 0,
              "ticks": ""
             }
            },
            "type": "scattercarpet"
           }
          ],
          "scattergeo": [
           {
            "marker": {
             "colorbar": {
              "outlinewidth": 0,
              "ticks": ""
             }
            },
            "type": "scattergeo"
           }
          ],
          "scattergl": [
           {
            "marker": {
             "colorbar": {
              "outlinewidth": 0,
              "ticks": ""
             }
            },
            "type": "scattergl"
           }
          ],
          "scattermapbox": [
           {
            "marker": {
             "colorbar": {
              "outlinewidth": 0,
              "ticks": ""
             }
            },
            "type": "scattermapbox"
           }
          ],
          "scatterpolar": [
           {
            "marker": {
             "colorbar": {
              "outlinewidth": 0,
              "ticks": ""
             }
            },
            "type": "scatterpolar"
           }
          ],
          "scatterpolargl": [
           {
            "marker": {
             "colorbar": {
              "outlinewidth": 0,
              "ticks": ""
             }
            },
            "type": "scatterpolargl"
           }
          ],
          "scatterternary": [
           {
            "marker": {
             "colorbar": {
              "outlinewidth": 0,
              "ticks": ""
             }
            },
            "type": "scatterternary"
           }
          ],
          "surface": [
           {
            "colorbar": {
             "outlinewidth": 0,
             "ticks": ""
            },
            "colorscale": [
             [
              0,
              "#0d0887"
             ],
             [
              0.1111111111111111,
              "#46039f"
             ],
             [
              0.2222222222222222,
              "#7201a8"
             ],
             [
              0.3333333333333333,
              "#9c179e"
             ],
             [
              0.4444444444444444,
              "#bd3786"
             ],
             [
              0.5555555555555556,
              "#d8576b"
             ],
             [
              0.6666666666666666,
              "#ed7953"
             ],
             [
              0.7777777777777778,
              "#fb9f3a"
             ],
             [
              0.8888888888888888,
              "#fdca26"
             ],
             [
              1,
              "#f0f921"
             ]
            ],
            "type": "surface"
           }
          ],
          "table": [
           {
            "cells": {
             "fill": {
              "color": "#EBF0F8"
             },
             "line": {
              "color": "white"
             }
            },
            "header": {
             "fill": {
              "color": "#C8D4E3"
             },
             "line": {
              "color": "white"
             }
            },
            "type": "table"
           }
          ]
         },
         "layout": {
          "annotationdefaults": {
           "arrowcolor": "#2a3f5f",
           "arrowhead": 0,
           "arrowwidth": 1
          },
          "autotypenumbers": "strict",
          "coloraxis": {
           "colorbar": {
            "outlinewidth": 0,
            "ticks": ""
           }
          },
          "colorscale": {
           "diverging": [
            [
             0,
             "#8e0152"
            ],
            [
             0.1,
             "#c51b7d"
            ],
            [
             0.2,
             "#de77ae"
            ],
            [
             0.3,
             "#f1b6da"
            ],
            [
             0.4,
             "#fde0ef"
            ],
            [
             0.5,
             "#f7f7f7"
            ],
            [
             0.6,
             "#e6f5d0"
            ],
            [
             0.7,
             "#b8e186"
            ],
            [
             0.8,
             "#7fbc41"
            ],
            [
             0.9,
             "#4d9221"
            ],
            [
             1,
             "#276419"
            ]
           ],
           "sequential": [
            [
             0,
             "#0d0887"
            ],
            [
             0.1111111111111111,
             "#46039f"
            ],
            [
             0.2222222222222222,
             "#7201a8"
            ],
            [
             0.3333333333333333,
             "#9c179e"
            ],
            [
             0.4444444444444444,
             "#bd3786"
            ],
            [
             0.5555555555555556,
             "#d8576b"
            ],
            [
             0.6666666666666666,
             "#ed7953"
            ],
            [
             0.7777777777777778,
             "#fb9f3a"
            ],
            [
             0.8888888888888888,
             "#fdca26"
            ],
            [
             1,
             "#f0f921"
            ]
           ],
           "sequentialminus": [
            [
             0,
             "#0d0887"
            ],
            [
             0.1111111111111111,
             "#46039f"
            ],
            [
             0.2222222222222222,
             "#7201a8"
            ],
            [
             0.3333333333333333,
             "#9c179e"
            ],
            [
             0.4444444444444444,
             "#bd3786"
            ],
            [
             0.5555555555555556,
             "#d8576b"
            ],
            [
             0.6666666666666666,
             "#ed7953"
            ],
            [
             0.7777777777777778,
             "#fb9f3a"
            ],
            [
             0.8888888888888888,
             "#fdca26"
            ],
            [
             1,
             "#f0f921"
            ]
           ]
          },
          "colorway": [
           "#636efa",
           "#EF553B",
           "#00cc96",
           "#ab63fa",
           "#FFA15A",
           "#19d3f3",
           "#FF6692",
           "#B6E880",
           "#FF97FF",
           "#FECB52"
          ],
          "font": {
           "color": "#2a3f5f"
          },
          "geo": {
           "bgcolor": "white",
           "lakecolor": "white",
           "landcolor": "#E5ECF6",
           "showlakes": true,
           "showland": true,
           "subunitcolor": "white"
          },
          "hoverlabel": {
           "align": "left"
          },
          "hovermode": "closest",
          "mapbox": {
           "style": "light"
          },
          "paper_bgcolor": "white",
          "plot_bgcolor": "#E5ECF6",
          "polar": {
           "angularaxis": {
            "gridcolor": "white",
            "linecolor": "white",
            "ticks": ""
           },
           "bgcolor": "#E5ECF6",
           "radialaxis": {
            "gridcolor": "white",
            "linecolor": "white",
            "ticks": ""
           }
          },
          "scene": {
           "xaxis": {
            "backgroundcolor": "#E5ECF6",
            "gridcolor": "white",
            "gridwidth": 2,
            "linecolor": "white",
            "showbackground": true,
            "ticks": "",
            "zerolinecolor": "white"
           },
           "yaxis": {
            "backgroundcolor": "#E5ECF6",
            "gridcolor": "white",
            "gridwidth": 2,
            "linecolor": "white",
            "showbackground": true,
            "ticks": "",
            "zerolinecolor": "white"
           },
           "zaxis": {
            "backgroundcolor": "#E5ECF6",
            "gridcolor": "white",
            "gridwidth": 2,
            "linecolor": "white",
            "showbackground": true,
            "ticks": "",
            "zerolinecolor": "white"
           }
          },
          "shapedefaults": {
           "line": {
            "color": "#2a3f5f"
           }
          },
          "ternary": {
           "aaxis": {
            "gridcolor": "white",
            "linecolor": "white",
            "ticks": ""
           },
           "baxis": {
            "gridcolor": "white",
            "linecolor": "white",
            "ticks": ""
           },
           "bgcolor": "#E5ECF6",
           "caxis": {
            "gridcolor": "white",
            "linecolor": "white",
            "ticks": ""
           }
          },
          "title": {
           "x": 0.05
          },
          "xaxis": {
           "automargin": true,
           "gridcolor": "white",
           "linecolor": "white",
           "ticks": "",
           "title": {
            "standoff": 15
           },
           "zerolinecolor": "white",
           "zerolinewidth": 2
          },
          "yaxis": {
           "automargin": true,
           "gridcolor": "white",
           "linecolor": "white",
           "ticks": "",
           "title": {
            "standoff": 15
           },
           "zerolinecolor": "white",
           "zerolinewidth": 2
          }
         }
        },
        "title": {
         "text": "Воронка событий"
        }
       }
      },
      "text/html": [
       "<div>                            <div id=\"ac092d2d-88b8-4c48-9565-e0afa66566e1\" class=\"plotly-graph-div\" style=\"height:525px; width:100%;\"></div>            <script type=\"text/javascript\">                require([\"plotly\"], function(Plotly) {                    window.PLOTLYENV=window.PLOTLYENV || {};                                    if (document.getElementById(\"ac092d2d-88b8-4c48-9565-e0afa66566e1\")) {                    Plotly.newPlot(                        \"ac092d2d-88b8-4c48-9565-e0afa66566e1\",                        [{\"textinfo\":\"value+percent initial\",\"x\":[7156,4380,3571,3399],\"y\":[\"MainScreenAppear\",\"OffersScreenAppear\",\"CartScreenAppear\",\"PaymentScreenSuccessful\"],\"type\":\"funnel\"}],                        {\"template\":{\"data\":{\"bar\":[{\"error_x\":{\"color\":\"#2a3f5f\"},\"error_y\":{\"color\":\"#2a3f5f\"},\"marker\":{\"line\":{\"color\":\"#E5ECF6\",\"width\":0.5},\"pattern\":{\"fillmode\":\"overlay\",\"size\":10,\"solidity\":0.2}},\"type\":\"bar\"}],\"barpolar\":[{\"marker\":{\"line\":{\"color\":\"#E5ECF6\",\"width\":0.5},\"pattern\":{\"fillmode\":\"overlay\",\"size\":10,\"solidity\":0.2}},\"type\":\"barpolar\"}],\"carpet\":[{\"aaxis\":{\"endlinecolor\":\"#2a3f5f\",\"gridcolor\":\"white\",\"linecolor\":\"white\",\"minorgridcolor\":\"white\",\"startlinecolor\":\"#2a3f5f\"},\"baxis\":{\"endlinecolor\":\"#2a3f5f\",\"gridcolor\":\"white\",\"linecolor\":\"white\",\"minorgridcolor\":\"white\",\"startlinecolor\":\"#2a3f5f\"},\"type\":\"carpet\"}],\"choropleth\":[{\"colorbar\":{\"outlinewidth\":0,\"ticks\":\"\"},\"type\":\"choropleth\"}],\"contour\":[{\"colorbar\":{\"outlinewidth\":0,\"ticks\":\"\"},\"colorscale\":[[0.0,\"#0d0887\"],[0.1111111111111111,\"#46039f\"],[0.2222222222222222,\"#7201a8\"],[0.3333333333333333,\"#9c179e\"],[0.4444444444444444,\"#bd3786\"],[0.5555555555555556,\"#d8576b\"],[0.6666666666666666,\"#ed7953\"],[0.7777777777777778,\"#fb9f3a\"],[0.8888888888888888,\"#fdca26\"],[1.0,\"#f0f921\"]],\"type\":\"contour\"}],\"contourcarpet\":[{\"colorbar\":{\"outlinewidth\":0,\"ticks\":\"\"},\"type\":\"contourcarpet\"}],\"heatmap\":[{\"colorbar\":{\"outlinewidth\":0,\"ticks\":\"\"},\"colorscale\":[[0.0,\"#0d0887\"],[0.1111111111111111,\"#46039f\"],[0.2222222222222222,\"#7201a8\"],[0.3333333333333333,\"#9c179e\"],[0.4444444444444444,\"#bd3786\"],[0.5555555555555556,\"#d8576b\"],[0.6666666666666666,\"#ed7953\"],[0.7777777777777778,\"#fb9f3a\"],[0.8888888888888888,\"#fdca26\"],[1.0,\"#f0f921\"]],\"type\":\"heatmap\"}],\"heatmapgl\":[{\"colorbar\":{\"outlinewidth\":0,\"ticks\":\"\"},\"colorscale\":[[0.0,\"#0d0887\"],[0.1111111111111111,\"#46039f\"],[0.2222222222222222,\"#7201a8\"],[0.3333333333333333,\"#9c179e\"],[0.4444444444444444,\"#bd3786\"],[0.5555555555555556,\"#d8576b\"],[0.6666666666666666,\"#ed7953\"],[0.7777777777777778,\"#fb9f3a\"],[0.8888888888888888,\"#fdca26\"],[1.0,\"#f0f921\"]],\"type\":\"heatmapgl\"}],\"histogram\":[{\"marker\":{\"pattern\":{\"fillmode\":\"overlay\",\"size\":10,\"solidity\":0.2}},\"type\":\"histogram\"}],\"histogram2d\":[{\"colorbar\":{\"outlinewidth\":0,\"ticks\":\"\"},\"colorscale\":[[0.0,\"#0d0887\"],[0.1111111111111111,\"#46039f\"],[0.2222222222222222,\"#7201a8\"],[0.3333333333333333,\"#9c179e\"],[0.4444444444444444,\"#bd3786\"],[0.5555555555555556,\"#d8576b\"],[0.6666666666666666,\"#ed7953\"],[0.7777777777777778,\"#fb9f3a\"],[0.8888888888888888,\"#fdca26\"],[1.0,\"#f0f921\"]],\"type\":\"histogram2d\"}],\"histogram2dcontour\":[{\"colorbar\":{\"outlinewidth\":0,\"ticks\":\"\"},\"colorscale\":[[0.0,\"#0d0887\"],[0.1111111111111111,\"#46039f\"],[0.2222222222222222,\"#7201a8\"],[0.3333333333333333,\"#9c179e\"],[0.4444444444444444,\"#bd3786\"],[0.5555555555555556,\"#d8576b\"],[0.6666666666666666,\"#ed7953\"],[0.7777777777777778,\"#fb9f3a\"],[0.8888888888888888,\"#fdca26\"],[1.0,\"#f0f921\"]],\"type\":\"histogram2dcontour\"}],\"mesh3d\":[{\"colorbar\":{\"outlinewidth\":0,\"ticks\":\"\"},\"type\":\"mesh3d\"}],\"parcoords\":[{\"line\":{\"colorbar\":{\"outlinewidth\":0,\"ticks\":\"\"}},\"type\":\"parcoords\"}],\"pie\":[{\"automargin\":true,\"type\":\"pie\"}],\"scatter\":[{\"marker\":{\"colorbar\":{\"outlinewidth\":0,\"ticks\":\"\"}},\"type\":\"scatter\"}],\"scatter3d\":[{\"line\":{\"colorbar\":{\"outlinewidth\":0,\"ticks\":\"\"}},\"marker\":{\"colorbar\":{\"outlinewidth\":0,\"ticks\":\"\"}},\"type\":\"scatter3d\"}],\"scattercarpet\":[{\"marker\":{\"colorbar\":{\"outlinewidth\":0,\"ticks\":\"\"}},\"type\":\"scattercarpet\"}],\"scattergeo\":[{\"marker\":{\"colorbar\":{\"outlinewidth\":0,\"ticks\":\"\"}},\"type\":\"scattergeo\"}],\"scattergl\":[{\"marker\":{\"colorbar\":{\"outlinewidth\":0,\"ticks\":\"\"}},\"type\":\"scattergl\"}],\"scattermapbox\":[{\"marker\":{\"colorbar\":{\"outlinewidth\":0,\"ticks\":\"\"}},\"type\":\"scattermapbox\"}],\"scatterpolar\":[{\"marker\":{\"colorbar\":{\"outlinewidth\":0,\"ticks\":\"\"}},\"type\":\"scatterpolar\"}],\"scatterpolargl\":[{\"marker\":{\"colorbar\":{\"outlinewidth\":0,\"ticks\":\"\"}},\"type\":\"scatterpolargl\"}],\"scatterternary\":[{\"marker\":{\"colorbar\":{\"outlinewidth\":0,\"ticks\":\"\"}},\"type\":\"scatterternary\"}],\"surface\":[{\"colorbar\":{\"outlinewidth\":0,\"ticks\":\"\"},\"colorscale\":[[0.0,\"#0d0887\"],[0.1111111111111111,\"#46039f\"],[0.2222222222222222,\"#7201a8\"],[0.3333333333333333,\"#9c179e\"],[0.4444444444444444,\"#bd3786\"],[0.5555555555555556,\"#d8576b\"],[0.6666666666666666,\"#ed7953\"],[0.7777777777777778,\"#fb9f3a\"],[0.8888888888888888,\"#fdca26\"],[1.0,\"#f0f921\"]],\"type\":\"surface\"}],\"table\":[{\"cells\":{\"fill\":{\"color\":\"#EBF0F8\"},\"line\":{\"color\":\"white\"}},\"header\":{\"fill\":{\"color\":\"#C8D4E3\"},\"line\":{\"color\":\"white\"}},\"type\":\"table\"}]},\"layout\":{\"annotationdefaults\":{\"arrowcolor\":\"#2a3f5f\",\"arrowhead\":0,\"arrowwidth\":1},\"autotypenumbers\":\"strict\",\"coloraxis\":{\"colorbar\":{\"outlinewidth\":0,\"ticks\":\"\"}},\"colorscale\":{\"diverging\":[[0,\"#8e0152\"],[0.1,\"#c51b7d\"],[0.2,\"#de77ae\"],[0.3,\"#f1b6da\"],[0.4,\"#fde0ef\"],[0.5,\"#f7f7f7\"],[0.6,\"#e6f5d0\"],[0.7,\"#b8e186\"],[0.8,\"#7fbc41\"],[0.9,\"#4d9221\"],[1,\"#276419\"]],\"sequential\":[[0.0,\"#0d0887\"],[0.1111111111111111,\"#46039f\"],[0.2222222222222222,\"#7201a8\"],[0.3333333333333333,\"#9c179e\"],[0.4444444444444444,\"#bd3786\"],[0.5555555555555556,\"#d8576b\"],[0.6666666666666666,\"#ed7953\"],[0.7777777777777778,\"#fb9f3a\"],[0.8888888888888888,\"#fdca26\"],[1.0,\"#f0f921\"]],\"sequentialminus\":[[0.0,\"#0d0887\"],[0.1111111111111111,\"#46039f\"],[0.2222222222222222,\"#7201a8\"],[0.3333333333333333,\"#9c179e\"],[0.4444444444444444,\"#bd3786\"],[0.5555555555555556,\"#d8576b\"],[0.6666666666666666,\"#ed7953\"],[0.7777777777777778,\"#fb9f3a\"],[0.8888888888888888,\"#fdca26\"],[1.0,\"#f0f921\"]]},\"colorway\":[\"#636efa\",\"#EF553B\",\"#00cc96\",\"#ab63fa\",\"#FFA15A\",\"#19d3f3\",\"#FF6692\",\"#B6E880\",\"#FF97FF\",\"#FECB52\"],\"font\":{\"color\":\"#2a3f5f\"},\"geo\":{\"bgcolor\":\"white\",\"lakecolor\":\"white\",\"landcolor\":\"#E5ECF6\",\"showlakes\":true,\"showland\":true,\"subunitcolor\":\"white\"},\"hoverlabel\":{\"align\":\"left\"},\"hovermode\":\"closest\",\"mapbox\":{\"style\":\"light\"},\"paper_bgcolor\":\"white\",\"plot_bgcolor\":\"#E5ECF6\",\"polar\":{\"angularaxis\":{\"gridcolor\":\"white\",\"linecolor\":\"white\",\"ticks\":\"\"},\"bgcolor\":\"#E5ECF6\",\"radialaxis\":{\"gridcolor\":\"white\",\"linecolor\":\"white\",\"ticks\":\"\"}},\"scene\":{\"xaxis\":{\"backgroundcolor\":\"#E5ECF6\",\"gridcolor\":\"white\",\"gridwidth\":2,\"linecolor\":\"white\",\"showbackground\":true,\"ticks\":\"\",\"zerolinecolor\":\"white\"},\"yaxis\":{\"backgroundcolor\":\"#E5ECF6\",\"gridcolor\":\"white\",\"gridwidth\":2,\"linecolor\":\"white\",\"showbackground\":true,\"ticks\":\"\",\"zerolinecolor\":\"white\"},\"zaxis\":{\"backgroundcolor\":\"#E5ECF6\",\"gridcolor\":\"white\",\"gridwidth\":2,\"linecolor\":\"white\",\"showbackground\":true,\"ticks\":\"\",\"zerolinecolor\":\"white\"}},\"shapedefaults\":{\"line\":{\"color\":\"#2a3f5f\"}},\"ternary\":{\"aaxis\":{\"gridcolor\":\"white\",\"linecolor\":\"white\",\"ticks\":\"\"},\"baxis\":{\"gridcolor\":\"white\",\"linecolor\":\"white\",\"ticks\":\"\"},\"bgcolor\":\"#E5ECF6\",\"caxis\":{\"gridcolor\":\"white\",\"linecolor\":\"white\",\"ticks\":\"\"}},\"title\":{\"x\":0.05},\"xaxis\":{\"automargin\":true,\"gridcolor\":\"white\",\"linecolor\":\"white\",\"ticks\":\"\",\"title\":{\"standoff\":15},\"zerolinecolor\":\"white\",\"zerolinewidth\":2},\"yaxis\":{\"automargin\":true,\"gridcolor\":\"white\",\"linecolor\":\"white\",\"ticks\":\"\",\"title\":{\"standoff\":15},\"zerolinecolor\":\"white\",\"zerolinewidth\":2}}},\"title\":{\"text\":\"\\u0412\\u043e\\u0440\\u043e\\u043d\\u043a\\u0430 \\u0441\\u043e\\u0431\\u044b\\u0442\\u0438\\u0439\"}},                        {\"responsive\": true}                    ).then(function(){\n",
       "                            \n",
       "var gd = document.getElementById('ac092d2d-88b8-4c48-9565-e0afa66566e1');\n",
       "var x = new MutationObserver(function (mutations, observer) {{\n",
       "        var display = window.getComputedStyle(gd).display;\n",
       "        if (!display || display === 'none') {{\n",
       "            console.log([gd, 'removed!']);\n",
       "            Plotly.purge(gd);\n",
       "            observer.disconnect();\n",
       "        }}\n",
       "}});\n",
       "\n",
       "// Listen for the removal of the full notebook cells\n",
       "var notebookContainer = gd.closest('#notebook-container');\n",
       "if (notebookContainer) {{\n",
       "    x.observe(notebookContainer, {childList: true});\n",
       "}}\n",
       "\n",
       "// Listen for the clearing of the current output cell\n",
       "var outputEl = gd.closest('.output');\n",
       "if (outputEl) {{\n",
       "    x.observe(outputEl, {childList: true});\n",
       "}}\n",
       "\n",
       "                        })                };                });            </script>        </div>"
      ]
     },
     "metadata": {},
     "output_type": "display_data"
    }
   ],
   "source": [
    "fig = go.Figure()\n",
    "fig.add_trace(go.Funnel(\n",
    "    y = clear_events['event_name'], \n",
    "    x = clear_events['users_unique'],\n",
    "    textinfo = \"value+percent initial\"))\n",
    "fig.update_layout(title=\"Воронка событий\")\n",
    "fig.show()"
   ]
  },
  {
   "cell_type": "markdown",
   "id": "ebf2b10a",
   "metadata": {},
   "source": [
    "Визуализация воронки нам показывает, что с главной страницы в каталог товаров добираются 61,2% пользователей. Из каталога в корзину переходит 81,5% (или 49,9% от пользователей, зашедших на главную страницу). А из корзины к успешной оплате доходят 95,2% или 47,5% тех, кто зашел на главную страницу.\n",
    "\n",
    "Плучается, что больше всего пользователей (38,8%) отваливается на этапе отображения главной страницы, а с главной страницы до оплаты доходит лишь 47,5%."
   ]
  },
  {
   "cell_type": "markdown",
   "id": "39003aba",
   "metadata": {},
   "source": [
    "**Вывод**"
   ]
  },
  {
   "cell_type": "markdown",
   "id": "c0f1b27f",
   "metadata": {},
   "source": [
    "Цепочка событий: \n",
    "- пользователь заходит на главную страницу\n",
    "- переходит в каталог товаров\n",
    "- переходит в корзину\n",
    "- покупает товар\n",
    "\n",
    "Больше всего пользователей отваливаются на 1 этапе, скорее всего, есть какие-то проблемы с главной страницей. На остальных этапах уходит значительно меньше пользователей, что не выглядит чем-то аномальным. От главной страницы до успешной оплаты доходит лишь 47,5% пользователей."
   ]
  },
  {
   "cell_type": "markdown",
   "id": "ec28d882",
   "metadata": {},
   "source": [
    "## Анализ результатов эксперимента"
   ]
  },
  {
   "cell_type": "markdown",
   "id": "e03df725",
   "metadata": {},
   "source": [
    "Напомним, сколько пользователей в каждой эксперементальной группе:"
   ]
  },
  {
   "cell_type": "code",
   "execution_count": 21,
   "id": "5d6c94f1",
   "metadata": {},
   "outputs": [
    {
     "data": {
      "text/plain": [
       "group_id\n",
       "246    2393\n",
       "247    2434\n",
       "248    2459\n",
       "Name: user_id, dtype: int64"
      ]
     },
     "execution_count": 21,
     "metadata": {},
     "output_type": "execute_result"
    }
   ],
   "source": [
    "complete_data.groupby('group_id')['user_id'].nunique()"
   ]
  },
  {
   "cell_type": "markdown",
   "id": "3a32a657",
   "metadata": {},
   "source": [
    "Проверим, не попали ли одни и те же пользователи в разные группы."
   ]
  },
  {
   "cell_type": "code",
   "execution_count": 22,
   "id": "4fbff033",
   "metadata": {
    "scrolled": true
   },
   "outputs": [
    {
     "name": "stdout",
     "output_type": "stream",
     "text": [
      "Количество пользователей, попавших во все три группы:0\n"
     ]
    }
   ],
   "source": [
    "wrong_users = np.intersect1d(complete_data.query('group_id == \"246\"')['user_id'].unique(), \n",
    "                                complete_data.query('group_id == \"247\"')['user_id'].unique(),\n",
    "                             complete_data.query('group_id == \"248\"')['user_id'].unique())\n",
    "print(f'Количество пользователей, попавших во все три группы:{len(wrong_users)}')"
   ]
  },
  {
   "cell_type": "code",
   "execution_count": 23,
   "id": "6793bc98",
   "metadata": {},
   "outputs": [],
   "source": [
    "pair_of_group = list(combinations(['246', '247', '248'], r=2))"
   ]
  },
  {
   "cell_type": "code",
   "execution_count": 24,
   "id": "dcbf49b4",
   "metadata": {
    "scrolled": true
   },
   "outputs": [
    {
     "name": "stdout",
     "output_type": "stream",
     "text": [
      "('246', '247')\n",
      "Количество пользователей, попавших в обе группы:0\n",
      "('246', '248')\n",
      "Количество пользователей, попавших в обе группы:0\n",
      "('247', '248')\n",
      "Количество пользователей, попавших в обе группы:0\n"
     ]
    }
   ],
   "source": [
    "for pair in pair_of_group:\n",
    "    print(pair)\n",
    "    wrong_users = np.intersect1d(complete_data.query('group_id == @pair[0]')['user_id'].unique(), \n",
    "                                complete_data.query('group_id == @pair[1]')['user_id'].unique())\n",
    "    print(f'Количество пользователей, попавших в обе группы:{len(wrong_users)}')"
   ]
  },
  {
   "cell_type": "markdown",
   "id": "80d48a0c",
   "metadata": {},
   "source": [
    "### Проверка групп на отсутсвие статистически значимой разницы"
   ]
  },
  {
   "cell_type": "markdown",
   "id": "f288d993",
   "metadata": {},
   "source": [
    "Есть 2 контрольные группы и одна экпериментальнная для А/А/B-эксперимента, чтобы проверить корректность всех механизмов и расчётов. Проверим, находят ли статистические критерии разницу между выборками:\n",
    "\n",
    "* проверку будем осуществлять через z-test\n",
    "* уровень alpha выберем с учетом поправки Бонферрони 0.05/количество тестов\n",
    "\n",
    "Посчитаем число пользователей, совершивших событие в каждой из групп. "
   ]
  },
  {
   "cell_type": "code",
   "execution_count": 25,
   "id": "2c7e163e",
   "metadata": {
    "scrolled": true
   },
   "outputs": [
    {
     "data": {
      "text/html": [
       "<div>\n",
       "<style scoped>\n",
       "    .dataframe tbody tr th:only-of-type {\n",
       "        vertical-align: middle;\n",
       "    }\n",
       "\n",
       "    .dataframe tbody tr th {\n",
       "        vertical-align: top;\n",
       "    }\n",
       "\n",
       "    .dataframe thead th {\n",
       "        text-align: right;\n",
       "    }\n",
       "</style>\n",
       "<table border=\"1\" class=\"dataframe\">\n",
       "  <thead>\n",
       "    <tr style=\"text-align: right;\">\n",
       "      <th>group_id</th>\n",
       "      <th>246</th>\n",
       "      <th>247</th>\n",
       "      <th>248</th>\n",
       "    </tr>\n",
       "    <tr>\n",
       "      <th>event_name</th>\n",
       "      <th></th>\n",
       "      <th></th>\n",
       "      <th></th>\n",
       "    </tr>\n",
       "  </thead>\n",
       "  <tbody>\n",
       "    <tr>\n",
       "      <th>MainScreenAppear</th>\n",
       "      <td>2355</td>\n",
       "      <td>2392</td>\n",
       "      <td>2409</td>\n",
       "    </tr>\n",
       "    <tr>\n",
       "      <th>OffersScreenAppear</th>\n",
       "      <td>1480</td>\n",
       "      <td>1438</td>\n",
       "      <td>1462</td>\n",
       "    </tr>\n",
       "    <tr>\n",
       "      <th>CartScreenAppear</th>\n",
       "      <td>1213</td>\n",
       "      <td>1184</td>\n",
       "      <td>1174</td>\n",
       "    </tr>\n",
       "    <tr>\n",
       "      <th>PaymentScreenSuccessful</th>\n",
       "      <td>1152</td>\n",
       "      <td>1118</td>\n",
       "      <td>1129</td>\n",
       "    </tr>\n",
       "  </tbody>\n",
       "</table>\n",
       "</div>"
      ],
      "text/plain": [
       "group_id                  246   247   248\n",
       "event_name                               \n",
       "MainScreenAppear         2355  2392  2409\n",
       "OffersScreenAppear       1480  1438  1462\n",
       "CartScreenAppear         1213  1184  1174\n",
       "PaymentScreenSuccessful  1152  1118  1129"
      ]
     },
     "execution_count": 25,
     "metadata": {},
     "output_type": "execute_result"
    }
   ],
   "source": [
    "clear_events_groups = complete_data.pivot_table(index='event_name',\n",
    "                                                columns='group_id',\n",
    "                                                values='user_id',\n",
    "                                                aggfunc='nunique').sort_values(\n",
    "                                                    by=246, ascending=False)\n",
    "clear_events_groups = clear_events_groups.query('event_name != \"Tutorial\"')\n",
    "clear_events_groups"
   ]
  },
  {
   "cell_type": "markdown",
   "id": "bab23de4",
   "metadata": {},
   "source": [
    "Посчитаем долю пользователей, совершивших событие."
   ]
  },
  {
   "cell_type": "code",
   "execution_count": 26,
   "id": "db3cec2d",
   "metadata": {
    "scrolled": false
   },
   "outputs": [
    {
     "data": {
      "text/html": [
       "<div>\n",
       "<style scoped>\n",
       "    .dataframe tbody tr th:only-of-type {\n",
       "        vertical-align: middle;\n",
       "    }\n",
       "\n",
       "    .dataframe tbody tr th {\n",
       "        vertical-align: top;\n",
       "    }\n",
       "\n",
       "    .dataframe thead th {\n",
       "        text-align: right;\n",
       "    }\n",
       "</style>\n",
       "<table border=\"1\" class=\"dataframe\">\n",
       "  <thead>\n",
       "    <tr style=\"text-align: right;\">\n",
       "      <th>group_id</th>\n",
       "      <th>246</th>\n",
       "      <th>247</th>\n",
       "      <th>248</th>\n",
       "    </tr>\n",
       "    <tr>\n",
       "      <th>event_name</th>\n",
       "      <th></th>\n",
       "      <th></th>\n",
       "      <th></th>\n",
       "    </tr>\n",
       "  </thead>\n",
       "  <tbody>\n",
       "    <tr>\n",
       "      <th>MainScreenAppear</th>\n",
       "      <td>98.41</td>\n",
       "      <td>98.27</td>\n",
       "      <td>97.97</td>\n",
       "    </tr>\n",
       "    <tr>\n",
       "      <th>OffersScreenAppear</th>\n",
       "      <td>61.85</td>\n",
       "      <td>59.08</td>\n",
       "      <td>59.46</td>\n",
       "    </tr>\n",
       "    <tr>\n",
       "      <th>CartScreenAppear</th>\n",
       "      <td>50.69</td>\n",
       "      <td>48.64</td>\n",
       "      <td>47.74</td>\n",
       "    </tr>\n",
       "    <tr>\n",
       "      <th>PaymentScreenSuccessful</th>\n",
       "      <td>48.14</td>\n",
       "      <td>45.93</td>\n",
       "      <td>45.91</td>\n",
       "    </tr>\n",
       "  </tbody>\n",
       "</table>\n",
       "</div>"
      ],
      "text/plain": [
       "group_id                   246    247    248\n",
       "event_name                                  \n",
       "MainScreenAppear         98.41  98.27  97.97\n",
       "OffersScreenAppear       61.85  59.08  59.46\n",
       "CartScreenAppear         50.69  48.64  47.74\n",
       "PaymentScreenSuccessful  48.14  45.93  45.91"
      ]
     },
     "execution_count": 26,
     "metadata": {},
     "output_type": "execute_result"
    }
   ],
   "source": [
    "round(clear_events_groups/complete_data.groupby('group_id')['user_id'].nunique()*100, 2)"
   ]
  },
  {
   "cell_type": "code",
   "execution_count": 27,
   "id": "4dfb732c",
   "metadata": {
    "scrolled": true
   },
   "outputs": [],
   "source": [
    "clear_events_groups = clear_events_groups.reset_index()"
   ]
  },
  {
   "cell_type": "markdown",
   "id": "41cff6dd",
   "metadata": {},
   "source": [
    "Проверим, будет ли отличие между группами статистически достоверным."
   ]
  },
  {
   "cell_type": "code",
   "execution_count": 28,
   "id": "5b4dcdaf",
   "metadata": {},
   "outputs": [],
   "source": [
    "def z_test(event, group_a, group_2, alpha):\n",
    "\n",
    "    alpha = alpha\n",
    "\n",
    "    # пропорция успехов в первой группе:\n",
    "    p1 = clear_events_groups.query(\n",
    "        \"event_name==@event\")[group_a] / complete_data.groupby(\n",
    "            'group_id')['user_id'].nunique()[group_a]\n",
    "\n",
    "    # пропорция успехов во второй группе:\n",
    "    p2 = clear_events_groups.query(\n",
    "        \"event_name==@event\")[group_2] / complete_data.groupby(\n",
    "            'group_id')['user_id'].nunique()[group_2]\n",
    "\n",
    "    # пропорция успехов в комбинированном датасете:\n",
    "    p_combined = (\n",
    "        clear_events_groups.query(\"event_name==@event\")[group_a] +\n",
    "        clear_events_groups.query(\"event_name==@event\")[group_2]) / (\n",
    "            complete_data.groupby('group_id')['user_id'].nunique()[group_a] +\n",
    "            complete_data.groupby('group_id')['user_id'].nunique()[group_2])\n",
    "\n",
    "    # разница пропорций в датасетах\n",
    "    difference = p1 - p2\n",
    "\n",
    "    # считаем статистику в ст.отклонениях стандартного нормального распределения\n",
    "    z_value = difference / mth.sqrt(\n",
    "        p_combined * (1 - p_combined) *\n",
    "        (1 / complete_data.groupby('group_id')['user_id'].nunique()[group_a] +\n",
    "         1 / complete_data.groupby('group_id')['user_id'].nunique()[group_2]))\n",
    "\n",
    "    # задаем стандартное нормальное распределение (среднее 0, ст.отклонение 1)\n",
    "    distr = st.norm(0, 1)\n",
    "\n",
    "    p_value = (1 - distr.cdf(abs(z_value))) * 2\n",
    "\n",
    "    print(f'{event} p-значение: {p_value}')\n",
    "\n",
    "    if p_value < alpha:\n",
    "        print('Отвергаем нулевую гипотезу: между долями есть значимая разница')\n",
    "    else:\n",
    "        print(\n",
    "            'Не получилось отвергнуть нулевую гипотезу, нет оснований считать доли разными'\n",
    "        )"
   ]
  },
  {
   "cell_type": "code",
   "execution_count": 29,
   "id": "d55fbbe8",
   "metadata": {
    "scrolled": true
   },
   "outputs": [
    {
     "name": "stdout",
     "output_type": "stream",
     "text": [
      "MainScreenAppear ('246', '247')\n",
      "MainScreenAppear p-значение: [0.70812861]\n",
      "Не получилось отвергнуть нулевую гипотезу, нет оснований считать доли разными\n",
      "MainScreenAppear ('246', '248')\n",
      "MainScreenAppear p-значение: [0.24511557]\n",
      "Не получилось отвергнуть нулевую гипотезу, нет оснований считать доли разными\n",
      "MainScreenAppear ('247', '248')\n",
      "MainScreenAppear p-значение: [0.42804175]\n",
      "Не получилось отвергнуть нулевую гипотезу, нет оснований считать доли разными\n",
      "OffersScreenAppear ('246', '247')\n",
      "OffersScreenAppear p-значение: [0.04929589]\n",
      "Не получилось отвергнуть нулевую гипотезу, нет оснований считать доли разными\n",
      "OffersScreenAppear ('246', '248')\n",
      "OffersScreenAppear p-значение: [0.08818847]\n",
      "Не получилось отвергнуть нулевую гипотезу, нет оснований считать доли разными\n",
      "OffersScreenAppear ('247', '248')\n",
      "OffersScreenAppear p-значение: [0.78932242]\n",
      "Не получилось отвергнуть нулевую гипотезу, нет оснований считать доли разными\n",
      "CartScreenAppear ('246', '247')\n",
      "CartScreenAppear p-значение: [0.15531969]\n",
      "Не получилось отвергнуть нулевую гипотезу, нет оснований считать доли разными\n",
      "CartScreenAppear ('246', '248')\n",
      "CartScreenAppear p-значение: [0.0401195]\n",
      "Не получилось отвергнуть нулевую гипотезу, нет оснований считать доли разными\n",
      "CartScreenAppear ('247', '248')\n",
      "CartScreenAppear p-значение: [0.52816519]\n",
      "Не получилось отвергнуть нулевую гипотезу, нет оснований считать доли разными\n",
      "PaymentScreenSuccessful ('246', '247')\n",
      "PaymentScreenSuccessful p-значение: [0.12440118]\n",
      "Не получилось отвергнуть нулевую гипотезу, нет оснований считать доли разными\n",
      "PaymentScreenSuccessful ('246', '248')\n",
      "PaymentScreenSuccessful p-значение: [0.12014029]\n",
      "Не получилось отвергнуть нулевую гипотезу, нет оснований считать доли разными\n",
      "PaymentScreenSuccessful ('247', '248')\n",
      "PaymentScreenSuccessful p-значение: [0.98899766]\n",
      "Не получилось отвергнуть нулевую гипотезу, нет оснований считать доли разными\n"
     ]
    }
   ],
   "source": [
    "for event in clear_events_groups['event_name'].unique():\n",
    "    for pair in pair_of_group:\n",
    "        print(event, pair)\n",
    "        z_test(event, int(pair[0]), int(pair[1]), 0.05/16)"
   ]
  },
  {
   "cell_type": "markdown",
   "id": "30dbf35f",
   "metadata": {},
   "source": [
    "Статистически значимая разница между выборками отсутствует, разбиение на группы работает корректно."
   ]
  },
  {
   "cell_type": "markdown",
   "id": "4e8a2339",
   "metadata": {},
   "source": [
    "### Проверка экспериментальной группы с объединенной контрольной"
   ]
  },
  {
   "cell_type": "markdown",
   "id": "da6830c6",
   "metadata": {},
   "source": [
    "Сравним результаты экспериментальной группы с объединенной контрольной группой по каждому событию."
   ]
  },
  {
   "cell_type": "code",
   "execution_count": 30,
   "id": "21d82ddf",
   "metadata": {},
   "outputs": [],
   "source": [
    "clear_events_groups['249'] = clear_events_groups[246]+clear_events_groups[247]"
   ]
  },
  {
   "cell_type": "code",
   "execution_count": 31,
   "id": "d067c9cc",
   "metadata": {
    "scrolled": true
   },
   "outputs": [
    {
     "name": "stdout",
     "output_type": "stream",
     "text": [
      "MainScreenAppear p-значение: 0.3205137558231854\n",
      "Не получилось отвергнуть нулевую гипотезу, нет оснований считать доли разными\n",
      "OffersScreenAppear p-значение: 0.4765854578515718\n",
      "Не получилось отвергнуть нулевую гипотезу, нет оснований считать доли разными\n",
      "CartScreenAppear p-значение: 0.1802720785759897\n",
      "Не получилось отвергнуть нулевую гипотезу, нет оснований считать доли разными\n",
      "PaymentScreenSuccessful p-значение: 0.4347419670174102\n",
      "Не получилось отвергнуть нулевую гипотезу, нет оснований считать доли разными\n"
     ]
    }
   ],
   "source": [
    "for row in clear_events_groups.values:\n",
    "    \n",
    "    alpha = 0.05/16\n",
    "\n",
    "    # пропорция успехов в первой группе:\n",
    "    p1 = row[4]/(complete_data.groupby('group_id')['user_id'].nunique()[247]+complete_data.groupby('group_id')['user_id'].nunique()[246])\n",
    "\n",
    "    # пропорция успехов во второй группе:\n",
    "    p2 = row[3]/complete_data.groupby('group_id')['user_id'].nunique()[248]\n",
    "\n",
    "    # пропорция успехов в комбинированном датасете:\n",
    "    p_combined = (row[4] + row[3]) / ((complete_data.groupby('group_id')['user_id'].nunique()[247]+complete_data.groupby('group_id')['user_id'].nunique()[246]) + complete_data.groupby('group_id')['user_id'].nunique()[248])\n",
    "\n",
    "    # разница пропорций в датасетах\n",
    "    difference = p1 - p2 \n",
    "\n",
    "    # считаем статистику в ст.отклонениях стандартного нормального распределения\n",
    "    z_value = difference / mth.sqrt(p_combined * (1 - p_combined) * (1/(complete_data.groupby('group_id')['user_id'].nunique()[247]+complete_data.groupby('group_id')['user_id'].nunique()[246]) + 1/complete_data.groupby('group_id')['user_id'].nunique()[248]))\n",
    "\n",
    "    # задаем стандартное нормальное распределение (среднее 0, ст.отклонение 1)\n",
    "    distr = st.norm(0, 1) \n",
    "\n",
    "    # считаем статистику в ст.отклонениях стандартного нормального распределения\n",
    "    z_value = difference / mth.sqrt(\n",
    "        p_combined * (1 - p_combined) * (1 / complete_data.groupby('group_id')['user_id'].nunique()[247] + 1 / complete_data.groupby('group_id')['user_id'].nunique()[248])\n",
    "    )\n",
    "\n",
    "    # задаем стандартное нормальное распределение (среднее 0, ст.отклонение 1)\n",
    "    distr = st.norm(0, 1)\n",
    "\n",
    "    p_value = (1 - distr.cdf(abs(z_value))) * 2\n",
    "\n",
    "    print(f'{row[0]} p-значение: {p_value}')\n",
    "\n",
    "    if p_value < alpha:\n",
    "        print('Отвергаем нулевую гипотезу: между долями есть значимая разница')\n",
    "    else:\n",
    "        print(\n",
    "            'Не получилось отвергнуть нулевую гипотезу, нет оснований считать доли разными'\n",
    "        ) "
   ]
  },
  {
   "cell_type": "markdown",
   "id": "abd30493",
   "metadata": {},
   "source": [
    "Статистически значимой разницы не выявлено."
   ]
  },
  {
   "cell_type": "markdown",
   "id": "0a1cad18",
   "metadata": {},
   "source": [
    "Взглянем на воронку по всем трем группам."
   ]
  },
  {
   "cell_type": "code",
   "execution_count": 34,
   "id": "b69b06b5",
   "metadata": {
    "scrolled": false
   },
   "outputs": [
    {
     "data": {
      "application/vnd.plotly.v1+json": {
       "config": {
        "plotlyServerURL": "https://plot.ly"
       },
       "data": [
        {
         "name": "Group 246",
         "textinfo": "value+percent initial",
         "type": "funnel",
         "x": [
          2355,
          1480,
          1213,
          1152
         ],
         "y": [
          "MainScreenAppear",
          "OffersScreenAppear",
          "CartScreenAppear",
          "PaymentScreenSuccessful"
         ]
        },
        {
         "name": "Group 247",
         "textinfo": "value+percent initial",
         "type": "funnel",
         "x": [
          2392,
          1438,
          1184,
          1118
         ],
         "y": [
          "MainScreenAppear",
          "OffersScreenAppear",
          "CartScreenAppear",
          "PaymentScreenSuccessful"
         ]
        },
        {
         "name": "Group 248",
         "textinfo": "value+percent initial",
         "type": "funnel",
         "x": [
          2409,
          1462,
          1174,
          1129
         ],
         "y": [
          "MainScreenAppear",
          "OffersScreenAppear",
          "CartScreenAppear",
          "PaymentScreenSuccessful"
         ]
        }
       ],
       "layout": {
        "template": {
         "data": {
          "bar": [
           {
            "error_x": {
             "color": "#2a3f5f"
            },
            "error_y": {
             "color": "#2a3f5f"
            },
            "marker": {
             "line": {
              "color": "#E5ECF6",
              "width": 0.5
             },
             "pattern": {
              "fillmode": "overlay",
              "size": 10,
              "solidity": 0.2
             }
            },
            "type": "bar"
           }
          ],
          "barpolar": [
           {
            "marker": {
             "line": {
              "color": "#E5ECF6",
              "width": 0.5
             },
             "pattern": {
              "fillmode": "overlay",
              "size": 10,
              "solidity": 0.2
             }
            },
            "type": "barpolar"
           }
          ],
          "carpet": [
           {
            "aaxis": {
             "endlinecolor": "#2a3f5f",
             "gridcolor": "white",
             "linecolor": "white",
             "minorgridcolor": "white",
             "startlinecolor": "#2a3f5f"
            },
            "baxis": {
             "endlinecolor": "#2a3f5f",
             "gridcolor": "white",
             "linecolor": "white",
             "minorgridcolor": "white",
             "startlinecolor": "#2a3f5f"
            },
            "type": "carpet"
           }
          ],
          "choropleth": [
           {
            "colorbar": {
             "outlinewidth": 0,
             "ticks": ""
            },
            "type": "choropleth"
           }
          ],
          "contour": [
           {
            "colorbar": {
             "outlinewidth": 0,
             "ticks": ""
            },
            "colorscale": [
             [
              0,
              "#0d0887"
             ],
             [
              0.1111111111111111,
              "#46039f"
             ],
             [
              0.2222222222222222,
              "#7201a8"
             ],
             [
              0.3333333333333333,
              "#9c179e"
             ],
             [
              0.4444444444444444,
              "#bd3786"
             ],
             [
              0.5555555555555556,
              "#d8576b"
             ],
             [
              0.6666666666666666,
              "#ed7953"
             ],
             [
              0.7777777777777778,
              "#fb9f3a"
             ],
             [
              0.8888888888888888,
              "#fdca26"
             ],
             [
              1,
              "#f0f921"
             ]
            ],
            "type": "contour"
           }
          ],
          "contourcarpet": [
           {
            "colorbar": {
             "outlinewidth": 0,
             "ticks": ""
            },
            "type": "contourcarpet"
           }
          ],
          "heatmap": [
           {
            "colorbar": {
             "outlinewidth": 0,
             "ticks": ""
            },
            "colorscale": [
             [
              0,
              "#0d0887"
             ],
             [
              0.1111111111111111,
              "#46039f"
             ],
             [
              0.2222222222222222,
              "#7201a8"
             ],
             [
              0.3333333333333333,
              "#9c179e"
             ],
             [
              0.4444444444444444,
              "#bd3786"
             ],
             [
              0.5555555555555556,
              "#d8576b"
             ],
             [
              0.6666666666666666,
              "#ed7953"
             ],
             [
              0.7777777777777778,
              "#fb9f3a"
             ],
             [
              0.8888888888888888,
              "#fdca26"
             ],
             [
              1,
              "#f0f921"
             ]
            ],
            "type": "heatmap"
           }
          ],
          "heatmapgl": [
           {
            "colorbar": {
             "outlinewidth": 0,
             "ticks": ""
            },
            "colorscale": [
             [
              0,
              "#0d0887"
             ],
             [
              0.1111111111111111,
              "#46039f"
             ],
             [
              0.2222222222222222,
              "#7201a8"
             ],
             [
              0.3333333333333333,
              "#9c179e"
             ],
             [
              0.4444444444444444,
              "#bd3786"
             ],
             [
              0.5555555555555556,
              "#d8576b"
             ],
             [
              0.6666666666666666,
              "#ed7953"
             ],
             [
              0.7777777777777778,
              "#fb9f3a"
             ],
             [
              0.8888888888888888,
              "#fdca26"
             ],
             [
              1,
              "#f0f921"
             ]
            ],
            "type": "heatmapgl"
           }
          ],
          "histogram": [
           {
            "marker": {
             "pattern": {
              "fillmode": "overlay",
              "size": 10,
              "solidity": 0.2
             }
            },
            "type": "histogram"
           }
          ],
          "histogram2d": [
           {
            "colorbar": {
             "outlinewidth": 0,
             "ticks": ""
            },
            "colorscale": [
             [
              0,
              "#0d0887"
             ],
             [
              0.1111111111111111,
              "#46039f"
             ],
             [
              0.2222222222222222,
              "#7201a8"
             ],
             [
              0.3333333333333333,
              "#9c179e"
             ],
             [
              0.4444444444444444,
              "#bd3786"
             ],
             [
              0.5555555555555556,
              "#d8576b"
             ],
             [
              0.6666666666666666,
              "#ed7953"
             ],
             [
              0.7777777777777778,
              "#fb9f3a"
             ],
             [
              0.8888888888888888,
              "#fdca26"
             ],
             [
              1,
              "#f0f921"
             ]
            ],
            "type": "histogram2d"
           }
          ],
          "histogram2dcontour": [
           {
            "colorbar": {
             "outlinewidth": 0,
             "ticks": ""
            },
            "colorscale": [
             [
              0,
              "#0d0887"
             ],
             [
              0.1111111111111111,
              "#46039f"
             ],
             [
              0.2222222222222222,
              "#7201a8"
             ],
             [
              0.3333333333333333,
              "#9c179e"
             ],
             [
              0.4444444444444444,
              "#bd3786"
             ],
             [
              0.5555555555555556,
              "#d8576b"
             ],
             [
              0.6666666666666666,
              "#ed7953"
             ],
             [
              0.7777777777777778,
              "#fb9f3a"
             ],
             [
              0.8888888888888888,
              "#fdca26"
             ],
             [
              1,
              "#f0f921"
             ]
            ],
            "type": "histogram2dcontour"
           }
          ],
          "mesh3d": [
           {
            "colorbar": {
             "outlinewidth": 0,
             "ticks": ""
            },
            "type": "mesh3d"
           }
          ],
          "parcoords": [
           {
            "line": {
             "colorbar": {
              "outlinewidth": 0,
              "ticks": ""
             }
            },
            "type": "parcoords"
           }
          ],
          "pie": [
           {
            "automargin": true,
            "type": "pie"
           }
          ],
          "scatter": [
           {
            "marker": {
             "colorbar": {
              "outlinewidth": 0,
              "ticks": ""
             }
            },
            "type": "scatter"
           }
          ],
          "scatter3d": [
           {
            "line": {
             "colorbar": {
              "outlinewidth": 0,
              "ticks": ""
             }
            },
            "marker": {
             "colorbar": {
              "outlinewidth": 0,
              "ticks": ""
             }
            },
            "type": "scatter3d"
           }
          ],
          "scattercarpet": [
           {
            "marker": {
             "colorbar": {
              "outlinewidth": 0,
              "ticks": ""
             }
            },
            "type": "scattercarpet"
           }
          ],
          "scattergeo": [
           {
            "marker": {
             "colorbar": {
              "outlinewidth": 0,
              "ticks": ""
             }
            },
            "type": "scattergeo"
           }
          ],
          "scattergl": [
           {
            "marker": {
             "colorbar": {
              "outlinewidth": 0,
              "ticks": ""
             }
            },
            "type": "scattergl"
           }
          ],
          "scattermapbox": [
           {
            "marker": {
             "colorbar": {
              "outlinewidth": 0,
              "ticks": ""
             }
            },
            "type": "scattermapbox"
           }
          ],
          "scatterpolar": [
           {
            "marker": {
             "colorbar": {
              "outlinewidth": 0,
              "ticks": ""
             }
            },
            "type": "scatterpolar"
           }
          ],
          "scatterpolargl": [
           {
            "marker": {
             "colorbar": {
              "outlinewidth": 0,
              "ticks": ""
             }
            },
            "type": "scatterpolargl"
           }
          ],
          "scatterternary": [
           {
            "marker": {
             "colorbar": {
              "outlinewidth": 0,
              "ticks": ""
             }
            },
            "type": "scatterternary"
           }
          ],
          "surface": [
           {
            "colorbar": {
             "outlinewidth": 0,
             "ticks": ""
            },
            "colorscale": [
             [
              0,
              "#0d0887"
             ],
             [
              0.1111111111111111,
              "#46039f"
             ],
             [
              0.2222222222222222,
              "#7201a8"
             ],
             [
              0.3333333333333333,
              "#9c179e"
             ],
             [
              0.4444444444444444,
              "#bd3786"
             ],
             [
              0.5555555555555556,
              "#d8576b"
             ],
             [
              0.6666666666666666,
              "#ed7953"
             ],
             [
              0.7777777777777778,
              "#fb9f3a"
             ],
             [
              0.8888888888888888,
              "#fdca26"
             ],
             [
              1,
              "#f0f921"
             ]
            ],
            "type": "surface"
           }
          ],
          "table": [
           {
            "cells": {
             "fill": {
              "color": "#EBF0F8"
             },
             "line": {
              "color": "white"
             }
            },
            "header": {
             "fill": {
              "color": "#C8D4E3"
             },
             "line": {
              "color": "white"
             }
            },
            "type": "table"
           }
          ]
         },
         "layout": {
          "annotationdefaults": {
           "arrowcolor": "#2a3f5f",
           "arrowhead": 0,
           "arrowwidth": 1
          },
          "autotypenumbers": "strict",
          "coloraxis": {
           "colorbar": {
            "outlinewidth": 0,
            "ticks": ""
           }
          },
          "colorscale": {
           "diverging": [
            [
             0,
             "#8e0152"
            ],
            [
             0.1,
             "#c51b7d"
            ],
            [
             0.2,
             "#de77ae"
            ],
            [
             0.3,
             "#f1b6da"
            ],
            [
             0.4,
             "#fde0ef"
            ],
            [
             0.5,
             "#f7f7f7"
            ],
            [
             0.6,
             "#e6f5d0"
            ],
            [
             0.7,
             "#b8e186"
            ],
            [
             0.8,
             "#7fbc41"
            ],
            [
             0.9,
             "#4d9221"
            ],
            [
             1,
             "#276419"
            ]
           ],
           "sequential": [
            [
             0,
             "#0d0887"
            ],
            [
             0.1111111111111111,
             "#46039f"
            ],
            [
             0.2222222222222222,
             "#7201a8"
            ],
            [
             0.3333333333333333,
             "#9c179e"
            ],
            [
             0.4444444444444444,
             "#bd3786"
            ],
            [
             0.5555555555555556,
             "#d8576b"
            ],
            [
             0.6666666666666666,
             "#ed7953"
            ],
            [
             0.7777777777777778,
             "#fb9f3a"
            ],
            [
             0.8888888888888888,
             "#fdca26"
            ],
            [
             1,
             "#f0f921"
            ]
           ],
           "sequentialminus": [
            [
             0,
             "#0d0887"
            ],
            [
             0.1111111111111111,
             "#46039f"
            ],
            [
             0.2222222222222222,
             "#7201a8"
            ],
            [
             0.3333333333333333,
             "#9c179e"
            ],
            [
             0.4444444444444444,
             "#bd3786"
            ],
            [
             0.5555555555555556,
             "#d8576b"
            ],
            [
             0.6666666666666666,
             "#ed7953"
            ],
            [
             0.7777777777777778,
             "#fb9f3a"
            ],
            [
             0.8888888888888888,
             "#fdca26"
            ],
            [
             1,
             "#f0f921"
            ]
           ]
          },
          "colorway": [
           "#636efa",
           "#EF553B",
           "#00cc96",
           "#ab63fa",
           "#FFA15A",
           "#19d3f3",
           "#FF6692",
           "#B6E880",
           "#FF97FF",
           "#FECB52"
          ],
          "font": {
           "color": "#2a3f5f"
          },
          "geo": {
           "bgcolor": "white",
           "lakecolor": "white",
           "landcolor": "#E5ECF6",
           "showlakes": true,
           "showland": true,
           "subunitcolor": "white"
          },
          "hoverlabel": {
           "align": "left"
          },
          "hovermode": "closest",
          "mapbox": {
           "style": "light"
          },
          "paper_bgcolor": "white",
          "plot_bgcolor": "#E5ECF6",
          "polar": {
           "angularaxis": {
            "gridcolor": "white",
            "linecolor": "white",
            "ticks": ""
           },
           "bgcolor": "#E5ECF6",
           "radialaxis": {
            "gridcolor": "white",
            "linecolor": "white",
            "ticks": ""
           }
          },
          "scene": {
           "xaxis": {
            "backgroundcolor": "#E5ECF6",
            "gridcolor": "white",
            "gridwidth": 2,
            "linecolor": "white",
            "showbackground": true,
            "ticks": "",
            "zerolinecolor": "white"
           },
           "yaxis": {
            "backgroundcolor": "#E5ECF6",
            "gridcolor": "white",
            "gridwidth": 2,
            "linecolor": "white",
            "showbackground": true,
            "ticks": "",
            "zerolinecolor": "white"
           },
           "zaxis": {
            "backgroundcolor": "#E5ECF6",
            "gridcolor": "white",
            "gridwidth": 2,
            "linecolor": "white",
            "showbackground": true,
            "ticks": "",
            "zerolinecolor": "white"
           }
          },
          "shapedefaults": {
           "line": {
            "color": "#2a3f5f"
           }
          },
          "ternary": {
           "aaxis": {
            "gridcolor": "white",
            "linecolor": "white",
            "ticks": ""
           },
           "baxis": {
            "gridcolor": "white",
            "linecolor": "white",
            "ticks": ""
           },
           "bgcolor": "#E5ECF6",
           "caxis": {
            "gridcolor": "white",
            "linecolor": "white",
            "ticks": ""
           }
          },
          "title": {
           "x": 0.05
          },
          "xaxis": {
           "automargin": true,
           "gridcolor": "white",
           "linecolor": "white",
           "ticks": "",
           "title": {
            "standoff": 15
           },
           "zerolinecolor": "white",
           "zerolinewidth": 2
          },
          "yaxis": {
           "automargin": true,
           "gridcolor": "white",
           "linecolor": "white",
           "ticks": "",
           "title": {
            "standoff": 15
           },
           "zerolinecolor": "white",
           "zerolinewidth": 2
          }
         }
        },
        "title": {
         "text": "Воронка событий"
        }
       }
      },
      "text/html": [
       "<div>                            <div id=\"ef22758d-b8c5-4622-8a35-c3949ebd8510\" class=\"plotly-graph-div\" style=\"height:525px; width:100%;\"></div>            <script type=\"text/javascript\">                require([\"plotly\"], function(Plotly) {                    window.PLOTLYENV=window.PLOTLYENV || {};                                    if (document.getElementById(\"ef22758d-b8c5-4622-8a35-c3949ebd8510\")) {                    Plotly.newPlot(                        \"ef22758d-b8c5-4622-8a35-c3949ebd8510\",                        [{\"name\":\"Group 246\",\"textinfo\":\"value+percent initial\",\"x\":[2355,1480,1213,1152],\"y\":[\"MainScreenAppear\",\"OffersScreenAppear\",\"CartScreenAppear\",\"PaymentScreenSuccessful\"],\"type\":\"funnel\"},{\"name\":\"Group 247\",\"textinfo\":\"value+percent initial\",\"x\":[2392,1438,1184,1118],\"y\":[\"MainScreenAppear\",\"OffersScreenAppear\",\"CartScreenAppear\",\"PaymentScreenSuccessful\"],\"type\":\"funnel\"},{\"name\":\"Group 248\",\"textinfo\":\"value+percent initial\",\"x\":[2409,1462,1174,1129],\"y\":[\"MainScreenAppear\",\"OffersScreenAppear\",\"CartScreenAppear\",\"PaymentScreenSuccessful\"],\"type\":\"funnel\"}],                        {\"template\":{\"data\":{\"bar\":[{\"error_x\":{\"color\":\"#2a3f5f\"},\"error_y\":{\"color\":\"#2a3f5f\"},\"marker\":{\"line\":{\"color\":\"#E5ECF6\",\"width\":0.5},\"pattern\":{\"fillmode\":\"overlay\",\"size\":10,\"solidity\":0.2}},\"type\":\"bar\"}],\"barpolar\":[{\"marker\":{\"line\":{\"color\":\"#E5ECF6\",\"width\":0.5},\"pattern\":{\"fillmode\":\"overlay\",\"size\":10,\"solidity\":0.2}},\"type\":\"barpolar\"}],\"carpet\":[{\"aaxis\":{\"endlinecolor\":\"#2a3f5f\",\"gridcolor\":\"white\",\"linecolor\":\"white\",\"minorgridcolor\":\"white\",\"startlinecolor\":\"#2a3f5f\"},\"baxis\":{\"endlinecolor\":\"#2a3f5f\",\"gridcolor\":\"white\",\"linecolor\":\"white\",\"minorgridcolor\":\"white\",\"startlinecolor\":\"#2a3f5f\"},\"type\":\"carpet\"}],\"choropleth\":[{\"colorbar\":{\"outlinewidth\":0,\"ticks\":\"\"},\"type\":\"choropleth\"}],\"contour\":[{\"colorbar\":{\"outlinewidth\":0,\"ticks\":\"\"},\"colorscale\":[[0.0,\"#0d0887\"],[0.1111111111111111,\"#46039f\"],[0.2222222222222222,\"#7201a8\"],[0.3333333333333333,\"#9c179e\"],[0.4444444444444444,\"#bd3786\"],[0.5555555555555556,\"#d8576b\"],[0.6666666666666666,\"#ed7953\"],[0.7777777777777778,\"#fb9f3a\"],[0.8888888888888888,\"#fdca26\"],[1.0,\"#f0f921\"]],\"type\":\"contour\"}],\"contourcarpet\":[{\"colorbar\":{\"outlinewidth\":0,\"ticks\":\"\"},\"type\":\"contourcarpet\"}],\"heatmap\":[{\"colorbar\":{\"outlinewidth\":0,\"ticks\":\"\"},\"colorscale\":[[0.0,\"#0d0887\"],[0.1111111111111111,\"#46039f\"],[0.2222222222222222,\"#7201a8\"],[0.3333333333333333,\"#9c179e\"],[0.4444444444444444,\"#bd3786\"],[0.5555555555555556,\"#d8576b\"],[0.6666666666666666,\"#ed7953\"],[0.7777777777777778,\"#fb9f3a\"],[0.8888888888888888,\"#fdca26\"],[1.0,\"#f0f921\"]],\"type\":\"heatmap\"}],\"heatmapgl\":[{\"colorbar\":{\"outlinewidth\":0,\"ticks\":\"\"},\"colorscale\":[[0.0,\"#0d0887\"],[0.1111111111111111,\"#46039f\"],[0.2222222222222222,\"#7201a8\"],[0.3333333333333333,\"#9c179e\"],[0.4444444444444444,\"#bd3786\"],[0.5555555555555556,\"#d8576b\"],[0.6666666666666666,\"#ed7953\"],[0.7777777777777778,\"#fb9f3a\"],[0.8888888888888888,\"#fdca26\"],[1.0,\"#f0f921\"]],\"type\":\"heatmapgl\"}],\"histogram\":[{\"marker\":{\"pattern\":{\"fillmode\":\"overlay\",\"size\":10,\"solidity\":0.2}},\"type\":\"histogram\"}],\"histogram2d\":[{\"colorbar\":{\"outlinewidth\":0,\"ticks\":\"\"},\"colorscale\":[[0.0,\"#0d0887\"],[0.1111111111111111,\"#46039f\"],[0.2222222222222222,\"#7201a8\"],[0.3333333333333333,\"#9c179e\"],[0.4444444444444444,\"#bd3786\"],[0.5555555555555556,\"#d8576b\"],[0.6666666666666666,\"#ed7953\"],[0.7777777777777778,\"#fb9f3a\"],[0.8888888888888888,\"#fdca26\"],[1.0,\"#f0f921\"]],\"type\":\"histogram2d\"}],\"histogram2dcontour\":[{\"colorbar\":{\"outlinewidth\":0,\"ticks\":\"\"},\"colorscale\":[[0.0,\"#0d0887\"],[0.1111111111111111,\"#46039f\"],[0.2222222222222222,\"#7201a8\"],[0.3333333333333333,\"#9c179e\"],[0.4444444444444444,\"#bd3786\"],[0.5555555555555556,\"#d8576b\"],[0.6666666666666666,\"#ed7953\"],[0.7777777777777778,\"#fb9f3a\"],[0.8888888888888888,\"#fdca26\"],[1.0,\"#f0f921\"]],\"type\":\"histogram2dcontour\"}],\"mesh3d\":[{\"colorbar\":{\"outlinewidth\":0,\"ticks\":\"\"},\"type\":\"mesh3d\"}],\"parcoords\":[{\"line\":{\"colorbar\":{\"outlinewidth\":0,\"ticks\":\"\"}},\"type\":\"parcoords\"}],\"pie\":[{\"automargin\":true,\"type\":\"pie\"}],\"scatter\":[{\"marker\":{\"colorbar\":{\"outlinewidth\":0,\"ticks\":\"\"}},\"type\":\"scatter\"}],\"scatter3d\":[{\"line\":{\"colorbar\":{\"outlinewidth\":0,\"ticks\":\"\"}},\"marker\":{\"colorbar\":{\"outlinewidth\":0,\"ticks\":\"\"}},\"type\":\"scatter3d\"}],\"scattercarpet\":[{\"marker\":{\"colorbar\":{\"outlinewidth\":0,\"ticks\":\"\"}},\"type\":\"scattercarpet\"}],\"scattergeo\":[{\"marker\":{\"colorbar\":{\"outlinewidth\":0,\"ticks\":\"\"}},\"type\":\"scattergeo\"}],\"scattergl\":[{\"marker\":{\"colorbar\":{\"outlinewidth\":0,\"ticks\":\"\"}},\"type\":\"scattergl\"}],\"scattermapbox\":[{\"marker\":{\"colorbar\":{\"outlinewidth\":0,\"ticks\":\"\"}},\"type\":\"scattermapbox\"}],\"scatterpolar\":[{\"marker\":{\"colorbar\":{\"outlinewidth\":0,\"ticks\":\"\"}},\"type\":\"scatterpolar\"}],\"scatterpolargl\":[{\"marker\":{\"colorbar\":{\"outlinewidth\":0,\"ticks\":\"\"}},\"type\":\"scatterpolargl\"}],\"scatterternary\":[{\"marker\":{\"colorbar\":{\"outlinewidth\":0,\"ticks\":\"\"}},\"type\":\"scatterternary\"}],\"surface\":[{\"colorbar\":{\"outlinewidth\":0,\"ticks\":\"\"},\"colorscale\":[[0.0,\"#0d0887\"],[0.1111111111111111,\"#46039f\"],[0.2222222222222222,\"#7201a8\"],[0.3333333333333333,\"#9c179e\"],[0.4444444444444444,\"#bd3786\"],[0.5555555555555556,\"#d8576b\"],[0.6666666666666666,\"#ed7953\"],[0.7777777777777778,\"#fb9f3a\"],[0.8888888888888888,\"#fdca26\"],[1.0,\"#f0f921\"]],\"type\":\"surface\"}],\"table\":[{\"cells\":{\"fill\":{\"color\":\"#EBF0F8\"},\"line\":{\"color\":\"white\"}},\"header\":{\"fill\":{\"color\":\"#C8D4E3\"},\"line\":{\"color\":\"white\"}},\"type\":\"table\"}]},\"layout\":{\"annotationdefaults\":{\"arrowcolor\":\"#2a3f5f\",\"arrowhead\":0,\"arrowwidth\":1},\"autotypenumbers\":\"strict\",\"coloraxis\":{\"colorbar\":{\"outlinewidth\":0,\"ticks\":\"\"}},\"colorscale\":{\"diverging\":[[0,\"#8e0152\"],[0.1,\"#c51b7d\"],[0.2,\"#de77ae\"],[0.3,\"#f1b6da\"],[0.4,\"#fde0ef\"],[0.5,\"#f7f7f7\"],[0.6,\"#e6f5d0\"],[0.7,\"#b8e186\"],[0.8,\"#7fbc41\"],[0.9,\"#4d9221\"],[1,\"#276419\"]],\"sequential\":[[0.0,\"#0d0887\"],[0.1111111111111111,\"#46039f\"],[0.2222222222222222,\"#7201a8\"],[0.3333333333333333,\"#9c179e\"],[0.4444444444444444,\"#bd3786\"],[0.5555555555555556,\"#d8576b\"],[0.6666666666666666,\"#ed7953\"],[0.7777777777777778,\"#fb9f3a\"],[0.8888888888888888,\"#fdca26\"],[1.0,\"#f0f921\"]],\"sequentialminus\":[[0.0,\"#0d0887\"],[0.1111111111111111,\"#46039f\"],[0.2222222222222222,\"#7201a8\"],[0.3333333333333333,\"#9c179e\"],[0.4444444444444444,\"#bd3786\"],[0.5555555555555556,\"#d8576b\"],[0.6666666666666666,\"#ed7953\"],[0.7777777777777778,\"#fb9f3a\"],[0.8888888888888888,\"#fdca26\"],[1.0,\"#f0f921\"]]},\"colorway\":[\"#636efa\",\"#EF553B\",\"#00cc96\",\"#ab63fa\",\"#FFA15A\",\"#19d3f3\",\"#FF6692\",\"#B6E880\",\"#FF97FF\",\"#FECB52\"],\"font\":{\"color\":\"#2a3f5f\"},\"geo\":{\"bgcolor\":\"white\",\"lakecolor\":\"white\",\"landcolor\":\"#E5ECF6\",\"showlakes\":true,\"showland\":true,\"subunitcolor\":\"white\"},\"hoverlabel\":{\"align\":\"left\"},\"hovermode\":\"closest\",\"mapbox\":{\"style\":\"light\"},\"paper_bgcolor\":\"white\",\"plot_bgcolor\":\"#E5ECF6\",\"polar\":{\"angularaxis\":{\"gridcolor\":\"white\",\"linecolor\":\"white\",\"ticks\":\"\"},\"bgcolor\":\"#E5ECF6\",\"radialaxis\":{\"gridcolor\":\"white\",\"linecolor\":\"white\",\"ticks\":\"\"}},\"scene\":{\"xaxis\":{\"backgroundcolor\":\"#E5ECF6\",\"gridcolor\":\"white\",\"gridwidth\":2,\"linecolor\":\"white\",\"showbackground\":true,\"ticks\":\"\",\"zerolinecolor\":\"white\"},\"yaxis\":{\"backgroundcolor\":\"#E5ECF6\",\"gridcolor\":\"white\",\"gridwidth\":2,\"linecolor\":\"white\",\"showbackground\":true,\"ticks\":\"\",\"zerolinecolor\":\"white\"},\"zaxis\":{\"backgroundcolor\":\"#E5ECF6\",\"gridcolor\":\"white\",\"gridwidth\":2,\"linecolor\":\"white\",\"showbackground\":true,\"ticks\":\"\",\"zerolinecolor\":\"white\"}},\"shapedefaults\":{\"line\":{\"color\":\"#2a3f5f\"}},\"ternary\":{\"aaxis\":{\"gridcolor\":\"white\",\"linecolor\":\"white\",\"ticks\":\"\"},\"baxis\":{\"gridcolor\":\"white\",\"linecolor\":\"white\",\"ticks\":\"\"},\"bgcolor\":\"#E5ECF6\",\"caxis\":{\"gridcolor\":\"white\",\"linecolor\":\"white\",\"ticks\":\"\"}},\"title\":{\"x\":0.05},\"xaxis\":{\"automargin\":true,\"gridcolor\":\"white\",\"linecolor\":\"white\",\"ticks\":\"\",\"title\":{\"standoff\":15},\"zerolinecolor\":\"white\",\"zerolinewidth\":2},\"yaxis\":{\"automargin\":true,\"gridcolor\":\"white\",\"linecolor\":\"white\",\"ticks\":\"\",\"title\":{\"standoff\":15},\"zerolinecolor\":\"white\",\"zerolinewidth\":2}}},\"title\":{\"text\":\"\\u0412\\u043e\\u0440\\u043e\\u043d\\u043a\\u0430 \\u0441\\u043e\\u0431\\u044b\\u0442\\u0438\\u0439\"}},                        {\"responsive\": true}                    ).then(function(){\n",
       "                            \n",
       "var gd = document.getElementById('ef22758d-b8c5-4622-8a35-c3949ebd8510');\n",
       "var x = new MutationObserver(function (mutations, observer) {{\n",
       "        var display = window.getComputedStyle(gd).display;\n",
       "        if (!display || display === 'none') {{\n",
       "            console.log([gd, 'removed!']);\n",
       "            Plotly.purge(gd);\n",
       "            observer.disconnect();\n",
       "        }}\n",
       "}});\n",
       "\n",
       "// Listen for the removal of the full notebook cells\n",
       "var notebookContainer = gd.closest('#notebook-container');\n",
       "if (notebookContainer) {{\n",
       "    x.observe(notebookContainer, {childList: true});\n",
       "}}\n",
       "\n",
       "// Listen for the clearing of the current output cell\n",
       "var outputEl = gd.closest('.output');\n",
       "if (outputEl) {{\n",
       "    x.observe(outputEl, {childList: true});\n",
       "}}\n",
       "\n",
       "                        })                };                });            </script>        </div>"
      ]
     },
     "metadata": {},
     "output_type": "display_data"
    }
   ],
   "source": [
    "fig = go.Figure()\n",
    "\n",
    "fig.add_trace(go.Funnel(\n",
    "    name = 'Group 246',\n",
    "    y = clear_events_groups['event_name'],\n",
    "    x = clear_events_groups[246],\n",
    "    textinfo = \"value+percent initial\"))\n",
    "\n",
    "fig.add_trace(go.Funnel(\n",
    "    name = 'Group 247',\n",
    "    y = clear_events_groups['event_name'],\n",
    "    x = clear_events_groups[247],\n",
    "    textinfo = \"value+percent initial\"))\n",
    "\n",
    "fig.add_trace(go.Funnel(\n",
    "    name = 'Group 248',\n",
    "    y = clear_events_groups['event_name'],\n",
    "    x = clear_events_groups[248],\n",
    "    textinfo = \"value+percent initial\"))\n",
    "fig.update_layout(title=\"Воронка событий\")\n",
    "fig.show()"
   ]
  },
  {
   "cell_type": "markdown",
   "id": "971b23d7",
   "metadata": {},
   "source": [
    "**Вывод:**\n",
    "\n",
    "Проверив все три группы и сравних их друг с другом каких-либо значимых различий выявлено не было."
   ]
  },
  {
   "cell_type": "markdown",
   "id": "10ae474a",
   "metadata": {},
   "source": [
    "## Вывод"
   ]
  },
  {
   "cell_type": "markdown",
   "id": "6b9f452f",
   "metadata": {},
   "source": [
    "Стартап, продающий продукты питания хотел разобраться, как ведут себя пользователи его мобильного приложения.\n",
    "\n",
    "В ходе исследования: \n",
    "- проведена предобработка и подготовка данных\n",
    "- изучена воронка продаж\n",
    "- выстроена цепочка событий\n",
    "- исследованы результаты A/A/B-эксперимента\n",
    "- выяснено, какой шрифт лучше\n",
    "\n",
    "Подробнее:\n",
    "\n",
    "Для целей исследования были взятые данные с 01.08.2019 по 07.08.2019, так как полные данные в логе были именно за этот период.\n",
    "\n",
    "Цепочка событий выглядит следующим образом\n",
    "\n",
    "> пользователь заходит на главную страницу -> переходит в каталог товаров -> переходит в корзину -> оплачивает покупку\n",
    "\n",
    "C главной страницы в каталог товаров добираются лишь `61,2%` пользователей. Из каталога в корзину переходит `81,5%` (или `49,9%` от пользователей, зашедших на главную страницу). А из корзины к успешной оплате доходят `95,2%` или `47,5%` тех, кто зашел на главную страницу.\n",
    "\n",
    "Больше всего пользователей - `38,8%` отваливается на этапе отображения главной страницы, а с главной страницы до оплаты доходит лишь `47,5%`. Исходя из этого мы предполагаем, что с главной страницей что-то не так, следует проанализировать поведение пользователей на главной странице, чтобы попробовать разобраться, в чем дело.\n",
    "\n",
    "Было проведено 16 проверок статистических гипотез с уровнем значимости 0.01 - но ни одно из них не показала статистически значимой разницы.\n",
    "\n",
    "Исследование результатов A/A/B-эксперимента показало, что новый шрифт никак ощутимо не влияет на поведение пользователей."
   ]
  }
 ],
 "metadata": {
  "ExecuteTimeLog": [
   {
    "duration": 1567,
    "start_time": "2022-04-01T04:53:04.260Z"
   },
   {
    "duration": 195,
    "start_time": "2022-04-01T04:53:05.830Z"
   },
   {
    "duration": 0,
    "start_time": "2022-04-01T04:53:06.029Z"
   },
   {
    "duration": 0,
    "start_time": "2022-04-01T04:53:06.030Z"
   },
   {
    "duration": 0,
    "start_time": "2022-04-01T04:53:06.032Z"
   },
   {
    "duration": 0,
    "start_time": "2022-04-01T04:53:06.033Z"
   },
   {
    "duration": 0,
    "start_time": "2022-04-01T04:53:06.034Z"
   },
   {
    "duration": 0,
    "start_time": "2022-04-01T04:53:06.036Z"
   },
   {
    "duration": 0,
    "start_time": "2022-04-01T04:53:06.037Z"
   },
   {
    "duration": 0,
    "start_time": "2022-04-01T04:53:06.039Z"
   },
   {
    "duration": 0,
    "start_time": "2022-04-01T04:53:06.040Z"
   },
   {
    "duration": 0,
    "start_time": "2022-04-01T04:53:06.041Z"
   },
   {
    "duration": 0,
    "start_time": "2022-04-01T04:53:06.043Z"
   },
   {
    "duration": 0,
    "start_time": "2022-04-01T04:53:06.044Z"
   },
   {
    "duration": 0,
    "start_time": "2022-04-01T04:53:06.074Z"
   },
   {
    "duration": 0,
    "start_time": "2022-04-01T04:53:06.076Z"
   },
   {
    "duration": 0,
    "start_time": "2022-04-01T04:53:06.077Z"
   },
   {
    "duration": 0,
    "start_time": "2022-04-01T04:53:06.078Z"
   },
   {
    "duration": 0,
    "start_time": "2022-04-01T04:53:06.080Z"
   },
   {
    "duration": 0,
    "start_time": "2022-04-01T04:53:06.081Z"
   },
   {
    "duration": 0,
    "start_time": "2022-04-01T04:53:06.083Z"
   },
   {
    "duration": 0,
    "start_time": "2022-04-01T04:53:06.084Z"
   },
   {
    "duration": 0,
    "start_time": "2022-04-01T04:53:06.085Z"
   },
   {
    "duration": 0,
    "start_time": "2022-04-01T04:53:06.087Z"
   },
   {
    "duration": 0,
    "start_time": "2022-04-01T04:53:06.088Z"
   },
   {
    "duration": 0,
    "start_time": "2022-04-01T04:53:06.090Z"
   },
   {
    "duration": 0,
    "start_time": "2022-04-01T04:53:06.092Z"
   },
   {
    "duration": 0,
    "start_time": "2022-04-01T04:53:06.093Z"
   },
   {
    "duration": 0,
    "start_time": "2022-04-01T04:53:06.094Z"
   },
   {
    "duration": 0,
    "start_time": "2022-04-01T04:53:06.096Z"
   },
   {
    "duration": 0,
    "start_time": "2022-04-01T04:53:06.097Z"
   },
   {
    "duration": 239,
    "start_time": "2022-04-01T04:56:59.554Z"
   },
   {
    "duration": 1529,
    "start_time": "2022-04-01T04:57:04.198Z"
   },
   {
    "duration": 237,
    "start_time": "2022-04-01T04:57:05.730Z"
   },
   {
    "duration": 30,
    "start_time": "2022-04-01T04:57:05.969Z"
   },
   {
    "duration": 23,
    "start_time": "2022-04-01T04:57:06.002Z"
   },
   {
    "duration": 10,
    "start_time": "2022-04-01T04:57:06.027Z"
   },
   {
    "duration": 14,
    "start_time": "2022-04-01T04:57:06.074Z"
   },
   {
    "duration": 196,
    "start_time": "2022-04-01T04:57:06.091Z"
   },
   {
    "duration": 97,
    "start_time": "2022-04-01T04:57:06.290Z"
   },
   {
    "duration": 119,
    "start_time": "2022-04-01T04:57:06.389Z"
   },
   {
    "duration": 28,
    "start_time": "2022-04-01T04:57:06.511Z"
   },
   {
    "duration": 33,
    "start_time": "2022-04-01T04:57:06.541Z"
   },
   {
    "duration": 6,
    "start_time": "2022-04-01T04:57:06.576Z"
   },
   {
    "duration": 459,
    "start_time": "2022-04-01T04:57:06.584Z"
   },
   {
    "duration": 29,
    "start_time": "2022-04-01T04:57:07.045Z"
   },
   {
    "duration": 24,
    "start_time": "2022-04-01T04:57:07.076Z"
   },
   {
    "duration": 32,
    "start_time": "2022-04-01T04:57:07.102Z"
   },
   {
    "duration": 114,
    "start_time": "2022-04-01T04:57:07.137Z"
   },
   {
    "duration": 37,
    "start_time": "2022-04-01T04:57:07.254Z"
   },
   {
    "duration": 6,
    "start_time": "2022-04-01T04:57:07.293Z"
   },
   {
    "duration": 227,
    "start_time": "2022-04-01T04:57:07.301Z"
   },
   {
    "duration": 62,
    "start_time": "2022-04-01T04:57:07.530Z"
   },
   {
    "duration": 90,
    "start_time": "2022-04-01T04:57:07.594Z"
   },
   {
    "duration": 140,
    "start_time": "2022-04-01T04:57:07.686Z"
   },
   {
    "duration": 57,
    "start_time": "2022-04-01T04:57:07.828Z"
   },
   {
    "duration": 6,
    "start_time": "2022-04-01T04:57:07.887Z"
   },
   {
    "duration": 839,
    "start_time": "2022-04-01T04:57:07.895Z"
   },
   {
    "duration": 939,
    "start_time": "2022-04-01T04:57:08.736Z"
   },
   {
    "duration": 1137,
    "start_time": "2022-04-01T04:57:09.679Z"
   },
   {
    "duration": 5,
    "start_time": "2022-04-01T04:57:10.818Z"
   },
   {
    "duration": 1182,
    "start_time": "2022-04-01T04:57:10.826Z"
   },
   {
    "duration": 19,
    "start_time": "2022-04-01T04:57:12.011Z"
   },
   {
    "duration": 10,
    "start_time": "2022-04-01T05:02:13.667Z"
   },
   {
    "duration": 18,
    "start_time": "2022-04-01T05:02:43.959Z"
   },
   {
    "duration": 4,
    "start_time": "2022-04-01T05:18:42.200Z"
   },
   {
    "duration": 4,
    "start_time": "2022-04-01T05:19:12.054Z"
   },
   {
    "duration": 5,
    "start_time": "2022-04-01T05:19:30.408Z"
   },
   {
    "duration": 10,
    "start_time": "2022-04-01T05:20:01.108Z"
   },
   {
    "duration": 4,
    "start_time": "2022-04-01T05:20:18.909Z"
   },
   {
    "duration": 5,
    "start_time": "2022-04-01T05:20:27.158Z"
   },
   {
    "duration": 3,
    "start_time": "2022-04-01T05:20:40.704Z"
   },
   {
    "duration": 6,
    "start_time": "2022-04-01T05:20:45.670Z"
   },
   {
    "duration": 3,
    "start_time": "2022-04-01T05:20:53.868Z"
   },
   {
    "duration": 8,
    "start_time": "2022-04-01T05:20:54.597Z"
   },
   {
    "duration": 11917,
    "start_time": "2022-04-01T07:29:52.504Z"
   },
   {
    "duration": 85,
    "start_time": "2022-04-01T07:30:29.171Z"
   },
   {
    "duration": 1899,
    "start_time": "2022-04-01T07:30:35.807Z"
   },
   {
    "duration": 337,
    "start_time": "2022-04-01T07:30:37.709Z"
   },
   {
    "duration": 28,
    "start_time": "2022-04-01T07:30:38.048Z"
   },
   {
    "duration": 22,
    "start_time": "2022-04-01T07:30:38.079Z"
   },
   {
    "duration": 9,
    "start_time": "2022-04-01T07:30:38.103Z"
   },
   {
    "duration": 14,
    "start_time": "2022-04-01T07:30:38.142Z"
   },
   {
    "duration": 188,
    "start_time": "2022-04-01T07:30:38.158Z"
   },
   {
    "duration": 100,
    "start_time": "2022-04-01T07:30:38.349Z"
   },
   {
    "duration": 111,
    "start_time": "2022-04-01T07:30:38.451Z"
   },
   {
    "duration": 27,
    "start_time": "2022-04-01T07:30:38.566Z"
   },
   {
    "duration": 12,
    "start_time": "2022-04-01T07:30:38.595Z"
   },
   {
    "duration": 35,
    "start_time": "2022-04-01T07:30:38.610Z"
   },
   {
    "duration": 427,
    "start_time": "2022-04-01T07:30:38.647Z"
   },
   {
    "duration": 15,
    "start_time": "2022-04-01T07:30:39.076Z"
   },
   {
    "duration": 22,
    "start_time": "2022-04-01T07:30:39.094Z"
   },
   {
    "duration": 32,
    "start_time": "2022-04-01T07:30:39.142Z"
   },
   {
    "duration": 107,
    "start_time": "2022-04-01T07:30:39.176Z"
   },
   {
    "duration": 24,
    "start_time": "2022-04-01T07:30:39.285Z"
   },
   {
    "duration": 37,
    "start_time": "2022-04-01T07:30:39.311Z"
   },
   {
    "duration": 6,
    "start_time": "2022-04-01T07:30:39.350Z"
   },
   {
    "duration": 328,
    "start_time": "2022-04-01T07:30:39.358Z"
   },
   {
    "duration": 57,
    "start_time": "2022-04-01T07:30:39.689Z"
   },
   {
    "duration": 41,
    "start_time": "2022-04-01T07:30:39.748Z"
   },
   {
    "duration": 107,
    "start_time": "2022-04-01T07:30:39.843Z"
   },
   {
    "duration": 42,
    "start_time": "2022-04-01T07:30:39.953Z"
   },
   {
    "duration": 5,
    "start_time": "2022-04-01T07:30:39.997Z"
   },
   {
    "duration": 815,
    "start_time": "2022-04-01T07:30:40.004Z"
   },
   {
    "duration": 807,
    "start_time": "2022-04-01T07:30:40.824Z"
   },
   {
    "duration": 808,
    "start_time": "2022-04-01T07:30:41.634Z"
   },
   {
    "duration": 6,
    "start_time": "2022-04-01T07:30:42.444Z"
   },
   {
    "duration": 1154,
    "start_time": "2022-04-01T07:30:42.452Z"
   },
   {
    "duration": 18,
    "start_time": "2022-04-01T07:30:43.608Z"
   },
   {
    "duration": 19,
    "start_time": "2022-04-01T07:30:43.628Z"
   },
   {
    "duration": 19,
    "start_time": "2022-04-01T07:30:43.649Z"
   },
   {
    "duration": 48,
    "start_time": "2022-04-01T07:30:43.671Z"
   },
   {
    "duration": 27,
    "start_time": "2022-04-01T07:36:31.467Z"
   },
   {
    "duration": 28,
    "start_time": "2022-04-01T07:36:46.881Z"
   },
   {
    "duration": 30,
    "start_time": "2022-04-01T07:37:21.716Z"
   },
   {
    "duration": 242,
    "start_time": "2022-04-01T07:43:33.999Z"
   },
   {
    "duration": 29,
    "start_time": "2022-04-01T07:44:11.312Z"
   },
   {
    "duration": 28,
    "start_time": "2022-04-01T07:44:22.698Z"
   },
   {
    "duration": 29,
    "start_time": "2022-04-01T07:44:30.878Z"
   },
   {
    "duration": 28,
    "start_time": "2022-04-01T07:44:36.990Z"
   },
   {
    "duration": 233,
    "start_time": "2022-04-01T07:46:59.323Z"
   },
   {
    "duration": 249,
    "start_time": "2022-04-01T07:48:33.106Z"
   },
   {
    "duration": 0,
    "start_time": "2022-04-01T07:59:52.407Z"
   },
   {
    "duration": 0,
    "start_time": "2022-04-01T07:59:52.409Z"
   },
   {
    "duration": 0,
    "start_time": "2022-04-01T08:00:00.399Z"
   },
   {
    "duration": 0,
    "start_time": "2022-04-01T08:00:00.401Z"
   },
   {
    "duration": 0,
    "start_time": "2022-04-01T08:00:00.403Z"
   },
   {
    "duration": 0,
    "start_time": "2022-04-01T08:00:00.405Z"
   },
   {
    "duration": 0,
    "start_time": "2022-04-01T08:00:00.406Z"
   },
   {
    "duration": 0,
    "start_time": "2022-04-01T08:00:00.408Z"
   },
   {
    "duration": 0,
    "start_time": "2022-04-01T08:00:00.410Z"
   },
   {
    "duration": 0,
    "start_time": "2022-04-01T08:00:00.411Z"
   },
   {
    "duration": 0,
    "start_time": "2022-04-01T08:00:00.414Z"
   },
   {
    "duration": 0,
    "start_time": "2022-04-01T08:00:00.415Z"
   },
   {
    "duration": 0,
    "start_time": "2022-04-01T08:00:00.443Z"
   },
   {
    "duration": 0,
    "start_time": "2022-04-01T08:00:00.445Z"
   },
   {
    "duration": 0,
    "start_time": "2022-04-01T08:00:00.447Z"
   },
   {
    "duration": 0,
    "start_time": "2022-04-01T08:00:00.449Z"
   },
   {
    "duration": 0,
    "start_time": "2022-04-01T08:00:00.450Z"
   },
   {
    "duration": 0,
    "start_time": "2022-04-01T08:00:00.452Z"
   },
   {
    "duration": 0,
    "start_time": "2022-04-01T08:00:00.453Z"
   },
   {
    "duration": 0,
    "start_time": "2022-04-01T08:00:00.455Z"
   },
   {
    "duration": 0,
    "start_time": "2022-04-01T08:00:00.458Z"
   },
   {
    "duration": 0,
    "start_time": "2022-04-01T08:00:00.459Z"
   },
   {
    "duration": 0,
    "start_time": "2022-04-01T08:00:00.461Z"
   },
   {
    "duration": 0,
    "start_time": "2022-04-01T08:00:00.463Z"
   },
   {
    "duration": 0,
    "start_time": "2022-04-01T08:00:00.464Z"
   },
   {
    "duration": 1,
    "start_time": "2022-04-01T08:00:00.465Z"
   },
   {
    "duration": 0,
    "start_time": "2022-04-01T08:00:00.468Z"
   },
   {
    "duration": 0,
    "start_time": "2022-04-01T08:00:00.469Z"
   },
   {
    "duration": 1,
    "start_time": "2022-04-01T08:00:00.470Z"
   },
   {
    "duration": 0,
    "start_time": "2022-04-01T08:00:00.472Z"
   },
   {
    "duration": 0,
    "start_time": "2022-04-01T08:00:00.474Z"
   },
   {
    "duration": 0,
    "start_time": "2022-04-01T08:00:00.475Z"
   },
   {
    "duration": 0,
    "start_time": "2022-04-01T08:00:00.477Z"
   },
   {
    "duration": 0,
    "start_time": "2022-04-01T08:00:00.478Z"
   },
   {
    "duration": 0,
    "start_time": "2022-04-01T08:00:00.544Z"
   },
   {
    "duration": 0,
    "start_time": "2022-04-01T08:00:00.545Z"
   },
   {
    "duration": 0,
    "start_time": "2022-04-01T08:00:00.547Z"
   },
   {
    "duration": 0,
    "start_time": "2022-04-01T08:00:00.549Z"
   },
   {
    "duration": 0,
    "start_time": "2022-04-01T08:00:00.550Z"
   },
   {
    "duration": 6,
    "start_time": "2022-04-01T08:09:50.503Z"
   },
   {
    "duration": 422,
    "start_time": "2022-04-01T08:09:50.513Z"
   },
   {
    "duration": 27,
    "start_time": "2022-04-01T08:09:50.942Z"
   },
   {
    "duration": 17,
    "start_time": "2022-04-01T08:09:50.971Z"
   },
   {
    "duration": 13,
    "start_time": "2022-04-01T08:09:50.991Z"
   },
   {
    "duration": 37,
    "start_time": "2022-04-01T08:09:51.007Z"
   },
   {
    "duration": 187,
    "start_time": "2022-04-01T08:09:51.047Z"
   },
   {
    "duration": 102,
    "start_time": "2022-04-01T08:09:51.243Z"
   },
   {
    "duration": 113,
    "start_time": "2022-04-01T08:09:51.348Z"
   },
   {
    "duration": 28,
    "start_time": "2022-04-01T08:09:51.463Z"
   },
   {
    "duration": 51,
    "start_time": "2022-04-01T08:09:51.495Z"
   },
   {
    "duration": 7,
    "start_time": "2022-04-01T08:09:51.548Z"
   },
   {
    "duration": 316,
    "start_time": "2022-04-01T08:09:51.557Z"
   },
   {
    "duration": 0,
    "start_time": "2022-04-01T08:09:51.875Z"
   },
   {
    "duration": 0,
    "start_time": "2022-04-01T08:09:51.877Z"
   },
   {
    "duration": 0,
    "start_time": "2022-04-01T08:09:51.879Z"
   },
   {
    "duration": 0,
    "start_time": "2022-04-01T08:09:51.881Z"
   },
   {
    "duration": 0,
    "start_time": "2022-04-01T08:09:51.882Z"
   },
   {
    "duration": 0,
    "start_time": "2022-04-01T08:09:51.883Z"
   },
   {
    "duration": 0,
    "start_time": "2022-04-01T08:09:51.885Z"
   },
   {
    "duration": 0,
    "start_time": "2022-04-01T08:09:51.886Z"
   },
   {
    "duration": 0,
    "start_time": "2022-04-01T08:09:51.888Z"
   },
   {
    "duration": 0,
    "start_time": "2022-04-01T08:09:51.890Z"
   },
   {
    "duration": 0,
    "start_time": "2022-04-01T08:09:51.891Z"
   },
   {
    "duration": 0,
    "start_time": "2022-04-01T08:09:51.893Z"
   },
   {
    "duration": 0,
    "start_time": "2022-04-01T08:09:51.895Z"
   },
   {
    "duration": 0,
    "start_time": "2022-04-01T08:09:51.896Z"
   },
   {
    "duration": 0,
    "start_time": "2022-04-01T08:09:51.897Z"
   },
   {
    "duration": 0,
    "start_time": "2022-04-01T08:09:51.899Z"
   },
   {
    "duration": 0,
    "start_time": "2022-04-01T08:09:51.900Z"
   },
   {
    "duration": 0,
    "start_time": "2022-04-01T08:09:51.902Z"
   },
   {
    "duration": 0,
    "start_time": "2022-04-01T08:09:51.903Z"
   },
   {
    "duration": 0,
    "start_time": "2022-04-01T08:09:51.904Z"
   },
   {
    "duration": 0,
    "start_time": "2022-04-01T08:09:51.906Z"
   },
   {
    "duration": 0,
    "start_time": "2022-04-01T08:09:51.907Z"
   },
   {
    "duration": 0,
    "start_time": "2022-04-01T08:09:51.908Z"
   },
   {
    "duration": 0,
    "start_time": "2022-04-01T08:09:51.910Z"
   },
   {
    "duration": 0,
    "start_time": "2022-04-01T08:09:51.943Z"
   },
   {
    "duration": 0,
    "start_time": "2022-04-01T08:09:51.945Z"
   },
   {
    "duration": 6,
    "start_time": "2022-04-01T08:10:04.578Z"
   },
   {
    "duration": 0,
    "start_time": "2022-04-01T08:10:48.642Z"
   },
   {
    "duration": 292,
    "start_time": "2022-04-01T08:12:16.605Z"
   },
   {
    "duration": 495,
    "start_time": "2022-04-01T08:12:34.003Z"
   },
   {
    "duration": 608,
    "start_time": "2022-04-01T08:14:06.273Z"
   },
   {
    "duration": 561,
    "start_time": "2022-04-01T08:15:19.885Z"
   },
   {
    "duration": 595,
    "start_time": "2022-04-01T08:15:28.607Z"
   },
   {
    "duration": 5,
    "start_time": "2022-04-01T08:16:31.106Z"
   },
   {
    "duration": 444,
    "start_time": "2022-04-01T08:16:31.113Z"
   },
   {
    "duration": 25,
    "start_time": "2022-04-01T08:16:31.560Z"
   },
   {
    "duration": 21,
    "start_time": "2022-04-01T08:16:31.587Z"
   },
   {
    "duration": 36,
    "start_time": "2022-04-01T08:16:31.611Z"
   },
   {
    "duration": 9,
    "start_time": "2022-04-01T08:16:31.649Z"
   },
   {
    "duration": 191,
    "start_time": "2022-04-01T08:16:31.661Z"
   },
   {
    "duration": 89,
    "start_time": "2022-04-01T08:16:31.855Z"
   },
   {
    "duration": 103,
    "start_time": "2022-04-01T08:16:31.946Z"
   },
   {
    "duration": 28,
    "start_time": "2022-04-01T08:16:32.051Z"
   },
   {
    "duration": 26,
    "start_time": "2022-04-01T08:16:32.083Z"
   },
   {
    "duration": 34,
    "start_time": "2022-04-01T08:16:32.111Z"
   },
   {
    "duration": 551,
    "start_time": "2022-04-01T08:16:32.148Z"
   },
   {
    "duration": 17,
    "start_time": "2022-04-01T08:16:32.701Z"
   },
   {
    "duration": 42,
    "start_time": "2022-04-01T08:16:32.721Z"
   },
   {
    "duration": 30,
    "start_time": "2022-04-01T08:16:32.765Z"
   },
   {
    "duration": 107,
    "start_time": "2022-04-01T08:16:32.797Z"
   },
   {
    "duration": 23,
    "start_time": "2022-04-01T08:16:32.906Z"
   },
   {
    "duration": 25,
    "start_time": "2022-04-01T08:16:32.931Z"
   },
   {
    "duration": 7,
    "start_time": "2022-04-01T08:16:32.958Z"
   },
   {
    "duration": 15,
    "start_time": "2022-04-01T08:16:32.967Z"
   },
   {
    "duration": 69,
    "start_time": "2022-04-01T08:16:32.984Z"
   },
   {
    "duration": 39,
    "start_time": "2022-04-01T08:16:33.055Z"
   },
   {
    "duration": 53,
    "start_time": "2022-04-01T08:16:33.096Z"
   },
   {
    "duration": 29,
    "start_time": "2022-04-01T08:16:33.151Z"
   },
   {
    "duration": 32,
    "start_time": "2022-04-01T08:16:33.183Z"
   },
   {
    "duration": 108,
    "start_time": "2022-04-01T08:16:33.244Z"
   },
   {
    "duration": 39,
    "start_time": "2022-04-01T08:16:33.354Z"
   },
   {
    "duration": 6,
    "start_time": "2022-04-01T08:16:33.398Z"
   },
   {
    "duration": 888,
    "start_time": "2022-04-01T08:16:33.406Z"
   },
   {
    "duration": 868,
    "start_time": "2022-04-01T08:16:34.296Z"
   },
   {
    "duration": 890,
    "start_time": "2022-04-01T08:16:35.167Z"
   },
   {
    "duration": 6,
    "start_time": "2022-04-01T08:16:36.060Z"
   },
   {
    "duration": 1233,
    "start_time": "2022-04-01T08:16:36.068Z"
   },
   {
    "duration": 18,
    "start_time": "2022-04-01T08:16:37.303Z"
   },
   {
    "duration": 4,
    "start_time": "2022-04-01T08:16:37.342Z"
   },
   {
    "duration": 6,
    "start_time": "2022-04-01T08:16:37.349Z"
   },
   {
    "duration": 11,
    "start_time": "2022-04-01T08:16:37.357Z"
   },
   {
    "duration": 20,
    "start_time": "2022-04-01T08:18:12.464Z"
   },
   {
    "duration": 21,
    "start_time": "2022-04-01T08:18:29.466Z"
   },
   {
    "duration": 20,
    "start_time": "2022-04-01T08:18:42.743Z"
   },
   {
    "duration": 24,
    "start_time": "2022-04-01T08:20:05.552Z"
   },
   {
    "duration": 26,
    "start_time": "2022-04-01T08:20:16.581Z"
   },
   {
    "duration": 37,
    "start_time": "2022-04-01T08:20:57.741Z"
   },
   {
    "duration": 358,
    "start_time": "2022-04-01T08:23:29.720Z"
   },
   {
    "duration": 19,
    "start_time": "2022-04-01T08:23:37.899Z"
   },
   {
    "duration": 11,
    "start_time": "2022-04-01T10:45:45.031Z"
   },
   {
    "duration": 6,
    "start_time": "2022-04-01T10:45:55.429Z"
   },
   {
    "duration": 9,
    "start_time": "2022-04-01T10:47:19.994Z"
   },
   {
    "duration": 3676,
    "start_time": "2022-04-01T10:47:39.720Z"
   },
   {
    "duration": 166,
    "start_time": "2022-04-01T10:49:43.340Z"
   },
   {
    "duration": 3781,
    "start_time": "2022-04-01T10:50:02.278Z"
   },
   {
    "duration": 3510,
    "start_time": "2022-04-01T10:55:18.188Z"
   },
   {
    "duration": 175,
    "start_time": "2022-04-01T10:56:10.642Z"
   },
   {
    "duration": 15,
    "start_time": "2022-04-01T10:58:28.298Z"
   },
   {
    "duration": 14,
    "start_time": "2022-04-01T10:58:42.437Z"
   },
   {
    "duration": 3313,
    "start_time": "2022-04-01T10:58:50.508Z"
   },
   {
    "duration": 161,
    "start_time": "2022-04-01T10:59:18.457Z"
   },
   {
    "duration": 3416,
    "start_time": "2022-04-01T10:59:29.950Z"
   },
   {
    "duration": 32,
    "start_time": "2022-04-01T11:00:46.076Z"
   },
   {
    "duration": 34,
    "start_time": "2022-04-01T11:00:53.616Z"
   },
   {
    "duration": 105,
    "start_time": "2022-04-01T11:02:00.564Z"
   },
   {
    "duration": 111,
    "start_time": "2022-04-01T11:02:08.704Z"
   },
   {
    "duration": 109,
    "start_time": "2022-04-01T11:02:32.334Z"
   },
   {
    "duration": 163,
    "start_time": "2022-04-01T11:03:31.696Z"
   },
   {
    "duration": 168,
    "start_time": "2022-04-01T11:03:48.628Z"
   },
   {
    "duration": 9,
    "start_time": "2022-04-01T11:04:09.335Z"
   },
   {
    "duration": 14,
    "start_time": "2022-04-01T11:04:12.574Z"
   },
   {
    "duration": 3569,
    "start_time": "2022-04-01T11:04:25.861Z"
   },
   {
    "duration": 10,
    "start_time": "2022-04-01T11:05:22.044Z"
   },
   {
    "duration": 168,
    "start_time": "2022-04-01T11:05:33.988Z"
   },
   {
    "duration": 5,
    "start_time": "2022-04-01T11:06:40.952Z"
   },
   {
    "duration": 5,
    "start_time": "2022-04-01T11:06:53.674Z"
   },
   {
    "duration": 11,
    "start_time": "2022-04-01T11:22:38.437Z"
   },
   {
    "duration": 171,
    "start_time": "2022-04-01T11:22:46.812Z"
   },
   {
    "duration": 3360,
    "start_time": "2022-04-01T11:27:12.262Z"
   },
   {
    "duration": 224,
    "start_time": "2022-04-01T11:28:57.975Z"
   },
   {
    "duration": 9,
    "start_time": "2022-04-01T11:29:06.449Z"
   },
   {
    "duration": 166,
    "start_time": "2022-04-01T11:29:14.209Z"
   },
   {
    "duration": 9,
    "start_time": "2022-04-01T11:30:24.237Z"
   },
   {
    "duration": 220,
    "start_time": "2022-04-01T11:30:28.711Z"
   },
   {
    "duration": 6,
    "start_time": "2022-04-01T11:37:57.621Z"
   },
   {
    "duration": 8,
    "start_time": "2022-04-01T11:38:26.277Z"
   },
   {
    "duration": 1285,
    "start_time": "2022-04-02T04:59:40.236Z"
   },
   {
    "duration": 270,
    "start_time": "2022-04-02T04:59:41.523Z"
   },
   {
    "duration": 22,
    "start_time": "2022-04-02T04:59:41.795Z"
   },
   {
    "duration": 28,
    "start_time": "2022-04-02T04:59:41.819Z"
   },
   {
    "duration": 7,
    "start_time": "2022-04-02T04:59:41.849Z"
   },
   {
    "duration": 13,
    "start_time": "2022-04-02T04:59:41.858Z"
   },
   {
    "duration": 146,
    "start_time": "2022-04-02T04:59:41.872Z"
   },
   {
    "duration": 77,
    "start_time": "2022-04-02T04:59:42.019Z"
   },
   {
    "duration": 101,
    "start_time": "2022-04-02T04:59:42.097Z"
   },
   {
    "duration": 19,
    "start_time": "2022-04-02T04:59:42.201Z"
   },
   {
    "duration": 23,
    "start_time": "2022-04-02T04:59:42.231Z"
   },
   {
    "duration": 5,
    "start_time": "2022-04-02T04:59:42.256Z"
   },
   {
    "duration": 484,
    "start_time": "2022-04-02T04:59:42.263Z"
   },
   {
    "duration": 13,
    "start_time": "2022-04-02T04:59:42.749Z"
   },
   {
    "duration": 33,
    "start_time": "2022-04-02T04:59:42.764Z"
   },
   {
    "duration": 47,
    "start_time": "2022-04-02T04:59:42.799Z"
   },
   {
    "duration": 64,
    "start_time": "2022-04-02T04:59:42.848Z"
   },
   {
    "duration": 34,
    "start_time": "2022-04-02T04:59:42.914Z"
   },
   {
    "duration": 14,
    "start_time": "2022-04-02T04:59:42.950Z"
   },
   {
    "duration": 5,
    "start_time": "2022-04-02T04:59:42.965Z"
   },
   {
    "duration": 225,
    "start_time": "2022-04-02T04:59:42.972Z"
   },
   {
    "duration": 44,
    "start_time": "2022-04-02T04:59:43.199Z"
   },
   {
    "duration": 30,
    "start_time": "2022-04-02T04:59:43.244Z"
   },
   {
    "duration": 23,
    "start_time": "2022-04-02T04:59:43.332Z"
   },
   {
    "duration": 22,
    "start_time": "2022-04-02T04:59:43.356Z"
   },
   {
    "duration": 58,
    "start_time": "2022-04-02T04:59:43.380Z"
   },
   {
    "duration": 68,
    "start_time": "2022-04-02T04:59:43.440Z"
   },
   {
    "duration": 48,
    "start_time": "2022-04-02T04:59:43.512Z"
   },
   {
    "duration": 4,
    "start_time": "2022-04-02T04:59:43.562Z"
   },
   {
    "duration": 716,
    "start_time": "2022-04-02T04:59:43.567Z"
   },
   {
    "duration": 697,
    "start_time": "2022-04-02T04:59:44.285Z"
   },
   {
    "duration": 728,
    "start_time": "2022-04-02T04:59:44.984Z"
   },
   {
    "duration": 4,
    "start_time": "2022-04-02T04:59:45.714Z"
   },
   {
    "duration": 1051,
    "start_time": "2022-04-02T04:59:45.732Z"
   },
   {
    "duration": 13,
    "start_time": "2022-04-02T04:59:46.785Z"
   },
   {
    "duration": 2,
    "start_time": "2022-04-02T04:59:46.800Z"
   },
   {
    "duration": 7,
    "start_time": "2022-04-02T04:59:46.803Z"
   },
   {
    "duration": 15,
    "start_time": "2022-04-02T04:59:46.832Z"
   },
   {
    "duration": 7,
    "start_time": "2022-04-02T04:59:46.848Z"
   },
   {
    "duration": 253,
    "start_time": "2022-04-02T04:59:46.856Z"
   },
   {
    "duration": 0,
    "start_time": "2022-04-02T04:59:47.111Z"
   },
   {
    "duration": 42,
    "start_time": "2022-04-02T05:00:32.862Z"
   },
   {
    "duration": 6,
    "start_time": "2022-04-02T05:07:13.135Z"
   },
   {
    "duration": 144,
    "start_time": "2022-04-02T05:07:14.210Z"
   },
   {
    "duration": 6,
    "start_time": "2022-04-02T05:07:47.233Z"
   },
   {
    "duration": 146,
    "start_time": "2022-04-02T05:07:49.005Z"
   },
   {
    "duration": 8,
    "start_time": "2022-04-02T05:10:17.640Z"
   },
   {
    "duration": 28,
    "start_time": "2022-04-02T05:11:12.771Z"
   },
   {
    "duration": 2090,
    "start_time": "2022-04-02T05:11:21.891Z"
   },
   {
    "duration": 28,
    "start_time": "2022-04-02T05:11:27.905Z"
   },
   {
    "duration": 7,
    "start_time": "2022-04-02T05:12:33.281Z"
   },
   {
    "duration": 153,
    "start_time": "2022-04-02T05:12:55.938Z"
   },
   {
    "duration": 7,
    "start_time": "2022-04-02T05:13:14.845Z"
   },
   {
    "duration": 150,
    "start_time": "2022-04-02T05:13:15.821Z"
   },
   {
    "duration": 7,
    "start_time": "2022-04-02T05:14:01.671Z"
   },
   {
    "duration": 152,
    "start_time": "2022-04-02T05:14:02.415Z"
   },
   {
    "duration": 6,
    "start_time": "2022-04-02T05:14:14.449Z"
   },
   {
    "duration": 154,
    "start_time": "2022-04-02T05:14:15.006Z"
   },
   {
    "duration": 1271,
    "start_time": "2022-04-02T05:15:39.537Z"
   },
   {
    "duration": 285,
    "start_time": "2022-04-02T05:15:40.810Z"
   },
   {
    "duration": 23,
    "start_time": "2022-04-02T05:15:41.097Z"
   },
   {
    "duration": 26,
    "start_time": "2022-04-02T05:15:41.122Z"
   },
   {
    "duration": 9,
    "start_time": "2022-04-02T05:15:41.149Z"
   },
   {
    "duration": 13,
    "start_time": "2022-04-02T05:15:41.159Z"
   },
   {
    "duration": 147,
    "start_time": "2022-04-02T05:15:41.174Z"
   },
   {
    "duration": 75,
    "start_time": "2022-04-02T05:15:41.323Z"
   },
   {
    "duration": 99,
    "start_time": "2022-04-02T05:15:41.400Z"
   },
   {
    "duration": 29,
    "start_time": "2022-04-02T05:15:41.502Z"
   },
   {
    "duration": 23,
    "start_time": "2022-04-02T05:15:41.533Z"
   },
   {
    "duration": 9,
    "start_time": "2022-04-02T05:15:41.558Z"
   },
   {
    "duration": 482,
    "start_time": "2022-04-02T05:15:41.568Z"
   },
   {
    "duration": 13,
    "start_time": "2022-04-02T05:15:42.052Z"
   },
   {
    "duration": 34,
    "start_time": "2022-04-02T05:15:42.067Z"
   },
   {
    "duration": 52,
    "start_time": "2022-04-02T05:15:42.103Z"
   },
   {
    "duration": 63,
    "start_time": "2022-04-02T05:15:42.157Z"
   },
   {
    "duration": 21,
    "start_time": "2022-04-02T05:15:42.231Z"
   },
   {
    "duration": 13,
    "start_time": "2022-04-02T05:15:42.253Z"
   },
   {
    "duration": 4,
    "start_time": "2022-04-02T05:15:42.268Z"
   },
   {
    "duration": 221,
    "start_time": "2022-04-02T05:15:42.274Z"
   },
   {
    "duration": 45,
    "start_time": "2022-04-02T05:15:42.497Z"
   },
   {
    "duration": 30,
    "start_time": "2022-04-02T05:15:42.543Z"
   },
   {
    "duration": 21,
    "start_time": "2022-04-02T05:15:42.632Z"
   },
   {
    "duration": 22,
    "start_time": "2022-04-02T05:15:42.655Z"
   },
   {
    "duration": 55,
    "start_time": "2022-04-02T05:15:42.678Z"
   },
   {
    "duration": 70,
    "start_time": "2022-04-02T05:15:42.734Z"
   },
   {
    "duration": 46,
    "start_time": "2022-04-02T05:15:42.807Z"
   },
   {
    "duration": 3,
    "start_time": "2022-04-02T05:15:42.855Z"
   },
   {
    "duration": 744,
    "start_time": "2022-04-02T05:15:42.860Z"
   },
   {
    "duration": 721,
    "start_time": "2022-04-02T05:15:43.606Z"
   },
   {
    "duration": 734,
    "start_time": "2022-04-02T05:15:44.331Z"
   },
   {
    "duration": 4,
    "start_time": "2022-04-02T05:15:45.067Z"
   },
   {
    "duration": 1109,
    "start_time": "2022-04-02T05:15:45.073Z"
   },
   {
    "duration": 12,
    "start_time": "2022-04-02T05:15:46.184Z"
   },
   {
    "duration": 3,
    "start_time": "2022-04-02T05:15:46.198Z"
   },
   {
    "duration": 6,
    "start_time": "2022-04-02T05:15:46.203Z"
   },
   {
    "duration": 24,
    "start_time": "2022-04-02T05:15:46.211Z"
   },
   {
    "duration": 6,
    "start_time": "2022-04-02T05:15:46.237Z"
   },
   {
    "duration": 10,
    "start_time": "2022-04-02T05:15:46.245Z"
   },
   {
    "duration": 163,
    "start_time": "2022-04-02T05:15:46.257Z"
   },
   {
    "duration": 256,
    "start_time": "2022-04-02T05:15:46.422Z"
   },
   {
    "duration": 0,
    "start_time": "2022-04-02T05:15:46.680Z"
   },
   {
    "duration": 15,
    "start_time": "2022-04-02T13:51:29.570Z"
   },
   {
    "duration": 9,
    "start_time": "2022-04-02T13:51:41.158Z"
   },
   {
    "duration": 68,
    "start_time": "2022-04-02T13:51:47.555Z"
   },
   {
    "duration": 1802,
    "start_time": "2022-04-02T13:52:08.882Z"
   },
   {
    "duration": 282,
    "start_time": "2022-04-02T13:52:10.687Z"
   },
   {
    "duration": 28,
    "start_time": "2022-04-02T13:52:10.971Z"
   },
   {
    "duration": 22,
    "start_time": "2022-04-02T13:52:11.002Z"
   },
   {
    "duration": 42,
    "start_time": "2022-04-02T13:52:11.026Z"
   },
   {
    "duration": 13,
    "start_time": "2022-04-02T13:52:11.070Z"
   },
   {
    "duration": 194,
    "start_time": "2022-04-02T13:52:11.085Z"
   },
   {
    "duration": 97,
    "start_time": "2022-04-02T13:52:11.281Z"
   },
   {
    "duration": 124,
    "start_time": "2022-04-02T13:52:11.381Z"
   },
   {
    "duration": 28,
    "start_time": "2022-04-02T13:52:11.509Z"
   },
   {
    "duration": 51,
    "start_time": "2022-04-02T13:52:11.539Z"
   },
   {
    "duration": 7,
    "start_time": "2022-04-02T13:52:11.593Z"
   },
   {
    "duration": 718,
    "start_time": "2022-04-02T13:52:11.602Z"
   },
   {
    "duration": 19,
    "start_time": "2022-04-02T13:52:12.322Z"
   },
   {
    "duration": 55,
    "start_time": "2022-04-02T13:52:12.343Z"
   },
   {
    "duration": 33,
    "start_time": "2022-04-02T13:52:12.400Z"
   },
   {
    "duration": 115,
    "start_time": "2022-04-02T13:52:12.435Z"
   },
   {
    "duration": 35,
    "start_time": "2022-04-02T13:52:12.553Z"
   },
   {
    "duration": 17,
    "start_time": "2022-04-02T13:52:12.590Z"
   },
   {
    "duration": 6,
    "start_time": "2022-04-02T13:52:12.609Z"
   },
   {
    "duration": 404,
    "start_time": "2022-04-02T13:52:12.617Z"
   },
   {
    "duration": 50,
    "start_time": "2022-04-02T13:52:13.023Z"
   },
   {
    "duration": 97,
    "start_time": "2022-04-02T13:52:13.075Z"
   },
   {
    "duration": 31,
    "start_time": "2022-04-02T13:52:13.175Z"
   },
   {
    "duration": 84,
    "start_time": "2022-04-02T13:52:13.208Z"
   },
   {
    "duration": 80,
    "start_time": "2022-04-02T13:52:13.296Z"
   },
   {
    "duration": 218,
    "start_time": "2022-04-02T13:52:13.378Z"
   },
   {
    "duration": 101,
    "start_time": "2022-04-02T13:52:13.600Z"
   },
   {
    "duration": 5,
    "start_time": "2022-04-02T13:52:13.703Z"
   },
   {
    "duration": 1696,
    "start_time": "2022-04-02T13:52:13.710Z"
   },
   {
    "duration": 1146,
    "start_time": "2022-04-02T13:52:15.408Z"
   },
   {
    "duration": 861,
    "start_time": "2022-04-02T13:52:16.557Z"
   },
   {
    "duration": 6,
    "start_time": "2022-04-02T13:52:17.421Z"
   },
   {
    "duration": 1212,
    "start_time": "2022-04-02T13:52:17.432Z"
   },
   {
    "duration": 30,
    "start_time": "2022-04-02T13:52:18.646Z"
   },
   {
    "duration": 3,
    "start_time": "2022-04-02T13:52:18.679Z"
   },
   {
    "duration": 6,
    "start_time": "2022-04-02T13:52:18.684Z"
   },
   {
    "duration": 9,
    "start_time": "2022-04-02T13:52:18.692Z"
   },
   {
    "duration": 9,
    "start_time": "2022-04-02T13:52:18.704Z"
   },
   {
    "duration": 53,
    "start_time": "2022-04-02T13:52:18.715Z"
   },
   {
    "duration": 175,
    "start_time": "2022-04-02T13:52:18.770Z"
   },
   {
    "duration": 182,
    "start_time": "2022-04-02T13:52:18.947Z"
   },
   {
    "duration": 1715,
    "start_time": "2022-04-02T13:52:19.131Z"
   },
   {
    "duration": 1959,
    "start_time": "2022-04-02T13:54:12.657Z"
   },
   {
    "duration": 9,
    "start_time": "2022-04-02T13:57:43.115Z"
   },
   {
    "duration": 167,
    "start_time": "2022-04-02T13:57:48.795Z"
   },
   {
    "duration": 1513,
    "start_time": "2022-04-02T13:58:00.244Z"
   },
   {
    "duration": 1948,
    "start_time": "2022-04-02T13:59:24.979Z"
   },
   {
    "duration": 5,
    "start_time": "2022-04-02T14:07:30.297Z"
   },
   {
    "duration": 2069,
    "start_time": "2022-04-02T14:09:12.253Z"
   },
   {
    "duration": 4,
    "start_time": "2022-04-02T14:13:48.647Z"
   },
   {
    "duration": 1931,
    "start_time": "2022-04-02T14:13:51.611Z"
   },
   {
    "duration": 1303,
    "start_time": "2022-04-02T14:27:42.550Z"
   },
   {
    "duration": 1584,
    "start_time": "2022-04-02T14:27:51.752Z"
   },
   {
    "duration": 5,
    "start_time": "2022-04-02T14:28:32.167Z"
   },
   {
    "duration": 1222,
    "start_time": "2022-04-02T14:28:33.969Z"
   },
   {
    "duration": 12,
    "start_time": "2022-04-02T14:28:46.667Z"
   },
   {
    "duration": 1398,
    "start_time": "2022-04-02T14:29:02.410Z"
   },
   {
    "duration": 653,
    "start_time": "2022-04-02T14:31:14.533Z"
   },
   {
    "duration": 11,
    "start_time": "2022-04-02T14:31:40.215Z"
   },
   {
    "duration": 5,
    "start_time": "2022-04-02T14:32:00.559Z"
   },
   {
    "duration": 281,
    "start_time": "2022-04-02T14:32:00.567Z"
   },
   {
    "duration": 30,
    "start_time": "2022-04-02T14:32:00.851Z"
   },
   {
    "duration": 19,
    "start_time": "2022-04-02T14:32:01.120Z"
   },
   {
    "duration": 8,
    "start_time": "2022-04-02T14:32:01.141Z"
   },
   {
    "duration": 11,
    "start_time": "2022-04-02T14:32:03.426Z"
   },
   {
    "duration": 194,
    "start_time": "2022-04-02T14:32:03.440Z"
   },
   {
    "duration": 102,
    "start_time": "2022-04-02T14:32:03.636Z"
   },
   {
    "duration": 102,
    "start_time": "2022-04-02T14:32:03.740Z"
   },
   {
    "duration": 37,
    "start_time": "2022-04-02T14:32:03.845Z"
   },
   {
    "duration": 37,
    "start_time": "2022-04-02T14:32:03.884Z"
   },
   {
    "duration": 7,
    "start_time": "2022-04-02T14:32:05.052Z"
   },
   {
    "duration": 570,
    "start_time": "2022-04-02T14:32:05.062Z"
   },
   {
    "duration": 16,
    "start_time": "2022-04-02T14:32:05.634Z"
   },
   {
    "duration": 40,
    "start_time": "2022-04-02T14:32:06.173Z"
   },
   {
    "duration": 52,
    "start_time": "2022-04-02T14:32:06.215Z"
   },
   {
    "duration": 83,
    "start_time": "2022-04-02T14:32:06.269Z"
   },
   {
    "duration": 35,
    "start_time": "2022-04-02T14:32:06.356Z"
   },
   {
    "duration": 23,
    "start_time": "2022-04-02T14:32:06.394Z"
   },
   {
    "duration": 8,
    "start_time": "2022-04-02T14:32:06.419Z"
   },
   {
    "duration": 51,
    "start_time": "2022-04-02T14:32:06.430Z"
   },
   {
    "duration": 43,
    "start_time": "2022-04-02T14:32:06.484Z"
   },
   {
    "duration": 61,
    "start_time": "2022-04-02T14:32:06.530Z"
   },
   {
    "duration": 26,
    "start_time": "2022-04-02T14:32:06.594Z"
   },
   {
    "duration": 60,
    "start_time": "2022-04-02T14:32:06.622Z"
   },
   {
    "duration": 27,
    "start_time": "2022-04-02T14:32:06.684Z"
   },
   {
    "duration": 109,
    "start_time": "2022-04-02T14:32:06.713Z"
   },
   {
    "duration": 55,
    "start_time": "2022-04-02T14:32:06.824Z"
   },
   {
    "duration": 5,
    "start_time": "2022-04-02T14:32:06.881Z"
   },
   {
    "duration": 9,
    "start_time": "2022-04-02T14:32:07.871Z"
   },
   {
    "duration": 4,
    "start_time": "2022-04-02T14:32:07.887Z"
   },
   {
    "duration": 1901,
    "start_time": "2022-04-02T14:32:07.893Z"
   },
   {
    "duration": 5,
    "start_time": "2022-04-02T14:32:09.796Z"
   },
   {
    "duration": 12,
    "start_time": "2022-04-02T14:32:09.804Z"
   },
   {
    "duration": 656,
    "start_time": "2022-04-02T14:32:09.818Z"
   },
   {
    "duration": 1092,
    "start_time": "2022-04-02T14:32:10.477Z"
   },
   {
    "duration": 17,
    "start_time": "2022-04-02T14:32:11.571Z"
   },
   {
    "duration": 4,
    "start_time": "2022-04-02T14:32:11.590Z"
   },
   {
    "duration": 5,
    "start_time": "2022-04-02T14:32:11.597Z"
   },
   {
    "duration": 10,
    "start_time": "2022-04-02T14:32:11.604Z"
   },
   {
    "duration": 9,
    "start_time": "2022-04-02T14:32:11.616Z"
   },
   {
    "duration": 181,
    "start_time": "2022-04-02T14:32:11.667Z"
   },
   {
    "duration": 173,
    "start_time": "2022-04-02T14:32:11.850Z"
   },
   {
    "duration": 1384,
    "start_time": "2022-04-02T14:36:42.741Z"
   },
   {
    "duration": 14,
    "start_time": "2022-04-02T14:37:57.892Z"
   },
   {
    "duration": 1171,
    "start_time": "2022-04-02T14:38:07.730Z"
   },
   {
    "duration": 9,
    "start_time": "2022-04-02T14:39:18.290Z"
   },
   {
    "duration": 8,
    "start_time": "2022-04-02T14:39:32.021Z"
   },
   {
    "duration": 1284,
    "start_time": "2022-04-02T14:39:42.986Z"
   },
   {
    "duration": 5,
    "start_time": "2022-04-02T14:40:05.370Z"
   },
   {
    "duration": 1924,
    "start_time": "2022-04-02T14:40:13.639Z"
   },
   {
    "duration": 674,
    "start_time": "2022-04-02T14:41:05.287Z"
   },
   {
    "duration": 1614,
    "start_time": "2022-04-02T14:41:19.150Z"
   },
   {
    "duration": 6,
    "start_time": "2022-04-02T14:41:25.929Z"
   },
   {
    "duration": 1660,
    "start_time": "2022-04-02T14:41:28.221Z"
   },
   {
    "duration": 12,
    "start_time": "2022-04-02T14:42:47.776Z"
   },
   {
    "duration": 6,
    "start_time": "2022-04-02T14:42:58.376Z"
   },
   {
    "duration": 11,
    "start_time": "2022-04-02T14:43:00.874Z"
   },
   {
    "duration": 5,
    "start_time": "2022-04-02T14:43:23.558Z"
   },
   {
    "duration": 295,
    "start_time": "2022-04-02T14:43:23.581Z"
   },
   {
    "duration": 26,
    "start_time": "2022-04-02T14:43:23.879Z"
   },
   {
    "duration": 17,
    "start_time": "2022-04-02T14:43:23.907Z"
   },
   {
    "duration": 40,
    "start_time": "2022-04-02T14:43:23.927Z"
   },
   {
    "duration": 9,
    "start_time": "2022-04-02T14:43:23.970Z"
   },
   {
    "duration": 197,
    "start_time": "2022-04-02T14:43:23.982Z"
   },
   {
    "duration": 100,
    "start_time": "2022-04-02T14:43:24.181Z"
   },
   {
    "duration": 105,
    "start_time": "2022-04-02T14:43:24.283Z"
   },
   {
    "duration": 29,
    "start_time": "2022-04-02T14:43:24.390Z"
   },
   {
    "duration": 27,
    "start_time": "2022-04-02T14:43:24.422Z"
   },
   {
    "duration": 7,
    "start_time": "2022-04-02T14:43:24.468Z"
   },
   {
    "duration": 650,
    "start_time": "2022-04-02T14:43:24.477Z"
   },
   {
    "duration": 16,
    "start_time": "2022-04-02T14:43:25.130Z"
   },
   {
    "duration": 52,
    "start_time": "2022-04-02T14:43:25.147Z"
   },
   {
    "duration": 32,
    "start_time": "2022-04-02T14:43:25.201Z"
   },
   {
    "duration": 106,
    "start_time": "2022-04-02T14:43:25.235Z"
   },
   {
    "duration": 39,
    "start_time": "2022-04-02T14:43:25.343Z"
   },
   {
    "duration": 16,
    "start_time": "2022-04-02T14:43:25.384Z"
   },
   {
    "duration": 12,
    "start_time": "2022-04-02T14:43:25.402Z"
   },
   {
    "duration": 32,
    "start_time": "2022-04-02T14:43:25.416Z"
   },
   {
    "duration": 50,
    "start_time": "2022-04-02T14:43:25.450Z"
   },
   {
    "duration": 36,
    "start_time": "2022-04-02T14:43:25.502Z"
   },
   {
    "duration": 50,
    "start_time": "2022-04-02T14:43:25.541Z"
   },
   {
    "duration": 29,
    "start_time": "2022-04-02T14:43:25.593Z"
   },
   {
    "duration": 50,
    "start_time": "2022-04-02T14:43:25.624Z"
   },
   {
    "duration": 95,
    "start_time": "2022-04-02T14:43:25.676Z"
   },
   {
    "duration": 40,
    "start_time": "2022-04-02T14:43:25.773Z"
   },
   {
    "duration": 5,
    "start_time": "2022-04-02T14:43:25.818Z"
   },
   {
    "duration": 35,
    "start_time": "2022-04-02T14:43:25.825Z"
   },
   {
    "duration": 13,
    "start_time": "2022-04-02T14:43:25.867Z"
   },
   {
    "duration": 2003,
    "start_time": "2022-04-02T14:43:25.883Z"
   },
   {
    "duration": 5,
    "start_time": "2022-04-02T14:43:27.888Z"
   },
   {
    "duration": 34,
    "start_time": "2022-04-02T14:43:27.895Z"
   },
   {
    "duration": 1936,
    "start_time": "2022-04-02T14:43:27.932Z"
   },
   {
    "duration": 0,
    "start_time": "2022-04-02T14:43:29.871Z"
   },
   {
    "duration": 0,
    "start_time": "2022-04-02T14:43:29.872Z"
   },
   {
    "duration": 0,
    "start_time": "2022-04-02T14:43:29.874Z"
   },
   {
    "duration": 0,
    "start_time": "2022-04-02T14:43:29.875Z"
   },
   {
    "duration": 0,
    "start_time": "2022-04-02T14:43:29.877Z"
   },
   {
    "duration": 1,
    "start_time": "2022-04-02T14:43:29.878Z"
   },
   {
    "duration": 0,
    "start_time": "2022-04-02T14:43:29.880Z"
   },
   {
    "duration": 0,
    "start_time": "2022-04-02T14:43:29.881Z"
   },
   {
    "duration": 16,
    "start_time": "2022-04-02T14:44:37.955Z"
   },
   {
    "duration": 11,
    "start_time": "2022-04-02T14:45:00.826Z"
   },
   {
    "duration": 1717,
    "start_time": "2022-04-02T14:45:50.273Z"
   },
   {
    "duration": 682,
    "start_time": "2022-04-02T14:46:05.503Z"
   },
   {
    "duration": 1618,
    "start_time": "2022-04-02T14:46:14.622Z"
   },
   {
    "duration": 1056,
    "start_time": "2022-04-02T14:46:55.911Z"
   },
   {
    "duration": 5,
    "start_time": "2022-04-02T14:48:06.802Z"
   },
   {
    "duration": 318,
    "start_time": "2022-04-02T14:48:06.810Z"
   },
   {
    "duration": 39,
    "start_time": "2022-04-02T14:48:07.130Z"
   },
   {
    "duration": 16,
    "start_time": "2022-04-02T14:48:07.172Z"
   },
   {
    "duration": 12,
    "start_time": "2022-04-02T14:48:07.190Z"
   },
   {
    "duration": 9,
    "start_time": "2022-04-02T14:48:07.204Z"
   },
   {
    "duration": 210,
    "start_time": "2022-04-02T14:48:07.215Z"
   },
   {
    "duration": 91,
    "start_time": "2022-04-02T14:48:07.427Z"
   },
   {
    "duration": 105,
    "start_time": "2022-04-02T14:48:07.522Z"
   },
   {
    "duration": 28,
    "start_time": "2022-04-02T14:48:07.629Z"
   },
   {
    "duration": 26,
    "start_time": "2022-04-02T14:48:07.667Z"
   },
   {
    "duration": 6,
    "start_time": "2022-04-02T14:48:07.695Z"
   },
   {
    "duration": 591,
    "start_time": "2022-04-02T14:48:07.703Z"
   },
   {
    "duration": 16,
    "start_time": "2022-04-02T14:48:08.297Z"
   },
   {
    "duration": 55,
    "start_time": "2022-04-02T14:48:08.315Z"
   },
   {
    "duration": 32,
    "start_time": "2022-04-02T14:48:08.372Z"
   },
   {
    "duration": 99,
    "start_time": "2022-04-02T14:48:08.406Z"
   },
   {
    "duration": 23,
    "start_time": "2022-04-02T14:48:08.507Z"
   },
   {
    "duration": 41,
    "start_time": "2022-04-02T14:48:08.532Z"
   },
   {
    "duration": 6,
    "start_time": "2022-04-02T14:48:08.575Z"
   },
   {
    "duration": 15,
    "start_time": "2022-04-02T14:48:08.583Z"
   },
   {
    "duration": 75,
    "start_time": "2022-04-02T14:48:08.600Z"
   },
   {
    "duration": 52,
    "start_time": "2022-04-02T14:48:08.678Z"
   },
   {
    "duration": 54,
    "start_time": "2022-04-02T14:48:08.737Z"
   },
   {
    "duration": 37,
    "start_time": "2022-04-02T14:48:08.794Z"
   },
   {
    "duration": 56,
    "start_time": "2022-04-02T14:48:08.833Z"
   },
   {
    "duration": 133,
    "start_time": "2022-04-02T14:48:08.891Z"
   },
   {
    "duration": 47,
    "start_time": "2022-04-02T14:48:09.027Z"
   },
   {
    "duration": 4,
    "start_time": "2022-04-02T14:48:09.076Z"
   },
   {
    "duration": 19,
    "start_time": "2022-04-02T14:48:09.082Z"
   },
   {
    "duration": 15,
    "start_time": "2022-04-02T14:48:09.103Z"
   },
   {
    "duration": 2052,
    "start_time": "2022-04-02T14:48:09.120Z"
   },
   {
    "duration": 5,
    "start_time": "2022-04-02T14:48:11.174Z"
   },
   {
    "duration": 1204,
    "start_time": "2022-04-02T14:48:11.181Z"
   },
   {
    "duration": 17,
    "start_time": "2022-04-02T14:48:12.388Z"
   },
   {
    "duration": 4,
    "start_time": "2022-04-02T14:48:12.408Z"
   },
   {
    "duration": 8,
    "start_time": "2022-04-02T14:48:12.414Z"
   },
   {
    "duration": 46,
    "start_time": "2022-04-02T14:48:12.425Z"
   },
   {
    "duration": 12,
    "start_time": "2022-04-02T14:48:12.474Z"
   },
   {
    "duration": 206,
    "start_time": "2022-04-02T14:48:12.488Z"
   },
   {
    "duration": 193,
    "start_time": "2022-04-02T14:48:12.696Z"
   },
   {
    "duration": 5,
    "start_time": "2022-04-02T14:55:18.699Z"
   },
   {
    "duration": 1482,
    "start_time": "2022-04-03T03:40:04.948Z"
   },
   {
    "duration": 267,
    "start_time": "2022-04-03T03:40:06.432Z"
   },
   {
    "duration": 23,
    "start_time": "2022-04-03T03:40:06.700Z"
   },
   {
    "duration": 23,
    "start_time": "2022-04-03T03:40:06.724Z"
   },
   {
    "duration": 10,
    "start_time": "2022-04-03T03:40:06.749Z"
   },
   {
    "duration": 12,
    "start_time": "2022-04-03T03:40:06.761Z"
   },
   {
    "duration": 161,
    "start_time": "2022-04-03T03:40:06.775Z"
   },
   {
    "duration": 67,
    "start_time": "2022-04-03T03:40:06.938Z"
   },
   {
    "duration": 99,
    "start_time": "2022-04-03T03:40:07.007Z"
   },
   {
    "duration": 28,
    "start_time": "2022-04-03T03:40:07.108Z"
   },
   {
    "duration": 24,
    "start_time": "2022-04-03T03:40:07.137Z"
   },
   {
    "duration": 5,
    "start_time": "2022-04-03T03:40:07.162Z"
   },
   {
    "duration": 473,
    "start_time": "2022-04-03T03:40:07.169Z"
   },
   {
    "duration": 14,
    "start_time": "2022-04-03T03:40:07.645Z"
   },
   {
    "duration": 32,
    "start_time": "2022-04-03T03:40:07.660Z"
   },
   {
    "duration": 47,
    "start_time": "2022-04-03T03:40:07.694Z"
   },
   {
    "duration": 60,
    "start_time": "2022-04-03T03:40:07.743Z"
   },
   {
    "duration": 38,
    "start_time": "2022-04-03T03:40:07.804Z"
   },
   {
    "duration": 13,
    "start_time": "2022-04-03T03:40:07.844Z"
   },
   {
    "duration": 5,
    "start_time": "2022-04-03T03:40:07.858Z"
   },
   {
    "duration": 223,
    "start_time": "2022-04-03T03:40:07.864Z"
   },
   {
    "duration": 44,
    "start_time": "2022-04-03T03:40:08.089Z"
   },
   {
    "duration": 30,
    "start_time": "2022-04-03T03:40:08.134Z"
   },
   {
    "duration": 73,
    "start_time": "2022-04-03T03:40:08.166Z"
   },
   {
    "duration": 20,
    "start_time": "2022-04-03T03:40:08.241Z"
   },
   {
    "duration": 20,
    "start_time": "2022-04-03T03:40:08.263Z"
   },
   {
    "duration": 99,
    "start_time": "2022-04-03T03:40:08.285Z"
   },
   {
    "duration": 32,
    "start_time": "2022-04-03T03:40:08.386Z"
   },
   {
    "duration": 3,
    "start_time": "2022-04-03T03:40:08.433Z"
   },
   {
    "duration": 10,
    "start_time": "2022-04-03T03:40:08.438Z"
   },
   {
    "duration": 10,
    "start_time": "2022-04-03T03:40:08.450Z"
   },
   {
    "duration": 1647,
    "start_time": "2022-04-03T03:40:08.462Z"
   },
   {
    "duration": 4,
    "start_time": "2022-04-03T03:40:10.110Z"
   },
   {
    "duration": 1042,
    "start_time": "2022-04-03T03:40:10.116Z"
   },
   {
    "duration": 12,
    "start_time": "2022-04-03T03:40:11.160Z"
   }
  ],
  "kernelspec": {
   "display_name": "Python 3 (ipykernel)",
   "language": "python",
   "name": "python3"
  },
  "language_info": {
   "codemirror_mode": {
    "name": "ipython",
    "version": 3
   },
   "file_extension": ".py",
   "mimetype": "text/x-python",
   "name": "python",
   "nbconvert_exporter": "python",
   "pygments_lexer": "ipython3",
   "version": "3.9.12"
  },
  "toc": {
   "base_numbering": 1,
   "nav_menu": {},
   "number_sections": true,
   "sideBar": true,
   "skip_h1_title": true,
   "title_cell": "Table of Contents",
   "title_sidebar": "Contents",
   "toc_cell": false,
   "toc_position": {
    "height": "calc(100% - 180px)",
    "left": "10px",
    "top": "150px",
    "width": "255.594px"
   },
   "toc_section_display": true,
   "toc_window_display": true
  },
  "widgets": {
   "application/vnd.jupyter.widget-state+json": {
    "state": {},
    "version_major": 2,
    "version_minor": 0
   }
  }
 },
 "nbformat": 4,
 "nbformat_minor": 5
}
