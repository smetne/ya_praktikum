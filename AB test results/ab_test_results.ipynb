{
 "cells": [
  {
   "cell_type": "markdown",
   "metadata": {},
   "source": [
    "<img src=https://img.gazeta.ru/files3/923/11732923/dicaprio-pic905-895x505-13209.jpg><br>\n",
    "<hr style=\"border: 10px solid green;\" />\n",
    "\n",
    "## <span style=\"color:green\">Финальный комментарий<span>\n",
    "Спасибо за проделанную работу🤝\n",
    "\n",
    "Анна, спасибо за доработки, всё принято👌\n",
    "    \n",
    "Желаю дальнейших успехов и отличного настроения🖐\n",
    "\n",
    "Поздравляю, проект принят👍"
   ]
  },
  {
   "cell_type": "markdown",
   "metadata": {},
   "source": [
    "<hr style=\"border: 2px solid green;\" />\n",
    "\n",
    "## Комментарий ревьювера\n",
    "\n",
    "Анна, привет! \n",
    "\n",
    "🤚Меня зовут, Олег Юрьев, я буду проверять твой проект. Если не против, я буду обращаться к тебе на _ТЫ_ . Если это неприемлемо, обязательно напиши мне в комментариях - мы перейдем на _ВЫ_ .\n",
    "\n",
    "🤝Спасибо, что сдала проект вовремя. Тобой проделана большая работа, молодец! \n",
    "\n",
    "✏️В этой тетрадке ты найдешь мои комментарии.\n",
    "\n",
    "Комментарии будут выделены:\n",
    "\n",
    "<div style=\"border-radius: 15px; box-shadow: 4px 4px 4px; border: solid green 2px; padding: 20px\"> <b>Отличная работа ✅</b><br>\n",
    "    Безупречная работа</div>       \n",
    "<br>\n",
    "<div style=\"border-radius: 15px; box-shadow: 4px 4px 4px; border: solid orange 2px; padding: 20px\"> <b>Что можно улучшить ⚠️</b><br>\n",
    "    Ничего дорабатывать не надо, данные пункты работают нормально, но есть способы улучшить. Несколько таких комментариев допустимы, но более - придется некоторые доработать. Большое кол-во мелких замечаний и помарок сказываются на общем впечатлении от работы.</div>   \n",
    "<br>\n",
    "<div style=\"border-radius: 15px; box-shadow: 4px 4px 4px; border: solid red 2px; padding: 20px\"> <b>Что необходимо доработать ⛔️</b><br>\n",
    "    Такие пункты необходимо исправить в первую очередь, чтобы я смог принять проект.</div>\n",
    " \n",
    "Не удаляй комментарии, так будем следить за динамикой 📈\n",
    "   \n",
    "Давай будем в диалоге - основные цели в диалоге:\n",
    "- обмен опытом (да я тоже учусь у студентов👨‍🎓)\n",
    "- выполнить проект еще лучше\n",
    "- помочь тебе стать аналитиком\n",
    "\n",
    "Поэтому чтобы мне проще было проверять повторно, а тебе контролировать процесс ревью, оставляй свои комментарии и выделяй их. \n",
    "    \n",
    "<div class=\"alert alert-info\" style=\"border:solid blue 2px; padding: 20px\"> <b>Комментарий студента:</b> Например, вот так.</div>\n",
    "   \n",
    "Поехали! :)\n",
    "\n",
    "<hr style=\"border: 2px solid green;\" />"
   ]
  },
  {
   "cell_type": "markdown",
   "metadata": {},
   "source": [
    "<div class=\"alert alert-info\" style=\"border:solid blue 2px; padding: 20px\"> <b>Комментарий студента:</b> Привет, Олег!</div>"
   ]
  },
  {
   "cell_type": "markdown",
   "metadata": {},
   "source": [
    "# Принятие решений в бизнесе"
   ]
  },
  {
   "cell_type": "markdown",
   "metadata": {},
   "source": [
    "Вместе с отделом маркетинга мы подготовили список гипотез для увеличения выручки крупного интернет-магазина.\n",
    "\n",
    "Задачи:"
   ]
  },
  {
   "cell_type": "markdown",
   "metadata": {},
   "source": [
    " - приоритизировать гипотезы\n",
    " - запустить A/B-тест и проанализировать результаты"
   ]
  },
  {
   "cell_type": "markdown",
   "metadata": {},
   "source": [
    "## Приоритезация гипотез"
   ]
  },
  {
   "cell_type": "markdown",
   "metadata": {},
   "source": [
    "Описание данных:"
   ]
  },
  {
   "cell_type": "markdown",
   "metadata": {},
   "source": [
    "Файл /datasets/hypothesis.csv\n",
    "\n",
    "- Hypothesis — краткое описание гипотезы;\n",
    "- Reach — охват пользователей по 10-балльной шкале;\n",
    "- Impact — влияние на пользователей по 10-балльной шкале;\n",
    "- Confidence — уверенность в гипотезе по 10-балльной шкале;\n",
    "- Efforts — затраты ресурсов на проверку гипотезы по 10-балльной шкале. Чем больше значение Efforts, тем дороже проверка гипотезы."
   ]
  },
  {
   "cell_type": "markdown",
   "metadata": {},
   "source": [
    "### Подготовка данных"
   ]
  },
  {
   "cell_type": "code",
   "execution_count": 1,
   "metadata": {},
   "outputs": [],
   "source": [
    "from scipy import stats as st\n",
    "import math as mth\n",
    "import pandas as pd\n",
    "import datetime as dt\n",
    "import numpy as np\n",
    "import matplotlib.pyplot as plt\n",
    "from pandas.plotting import register_matplotlib_converters\n",
    "import warnings \n",
    "register_matplotlib_converters()"
   ]
  },
  {
   "cell_type": "code",
   "execution_count": 2,
   "metadata": {},
   "outputs": [],
   "source": [
    "hypothesis = pd.read_csv('/datasets/hypothesis.csv')"
   ]
  },
  {
   "cell_type": "code",
   "execution_count": 3,
   "metadata": {
    "scrolled": true
   },
   "outputs": [
    {
     "data": {
      "text/html": [
       "<div>\n",
       "<style scoped>\n",
       "    .dataframe tbody tr th:only-of-type {\n",
       "        vertical-align: middle;\n",
       "    }\n",
       "\n",
       "    .dataframe tbody tr th {\n",
       "        vertical-align: top;\n",
       "    }\n",
       "\n",
       "    .dataframe thead th {\n",
       "        text-align: right;\n",
       "    }\n",
       "</style>\n",
       "<table border=\"1\" class=\"dataframe\">\n",
       "  <thead>\n",
       "    <tr style=\"text-align: right;\">\n",
       "      <th></th>\n",
       "      <th>Hypothesis</th>\n",
       "      <th>Reach</th>\n",
       "      <th>Impact</th>\n",
       "      <th>Confidence</th>\n",
       "      <th>Efforts</th>\n",
       "    </tr>\n",
       "  </thead>\n",
       "  <tbody>\n",
       "    <tr>\n",
       "      <td>0</td>\n",
       "      <td>Добавить два новых канала привлечения трафика, что позволит привлекать на 30% больше пользователей</td>\n",
       "      <td>3</td>\n",
       "      <td>10</td>\n",
       "      <td>8</td>\n",
       "      <td>6</td>\n",
       "    </tr>\n",
       "    <tr>\n",
       "      <td>1</td>\n",
       "      <td>Запустить собственную службу доставки, что сократит срок доставки заказов</td>\n",
       "      <td>2</td>\n",
       "      <td>5</td>\n",
       "      <td>4</td>\n",
       "      <td>10</td>\n",
       "    </tr>\n",
       "    <tr>\n",
       "      <td>2</td>\n",
       "      <td>Добавить блоки рекомендаций товаров на сайт интернет магазина, чтобы повысить конверсию и средний чек заказа</td>\n",
       "      <td>8</td>\n",
       "      <td>3</td>\n",
       "      <td>7</td>\n",
       "      <td>3</td>\n",
       "    </tr>\n",
       "    <tr>\n",
       "      <td>3</td>\n",
       "      <td>Изменить структура категорий, что увеличит конверсию, т.к. пользователи быстрее найдут нужный товар</td>\n",
       "      <td>8</td>\n",
       "      <td>3</td>\n",
       "      <td>3</td>\n",
       "      <td>8</td>\n",
       "    </tr>\n",
       "    <tr>\n",
       "      <td>4</td>\n",
       "      <td>Изменить цвет фона главной страницы, чтобы увеличить вовлеченность пользователей</td>\n",
       "      <td>3</td>\n",
       "      <td>1</td>\n",
       "      <td>1</td>\n",
       "      <td>1</td>\n",
       "    </tr>\n",
       "    <tr>\n",
       "      <td>5</td>\n",
       "      <td>Добавить страницу отзывов клиентов о магазине, что позволит увеличить количество заказов</td>\n",
       "      <td>3</td>\n",
       "      <td>2</td>\n",
       "      <td>2</td>\n",
       "      <td>3</td>\n",
       "    </tr>\n",
       "    <tr>\n",
       "      <td>6</td>\n",
       "      <td>Показать на главной странице баннеры с актуальными акциями и распродажами, чтобы увеличить конверсию</td>\n",
       "      <td>5</td>\n",
       "      <td>3</td>\n",
       "      <td>8</td>\n",
       "      <td>3</td>\n",
       "    </tr>\n",
       "    <tr>\n",
       "      <td>7</td>\n",
       "      <td>Добавить форму подписки на все основные страницы, чтобы собрать базу клиентов для email-рассылок</td>\n",
       "      <td>10</td>\n",
       "      <td>7</td>\n",
       "      <td>8</td>\n",
       "      <td>5</td>\n",
       "    </tr>\n",
       "    <tr>\n",
       "      <td>8</td>\n",
       "      <td>Запустить акцию, дающую скидку на товар в день рождения</td>\n",
       "      <td>1</td>\n",
       "      <td>9</td>\n",
       "      <td>9</td>\n",
       "      <td>5</td>\n",
       "    </tr>\n",
       "  </tbody>\n",
       "</table>\n",
       "</div>"
      ],
      "text/plain": [
       "                                                                                                     Hypothesis  \\\n",
       "0            Добавить два новых канала привлечения трафика, что позволит привлекать на 30% больше пользователей   \n",
       "1                                     Запустить собственную службу доставки, что сократит срок доставки заказов   \n",
       "2  Добавить блоки рекомендаций товаров на сайт интернет магазина, чтобы повысить конверсию и средний чек заказа   \n",
       "3           Изменить структура категорий, что увеличит конверсию, т.к. пользователи быстрее найдут нужный товар   \n",
       "4                              Изменить цвет фона главной страницы, чтобы увеличить вовлеченность пользователей   \n",
       "5                      Добавить страницу отзывов клиентов о магазине, что позволит увеличить количество заказов   \n",
       "6          Показать на главной странице баннеры с актуальными акциями и распродажами, чтобы увеличить конверсию   \n",
       "7              Добавить форму подписки на все основные страницы, чтобы собрать базу клиентов для email-рассылок   \n",
       "8                                                       Запустить акцию, дающую скидку на товар в день рождения   \n",
       "\n",
       "   Reach  Impact  Confidence  Efforts  \n",
       "0      3      10           8        6  \n",
       "1      2       5           4       10  \n",
       "2      8       3           7        3  \n",
       "3      8       3           3        8  \n",
       "4      3       1           1        1  \n",
       "5      3       2           2        3  \n",
       "6      5       3           8        3  \n",
       "7     10       7           8        5  \n",
       "8      1       9           9        5  "
      ]
     },
     "execution_count": 3,
     "metadata": {},
     "output_type": "execute_result"
    }
   ],
   "source": [
    "pd.set_option(\"max_colwidth\", 110)\n",
    "pd.reset_option(\"display.max_rows\", 7)\n",
    "hypothesis"
   ]
  },
  {
   "cell_type": "code",
   "execution_count": 4,
   "metadata": {},
   "outputs": [],
   "source": [
    "hypothesis.columns = map(str.lower, hypothesis.columns)"
   ]
  },
  {
   "cell_type": "markdown",
   "metadata": {},
   "source": [
    "Пропусков нет, наименования колонок приведены к нижнему регистру, дальнейшая подготовка данных не требуется."
   ]
  },
  {
   "cell_type": "markdown",
   "metadata": {},
   "source": [
    "### ICE"
   ]
  },
  {
   "cell_type": "markdown",
   "metadata": {},
   "source": [
    "Применим фреймворк ICE для приоритизации гипотез. Отсортируем их по убыванию приоритета."
   ]
  },
  {
   "cell_type": "markdown",
   "metadata": {},
   "source": [
    "Испоьзовать будем такую формулу:"
   ]
  },
  {
   "cell_type": "markdown",
   "metadata": {},
   "source": [
    "</ul></div> <br>\n",
    "$$ICE = \\frac{Impact * Confidence}{Efforts}$$"
   ]
  },
  {
   "cell_type": "code",
   "execution_count": 5,
   "metadata": {
    "scrolled": true
   },
   "outputs": [
    {
     "data": {
      "text/html": [
       "<div>\n",
       "<style scoped>\n",
       "    .dataframe tbody tr th:only-of-type {\n",
       "        vertical-align: middle;\n",
       "    }\n",
       "\n",
       "    .dataframe tbody tr th {\n",
       "        vertical-align: top;\n",
       "    }\n",
       "\n",
       "    .dataframe thead th {\n",
       "        text-align: right;\n",
       "    }\n",
       "</style>\n",
       "<table border=\"1\" class=\"dataframe\">\n",
       "  <thead>\n",
       "    <tr style=\"text-align: right;\">\n",
       "      <th></th>\n",
       "      <th>hypothesis</th>\n",
       "      <th>ICE</th>\n",
       "    </tr>\n",
       "  </thead>\n",
       "  <tbody>\n",
       "    <tr>\n",
       "      <td>8</td>\n",
       "      <td>Запустить акцию, дающую скидку на товар в день рождения</td>\n",
       "      <td>16.200000</td>\n",
       "    </tr>\n",
       "    <tr>\n",
       "      <td>0</td>\n",
       "      <td>Добавить два новых канала привлечения трафика, что позволит привлекать на 30% больше пользователей</td>\n",
       "      <td>13.333333</td>\n",
       "    </tr>\n",
       "    <tr>\n",
       "      <td>7</td>\n",
       "      <td>Добавить форму подписки на все основные страницы, чтобы собрать базу клиентов для email-рассылок</td>\n",
       "      <td>11.200000</td>\n",
       "    </tr>\n",
       "    <tr>\n",
       "      <td>6</td>\n",
       "      <td>Показать на главной странице баннеры с актуальными акциями и распродажами, чтобы увеличить конверсию</td>\n",
       "      <td>8.000000</td>\n",
       "    </tr>\n",
       "    <tr>\n",
       "      <td>2</td>\n",
       "      <td>Добавить блоки рекомендаций товаров на сайт интернет магазина, чтобы повысить конверсию и средний чек заказа</td>\n",
       "      <td>7.000000</td>\n",
       "    </tr>\n",
       "    <tr>\n",
       "      <td>1</td>\n",
       "      <td>Запустить собственную службу доставки, что сократит срок доставки заказов</td>\n",
       "      <td>2.000000</td>\n",
       "    </tr>\n",
       "    <tr>\n",
       "      <td>5</td>\n",
       "      <td>Добавить страницу отзывов клиентов о магазине, что позволит увеличить количество заказов</td>\n",
       "      <td>1.333333</td>\n",
       "    </tr>\n",
       "    <tr>\n",
       "      <td>3</td>\n",
       "      <td>Изменить структура категорий, что увеличит конверсию, т.к. пользователи быстрее найдут нужный товар</td>\n",
       "      <td>1.125000</td>\n",
       "    </tr>\n",
       "    <tr>\n",
       "      <td>4</td>\n",
       "      <td>Изменить цвет фона главной страницы, чтобы увеличить вовлеченность пользователей</td>\n",
       "      <td>1.000000</td>\n",
       "    </tr>\n",
       "  </tbody>\n",
       "</table>\n",
       "</div>"
      ],
      "text/plain": [
       "                                                                                                     hypothesis  \\\n",
       "8                                                       Запустить акцию, дающую скидку на товар в день рождения   \n",
       "0            Добавить два новых канала привлечения трафика, что позволит привлекать на 30% больше пользователей   \n",
       "7              Добавить форму подписки на все основные страницы, чтобы собрать базу клиентов для email-рассылок   \n",
       "6          Показать на главной странице баннеры с актуальными акциями и распродажами, чтобы увеличить конверсию   \n",
       "2  Добавить блоки рекомендаций товаров на сайт интернет магазина, чтобы повысить конверсию и средний чек заказа   \n",
       "1                                     Запустить собственную службу доставки, что сократит срок доставки заказов   \n",
       "5                      Добавить страницу отзывов клиентов о магазине, что позволит увеличить количество заказов   \n",
       "3           Изменить структура категорий, что увеличит конверсию, т.к. пользователи быстрее найдут нужный товар   \n",
       "4                              Изменить цвет фона главной страницы, чтобы увеличить вовлеченность пользователей   \n",
       "\n",
       "         ICE  \n",
       "8  16.200000  \n",
       "0  13.333333  \n",
       "7  11.200000  \n",
       "6   8.000000  \n",
       "2   7.000000  \n",
       "1   2.000000  \n",
       "5   1.333333  \n",
       "3   1.125000  \n",
       "4   1.000000  "
      ]
     },
     "execution_count": 5,
     "metadata": {},
     "output_type": "execute_result"
    }
   ],
   "source": [
    "hypothesis['ICE'] = (hypothesis['impact'] * hypothesis['confidence']) / hypothesis['efforts']\n",
    "ice = (hypothesis[['hypothesis', 'ICE']].sort_values(by='ICE', ascending=False))\n",
    "ice"
   ]
  },
  {
   "cell_type": "code",
   "execution_count": 6,
   "metadata": {},
   "outputs": [
    {
     "name": "stdout",
     "output_type": "stream",
     "text": [
      "В ТОП-5 перспективных входят гипотезы под номерами: [8, 0, 7, 6, 2]\n"
     ]
    }
   ],
   "source": [
    "print(f\"В ТОП-5 перспективных входят гипотезы под номерами: {list(ice.index[:5])}\")"
   ]
  },
  {
   "cell_type": "markdown",
   "metadata": {},
   "source": [
    "### RICE"
   ]
  },
  {
   "cell_type": "markdown",
   "metadata": {},
   "source": [
    "Применим фреймворк RICE для приоритизации гипотез. Отсортируем их по убыванию приоритета."
   ]
  },
  {
   "cell_type": "markdown",
   "metadata": {},
   "source": [
    "Испоьзовать будем такую формулу:"
   ]
  },
  {
   "cell_type": "markdown",
   "metadata": {},
   "source": [
    "</ul></div> <br>\n",
    "$$RICE = \\frac{Rearch * Impact * Confidence}{Efforts}$$"
   ]
  },
  {
   "cell_type": "code",
   "execution_count": 7,
   "metadata": {
    "scrolled": true
   },
   "outputs": [
    {
     "data": {
      "text/html": [
       "<div>\n",
       "<style scoped>\n",
       "    .dataframe tbody tr th:only-of-type {\n",
       "        vertical-align: middle;\n",
       "    }\n",
       "\n",
       "    .dataframe tbody tr th {\n",
       "        vertical-align: top;\n",
       "    }\n",
       "\n",
       "    .dataframe thead th {\n",
       "        text-align: right;\n",
       "    }\n",
       "</style>\n",
       "<table border=\"1\" class=\"dataframe\">\n",
       "  <thead>\n",
       "    <tr style=\"text-align: right;\">\n",
       "      <th></th>\n",
       "      <th>hypothesis</th>\n",
       "      <th>RICE</th>\n",
       "    </tr>\n",
       "  </thead>\n",
       "  <tbody>\n",
       "    <tr>\n",
       "      <td>7</td>\n",
       "      <td>Добавить форму подписки на все основные страницы, чтобы собрать базу клиентов для email-рассылок</td>\n",
       "      <td>112.0</td>\n",
       "    </tr>\n",
       "    <tr>\n",
       "      <td>2</td>\n",
       "      <td>Добавить блоки рекомендаций товаров на сайт интернет магазина, чтобы повысить конверсию и средний чек заказа</td>\n",
       "      <td>56.0</td>\n",
       "    </tr>\n",
       "    <tr>\n",
       "      <td>0</td>\n",
       "      <td>Добавить два новых канала привлечения трафика, что позволит привлекать на 30% больше пользователей</td>\n",
       "      <td>40.0</td>\n",
       "    </tr>\n",
       "    <tr>\n",
       "      <td>6</td>\n",
       "      <td>Показать на главной странице баннеры с актуальными акциями и распродажами, чтобы увеличить конверсию</td>\n",
       "      <td>40.0</td>\n",
       "    </tr>\n",
       "    <tr>\n",
       "      <td>8</td>\n",
       "      <td>Запустить акцию, дающую скидку на товар в день рождения</td>\n",
       "      <td>16.2</td>\n",
       "    </tr>\n",
       "    <tr>\n",
       "      <td>3</td>\n",
       "      <td>Изменить структура категорий, что увеличит конверсию, т.к. пользователи быстрее найдут нужный товар</td>\n",
       "      <td>9.0</td>\n",
       "    </tr>\n",
       "    <tr>\n",
       "      <td>1</td>\n",
       "      <td>Запустить собственную службу доставки, что сократит срок доставки заказов</td>\n",
       "      <td>4.0</td>\n",
       "    </tr>\n",
       "    <tr>\n",
       "      <td>5</td>\n",
       "      <td>Добавить страницу отзывов клиентов о магазине, что позволит увеличить количество заказов</td>\n",
       "      <td>4.0</td>\n",
       "    </tr>\n",
       "    <tr>\n",
       "      <td>4</td>\n",
       "      <td>Изменить цвет фона главной страницы, чтобы увеличить вовлеченность пользователей</td>\n",
       "      <td>3.0</td>\n",
       "    </tr>\n",
       "  </tbody>\n",
       "</table>\n",
       "</div>"
      ],
      "text/plain": [
       "                                                                                                     hypothesis  \\\n",
       "7              Добавить форму подписки на все основные страницы, чтобы собрать базу клиентов для email-рассылок   \n",
       "2  Добавить блоки рекомендаций товаров на сайт интернет магазина, чтобы повысить конверсию и средний чек заказа   \n",
       "0            Добавить два новых канала привлечения трафика, что позволит привлекать на 30% больше пользователей   \n",
       "6          Показать на главной странице баннеры с актуальными акциями и распродажами, чтобы увеличить конверсию   \n",
       "8                                                       Запустить акцию, дающую скидку на товар в день рождения   \n",
       "3           Изменить структура категорий, что увеличит конверсию, т.к. пользователи быстрее найдут нужный товар   \n",
       "1                                     Запустить собственную службу доставки, что сократит срок доставки заказов   \n",
       "5                      Добавить страницу отзывов клиентов о магазине, что позволит увеличить количество заказов   \n",
       "4                              Изменить цвет фона главной страницы, чтобы увеличить вовлеченность пользователей   \n",
       "\n",
       "    RICE  \n",
       "7  112.0  \n",
       "2   56.0  \n",
       "0   40.0  \n",
       "6   40.0  \n",
       "8   16.2  \n",
       "3    9.0  \n",
       "1    4.0  \n",
       "5    4.0  \n",
       "4    3.0  "
      ]
     },
     "execution_count": 7,
     "metadata": {},
     "output_type": "execute_result"
    }
   ],
   "source": [
    "hypothesis['RICE'] = (hypothesis['reach'] * hypothesis['impact'] * hypothesis['confidence'])/hypothesis['efforts']\n",
    "rice = (hypothesis[['hypothesis', 'RICE']].sort_values(by='RICE', ascending=False))\n",
    "rice"
   ]
  },
  {
   "cell_type": "code",
   "execution_count": 8,
   "metadata": {},
   "outputs": [
    {
     "name": "stdout",
     "output_type": "stream",
     "text": [
      "В ТОП-5 перспективных входят гипотезы под номерами: [7, 2, 0, 6, 8]\n"
     ]
    }
   ],
   "source": [
    "print(f\"В ТОП-5 перспективных входят гипотезы под номерами: {list(rice.index[:5])}\")"
   ]
  },
  {
   "cell_type": "markdown",
   "metadata": {},
   "source": [
    "### Вывод"
   ]
  },
  {
   "cell_type": "markdown",
   "metadata": {},
   "source": [
    "В результате использования фреймворков ICE и RICE для приоретизации гипотез мы отобрали ТОП-5 самых перспективных, при этом, в зависимости от метода приоритезации гипотезы заняли различные позиции относительно друго друга. Только гипотеза под номером 6 в обоих случаях занимает 4 место."
   ]
  },
  {
   "cell_type": "markdown",
   "metadata": {},
   "source": [
    "<div class=\"alert alert-info\" style=\"border:solid blue 2px; padding: 20px\"> <b>Комментарий студента:</b> Покажи, пожалуйста, как можно сделать слоупграфы. Я так поняла, что отдельно такого вида графиков в matplotlib или seaborn нет (ну или я не нашла в документации). Я попробовала сделать просто через цикл и plot, но как-то кривовательно выглядит. </div>"
   ]
  },
  {
   "cell_type": "code",
   "execution_count": 9,
   "metadata": {},
   "outputs": [
    {
     "data": {
      "image/png": "[encoded data removed]",
      "text/plain": [
       "<Figure size 360x360 with 1 Axes>"
      ]
     },
     "metadata": {
      "needs_background": "light"
     },
     "output_type": "display_data"
    }
   ],
   "source": [
    "plt.figure(figsize=(5, 5))\n",
    "for i in list(ice.index[:5]):\n",
    "    y = [list(ice.index[:5]).index(i)+1, list(rice.index[:5]).index(i)+1]\n",
    "    plt.plot(y,'-o', label=f'Гипотеза № {i}')\n",
    "    plt.yticks([1, 2, 3, 4, 5])\n",
    "    plt.xticks([1])\n",
    "    plt.legend()\n",
    "    plt.title('Изменение приоритетов')\n",
    "    plt.ylabel('Приоритет')"
   ]
  },
  {
   "cell_type": "markdown",
   "metadata": {},
   "source": [
    "<div style=\"border-radius: 15px; box-shadow: 4px 4px 4px; border: solid green 2px; padding: 20px\"> <b>Комментарий 2</b><br>Это отличный вариант графика👍  Да, ты права, библиотечного решения нет, ты пошла верным путем. Один из вариантов можно посмотреть <a href=\"https://storage.yandexcloud.net/public-bucket-6/lolipop.txt\">тут</a></div> "
   ]
  },
  {
   "cell_type": "markdown",
   "metadata": {},
   "source": [
    "Такая перестановка произошла из-за значения охвата пользователей:\n",
    "- у гипотез 7 и 2 - параметр Reach очень высокий, именно он позволил этим гипотезам подняться\n",
    "- у гипотез 0 и 8 параметр охвата очень низкий, поэтому они опустились ниже"
   ]
  },
  {
   "cell_type": "markdown",
   "metadata": {},
   "source": [
    "<div style=\"border-radius: 15px; box-shadow: 4px 4px 4px; border: solid green 2px; padding: 20px\"> <b>Отличная работа</b><br>\n",
    "Ты отлично справилась с приоритезацией гипотез, разобралась, что признак <code>REACH</code> может оказывать сильное влияние</div> <br>\n",
    "<div style=\"border-radius: 15px; box-shadow: 4px 4px 4px; border: solid orange 2px; padding: 20px\"> <b>Что можно улучшить</b><br>\n",
    "<ul>\n",
    "    <li> гипотезы имеют длинные названия, чтобы они полностью отображались  можно использовать <a href=\"https://pandas.pydata.org/pandas-docs/stable/user_guide/options.html\">опции pandas</a>\n",
    "   <li>в качестве визуализации изменения приоритетов можно использовать <a href=\"https://datayoga.ru/tpost/zh3s62fori-sloupgraf\">slope graph</a>\n",
    "    <li> В отчёте есть формулы для расчёта приоритезации, почему бы их не оформить, для этого есть микропакет для вёрстки `LaTex` - <a href=\"https://www.youtube.com/watch?v=vSc25kdgecg\">Использование LaTex в Jupyter Notebook</a>\n",
    "<br><a href=\"https://www.overleaf.com/static/latex/learn/free-online-introduction-to-latex-part-1.pdf\">LaTex for beginners</a>. Вот так будут выглядеть формулы:👇\n",
    "</ul></div> <br>\n",
    "\n",
    "$$ICE = \\frac{Impact * Confidence}{Efforts}$$\n",
    "\n",
    "$$RICE = \\frac{Rearch * Impact * Confidence}{Efforts}$$\n",
    "<hr style=\"border: 2px solid orange;\" />"
   ]
  },
  {
   "cell_type": "markdown",
   "metadata": {},
   "source": [
    "<div class=\"alert alert-info\" style=\"border:solid blue 2px; padding: 20px\"> <b>Комментарий студента:</b> Спасибо, так намного лучше!</div>"
   ]
  },
  {
   "cell_type": "markdown",
   "metadata": {},
   "source": [
    "<div style=\"border-radius: 15px; box-shadow: 4px 4px 4px; border: solid green 2px; padding: 20px\"> <b>Отличная работа 2</b><br>Круто, что ты попробовала рекомендации👍</div> "
   ]
  },
  {
   "cell_type": "markdown",
   "metadata": {},
   "source": [
    "## Анализ A/B-теста"
   ]
  },
  {
   "cell_type": "markdown",
   "metadata": {},
   "source": [
    "Описание данных:\n",
    "\n",
    "Файл /datasets/orders.csv\n",
    "\n",
    "- transactionId — идентификатор заказа;\n",
    "- visitorId — идентификатор пользователя, совершившего заказ;\n",
    "- date — дата, когда был совершён заказ;\n",
    "- revenue — выручка заказа;\n",
    "- group — группа A/B-теста, в которую попал заказ.\n",
    "\n",
    "Файл /datasets/visitors.csv\n",
    "\n",
    "- date — дата;\n",
    "- group — группа A/B-теста;\n",
    "- visitors — количество пользователей в указанную дату в указанной группе A/B-теста"
   ]
  },
  {
   "cell_type": "markdown",
   "metadata": {},
   "source": [
    "### Подготовка данных"
   ]
  },
  {
   "cell_type": "code",
   "execution_count": 10,
   "metadata": {},
   "outputs": [],
   "source": [
    "orders = pd.read_csv('/datasets/orders.csv')\n",
    "visitors = pd.read_csv('/datasets/visitors.csv')"
   ]
  },
  {
   "cell_type": "markdown",
   "metadata": {},
   "source": [
    "**Проверим таблицы на наличие дубликатов, проверим типы данных**"
   ]
  },
  {
   "cell_type": "code",
   "execution_count": 11,
   "metadata": {
    "scrolled": false
   },
   "outputs": [
    {
     "name": "stdout",
     "output_type": "stream",
     "text": [
      "<class 'pandas.core.frame.DataFrame'>\n",
      "RangeIndex: 1197 entries, 0 to 1196\n",
      "Data columns (total 5 columns):\n",
      "transactionId    1197 non-null int64\n",
      "visitorId        1197 non-null int64\n",
      "date             1197 non-null object\n",
      "revenue          1197 non-null int64\n",
      "group            1197 non-null object\n",
      "dtypes: int64(3), object(2)\n",
      "memory usage: 46.9+ KB\n"
     ]
    }
   ],
   "source": [
    "orders.info()"
   ]
  },
  {
   "cell_type": "code",
   "execution_count": 12,
   "metadata": {},
   "outputs": [
    {
     "data": {
      "text/html": [
       "<div>\n",
       "<style scoped>\n",
       "    .dataframe tbody tr th:only-of-type {\n",
       "        vertical-align: middle;\n",
       "    }\n",
       "\n",
       "    .dataframe tbody tr th {\n",
       "        vertical-align: top;\n",
       "    }\n",
       "\n",
       "    .dataframe thead th {\n",
       "        text-align: right;\n",
       "    }\n",
       "</style>\n",
       "<table border=\"1\" class=\"dataframe\">\n",
       "  <thead>\n",
       "    <tr style=\"text-align: right;\">\n",
       "      <th></th>\n",
       "      <th>transactionId</th>\n",
       "      <th>visitorId</th>\n",
       "      <th>date</th>\n",
       "      <th>revenue</th>\n",
       "      <th>group</th>\n",
       "    </tr>\n",
       "  </thead>\n",
       "  <tbody>\n",
       "    <tr>\n",
       "      <td>962</td>\n",
       "      <td>3024416906</td>\n",
       "      <td>530257481</td>\n",
       "      <td>2019-08-10</td>\n",
       "      <td>19260</td>\n",
       "      <td>B</td>\n",
       "    </tr>\n",
       "    <tr>\n",
       "      <td>342</td>\n",
       "      <td>1676080802</td>\n",
       "      <td>910107897</td>\n",
       "      <td>2019-08-03</td>\n",
       "      <td>690</td>\n",
       "      <td>A</td>\n",
       "    </tr>\n",
       "    <tr>\n",
       "      <td>1034</td>\n",
       "      <td>2640648270</td>\n",
       "      <td>2245562049</td>\n",
       "      <td>2019-08-10</td>\n",
       "      <td>11990</td>\n",
       "      <td>B</td>\n",
       "    </tr>\n",
       "    <tr>\n",
       "      <td>43</td>\n",
       "      <td>2960804513</td>\n",
       "      <td>544632063</td>\n",
       "      <td>2019-08-15</td>\n",
       "      <td>2480</td>\n",
       "      <td>B</td>\n",
       "    </tr>\n",
       "    <tr>\n",
       "      <td>36</td>\n",
       "      <td>2165344951</td>\n",
       "      <td>2805132315</td>\n",
       "      <td>2019-08-15</td>\n",
       "      <td>2470</td>\n",
       "      <td>B</td>\n",
       "    </tr>\n",
       "  </tbody>\n",
       "</table>\n",
       "</div>"
      ],
      "text/plain": [
       "      transactionId   visitorId        date  revenue group\n",
       "962      3024416906   530257481  2019-08-10    19260     B\n",
       "342      1676080802   910107897  2019-08-03      690     A\n",
       "1034     2640648270  2245562049  2019-08-10    11990     B\n",
       "43       2960804513   544632063  2019-08-15     2480     B\n",
       "36       2165344951  2805132315  2019-08-15     2470     B"
      ]
     },
     "execution_count": 12,
     "metadata": {},
     "output_type": "execute_result"
    }
   ],
   "source": [
    "orders.sample(5)"
   ]
  },
  {
   "cell_type": "code",
   "execution_count": 13,
   "metadata": {
    "scrolled": false
   },
   "outputs": [
    {
     "name": "stdout",
     "output_type": "stream",
     "text": [
      "<class 'pandas.core.frame.DataFrame'>\n",
      "RangeIndex: 62 entries, 0 to 61\n",
      "Data columns (total 3 columns):\n",
      "date        62 non-null object\n",
      "group       62 non-null object\n",
      "visitors    62 non-null int64\n",
      "dtypes: int64(1), object(2)\n",
      "memory usage: 1.6+ KB\n"
     ]
    }
   ],
   "source": [
    "visitors.info()"
   ]
  },
  {
   "cell_type": "code",
   "execution_count": 14,
   "metadata": {},
   "outputs": [
    {
     "data": {
      "text/html": [
       "<div>\n",
       "<style scoped>\n",
       "    .dataframe tbody tr th:only-of-type {\n",
       "        vertical-align: middle;\n",
       "    }\n",
       "\n",
       "    .dataframe tbody tr th {\n",
       "        vertical-align: top;\n",
       "    }\n",
       "\n",
       "    .dataframe thead th {\n",
       "        text-align: right;\n",
       "    }\n",
       "</style>\n",
       "<table border=\"1\" class=\"dataframe\">\n",
       "  <thead>\n",
       "    <tr style=\"text-align: right;\">\n",
       "      <th></th>\n",
       "      <th>date</th>\n",
       "      <th>group</th>\n",
       "      <th>visitors</th>\n",
       "    </tr>\n",
       "  </thead>\n",
       "  <tbody>\n",
       "    <tr>\n",
       "      <td>30</td>\n",
       "      <td>2019-08-31</td>\n",
       "      <td>A</td>\n",
       "      <td>699</td>\n",
       "    </tr>\n",
       "    <tr>\n",
       "      <td>37</td>\n",
       "      <td>2019-08-07</td>\n",
       "      <td>B</td>\n",
       "      <td>709</td>\n",
       "    </tr>\n",
       "    <tr>\n",
       "      <td>27</td>\n",
       "      <td>2019-08-28</td>\n",
       "      <td>A</td>\n",
       "      <td>594</td>\n",
       "    </tr>\n",
       "    <tr>\n",
       "      <td>43</td>\n",
       "      <td>2019-08-13</td>\n",
       "      <td>B</td>\n",
       "      <td>769</td>\n",
       "    </tr>\n",
       "    <tr>\n",
       "      <td>31</td>\n",
       "      <td>2019-08-01</td>\n",
       "      <td>B</td>\n",
       "      <td>713</td>\n",
       "    </tr>\n",
       "  </tbody>\n",
       "</table>\n",
       "</div>"
      ],
      "text/plain": [
       "          date group  visitors\n",
       "30  2019-08-31     A       699\n",
       "37  2019-08-07     B       709\n",
       "27  2019-08-28     A       594\n",
       "43  2019-08-13     B       769\n",
       "31  2019-08-01     B       713"
      ]
     },
     "execution_count": 14,
     "metadata": {},
     "output_type": "execute_result"
    }
   ],
   "source": [
    "visitors.sample(5)"
   ]
  },
  {
   "cell_type": "markdown",
   "metadata": {},
   "source": [
    "*Переименуем столбцы с id*"
   ]
  },
  {
   "cell_type": "code",
   "execution_count": 15,
   "metadata": {},
   "outputs": [],
   "source": [
    "orders.rename(columns={'transactionId': 'transaction_id', 'visitorId': 'visitor_id'}, inplace=True)"
   ]
  },
  {
   "cell_type": "markdown",
   "metadata": {},
   "source": [
    "*Поищем дубликаты*"
   ]
  },
  {
   "cell_type": "code",
   "execution_count": 16,
   "metadata": {
    "scrolled": false
   },
   "outputs": [
    {
     "data": {
      "text/plain": [
       "0"
      ]
     },
     "execution_count": 16,
     "metadata": {},
     "output_type": "execute_result"
    }
   ],
   "source": [
    "orders.duplicated().sum()"
   ]
  },
  {
   "cell_type": "code",
   "execution_count": 17,
   "metadata": {},
   "outputs": [
    {
     "data": {
      "text/plain": [
       "0"
      ]
     },
     "execution_count": 17,
     "metadata": {},
     "output_type": "execute_result"
    }
   ],
   "source": [
    "visitors.duplicated().sum()"
   ]
  },
  {
   "cell_type": "markdown",
   "metadata": {},
   "source": [
    "*Исправим тип данных*"
   ]
  },
  {
   "cell_type": "code",
   "execution_count": 18,
   "metadata": {},
   "outputs": [],
   "source": [
    "orders['date'] = pd.to_datetime(orders['date'])\n",
    "visitors['date'] = pd.to_datetime(visitors['date'])"
   ]
  },
  {
   "cell_type": "markdown",
   "metadata": {},
   "source": [
    "*Проверим, нет ли лишних групп*"
   ]
  },
  {
   "cell_type": "code",
   "execution_count": 19,
   "metadata": {},
   "outputs": [
    {
     "data": {
      "text/plain": [
       "array(['B', 'A'], dtype=object)"
      ]
     },
     "execution_count": 19,
     "metadata": {},
     "output_type": "execute_result"
    }
   ],
   "source": [
    "orders['group'].unique()"
   ]
  },
  {
   "cell_type": "code",
   "execution_count": 20,
   "metadata": {},
   "outputs": [
    {
     "data": {
      "text/plain": [
       "array(['A', 'B'], dtype=object)"
      ]
     },
     "execution_count": 20,
     "metadata": {},
     "output_type": "execute_result"
    }
   ],
   "source": [
    "visitors['group'].unique()"
   ]
  },
  {
   "cell_type": "markdown",
   "metadata": {},
   "source": [
    "*Проверим на пропуски*"
   ]
  },
  {
   "cell_type": "code",
   "execution_count": 21,
   "metadata": {},
   "outputs": [
    {
     "name": "stdout",
     "output_type": "stream",
     "text": [
      "date        0.0\n",
      "group       0.0\n",
      "visitors    0.0\n",
      "dtype: float64\n",
      "transaction_id    0.0\n",
      "visitor_id        0.0\n",
      "date              0.0\n",
      "revenue           0.0\n",
      "group             0.0\n",
      "dtype: float64\n"
     ]
    }
   ],
   "source": [
    "for i in (visitors, orders):\n",
    "    print(round((i.isna().mean()*100),2))"
   ]
  },
  {
   "cell_type": "markdown",
   "metadata": {},
   "source": [
    "Дубликатов и пропусков не обнаружено, данные в столбцах 'date' приведены к типу datetime."
   ]
  },
  {
   "cell_type": "markdown",
   "metadata": {},
   "source": [
    "**Проверим, не встречаются ли одни и те же пользователи в разных группах.**"
   ]
  },
  {
   "cell_type": "code",
   "execution_count": 22,
   "metadata": {
    "scrolled": true
   },
   "outputs": [
    {
     "data": {
      "text/plain": [
       "58"
      ]
     },
     "execution_count": 22,
     "metadata": {},
     "output_type": "execute_result"
    }
   ],
   "source": [
    "wrong_visitors = np.intersect1d(orders.query('group == \"A\"')['visitor_id'].unique(), \n",
    "                                orders.query('group == \"B\"')['visitor_id'].unique())\n",
    "len(wrong_visitors)"
   ]
  },
  {
   "cell_type": "markdown",
   "metadata": {},
   "source": [
    "58 пользователей, чьи заказы входят в обе группы, так быть не должно, избавимся от них"
   ]
  },
  {
   "cell_type": "code",
   "execution_count": 23,
   "metadata": {},
   "outputs": [],
   "source": [
    "orders = orders[~orders['visitor_id'].isin(wrong_visitors)]"
   ]
  },
  {
   "cell_type": "markdown",
   "metadata": {},
   "source": [
    "<div style=\"border-radius: 15px; box-shadow: 4px 4px 4px; border: solid green 2px; padding: 20px\"> <b>Отличная работа - ✅</b><br>\n",
    "Супер, обзор данных выполнен отлично! Молодец, что проверила пересечение пользователей - их можно было не удалять, тк исключение происходит только по заказам, а про визиты ничего не известно</div> <br>"
   ]
  },
  {
   "cell_type": "markdown",
   "metadata": {},
   "source": [
    "### График кумулятивной выручки по группам"
   ]
  },
  {
   "cell_type": "code",
   "execution_count": 24,
   "metadata": {},
   "outputs": [],
   "source": [
    "datesGroups = orders[['date', 'group']].drop_duplicates()\n",
    "ordersAggregated = datesGroups.apply(\n",
    "    lambda x: orders[\n",
    "        np.logical_and(\n",
    "            orders['date'] <= x['date'], orders['group'] == x['group']\n",
    "        )\n",
    "    ].agg(\n",
    "        {\n",
    "            'date': 'max',\n",
    "            'group': 'max',\n",
    "            'transaction_id': 'nunique',\n",
    "            'visitor_id': 'nunique',\n",
    "            'revenue': 'sum',\n",
    "        }\n",
    "    ),\n",
    "    axis=1,\n",
    ").sort_values(by=['date', 'group'])\n",
    "\n",
    "visitorsAggregated = datesGroups.apply(\n",
    "    lambda x: visitors[\n",
    "        np.logical_and(\n",
    "            visitors['date'] <= x['date'], visitors['group'] == x['group']\n",
    "        )\n",
    "    ].agg({'date': 'max', 'group': 'max', 'visitors': 'sum'}),\n",
    "    axis=1,\n",
    ").sort_values(by=['date', 'group'])\n",
    "\n",
    "\n",
    "cumulativeData = ordersAggregated.merge(\n",
    "    visitorsAggregated, left_on=['date', 'group'], right_on=['date', 'group']\n",
    ")\n",
    "cumulativeData.columns = [\n",
    "    'date',\n",
    "    'group',\n",
    "    'orders',\n",
    "    'buyers',\n",
    "    'revenue',\n",
    "    'visitors',\n",
    "]"
   ]
  },
  {
   "cell_type": "code",
   "execution_count": 25,
   "metadata": {
    "scrolled": true
   },
   "outputs": [
    {
     "data": {
      "image/png": "[encoded data removed]",
      "text/plain": [
       "<Figure size 432x288 with 1 Axes>"
      ]
     },
     "metadata": {
      "needs_background": "light"
     },
     "output_type": "display_data"
    }
   ],
   "source": [
    "cumulativeRevenueA = cumulativeData[cumulativeData['group']=='A'][['date','revenue', 'orders']]\n",
    "cumulativeRevenueB = cumulativeData[cumulativeData['group']=='B'][['date','revenue', 'orders']]\n",
    "plt.plot(cumulativeRevenueA['date'], cumulativeRevenueA['revenue'], label='A')\n",
    "plt.plot(cumulativeRevenueB['date'], cumulativeRevenueB['revenue'], label='B')\n",
    "plt.xticks(rotation=90)\n",
    "plt.legend()\n",
    "plt.title('Кумулятивная выручка по группам')\n",
    "plt.ylabel('Сумма выручки')\n",
    "plt.show()"
   ]
  },
  {
   "cell_type": "markdown",
   "metadata": {},
   "source": [
    "По графику виден рост выручки группы B. При этом есть участок с резким приростом, который выглядит подозрительно, возможно, это выброс."
   ]
  },
  {
   "cell_type": "markdown",
   "metadata": {},
   "source": [
    "### График кумулятивного среднего чека по группам"
   ]
  },
  {
   "cell_type": "code",
   "execution_count": 26,
   "metadata": {},
   "outputs": [
    {
     "data": {
      "image/png": "[encoded data removed]",
      "text/plain": [
       "<Figure size 432x288 with 1 Axes>"
      ]
     },
     "metadata": {
      "needs_background": "light"
     },
     "output_type": "display_data"
    }
   ],
   "source": [
    "plt.plot(cumulativeRevenueA['date'], cumulativeRevenueA['revenue']/cumulativeRevenueA['orders'], label='A')\n",
    "plt.plot(cumulativeRevenueB['date'], cumulativeRevenueB['revenue']/cumulativeRevenueB['orders'], label='B')\n",
    "plt.xticks(rotation=90)\n",
    "plt.legend()\n",
    "plt.title('Кумулятивный средний чек по группам')\n",
    "plt.ylabel('Средний чек')\n",
    "plt.show()"
   ]
  },
  {
   "cell_type": "markdown",
   "metadata": {},
   "source": [
    "Средний чек колеблется, снова группа B вырывается вперед босле подозрительного резкого прироста."
   ]
  },
  {
   "cell_type": "markdown",
   "metadata": {},
   "source": [
    "### График относительного изменения кумулятивного среднего чека группы B к группе A"
   ]
  },
  {
   "cell_type": "code",
   "execution_count": 27,
   "metadata": {},
   "outputs": [
    {
     "data": {
      "image/png": "[encoded data removed]",
      "text/plain": [
       "<Figure size 432x288 with 1 Axes>"
      ]
     },
     "metadata": {
      "needs_background": "light"
     },
     "output_type": "display_data"
    }
   ],
   "source": [
    "cumulativeRevenueA = cumulativeData[cumulativeData['group'] == 'A'][\n",
    "    ['date', 'revenue', 'orders']\n",
    "]\n",
    "cumulativeRevenueB = cumulativeData[cumulativeData['group'] == 'B'][\n",
    "    ['date', 'revenue', 'orders']\n",
    "]\n",
    "\n",
    "mergedCumulativeRevenue = cumulativeRevenueA.merge(\n",
    "    cumulativeRevenueB, left_on='date', right_on='date', how='left', suffixes=['A', 'B'])\n",
    "plt.plot(mergedCumulativeRevenue['date'], \n",
    "         (mergedCumulativeRevenue['revenueB']/mergedCumulativeRevenue['ordersB'])\n",
    "         /(mergedCumulativeRevenue['revenueA']/mergedCumulativeRevenue['ordersA'])-1, \n",
    "         label=\"Относительный прирост среднего чека группы B относительно группы A\")\n",
    "plt.axhline(y=0, color='black', linestyle='--')\n",
    "plt.xticks(rotation=90)\n",
    "plt.legend()\n",
    "plt.title('Относительное изменение кумулятивного среднего чека по группам')\n",
    "plt.ylabel('Отклонение, %')\n",
    "plt.show()"
   ]
  },
  {
   "cell_type": "markdown",
   "metadata": {},
   "source": [
    "Кумулятивный средний чек группы B нестабилен относительно группы A, есть участки графика с резкими скачками как в положительную, так и отрицательную сторону."
   ]
  },
  {
   "cell_type": "markdown",
   "metadata": {},
   "source": [
    "### График кумулятивной конверсии по группам"
   ]
  },
  {
   "cell_type": "code",
   "execution_count": 28,
   "metadata": {
    "scrolled": true
   },
   "outputs": [
    {
     "data": {
      "image/png": "[encoded data removed]",
      "text/plain": [
       "<Figure size 432x288 with 1 Axes>"
      ]
     },
     "metadata": {
      "needs_background": "light"
     },
     "output_type": "display_data"
    }
   ],
   "source": [
    "cumulativeData['conversion'] = cumulativeData['orders']/cumulativeData['visitors']\n",
    "cumulativeDataA = cumulativeData[cumulativeData['group']=='A']\n",
    "cumulativeDataB = cumulativeData[cumulativeData['group']=='B']\n",
    "\n",
    "plt.plot(cumulativeDataA['date'], cumulativeDataA['conversion'], label='A')\n",
    "plt.plot(cumulativeDataB['date'], cumulativeDataB['conversion'], label='B')\n",
    "plt.xticks(rotation=90)\n",
    "plt.legend()\n",
    "plt.title('Кумулятивная конверсия по группам')\n",
    "plt.axis([dt.datetime(2019, 8, 5), dt.datetime(2019, 9, 1), 0, 0.05])\n",
    "plt.ylabel('Конверсия')\n",
    "plt.show()"
   ]
  },
  {
   "cell_type": "markdown",
   "metadata": {},
   "source": [
    "Сначала группа A имела большую конверсию, но затем конверсия группы B подросла и стабильно держится выше A. При этом сама по себе разница небольшая."
   ]
  },
  {
   "cell_type": "markdown",
   "metadata": {},
   "source": [
    "### График относительного изменения кумулятивной конверсии группы B к группе A"
   ]
  },
  {
   "cell_type": "code",
   "execution_count": 29,
   "metadata": {
    "scrolled": false
   },
   "outputs": [
    {
     "data": {
      "image/png": "[encoded data removed]",
      "text/plain": [
       "<Figure size 432x288 with 1 Axes>"
      ]
     },
     "metadata": {
      "needs_background": "light"
     },
     "output_type": "display_data"
    }
   ],
   "source": [
    "cumulativeData['conversion'] = (\n",
    "    cumulativeData['orders'] / cumulativeData['visitors']\n",
    ")\n",
    "\n",
    "cumulativeDataA = cumulativeData[cumulativeData['group'] == 'A']\n",
    "cumulativeDataB = cumulativeData[cumulativeData['group'] == 'B']\n",
    "\n",
    "mergedCumulativeConversions = (\n",
    "    cumulativeDataA[['date','conversion']]\n",
    "    .merge(cumulativeDataB[['date','conversion']], \n",
    "           left_on='date', right_on='date', how='left', suffixes=['A', 'B'])\n",
    ")\n",
    "\n",
    "plt.plot(mergedCumulativeConversions['date'], mergedCumulativeConversions['conversionB']/mergedCumulativeConversions['conversionA']-1, label=\"Относительный прирост конверсии группы B относительно группы A\")\n",
    "plt.legend()\n",
    "plt.title('Относительное изменение кумулятивной конверсии по группам')\n",
    "plt.ylabel('Отклонение, %')\n",
    "plt.axhline(y=0, color='black', linestyle='--')\n",
    "plt.axhline(y=0.2, color='grey', linestyle='--')\n",
    "plt.xticks(rotation=90)\n",
    "plt.show()"
   ]
  },
  {
   "cell_type": "markdown",
   "metadata": {},
   "source": [
    "Группа B лучше группы A по конверсии, разница до 20% в пике. Также присутсвует резкий скачек вверх."
   ]
  },
  {
   "cell_type": "markdown",
   "metadata": {},
   "source": [
    "<div style=\"border-radius: 15px; box-shadow: 4px 4px 4px; border: solid green 2px; padding: 20px\"> <b>Отличная работа - ✅</b><br>\n",
    "Раздел выполнен отлично: построены и проанализированы графики метрик, отмечены аномалии и их возможные причины, молодец👌</div> <br>"
   ]
  },
  {
   "cell_type": "markdown",
   "metadata": {},
   "source": [
    "### Точечный график количества заказов по пользователям"
   ]
  },
  {
   "cell_type": "code",
   "execution_count": 30,
   "metadata": {
    "scrolled": true
   },
   "outputs": [
    {
     "data": {
      "image/png": "[encoded data removed]",
      "text/plain": [
       "<Figure size 432x288 with 1 Axes>"
      ]
     },
     "metadata": {
      "needs_background": "light"
     },
     "output_type": "display_data"
    }
   ],
   "source": [
    "ordersByUsers = (\n",
    "    orders.groupby('visitor_id', as_index=False)\n",
    "    .agg({'transaction_id': pd.Series.nunique})\n",
    ")\n",
    "ordersByUsers.columns = ['visitor_id', 'orders']\n",
    "\n",
    "x_values = pd.Series(range(0, len(ordersByUsers)))\n",
    "plt.scatter(x_values, ordersByUsers['orders']) \n",
    "plt.title('Количество заказов пользователей')\n",
    "plt.ylabel('Кол-во заказов')\n",
    "plt.xlabel('Пользователи')\n",
    "plt.show()"
   ]
  },
  {
   "cell_type": "markdown",
   "metadata": {},
   "source": [
    "Пользователей, сделавших более одного заказа довольно мало."
   ]
  },
  {
   "cell_type": "markdown",
   "metadata": {},
   "source": [
    "### Расчет 95-й и 99-й перцентилей количества заказов на пользователя"
   ]
  },
  {
   "cell_type": "code",
   "execution_count": 31,
   "metadata": {},
   "outputs": [
    {
     "data": {
      "text/plain": [
       "array([1., 1., 2.])"
      ]
     },
     "execution_count": 31,
     "metadata": {},
     "output_type": "execute_result"
    }
   ],
   "source": [
    "np.percentile(ordersByUsers['orders'], [90, 95, 99])"
   ]
  },
  {
   "cell_type": "markdown",
   "metadata": {},
   "source": [
    "Не более 1% пользователей совершили больше двух заказов, будем считать их аномалиями."
   ]
  },
  {
   "cell_type": "markdown",
   "metadata": {},
   "source": [
    "### Точечный график стоимостей заказов"
   ]
  },
  {
   "cell_type": "code",
   "execution_count": 32,
   "metadata": {},
   "outputs": [
    {
     "data": {
      "image/png": "[encoded data removed]",
      "text/plain": [
       "<Figure size 432x288 with 1 Axes>"
      ]
     },
     "metadata": {
      "needs_background": "light"
     },
     "output_type": "display_data"
    }
   ],
   "source": [
    "x_values = pd.Series(range(0, len(orders['revenue'])))\n",
    "\n",
    "plt.scatter(x_values, orders['revenue']) \n",
    "plt.title('Стоимость заказов пользователей')\n",
    "plt.ylabel('Стоимость заказа')\n",
    "plt.xlabel('Пользователи')\n",
    "plt.show()"
   ]
  },
  {
   "cell_type": "markdown",
   "metadata": {},
   "source": [
    "Видны аномальные заказы от 200 000,00 у.е."
   ]
  },
  {
   "cell_type": "markdown",
   "metadata": {},
   "source": [
    "### Расчет 95-й и 99-й перцентилей стоимости заказов"
   ]
  },
  {
   "cell_type": "code",
   "execution_count": 33,
   "metadata": {},
   "outputs": [
    {
     "data": {
      "text/plain": [
       "array([17990., 26785., 53904.])"
      ]
     },
     "execution_count": 33,
     "metadata": {},
     "output_type": "execute_result"
    }
   ],
   "source": [
    "np.percentile(orders['revenue'], [90, 95, 99])"
   ]
  },
  {
   "cell_type": "markdown",
   "metadata": {},
   "source": [
    "Не более 1% пользователей совершили покупки на сумму более 53 904,00 у.е., будем считать их аномалиями."
   ]
  },
  {
   "cell_type": "markdown",
   "metadata": {},
   "source": [
    "<div style=\"border-radius: 15px; box-shadow: 4px 4px 4px; border: solid green 2px; padding: 20px\"> <b>Отличная работа - ✅</b><br>\n",
    "Границы аномалий выбраны корректно!</div> <br>\n",
    "<div style=\"border-radius: 15px; box-shadow: 4px 4px 4px; border: solid red 2px; padding: 20px\"> <b>Что необходимо доработать - ⛔️</b><br>\n",
    "Не забываем про оформление графиков - заголовки и подписи осей. Проверь пожалуйста все графики в работе</div><br>"
   ]
  },
  {
   "cell_type": "markdown",
   "metadata": {},
   "source": [
    "<div class=\"alert alert-info\" style=\"border:solid blue 2px; padding: 20px\"> <b>Комментарий студента:</b> Иногда совершенно из головы вылетает оформление, исправила!</div>"
   ]
  },
  {
   "cell_type": "markdown",
   "metadata": {},
   "source": [
    "<div style=\"border-radius: 15px; box-shadow: 4px 4px 4px; border: solid green 2px; padding: 20px\"> <b>Отличная работа 2</b><br>👍<br>\n",
    "На одном из проектов, попался очень придирчивый заказчик - если не было легенды или подписи по оси или другой какой-тот мелочи, то разговор уже мог быть не про задачу, а про всё что угодно🤷‍♂️ Хотя материалы рабочие, но он не принимал таких комментариев</div> "
   ]
  },
  {
   "cell_type": "markdown",
   "metadata": {},
   "source": [
    "### Расчет статистической значимости различий в конверсии между группами по «сырым» данным"
   ]
  },
  {
   "cell_type": "markdown",
   "metadata": {},
   "source": [
    "**Сформулируем гипотезы:**\n",
    "\n",
    "H0: Конверсии двух групп равны\n",
    "\n",
    "H1: Конверсии двух групп различаются"
   ]
  },
  {
   "cell_type": "markdown",
   "metadata": {},
   "source": [
    "<div style=\"border-radius: 15px; box-shadow: 4px 4px 4px; border: solid green 2px; padding: 20px\"> <b>Отличная работа 2</b><br>\n",
    "Гипотезы сформулированы верно ✅</div> <br>"
   ]
  },
  {
   "cell_type": "code",
   "execution_count": 34,
   "metadata": {
    "scrolled": true
   },
   "outputs": [
    {
     "name": "stdout",
     "output_type": "stream",
     "text": [
      "P-value = 0.00551\n",
      "Относительное различие в конверсии между группами A и B составляет 0.160\n"
     ]
    }
   ],
   "source": [
    "visitorsADaily = visitors[visitors['group'] == 'A'][['date', 'visitors']]\n",
    "visitorsADaily.columns = ['date', 'visitorsPerDateA']\n",
    "\n",
    "visitorsACummulative = visitorsADaily.apply(\n",
    "    lambda x: visitorsADaily[visitorsADaily['date'] <= x['date']].agg(\n",
    "        {'date': 'max', 'visitorsPerDateA': 'sum'}\n",
    "    ),\n",
    "    axis=1,\n",
    ")\n",
    "visitorsACummulative.columns = ['date', 'visitorsCummulativeA']\n",
    "\n",
    "visitorsBDaily = visitors[visitors['group'] == 'B'][['date', 'visitors']]\n",
    "visitorsBDaily.columns = ['date', 'visitorsPerDateB']\n",
    "\n",
    "visitorsBCummulative = visitorsBDaily.apply(\n",
    "    lambda x: visitorsBDaily[visitorsBDaily['date'] <= x['date']].agg(\n",
    "        {'date': 'max', 'visitorsPerDateB': 'sum'}\n",
    "    ),\n",
    "    axis=1,\n",
    ")\n",
    "visitorsBCummulative.columns = ['date', 'visitorsCummulativeB']\n",
    "\n",
    "ordersADaily = (\n",
    "    orders[orders['group'] == 'A'][['date', 'transaction_id', 'visitor_id', 'revenue']]\n",
    "    .groupby('date', as_index=False)\n",
    "    .agg({'transaction_id': pd.Series.nunique, 'revenue': 'sum'})\n",
    ")\n",
    "ordersADaily.columns = ['date', 'ordersPerDateA', 'revenuePerDateA']\n",
    "\n",
    "ordersACummulative = ordersADaily.apply(\n",
    "    lambda x: ordersADaily[ordersADaily['date'] <= x['date']].agg(\n",
    "        {'date': 'max', 'ordersPerDateA': 'sum', 'revenuePerDateA': 'sum'}\n",
    "    ),\n",
    "    axis=1,\n",
    ").sort_values(by=['date'])\n",
    "ordersACummulative.columns = [\n",
    "    'date',\n",
    "    'ordersCummulativeA',\n",
    "    'revenueCummulativeA',\n",
    "]\n",
    "\n",
    "ordersBDaily = (\n",
    "    orders[orders['group'] == 'B'][['date', 'transaction_id', 'visitor_id', 'revenue']]\n",
    "    .groupby('date', as_index=False)\n",
    "    .agg({'transaction_id': pd.Series.nunique, 'revenue': 'sum'})\n",
    ")\n",
    "ordersBDaily.columns = ['date', 'ordersPerDateB', 'revenuePerDateB']\n",
    "\n",
    "ordersBCummulative = ordersBDaily.apply(\n",
    "    lambda x: ordersBDaily[ordersBDaily['date'] <= x['date']].agg(\n",
    "        {'date': 'max', 'ordersPerDateB': 'sum', 'revenuePerDateB': 'sum'}\n",
    "    ),\n",
    "    axis=1,\n",
    ").sort_values(by=['date'])\n",
    "ordersBCummulative.columns = [\n",
    "    'date',\n",
    "    'ordersCummulativeB',\n",
    "    'revenueCummulativeB',\n",
    "]\n",
    "\n",
    "data = (\n",
    "    ordersADaily.merge(\n",
    "        ordersBDaily, left_on='date', right_on='date', how='left'\n",
    "    )\n",
    "    .merge(ordersACummulative, left_on='date', right_on='date', how='left')\n",
    "    .merge(ordersBCummulative, left_on='date', right_on='date', how='left')\n",
    "    .merge(visitorsADaily, left_on='date', right_on='date', how='left')\n",
    "    .merge(visitorsBDaily, left_on='date', right_on='date', how='left')\n",
    "    .merge(visitorsACummulative, left_on='date', right_on='date', how='left')\n",
    "    .merge(visitorsBCummulative, left_on='date', right_on='date', how='left')\n",
    ")\n",
    "\n",
    "ordersByUsersA = (\n",
    "    orders[orders['group'] == 'A']\n",
    "    .groupby('visitor_id', as_index=False)\n",
    "    .agg({'transaction_id': pd.Series.nunique})\n",
    ")\n",
    "ordersByUsersA.columns = ['visitor_id', 'orders']\n",
    "\n",
    "ordersByUsersB = (\n",
    "    orders[orders['group'] == 'B']\n",
    "    .groupby('visitor_id', as_index=False)\n",
    "    .agg({'transaction_id': pd.Series.nunique})\n",
    ")\n",
    "ordersByUsersB.columns = ['visitor_id', 'orders'] \n",
    "\n",
    "sampleA = pd.concat([ordersByUsersA['orders'],pd.Series(0, index=np.arange(data['visitorsPerDateA'].sum() - len(ordersByUsersA['orders'])), name='orders')],axis=0)\n",
    "\n",
    "sampleB = pd.concat([ordersByUsersB['orders'],pd.Series(0, index=np.arange(data['visitorsPerDateB'].sum() - len(ordersByUsersB['orders'])), name='orders')],axis=0)\n",
    "\n",
    "print(\"P-value = {0:.5f}\".format(st.mannwhitneyu(sampleA, sampleB)[1]))\n",
    "\n",
    "print(\"Относительное различие в конверсии между группами A и B составляет {0:.3f}\".format(sampleB.mean() / sampleA.mean() - 1))"
   ]
  },
  {
   "cell_type": "markdown",
   "metadata": {},
   "source": [
    "P-value меньше 0.05, поэтому будем считать, что статистически значимая разница в конверсии двух групп есть и можно отвергнуть нулевую гипотезу. Относительный прирост конверсии в группе B к группе A равен 16%."
   ]
  },
  {
   "cell_type": "markdown",
   "metadata": {},
   "source": [
    "<div style=\"border-radius: 15px; box-shadow: 4px 4px 4px; border: solid red 2px; padding: 20px\"> <b>Что необходимо доработать - ⛔️</b><br>\n",
    "Проверь пожалуйста соотношение между расчетом и комментарием: <code>P-value = 0.00551 \\ P-value больше 0.05</code> - это нужно сделать для всех проверок и финальных выводов</div><br>"
   ]
  },
  {
   "cell_type": "markdown",
   "metadata": {},
   "source": [
    "<div class=\"alert alert-info\" style=\"border:solid blue 2px; padding: 20px\"> <b>Комментарий студента:</b> Исправила </div>"
   ]
  },
  {
   "cell_type": "markdown",
   "metadata": {},
   "source": [
    "<div style=\"border-radius: 15px; box-shadow: 4px 4px 4px; border: solid green 2px; padding: 20px\"> <b>Отличная работа 2</b><br>👍</div> "
   ]
  },
  {
   "cell_type": "markdown",
   "metadata": {},
   "source": [
    "### Расчет статистической значимости различий в среднем чеке заказа между группами по «сырым» данным"
   ]
  },
  {
   "cell_type": "markdown",
   "metadata": {},
   "source": [
    "**Сформулируем гипотезы:**\n",
    "\n",
    "H0: Средние чеки двух групп равны\n",
    "\n",
    "H1: Средние чеки двух групп различаются"
   ]
  },
  {
   "cell_type": "markdown",
   "metadata": {},
   "source": [
    "<div style=\"border-radius: 15px; box-shadow: 4px 4px 4px; border: solid green 2px; padding: 20px\"> <b>Отличная работа 2</b><br>\n",
    "Гипотезы сформулированы верно ✅</div> <br>"
   ]
  },
  {
   "cell_type": "code",
   "execution_count": 35,
   "metadata": {},
   "outputs": [
    {
     "name": "stdout",
     "output_type": "stream",
     "text": [
      "P-value = 0.415\n",
      "Относительное различие в среднем чеке между группами A и B составляет 0.287\n"
     ]
    }
   ],
   "source": [
    "print('P-value = {0:.3f}'.format(st.mannwhitneyu(orders[orders['group']=='A']['revenue'], orders[orders['group']=='B']['revenue'])[1]))\n",
    "print('Относительное различие в среднем чеке между группами A и B составляет {0:.3f}'.format(orders[orders['group']=='B']['revenue'].mean()/orders[orders['group']=='A']['revenue'].mean()-1))"
   ]
  },
  {
   "cell_type": "markdown",
   "metadata": {},
   "source": [
    "P-value больше 0.05, поэтому будем считать, что статистически значимая разница в средних чеках двух групп отсутствует, то есть, нулевую гипотезу не отвергаем. При этом средний чек группы B значительно выше среднего чека группы A, разница составляет 28,7%."
   ]
  },
  {
   "cell_type": "markdown",
   "metadata": {},
   "source": [
    "### Очистка данных"
   ]
  },
  {
   "cell_type": "markdown",
   "metadata": {},
   "source": [
    "Ранее мы выяснили, что 95 и 99 перцентили стоимости заказов составили 26 785,00 у.е. и 53 904,00 у.е. соответсвенно, а те же перцентили количества заказов на одного пользователя равны 1 и 2.\n",
    "\n",
    "Будем считать аномальными пользователями тех, кто потратил на заказ более 30 000,00 у.е. и совершил более 2 заказов."
   ]
  },
  {
   "cell_type": "code",
   "execution_count": 36,
   "metadata": {},
   "outputs": [
    {
     "name": "stdout",
     "output_type": "stream",
     "text": [
      "Количество аномальных пользователей (49,)\n"
     ]
    }
   ],
   "source": [
    "usersWithManyOrders = pd.concat(\n",
    "    [\n",
    "        ordersByUsersA[ordersByUsersA['orders'] > 2]['visitor_id'],\n",
    "        ordersByUsersB[ordersByUsersB['orders'] > 2]['visitor_id'],\n",
    "    ],\n",
    "    axis=0,\n",
    ")\n",
    "usersWithExpensiveOrders = orders[orders['revenue'] > 30000]['visitor_id']\n",
    "abnormalUsers = (\n",
    "    pd.concat([usersWithManyOrders, usersWithExpensiveOrders], axis=0)\n",
    "    .drop_duplicates()\n",
    "    .sort_values()\n",
    ")\n",
    "\n",
    "print(f'Количество аномальных пользователей {abnormalUsers.shape}')"
   ]
  },
  {
   "cell_type": "markdown",
   "metadata": {},
   "source": [
    "### Расчет статистической значимости различий в конверсии между группами по «очищенным» данным"
   ]
  },
  {
   "cell_type": "markdown",
   "metadata": {},
   "source": [
    "**Повторим гипотезы:**\n",
    "\n",
    "H0: Конверсии двух групп равны\n",
    "\n",
    "H1: Конверсии двух групп различаются"
   ]
  },
  {
   "cell_type": "code",
   "execution_count": 37,
   "metadata": {},
   "outputs": [
    {
     "name": "stdout",
     "output_type": "stream",
     "text": [
      "P-value = 0.00485\n",
      "Относительное различие в конверсии между группами A и B составляет 0.187\n"
     ]
    }
   ],
   "source": [
    "sampleAFiltered = pd.concat(\n",
    "    [\n",
    "        ordersByUsersA[\n",
    "            np.logical_not(ordersByUsersA['visitor_id'].isin(abnormalUsers))\n",
    "        ]['orders'],\n",
    "        pd.Series(\n",
    "            0,\n",
    "            index=np.arange(\n",
    "                data['visitorsPerDateA'].sum() - len(ordersByUsersA['orders'])\n",
    "            ),\n",
    "            name='orders',\n",
    "        ),\n",
    "    ],\n",
    "    axis=0,\n",
    ")\n",
    "\n",
    "sampleBFiltered = pd.concat(\n",
    "    [\n",
    "        ordersByUsersB[\n",
    "            np.logical_not(ordersByUsersB['visitor_id'].isin(abnormalUsers))\n",
    "        ]['orders'],\n",
    "        pd.Series(\n",
    "            0,\n",
    "            index=np.arange(\n",
    "                data['visitorsPerDateB'].sum() - len(ordersByUsersB['orders'])\n",
    "            ),\n",
    "            name='orders',\n",
    "        ),\n",
    "    ],\n",
    "    axis=0,\n",
    ") \n",
    "\n",
    "print('P-value = {0:.5f}'.format(st.mannwhitneyu(sampleAFiltered, sampleBFiltered)[1]))\n",
    "print('Относительное различие в конверсии между группами A и B составляет {0:.3f}'.format(sampleBFiltered.mean()/sampleAFiltered.mean()-1)) "
   ]
  },
  {
   "cell_type": "markdown",
   "metadata": {},
   "source": [
    "P-value меньше 0.05, поэтому будем считать, что статистически значимая разница в конверсиях двух групп присутствует, можно отвергать нулевую гипотезу. Относительное различие конверсии в группе B к группе A составляет 18,7%."
   ]
  },
  {
   "cell_type": "markdown",
   "metadata": {},
   "source": [
    "### Расчет статистической значимости различий в среднем чеке заказа между группами по «очищенным» данным"
   ]
  },
  {
   "cell_type": "markdown",
   "metadata": {},
   "source": [
    "**Повторим гипотезы:**\n",
    "\n",
    "H0: Средние чеки двух групп равны\n",
    "\n",
    "H1: Средние чеки двух групп различаются"
   ]
  },
  {
   "cell_type": "markdown",
   "metadata": {},
   "source": [
    "<div style=\"border-radius: 15px; box-shadow: 4px 4px 4px; border: solid green 2px; padding: 20px\"> <b>Отличная работа 2</b><br>\n",
    "Гипотезы сформулированы верно ✅</div> <br>"
   ]
  },
  {
   "cell_type": "code",
   "execution_count": 38,
   "metadata": {},
   "outputs": [
    {
     "name": "stdout",
     "output_type": "stream",
     "text": [
      "P-value = 0.370\n",
      "Относительное различие в среднем чеке между группами A и B составляет -0.027\n"
     ]
    }
   ],
   "source": [
    "print(\n",
    "    'P-value = {0:.3f}'.format(\n",
    "        st.mannwhitneyu(\n",
    "            orders[\n",
    "                np.logical_and(\n",
    "                    orders['group'] == 'A',\n",
    "                    np.logical_not(orders['visitor_id'].isin(abnormalUsers)),\n",
    "                )\n",
    "            ]['revenue'],\n",
    "            orders[\n",
    "                np.logical_and(\n",
    "                    orders['group'] == 'B',\n",
    "                    np.logical_not(orders['visitor_id'].isin(abnormalUsers)),\n",
    "                )\n",
    "            ]['revenue'],\n",
    "        )[1]\n",
    "    )\n",
    ")\n",
    "\n",
    "print(\n",
    "    \"Относительное различие в среднем чеке между группами A и B составляет {0:.3f}\".format(\n",
    "        orders[\n",
    "            np.logical_and(\n",
    "                orders['group'] == 'B',\n",
    "                np.logical_not(orders['visitor_id'].isin(abnormalUsers)),\n",
    "            )\n",
    "        ]['revenue'].mean()\n",
    "        / orders[\n",
    "            np.logical_and(\n",
    "                orders['group'] == 'A',\n",
    "                np.logical_not(orders['visitor_id'].isin(abnormalUsers)),\n",
    "            )\n",
    "        ]['revenue'].mean()\n",
    "        - 1\n",
    "    )\n",
    ") "
   ]
  },
  {
   "cell_type": "markdown",
   "metadata": {},
   "source": [
    "P-value больше 0.05, поэтому будем считать, что статистически значимая разница в среднем чеке двух групп отсутствует и нулевую гипотезу отвергать не стоит. Относительное различие среднего чека в группе B к группе A после очистки данных составляет - 2,7%."
   ]
  },
  {
   "cell_type": "markdown",
   "metadata": {},
   "source": [
    "<div style=\"border-radius: 15px; box-shadow: 4px 4px 4px; border: solid red 2px; padding: 20px\"> <b>Что необходимо доработать - ⛔️</b><br>\n",
    "Попрошу тебя сформулировать гипотезы - <b>нулевую и альтернативную</b></div><br>"
   ]
  },
  {
   "cell_type": "markdown",
   "metadata": {},
   "source": [
    "<div class=\"alert alert-info\" style=\"border:solid blue 2px; padding: 20px\"> <b>Комментарий студента:</b> Сформулировала гипотезы</div>"
   ]
  },
  {
   "cell_type": "markdown",
   "metadata": {},
   "source": [
    "<div style=\"border-radius: 15px; box-shadow: 4px 4px 4px; border: solid green 2px; padding: 20px\"> <b>Отличная работа 2</b><br>👍</div> "
   ]
  },
  {
   "cell_type": "markdown",
   "metadata": {},
   "source": [
    "## Вывод"
   ]
  },
  {
   "cell_type": "markdown",
   "metadata": {},
   "source": [
    "В рамках поставленной задачи по анализу результатов A/B-теста: \n",
    "\n",
    "- подготовили данные (в т.ч. выявили и удалили из данных пользователей, присутсвующих в обеих группах)\n",
    "- проанализировали кумулятивные метрики и построили их графики\n",
    "- посчитали статистическую значимость различий в конверсии и среднем чеке \n",
    "- выявили аномалии и очистили данные\n",
    "- посчитали статистическую значимость различий в конверсии и среднем чеке на очищенных данных"
   ]
  },
  {
   "cell_type": "markdown",
   "metadata": {},
   "source": [
    "В результате проведенного анализа можно отметить следующее:\n",
    "\n",
    "- Есть статистически значимое различие в конверсии между группами как по «сырым», так и по данным после фильтрации аномалий\n",
    "- Нет статистически значимого различия по среднему чеку между группами ни по «сырым», ни по данным после фильтрации аномалий\n",
    "- График различия конверсии между группами сообщает, что результаты группы B лучше группы A, относительное различие конверсии в группе B к группе A составляет 18,7%\n",
    "- График различия среднего чека говорит о том, что результат группы B нестабилен относительно группы A, при этом относительное различие среднего чека в группе B к группе A после очистки данных составляет - 2,7%."
   ]
  },
  {
   "cell_type": "markdown",
   "metadata": {},
   "source": [
    "Исходя из обнаруженных фактов, тест следует остановить и признать его успешным. Группа B стабильно дает конверсию больше группы A на 18,7%. Средний чек при этом колеблется, но относительно группы A эти колебания не значительные. При обнаруженных данных группа B даст больше выручки, чем группа A."
   ]
  },
  {
   "cell_type": "markdown",
   "metadata": {},
   "source": [
    "<hr style=\"border: 2px solid green;\" />\n",
    "\n",
    "## Общий комментарий\n",
    "Спасибо за проделанную работу🤝\n",
    "\n",
    "Анна, работа поделилась на две части, с обзорной частью и приоритезацией гипотез проблем нет, а при проверках гипотез обнаружились несогласия и доработки:\n",
    "- проверить оформление графиков\n",
    "- сформулировать гипотезы\n",
    "- проверить соответствие расчетов и комментариев и общего вывода\n",
    "\n",
    "Исправляй и отправляй на проверку🛠"
   ]
  },
  {
   "cell_type": "markdown",
   "metadata": {},
   "source": [
    "<div class=\"alert alert-info\" style=\"border:solid blue 2px; padding: 20px\"> <b>Комментарий студента:</b> Спасибо за ревью, вроде все исправила</div>"
   ]
  }
 ],
 "metadata": {
  "ExecuteTimeLog": [
   {
    "duration": 1177,
    "start_time": "2022-03-12T12:41:38.829Z"
   },
   {
    "duration": 19,
    "start_time": "2022-03-12T12:42:14.038Z"
   },
   {
    "duration": 23,
    "start_time": "2022-03-12T12:42:24.103Z"
   },
   {
    "duration": 12,
    "start_time": "2022-03-12T12:42:36.837Z"
   },
   {
    "duration": 11,
    "start_time": "2022-03-12T12:42:58.332Z"
   },
   {
    "duration": 9,
    "start_time": "2022-03-12T12:44:57.104Z"
   },
   {
    "duration": 94,
    "start_time": "2022-03-12T12:48:08.848Z"
   },
   {
    "duration": 6,
    "start_time": "2022-03-12T12:50:53.244Z"
   },
   {
    "duration": 21,
    "start_time": "2022-03-12T12:51:31.454Z"
   },
   {
    "duration": 8,
    "start_time": "2022-03-12T12:53:18.989Z"
   },
   {
    "duration": 15,
    "start_time": "2022-03-12T12:53:24.274Z"
   },
   {
    "duration": 14,
    "start_time": "2022-03-12T12:53:52.589Z"
   },
   {
    "duration": 358,
    "start_time": "2022-03-12T12:54:08.448Z"
   },
   {
    "duration": 239,
    "start_time": "2022-03-12T12:54:17.037Z"
   },
   {
    "duration": 7,
    "start_time": "2022-03-12T12:54:28.746Z"
   },
   {
    "duration": 85,
    "start_time": "2022-03-12T12:54:46.722Z"
   },
   {
    "duration": 6,
    "start_time": "2022-03-12T12:54:57.763Z"
   },
   {
    "duration": 367,
    "start_time": "2022-03-12T12:55:47.537Z"
   },
   {
    "duration": 6,
    "start_time": "2022-03-12T12:55:53.688Z"
   },
   {
    "duration": 6,
    "start_time": "2022-03-12T12:56:07.901Z"
   },
   {
    "duration": 8,
    "start_time": "2022-03-12T12:56:16.765Z"
   },
   {
    "duration": 6,
    "start_time": "2022-03-12T12:57:08.449Z"
   },
   {
    "duration": 241,
    "start_time": "2022-03-12T12:57:18.999Z"
   },
   {
    "duration": 6,
    "start_time": "2022-03-12T12:57:36.339Z"
   },
   {
    "duration": 6,
    "start_time": "2022-03-12T12:57:45.818Z"
   },
   {
    "duration": 5,
    "start_time": "2022-03-12T12:57:57.166Z"
   },
   {
    "duration": 18,
    "start_time": "2022-03-12T12:59:33.179Z"
   },
   {
    "duration": 5,
    "start_time": "2022-03-12T13:00:04.231Z"
   },
   {
    "duration": 91,
    "start_time": "2022-03-12T13:03:43.268Z"
   },
   {
    "duration": 117,
    "start_time": "2022-03-12T13:03:48.564Z"
   },
   {
    "duration": 6,
    "start_time": "2022-03-12T13:04:00.007Z"
   },
   {
    "duration": 6,
    "start_time": "2022-03-12T13:04:42.112Z"
   },
   {
    "duration": 5,
    "start_time": "2022-03-12T13:04:48.163Z"
   },
   {
    "duration": 72,
    "start_time": "2022-03-12T13:04:51.505Z"
   },
   {
    "duration": 6,
    "start_time": "2022-03-12T13:04:58.087Z"
   },
   {
    "duration": 252,
    "start_time": "2022-03-12T13:05:16.207Z"
   },
   {
    "duration": 93,
    "start_time": "2022-03-12T13:05:22.389Z"
   },
   {
    "duration": 6,
    "start_time": "2022-03-12T13:05:32.182Z"
   },
   {
    "duration": 6,
    "start_time": "2022-03-12T13:05:39.456Z"
   },
   {
    "duration": 31,
    "start_time": "2022-03-12T13:17:36.120Z"
   },
   {
    "duration": 9,
    "start_time": "2022-03-12T13:17:53.078Z"
   },
   {
    "duration": 8,
    "start_time": "2022-03-12T13:18:08.098Z"
   },
   {
    "duration": 250,
    "start_time": "2022-03-12T13:28:14.680Z"
   },
   {
    "duration": 12,
    "start_time": "2022-03-12T13:30:08.008Z"
   },
   {
    "duration": 225,
    "start_time": "2022-03-12T13:30:25.145Z"
   },
   {
    "duration": 243,
    "start_time": "2022-03-12T13:30:44.355Z"
   },
   {
    "duration": 231,
    "start_time": "2022-03-12T13:30:49.300Z"
   },
   {
    "duration": 256,
    "start_time": "2022-03-12T13:32:14.929Z"
   },
   {
    "duration": 7,
    "start_time": "2022-03-12T13:32:20.159Z"
   },
   {
    "duration": 7,
    "start_time": "2022-03-12T13:32:29.755Z"
   },
   {
    "duration": 5,
    "start_time": "2022-03-12T13:33:15.663Z"
   },
   {
    "duration": 107,
    "start_time": "2022-03-12T13:33:57.723Z"
   },
   {
    "duration": 271,
    "start_time": "2022-03-12T13:34:02.046Z"
   },
   {
    "duration": 10,
    "start_time": "2022-03-12T13:34:23.635Z"
   },
   {
    "duration": 11,
    "start_time": "2022-03-12T13:35:00.432Z"
   },
   {
    "duration": 5884,
    "start_time": "2022-03-12T13:41:05.698Z"
   },
   {
    "duration": 19,
    "start_time": "2022-03-12T13:41:59.780Z"
   },
   {
    "duration": 292,
    "start_time": "2022-03-12T13:42:20.355Z"
   },
   {
    "duration": 13,
    "start_time": "2022-03-12T13:42:27.319Z"
   },
   {
    "duration": 7,
    "start_time": "2022-03-12T13:47:07.510Z"
   },
   {
    "duration": 9,
    "start_time": "2022-03-12T13:53:00.886Z"
   },
   {
    "duration": 5,
    "start_time": "2022-03-12T13:54:52.496Z"
   },
   {
    "duration": 8,
    "start_time": "2022-03-12T13:57:39.856Z"
   },
   {
    "duration": 28,
    "start_time": "2022-03-12T13:58:35.659Z"
   },
   {
    "duration": 348,
    "start_time": "2022-03-12T14:01:26.366Z"
   },
   {
    "duration": 7,
    "start_time": "2022-03-12T14:01:45.799Z"
   },
   {
    "duration": 11,
    "start_time": "2022-03-12T14:02:00.449Z"
   },
   {
    "duration": 6,
    "start_time": "2022-03-12T14:05:00.257Z"
   },
   {
    "duration": 6,
    "start_time": "2022-03-12T14:05:27.940Z"
   },
   {
    "duration": 8,
    "start_time": "2022-03-12T14:06:50.644Z"
   },
   {
    "duration": 9,
    "start_time": "2022-03-12T14:07:01.833Z"
   },
   {
    "duration": 6,
    "start_time": "2022-03-12T14:09:07.687Z"
   },
   {
    "duration": 10,
    "start_time": "2022-03-12T14:09:16.498Z"
   },
   {
    "duration": 419,
    "start_time": "2022-03-12T14:09:44.997Z"
   },
   {
    "duration": 294,
    "start_time": "2022-03-12T14:09:53.344Z"
   },
   {
    "duration": 261,
    "start_time": "2022-03-12T14:10:05.468Z"
   },
   {
    "duration": 9,
    "start_time": "2022-03-12T14:10:14.446Z"
   },
   {
    "duration": 7,
    "start_time": "2022-03-12T14:10:35.098Z"
   },
   {
    "duration": 9,
    "start_time": "2022-03-12T14:10:40.841Z"
   },
   {
    "duration": 11,
    "start_time": "2022-03-12T14:12:08.418Z"
   },
   {
    "duration": 26,
    "start_time": "2022-03-12T14:13:34.507Z"
   },
   {
    "duration": 11,
    "start_time": "2022-03-12T14:15:59.839Z"
   },
   {
    "duration": 21,
    "start_time": "2022-03-12T14:16:03.498Z"
   },
   {
    "duration": 17,
    "start_time": "2022-03-12T14:16:23.363Z"
   },
   {
    "duration": 261,
    "start_time": "2022-03-12T14:16:31.617Z"
   },
   {
    "duration": 13,
    "start_time": "2022-03-12T14:16:45.018Z"
   },
   {
    "duration": 15,
    "start_time": "2022-03-12T14:17:05.284Z"
   },
   {
    "duration": 328,
    "start_time": "2022-03-12T14:17:09.429Z"
   },
   {
    "duration": 17,
    "start_time": "2022-03-12T14:17:27.243Z"
   },
   {
    "duration": 15,
    "start_time": "2022-03-12T14:17:40.246Z"
   },
   {
    "duration": 295,
    "start_time": "2022-03-12T14:17:52.139Z"
   },
   {
    "duration": 15,
    "start_time": "2022-03-12T14:18:18.511Z"
   },
   {
    "duration": 374,
    "start_time": "2022-03-12T14:18:25.983Z"
   },
   {
    "duration": 14,
    "start_time": "2022-03-12T14:19:17.062Z"
   },
   {
    "duration": 7,
    "start_time": "2022-03-12T14:20:19.088Z"
   },
   {
    "duration": 6,
    "start_time": "2022-03-12T14:20:46.074Z"
   },
   {
    "duration": 21,
    "start_time": "2022-03-12T14:20:54.548Z"
   },
   {
    "duration": 5,
    "start_time": "2022-03-12T14:21:17.270Z"
   },
   {
    "duration": 20,
    "start_time": "2022-03-12T14:21:17.279Z"
   },
   {
    "duration": 17,
    "start_time": "2022-03-12T14:21:17.302Z"
   },
   {
    "duration": 12,
    "start_time": "2022-03-12T14:21:17.323Z"
   },
   {
    "duration": 59,
    "start_time": "2022-03-12T14:21:17.338Z"
   },
   {
    "duration": 21,
    "start_time": "2022-03-12T14:21:17.401Z"
   },
   {
    "duration": 18,
    "start_time": "2022-03-12T14:21:17.424Z"
   },
   {
    "duration": 4,
    "start_time": "2022-03-12T14:21:17.444Z"
   },
   {
    "duration": 39,
    "start_time": "2022-03-12T14:21:17.452Z"
   },
   {
    "duration": 46,
    "start_time": "2022-03-12T14:21:17.494Z"
   },
   {
    "duration": 8,
    "start_time": "2022-03-12T14:21:17.542Z"
   },
   {
    "duration": 35,
    "start_time": "2022-03-12T14:21:17.553Z"
   },
   {
    "duration": 11,
    "start_time": "2022-03-12T14:21:17.591Z"
   },
   {
    "duration": 18,
    "start_time": "2022-03-12T14:21:17.605Z"
   },
   {
    "duration": 9,
    "start_time": "2022-03-12T14:21:17.627Z"
   },
   {
    "duration": 55,
    "start_time": "2022-03-12T14:21:17.639Z"
   },
   {
    "duration": 10,
    "start_time": "2022-03-12T14:21:17.697Z"
   },
   {
    "duration": 7,
    "start_time": "2022-03-12T14:21:17.709Z"
   },
   {
    "duration": 12,
    "start_time": "2022-03-12T14:21:17.718Z"
   },
   {
    "duration": 60,
    "start_time": "2022-03-12T14:21:17.732Z"
   },
   {
    "duration": 53,
    "start_time": "2022-03-12T14:21:17.795Z"
   },
   {
    "duration": 1435,
    "start_time": "2022-03-12T14:21:32.901Z"
   },
   {
    "duration": 13,
    "start_time": "2022-03-12T14:21:34.339Z"
   },
   {
    "duration": 40,
    "start_time": "2022-03-12T14:21:34.363Z"
   },
   {
    "duration": 7,
    "start_time": "2022-03-12T14:21:34.406Z"
   },
   {
    "duration": 26,
    "start_time": "2022-03-12T14:21:34.415Z"
   },
   {
    "duration": 7,
    "start_time": "2022-03-12T14:21:34.490Z"
   },
   {
    "duration": 24,
    "start_time": "2022-03-12T14:21:34.501Z"
   },
   {
    "duration": 8,
    "start_time": "2022-03-12T14:21:34.528Z"
   },
   {
    "duration": 8,
    "start_time": "2022-03-12T14:21:34.587Z"
   },
   {
    "duration": 44,
    "start_time": "2022-03-12T14:21:34.597Z"
   },
   {
    "duration": 9,
    "start_time": "2022-03-12T14:21:34.644Z"
   },
   {
    "duration": 34,
    "start_time": "2022-03-12T14:21:34.656Z"
   },
   {
    "duration": 17,
    "start_time": "2022-03-12T14:21:34.694Z"
   },
   {
    "duration": 12,
    "start_time": "2022-03-12T14:21:34.714Z"
   },
   {
    "duration": 59,
    "start_time": "2022-03-12T14:21:34.730Z"
   },
   {
    "duration": 13,
    "start_time": "2022-03-12T14:21:34.792Z"
   },
   {
    "duration": 14,
    "start_time": "2022-03-12T14:21:34.808Z"
   },
   {
    "duration": 6,
    "start_time": "2022-03-12T14:21:34.825Z"
   },
   {
    "duration": 66,
    "start_time": "2022-03-12T14:21:34.833Z"
   },
   {
    "duration": 29,
    "start_time": "2022-03-12T14:21:34.901Z"
   },
   {
    "duration": 70,
    "start_time": "2022-03-12T14:21:34.936Z"
   },
   {
    "duration": 1365,
    "start_time": "2022-03-12T14:40:37.091Z"
   },
   {
    "duration": 18,
    "start_time": "2022-03-12T14:40:38.459Z"
   },
   {
    "duration": 20,
    "start_time": "2022-03-12T14:40:38.480Z"
   },
   {
    "duration": 4,
    "start_time": "2022-03-12T14:40:38.503Z"
   },
   {
    "duration": 21,
    "start_time": "2022-03-12T14:40:38.509Z"
   },
   {
    "duration": 4,
    "start_time": "2022-03-12T14:40:38.533Z"
   },
   {
    "duration": 21,
    "start_time": "2022-03-12T14:40:38.587Z"
   },
   {
    "duration": 5,
    "start_time": "2022-03-12T14:40:38.612Z"
   },
   {
    "duration": 10,
    "start_time": "2022-03-12T14:40:38.620Z"
   },
   {
    "duration": 76,
    "start_time": "2022-03-12T14:40:38.632Z"
   },
   {
    "duration": 9,
    "start_time": "2022-03-12T14:40:38.711Z"
   },
   {
    "duration": 8,
    "start_time": "2022-03-12T14:40:38.723Z"
   },
   {
    "duration": 6,
    "start_time": "2022-03-12T14:40:38.733Z"
   },
   {
    "duration": 11,
    "start_time": "2022-03-12T14:40:38.786Z"
   },
   {
    "duration": 13,
    "start_time": "2022-03-12T14:40:38.799Z"
   },
   {
    "duration": 9,
    "start_time": "2022-03-12T14:40:38.814Z"
   },
   {
    "duration": 62,
    "start_time": "2022-03-12T14:40:38.826Z"
   },
   {
    "duration": 6,
    "start_time": "2022-03-12T14:40:38.891Z"
   },
   {
    "duration": 18,
    "start_time": "2022-03-12T14:40:38.899Z"
   },
   {
    "duration": 68,
    "start_time": "2022-03-12T14:40:38.920Z"
   },
   {
    "duration": 17,
    "start_time": "2022-03-12T14:40:38.992Z"
   },
   {
    "duration": 28,
    "start_time": "2022-03-12T14:40:39.012Z"
   },
   {
    "duration": 7,
    "start_time": "2022-03-12T14:45:24.383Z"
   },
   {
    "duration": 14,
    "start_time": "2022-03-12T14:57:02.787Z"
   },
   {
    "duration": 14,
    "start_time": "2022-03-12T14:57:38.893Z"
   },
   {
    "duration": 14,
    "start_time": "2022-03-12T14:59:15.988Z"
   },
   {
    "duration": 14,
    "start_time": "2022-03-12T14:59:29.089Z"
   },
   {
    "duration": 12,
    "start_time": "2022-03-12T15:04:40.599Z"
   },
   {
    "duration": 9,
    "start_time": "2022-03-12T15:05:56.066Z"
   },
   {
    "duration": 12,
    "start_time": "2022-03-12T15:06:02.535Z"
   },
   {
    "duration": 11,
    "start_time": "2022-03-12T15:06:10.428Z"
   },
   {
    "duration": 16,
    "start_time": "2022-03-12T15:07:10.393Z"
   },
   {
    "duration": 18,
    "start_time": "2022-03-12T15:07:36.021Z"
   },
   {
    "duration": 5,
    "start_time": "2022-03-12T15:08:12.268Z"
   },
   {
    "duration": 17,
    "start_time": "2022-03-12T15:08:42.664Z"
   },
   {
    "duration": 6,
    "start_time": "2022-03-12T15:08:57.524Z"
   },
   {
    "duration": 9,
    "start_time": "2022-03-12T15:10:22.977Z"
   },
   {
    "duration": 17,
    "start_time": "2022-03-12T15:10:37.024Z"
   },
   {
    "duration": 14,
    "start_time": "2022-03-12T15:10:55.868Z"
   },
   {
    "duration": 430,
    "start_time": "2022-03-12T15:13:10.439Z"
   },
   {
    "duration": 4,
    "start_time": "2022-03-12T15:13:50.664Z"
   },
   {
    "duration": 229,
    "start_time": "2022-03-12T15:13:57.557Z"
   },
   {
    "duration": 5,
    "start_time": "2022-03-12T15:14:27.785Z"
   },
   {
    "duration": 10,
    "start_time": "2022-03-12T15:14:40.153Z"
   },
   {
    "duration": 13,
    "start_time": "2022-03-12T15:37:54.792Z"
   },
   {
    "duration": 11,
    "start_time": "2022-03-12T15:37:56.395Z"
   },
   {
    "duration": 7,
    "start_time": "2022-03-12T15:42:49.077Z"
   },
   {
    "duration": 7,
    "start_time": "2022-03-12T15:43:08.540Z"
   },
   {
    "duration": 6256,
    "start_time": "2022-03-12T15:46:48.879Z"
   },
   {
    "duration": 23,
    "start_time": "2022-03-12T15:47:29.084Z"
   },
   {
    "duration": 8,
    "start_time": "2022-03-12T15:47:38.902Z"
   },
   {
    "duration": 6331,
    "start_time": "2022-03-12T15:48:05.096Z"
   },
   {
    "duration": 324,
    "start_time": "2022-03-12T15:49:15.523Z"
   },
   {
    "duration": 724,
    "start_time": "2022-03-12T15:49:38.916Z"
   },
   {
    "duration": 17,
    "start_time": "2022-03-12T15:49:56.954Z"
   },
   {
    "duration": 296,
    "start_time": "2022-03-12T15:50:36.803Z"
   },
   {
    "duration": 15,
    "start_time": "2022-03-12T15:50:51.318Z"
   },
   {
    "duration": 10,
    "start_time": "2022-03-12T15:51:42.430Z"
   },
   {
    "duration": 18,
    "start_time": "2022-03-12T15:51:54.745Z"
   },
   {
    "duration": 437,
    "start_time": "2022-03-12T15:52:16.689Z"
   },
   {
    "duration": 21,
    "start_time": "2022-03-12T15:53:58.710Z"
   },
   {
    "duration": 15,
    "start_time": "2022-03-12T15:54:29.104Z"
   },
   {
    "duration": 15,
    "start_time": "2022-03-12T15:54:39.436Z"
   },
   {
    "duration": 412,
    "start_time": "2022-03-12T15:54:56.301Z"
   },
   {
    "duration": 447,
    "start_time": "2022-03-12T16:01:46.636Z"
   },
   {
    "duration": 554,
    "start_time": "2022-03-12T16:01:59.805Z"
   },
   {
    "duration": 436,
    "start_time": "2022-03-12T16:02:34.028Z"
   },
   {
    "duration": 339,
    "start_time": "2022-03-12T17:02:51.081Z"
   },
   {
    "duration": 19,
    "start_time": "2022-03-12T17:04:28.674Z"
   },
   {
    "duration": 19,
    "start_time": "2022-03-12T17:05:06.488Z"
   },
   {
    "duration": 465,
    "start_time": "2022-03-12T17:07:02.790Z"
   },
   {
    "duration": 13,
    "start_time": "2022-03-12T17:07:48.204Z"
   },
   {
    "duration": 470,
    "start_time": "2022-03-12T17:08:34.347Z"
   },
   {
    "duration": 416,
    "start_time": "2022-03-12T17:14:13.875Z"
   },
   {
    "duration": 483,
    "start_time": "2022-03-12T17:16:41.510Z"
   },
   {
    "duration": 307,
    "start_time": "2022-03-12T17:16:51.454Z"
   },
   {
    "duration": 326,
    "start_time": "2022-03-12T17:17:28.084Z"
   },
   {
    "duration": 311,
    "start_time": "2022-03-12T17:20:41.349Z"
   },
   {
    "duration": 15,
    "start_time": "2022-03-12T17:28:34.204Z"
   },
   {
    "duration": 1390,
    "start_time": "2022-03-12T17:29:15.234Z"
   },
   {
    "duration": 15,
    "start_time": "2022-03-12T17:29:16.627Z"
   },
   {
    "duration": 46,
    "start_time": "2022-03-12T17:29:16.650Z"
   },
   {
    "duration": 15,
    "start_time": "2022-03-12T17:29:16.699Z"
   },
   {
    "duration": 29,
    "start_time": "2022-03-12T17:29:16.717Z"
   },
   {
    "duration": 6,
    "start_time": "2022-03-12T17:29:16.749Z"
   },
   {
    "duration": 21,
    "start_time": "2022-03-12T17:29:16.790Z"
   },
   {
    "duration": 14,
    "start_time": "2022-03-12T17:29:16.814Z"
   },
   {
    "duration": 59,
    "start_time": "2022-03-12T17:29:16.831Z"
   },
   {
    "duration": 49,
    "start_time": "2022-03-12T17:29:16.893Z"
   },
   {
    "duration": 12,
    "start_time": "2022-03-12T17:29:16.945Z"
   },
   {
    "duration": 37,
    "start_time": "2022-03-12T17:29:16.960Z"
   },
   {
    "duration": 24,
    "start_time": "2022-03-12T17:29:17.000Z"
   },
   {
    "duration": 24,
    "start_time": "2022-03-12T17:29:17.027Z"
   },
   {
    "duration": 14,
    "start_time": "2022-03-12T17:29:17.053Z"
   },
   {
    "duration": 28,
    "start_time": "2022-03-12T17:29:17.069Z"
   },
   {
    "duration": 16,
    "start_time": "2022-03-12T17:29:17.101Z"
   },
   {
    "duration": 16,
    "start_time": "2022-03-12T17:29:17.120Z"
   },
   {
    "duration": 50,
    "start_time": "2022-03-12T17:29:17.138Z"
   },
   {
    "duration": 6,
    "start_time": "2022-03-12T17:29:17.191Z"
   },
   {
    "duration": 32,
    "start_time": "2022-03-12T17:29:17.200Z"
   },
   {
    "duration": 31,
    "start_time": "2022-03-12T17:29:17.237Z"
   },
   {
    "duration": 8,
    "start_time": "2022-03-12T17:29:17.287Z"
   },
   {
    "duration": 25,
    "start_time": "2022-03-12T17:29:17.299Z"
   },
   {
    "duration": 22,
    "start_time": "2022-03-12T17:29:17.327Z"
   },
   {
    "duration": 41,
    "start_time": "2022-03-12T17:29:17.353Z"
   },
   {
    "duration": 768,
    "start_time": "2022-03-12T17:29:17.398Z"
   },
   {
    "duration": -35814,
    "start_time": "2022-03-12T17:29:53.983Z"
   },
   {
    "duration": -35830,
    "start_time": "2022-03-12T17:29:54.001Z"
   },
   {
    "duration": -35838,
    "start_time": "2022-03-12T17:29:54.010Z"
   },
   {
    "duration": -35848,
    "start_time": "2022-03-12T17:29:54.022Z"
   },
   {
    "duration": -35849,
    "start_time": "2022-03-12T17:29:54.025Z"
   },
   {
    "duration": -35852,
    "start_time": "2022-03-12T17:29:54.030Z"
   },
   {
    "duration": 558,
    "start_time": "2022-03-12T17:30:51.598Z"
   },
   {
    "duration": 366,
    "start_time": "2022-03-12T17:30:57.540Z"
   },
   {
    "duration": 17,
    "start_time": "2022-03-12T17:31:09.910Z"
   },
   {
    "duration": 308,
    "start_time": "2022-03-12T17:31:29.730Z"
   },
   {
    "duration": 245,
    "start_time": "2022-03-12T17:31:44.912Z"
   },
   {
    "duration": 17,
    "start_time": "2022-03-12T17:32:05.176Z"
   },
   {
    "duration": 468,
    "start_time": "2022-03-12T17:34:06.781Z"
   },
   {
    "duration": 454,
    "start_time": "2022-03-12T17:34:19.561Z"
   },
   {
    "duration": 28,
    "start_time": "2022-03-12T17:39:01.032Z"
   },
   {
    "duration": 435,
    "start_time": "2022-03-12T17:39:04.683Z"
   },
   {
    "duration": 466,
    "start_time": "2022-03-12T17:40:53.447Z"
   },
   {
    "duration": 490,
    "start_time": "2022-03-12T17:42:51.143Z"
   },
   {
    "duration": 321,
    "start_time": "2022-03-12T17:43:46.455Z"
   },
   {
    "duration": 525,
    "start_time": "2022-03-12T17:43:49.782Z"
   },
   {
    "duration": 409,
    "start_time": "2022-03-12T17:49:15.822Z"
   },
   {
    "duration": 457,
    "start_time": "2022-03-12T17:50:56.530Z"
   },
   {
    "duration": 459,
    "start_time": "2022-03-12T17:51:39.989Z"
   },
   {
    "duration": 350,
    "start_time": "2022-03-12T17:52:48.599Z"
   },
   {
    "duration": 566,
    "start_time": "2022-03-12T17:57:28.468Z"
   },
   {
    "duration": 574,
    "start_time": "2022-03-12T17:57:51.937Z"
   },
   {
    "duration": 293,
    "start_time": "2022-03-12T17:58:37.809Z"
   },
   {
    "duration": 474,
    "start_time": "2022-03-12T18:00:22.143Z"
   },
   {
    "duration": 13,
    "start_time": "2022-03-14T06:18:49.973Z"
   },
   {
    "duration": 601,
    "start_time": "2022-03-14T06:19:44.872Z"
   },
   {
    "duration": 586,
    "start_time": "2022-03-14T06:20:04.037Z"
   },
   {
    "duration": 679,
    "start_time": "2022-03-14T06:20:13.284Z"
   },
   {
    "duration": 8,
    "start_time": "2022-03-14T06:23:51.837Z"
   },
   {
    "duration": 9,
    "start_time": "2022-03-14T06:24:14.555Z"
   },
   {
    "duration": 7,
    "start_time": "2022-03-14T06:25:12.550Z"
   },
   {
    "duration": 351,
    "start_time": "2022-03-14T06:27:12.095Z"
   },
   {
    "duration": 12,
    "start_time": "2022-03-14T06:27:21.187Z"
   },
   {
    "duration": 363,
    "start_time": "2022-03-14T06:27:31.415Z"
   },
   {
    "duration": 391,
    "start_time": "2022-03-14T06:27:41.201Z"
   },
   {
    "duration": 324,
    "start_time": "2022-03-14T06:33:25.551Z"
   },
   {
    "duration": 8,
    "start_time": "2022-03-14T06:33:31.472Z"
   },
   {
    "duration": 447,
    "start_time": "2022-03-14T06:47:19.705Z"
   },
   {
    "duration": 17,
    "start_time": "2022-03-14T06:47:48.280Z"
   },
   {
    "duration": 6767,
    "start_time": "2022-03-14T06:49:04.029Z"
   },
   {
    "duration": 911,
    "start_time": "2022-03-14T06:50:00.251Z"
   },
   {
    "duration": 646,
    "start_time": "2022-03-14T06:50:56.518Z"
   },
   {
    "duration": 641,
    "start_time": "2022-03-14T06:51:46.328Z"
   },
   {
    "duration": 652,
    "start_time": "2022-03-14T06:52:44.703Z"
   },
   {
    "duration": 648,
    "start_time": "2022-03-14T06:53:29.315Z"
   },
   {
    "duration": 246,
    "start_time": "2022-03-14T07:05:04.467Z"
   },
   {
    "duration": 14,
    "start_time": "2022-03-14T07:05:12.925Z"
   },
   {
    "duration": 16,
    "start_time": "2022-03-14T07:16:21.951Z"
   },
   {
    "duration": 14,
    "start_time": "2022-03-14T07:30:35.699Z"
   },
   {
    "duration": 14,
    "start_time": "2022-03-14T07:37:08.391Z"
   },
   {
    "duration": 13,
    "start_time": "2022-03-14T07:38:04.106Z"
   },
   {
    "duration": 11,
    "start_time": "2022-03-14T07:39:15.439Z"
   },
   {
    "duration": 1464,
    "start_time": "2022-03-14T07:40:25.404Z"
   },
   {
    "duration": 19,
    "start_time": "2022-03-14T07:40:32.416Z"
   },
   {
    "duration": 20,
    "start_time": "2022-03-14T07:41:01.749Z"
   },
   {
    "duration": 21,
    "start_time": "2022-03-14T07:47:01.646Z"
   },
   {
    "duration": 20,
    "start_time": "2022-03-14T07:47:37.022Z"
   },
   {
    "duration": 20,
    "start_time": "2022-03-14T08:29:40.043Z"
   },
   {
    "duration": 15,
    "start_time": "2022-03-14T08:30:36.521Z"
   },
   {
    "duration": 258,
    "start_time": "2022-03-14T08:30:49.532Z"
   },
   {
    "duration": 15,
    "start_time": "2022-03-14T08:30:59.722Z"
   },
   {
    "duration": 15,
    "start_time": "2022-03-14T08:31:05.013Z"
   },
   {
    "duration": 15,
    "start_time": "2022-03-14T08:31:13.448Z"
   },
   {
    "duration": 14,
    "start_time": "2022-03-14T08:31:22.273Z"
   },
   {
    "duration": 17,
    "start_time": "2022-03-14T08:31:39.635Z"
   },
   {
    "duration": 18,
    "start_time": "2022-03-14T08:31:49.324Z"
   },
   {
    "duration": 21,
    "start_time": "2022-03-14T08:31:55.469Z"
   },
   {
    "duration": 14,
    "start_time": "2022-03-14T08:32:17.638Z"
   },
   {
    "duration": 24,
    "start_time": "2022-03-14T08:32:19.292Z"
   },
   {
    "duration": 22,
    "start_time": "2022-03-14T08:32:21.667Z"
   },
   {
    "duration": 1474,
    "start_time": "2022-03-14T08:48:55.400Z"
   },
   {
    "duration": 15,
    "start_time": "2022-03-14T08:48:56.877Z"
   },
   {
    "duration": 23,
    "start_time": "2022-03-14T08:48:56.896Z"
   },
   {
    "duration": 9,
    "start_time": "2022-03-14T08:48:56.923Z"
   },
   {
    "duration": 29,
    "start_time": "2022-03-14T08:48:56.935Z"
   },
   {
    "duration": 23,
    "start_time": "2022-03-14T08:48:56.966Z"
   },
   {
    "duration": 22,
    "start_time": "2022-03-14T08:48:56.992Z"
   },
   {
    "duration": 6,
    "start_time": "2022-03-14T08:48:57.016Z"
   },
   {
    "duration": 11,
    "start_time": "2022-03-14T08:48:57.026Z"
   },
   {
    "duration": 48,
    "start_time": "2022-03-14T08:48:57.040Z"
   },
   {
    "duration": 9,
    "start_time": "2022-03-14T08:48:57.090Z"
   },
   {
    "duration": 14,
    "start_time": "2022-03-14T08:48:57.102Z"
   },
   {
    "duration": 11,
    "start_time": "2022-03-14T08:48:57.119Z"
   },
   {
    "duration": 16,
    "start_time": "2022-03-14T08:48:57.134Z"
   },
   {
    "duration": 5,
    "start_time": "2022-03-14T08:48:57.187Z"
   },
   {
    "duration": 14,
    "start_time": "2022-03-14T08:48:57.195Z"
   },
   {
    "duration": 13,
    "start_time": "2022-03-14T08:48:57.212Z"
   },
   {
    "duration": 13,
    "start_time": "2022-03-14T08:48:57.227Z"
   },
   {
    "duration": 13,
    "start_time": "2022-03-14T08:48:57.242Z"
   },
   {
    "duration": 33,
    "start_time": "2022-03-14T08:48:57.258Z"
   },
   {
    "duration": 20,
    "start_time": "2022-03-14T08:48:57.294Z"
   },
   {
    "duration": 18,
    "start_time": "2022-03-14T08:48:57.317Z"
   },
   {
    "duration": 6,
    "start_time": "2022-03-14T08:48:57.337Z"
   },
   {
    "duration": 606,
    "start_time": "2022-03-14T08:48:57.345Z"
   },
   {
    "duration": 337,
    "start_time": "2022-03-14T08:48:57.953Z"
   },
   {
    "duration": 346,
    "start_time": "2022-03-14T08:48:58.292Z"
   },
   {
    "duration": 457,
    "start_time": "2022-03-14T08:48:58.643Z"
   },
   {
    "duration": 336,
    "start_time": "2022-03-14T08:48:59.104Z"
   },
   {
    "duration": 483,
    "start_time": "2022-03-14T08:48:59.443Z"
   },
   {
    "duration": 581,
    "start_time": "2022-03-14T08:48:59.928Z"
   },
   {
    "duration": 8,
    "start_time": "2022-03-14T08:49:00.512Z"
   },
   {
    "duration": 527,
    "start_time": "2022-03-14T08:49:00.523Z"
   },
   {
    "duration": 6,
    "start_time": "2022-03-14T08:49:01.052Z"
   },
   {
    "duration": 651,
    "start_time": "2022-03-14T08:49:01.060Z"
   },
   {
    "duration": 13,
    "start_time": "2022-03-14T08:49:01.713Z"
   },
   {
    "duration": 19,
    "start_time": "2022-03-14T08:49:01.729Z"
   },
   {
    "duration": 40,
    "start_time": "2022-03-14T08:49:01.751Z"
   },
   {
    "duration": 20,
    "start_time": "2022-03-14T08:49:01.794Z"
   },
   {
    "duration": 1005,
    "start_time": "2022-03-15T04:48:35.637Z"
   },
   {
    "duration": 18,
    "start_time": "2022-03-15T04:48:36.643Z"
   },
   {
    "duration": 14,
    "start_time": "2022-03-15T04:48:36.663Z"
   },
   {
    "duration": 6,
    "start_time": "2022-03-15T04:48:36.679Z"
   },
   {
    "duration": 16,
    "start_time": "2022-03-15T04:48:36.687Z"
   },
   {
    "duration": 3,
    "start_time": "2022-03-15T04:48:36.704Z"
   },
   {
    "duration": 14,
    "start_time": "2022-03-15T04:48:36.709Z"
   },
   {
    "duration": 3,
    "start_time": "2022-03-15T04:48:36.738Z"
   },
   {
    "duration": 5,
    "start_time": "2022-03-15T04:48:36.744Z"
   },
   {
    "duration": 32,
    "start_time": "2022-03-15T04:48:36.751Z"
   },
   {
    "duration": 6,
    "start_time": "2022-03-15T04:48:36.785Z"
   },
   {
    "duration": 13,
    "start_time": "2022-03-15T04:48:36.792Z"
   },
   {
    "duration": 10,
    "start_time": "2022-03-15T04:48:36.806Z"
   },
   {
    "duration": 15,
    "start_time": "2022-03-15T04:48:36.818Z"
   },
   {
    "duration": 29,
    "start_time": "2022-03-15T04:48:36.835Z"
   },
   {
    "duration": 10,
    "start_time": "2022-03-15T04:48:36.865Z"
   },
   {
    "duration": 5,
    "start_time": "2022-03-15T04:48:36.876Z"
   },
   {
    "duration": 8,
    "start_time": "2022-03-15T04:48:36.882Z"
   },
   {
    "duration": 10,
    "start_time": "2022-03-15T04:48:36.891Z"
   },
   {
    "duration": 6,
    "start_time": "2022-03-15T04:48:36.902Z"
   },
   {
    "duration": 15,
    "start_time": "2022-03-15T04:48:36.910Z"
   },
   {
    "duration": 15,
    "start_time": "2022-03-15T04:48:36.927Z"
   },
   {
    "duration": 11,
    "start_time": "2022-03-15T04:48:36.943Z"
   },
   {
    "duration": 330,
    "start_time": "2022-03-15T04:48:36.956Z"
   },
   {
    "duration": 203,
    "start_time": "2022-03-15T04:48:37.288Z"
   },
   {
    "duration": 213,
    "start_time": "2022-03-15T04:48:37.493Z"
   },
   {
    "duration": 339,
    "start_time": "2022-03-15T04:48:37.709Z"
   },
   {
    "duration": 200,
    "start_time": "2022-03-15T04:48:38.050Z"
   },
   {
    "duration": 308,
    "start_time": "2022-03-15T04:48:38.252Z"
   },
   {
    "duration": 383,
    "start_time": "2022-03-15T04:48:38.561Z"
   },
   {
    "duration": 4,
    "start_time": "2022-03-15T04:48:38.946Z"
   },
   {
    "duration": 287,
    "start_time": "2022-03-15T04:48:38.952Z"
   },
   {
    "duration": 5,
    "start_time": "2022-03-15T04:48:39.240Z"
   },
   {
    "duration": 358,
    "start_time": "2022-03-15T04:48:39.247Z"
   },
   {
    "duration": 9,
    "start_time": "2022-03-15T04:48:39.606Z"
   },
   {
    "duration": 22,
    "start_time": "2022-03-15T04:48:39.616Z"
   },
   {
    "duration": 13,
    "start_time": "2022-03-15T04:48:39.639Z"
   },
   {
    "duration": 12,
    "start_time": "2022-03-15T04:48:39.654Z"
   },
   {
    "duration": 336,
    "start_time": "2022-03-15T06:21:25.647Z"
   },
   {
    "duration": 953,
    "start_time": "2022-03-15T06:21:41.315Z"
   },
   {
    "duration": 16,
    "start_time": "2022-03-15T06:21:42.270Z"
   },
   {
    "duration": 12,
    "start_time": "2022-03-15T06:21:42.288Z"
   },
   {
    "duration": 2,
    "start_time": "2022-03-15T06:21:42.302Z"
   },
   {
    "duration": 382,
    "start_time": "2022-03-15T06:21:42.306Z"
   },
   {
    "duration": 595,
    "start_time": "2022-03-15T06:21:42.095Z"
   },
   {
    "duration": 593,
    "start_time": "2022-03-15T06:21:42.098Z"
   },
   {
    "duration": 578,
    "start_time": "2022-03-15T06:21:42.114Z"
   },
   {
    "duration": 574,
    "start_time": "2022-03-15T06:21:42.119Z"
   },
   {
    "duration": 570,
    "start_time": "2022-03-15T06:21:42.124Z"
   },
   {
    "duration": 568,
    "start_time": "2022-03-15T06:21:42.127Z"
   },
   {
    "duration": 562,
    "start_time": "2022-03-15T06:21:42.133Z"
   },
   {
    "duration": 560,
    "start_time": "2022-03-15T06:21:42.136Z"
   },
   {
    "duration": 559,
    "start_time": "2022-03-15T06:21:42.139Z"
   },
   {
    "duration": 558,
    "start_time": "2022-03-15T06:21:42.141Z"
   },
   {
    "duration": 554,
    "start_time": "2022-03-15T06:21:42.145Z"
   },
   {
    "duration": 543,
    "start_time": "2022-03-15T06:21:42.157Z"
   },
   {
    "duration": 541,
    "start_time": "2022-03-15T06:21:42.160Z"
   },
   {
    "duration": 537,
    "start_time": "2022-03-15T06:21:42.165Z"
   },
   {
    "duration": 533,
    "start_time": "2022-03-15T06:21:42.169Z"
   },
   {
    "duration": 532,
    "start_time": "2022-03-15T06:21:42.171Z"
   },
   {
    "duration": 530,
    "start_time": "2022-03-15T06:21:42.174Z"
   },
   {
    "duration": 528,
    "start_time": "2022-03-15T06:21:42.177Z"
   },
   {
    "duration": 526,
    "start_time": "2022-03-15T06:21:42.180Z"
   },
   {
    "duration": 522,
    "start_time": "2022-03-15T06:21:42.184Z"
   },
   {
    "duration": 520,
    "start_time": "2022-03-15T06:21:42.187Z"
   },
   {
    "duration": 518,
    "start_time": "2022-03-15T06:21:42.190Z"
   },
   {
    "duration": 517,
    "start_time": "2022-03-15T06:21:42.192Z"
   },
   {
    "duration": 515,
    "start_time": "2022-03-15T06:21:42.195Z"
   },
   {
    "duration": 512,
    "start_time": "2022-03-15T06:21:42.198Z"
   },
   {
    "duration": 511,
    "start_time": "2022-03-15T06:21:42.200Z"
   },
   {
    "duration": 510,
    "start_time": "2022-03-15T06:21:42.202Z"
   },
   {
    "duration": 509,
    "start_time": "2022-03-15T06:21:42.204Z"
   },
   {
    "duration": 507,
    "start_time": "2022-03-15T06:21:42.207Z"
   },
   {
    "duration": 505,
    "start_time": "2022-03-15T06:21:42.209Z"
   },
   {
    "duration": 503,
    "start_time": "2022-03-15T06:21:42.212Z"
   },
   {
    "duration": 502,
    "start_time": "2022-03-15T06:21:42.214Z"
   },
   {
    "duration": 500,
    "start_time": "2022-03-15T06:21:42.217Z"
   },
   {
    "duration": 317,
    "start_time": "2022-03-15T06:21:57.334Z"
   },
   {
    "duration": 10,
    "start_time": "2022-03-15T06:22:04.683Z"
   },
   {
    "duration": 10,
    "start_time": "2022-03-15T06:22:40.212Z"
   },
   {
    "duration": 306,
    "start_time": "2022-03-15T06:23:20.180Z"
   },
   {
    "duration": 9,
    "start_time": "2022-03-15T06:23:27.381Z"
   },
   {
    "duration": 11,
    "start_time": "2022-03-15T06:24:15.135Z"
   },
   {
    "duration": 12,
    "start_time": "2022-03-15T06:24:24.407Z"
   },
   {
    "duration": 357,
    "start_time": "2022-03-15T06:24:32.366Z"
   },
   {
    "duration": 382,
    "start_time": "2022-03-15T06:24:47.713Z"
   },
   {
    "duration": 11,
    "start_time": "2022-03-15T06:24:53.092Z"
   },
   {
    "duration": 11,
    "start_time": "2022-03-15T06:25:04.730Z"
   },
   {
    "duration": 328,
    "start_time": "2022-03-15T06:25:34.441Z"
   },
   {
    "duration": 2139,
    "start_time": "2022-03-15T06:26:05.691Z"
   },
   {
    "duration": 11,
    "start_time": "2022-03-15T06:26:14.523Z"
   },
   {
    "duration": 11,
    "start_time": "2022-03-15T06:26:51.690Z"
   },
   {
    "duration": 11,
    "start_time": "2022-03-15T06:26:55.857Z"
   },
   {
    "duration": 11,
    "start_time": "2022-03-15T06:27:00.397Z"
   },
   {
    "duration": 9,
    "start_time": "2022-03-15T06:27:26.939Z"
   },
   {
    "duration": 10,
    "start_time": "2022-03-15T06:27:41.305Z"
   },
   {
    "duration": 9,
    "start_time": "2022-03-15T06:28:16.794Z"
   },
   {
    "duration": 9,
    "start_time": "2022-03-15T06:28:30.819Z"
   },
   {
    "duration": 1002,
    "start_time": "2022-03-15T06:28:58.913Z"
   },
   {
    "duration": 28,
    "start_time": "2022-03-15T06:28:59.917Z"
   },
   {
    "duration": 12,
    "start_time": "2022-03-15T06:28:59.947Z"
   },
   {
    "duration": 2,
    "start_time": "2022-03-15T06:28:59.960Z"
   },
   {
    "duration": 11,
    "start_time": "2022-03-15T06:28:59.964Z"
   },
   {
    "duration": 4,
    "start_time": "2022-03-15T06:28:59.976Z"
   },
   {
    "duration": 12,
    "start_time": "2022-03-15T06:28:59.981Z"
   },
   {
    "duration": 7,
    "start_time": "2022-03-15T06:28:59.995Z"
   },
   {
    "duration": 7,
    "start_time": "2022-03-15T06:29:00.005Z"
   },
   {
    "duration": 74,
    "start_time": "2022-03-15T06:29:00.014Z"
   },
   {
    "duration": 7,
    "start_time": "2022-03-15T06:29:00.089Z"
   },
   {
    "duration": 10,
    "start_time": "2022-03-15T06:29:00.097Z"
   },
   {
    "duration": 7,
    "start_time": "2022-03-15T06:29:00.109Z"
   },
   {
    "duration": 10,
    "start_time": "2022-03-15T06:29:00.117Z"
   },
   {
    "duration": 7,
    "start_time": "2022-03-15T06:29:00.128Z"
   },
   {
    "duration": 12,
    "start_time": "2022-03-15T06:29:00.136Z"
   },
   {
    "duration": 8,
    "start_time": "2022-03-15T06:29:00.150Z"
   },
   {
    "duration": 9,
    "start_time": "2022-03-15T06:29:00.159Z"
   },
   {
    "duration": 13,
    "start_time": "2022-03-15T06:29:00.169Z"
   },
   {
    "duration": 9,
    "start_time": "2022-03-15T06:29:00.201Z"
   },
   {
    "duration": 13,
    "start_time": "2022-03-15T06:29:00.212Z"
   },
   {
    "duration": 13,
    "start_time": "2022-03-15T06:29:00.226Z"
   },
   {
    "duration": 4,
    "start_time": "2022-03-15T06:29:00.242Z"
   },
   {
    "duration": 315,
    "start_time": "2022-03-15T06:29:00.248Z"
   },
   {
    "duration": 188,
    "start_time": "2022-03-15T06:29:00.565Z"
   },
   {
    "duration": 185,
    "start_time": "2022-03-15T06:29:00.755Z"
   },
   {
    "duration": 276,
    "start_time": "2022-03-15T06:29:00.942Z"
   },
   {
    "duration": 181,
    "start_time": "2022-03-15T06:29:01.220Z"
   },
   {
    "duration": 302,
    "start_time": "2022-03-15T06:29:01.403Z"
   },
   {
    "duration": 386,
    "start_time": "2022-03-15T06:29:01.707Z"
   },
   {
    "duration": 5,
    "start_time": "2022-03-15T06:29:02.101Z"
   },
   {
    "duration": 298,
    "start_time": "2022-03-15T06:29:02.107Z"
   },
   {
    "duration": 4,
    "start_time": "2022-03-15T06:29:02.407Z"
   },
   {
    "duration": 353,
    "start_time": "2022-03-15T06:29:02.413Z"
   },
   {
    "duration": 11,
    "start_time": "2022-03-15T06:29:02.768Z"
   },
   {
    "duration": 21,
    "start_time": "2022-03-15T06:29:02.781Z"
   },
   {
    "duration": 14,
    "start_time": "2022-03-15T06:29:02.803Z"
   },
   {
    "duration": 13,
    "start_time": "2022-03-15T06:29:02.819Z"
   },
   {
    "duration": 10,
    "start_time": "2022-03-15T06:29:12.729Z"
   },
   {
    "duration": 991,
    "start_time": "2022-03-15T06:29:26.626Z"
   },
   {
    "duration": 16,
    "start_time": "2022-03-15T06:29:27.619Z"
   },
   {
    "duration": 11,
    "start_time": "2022-03-15T06:29:27.637Z"
   },
   {
    "duration": 3,
    "start_time": "2022-03-15T06:29:27.650Z"
   },
   {
    "duration": 11,
    "start_time": "2022-03-15T06:29:27.654Z"
   },
   {
    "duration": 4,
    "start_time": "2022-03-15T06:29:27.666Z"
   },
   {
    "duration": 13,
    "start_time": "2022-03-15T06:29:27.672Z"
   },
   {
    "duration": 3,
    "start_time": "2022-03-15T06:29:27.703Z"
   },
   {
    "duration": 5,
    "start_time": "2022-03-15T06:29:27.709Z"
   },
   {
    "duration": 74,
    "start_time": "2022-03-15T06:29:27.716Z"
   },
   {
    "duration": 8,
    "start_time": "2022-03-15T06:29:27.792Z"
   },
   {
    "duration": 9,
    "start_time": "2022-03-15T06:29:27.802Z"
   },
   {
    "duration": 7,
    "start_time": "2022-03-15T06:29:27.813Z"
   },
   {
    "duration": 7,
    "start_time": "2022-03-15T06:29:27.822Z"
   },
   {
    "duration": 7,
    "start_time": "2022-03-15T06:29:27.831Z"
   },
   {
    "duration": 10,
    "start_time": "2022-03-15T06:29:27.840Z"
   },
   {
    "duration": 7,
    "start_time": "2022-03-15T06:29:27.852Z"
   },
   {
    "duration": 11,
    "start_time": "2022-03-15T06:29:27.861Z"
   },
   {
    "duration": 29,
    "start_time": "2022-03-15T06:29:27.873Z"
   },
   {
    "duration": 9,
    "start_time": "2022-03-15T06:29:27.904Z"
   },
   {
    "duration": 10,
    "start_time": "2022-03-15T06:29:27.915Z"
   },
   {
    "duration": 12,
    "start_time": "2022-03-15T06:29:27.927Z"
   },
   {
    "duration": 4,
    "start_time": "2022-03-15T06:29:27.943Z"
   },
   {
    "duration": 338,
    "start_time": "2022-03-15T06:29:27.949Z"
   },
   {
    "duration": 191,
    "start_time": "2022-03-15T06:29:28.289Z"
   },
   {
    "duration": 256,
    "start_time": "2022-03-15T06:29:28.482Z"
   },
   {
    "duration": 506,
    "start_time": "2022-03-15T06:29:28.740Z"
   },
   {
    "duration": 244,
    "start_time": "2022-03-15T06:29:29.248Z"
   },
   {
    "duration": 326,
    "start_time": "2022-03-15T06:29:29.494Z"
   },
   {
    "duration": 397,
    "start_time": "2022-03-15T06:29:29.822Z"
   },
   {
    "duration": 4,
    "start_time": "2022-03-15T06:29:30.221Z"
   },
   {
    "duration": 283,
    "start_time": "2022-03-15T06:29:30.227Z"
   },
   {
    "duration": 5,
    "start_time": "2022-03-15T06:29:30.512Z"
   },
   {
    "duration": 375,
    "start_time": "2022-03-15T06:29:30.519Z"
   },
   {
    "duration": 12,
    "start_time": "2022-03-15T06:29:30.900Z"
   },
   {
    "duration": 8,
    "start_time": "2022-03-15T06:29:30.914Z"
   },
   {
    "duration": 19,
    "start_time": "2022-03-15T06:29:30.924Z"
   },
   {
    "duration": 17,
    "start_time": "2022-03-15T06:29:30.945Z"
   },
   {
    "duration": 383,
    "start_time": "2022-03-15T06:38:07.766Z"
   },
   {
    "duration": 177,
    "start_time": "2022-03-15T06:45:42.055Z"
   },
   {
    "duration": 482,
    "start_time": "2022-03-15T06:46:57.584Z"
   },
   {
    "duration": 428,
    "start_time": "2022-03-15T06:47:44.297Z"
   },
   {
    "duration": 159,
    "start_time": "2022-03-15T06:48:37.781Z"
   },
   {
    "duration": 147,
    "start_time": "2022-03-15T06:48:55.826Z"
   },
   {
    "duration": 145,
    "start_time": "2022-03-15T06:49:59.358Z"
   },
   {
    "duration": 149,
    "start_time": "2022-03-15T06:50:20.892Z"
   },
   {
    "duration": 448,
    "start_time": "2022-03-15T06:50:57.654Z"
   },
   {
    "duration": 471,
    "start_time": "2022-03-15T06:51:16.154Z"
   },
   {
    "duration": 440,
    "start_time": "2022-03-15T06:51:27.197Z"
   },
   {
    "duration": 138,
    "start_time": "2022-03-15T06:51:45.390Z"
   },
   {
    "duration": 151,
    "start_time": "2022-03-15T06:52:18.213Z"
   },
   {
    "duration": 157,
    "start_time": "2022-03-15T06:53:11.024Z"
   },
   {
    "duration": 207,
    "start_time": "2022-03-15T06:53:15.710Z"
   },
   {
    "duration": 142,
    "start_time": "2022-03-15T06:53:37.006Z"
   },
   {
    "duration": 435,
    "start_time": "2022-03-15T06:53:57.560Z"
   },
   {
    "duration": 141,
    "start_time": "2022-03-15T06:54:13.519Z"
   },
   {
    "duration": 479,
    "start_time": "2022-03-15T06:54:20.263Z"
   },
   {
    "duration": 258,
    "start_time": "2022-03-15T06:54:28.587Z"
   },
   {
    "duration": 436,
    "start_time": "2022-03-15T06:54:52.637Z"
   },
   {
    "duration": 142,
    "start_time": "2022-03-15T06:54:57.727Z"
   },
   {
    "duration": 131,
    "start_time": "2022-03-15T06:55:43.247Z"
   },
   {
    "duration": 495,
    "start_time": "2022-03-15T06:55:47.744Z"
   },
   {
    "duration": 147,
    "start_time": "2022-03-15T06:56:05.056Z"
   },
   {
    "duration": 463,
    "start_time": "2022-03-15T06:56:31.082Z"
   },
   {
    "duration": 419,
    "start_time": "2022-03-15T06:56:55.340Z"
   },
   {
    "duration": 152,
    "start_time": "2022-03-15T06:57:26.801Z"
   },
   {
    "duration": 226,
    "start_time": "2022-03-15T06:58:19.493Z"
   },
   {
    "duration": 170,
    "start_time": "2022-03-15T06:58:38.288Z"
   },
   {
    "duration": 142,
    "start_time": "2022-03-15T07:02:00.833Z"
   },
   {
    "duration": 141,
    "start_time": "2022-03-15T07:02:23.802Z"
   },
   {
    "duration": 170,
    "start_time": "2022-03-15T07:03:03.202Z"
   },
   {
    "duration": 226,
    "start_time": "2022-03-15T07:06:19.110Z"
   },
   {
    "duration": 147,
    "start_time": "2022-03-15T07:08:26.139Z"
   },
   {
    "duration": 151,
    "start_time": "2022-03-15T07:09:00.138Z"
   },
   {
    "duration": 187,
    "start_time": "2022-03-15T07:09:16.837Z"
   },
   {
    "duration": 571,
    "start_time": "2022-03-15T07:10:08.704Z"
   },
   {
    "duration": 552,
    "start_time": "2022-03-15T07:10:29.577Z"
   },
   {
    "duration": 552,
    "start_time": "2022-03-15T07:10:37.845Z"
   },
   {
    "duration": 151,
    "start_time": "2022-03-15T07:10:48.345Z"
   },
   {
    "duration": 206,
    "start_time": "2022-03-15T07:11:33.194Z"
   },
   {
    "duration": 181,
    "start_time": "2022-03-15T07:19:59.234Z"
   },
   {
    "duration": 342,
    "start_time": "2022-03-15T07:21:33.367Z"
   },
   {
    "duration": 234,
    "start_time": "2022-03-15T07:22:14.063Z"
   },
   {
    "duration": 485,
    "start_time": "2022-03-15T07:23:05.472Z"
   },
   {
    "duration": 498,
    "start_time": "2022-03-15T07:26:03.957Z"
   },
   {
    "duration": 184,
    "start_time": "2022-03-15T07:26:20.448Z"
   },
   {
    "duration": 183,
    "start_time": "2022-03-15T07:27:01.208Z"
   },
   {
    "duration": 187,
    "start_time": "2022-03-15T07:27:08.082Z"
   },
   {
    "duration": 186,
    "start_time": "2022-03-15T07:33:28.985Z"
   },
   {
    "duration": 146,
    "start_time": "2022-03-15T07:33:44.242Z"
   },
   {
    "duration": 125,
    "start_time": "2022-03-15T07:34:59.914Z"
   },
   {
    "duration": 178,
    "start_time": "2022-03-15T07:35:05.437Z"
   },
   {
    "duration": 190,
    "start_time": "2022-03-15T07:35:29.104Z"
   },
   {
    "duration": 181,
    "start_time": "2022-03-15T07:35:49.504Z"
   },
   {
    "duration": 425,
    "start_time": "2022-03-15T07:38:48.935Z"
   },
   {
    "duration": 266,
    "start_time": "2022-03-15T07:39:04.189Z"
   },
   {
    "duration": 150,
    "start_time": "2022-03-15T07:44:37.526Z"
   },
   {
    "duration": 7886,
    "start_time": "2022-03-15T07:53:41.142Z"
   },
   {
    "duration": 147,
    "start_time": "2022-03-15T07:54:19.098Z"
   },
   {
    "duration": 144,
    "start_time": "2022-03-15T07:56:50.023Z"
   },
   {
    "duration": 154,
    "start_time": "2022-03-15T07:56:58.494Z"
   },
   {
    "duration": 153,
    "start_time": "2022-03-15T07:57:04.379Z"
   },
   {
    "duration": 165,
    "start_time": "2022-03-15T07:57:36.118Z"
   },
   {
    "duration": 498,
    "start_time": "2022-03-15T07:58:41.370Z"
   },
   {
    "duration": 149,
    "start_time": "2022-03-15T07:58:55.929Z"
   },
   {
    "duration": 143,
    "start_time": "2022-03-15T07:59:54.568Z"
   },
   {
    "duration": 146,
    "start_time": "2022-03-15T08:00:12.022Z"
   },
   {
    "duration": 177,
    "start_time": "2022-03-15T08:00:15.663Z"
   },
   {
    "duration": 196,
    "start_time": "2022-03-15T08:00:29.408Z"
   },
   {
    "duration": 200,
    "start_time": "2022-03-15T08:01:26.918Z"
   },
   {
    "duration": 280,
    "start_time": "2022-03-15T08:02:01.503Z"
   },
   {
    "duration": 178,
    "start_time": "2022-03-15T08:06:58.540Z"
   },
   {
    "duration": 484,
    "start_time": "2022-03-15T08:07:14.754Z"
   },
   {
    "duration": 101,
    "start_time": "2022-03-15T08:07:20.299Z"
   },
   {
    "duration": 176,
    "start_time": "2022-03-15T08:07:43.268Z"
   },
   {
    "duration": 182,
    "start_time": "2022-03-15T08:08:44.714Z"
   },
   {
    "duration": 292,
    "start_time": "2022-03-15T08:09:24.118Z"
   },
   {
    "duration": 168,
    "start_time": "2022-03-15T08:09:45.359Z"
   },
   {
    "duration": 313,
    "start_time": "2022-03-15T08:10:20.097Z"
   },
   {
    "duration": 380,
    "start_time": "2022-03-15T08:10:59.493Z"
   },
   {
    "duration": 255,
    "start_time": "2022-03-15T08:11:39.818Z"
   },
   {
    "duration": 195,
    "start_time": "2022-03-15T08:12:50.166Z"
   },
   {
    "duration": 189,
    "start_time": "2022-03-15T08:14:15.010Z"
   },
   {
    "duration": 190,
    "start_time": "2022-03-15T08:14:43.927Z"
   },
   {
    "duration": 441,
    "start_time": "2022-03-15T08:18:09.080Z"
   },
   {
    "duration": 326,
    "start_time": "2022-03-15T08:21:05.705Z"
   },
   {
    "duration": 312,
    "start_time": "2022-03-15T08:21:19.799Z"
   },
   {
    "duration": 284,
    "start_time": "2022-03-15T08:21:24.141Z"
   },
   {
    "duration": 318,
    "start_time": "2022-03-15T08:30:36.596Z"
   },
   {
    "duration": 191,
    "start_time": "2022-03-15T08:30:45.190Z"
   },
   {
    "duration": 544,
    "start_time": "2022-03-15T08:35:47.253Z"
   },
   {
    "duration": 855,
    "start_time": "2022-03-15T08:36:06.196Z"
   },
   {
    "duration": 517,
    "start_time": "2022-03-15T08:36:12.819Z"
   },
   {
    "duration": 602,
    "start_time": "2022-03-15T08:36:17.608Z"
   },
   {
    "duration": 164,
    "start_time": "2022-03-15T08:36:23.213Z"
   },
   {
    "duration": 539,
    "start_time": "2022-03-15T08:36:32.919Z"
   },
   {
    "duration": 156,
    "start_time": "2022-03-15T08:36:37.778Z"
   },
   {
    "duration": 590,
    "start_time": "2022-03-15T08:37:40.871Z"
   },
   {
    "duration": 159,
    "start_time": "2022-03-15T08:38:28.127Z"
   },
   {
    "duration": 119,
    "start_time": "2022-03-15T08:41:30.850Z"
   },
   {
    "duration": 327,
    "start_time": "2022-03-15T08:41:43.527Z"
   },
   {
    "duration": 303,
    "start_time": "2022-03-15T08:42:03.418Z"
   },
   {
    "duration": 326,
    "start_time": "2022-03-15T08:42:10.988Z"
   },
   {
    "duration": 996,
    "start_time": "2022-03-15T08:42:22.403Z"
   },
   {
    "duration": 466,
    "start_time": "2022-03-15T08:42:31.620Z"
   },
   {
    "duration": 302,
    "start_time": "2022-03-15T08:43:16.571Z"
   },
   {
    "duration": 329,
    "start_time": "2022-03-15T08:44:15.825Z"
   },
   {
    "duration": 316,
    "start_time": "2022-03-15T08:45:07.125Z"
   },
   {
    "duration": 191,
    "start_time": "2022-03-15T08:45:21.280Z"
   },
   {
    "duration": 183,
    "start_time": "2022-03-15T08:46:40.523Z"
   },
   {
    "duration": 325,
    "start_time": "2022-03-15T08:47:02.184Z"
   },
   {
    "duration": 428,
    "start_time": "2022-03-15T08:47:17.691Z"
   },
   {
    "duration": 174,
    "start_time": "2022-03-15T08:47:43.379Z"
   },
   {
    "duration": 317,
    "start_time": "2022-03-15T08:48:15.467Z"
   },
   {
    "duration": 355,
    "start_time": "2022-03-15T08:48:34.158Z"
   },
   {
    "duration": 289,
    "start_time": "2022-03-15T08:48:50.922Z"
   },
   {
    "duration": 276,
    "start_time": "2022-03-15T08:49:06.257Z"
   },
   {
    "duration": 400,
    "start_time": "2022-03-15T08:53:00.519Z"
   },
   {
    "duration": 373,
    "start_time": "2022-03-15T08:53:07.987Z"
   },
   {
    "duration": 148,
    "start_time": "2022-03-15T09:20:46.016Z"
   },
   {
    "duration": 233,
    "start_time": "2022-03-15T09:20:52.778Z"
   },
   {
    "duration": 245,
    "start_time": "2022-03-15T09:21:14.445Z"
   },
   {
    "duration": 144,
    "start_time": "2022-03-15T09:22:50.707Z"
   },
   {
    "duration": 146,
    "start_time": "2022-03-15T09:23:12.780Z"
   },
   {
    "duration": 154,
    "start_time": "2022-03-15T09:23:24.651Z"
   },
   {
    "duration": 170,
    "start_time": "2022-03-15T09:23:31.793Z"
   },
   {
    "duration": 153,
    "start_time": "2022-03-15T09:23:44.422Z"
   },
   {
    "duration": 252,
    "start_time": "2022-03-15T09:24:03.578Z"
   },
   {
    "duration": 156,
    "start_time": "2022-03-15T09:24:46.825Z"
   },
   {
    "duration": 143,
    "start_time": "2022-03-15T09:25:46.967Z"
   },
   {
    "duration": 138,
    "start_time": "2022-03-15T09:26:09.230Z"
   },
   {
    "duration": 224,
    "start_time": "2022-03-15T09:26:18.836Z"
   },
   {
    "duration": 241,
    "start_time": "2022-03-15T09:26:56.903Z"
   },
   {
    "duration": 180,
    "start_time": "2022-03-15T09:27:12.412Z"
   },
   {
    "duration": 258,
    "start_time": "2022-03-15T09:27:25.640Z"
   },
   {
    "duration": 294,
    "start_time": "2022-03-15T09:29:58.743Z"
   },
   {
    "duration": 183,
    "start_time": "2022-03-15T09:30:29.095Z"
   },
   {
    "duration": 4,
    "start_time": "2022-03-15T10:03:54.045Z"
   },
   {
    "duration": 4,
    "start_time": "2022-03-15T10:03:57.615Z"
   },
   {
    "duration": 8049,
    "start_time": "2022-03-15T10:04:18.236Z"
   },
   {
    "duration": 4,
    "start_time": "2022-03-15T10:04:46.854Z"
   },
   {
    "duration": 4,
    "start_time": "2022-03-15T10:04:52.706Z"
   },
   {
    "duration": 11,
    "start_time": "2022-03-15T10:06:24.011Z"
   },
   {
    "duration": 3,
    "start_time": "2022-03-15T10:06:37.820Z"
   },
   {
    "duration": 10,
    "start_time": "2022-03-15T10:06:59.554Z"
   },
   {
    "duration": 4,
    "start_time": "2022-03-15T10:07:03.733Z"
   },
   {
    "duration": 4,
    "start_time": "2022-03-15T10:07:24.082Z"
   },
   {
    "duration": 7772,
    "start_time": "2022-03-15T10:07:53.427Z"
   },
   {
    "duration": 10,
    "start_time": "2022-03-15T10:08:17.409Z"
   },
   {
    "duration": 10,
    "start_time": "2022-03-15T10:08:24.116Z"
   },
   {
    "duration": 4,
    "start_time": "2022-03-15T10:10:47.413Z"
   },
   {
    "duration": 5,
    "start_time": "2022-03-15T10:10:52.304Z"
   },
   {
    "duration": 5,
    "start_time": "2022-03-15T10:10:57.271Z"
   },
   {
    "duration": 317,
    "start_time": "2022-03-15T10:11:08.891Z"
   },
   {
    "duration": 4,
    "start_time": "2022-03-15T10:11:26.670Z"
   },
   {
    "duration": 4,
    "start_time": "2022-03-15T10:11:42.447Z"
   },
   {
    "duration": 197,
    "start_time": "2022-03-15T10:12:42.239Z"
   },
   {
    "duration": 343,
    "start_time": "2022-03-15T10:13:26.432Z"
   },
   {
    "duration": 309,
    "start_time": "2022-03-15T10:13:33.121Z"
   },
   {
    "duration": 197,
    "start_time": "2022-03-15T10:13:39.273Z"
   },
   {
    "duration": 199,
    "start_time": "2022-03-15T10:15:36.842Z"
   },
   {
    "duration": 222,
    "start_time": "2022-03-15T10:15:45.115Z"
   },
   {
    "duration": 211,
    "start_time": "2022-03-15T10:15:51.372Z"
   },
   {
    "duration": 317,
    "start_time": "2022-03-15T10:15:56.445Z"
   },
   {
    "duration": 171,
    "start_time": "2022-03-15T10:17:32.872Z"
   },
   {
    "duration": 182,
    "start_time": "2022-03-15T10:20:37.041Z"
   },
   {
    "duration": 174,
    "start_time": "2022-03-15T10:20:43.406Z"
   },
   {
    "duration": 180,
    "start_time": "2022-03-15T10:20:48.676Z"
   },
   {
    "duration": 184,
    "start_time": "2022-03-15T10:21:28.149Z"
   },
   {
    "duration": 1102,
    "start_time": "2022-03-15T10:24:03.386Z"
   },
   {
    "duration": 29,
    "start_time": "2022-03-15T10:24:04.489Z"
   },
   {
    "duration": 17,
    "start_time": "2022-03-15T10:24:04.521Z"
   },
   {
    "duration": 3,
    "start_time": "2022-03-15T10:24:04.540Z"
   },
   {
    "duration": 16,
    "start_time": "2022-03-15T10:24:04.544Z"
   },
   {
    "duration": 3,
    "start_time": "2022-03-15T10:24:04.561Z"
   },
   {
    "duration": 13,
    "start_time": "2022-03-15T10:24:04.566Z"
   },
   {
    "duration": 5,
    "start_time": "2022-03-15T10:24:04.603Z"
   },
   {
    "duration": 339,
    "start_time": "2022-03-15T10:24:04.611Z"
   },
   {
    "duration": 52,
    "start_time": "2022-03-15T10:24:04.953Z"
   },
   {
    "duration": 7,
    "start_time": "2022-03-15T10:24:05.006Z"
   },
   {
    "duration": 10,
    "start_time": "2022-03-15T10:24:05.015Z"
   },
   {
    "duration": 7,
    "start_time": "2022-03-15T10:24:05.026Z"
   },
   {
    "duration": 9,
    "start_time": "2022-03-15T10:24:05.035Z"
   },
   {
    "duration": 4,
    "start_time": "2022-03-15T10:24:05.046Z"
   },
   {
    "duration": 10,
    "start_time": "2022-03-15T10:24:05.052Z"
   },
   {
    "duration": 39,
    "start_time": "2022-03-15T10:24:05.064Z"
   },
   {
    "duration": 8,
    "start_time": "2022-03-15T10:24:05.105Z"
   },
   {
    "duration": 6,
    "start_time": "2022-03-15T10:24:05.115Z"
   },
   {
    "duration": 6,
    "start_time": "2022-03-15T10:24:05.123Z"
   },
   {
    "duration": 11,
    "start_time": "2022-03-15T10:24:05.130Z"
   },
   {
    "duration": 13,
    "start_time": "2022-03-15T10:24:05.142Z"
   },
   {
    "duration": 7,
    "start_time": "2022-03-15T10:24:05.158Z"
   },
   {
    "duration": 354,
    "start_time": "2022-03-15T10:24:05.167Z"
   },
   {
    "duration": 196,
    "start_time": "2022-03-15T10:24:05.523Z"
   },
   {
    "duration": 192,
    "start_time": "2022-03-15T10:24:05.721Z"
   },
   {
    "duration": 337,
    "start_time": "2022-03-15T10:24:05.915Z"
   },
   {
    "duration": 193,
    "start_time": "2022-03-15T10:24:06.254Z"
   },
   {
    "duration": 300,
    "start_time": "2022-03-15T10:24:06.449Z"
   },
   {
    "duration": 582,
    "start_time": "2022-03-15T10:24:06.751Z"
   },
   {
    "duration": 5,
    "start_time": "2022-03-15T10:24:07.335Z"
   },
   {
    "duration": 508,
    "start_time": "2022-03-15T10:24:07.342Z"
   },
   {
    "duration": 5,
    "start_time": "2022-03-15T10:24:07.852Z"
   },
   {
    "duration": 496,
    "start_time": "2022-03-15T10:24:07.859Z"
   },
   {
    "duration": 8,
    "start_time": "2022-03-15T10:24:08.357Z"
   },
   {
    "duration": 10,
    "start_time": "2022-03-15T10:24:08.367Z"
   },
   {
    "duration": 33,
    "start_time": "2022-03-15T10:24:08.379Z"
   },
   {
    "duration": 12,
    "start_time": "2022-03-15T10:24:08.413Z"
   },
   {
    "duration": 131,
    "start_time": "2022-03-15T10:26:37.817Z"
   },
   {
    "duration": 140,
    "start_time": "2022-03-15T10:26:48.548Z"
   },
   {
    "duration": 523,
    "start_time": "2022-03-15T10:26:59.623Z"
   },
   {
    "duration": 140,
    "start_time": "2022-03-15T10:27:03.370Z"
   },
   {
    "duration": 1015,
    "start_time": "2022-03-15T10:27:34.518Z"
   },
   {
    "duration": 17,
    "start_time": "2022-03-15T10:27:35.534Z"
   },
   {
    "duration": 14,
    "start_time": "2022-03-15T10:27:35.553Z"
   },
   {
    "duration": 3,
    "start_time": "2022-03-15T10:27:35.568Z"
   },
   {
    "duration": 11,
    "start_time": "2022-03-15T10:27:35.573Z"
   },
   {
    "duration": 3,
    "start_time": "2022-03-15T10:27:35.586Z"
   },
   {
    "duration": 10,
    "start_time": "2022-03-15T10:27:35.601Z"
   },
   {
    "duration": 5,
    "start_time": "2022-03-15T10:27:35.612Z"
   },
   {
    "duration": 161,
    "start_time": "2022-03-15T10:27:35.619Z"
   },
   {
    "duration": 64,
    "start_time": "2022-03-15T10:27:35.782Z"
   },
   {
    "duration": 6,
    "start_time": "2022-03-15T10:27:35.847Z"
   },
   {
    "duration": 10,
    "start_time": "2022-03-15T10:27:35.854Z"
   },
   {
    "duration": 5,
    "start_time": "2022-03-15T10:27:35.866Z"
   },
   {
    "duration": 9,
    "start_time": "2022-03-15T10:27:35.873Z"
   },
   {
    "duration": 4,
    "start_time": "2022-03-15T10:27:35.883Z"
   },
   {
    "duration": 7,
    "start_time": "2022-03-15T10:27:35.889Z"
   },
   {
    "duration": 5,
    "start_time": "2022-03-15T10:27:35.901Z"
   },
   {
    "duration": 8,
    "start_time": "2022-03-15T10:27:35.907Z"
   },
   {
    "duration": 9,
    "start_time": "2022-03-15T10:27:35.916Z"
   },
   {
    "duration": 8,
    "start_time": "2022-03-15T10:27:35.927Z"
   },
   {
    "duration": 12,
    "start_time": "2022-03-15T10:27:35.936Z"
   },
   {
    "duration": 13,
    "start_time": "2022-03-15T10:27:35.950Z"
   },
   {
    "duration": 6,
    "start_time": "2022-03-15T10:27:35.965Z"
   },
   {
    "duration": 398,
    "start_time": "2022-03-15T10:27:35.973Z"
   },
   {
    "duration": 200,
    "start_time": "2022-03-15T10:27:36.372Z"
   },
   {
    "duration": 198,
    "start_time": "2022-03-15T10:27:36.573Z"
   },
   {
    "duration": 340,
    "start_time": "2022-03-15T10:27:36.774Z"
   },
   {
    "duration": 189,
    "start_time": "2022-03-15T10:27:37.116Z"
   },
   {
    "duration": 287,
    "start_time": "2022-03-15T10:27:37.307Z"
   },
   {
    "duration": 397,
    "start_time": "2022-03-15T10:27:37.596Z"
   },
   {
    "duration": 5,
    "start_time": "2022-03-15T10:27:38.000Z"
   },
   {
    "duration": 351,
    "start_time": "2022-03-15T10:27:38.006Z"
   },
   {
    "duration": 4,
    "start_time": "2022-03-15T10:27:38.359Z"
   },
   {
    "duration": 358,
    "start_time": "2022-03-15T10:27:38.365Z"
   },
   {
    "duration": 9,
    "start_time": "2022-03-15T10:27:38.724Z"
   },
   {
    "duration": 11,
    "start_time": "2022-03-15T10:27:38.736Z"
   },
   {
    "duration": 12,
    "start_time": "2022-03-15T10:27:38.749Z"
   },
   {
    "duration": 46,
    "start_time": "2022-03-15T10:27:38.763Z"
   },
   {
    "duration": 1289,
    "start_time": "2022-03-16T03:33:15.186Z"
   },
   {
    "duration": 13,
    "start_time": "2022-03-16T03:33:16.478Z"
   },
   {
    "duration": 32,
    "start_time": "2022-03-16T03:33:16.494Z"
   },
   {
    "duration": 4,
    "start_time": "2022-03-16T03:33:16.529Z"
   },
   {
    "duration": 34,
    "start_time": "2022-03-16T03:33:16.535Z"
   },
   {
    "duration": 6,
    "start_time": "2022-03-16T03:33:16.572Z"
   },
   {
    "duration": 36,
    "start_time": "2022-03-16T03:33:16.580Z"
   },
   {
    "duration": 40,
    "start_time": "2022-03-16T03:33:16.620Z"
   },
   {
    "duration": 244,
    "start_time": "2022-03-16T03:33:16.663Z"
   },
   {
    "duration": 29,
    "start_time": "2022-03-16T03:33:16.910Z"
   },
   {
    "duration": 20,
    "start_time": "2022-03-16T03:33:16.941Z"
   },
   {
    "duration": 20,
    "start_time": "2022-03-16T03:33:16.963Z"
   },
   {
    "duration": 11,
    "start_time": "2022-03-16T03:33:16.986Z"
   },
   {
    "duration": 41,
    "start_time": "2022-03-16T03:33:17.000Z"
   },
   {
    "duration": 36,
    "start_time": "2022-03-16T03:33:17.043Z"
   },
   {
    "duration": 21,
    "start_time": "2022-03-16T03:33:17.081Z"
   },
   {
    "duration": 14,
    "start_time": "2022-03-16T03:33:17.105Z"
   },
   {
    "duration": 22,
    "start_time": "2022-03-16T03:33:17.121Z"
   },
   {
    "duration": 10,
    "start_time": "2022-03-16T03:33:17.145Z"
   },
   {
    "duration": 25,
    "start_time": "2022-03-16T03:33:17.158Z"
   },
   {
    "duration": 18,
    "start_time": "2022-03-16T03:33:17.186Z"
   },
   {
    "duration": 18,
    "start_time": "2022-03-16T03:33:17.207Z"
   },
   {
    "duration": 15,
    "start_time": "2022-03-16T03:33:17.229Z"
   },
   {
    "duration": 563,
    "start_time": "2022-03-16T03:33:17.247Z"
   },
   {
    "duration": 339,
    "start_time": "2022-03-16T03:33:17.812Z"
   },
   {
    "duration": 317,
    "start_time": "2022-03-16T03:33:18.153Z"
   },
   {
    "duration": 440,
    "start_time": "2022-03-16T03:33:18.473Z"
   },
   {
    "duration": 334,
    "start_time": "2022-03-16T03:33:18.916Z"
   },
   {
    "duration": 461,
    "start_time": "2022-03-16T03:33:19.254Z"
   },
   {
    "duration": 605,
    "start_time": "2022-03-16T03:33:19.718Z"
   },
   {
    "duration": 6,
    "start_time": "2022-03-16T03:33:20.326Z"
   },
   {
    "duration": 449,
    "start_time": "2022-03-16T03:33:20.334Z"
   },
   {
    "duration": 7,
    "start_time": "2022-03-16T03:33:20.785Z"
   },
   {
    "duration": 689,
    "start_time": "2022-03-16T03:33:20.795Z"
   },
   {
    "duration": 12,
    "start_time": "2022-03-16T03:33:21.487Z"
   },
   {
    "duration": 42,
    "start_time": "2022-03-16T03:33:21.502Z"
   },
   {
    "duration": 33,
    "start_time": "2022-03-16T03:33:21.547Z"
   },
   {
    "duration": 36,
    "start_time": "2022-03-16T03:33:21.582Z"
   }
  ],
  "kernelspec": {
   "display_name": "Python 3 (ipykernel)",
   "language": "python",
   "name": "python3"
  },
  "language_info": {
   "codemirror_mode": {
    "name": "ipython",
    "version": 3
   },
   "file_extension": ".py",
   "mimetype": "text/x-python",
   "name": "python",
   "nbconvert_exporter": "python",
   "pygments_lexer": "ipython3",
   "version": "3.9.5"
  },
  "toc": {
   "base_numbering": 1,
   "nav_menu": {},
   "number_sections": true,
   "sideBar": true,
   "skip_h1_title": true,
   "title_cell": "Table of Contents",
   "title_sidebar": "Contents",
   "toc_cell": false,
   "toc_position": {
    "height": "calc(100% - 180px)",
    "left": "10px",
    "top": "150px",
    "width": "288.891px"
   },
   "toc_section_display": true,
   "toc_window_display": true
  }
 },
 "nbformat": 4,
 "nbformat_minor": 2
}
