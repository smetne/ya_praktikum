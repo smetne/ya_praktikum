{
 "cells": [
  {
   "cell_type": "markdown",
   "metadata": {},
   "source": [
    "<div class=\"alert alert-success\">\n",
    "    \n",
    "**Комментарий ревьюера**\n",
    "\n",
    "Привет! Меня зовут Сысоева Вера.\n",
    "    \n",
    "Далее в файле мои комментарии ты сможешь найти в ячейках, аналогичных данной ( если рамки комментария зелёные и отмечены **#ок** - всё сделано правильно; жёлтые и отмечены **#можно лучше** - есть замечания, но не критично; красные с пометкой **#ошибка** - нужно переделать). Не удаляй эти комментарии и постарайся учесть их в ходе выполнения проекта.\n",
    "    \n",
    "    \n",
    "Я буду поддерживать версионность комментариев, и при следующих итерациях комментарии будут выделены, как \"Комментраии ревьюера - 2 (3 и.т.д.)\"\n",
    "    \n",
    "Если у тебя есть замечания, возражения и вопросы, ты можешь писать свои комментарии, по возможности выделяй их так же цветом (например, синим), чтоб их можно было легко отделить от текста проекта. \n",
    "    \n",
    "Кстати, предлагаю сразу общаться на \"ты\".\n",
    "    \n",
    "Увидев у тебя ошибку, в первый раз я лишь укажу на ее наличие и дам тебе возможность самостоятельно найти и исправить ее. На реальной работе твой начальник будет поступать так же, а я пытаюсь подготовить тебя именно к работе аналитиком. Но если ты пока не справишься с такой задачей - при следующей проверке я дам более точную подсказку.\n",
    "    \n",
    "</div>"
   ]
  },
  {
   "cell_type": "markdown",
   "metadata": {},
   "source": [
    "<div class=\"alert alert-info\">\n",
    "    \n",
    "Привет, Вера!\n",
    "    Спасибо за ревью, надеюсь, я правильно поняла твои замечания и все исправила."
   ]
  },
  {
   "cell_type": "markdown",
   "metadata": {},
   "source": [
    "# Оценка результатов A/B-теста"
   ]
  },
  {
   "cell_type": "markdown",
   "metadata": {
    "toc": true
   },
   "source": [
    "<h1>Оглавление<span class=\"tocSkip\"></span></h1>\n",
    "<div class=\"toc\"><ul class=\"toc-item\"><li><span><a href=\"#Техническое-задание\" data-toc-modified-id=\"Техническое-задание-1\"><span class=\"toc-item-num\">1&nbsp;&nbsp;</span>Техническое задание</a></span></li><li><span><a href=\"#Предобработка-данных\" data-toc-modified-id=\"Предобработка-данных-2\"><span class=\"toc-item-num\">2&nbsp;&nbsp;</span>Предобработка данных</a></span></li><li><span><a href=\"#Оценка-корректности-проведения-теста\" data-toc-modified-id=\"Оценка-корректности-проведения-теста-3\"><span class=\"toc-item-num\">3&nbsp;&nbsp;</span>Оценка корректности проведения теста</a></span></li><li><span><a href=\"#Исследовательский-анализ-данных\" data-toc-modified-id=\"Исследовательский-анализ-данных-4\"><span class=\"toc-item-num\">4&nbsp;&nbsp;</span>Исследовательский анализ данных</a></span></li><li><span><a href=\"#Оценка-результатов-A/B-тестирования\" data-toc-modified-id=\"Оценка-результатов-A/B-тестирования-5\"><span class=\"toc-item-num\">5&nbsp;&nbsp;</span>Оценка результатов A/B-тестирования</a></span></li><li><span><a href=\"#Выводы\" data-toc-modified-id=\"Выводы-6\"><span class=\"toc-item-num\">6&nbsp;&nbsp;</span>Выводы</a></span></li></ul></div>"
   ]
  },
  {
   "cell_type": "markdown",
   "metadata": {},
   "source": [
    "## Техническое задание"
   ]
  },
  {
   "cell_type": "markdown",
   "metadata": {},
   "source": [
    "Название теста: `recommender_system_test;`\n",
    "\n",
    "- Группы: А (контрольная), B (новая платёжная воронка);\n",
    "- Дата запуска: 2020-12-07;\n",
    "- Дата остановки набора новых пользователей: 2020-12-21;\n",
    "- Дата остановки: 2021-01-04;\n",
    "- Аудитория: 15% новых пользователей из региона EU;\n",
    "    \n",
    "Назначение теста: тестирование изменений, связанных с внедрением улучшенной рекомендательной системы;\n",
    "    \n",
    "- Ожидаемое количество участников теста: 6000.\n",
    "- Ожидаемый эффект: за 14 дней с момента регистрации в системе пользователи покажут улучшение каждой метрики не менее, чем на 10%:\n",
    "  - конверсии в просмотр карточек товаров — событие `product_page`\n",
    "  - просмотры корзины — `product_cart`\n",
    "  - покупки — `purchase`\n",
    "    \n",
    "Загрузить данные теста, проверить корректность его проведения и проанализировать полученные результаты."
   ]
  },
  {
   "cell_type": "markdown",
   "metadata": {},
   "source": [
    "**Данные**"
   ]
  },
  {
   "cell_type": "markdown",
   "metadata": {},
   "source": [
    "`/datasets/ab_project_marketing_events.csv` — календарь маркетинговых событий на 2020 год;\n",
    "\n",
    "Структура файла:\n",
    "- `name` — название маркетингового события;\n",
    "- `regions` — регионы, в которых будет проводиться рекламная кампания;\n",
    "- `start_dt` — дата начала кампании;\n",
    "- `finish_dt` — дата завершения кампании.\n",
    "***\n",
    "`/datasets/final_ab_new_users.csv` — все пользователи, зарегистрировавшиеся в интернет-магазине в период с 7 по 21 декабря 2020 года;\n",
    "\n",
    "Структура файла:\n",
    "- `user_id` — идентификатор пользователя;\n",
    "- `first_date` — дата регистрации;\n",
    "- `region` — регион пользователя;\n",
    "- `device` — устройство, с которого происходила регистрация.\n",
    "***\n",
    "`/datasets/final_ab_events.csv` — все события новых пользователей в период с 7 декабря 2020 по 4 января 2021 года;\n",
    "\n",
    "Структура файла:\n",
    "- `user_id` — идентификатор пользователя;\n",
    "- `event_dt` — дата и время события;\n",
    "- `event_name` — тип события;\n",
    "- `details` — дополнительные данные о событии. Например, для покупок, purchase, в этом поле хранится стоимость покупки в долларах.\n",
    "***\n",
    "`/datasets/final_ab_participants.csv` — таблица участников тестов.\n",
    "\n",
    "Структура файла:\n",
    "- `user_id` — идентификатор пользователя;\n",
    "- `ab_test` — название теста;\n",
    "- `group` — группа пользователя"
   ]
  },
  {
   "cell_type": "markdown",
   "metadata": {},
   "source": [
    "## Предобработка данных"
   ]
  },
  {
   "cell_type": "markdown",
   "metadata": {},
   "source": [
    "Требуется ли преобразование типов?\n",
    "Присутствуют ли пропущенные значения и дубликаты? Если да, то какова их природа?"
   ]
  },
  {
   "cell_type": "code",
   "execution_count": 80,
   "metadata": {},
   "outputs": [],
   "source": [
    "import pandas as pd\n",
    "import numpy as np\n",
    "from datetime import timedelta\n",
    "import seaborn as sns\n",
    "from plotly import graph_objects as go\n",
    "import matplotlib.pyplot as plt\n",
    "import plotly.express as px\n",
    "from scipy import stats as st\n",
    "import math as mth"
   ]
  },
  {
   "cell_type": "code",
   "execution_count": 81,
   "metadata": {},
   "outputs": [],
   "source": [
    "marketing_events = pd.read_csv('/datasets/ab_project_marketing_events.csv')\n",
    "new_users = pd.read_csv('/datasets/final_ab_new_users.csv')\n",
    "events = pd.read_csv('/datasets/final_ab_events.csv')\n",
    "participants = pd.read_csv('/datasets/final_ab_participants.csv')"
   ]
  },
  {
   "cell_type": "code",
   "execution_count": 82,
   "metadata": {
    "scrolled": true
   },
   "outputs": [
    {
     "name": "stdout",
     "output_type": "stream",
     "text": [
      "<class 'pandas.core.frame.DataFrame'>\n",
      "RangeIndex: 14 entries, 0 to 13\n",
      "Data columns (total 4 columns):\n",
      " #   Column     Non-Null Count  Dtype \n",
      "---  ------     --------------  ----- \n",
      " 0   name       14 non-null     object\n",
      " 1   regions    14 non-null     object\n",
      " 2   start_dt   14 non-null     object\n",
      " 3   finish_dt  14 non-null     object\n",
      "dtypes: object(4)\n",
      "memory usage: 576.0+ bytes\n",
      "Дубликатов в датафрейме: 0\n"
     ]
    },
    {
     "data": {
      "text/html": [
       "<div>\n",
       "<style scoped>\n",
       "    .dataframe tbody tr th:only-of-type {\n",
       "        vertical-align: middle;\n",
       "    }\n",
       "\n",
       "    .dataframe tbody tr th {\n",
       "        vertical-align: top;\n",
       "    }\n",
       "\n",
       "    .dataframe thead th {\n",
       "        text-align: right;\n",
       "    }\n",
       "</style>\n",
       "<table border=\"1\" class=\"dataframe\">\n",
       "  <thead>\n",
       "    <tr style=\"text-align: right;\">\n",
       "      <th></th>\n",
       "      <th>name</th>\n",
       "      <th>regions</th>\n",
       "      <th>start_dt</th>\n",
       "      <th>finish_dt</th>\n",
       "    </tr>\n",
       "  </thead>\n",
       "  <tbody>\n",
       "    <tr>\n",
       "      <th>12</th>\n",
       "      <td>Single's Day Gift Promo</td>\n",
       "      <td>APAC</td>\n",
       "      <td>2020-11-11</td>\n",
       "      <td>2020-11-12</td>\n",
       "    </tr>\n",
       "    <tr>\n",
       "      <th>6</th>\n",
       "      <td>Chinese New Year Promo</td>\n",
       "      <td>APAC</td>\n",
       "      <td>2020-01-25</td>\n",
       "      <td>2020-02-07</td>\n",
       "    </tr>\n",
       "    <tr>\n",
       "      <th>4</th>\n",
       "      <td>4th of July Promo</td>\n",
       "      <td>N.America</td>\n",
       "      <td>2020-07-04</td>\n",
       "      <td>2020-07-11</td>\n",
       "    </tr>\n",
       "    <tr>\n",
       "      <th>1</th>\n",
       "      <td>St. Valentine's Day Giveaway</td>\n",
       "      <td>EU, CIS, APAC, N.America</td>\n",
       "      <td>2020-02-14</td>\n",
       "      <td>2020-02-16</td>\n",
       "    </tr>\n",
       "    <tr>\n",
       "      <th>0</th>\n",
       "      <td>Christmas&amp;New Year Promo</td>\n",
       "      <td>EU, N.America</td>\n",
       "      <td>2020-12-25</td>\n",
       "      <td>2021-01-03</td>\n",
       "    </tr>\n",
       "  </tbody>\n",
       "</table>\n",
       "</div>"
      ],
      "text/plain": [
       "                            name                   regions    start_dt  \\\n",
       "12       Single's Day Gift Promo                      APAC  2020-11-11   \n",
       "6         Chinese New Year Promo                      APAC  2020-01-25   \n",
       "4              4th of July Promo                 N.America  2020-07-04   \n",
       "1   St. Valentine's Day Giveaway  EU, CIS, APAC, N.America  2020-02-14   \n",
       "0       Christmas&New Year Promo             EU, N.America  2020-12-25   \n",
       "\n",
       "     finish_dt  \n",
       "12  2020-11-12  \n",
       "6   2020-02-07  \n",
       "4   2020-07-11  \n",
       "1   2020-02-16  \n",
       "0   2021-01-03  "
      ]
     },
     "execution_count": 82,
     "metadata": {},
     "output_type": "execute_result"
    }
   ],
   "source": [
    "marketing_events.info()\n",
    "print(f'Дубликатов в датафрейме: {marketing_events.duplicated().sum()}')\n",
    "marketing_events.sample(5)"
   ]
  },
  {
   "cell_type": "markdown",
   "metadata": {},
   "source": [
    "Файл содержит 14 строк и 4 столбца, без пропусков и без дубликатов. Столбцы с датами следует привести к нужному формату."
   ]
  },
  {
   "cell_type": "code",
   "execution_count": 83,
   "metadata": {},
   "outputs": [],
   "source": [
    "marketing_events['start_dt'] = pd.to_datetime(marketing_events['start_dt'])\n",
    "marketing_events['finish_dt'] = pd.to_datetime(marketing_events['finish_dt'])"
   ]
  },
  {
   "cell_type": "code",
   "execution_count": 84,
   "metadata": {
    "scrolled": false
   },
   "outputs": [
    {
     "name": "stdout",
     "output_type": "stream",
     "text": [
      "<class 'pandas.core.frame.DataFrame'>\n",
      "RangeIndex: 61733 entries, 0 to 61732\n",
      "Data columns (total 4 columns):\n",
      " #   Column      Non-Null Count  Dtype \n",
      "---  ------      --------------  ----- \n",
      " 0   user_id     61733 non-null  object\n",
      " 1   first_date  61733 non-null  object\n",
      " 2   region      61733 non-null  object\n",
      " 3   device      61733 non-null  object\n",
      "dtypes: object(4)\n",
      "memory usage: 1.9+ MB\n",
      "Дубликатов в датафрейме: 0\n"
     ]
    },
    {
     "data": {
      "text/html": [
       "<div>\n",
       "<style scoped>\n",
       "    .dataframe tbody tr th:only-of-type {\n",
       "        vertical-align: middle;\n",
       "    }\n",
       "\n",
       "    .dataframe tbody tr th {\n",
       "        vertical-align: top;\n",
       "    }\n",
       "\n",
       "    .dataframe thead th {\n",
       "        text-align: right;\n",
       "    }\n",
       "</style>\n",
       "<table border=\"1\" class=\"dataframe\">\n",
       "  <thead>\n",
       "    <tr style=\"text-align: right;\">\n",
       "      <th></th>\n",
       "      <th>user_id</th>\n",
       "      <th>first_date</th>\n",
       "      <th>region</th>\n",
       "      <th>device</th>\n",
       "    </tr>\n",
       "  </thead>\n",
       "  <tbody>\n",
       "    <tr>\n",
       "      <th>8521</th>\n",
       "      <td>269FE2277D95F783</td>\n",
       "      <td>2020-12-14</td>\n",
       "      <td>EU</td>\n",
       "      <td>Android</td>\n",
       "    </tr>\n",
       "    <tr>\n",
       "      <th>7428</th>\n",
       "      <td>FA171C4FAFCC8053</td>\n",
       "      <td>2020-12-14</td>\n",
       "      <td>EU</td>\n",
       "      <td>PC</td>\n",
       "    </tr>\n",
       "    <tr>\n",
       "      <th>4835</th>\n",
       "      <td>7322F24CA1F72FA6</td>\n",
       "      <td>2020-12-07</td>\n",
       "      <td>EU</td>\n",
       "      <td>PC</td>\n",
       "    </tr>\n",
       "    <tr>\n",
       "      <th>19516</th>\n",
       "      <td>0B719E7F792B4C7C</td>\n",
       "      <td>2020-12-08</td>\n",
       "      <td>EU</td>\n",
       "      <td>Mac</td>\n",
       "    </tr>\n",
       "    <tr>\n",
       "      <th>53995</th>\n",
       "      <td>7DC90FCAFC6ACA5C</td>\n",
       "      <td>2020-12-13</td>\n",
       "      <td>EU</td>\n",
       "      <td>Android</td>\n",
       "    </tr>\n",
       "  </tbody>\n",
       "</table>\n",
       "</div>"
      ],
      "text/plain": [
       "                user_id  first_date region   device\n",
       "8521   269FE2277D95F783  2020-12-14     EU  Android\n",
       "7428   FA171C4FAFCC8053  2020-12-14     EU       PC\n",
       "4835   7322F24CA1F72FA6  2020-12-07     EU       PC\n",
       "19516  0B719E7F792B4C7C  2020-12-08     EU      Mac\n",
       "53995  7DC90FCAFC6ACA5C  2020-12-13     EU  Android"
      ]
     },
     "execution_count": 84,
     "metadata": {},
     "output_type": "execute_result"
    }
   ],
   "source": [
    "new_users.info()\n",
    "print(f'Дубликатов в датафрейме: {new_users.duplicated().sum()}')\n",
    "new_users.sample(5)"
   ]
  },
  {
   "cell_type": "markdown",
   "metadata": {},
   "source": [
    "Файл содержит 4 столба и 61 733 записи, без пропусков и дубликатов. Следует привести к нужному типу столбец с датой."
   ]
  },
  {
   "cell_type": "code",
   "execution_count": 85,
   "metadata": {},
   "outputs": [],
   "source": [
    "new_users['first_date'] = pd.to_datetime(new_users['first_date'])"
   ]
  },
  {
   "cell_type": "code",
   "execution_count": 86,
   "metadata": {
    "scrolled": true
   },
   "outputs": [
    {
     "name": "stdout",
     "output_type": "stream",
     "text": [
      "<class 'pandas.core.frame.DataFrame'>\n",
      "RangeIndex: 440317 entries, 0 to 440316\n",
      "Data columns (total 4 columns):\n",
      " #   Column      Non-Null Count   Dtype  \n",
      "---  ------      --------------   -----  \n",
      " 0   user_id     440317 non-null  object \n",
      " 1   event_dt    440317 non-null  object \n",
      " 2   event_name  440317 non-null  object \n",
      " 3   details     62740 non-null   float64\n",
      "dtypes: float64(1), object(3)\n",
      "memory usage: 13.4+ MB\n",
      "Дубликатов в датафрейме: 0\n"
     ]
    },
    {
     "data": {
      "text/html": [
       "<div>\n",
       "<style scoped>\n",
       "    .dataframe tbody tr th:only-of-type {\n",
       "        vertical-align: middle;\n",
       "    }\n",
       "\n",
       "    .dataframe tbody tr th {\n",
       "        vertical-align: top;\n",
       "    }\n",
       "\n",
       "    .dataframe thead th {\n",
       "        text-align: right;\n",
       "    }\n",
       "</style>\n",
       "<table border=\"1\" class=\"dataframe\">\n",
       "  <thead>\n",
       "    <tr style=\"text-align: right;\">\n",
       "      <th></th>\n",
       "      <th>user_id</th>\n",
       "      <th>event_dt</th>\n",
       "      <th>event_name</th>\n",
       "      <th>details</th>\n",
       "    </tr>\n",
       "  </thead>\n",
       "  <tbody>\n",
       "    <tr>\n",
       "      <th>355861</th>\n",
       "      <td>6169C0F274847C93</td>\n",
       "      <td>2020-12-20 03:38:50</td>\n",
       "      <td>login</td>\n",
       "      <td>NaN</td>\n",
       "    </tr>\n",
       "    <tr>\n",
       "      <th>338664</th>\n",
       "      <td>08589AA89496453B</td>\n",
       "      <td>2020-12-18 09:35:57</td>\n",
       "      <td>login</td>\n",
       "      <td>NaN</td>\n",
       "    </tr>\n",
       "    <tr>\n",
       "      <th>366594</th>\n",
       "      <td>890CBA9D0B59247E</td>\n",
       "      <td>2020-12-21 06:10:28</td>\n",
       "      <td>login</td>\n",
       "      <td>NaN</td>\n",
       "    </tr>\n",
       "    <tr>\n",
       "      <th>229400</th>\n",
       "      <td>CFC46A8D5972591B</td>\n",
       "      <td>2020-12-24 09:00:06</td>\n",
       "      <td>product_page</td>\n",
       "      <td>NaN</td>\n",
       "    </tr>\n",
       "    <tr>\n",
       "      <th>387043</th>\n",
       "      <td>EF1D60EB62862721</td>\n",
       "      <td>2020-12-22 13:32:46</td>\n",
       "      <td>login</td>\n",
       "      <td>NaN</td>\n",
       "    </tr>\n",
       "  </tbody>\n",
       "</table>\n",
       "</div>"
      ],
      "text/plain": [
       "                 user_id             event_dt    event_name  details\n",
       "355861  6169C0F274847C93  2020-12-20 03:38:50         login      NaN\n",
       "338664  08589AA89496453B  2020-12-18 09:35:57         login      NaN\n",
       "366594  890CBA9D0B59247E  2020-12-21 06:10:28         login      NaN\n",
       "229400  CFC46A8D5972591B  2020-12-24 09:00:06  product_page      NaN\n",
       "387043  EF1D60EB62862721  2020-12-22 13:32:46         login      NaN"
      ]
     },
     "execution_count": 86,
     "metadata": {},
     "output_type": "execute_result"
    }
   ],
   "source": [
    "events.info()\n",
    "print(f'Дубликатов в датафрейме: {events.duplicated().sum()}')\n",
    "events.sample(5)"
   ]
  },
  {
   "cell_type": "markdown",
   "metadata": {},
   "source": [
    "Файл на 4 столбца и 440 317 строк, 377 577 пропусков в колонке details, дубликатов нет. Необходимо заменить тип данных в колоне с датой."
   ]
  },
  {
   "cell_type": "code",
   "execution_count": 87,
   "metadata": {},
   "outputs": [],
   "source": [
    "events['event_dt'] = pd.to_datetime(events['event_dt'])"
   ]
  },
  {
   "cell_type": "markdown",
   "metadata": {},
   "source": [
    "Посмотрим на пропуски, возможно, они связаны с типом события."
   ]
  },
  {
   "cell_type": "code",
   "execution_count": 88,
   "metadata": {
    "scrolled": false
   },
   "outputs": [
    {
     "data": {
      "text/plain": [
       "user_id            0\n",
       "event_dt           0\n",
       "event_name         0\n",
       "details       377577\n",
       "dtype: int64"
      ]
     },
     "execution_count": 88,
     "metadata": {},
     "output_type": "execute_result"
    }
   ],
   "source": [
    "events.query('event_name != \"purchase\"').isna().sum()"
   ]
  },
  {
   "cell_type": "markdown",
   "metadata": {},
   "source": [
    "Так и есть, пропуски во всех событиях, кроме события покупки. Это связано с тем, что для других событий нет деталей, это нормально и никак нам не мешает, оставляем как есть."
   ]
  },
  {
   "cell_type": "code",
   "execution_count": 89,
   "metadata": {
    "scrolled": true
   },
   "outputs": [
    {
     "name": "stdout",
     "output_type": "stream",
     "text": [
      "<class 'pandas.core.frame.DataFrame'>\n",
      "RangeIndex: 18268 entries, 0 to 18267\n",
      "Data columns (total 3 columns):\n",
      " #   Column   Non-Null Count  Dtype \n",
      "---  ------   --------------  ----- \n",
      " 0   user_id  18268 non-null  object\n",
      " 1   group    18268 non-null  object\n",
      " 2   ab_test  18268 non-null  object\n",
      "dtypes: object(3)\n",
      "memory usage: 428.3+ KB\n",
      "Дубликатов в датафрейме: 0\n"
     ]
    },
    {
     "data": {
      "text/html": [
       "<div>\n",
       "<style scoped>\n",
       "    .dataframe tbody tr th:only-of-type {\n",
       "        vertical-align: middle;\n",
       "    }\n",
       "\n",
       "    .dataframe tbody tr th {\n",
       "        vertical-align: top;\n",
       "    }\n",
       "\n",
       "    .dataframe thead th {\n",
       "        text-align: right;\n",
       "    }\n",
       "</style>\n",
       "<table border=\"1\" class=\"dataframe\">\n",
       "  <thead>\n",
       "    <tr style=\"text-align: right;\">\n",
       "      <th></th>\n",
       "      <th>user_id</th>\n",
       "      <th>group</th>\n",
       "      <th>ab_test</th>\n",
       "    </tr>\n",
       "  </thead>\n",
       "  <tbody>\n",
       "    <tr>\n",
       "      <th>1678</th>\n",
       "      <td>DB6EC7ECB0CEDCC4</td>\n",
       "      <td>A</td>\n",
       "      <td>recommender_system_test</td>\n",
       "    </tr>\n",
       "    <tr>\n",
       "      <th>9735</th>\n",
       "      <td>94700AA1207EF8EA</td>\n",
       "      <td>A</td>\n",
       "      <td>interface_eu_test</td>\n",
       "    </tr>\n",
       "    <tr>\n",
       "      <th>17425</th>\n",
       "      <td>3E57F488B40A51D6</td>\n",
       "      <td>A</td>\n",
       "      <td>interface_eu_test</td>\n",
       "    </tr>\n",
       "    <tr>\n",
       "      <th>2394</th>\n",
       "      <td>89EF9F0C1676188A</td>\n",
       "      <td>B</td>\n",
       "      <td>recommender_system_test</td>\n",
       "    </tr>\n",
       "    <tr>\n",
       "      <th>15307</th>\n",
       "      <td>BADD0646825F4DB5</td>\n",
       "      <td>A</td>\n",
       "      <td>interface_eu_test</td>\n",
       "    </tr>\n",
       "  </tbody>\n",
       "</table>\n",
       "</div>"
      ],
      "text/plain": [
       "                user_id group                  ab_test\n",
       "1678   DB6EC7ECB0CEDCC4     A  recommender_system_test\n",
       "9735   94700AA1207EF8EA     A        interface_eu_test\n",
       "17425  3E57F488B40A51D6     A        interface_eu_test\n",
       "2394   89EF9F0C1676188A     B  recommender_system_test\n",
       "15307  BADD0646825F4DB5     A        interface_eu_test"
      ]
     },
     "execution_count": 89,
     "metadata": {},
     "output_type": "execute_result"
    }
   ],
   "source": [
    "participants.info()\n",
    "print(f'Дубликатов в датафрейме: {participants.duplicated().sum()}')\n",
    "participants.sample(5)"
   ]
  },
  {
   "cell_type": "markdown",
   "metadata": {},
   "source": [
    "3 столбца 18 268 строк, без пропусков и дубликатов."
   ]
  },
  {
   "cell_type": "markdown",
   "metadata": {},
   "source": [
    "***\n",
    "**Вывод**\n",
    "\n",
    "Представленые данные были изучены на наличие дубликатов (не обнаружено) и пропусков (обнаружены пропуски в details в датасете с событиями). Пропуски были признаны некритичными и остались без изменений. Столбцы с датами были переведены в соответсвующий формат."
   ]
  },
  {
   "cell_type": "markdown",
   "metadata": {},
   "source": [
    "<div class=\"alert alert-success\">\n",
    "\n",
    "**Комментарий ревьюера**\n",
    "\n",
    "**#ок**\n",
    "\n",
    "Хорошо, данные достаточно чистые, посмотрим что там с корректностью проведения теста \n",
    "</div>"
   ]
  },
  {
   "cell_type": "markdown",
   "metadata": {},
   "source": [
    "## Оценка корректности проведения теста"
   ]
  },
  {
   "cell_type": "markdown",
   "metadata": {},
   "source": [
    "Проверим, не пересекается ли время проведения теста с маркетинговыми активностями."
   ]
  },
  {
   "cell_type": "code",
   "execution_count": 90,
   "metadata": {
    "scrolled": true
   },
   "outputs": [
    {
     "data": {
      "text/html": [
       "<div>\n",
       "<style scoped>\n",
       "    .dataframe tbody tr th:only-of-type {\n",
       "        vertical-align: middle;\n",
       "    }\n",
       "\n",
       "    .dataframe tbody tr th {\n",
       "        vertical-align: top;\n",
       "    }\n",
       "\n",
       "    .dataframe thead th {\n",
       "        text-align: right;\n",
       "    }\n",
       "</style>\n",
       "<table border=\"1\" class=\"dataframe\">\n",
       "  <thead>\n",
       "    <tr style=\"text-align: right;\">\n",
       "      <th></th>\n",
       "      <th>name</th>\n",
       "      <th>regions</th>\n",
       "      <th>start_dt</th>\n",
       "      <th>finish_dt</th>\n",
       "    </tr>\n",
       "  </thead>\n",
       "  <tbody>\n",
       "    <tr>\n",
       "      <th>0</th>\n",
       "      <td>Christmas&amp;New Year Promo</td>\n",
       "      <td>EU, N.America</td>\n",
       "      <td>2020-12-25</td>\n",
       "      <td>2021-01-03</td>\n",
       "    </tr>\n",
       "  </tbody>\n",
       "</table>\n",
       "</div>"
      ],
      "text/plain": [
       "                       name        regions   start_dt  finish_dt\n",
       "0  Christmas&New Year Promo  EU, N.America 2020-12-25 2021-01-03"
      ]
     },
     "execution_count": 90,
     "metadata": {},
     "output_type": "execute_result"
    }
   ],
   "source": [
    "cross_events = marketing_events.query(\n",
    "    '(\"2021-01-04\" >= start_dt >= \"2020-12-07\") |' \n",
    "    '(\"2021-01-04\" >= finish_dt >= \"2020-12-07\") |' \n",
    "    '(\"2020-12-07\" > start_dt & finish_dt > \"2020-12-07\")')\n",
    "cross_events[cross_events['regions'].str.contains(\"EU\")]"
   ]
  },
  {
   "cell_type": "markdown",
   "metadata": {},
   "source": [
    "Время проведения теста выпадает на одну маркетинговую кампанию."
   ]
  },
  {
   "cell_type": "markdown",
   "metadata": {},
   "source": [
    "<div class=\"alert alert-danger\">\n",
    "    \n",
    "**Комментарий ревьюера**\n",
    "\n",
    "**#ошибка**\n",
    "\n",
    "Не совсем точная проверка. Чтобы маркетинговое слбытие повлияло на нас нужночтобы\n",
    "\n",
    "    - дата начала события попадало на тест ИЛИ\n",
    "    - дата окончания теста попадало на тест ИЛИ\n",
    "    - дата нача была до И дата окончания была после И\n",
    "    - регион проведения акции был EU\n",
    "</div>"
   ]
  },
  {
   "cell_type": "markdown",
   "metadata": {},
   "source": [
    "<div class=\"alert alert-info\">\n",
    "    \n",
    "   - дата начала события попадало на тест - это условие есть `2021-01-04\" >= start_dt >= \"2020-12-07\"`\n",
    "   - ИЛИ - `|`\n",
    "   - дата окончания теста (события?) попадало на тест - добавила `\"2021-01-04\" >= finish_dt >= \"2020-12-07\"`\n",
    "   - ИЛИ - `|`\n",
    "   - дата нача была до И дата окончания была после - добавила `\"2020-12-07\" > start_dt & finish_dt > \"2020-12-07\"`\n",
    "   - И регион проведения акции был EU - добавила поиск подстроки в отфильтрованной по времени таблице с маркетинговыми событиями\n",
    "</div>"
   ]
  },
  {
   "cell_type": "markdown",
   "metadata": {},
   "source": [
    "<div class=\"alert alert-success\">\n",
    "\n",
    "**Комментарий ревьюера - 2**\n",
    "\n",
    "**#ок**\n",
    "\n",
    "+\n",
    "\n",
    "</div>"
   ]
  },
  {
   "cell_type": "code",
   "execution_count": 91,
   "metadata": {},
   "outputs": [],
   "source": [
    "#recommender_system_test = participants.query('ab_test == \"recommender_system_test\"')\n",
    "#print(f\"Дубликатов: {recommender_system_test['user_id'].duplicated().sum()}\")\n",
    "#recommender_system_test = recommender_system_test.merge(new_users, on='user_id', how='left')\n",
    "#recommender_system_test = recommender_system_test.merge(events, on='user_id', how='left')\n",
    "#recommender_system_test = recommender_system_test.query('\"2020-12-07\" <= first_date <= \"2020-12-21\"')\n",
    "#users_another_tests = list(participants.query('ab_test != \"recommender_system_test\"')['user_id'])\n",
    "#recommender_system_test = recommender_system_test.query('user_id not in @users_another_tests and region == \"EU\"')"
   ]
  },
  {
   "cell_type": "markdown",
   "metadata": {},
   "source": [
    "Соберем участников нашего теста в отедльную таблицу, отфильтруем дату регистрации участников теста по условиям технического задания, уберем участников, встречающихся в других тестах и из других регионов."
   ]
  },
  {
   "cell_type": "code",
   "execution_count": 92,
   "metadata": {},
   "outputs": [],
   "source": [
    "tests_users = participants.merge(new_users, on='user_id', how='left').merge(events, on='user_id', how='left')\n",
    "# таблица участников тестов с событиями"
   ]
  },
  {
   "cell_type": "code",
   "execution_count": 93,
   "metadata": {},
   "outputs": [
    {
     "name": "stdout",
     "output_type": "stream",
     "text": [
      "Доля пользователей из Европы, участвующих в тесте 14 %\n",
      "Количество участников теста 6701\n"
     ]
    }
   ],
   "source": [
    "print('Доля пользователей из Европы, участвующих в тесте', round(\n",
    "    tests_users.query('ab_test == \"recommender_system_test\" & region == \"EU\"')['user_id'].nunique()\n",
    " /new_users.query('region == \"EU\"')['user_id'].nunique()*100), '%')\n",
    "\n",
    "print('Количество участников теста' , \n",
    "      tests_users.query('ab_test == \"recommender_system_test\"')['user_id'].nunique())"
   ]
  },
  {
   "cell_type": "markdown",
   "metadata": {},
   "source": [
    "<div class=\"alert alert-success\">\n",
    "\n",
    "**Комментарий ревьюера - 2**\n",
    "\n",
    "**#ок**\n",
    "\n",
    "+\n",
    "\n",
    "</div>"
   ]
  },
  {
   "cell_type": "code",
   "execution_count": 96,
   "metadata": {
    "scrolled": true
   },
   "outputs": [],
   "source": [
    "users_another_tests = tests_users.query(\n",
    "    'ab_test != \"recommender_system_test\"')\n",
    "# участники другого теста\n",
    "recommender_system_test = tests_users.query(\n",
    "    ' region == \"EU\" & ab_test == \"recommender_system_test\"') \n",
    "# фильтруем по региону и названию нашего теста в отдельную таблицу"
   ]
  },
  {
   "cell_type": "code",
   "execution_count": 98,
   "metadata": {
    "scrolled": true
   },
   "outputs": [
    {
     "name": "stdout",
     "output_type": "stream",
     "text": [
      "Пользователей, участвующих в двух тестах одновременно: 1602\n"
     ]
    }
   ],
   "source": [
    "many_tests_users = np.intersect1d(users_another_tests['user_id'].unique(), \n",
    "                                recommender_system_test['user_id'].unique())\n",
    "print(f'Пользователей, участвующих в двух тестах одновременно: {len(many_tests_users)}')"
   ]
  },
  {
   "cell_type": "code",
   "execution_count": 99,
   "metadata": {},
   "outputs": [],
   "source": [
    "recommender_system_test = recommender_system_test.query('user_id not in @many_tests_users')\n",
    "# убираем пользователей, участвующих в других тестах"
   ]
  },
  {
   "cell_type": "markdown",
   "metadata": {},
   "source": [
    "Поищем пользователей, у которых нет ни одного события за 14 дней с момента регистрации."
   ]
  },
  {
   "cell_type": "code",
   "execution_count": 100,
   "metadata": {
    "scrolled": true
   },
   "outputs": [],
   "source": [
    "recommender_system_test['deadline_dt'] = recommender_system_test['first_date'] + timedelta(days=14) \n",
    "# колонка с дедлайном по первому событию"
   ]
  },
  {
   "cell_type": "code",
   "execution_count": 101,
   "metadata": {
    "scrolled": false
   },
   "outputs": [],
   "source": [
    "first_event = recommender_system_test.pivot_table(\n",
    "    index='user_id', values='event_dt', aggfunc='first').reset_index()\n",
    "first_event = first_event.rename(columns={'event_dt':'first_event'})\n",
    "first_event['first_event'] = first_event['first_event'].dt.date\n",
    "# таблица первых событий каждого пользователя"
   ]
  },
  {
   "cell_type": "code",
   "execution_count": 102,
   "metadata": {},
   "outputs": [],
   "source": [
    "recommender_system_test.dropna(subset=['event_name'], inplace = True) # удалили пользователей без событий"
   ]
  },
  {
   "cell_type": "code",
   "execution_count": 103,
   "metadata": {},
   "outputs": [],
   "source": [
    "recommender_system_test = recommender_system_test.merge(first_event, on='user_id', how='left')"
   ]
  },
  {
   "cell_type": "code",
   "execution_count": 104,
   "metadata": {
    "scrolled": false
   },
   "outputs": [
    {
     "data": {
      "text/html": [
       "<div>\n",
       "<style scoped>\n",
       "    .dataframe tbody tr th:only-of-type {\n",
       "        vertical-align: middle;\n",
       "    }\n",
       "\n",
       "    .dataframe tbody tr th {\n",
       "        vertical-align: top;\n",
       "    }\n",
       "\n",
       "    .dataframe thead th {\n",
       "        text-align: right;\n",
       "    }\n",
       "</style>\n",
       "<table border=\"1\" class=\"dataframe\">\n",
       "  <thead>\n",
       "    <tr style=\"text-align: right;\">\n",
       "      <th></th>\n",
       "      <th>user_id</th>\n",
       "      <th>group</th>\n",
       "      <th>ab_test</th>\n",
       "      <th>first_date</th>\n",
       "      <th>region</th>\n",
       "      <th>device</th>\n",
       "      <th>event_dt</th>\n",
       "      <th>event_name</th>\n",
       "      <th>details</th>\n",
       "      <th>deadline_dt</th>\n",
       "      <th>first_event</th>\n",
       "    </tr>\n",
       "  </thead>\n",
       "  <tbody>\n",
       "  </tbody>\n",
       "</table>\n",
       "</div>"
      ],
      "text/plain": [
       "Empty DataFrame\n",
       "Columns: [user_id, group, ab_test, first_date, region, device, event_dt, event_name, details, deadline_dt, first_event]\n",
       "Index: []"
      ]
     },
     "execution_count": 104,
     "metadata": {},
     "output_type": "execute_result"
    }
   ],
   "source": [
    "recommender_system_test.query('first_event > deadline_dt')"
   ]
  },
  {
   "cell_type": "markdown",
   "metadata": {},
   "source": [
    "Пусто, все участники совершили хотя бы одно событие в течение 14 дней с момента регистрации."
   ]
  },
  {
   "cell_type": "markdown",
   "metadata": {},
   "source": [
    "<div class=\"alert alert-danger\">\n",
    "    \n",
    "**Комментарий ревьюера**\n",
    "\n",
    "**#ошибка**\n",
    "\n",
    "Здесь нужно проверить  нет ли у нас пользователй, которые участвовали в двух тестах одновременно\n",
    "    \n",
    "</div>"
   ]
  },
  {
   "cell_type": "markdown",
   "metadata": {},
   "source": [
    "<div class=\"alert alert-info\">\n",
    "    \n",
    "Но нам неизвестны даты проведения другого теста, как мы узнаем, одновременно пользователь участвует или нет? Или я не правильно понимаю задачу?\n",
    "    \n",
    "Сделала выборку из юзеров, совершивших событие в даты нашего теста, но имеющих запись об участии в другом тесте\n",
    "    \n",
    "    \n",
    "</div>"
   ]
  },
  {
   "cell_type": "markdown",
   "metadata": {},
   "source": [
    "<div class=\"alert alert-danger\">\n",
    "    \n",
    "**Комментарий ревьюера - 2**\n",
    "\n",
    "**#ошибка**\n",
    "\n",
    "Нет не нужно смотреть даты. У нас в таблице final_ab_participants указаны идентификаторы пользователей и названия тестов. Нужно проверить, что одни и те же пользователи не участвовали в двух разных тестах\n",
    "</div>"
   ]
  },
  {
   "cell_type": "markdown",
   "metadata": {},
   "source": [
    "<div class=\"alert alert-info\">\n",
    "\n",
    "Ок, сделала проверку по пересечению идентификаторов, 1602 пользователя получилось"
   ]
  },
  {
   "cell_type": "markdown",
   "metadata": {},
   "source": [
    "<div class=\"alert alert-success\">\n",
    "\n",
    "**Комментарий ревьюера - 3**\n",
    "\n",
    "**#ок**\n",
    "\n",
    "+\n",
    "\n",
    "</div>"
   ]
  },
  {
   "cell_type": "markdown",
   "metadata": {},
   "source": [
    "Проверим аудиторию теста, согласно техническому заданию ожидается 15% новых пользователей из Европы, что составляет 6000 человек."
   ]
  },
  {
   "cell_type": "code",
   "execution_count": 105,
   "metadata": {},
   "outputs": [
    {
     "name": "stdout",
     "output_type": "stream",
     "text": [
      "Доля пользователей из Европы, участвующих в тесте 6 %\n",
      "Количество участников теста 2594\n"
     ]
    }
   ],
   "source": [
    "print('Доля пользователей из Европы, участвующих в тесте' ,round(recommender_system_test['user_id'].nunique()\n",
    " /new_users.query('region == \"EU\"')['user_id'].nunique()*100), '%')\n",
    "\n",
    "print('Количество участников теста' ,(recommender_system_test['user_id'].nunique()))"
   ]
  },
  {
   "cell_type": "markdown",
   "metadata": {},
   "source": [
    "<div class=\"alert alert-success\">\n",
    "\n",
    "**Комментарий ревьюера**\n",
    "\n",
    "**#ок**\n",
    "\n",
    "Да, вообще отличается от заявленных 15%...\n",
    "</div>"
   ]
  },
  {
   "cell_type": "markdown",
   "metadata": {},
   "source": [
    "Посмотрим на равномерность распределения пользователей."
   ]
  },
  {
   "cell_type": "code",
   "execution_count": 106,
   "metadata": {
    "scrolled": true
   },
   "outputs": [
    {
     "data": {
      "text/plain": [
       "group\n",
       "A    74.75\n",
       "B    25.25\n",
       "Name: user_id, dtype: float64"
      ]
     },
     "execution_count": 106,
     "metadata": {},
     "output_type": "execute_result"
    }
   ],
   "source": [
    "(recommender_system_test.groupby('group')['user_id'].nunique()/recommender_system_test['user_id'].nunique()*100).round(2)"
   ]
  },
  {
   "cell_type": "markdown",
   "metadata": {},
   "source": [
    "25% из группы В и 75% из группы А, есть большой перекос."
   ]
  },
  {
   "cell_type": "markdown",
   "metadata": {},
   "source": [
    "***\n",
    "**Вывод**\n",
    "\n",
    "В результате проверки данных тестирования они были очищенны от пользователей, участвующих параллельно в других тестах, не подходящих по дате регистрации, региону и не совершивших ни одного действия в период проведения теста.\n",
    "\n",
    "Согласно техническому заданию в тесте должны были принять участие 15% новых пользователей из Европы или 6000 человек.\n",
    "Изначально в тесте принял участие 6701 пользователь, что составило 14% от новых пользователей из Европы. После очистки данных аудитория теста насчитывает всего 6% (2594 человек). При этом есть большой дисбаланс в группах теста - 25/75.\n",
    "\n",
    "Также время проведения теста выпадает на одну маркетинговую активность, предновогодние дни и сам праздник нового года, в новогодние праздники покупательская активность сильно меняется. Все гипотезы, которые мы можем подтвердить в результате анализа А/В-тестирования, могут показать совершенно другие результаты когда покупательское поведение будет другое."
   ]
  },
  {
   "cell_type": "markdown",
   "metadata": {},
   "source": [
    "<div class=\"alert alert-danger\">\n",
    "    \n",
    "**Комментарий ревьюера**\n",
    "\n",
    "**#ошибка**\n",
    "\n",
    "Ты несколько раз написала про 6000 пользователей, а сколько у нас всего пользователей в тесте?\n",
    "\n",
    "Реальный участник теста - это пользователь, который совершит действие в период 14 дней после регистрации\n",
    "</div>"
   ]
  },
  {
   "cell_type": "markdown",
   "metadata": {},
   "source": [
    "<div class=\"alert alert-info\">\n",
    "\n",
    "Ты несколько раз написала про 6000 пользователей, а сколько у нас всего пользователей в тесте? - Если вопрос в том, сколько изначально было пользователей до очистки, то добавила эту информацию.\n",
    "\n",
    "Реальный участник теста - это пользователь, который совершит действие в период 14 дней после регистрации - сделала дополнительную проверку, но ни одного пользователя с первым событием после 14 дней с регистрации не нашла.\n",
    "</div>"
   ]
  },
  {
   "cell_type": "markdown",
   "metadata": {},
   "source": [
    "<div class=\"alert alert-success\">\n",
    "\n",
    "**Комментарий ревьюера - 2**\n",
    "\n",
    "**#ок**\n",
    "\n",
    "Да, реальная аудитория теста 2594 - это намного меньше заявленных 6000\n",
    "</div>"
   ]
  },
  {
   "cell_type": "markdown",
   "metadata": {},
   "source": [
    "## Исследовательский анализ данных"
   ]
  },
  {
   "cell_type": "markdown",
   "metadata": {},
   "source": [
    "Опишем последовательность событий для продуктовой воронки:"
   ]
  },
  {
   "cell_type": "code",
   "execution_count": 107,
   "metadata": {
    "scrolled": true
   },
   "outputs": [
    {
     "data": {
      "text/plain": [
       "login           7906\n",
       "product_page    4922\n",
       "product_cart    2350\n",
       "purchase        2348\n",
       "Name: event_name, dtype: int64"
      ]
     },
     "execution_count": 107,
     "metadata": {},
     "output_type": "execute_result"
    }
   ],
   "source": [
    "recommender_system_test['event_name'].value_counts()"
   ]
  },
  {
   "cell_type": "markdown",
   "metadata": {},
   "source": [
    "Пользователь \n",
    "- заходит в систему\n",
    "- переходит на страницу товара\n",
    "- переходит в корзину\n",
    "- совершает оплату\n",
    "\n",
    "Сразу отметим, что практически каждый переход в корзину заканчивается оплатой."
   ]
  },
  {
   "cell_type": "markdown",
   "metadata": {},
   "source": [
    "Посмотрим на распределение количества событий на пользователя в выборках"
   ]
  },
  {
   "cell_type": "code",
   "execution_count": 108,
   "metadata": {
    "scrolled": false
   },
   "outputs": [],
   "source": [
    "groups = recommender_system_test.pivot_table(index = ['event_name', 'group'],\n",
    "values = 'user_id', aggfunc = 'count')\n",
    "\n",
    "groups['mean'] = round(groups['user_id']/recommender_system_test.groupby(\n",
    "    'group')['user_id'].nunique(), 2)\n",
    "groups.reset_index(inplace=True)\n",
    "groups.sort_values(by='mean', ascending=False, inplace=True)"
   ]
  },
  {
   "cell_type": "code",
   "execution_count": 109,
   "metadata": {
    "scrolled": true
   },
   "outputs": [
    {
     "data": {
      "image/png": "[encoded data removed]",
      "text/plain": [
       "<Figure size 432x288 with 1 Axes>"
      ]
     },
     "metadata": {
      "needs_background": "light"
     },
     "output_type": "display_data"
    }
   ],
   "source": [
    "ax = sns.barplot(x='event_name', y='mean', data=groups, hue='group')\n",
    "ax.set_title('Среднее кол-во событий на пользователя в выборках')\n",
    "ax.set_xlabel('Событие') \n",
    "ax.set_ylabel('Среднее кол-во событий')\n",
    "plt.show()"
   ]
  },
  {
   "cell_type": "markdown",
   "metadata": {},
   "source": [
    "В группе А больше событий на пользователя по всем событиям. При этом события 'корзина' и 'покупка' в группе А распределены одинаково, а в группе В событие 'покупка' происходит чуть реже, чем 'корзина'. Посмотрим на график распределения."
   ]
  },
  {
   "cell_type": "code",
   "execution_count": 110,
   "metadata": {},
   "outputs": [],
   "source": [
    "group_a = recommender_system_test.query('group==\"A\"')\n",
    "group_b = recommender_system_test.query('group==\"B\"')"
   ]
  },
  {
   "cell_type": "code",
   "execution_count": 111,
   "metadata": {
    "scrolled": true
   },
   "outputs": [
    {
     "data": {
      "image/png": "[encoded data removed]",
      "text/plain": [
       "<Figure size 432x288 with 1 Axes>"
      ]
     },
     "metadata": {
      "needs_background": "light"
     },
     "output_type": "display_data"
    }
   ],
   "source": [
    "sns.histplot(group_a.groupby('user_id')['event_name'].count(), kde=True, color='blue')\n",
    "sns.histplot(group_b.groupby('user_id')['event_name'].count(), kde=True, color='orange')\n",
    "plt.title(f\"Распределение количества событий на пользователя\", y=1.05)\n",
    "plt.legend({'Группа А', 'Группа В'})\n",
    "plt.xlabel('Кол-во событий')\n",
    "plt.ylabel('Кол-во пользователей')\n",
    "plt.show()"
   ]
  },
  {
   "cell_type": "markdown",
   "metadata": {},
   "source": [
    "На графике видим, что распределение количества событий на пользователя имеет схожие черты, но не одинаково. В группе А пик на 6 событиях и затем спад, а у группы В спад начинается после 4 событий."
   ]
  },
  {
   "cell_type": "markdown",
   "metadata": {},
   "source": [
    "Посмотрим на распределние количества событий по датам."
   ]
  },
  {
   "cell_type": "code",
   "execution_count": 112,
   "metadata": {},
   "outputs": [
    {
     "data": {
      "image/png": "[encoded data removed]",
      "text/plain": [
       "<Figure size 360x360 with 1 Axes>"
      ]
     },
     "metadata": {
      "needs_background": "light"
     },
     "output_type": "display_data"
    },
    {
     "data": {
      "image/png": "[encoded data removed]",
      "text/plain": [
       "<Figure size 360x360 with 1 Axes>"
      ]
     },
     "metadata": {
      "needs_background": "light"
     },
     "output_type": "display_data"
    },
    {
     "data": {
      "image/png": "[encoded data removed]",
      "text/plain": [
       "<Figure size 360x360 with 1 Axes>"
      ]
     },
     "metadata": {
      "needs_background": "light"
     },
     "output_type": "display_data"
    },
    {
     "data": {
      "image/png": "[encoded data removed]",
      "text/plain": [
       "<Figure size 360x360 with 1 Axes>"
      ]
     },
     "metadata": {
      "needs_background": "light"
     },
     "output_type": "display_data"
    }
   ],
   "source": [
    "for event in recommender_system_test['event_name'].value_counts().index:\n",
    "    g = sns.displot(\n",
    "        recommender_system_test, \n",
    "        x=recommender_system_test.query('event_name == @event')['event_dt'], \n",
    "        hue='group', \n",
    "        legend=False)\n",
    "    plt.suptitle(f\"Распределение количества событий {event} по датам\", y=1.05)\n",
    "    g.set_axis_labels(' ', 'Кол-во событий')\n",
    "    plt.legend({'Экспериментальная группа В', 'Контрольная группа А'}, loc='right', bbox_to_anchor=(1.4, 0.5))\n",
    "    plt.xticks(rotation=45)\n",
    "    plt.show()"
   ]
  },
  {
   "cell_type": "markdown",
   "metadata": {},
   "source": [
    "Если в начале теста по всем событиям группа B вырывалась вперед или хотя бы была на уровне группы А по количеству, то после 10 декабря начала сдавать позиции. У группы А можно наблюдать всплеск активности в период с 13 декабря по 22, затем идет спад. У группы В за этот же период активность практически не меняется, после 22 декабря можно тоже заметить спад. После 30 декабря вообще не зафиксировано ни одного события ни для одной из групп."
   ]
  },
  {
   "cell_type": "markdown",
   "metadata": {},
   "source": [
    "<div class=\"alert alert-success\">\n",
    "\n",
    "**Комментарий ревьюера**\n",
    "\n",
    "**#ок**\n",
    "\n",
    "первые два вопроса отлично проанализированы\n",
    "</div>"
   ]
  },
  {
   "cell_type": "markdown",
   "metadata": {},
   "source": [
    "Построим продуктовую воронку и посмотрим на конверсию"
   ]
  },
  {
   "cell_type": "code",
   "execution_count": 113,
   "metadata": {
    "scrolled": true
   },
   "outputs": [],
   "source": [
    "funnel_a = (\n",
    "    recommender_system_test.query('group == \"A\"').groupby('event_name').agg({'user_id': 'nunique'})\n",
    "    .sort_values(by='user_id', ascending=False).reset_index()\n",
    ")\n",
    "funnel_b = (\n",
    "    recommender_system_test.query('group == \"B\"').groupby('event_name').agg({'user_id': 'nunique'})\n",
    "    .sort_values(by='user_id', ascending=False).reset_index()\n",
    ")\n",
    "d = {2: 3, 3: 2}\n",
    "funnel_a = funnel_a.rename(d).sort_index()\n",
    "funnel_b = funnel_b.rename(d).sort_index()"
   ]
  },
  {
   "cell_type": "code",
   "execution_count": 114,
   "metadata": {
    "scrolled": true
   },
   "outputs": [
    {
     "data": {
      "application/vnd.plotly.v1+json": {
       "config": {
        "plotlyServerURL": "https://plot.ly"
       },
       "data": [
        {
         "name": "Группа А",
         "textinfo": "value+percent previous",
         "type": "funnel",
         "x": [
          1939,
          1265,
          589,
          613
         ],
         "y": [
          "login",
          "product_page",
          "product_cart",
          "purchase"
         ]
        },
        {
         "name": "Группа В",
         "orientation": "h",
         "textinfo": "value+percent previous",
         "textposition": "inside",
         "type": "funnel",
         "x": [
          655,
          367,
          184,
          191
         ],
         "y": [
          "login",
          "product_page",
          "product_cart",
          "purchase"
         ]
        }
       ],
       "layout": {
        "template": {
         "data": {
          "bar": [
           {
            "error_x": {
             "color": "#2a3f5f"
            },
            "error_y": {
             "color": "#2a3f5f"
            },
            "marker": {
             "line": {
              "color": "#E5ECF6",
              "width": 0.5
             },
             "pattern": {
              "fillmode": "overlay",
              "size": 10,
              "solidity": 0.2
             }
            },
            "type": "bar"
           }
          ],
          "barpolar": [
           {
            "marker": {
             "line": {
              "color": "#E5ECF6",
              "width": 0.5
             },
             "pattern": {
              "fillmode": "overlay",
              "size": 10,
              "solidity": 0.2
             }
            },
            "type": "barpolar"
           }
          ],
          "carpet": [
           {
            "aaxis": {
             "endlinecolor": "#2a3f5f",
             "gridcolor": "white",
             "linecolor": "white",
             "minorgridcolor": "white",
             "startlinecolor": "#2a3f5f"
            },
            "baxis": {
             "endlinecolor": "#2a3f5f",
             "gridcolor": "white",
             "linecolor": "white",
             "minorgridcolor": "white",
             "startlinecolor": "#2a3f5f"
            },
            "type": "carpet"
           }
          ],
          "choropleth": [
           {
            "colorbar": {
             "outlinewidth": 0,
             "ticks": ""
            },
            "type": "choropleth"
           }
          ],
          "contour": [
           {
            "colorbar": {
             "outlinewidth": 0,
             "ticks": ""
            },
            "colorscale": [
             [
              0,
              "#0d0887"
             ],
             [
              0.1111111111111111,
              "#46039f"
             ],
             [
              0.2222222222222222,
              "#7201a8"
             ],
             [
              0.3333333333333333,
              "#9c179e"
             ],
             [
              0.4444444444444444,
              "#bd3786"
             ],
             [
              0.5555555555555556,
              "#d8576b"
             ],
             [
              0.6666666666666666,
              "#ed7953"
             ],
             [
              0.7777777777777778,
              "#fb9f3a"
             ],
             [
              0.8888888888888888,
              "#fdca26"
             ],
             [
              1,
              "#f0f921"
             ]
            ],
            "type": "contour"
           }
          ],
          "contourcarpet": [
           {
            "colorbar": {
             "outlinewidth": 0,
             "ticks": ""
            },
            "type": "contourcarpet"
           }
          ],
          "heatmap": [
           {
            "colorbar": {
             "outlinewidth": 0,
             "ticks": ""
            },
            "colorscale": [
             [
              0,
              "#0d0887"
             ],
             [
              0.1111111111111111,
              "#46039f"
             ],
             [
              0.2222222222222222,
              "#7201a8"
             ],
             [
              0.3333333333333333,
              "#9c179e"
             ],
             [
              0.4444444444444444,
              "#bd3786"
             ],
             [
              0.5555555555555556,
              "#d8576b"
             ],
             [
              0.6666666666666666,
              "#ed7953"
             ],
             [
              0.7777777777777778,
              "#fb9f3a"
             ],
             [
              0.8888888888888888,
              "#fdca26"
             ],
             [
              1,
              "#f0f921"
             ]
            ],
            "type": "heatmap"
           }
          ],
          "heatmapgl": [
           {
            "colorbar": {
             "outlinewidth": 0,
             "ticks": ""
            },
            "colorscale": [
             [
              0,
              "#0d0887"
             ],
             [
              0.1111111111111111,
              "#46039f"
             ],
             [
              0.2222222222222222,
              "#7201a8"
             ],
             [
              0.3333333333333333,
              "#9c179e"
             ],
             [
              0.4444444444444444,
              "#bd3786"
             ],
             [
              0.5555555555555556,
              "#d8576b"
             ],
             [
              0.6666666666666666,
              "#ed7953"
             ],
             [
              0.7777777777777778,
              "#fb9f3a"
             ],
             [
              0.8888888888888888,
              "#fdca26"
             ],
             [
              1,
              "#f0f921"
             ]
            ],
            "type": "heatmapgl"
           }
          ],
          "histogram": [
           {
            "marker": {
             "pattern": {
              "fillmode": "overlay",
              "size": 10,
              "solidity": 0.2
             }
            },
            "type": "histogram"
           }
          ],
          "histogram2d": [
           {
            "colorbar": {
             "outlinewidth": 0,
             "ticks": ""
            },
            "colorscale": [
             [
              0,
              "#0d0887"
             ],
             [
              0.1111111111111111,
              "#46039f"
             ],
             [
              0.2222222222222222,
              "#7201a8"
             ],
             [
              0.3333333333333333,
              "#9c179e"
             ],
             [
              0.4444444444444444,
              "#bd3786"
             ],
             [
              0.5555555555555556,
              "#d8576b"
             ],
             [
              0.6666666666666666,
              "#ed7953"
             ],
             [
              0.7777777777777778,
              "#fb9f3a"
             ],
             [
              0.8888888888888888,
              "#fdca26"
             ],
             [
              1,
              "#f0f921"
             ]
            ],
            "type": "histogram2d"
           }
          ],
          "histogram2dcontour": [
           {
            "colorbar": {
             "outlinewidth": 0,
             "ticks": ""
            },
            "colorscale": [
             [
              0,
              "#0d0887"
             ],
             [
              0.1111111111111111,
              "#46039f"
             ],
             [
              0.2222222222222222,
              "#7201a8"
             ],
             [
              0.3333333333333333,
              "#9c179e"
             ],
             [
              0.4444444444444444,
              "#bd3786"
             ],
             [
              0.5555555555555556,
              "#d8576b"
             ],
             [
              0.6666666666666666,
              "#ed7953"
             ],
             [
              0.7777777777777778,
              "#fb9f3a"
             ],
             [
              0.8888888888888888,
              "#fdca26"
             ],
             [
              1,
              "#f0f921"
             ]
            ],
            "type": "histogram2dcontour"
           }
          ],
          "mesh3d": [
           {
            "colorbar": {
             "outlinewidth": 0,
             "ticks": ""
            },
            "type": "mesh3d"
           }
          ],
          "parcoords": [
           {
            "line": {
             "colorbar": {
              "outlinewidth": 0,
              "ticks": ""
             }
            },
            "type": "parcoords"
           }
          ],
          "pie": [
           {
            "automargin": true,
            "type": "pie"
           }
          ],
          "scatter": [
           {
            "marker": {
             "colorbar": {
              "outlinewidth": 0,
              "ticks": ""
             }
            },
            "type": "scatter"
           }
          ],
          "scatter3d": [
           {
            "line": {
             "colorbar": {
              "outlinewidth": 0,
              "ticks": ""
             }
            },
            "marker": {
             "colorbar": {
              "outlinewidth": 0,
              "ticks": ""
             }
            },
            "type": "scatter3d"
           }
          ],
          "scattercarpet": [
           {
            "marker": {
             "colorbar": {
              "outlinewidth": 0,
              "ticks": ""
             }
            },
            "type": "scattercarpet"
           }
          ],
          "scattergeo": [
           {
            "marker": {
             "colorbar": {
              "outlinewidth": 0,
              "ticks": ""
             }
            },
            "type": "scattergeo"
           }
          ],
          "scattergl": [
           {
            "marker": {
             "colorbar": {
              "outlinewidth": 0,
              "ticks": ""
             }
            },
            "type": "scattergl"
           }
          ],
          "scattermapbox": [
           {
            "marker": {
             "colorbar": {
              "outlinewidth": 0,
              "ticks": ""
             }
            },
            "type": "scattermapbox"
           }
          ],
          "scatterpolar": [
           {
            "marker": {
             "colorbar": {
              "outlinewidth": 0,
              "ticks": ""
             }
            },
            "type": "scatterpolar"
           }
          ],
          "scatterpolargl": [
           {
            "marker": {
             "colorbar": {
              "outlinewidth": 0,
              "ticks": ""
             }
            },
            "type": "scatterpolargl"
           }
          ],
          "scatterternary": [
           {
            "marker": {
             "colorbar": {
              "outlinewidth": 0,
              "ticks": ""
             }
            },
            "type": "scatterternary"
           }
          ],
          "surface": [
           {
            "colorbar": {
             "outlinewidth": 0,
             "ticks": ""
            },
            "colorscale": [
             [
              0,
              "#0d0887"
             ],
             [
              0.1111111111111111,
              "#46039f"
             ],
             [
              0.2222222222222222,
              "#7201a8"
             ],
             [
              0.3333333333333333,
              "#9c179e"
             ],
             [
              0.4444444444444444,
              "#bd3786"
             ],
             [
              0.5555555555555556,
              "#d8576b"
             ],
             [
              0.6666666666666666,
              "#ed7953"
             ],
             [
              0.7777777777777778,
              "#fb9f3a"
             ],
             [
              0.8888888888888888,
              "#fdca26"
             ],
             [
              1,
              "#f0f921"
             ]
            ],
            "type": "surface"
           }
          ],
          "table": [
           {
            "cells": {
             "fill": {
              "color": "#EBF0F8"
             },
             "line": {
              "color": "white"
             }
            },
            "header": {
             "fill": {
              "color": "#C8D4E3"
             },
             "line": {
              "color": "white"
             }
            },
            "type": "table"
           }
          ]
         },
         "layout": {
          "annotationdefaults": {
           "arrowcolor": "#2a3f5f",
           "arrowhead": 0,
           "arrowwidth": 1
          },
          "autotypenumbers": "strict",
          "coloraxis": {
           "colorbar": {
            "outlinewidth": 0,
            "ticks": ""
           }
          },
          "colorscale": {
           "diverging": [
            [
             0,
             "#8e0152"
            ],
            [
             0.1,
             "#c51b7d"
            ],
            [
             0.2,
             "#de77ae"
            ],
            [
             0.3,
             "#f1b6da"
            ],
            [
             0.4,
             "#fde0ef"
            ],
            [
             0.5,
             "#f7f7f7"
            ],
            [
             0.6,
             "#e6f5d0"
            ],
            [
             0.7,
             "#b8e186"
            ],
            [
             0.8,
             "#7fbc41"
            ],
            [
             0.9,
             "#4d9221"
            ],
            [
             1,
             "#276419"
            ]
           ],
           "sequential": [
            [
             0,
             "#0d0887"
            ],
            [
             0.1111111111111111,
             "#46039f"
            ],
            [
             0.2222222222222222,
             "#7201a8"
            ],
            [
             0.3333333333333333,
             "#9c179e"
            ],
            [
             0.4444444444444444,
             "#bd3786"
            ],
            [
             0.5555555555555556,
             "#d8576b"
            ],
            [
             0.6666666666666666,
             "#ed7953"
            ],
            [
             0.7777777777777778,
             "#fb9f3a"
            ],
            [
             0.8888888888888888,
             "#fdca26"
            ],
            [
             1,
             "#f0f921"
            ]
           ],
           "sequentialminus": [
            [
             0,
             "#0d0887"
            ],
            [
             0.1111111111111111,
             "#46039f"
            ],
            [
             0.2222222222222222,
             "#7201a8"
            ],
            [
             0.3333333333333333,
             "#9c179e"
            ],
            [
             0.4444444444444444,
             "#bd3786"
            ],
            [
             0.5555555555555556,
             "#d8576b"
            ],
            [
             0.6666666666666666,
             "#ed7953"
            ],
            [
             0.7777777777777778,
             "#fb9f3a"
            ],
            [
             0.8888888888888888,
             "#fdca26"
            ],
            [
             1,
             "#f0f921"
            ]
           ]
          },
          "colorway": [
           "#636efa",
           "#EF553B",
           "#00cc96",
           "#ab63fa",
           "#FFA15A",
           "#19d3f3",
           "#FF6692",
           "#B6E880",
           "#FF97FF",
           "#FECB52"
          ],
          "font": {
           "color": "#2a3f5f"
          },
          "geo": {
           "bgcolor": "white",
           "lakecolor": "white",
           "landcolor": "#E5ECF6",
           "showlakes": true,
           "showland": true,
           "subunitcolor": "white"
          },
          "hoverlabel": {
           "align": "left"
          },
          "hovermode": "closest",
          "mapbox": {
           "style": "light"
          },
          "paper_bgcolor": "white",
          "plot_bgcolor": "#E5ECF6",
          "polar": {
           "angularaxis": {
            "gridcolor": "white",
            "linecolor": "white",
            "ticks": ""
           },
           "bgcolor": "#E5ECF6",
           "radialaxis": {
            "gridcolor": "white",
            "linecolor": "white",
            "ticks": ""
           }
          },
          "scene": {
           "xaxis": {
            "backgroundcolor": "#E5ECF6",
            "gridcolor": "white",
            "gridwidth": 2,
            "linecolor": "white",
            "showbackground": true,
            "ticks": "",
            "zerolinecolor": "white"
           },
           "yaxis": {
            "backgroundcolor": "#E5ECF6",
            "gridcolor": "white",
            "gridwidth": 2,
            "linecolor": "white",
            "showbackground": true,
            "ticks": "",
            "zerolinecolor": "white"
           },
           "zaxis": {
            "backgroundcolor": "#E5ECF6",
            "gridcolor": "white",
            "gridwidth": 2,
            "linecolor": "white",
            "showbackground": true,
            "ticks": "",
            "zerolinecolor": "white"
           }
          },
          "shapedefaults": {
           "line": {
            "color": "#2a3f5f"
           }
          },
          "ternary": {
           "aaxis": {
            "gridcolor": "white",
            "linecolor": "white",
            "ticks": ""
           },
           "baxis": {
            "gridcolor": "white",
            "linecolor": "white",
            "ticks": ""
           },
           "bgcolor": "#E5ECF6",
           "caxis": {
            "gridcolor": "white",
            "linecolor": "white",
            "ticks": ""
           }
          },
          "title": {
           "x": 0.05
          },
          "xaxis": {
           "automargin": true,
           "gridcolor": "white",
           "linecolor": "white",
           "ticks": "",
           "title": {
            "standoff": 15
           },
           "zerolinecolor": "white",
           "zerolinewidth": 2
          },
          "yaxis": {
           "automargin": true,
           "gridcolor": "white",
           "linecolor": "white",
           "ticks": "",
           "title": {
            "standoff": 15
           },
           "zerolinecolor": "white",
           "zerolinewidth": 2
          }
         }
        },
        "title": {
         "text": "Воронка по группам А/В-теста"
        }
       }
      },
      "text/html": [
       "<div>                            <div id=\"f796ce10-298f-4c32-97bd-d7f55c1b9e99\" class=\"plotly-graph-div\" style=\"height:525px; width:100%;\"></div>            <script type=\"text/javascript\">                require([\"plotly\"], function(Plotly) {                    window.PLOTLYENV=window.PLOTLYENV || {};                                    if (document.getElementById(\"f796ce10-298f-4c32-97bd-d7f55c1b9e99\")) {                    Plotly.newPlot(                        \"f796ce10-298f-4c32-97bd-d7f55c1b9e99\",                        [{\"name\":\"\\u0413\\u0440\\u0443\\u043f\\u043f\\u0430 \\u0410\",\"textinfo\":\"value+percent previous\",\"x\":[1939,1265,589,613],\"y\":[\"login\",\"product_page\",\"product_cart\",\"purchase\"],\"type\":\"funnel\"},{\"name\":\"\\u0413\\u0440\\u0443\\u043f\\u043f\\u0430 \\u0412\",\"orientation\":\"h\",\"textinfo\":\"value+percent previous\",\"textposition\":\"inside\",\"x\":[655,367,184,191],\"y\":[\"login\",\"product_page\",\"product_cart\",\"purchase\"],\"type\":\"funnel\"}],                        {\"template\":{\"data\":{\"bar\":[{\"error_x\":{\"color\":\"#2a3f5f\"},\"error_y\":{\"color\":\"#2a3f5f\"},\"marker\":{\"line\":{\"color\":\"#E5ECF6\",\"width\":0.5},\"pattern\":{\"fillmode\":\"overlay\",\"size\":10,\"solidity\":0.2}},\"type\":\"bar\"}],\"barpolar\":[{\"marker\":{\"line\":{\"color\":\"#E5ECF6\",\"width\":0.5},\"pattern\":{\"fillmode\":\"overlay\",\"size\":10,\"solidity\":0.2}},\"type\":\"barpolar\"}],\"carpet\":[{\"aaxis\":{\"endlinecolor\":\"#2a3f5f\",\"gridcolor\":\"white\",\"linecolor\":\"white\",\"minorgridcolor\":\"white\",\"startlinecolor\":\"#2a3f5f\"},\"baxis\":{\"endlinecolor\":\"#2a3f5f\",\"gridcolor\":\"white\",\"linecolor\":\"white\",\"minorgridcolor\":\"white\",\"startlinecolor\":\"#2a3f5f\"},\"type\":\"carpet\"}],\"choropleth\":[{\"colorbar\":{\"outlinewidth\":0,\"ticks\":\"\"},\"type\":\"choropleth\"}],\"contour\":[{\"colorbar\":{\"outlinewidth\":0,\"ticks\":\"\"},\"colorscale\":[[0.0,\"#0d0887\"],[0.1111111111111111,\"#46039f\"],[0.2222222222222222,\"#7201a8\"],[0.3333333333333333,\"#9c179e\"],[0.4444444444444444,\"#bd3786\"],[0.5555555555555556,\"#d8576b\"],[0.6666666666666666,\"#ed7953\"],[0.7777777777777778,\"#fb9f3a\"],[0.8888888888888888,\"#fdca26\"],[1.0,\"#f0f921\"]],\"type\":\"contour\"}],\"contourcarpet\":[{\"colorbar\":{\"outlinewidth\":0,\"ticks\":\"\"},\"type\":\"contourcarpet\"}],\"heatmap\":[{\"colorbar\":{\"outlinewidth\":0,\"ticks\":\"\"},\"colorscale\":[[0.0,\"#0d0887\"],[0.1111111111111111,\"#46039f\"],[0.2222222222222222,\"#7201a8\"],[0.3333333333333333,\"#9c179e\"],[0.4444444444444444,\"#bd3786\"],[0.5555555555555556,\"#d8576b\"],[0.6666666666666666,\"#ed7953\"],[0.7777777777777778,\"#fb9f3a\"],[0.8888888888888888,\"#fdca26\"],[1.0,\"#f0f921\"]],\"type\":\"heatmap\"}],\"heatmapgl\":[{\"colorbar\":{\"outlinewidth\":0,\"ticks\":\"\"},\"colorscale\":[[0.0,\"#0d0887\"],[0.1111111111111111,\"#46039f\"],[0.2222222222222222,\"#7201a8\"],[0.3333333333333333,\"#9c179e\"],[0.4444444444444444,\"#bd3786\"],[0.5555555555555556,\"#d8576b\"],[0.6666666666666666,\"#ed7953\"],[0.7777777777777778,\"#fb9f3a\"],[0.8888888888888888,\"#fdca26\"],[1.0,\"#f0f921\"]],\"type\":\"heatmapgl\"}],\"histogram\":[{\"marker\":{\"pattern\":{\"fillmode\":\"overlay\",\"size\":10,\"solidity\":0.2}},\"type\":\"histogram\"}],\"histogram2d\":[{\"colorbar\":{\"outlinewidth\":0,\"ticks\":\"\"},\"colorscale\":[[0.0,\"#0d0887\"],[0.1111111111111111,\"#46039f\"],[0.2222222222222222,\"#7201a8\"],[0.3333333333333333,\"#9c179e\"],[0.4444444444444444,\"#bd3786\"],[0.5555555555555556,\"#d8576b\"],[0.6666666666666666,\"#ed7953\"],[0.7777777777777778,\"#fb9f3a\"],[0.8888888888888888,\"#fdca26\"],[1.0,\"#f0f921\"]],\"type\":\"histogram2d\"}],\"histogram2dcontour\":[{\"colorbar\":{\"outlinewidth\":0,\"ticks\":\"\"},\"colorscale\":[[0.0,\"#0d0887\"],[0.1111111111111111,\"#46039f\"],[0.2222222222222222,\"#7201a8\"],[0.3333333333333333,\"#9c179e\"],[0.4444444444444444,\"#bd3786\"],[0.5555555555555556,\"#d8576b\"],[0.6666666666666666,\"#ed7953\"],[0.7777777777777778,\"#fb9f3a\"],[0.8888888888888888,\"#fdca26\"],[1.0,\"#f0f921\"]],\"type\":\"histogram2dcontour\"}],\"mesh3d\":[{\"colorbar\":{\"outlinewidth\":0,\"ticks\":\"\"},\"type\":\"mesh3d\"}],\"parcoords\":[{\"line\":{\"colorbar\":{\"outlinewidth\":0,\"ticks\":\"\"}},\"type\":\"parcoords\"}],\"pie\":[{\"automargin\":true,\"type\":\"pie\"}],\"scatter\":[{\"marker\":{\"colorbar\":{\"outlinewidth\":0,\"ticks\":\"\"}},\"type\":\"scatter\"}],\"scatter3d\":[{\"line\":{\"colorbar\":{\"outlinewidth\":0,\"ticks\":\"\"}},\"marker\":{\"colorbar\":{\"outlinewidth\":0,\"ticks\":\"\"}},\"type\":\"scatter3d\"}],\"scattercarpet\":[{\"marker\":{\"colorbar\":{\"outlinewidth\":0,\"ticks\":\"\"}},\"type\":\"scattercarpet\"}],\"scattergeo\":[{\"marker\":{\"colorbar\":{\"outlinewidth\":0,\"ticks\":\"\"}},\"type\":\"scattergeo\"}],\"scattergl\":[{\"marker\":{\"colorbar\":{\"outlinewidth\":0,\"ticks\":\"\"}},\"type\":\"scattergl\"}],\"scattermapbox\":[{\"marker\":{\"colorbar\":{\"outlinewidth\":0,\"ticks\":\"\"}},\"type\":\"scattermapbox\"}],\"scatterpolar\":[{\"marker\":{\"colorbar\":{\"outlinewidth\":0,\"ticks\":\"\"}},\"type\":\"scatterpolar\"}],\"scatterpolargl\":[{\"marker\":{\"colorbar\":{\"outlinewidth\":0,\"ticks\":\"\"}},\"type\":\"scatterpolargl\"}],\"scatterternary\":[{\"marker\":{\"colorbar\":{\"outlinewidth\":0,\"ticks\":\"\"}},\"type\":\"scatterternary\"}],\"surface\":[{\"colorbar\":{\"outlinewidth\":0,\"ticks\":\"\"},\"colorscale\":[[0.0,\"#0d0887\"],[0.1111111111111111,\"#46039f\"],[0.2222222222222222,\"#7201a8\"],[0.3333333333333333,\"#9c179e\"],[0.4444444444444444,\"#bd3786\"],[0.5555555555555556,\"#d8576b\"],[0.6666666666666666,\"#ed7953\"],[0.7777777777777778,\"#fb9f3a\"],[0.8888888888888888,\"#fdca26\"],[1.0,\"#f0f921\"]],\"type\":\"surface\"}],\"table\":[{\"cells\":{\"fill\":{\"color\":\"#EBF0F8\"},\"line\":{\"color\":\"white\"}},\"header\":{\"fill\":{\"color\":\"#C8D4E3\"},\"line\":{\"color\":\"white\"}},\"type\":\"table\"}]},\"layout\":{\"annotationdefaults\":{\"arrowcolor\":\"#2a3f5f\",\"arrowhead\":0,\"arrowwidth\":1},\"autotypenumbers\":\"strict\",\"coloraxis\":{\"colorbar\":{\"outlinewidth\":0,\"ticks\":\"\"}},\"colorscale\":{\"diverging\":[[0,\"#8e0152\"],[0.1,\"#c51b7d\"],[0.2,\"#de77ae\"],[0.3,\"#f1b6da\"],[0.4,\"#fde0ef\"],[0.5,\"#f7f7f7\"],[0.6,\"#e6f5d0\"],[0.7,\"#b8e186\"],[0.8,\"#7fbc41\"],[0.9,\"#4d9221\"],[1,\"#276419\"]],\"sequential\":[[0.0,\"#0d0887\"],[0.1111111111111111,\"#46039f\"],[0.2222222222222222,\"#7201a8\"],[0.3333333333333333,\"#9c179e\"],[0.4444444444444444,\"#bd3786\"],[0.5555555555555556,\"#d8576b\"],[0.6666666666666666,\"#ed7953\"],[0.7777777777777778,\"#fb9f3a\"],[0.8888888888888888,\"#fdca26\"],[1.0,\"#f0f921\"]],\"sequentialminus\":[[0.0,\"#0d0887\"],[0.1111111111111111,\"#46039f\"],[0.2222222222222222,\"#7201a8\"],[0.3333333333333333,\"#9c179e\"],[0.4444444444444444,\"#bd3786\"],[0.5555555555555556,\"#d8576b\"],[0.6666666666666666,\"#ed7953\"],[0.7777777777777778,\"#fb9f3a\"],[0.8888888888888888,\"#fdca26\"],[1.0,\"#f0f921\"]]},\"colorway\":[\"#636efa\",\"#EF553B\",\"#00cc96\",\"#ab63fa\",\"#FFA15A\",\"#19d3f3\",\"#FF6692\",\"#B6E880\",\"#FF97FF\",\"#FECB52\"],\"font\":{\"color\":\"#2a3f5f\"},\"geo\":{\"bgcolor\":\"white\",\"lakecolor\":\"white\",\"landcolor\":\"#E5ECF6\",\"showlakes\":true,\"showland\":true,\"subunitcolor\":\"white\"},\"hoverlabel\":{\"align\":\"left\"},\"hovermode\":\"closest\",\"mapbox\":{\"style\":\"light\"},\"paper_bgcolor\":\"white\",\"plot_bgcolor\":\"#E5ECF6\",\"polar\":{\"angularaxis\":{\"gridcolor\":\"white\",\"linecolor\":\"white\",\"ticks\":\"\"},\"bgcolor\":\"#E5ECF6\",\"radialaxis\":{\"gridcolor\":\"white\",\"linecolor\":\"white\",\"ticks\":\"\"}},\"scene\":{\"xaxis\":{\"backgroundcolor\":\"#E5ECF6\",\"gridcolor\":\"white\",\"gridwidth\":2,\"linecolor\":\"white\",\"showbackground\":true,\"ticks\":\"\",\"zerolinecolor\":\"white\"},\"yaxis\":{\"backgroundcolor\":\"#E5ECF6\",\"gridcolor\":\"white\",\"gridwidth\":2,\"linecolor\":\"white\",\"showbackground\":true,\"ticks\":\"\",\"zerolinecolor\":\"white\"},\"zaxis\":{\"backgroundcolor\":\"#E5ECF6\",\"gridcolor\":\"white\",\"gridwidth\":2,\"linecolor\":\"white\",\"showbackground\":true,\"ticks\":\"\",\"zerolinecolor\":\"white\"}},\"shapedefaults\":{\"line\":{\"color\":\"#2a3f5f\"}},\"ternary\":{\"aaxis\":{\"gridcolor\":\"white\",\"linecolor\":\"white\",\"ticks\":\"\"},\"baxis\":{\"gridcolor\":\"white\",\"linecolor\":\"white\",\"ticks\":\"\"},\"bgcolor\":\"#E5ECF6\",\"caxis\":{\"gridcolor\":\"white\",\"linecolor\":\"white\",\"ticks\":\"\"}},\"title\":{\"x\":0.05},\"xaxis\":{\"automargin\":true,\"gridcolor\":\"white\",\"linecolor\":\"white\",\"ticks\":\"\",\"title\":{\"standoff\":15},\"zerolinecolor\":\"white\",\"zerolinewidth\":2},\"yaxis\":{\"automargin\":true,\"gridcolor\":\"white\",\"linecolor\":\"white\",\"ticks\":\"\",\"title\":{\"standoff\":15},\"zerolinecolor\":\"white\",\"zerolinewidth\":2}}},\"title\":{\"text\":\"\\u0412\\u043e\\u0440\\u043e\\u043d\\u043a\\u0430 \\u043f\\u043e \\u0433\\u0440\\u0443\\u043f\\u043f\\u0430\\u043c \\u0410/\\u0412-\\u0442\\u0435\\u0441\\u0442\\u0430\"}},                        {\"responsive\": true}                    ).then(function(){\n",
       "                            \n",
       "var gd = document.getElementById('f796ce10-298f-4c32-97bd-d7f55c1b9e99');\n",
       "var x = new MutationObserver(function (mutations, observer) {{\n",
       "        var display = window.getComputedStyle(gd).display;\n",
       "        if (!display || display === 'none') {{\n",
       "            console.log([gd, 'removed!']);\n",
       "            Plotly.purge(gd);\n",
       "            observer.disconnect();\n",
       "        }}\n",
       "}});\n",
       "\n",
       "// Listen for the removal of the full notebook cells\n",
       "var notebookContainer = gd.closest('#notebook-container');\n",
       "if (notebookContainer) {{\n",
       "    x.observe(notebookContainer, {childList: true});\n",
       "}}\n",
       "\n",
       "// Listen for the clearing of the current output cell\n",
       "var outputEl = gd.closest('.output');\n",
       "if (outputEl) {{\n",
       "    x.observe(outputEl, {childList: true});\n",
       "}}\n",
       "\n",
       "                        })                };                });            </script>        </div>"
      ]
     },
     "metadata": {},
     "output_type": "display_data"
    }
   ],
   "source": [
    "fig = go.Figure()\n",
    "fig.update_layout(title_text='Воронка по группам А/В-теста')\n",
    "fig.add_trace(go.Funnel(\n",
    "    name = 'Группа А',\n",
    "    y = funnel_a['event_name'],\n",
    "    x = funnel_a['user_id'].values,\n",
    "    textinfo = \"value+percent previous\"))\n",
    "\n",
    "fig.add_trace(go.Funnel(\n",
    "    name = 'Группа В',\n",
    "    orientation = \"h\",\n",
    "    y = funnel_b['event_name'],\n",
    "    x = funnel_b['user_id'].values,\n",
    "    textposition = \"inside\",\n",
    "    textinfo = \"value+percent previous\"))\n",
    "\n",
    "fig.show()"
   ]
  },
  {
   "cell_type": "markdown",
   "metadata": {},
   "source": [
    "В группе В конверсия упала в переходе к событию 'product_page' (56% против 65% в группе А), конверсия перехода со страницы товара в корзину выросла на 3% в группе В.  Событие 'purchase' практически не изменилось, при этом 4% пользователей в обеих группах пропускают переход в корзину и совершают покупку сразу со страницы товара.\n",
    "\n",
    "В целом, ни о каких 10% увеличения конверсии не может быть и речи."
   ]
  },
  {
   "cell_type": "markdown",
   "metadata": {},
   "source": [
    "<div class=\"alert alert-danger\">\n",
    "    \n",
    "**Комментарий ревьюера**\n",
    "\n",
    "**#ошибка**\n",
    "\n",
    "А вот воронка не верно построена. Воронку нужно строить по количеству уникальных пользователей, а не по событиям\n",
    "</div>"
   ]
  },
  {
   "cell_type": "markdown",
   "metadata": {},
   "source": [
    "<div class=\"alert alert-info\">\n",
    "    \n",
    "Исправила\n",
    "\n",
    "</div>"
   ]
  },
  {
   "cell_type": "markdown",
   "metadata": {},
   "source": [
    "<div class=\"alert alert-success\">\n",
    "\n",
    "**Комментарий ревьюера - 2**\n",
    "\n",
    "**#ок**\n",
    "\n",
    "+\n",
    "\n",
    "</div>"
   ]
  },
  {
   "cell_type": "markdown",
   "metadata": {},
   "source": [
    "***\n",
    "**Вывод:**\n",
    "    \n",
    "Количество событий на пользователя одинаково распределены в выборках? \n",
    "- Выборки обладают разными средними количества событий на пользователя. Распределение количества событий на пользователя имеет схожие черты, но не одинаково.\n",
    "\n",
    "Как число событий в выборках распределено по дням?\n",
    "- Число событий по дням в выборках заметно отличается, у группы А можно наблюдать всплеск активности в период с 13 декабря по 22, у группы В за этот же период активность практически не меняется, после 22 декабря в обеих выбрках наблюдается спад. После 30 декабря вообще не зафиксировано ни одного события ни для одной из групп.\n",
    "\n",
    "Как меняется конверсия в воронке в выборках на разных этапах?\n",
    "- В группе В конверсия упала на 9% в переходе к событию 'product_page' (56% против 65% в группе А), конверсия перехода со страницы товара в корзину выросла на 3% в группе В. Событие 'purchase' практически не изменилось, при этом 4% пользователей в обеих группах пропускают переход в корзину и совершают покупку сразу со страницы товара.\n",
    "\n",
    "Какие особенности данных нужно учесть, прежде чем приступать к A/B-тестированию?\n",
    "- нарушены условия технического задания:\n",
    "    - дата остановки: 2021-01-04 - фактически сбор данных о событиях осуществлялся до 2020-12-30 включительно, с учетом того, что согласно тесту лайфтайм нового пользователя должен быть 14 дней, набор новых пользователей должен был быть остановлен 2020-12-16\n",
    "    - аудитория: 15% новых пользователей из региона EU - по факту 6%\n",
    "    - ожидаемое количество участников теста: 6000 - по факту 2594\n",
    "- распределение участников в группах 75/25 - большой перекос\n",
    "- в выборках присутсвуют пользователи с лайфтаймом менее 14 дней\n",
    "\n",
    "В целом ожидаемый эффект не достигнут: за 14 дней с момента регистрации пользователи покажут улучшение каждой метрики не менее, чем на 10%:\n",
    "   - конверсии в просмотр карточек товаров — событие `product_page` - упала на 9%\n",
    "   - просмотры корзины — `product_cart` - выросла на 3%\n",
    "   - покупки — `purchase` - не изменилась"
   ]
  },
  {
   "cell_type": "markdown",
   "metadata": {},
   "source": [
    "## Оценка результатов A/B-тестирования"
   ]
  },
  {
   "cell_type": "markdown",
   "metadata": {},
   "source": [
    "Проведенный A/B-тест и полученные результаты нельзя назвать удовлетворительными. Допущено слишком много нарушений технического залания и принципов проведения A/B-тестирования."
   ]
  },
  {
   "cell_type": "code",
   "execution_count": 115,
   "metadata": {},
   "outputs": [
    {
     "name": "stdout",
     "output_type": "stream",
     "text": [
      "Пересечений пользователей в выборках: 0\n"
     ]
    }
   ],
   "source": [
    "wrong_users = np.intersect1d(recommender_system_test.query('group == \"A\"')['user_id'].unique(), \n",
    "                                recommender_system_test.query('group == \"B\"')['user_id'].unique())\n",
    "print(f'Пересечений пользователей в выборках: {len(wrong_users)}')"
   ]
  },
  {
   "cell_type": "markdown",
   "metadata": {},
   "source": [
    "<div class=\"alert alert-success\">\n",
    "\n",
    "**Комментарий ревьюера**\n",
    "\n",
    "**#ок**\n",
    "\n",
    "+\n",
    "\n",
    "</div>"
   ]
  },
  {
   "cell_type": "markdown",
   "metadata": {},
   "source": [
    "Есть 1 контрольная группа и одна экпериментальнная. Проверим, находят ли статистические критерии разницу между выборками:\n",
    "\n",
    "- проверку будем осуществлять через z-test\n",
    "- уровень alpha выберем 0.05\n",
    "\n",
    "Посчитаем число пользователей, совершивших событие в каждой из групп."
   ]
  },
  {
   "cell_type": "code",
   "execution_count": 116,
   "metadata": {
    "scrolled": false
   },
   "outputs": [
    {
     "data": {
      "text/html": [
       "<div>\n",
       "<style scoped>\n",
       "    .dataframe tbody tr th:only-of-type {\n",
       "        vertical-align: middle;\n",
       "    }\n",
       "\n",
       "    .dataframe tbody tr th {\n",
       "        vertical-align: top;\n",
       "    }\n",
       "\n",
       "    .dataframe thead th {\n",
       "        text-align: right;\n",
       "    }\n",
       "</style>\n",
       "<table border=\"1\" class=\"dataframe\">\n",
       "  <thead>\n",
       "    <tr style=\"text-align: right;\">\n",
       "      <th>group</th>\n",
       "      <th>A</th>\n",
       "      <th>B</th>\n",
       "    </tr>\n",
       "    <tr>\n",
       "      <th>event_name</th>\n",
       "      <th></th>\n",
       "      <th></th>\n",
       "    </tr>\n",
       "  </thead>\n",
       "  <tbody>\n",
       "    <tr>\n",
       "      <th>login</th>\n",
       "      <td>1939</td>\n",
       "      <td>655</td>\n",
       "    </tr>\n",
       "    <tr>\n",
       "      <th>product_page</th>\n",
       "      <td>1265</td>\n",
       "      <td>367</td>\n",
       "    </tr>\n",
       "    <tr>\n",
       "      <th>purchase</th>\n",
       "      <td>613</td>\n",
       "      <td>191</td>\n",
       "    </tr>\n",
       "    <tr>\n",
       "      <th>product_cart</th>\n",
       "      <td>589</td>\n",
       "      <td>184</td>\n",
       "    </tr>\n",
       "  </tbody>\n",
       "</table>\n",
       "</div>"
      ],
      "text/plain": [
       "group            A    B\n",
       "event_name             \n",
       "login         1939  655\n",
       "product_page  1265  367\n",
       "purchase       613  191\n",
       "product_cart   589  184"
      ]
     },
     "execution_count": 116,
     "metadata": {},
     "output_type": "execute_result"
    }
   ],
   "source": [
    "clear_events_groups = recommender_system_test.pivot_table(index = 'event_name', columns = 'group',\n",
    "values = 'user_id', aggfunc = 'nunique').sort_values(by='A', ascending=False)\n",
    "clear_events_groups"
   ]
  },
  {
   "cell_type": "markdown",
   "metadata": {},
   "source": [
    "<div class=\"alert alert-success\">\n",
    "\n",
    "**Комментарий ревьюера**\n",
    "\n",
    "**#ок**\n",
    "\n",
    "Вот видишь как мало на самом деле пользователей.\n",
    "</div>"
   ]
  },
  {
   "cell_type": "markdown",
   "metadata": {},
   "source": [
    "Посчитаем долю пользователей, совершивших событие."
   ]
  },
  {
   "cell_type": "code",
   "execution_count": 117,
   "metadata": {
    "scrolled": false
   },
   "outputs": [
    {
     "data": {
      "text/html": [
       "<div>\n",
       "<style scoped>\n",
       "    .dataframe tbody tr th:only-of-type {\n",
       "        vertical-align: middle;\n",
       "    }\n",
       "\n",
       "    .dataframe tbody tr th {\n",
       "        vertical-align: top;\n",
       "    }\n",
       "\n",
       "    .dataframe thead th {\n",
       "        text-align: right;\n",
       "    }\n",
       "</style>\n",
       "<table border=\"1\" class=\"dataframe\">\n",
       "  <thead>\n",
       "    <tr style=\"text-align: right;\">\n",
       "      <th>group</th>\n",
       "      <th>A</th>\n",
       "      <th>B</th>\n",
       "    </tr>\n",
       "    <tr>\n",
       "      <th>event_name</th>\n",
       "      <th></th>\n",
       "      <th></th>\n",
       "    </tr>\n",
       "  </thead>\n",
       "  <tbody>\n",
       "    <tr>\n",
       "      <th>login</th>\n",
       "      <td>100.00</td>\n",
       "      <td>100.00</td>\n",
       "    </tr>\n",
       "    <tr>\n",
       "      <th>product_page</th>\n",
       "      <td>65.24</td>\n",
       "      <td>56.03</td>\n",
       "    </tr>\n",
       "    <tr>\n",
       "      <th>purchase</th>\n",
       "      <td>31.61</td>\n",
       "      <td>29.16</td>\n",
       "    </tr>\n",
       "    <tr>\n",
       "      <th>product_cart</th>\n",
       "      <td>30.38</td>\n",
       "      <td>28.09</td>\n",
       "    </tr>\n",
       "  </tbody>\n",
       "</table>\n",
       "</div>"
      ],
      "text/plain": [
       "group              A       B\n",
       "event_name                  \n",
       "login         100.00  100.00\n",
       "product_page   65.24   56.03\n",
       "purchase       31.61   29.16\n",
       "product_cart   30.38   28.09"
      ]
     },
     "execution_count": 117,
     "metadata": {},
     "output_type": "execute_result"
    }
   ],
   "source": [
    "round(clear_events_groups/recommender_system_test.groupby('group')['user_id'].nunique()*100, 2)"
   ]
  },
  {
   "cell_type": "code",
   "execution_count": 118,
   "metadata": {},
   "outputs": [],
   "source": [
    "clear_events_groups = clear_events_groups.reset_index()"
   ]
  },
  {
   "cell_type": "markdown",
   "metadata": {},
   "source": [
    "Проверим статистическую разницу долей z-критерием"
   ]
  },
  {
   "cell_type": "code",
   "execution_count": 119,
   "metadata": {},
   "outputs": [],
   "source": [
    "def z_test(event, group_a, group_b, alpha):\n",
    "    \n",
    "    alpha = alpha\n",
    "\n",
    "    # пропорция успехов в первой группе:\n",
    "    p1 = clear_events_groups.query(\"event_name==@event\")[group_a]/recommender_system_test.groupby('group')['user_id'].nunique()[group_a]\n",
    "    \n",
    "    # пропорция успехов во второй группе:\n",
    "    p2 = clear_events_groups.query(\"event_name==@event\")[group_b]/recommender_system_test.groupby('group')['user_id'].nunique()[group_b]\n",
    "    \n",
    "    # пропорция успехов в комбинированном датасете:\n",
    "    p_combined = (clear_events_groups.query(\"event_name==@event\")[group_a] + clear_events_groups.query(\"event_name==@event\")[group_b]) / (recommender_system_test.groupby('group')['user_id'].nunique()[group_a] + recommender_system_test.groupby('group')['user_id'].nunique()[group_b])\n",
    "    \n",
    "    # разница пропорций в датасетах\n",
    "    difference = p1 - p2 \n",
    "\n",
    "    # считаем статистику в ст.отклонениях стандартного нормального распределения\n",
    "    z_value = difference/mth.sqrt(p_combined*(1-p_combined)*(1/recommender_system_test.groupby('group')['user_id'].nunique()[group_a]+1/recommender_system_test.groupby('group')['user_id'].nunique()[group_b]))\n",
    "\n",
    "    # задаем стандартное нормальное распределение (среднее 0, ст.отклонение 1)\n",
    "    distr = st.norm(0, 1) \n",
    "    \n",
    "    p_value = (1 - distr.cdf(abs(z_value))) * 2 \n",
    "    \n",
    "    print(f'{event} p-значение: {p_value}')\n",
    "\n",
    "    if p_value < alpha:\n",
    "        print('Отвергаем нулевую гипотезу: между долями есть значимая разница')\n",
    "    else:\n",
    "        print(\n",
    "            'Не получилось отвергнуть нулевую гипотезу, нет оснований считать доли разными') "
   ]
  },
  {
   "cell_type": "code",
   "execution_count": 120,
   "metadata": {
    "scrolled": true
   },
   "outputs": [
    {
     "name": "stdout",
     "output_type": "stream",
     "text": [
      "product_page p-значение: [2.45778881e-05]\n",
      "Отвергаем нулевую гипотезу: между долями есть значимая разница\n",
      "product_cart p-значение: [0.26899326]\n",
      "Не получилось отвергнуть нулевую гипотезу, нет оснований считать доли разными\n",
      "purchase p-значение: [0.24035836]\n",
      "Не получилось отвергнуть нулевую гипотезу, нет оснований считать доли разными\n"
     ]
    }
   ],
   "source": [
    "for event in ['product_page', 'product_cart', 'purchase']:\n",
    "    z_test(event, \"A\", \"B\", 0.05)"
   ]
  },
  {
   "cell_type": "markdown",
   "metadata": {},
   "source": [
    "<div class=\"alert alert-success\">\n",
    "\n",
    "**Комментарий ревьюера**\n",
    "\n",
    "**#ок**\n",
    "\n",
    "Гипотезы в целом проверены правильно. Здесь можно было учесть, что мы проверяем мног гипотез сразу и сделать поправку Бонферрони\n",
    "</div>"
   ]
  },
  {
   "cell_type": "markdown",
   "metadata": {},
   "source": [
    "Статистически значимую разницу удалось обнарежить только в событии `product_page`. В остальных событиях доли пользователей, совершивших это событие, не имеют значимой разницы."
   ]
  },
  {
   "cell_type": "markdown",
   "metadata": {},
   "source": [
    "***\n",
    "**Вывод**\n",
    "\n",
    "Была проверена статистическая разница долей в экспериментальной и контрольной выборках с помощью z-теста.\n",
    "На текущих данных экперимент следует остановить, новая рекомендательная система не дает желаемого результата. Однако, стоит отметить, что есть основания сомневаться в корректности полученных результатов из-за ошибок, допущенных в проведенении теста."
   ]
  },
  {
   "cell_type": "markdown",
   "metadata": {},
   "source": [
    "## Выводы"
   ]
  },
  {
   "cell_type": "markdown",
   "metadata": {},
   "source": [
    "Еще раз посмотрим на техническое задание и отметим, насколько ему соответсвуют данные теста `recommender_system_test`:\n",
    "\n",
    "- Группы: А (контрольная), B (новая платёжная воронка) - полное соответствие\n",
    "- Дата запуска: 2020-12-07 - полное соответствие\n",
    "- Дата остановки набора новых пользователей: 2020-12-21 - полное соответствие\n",
    "- Дата остановки: 2021-01-04 - фактически остановлен 2020-12-30\n",
    "- Аудитория: 15% новых пользователей из региона EU - фактически 6%\n",
    "\n",
    "- Ожидаемое количество участников теста: 6000 - фактически 2594\n",
    "- Распределение участников в группах 75/25\n",
    "- В выборках присутсвуют пользователи с лайфтаймом менее 14 дней\n",
    "\n",
    "- Ожидаемый эффект не достигнут: за 14 дней с момента регистрации в системе пользователи не показали улучшение каждой метрики не менее, чем на 10%:\n",
    "    - конверсии в просмотр карточек товаров — событие product_page - падение на 12%\n",
    "    - просмотры корзины — product_cart - прирост 4%\n",
    "    - покупки — purchase - падение на 1%\n",
    "\n",
    "В целом результаты проведения A/B-теста не следует принимать к дальнейшему анализу и делать какие-либо выводы, так как:\n",
    "\n",
    "Время проведения теста было выбрано некорректно:\n",
    "- совпадало с новогодними празниками и предшествующим покупательским ажиотажем\n",
    "- пересекалось с маркетинговой активностью\n",
    "\n",
    "Выборки были сформированы с нарушениями:\n",
    "- несоблюден баланс\n",
    "- несоблюдены требования тз в части количества участников\n",
    "- фактически наблюдение остановлено раньше, чем планировалось\n",
    "\n",
    "Рекомендации: провести A/B-тест заново, на результаты этого теста опираться нельзя при принятии решений о судьбе новой рекомендательной системы.\n",
    "Если по каким-то причинам проведение нового теста невозможно, устранить все обнаруженные нарушения в текущих данных теста и провести оценку результатов."
   ]
  },
  {
   "cell_type": "code",
   "execution_count": null,
   "metadata": {},
   "outputs": [],
   "source": []
  }
 ],
 "metadata": {
  "ExecuteTimeLog": [
   {
    "duration": 789,
    "start_time": "2022-05-26T10:21:42.672Z"
   },
   {
    "duration": 107,
    "start_time": "2022-05-26T10:25:47.120Z"
   },
   {
    "duration": 41,
    "start_time": "2022-05-26T10:28:47.676Z"
   },
   {
    "duration": 1126,
    "start_time": "2022-05-26T10:29:28.497Z"
   },
   {
    "duration": 59,
    "start_time": "2022-05-26T14:23:25.026Z"
   },
   {
    "duration": 907,
    "start_time": "2022-05-26T14:23:31.131Z"
   },
   {
    "duration": 2374,
    "start_time": "2022-05-26T14:23:32.040Z"
   },
   {
    "duration": 11,
    "start_time": "2022-05-26T14:23:56.992Z"
   },
   {
    "duration": 366,
    "start_time": "2022-05-26T14:25:19.076Z"
   },
   {
    "duration": 90,
    "start_time": "2022-05-26T14:25:52.669Z"
   },
   {
    "duration": 35,
    "start_time": "2022-05-26T14:28:27.492Z"
   },
   {
    "duration": 12,
    "start_time": "2022-05-26T14:29:18.212Z"
   },
   {
    "duration": 12,
    "start_time": "2022-05-26T14:30:00.488Z"
   },
   {
    "duration": 5,
    "start_time": "2022-05-26T14:32:40.615Z"
   },
   {
    "duration": 46,
    "start_time": "2022-05-26T14:33:05.320Z"
   },
   {
    "duration": 10,
    "start_time": "2022-05-26T14:34:55.429Z"
   },
   {
    "duration": 23,
    "start_time": "2022-05-26T14:35:39.077Z"
   },
   {
    "duration": 57,
    "start_time": "2022-05-26T14:36:04.979Z"
   },
   {
    "duration": 14,
    "start_time": "2022-05-26T14:38:22.199Z"
   },
   {
    "duration": 14,
    "start_time": "2022-05-26T14:38:42.198Z"
   },
   {
    "duration": 20,
    "start_time": "2022-05-26T14:39:12.314Z"
   },
   {
    "duration": 20,
    "start_time": "2022-05-26T14:40:24.625Z"
   },
   {
    "duration": 14,
    "start_time": "2022-05-26T14:43:39.309Z"
   },
   {
    "duration": 15,
    "start_time": "2022-05-26T14:43:55.291Z"
   },
   {
    "duration": 404,
    "start_time": "2022-05-26T14:44:37.158Z"
   },
   {
    "duration": 155,
    "start_time": "2022-05-26T14:48:07.357Z"
   },
   {
    "duration": 7,
    "start_time": "2022-05-26T14:49:25.145Z"
   },
   {
    "duration": 61,
    "start_time": "2022-05-26T14:49:40.992Z"
   },
   {
    "duration": 44,
    "start_time": "2022-05-26T14:49:46.874Z"
   },
   {
    "duration": 35,
    "start_time": "2022-05-26T14:50:46.443Z"
   },
   {
    "duration": 47,
    "start_time": "2022-05-26T14:51:54.038Z"
   },
   {
    "duration": 68,
    "start_time": "2022-05-26T14:52:55.849Z"
   },
   {
    "duration": 25,
    "start_time": "2022-05-26T15:06:12.615Z"
   },
   {
    "duration": 8,
    "start_time": "2022-05-26T15:35:36.210Z"
   },
   {
    "duration": 13,
    "start_time": "2022-05-26T15:35:42.081Z"
   },
   {
    "duration": 8,
    "start_time": "2022-05-26T15:36:35.907Z"
   },
   {
    "duration": 45,
    "start_time": "2022-05-26T15:42:13.373Z"
   },
   {
    "duration": 9,
    "start_time": "2022-05-26T15:42:37.088Z"
   },
   {
    "duration": 47,
    "start_time": "2022-05-26T15:43:00.622Z"
   },
   {
    "duration": 15,
    "start_time": "2022-05-26T15:44:28.290Z"
   },
   {
    "duration": 17,
    "start_time": "2022-05-26T15:48:03.931Z"
   },
   {
    "duration": 25,
    "start_time": "2022-05-26T15:51:50.748Z"
   },
   {
    "duration": 35,
    "start_time": "2022-05-26T15:52:15.809Z"
   },
   {
    "duration": 16,
    "start_time": "2022-05-26T15:52:55.694Z"
   },
   {
    "duration": 22,
    "start_time": "2022-05-26T15:53:20.213Z"
   },
   {
    "duration": 23,
    "start_time": "2022-05-26T15:54:19.559Z"
   },
   {
    "duration": 6,
    "start_time": "2022-05-26T15:54:57.075Z"
   },
   {
    "duration": 8,
    "start_time": "2022-05-26T15:57:00.452Z"
   },
   {
    "duration": 33,
    "start_time": "2022-05-26T15:59:38.175Z"
   },
   {
    "duration": 441,
    "start_time": "2022-05-26T16:00:01.201Z"
   },
   {
    "duration": 728,
    "start_time": "2022-05-26T16:00:01.644Z"
   },
   {
    "duration": 27,
    "start_time": "2022-05-26T16:00:02.374Z"
   },
   {
    "duration": 29,
    "start_time": "2022-05-26T16:00:02.403Z"
   },
   {
    "duration": 68,
    "start_time": "2022-05-26T16:00:02.434Z"
   },
   {
    "duration": 12,
    "start_time": "2022-05-26T16:00:02.504Z"
   },
   {
    "duration": 403,
    "start_time": "2022-05-26T16:00:02.518Z"
   },
   {
    "duration": 110,
    "start_time": "2022-05-26T16:00:02.923Z"
   },
   {
    "duration": 85,
    "start_time": "2022-05-26T16:00:03.035Z"
   },
   {
    "duration": 25,
    "start_time": "2022-05-26T16:00:03.123Z"
   },
   {
    "duration": 7,
    "start_time": "2022-05-26T16:00:03.151Z"
   },
   {
    "duration": 55,
    "start_time": "2022-05-26T16:00:03.159Z"
   },
   {
    "duration": 6,
    "start_time": "2022-05-26T16:00:03.216Z"
   },
   {
    "duration": 11,
    "start_time": "2022-05-26T16:07:52.602Z"
   },
   {
    "duration": 9,
    "start_time": "2022-05-26T16:08:01.163Z"
   },
   {
    "duration": 9,
    "start_time": "2022-05-26T16:16:38.950Z"
   },
   {
    "duration": 80,
    "start_time": "2022-05-26T16:17:16.673Z"
   },
   {
    "duration": 17,
    "start_time": "2022-05-26T16:17:29.422Z"
   },
   {
    "duration": 7,
    "start_time": "2022-05-26T16:17:38.757Z"
   },
   {
    "duration": 14,
    "start_time": "2022-05-26T16:17:58.287Z"
   },
   {
    "duration": 18,
    "start_time": "2022-05-26T16:18:25.621Z"
   },
   {
    "duration": 15,
    "start_time": "2022-05-26T16:18:40.051Z"
   },
   {
    "duration": 13,
    "start_time": "2022-05-26T16:18:48.591Z"
   },
   {
    "duration": 27,
    "start_time": "2022-05-26T16:21:43.250Z"
   },
   {
    "duration": 20,
    "start_time": "2022-05-26T16:23:21.325Z"
   },
   {
    "duration": 18,
    "start_time": "2022-05-26T16:23:45.220Z"
   },
   {
    "duration": 8,
    "start_time": "2022-05-26T16:23:54.154Z"
   },
   {
    "duration": 4,
    "start_time": "2022-05-27T08:03:31.805Z"
   },
   {
    "duration": 693,
    "start_time": "2022-05-27T08:03:31.812Z"
   },
   {
    "duration": 27,
    "start_time": "2022-05-27T08:03:32.507Z"
   },
   {
    "duration": 6,
    "start_time": "2022-05-27T08:03:32.536Z"
   },
   {
    "duration": 89,
    "start_time": "2022-05-27T08:03:32.544Z"
   },
   {
    "duration": 12,
    "start_time": "2022-05-27T08:03:32.634Z"
   },
   {
    "duration": 412,
    "start_time": "2022-05-27T08:03:32.648Z"
   },
   {
    "duration": 122,
    "start_time": "2022-05-27T08:03:33.062Z"
   },
   {
    "duration": 84,
    "start_time": "2022-05-27T08:03:33.186Z"
   },
   {
    "duration": 41,
    "start_time": "2022-05-27T08:03:33.284Z"
   },
   {
    "duration": 11,
    "start_time": "2022-05-27T08:03:33.327Z"
   },
   {
    "duration": 64,
    "start_time": "2022-05-27T08:03:33.340Z"
   },
   {
    "duration": 9,
    "start_time": "2022-05-27T08:03:33.406Z"
   },
   {
    "duration": 20,
    "start_time": "2022-05-27T08:03:33.417Z"
   },
   {
    "duration": 10,
    "start_time": "2022-05-27T08:03:33.439Z"
   },
   {
    "duration": 26,
    "start_time": "2022-05-27T08:07:25.618Z"
   },
   {
    "duration": 23,
    "start_time": "2022-05-27T08:07:33.127Z"
   },
   {
    "duration": 31,
    "start_time": "2022-05-27T08:09:15.830Z"
   },
   {
    "duration": 10,
    "start_time": "2022-05-27T08:09:26.444Z"
   },
   {
    "duration": 13,
    "start_time": "2022-05-27T08:11:04.976Z"
   },
   {
    "duration": 17,
    "start_time": "2022-05-27T08:14:42.834Z"
   },
   {
    "duration": 9,
    "start_time": "2022-05-27T08:15:27.355Z"
   },
   {
    "duration": 11,
    "start_time": "2022-05-27T08:16:24.715Z"
   },
   {
    "duration": 9,
    "start_time": "2022-05-27T08:16:46.809Z"
   },
   {
    "duration": 17,
    "start_time": "2022-05-27T08:17:07.603Z"
   },
   {
    "duration": 15,
    "start_time": "2022-05-27T08:36:29.847Z"
   },
   {
    "duration": 10,
    "start_time": "2022-05-27T08:36:33.951Z"
   },
   {
    "duration": 22,
    "start_time": "2022-05-27T08:39:25.300Z"
   },
   {
    "duration": 8,
    "start_time": "2022-05-27T08:39:28.728Z"
   },
   {
    "duration": 12,
    "start_time": "2022-05-27T08:41:14.656Z"
   },
   {
    "duration": 33,
    "start_time": "2022-05-27T08:43:02.773Z"
   },
   {
    "duration": 50,
    "start_time": "2022-05-27T08:43:15.006Z"
   },
   {
    "duration": 15,
    "start_time": "2022-05-27T08:43:21.047Z"
   },
   {
    "duration": 18,
    "start_time": "2022-05-27T08:43:40.610Z"
   },
   {
    "duration": 21,
    "start_time": "2022-05-27T08:43:54.046Z"
   },
   {
    "duration": 16,
    "start_time": "2022-05-27T08:44:36.926Z"
   },
   {
    "duration": 20,
    "start_time": "2022-05-27T08:45:03.773Z"
   },
   {
    "duration": 7,
    "start_time": "2022-05-27T08:46:49.929Z"
   },
   {
    "duration": 8,
    "start_time": "2022-05-27T08:47:46.903Z"
   },
   {
    "duration": 13,
    "start_time": "2022-05-27T08:47:58.055Z"
   },
   {
    "duration": 18,
    "start_time": "2022-05-27T09:33:56.942Z"
   },
   {
    "duration": 3,
    "start_time": "2022-05-27T09:34:26.066Z"
   },
   {
    "duration": 577,
    "start_time": "2022-05-27T09:34:26.071Z"
   },
   {
    "duration": 19,
    "start_time": "2022-05-27T09:34:26.650Z"
   },
   {
    "duration": 7,
    "start_time": "2022-05-27T09:34:26.670Z"
   },
   {
    "duration": 57,
    "start_time": "2022-05-27T09:34:26.684Z"
   },
   {
    "duration": 13,
    "start_time": "2022-05-27T09:34:26.743Z"
   },
   {
    "duration": 384,
    "start_time": "2022-05-27T09:34:26.758Z"
   },
   {
    "duration": 113,
    "start_time": "2022-05-27T09:34:27.144Z"
   },
   {
    "duration": 85,
    "start_time": "2022-05-27T09:34:27.259Z"
   },
   {
    "duration": 52,
    "start_time": "2022-05-27T09:34:27.346Z"
   },
   {
    "duration": 24,
    "start_time": "2022-05-27T09:34:27.401Z"
   },
   {
    "duration": 11,
    "start_time": "2022-05-27T09:34:27.427Z"
   },
   {
    "duration": 160,
    "start_time": "2022-05-27T09:34:27.440Z"
   },
   {
    "duration": 0,
    "start_time": "2022-05-27T09:34:27.603Z"
   },
   {
    "duration": 0,
    "start_time": "2022-05-27T09:34:27.605Z"
   },
   {
    "duration": 0,
    "start_time": "2022-05-27T09:34:27.606Z"
   },
   {
    "duration": 1,
    "start_time": "2022-05-27T09:34:27.607Z"
   },
   {
    "duration": 36,
    "start_time": "2022-05-27T09:35:15.949Z"
   },
   {
    "duration": 18,
    "start_time": "2022-05-27T09:35:18.869Z"
   },
   {
    "duration": 23,
    "start_time": "2022-05-27T09:35:47.430Z"
   },
   {
    "duration": 21,
    "start_time": "2022-05-27T09:35:49.126Z"
   },
   {
    "duration": 9,
    "start_time": "2022-05-27T09:35:53.606Z"
   },
   {
    "duration": 20,
    "start_time": "2022-05-27T09:37:54.307Z"
   },
   {
    "duration": 70,
    "start_time": "2022-05-27T09:38:10.002Z"
   },
   {
    "duration": 16,
    "start_time": "2022-05-27T09:38:13.177Z"
   },
   {
    "duration": 22,
    "start_time": "2022-05-27T09:38:23.969Z"
   },
   {
    "duration": 8,
    "start_time": "2022-05-27T09:39:54.095Z"
   },
   {
    "duration": 144,
    "start_time": "2022-05-27T09:40:14.465Z"
   },
   {
    "duration": 8,
    "start_time": "2022-05-27T09:41:43.459Z"
   },
   {
    "duration": 124,
    "start_time": "2022-05-27T09:42:02.255Z"
   },
   {
    "duration": 11,
    "start_time": "2022-05-27T09:42:10.476Z"
   },
   {
    "duration": 13,
    "start_time": "2022-05-27T09:42:46.091Z"
   },
   {
    "duration": 29,
    "start_time": "2022-05-27T09:50:26.255Z"
   },
   {
    "duration": 33,
    "start_time": "2022-05-27T09:50:41.818Z"
   },
   {
    "duration": 33,
    "start_time": "2022-05-27T09:50:56.672Z"
   },
   {
    "duration": 28,
    "start_time": "2022-05-27T09:51:28.903Z"
   },
   {
    "duration": 27,
    "start_time": "2022-05-27T09:52:19.261Z"
   },
   {
    "duration": 38,
    "start_time": "2022-05-27T09:52:36.954Z"
   },
   {
    "duration": 109,
    "start_time": "2022-05-27T09:52:52.314Z"
   },
   {
    "duration": 43,
    "start_time": "2022-05-27T09:53:17.415Z"
   },
   {
    "duration": 33,
    "start_time": "2022-05-27T09:53:28.961Z"
   },
   {
    "duration": 39,
    "start_time": "2022-05-27T09:53:44.903Z"
   },
   {
    "duration": 3,
    "start_time": "2022-05-27T09:53:52.757Z"
   },
   {
    "duration": 30,
    "start_time": "2022-05-27T09:54:02.219Z"
   },
   {
    "duration": 20,
    "start_time": "2022-05-27T09:54:37.727Z"
   },
   {
    "duration": 21,
    "start_time": "2022-05-27T09:55:18.148Z"
   },
   {
    "duration": 25,
    "start_time": "2022-05-27T09:56:13.606Z"
   },
   {
    "duration": 23,
    "start_time": "2022-05-27T09:56:29.410Z"
   },
   {
    "duration": 24,
    "start_time": "2022-05-27T09:57:07.822Z"
   },
   {
    "duration": 3,
    "start_time": "2022-05-27T09:57:13.727Z"
   },
   {
    "duration": 617,
    "start_time": "2022-05-27T09:57:13.735Z"
   },
   {
    "duration": 17,
    "start_time": "2022-05-27T09:57:14.354Z"
   },
   {
    "duration": 61,
    "start_time": "2022-05-27T09:57:14.373Z"
   },
   {
    "duration": 87,
    "start_time": "2022-05-27T09:57:14.437Z"
   },
   {
    "duration": 11,
    "start_time": "2022-05-27T09:57:14.526Z"
   },
   {
    "duration": 357,
    "start_time": "2022-05-27T09:57:14.538Z"
   },
   {
    "duration": 99,
    "start_time": "2022-05-27T09:57:14.896Z"
   },
   {
    "duration": 63,
    "start_time": "2022-05-27T09:57:14.997Z"
   },
   {
    "duration": 38,
    "start_time": "2022-05-27T09:57:15.061Z"
   },
   {
    "duration": 15,
    "start_time": "2022-05-27T09:57:15.101Z"
   },
   {
    "duration": 30,
    "start_time": "2022-05-27T09:57:15.117Z"
   },
   {
    "duration": 40,
    "start_time": "2022-05-27T09:57:15.149Z"
   },
   {
    "duration": 16,
    "start_time": "2022-05-27T09:57:15.190Z"
   },
   {
    "duration": 36,
    "start_time": "2022-05-27T09:57:15.208Z"
   },
   {
    "duration": 135,
    "start_time": "2022-05-27T09:57:15.246Z"
   },
   {
    "duration": 12,
    "start_time": "2022-05-27T09:57:15.384Z"
   },
   {
    "duration": 34,
    "start_time": "2022-05-27T10:01:26.971Z"
   },
   {
    "duration": 33,
    "start_time": "2022-05-27T10:01:42.707Z"
   },
   {
    "duration": 35,
    "start_time": "2022-05-27T10:02:03.918Z"
   },
   {
    "duration": 8,
    "start_time": "2022-05-27T10:45:30.423Z"
   },
   {
    "duration": 10,
    "start_time": "2022-05-27T10:46:04.168Z"
   },
   {
    "duration": 10,
    "start_time": "2022-05-27T10:51:39.022Z"
   },
   {
    "duration": 3925,
    "start_time": "2022-05-27T10:52:18.623Z"
   },
   {
    "duration": 209,
    "start_time": "2022-05-27T10:52:30.114Z"
   },
   {
    "duration": 157,
    "start_time": "2022-05-27T10:52:59.206Z"
   },
   {
    "duration": 22,
    "start_time": "2022-05-27T10:55:22.648Z"
   },
   {
    "duration": 20,
    "start_time": "2022-05-27T10:55:46.111Z"
   },
   {
    "duration": 432,
    "start_time": "2022-05-27T10:55:57.683Z"
   },
   {
    "duration": 128,
    "start_time": "2022-05-27T10:57:00.972Z"
   },
   {
    "duration": 129,
    "start_time": "2022-05-27T10:57:22.166Z"
   },
   {
    "duration": 21,
    "start_time": "2022-05-27T10:57:26.382Z"
   },
   {
    "duration": 20,
    "start_time": "2022-05-27T10:58:02.105Z"
   },
   {
    "duration": 778,
    "start_time": "2022-05-27T10:58:30.557Z"
   },
   {
    "duration": 317,
    "start_time": "2022-05-27T10:58:58.421Z"
   },
   {
    "duration": 414,
    "start_time": "2022-05-27T11:02:10.554Z"
   },
   {
    "duration": 21,
    "start_time": "2022-05-27T11:03:26.566Z"
   },
   {
    "duration": 15,
    "start_time": "2022-05-27T11:03:41.229Z"
   },
   {
    "duration": 16,
    "start_time": "2022-05-27T11:04:14.224Z"
   },
   {
    "duration": 18,
    "start_time": "2022-05-27T11:04:20.444Z"
   },
   {
    "duration": 19,
    "start_time": "2022-05-27T11:04:30.049Z"
   },
   {
    "duration": 842,
    "start_time": "2022-05-27T11:04:48.814Z"
   },
   {
    "duration": 1033,
    "start_time": "2022-05-27T11:05:12.346Z"
   },
   {
    "duration": 1566,
    "start_time": "2022-05-27T11:05:46.969Z"
   },
   {
    "duration": 1808,
    "start_time": "2022-05-27T11:06:15.651Z"
   },
   {
    "duration": 1678,
    "start_time": "2022-05-27T11:11:24.031Z"
   },
   {
    "duration": 7631,
    "start_time": "2022-05-27T11:12:13.647Z"
   },
   {
    "duration": 7571,
    "start_time": "2022-05-27T11:12:54.349Z"
   },
   {
    "duration": 7535,
    "start_time": "2022-05-27T11:13:07.617Z"
   },
   {
    "duration": 2843,
    "start_time": "2022-05-27T11:13:30.945Z"
   },
   {
    "duration": 2616,
    "start_time": "2022-05-27T11:14:09.624Z"
   },
   {
    "duration": 2664,
    "start_time": "2022-05-27T11:14:46.513Z"
   },
   {
    "duration": 2676,
    "start_time": "2022-05-27T11:15:05.326Z"
   },
   {
    "duration": 798,
    "start_time": "2022-05-27T11:16:06.264Z"
   },
   {
    "duration": 2770,
    "start_time": "2022-05-27T11:18:26.980Z"
   },
   {
    "duration": 3636,
    "start_time": "2022-05-27T11:19:33.509Z"
   },
   {
    "duration": 3795,
    "start_time": "2022-05-27T11:20:26.489Z"
   },
   {
    "duration": 5,
    "start_time": "2022-05-27T11:21:03.757Z"
   },
   {
    "duration": 5,
    "start_time": "2022-05-27T11:21:10.592Z"
   },
   {
    "duration": 5,
    "start_time": "2022-05-27T11:21:16.311Z"
   },
   {
    "duration": 26531,
    "start_time": "2022-05-27T11:22:25.603Z"
   },
   {
    "duration": 5,
    "start_time": "2022-05-27T11:23:12.311Z"
   },
   {
    "duration": 10,
    "start_time": "2022-05-27T11:23:29.773Z"
   },
   {
    "duration": 14,
    "start_time": "2022-05-27T11:23:33.782Z"
   },
   {
    "duration": 29,
    "start_time": "2022-05-27T11:24:00.101Z"
   },
   {
    "duration": 7,
    "start_time": "2022-05-27T11:24:14.029Z"
   },
   {
    "duration": 5,
    "start_time": "2022-05-27T11:24:22.644Z"
   },
   {
    "duration": 9,
    "start_time": "2022-05-27T11:24:54.581Z"
   },
   {
    "duration": 20,
    "start_time": "2022-05-27T11:25:01.634Z"
   },
   {
    "duration": 1234,
    "start_time": "2022-05-27T11:28:02.165Z"
   },
   {
    "duration": 584,
    "start_time": "2022-05-27T11:28:03.401Z"
   },
   {
    "duration": 21,
    "start_time": "2022-05-27T11:28:03.986Z"
   },
   {
    "duration": 41,
    "start_time": "2022-05-27T11:28:04.009Z"
   },
   {
    "duration": 85,
    "start_time": "2022-05-27T11:28:04.052Z"
   },
   {
    "duration": 21,
    "start_time": "2022-05-27T11:28:04.138Z"
   },
   {
    "duration": 396,
    "start_time": "2022-05-27T11:28:04.161Z"
   },
   {
    "duration": 102,
    "start_time": "2022-05-27T11:28:04.559Z"
   },
   {
    "duration": 81,
    "start_time": "2022-05-27T11:28:04.663Z"
   },
   {
    "duration": 22,
    "start_time": "2022-05-27T11:28:04.747Z"
   },
   {
    "duration": 26,
    "start_time": "2022-05-27T11:28:04.771Z"
   },
   {
    "duration": 40,
    "start_time": "2022-05-27T11:28:04.799Z"
   },
   {
    "duration": 193,
    "start_time": "2022-05-27T11:28:04.841Z"
   },
   {
    "duration": 23,
    "start_time": "2022-05-27T11:28:05.036Z"
   },
   {
    "duration": 42,
    "start_time": "2022-05-27T11:28:05.061Z"
   },
   {
    "duration": 16,
    "start_time": "2022-05-27T11:28:05.105Z"
   },
   {
    "duration": 38,
    "start_time": "2022-05-27T11:28:05.122Z"
   },
   {
    "duration": 34,
    "start_time": "2022-05-27T11:28:05.161Z"
   },
   {
    "duration": 60578,
    "start_time": "2022-05-27T11:28:05.197Z"
   },
   {
    "duration": 0,
    "start_time": "2022-05-27T11:29:05.777Z"
   },
   {
    "duration": 9,
    "start_time": "2022-05-27T11:29:52.839Z"
   },
   {
    "duration": 10,
    "start_time": "2022-05-27T11:29:59.575Z"
   },
   {
    "duration": 10,
    "start_time": "2022-05-27T11:37:04.070Z"
   },
   {
    "duration": 9,
    "start_time": "2022-05-27T11:38:45.603Z"
   },
   {
    "duration": 3,
    "start_time": "2022-05-27T11:38:59.551Z"
   },
   {
    "duration": 676,
    "start_time": "2022-05-27T11:38:59.556Z"
   },
   {
    "duration": 20,
    "start_time": "2022-05-27T11:39:00.234Z"
   },
   {
    "duration": 38,
    "start_time": "2022-05-27T11:39:00.256Z"
   },
   {
    "duration": 88,
    "start_time": "2022-05-27T11:39:00.297Z"
   },
   {
    "duration": 16,
    "start_time": "2022-05-27T11:39:00.387Z"
   },
   {
    "duration": 418,
    "start_time": "2022-05-27T11:39:00.405Z"
   },
   {
    "duration": 111,
    "start_time": "2022-05-27T11:39:00.826Z"
   },
   {
    "duration": 108,
    "start_time": "2022-05-27T11:39:00.939Z"
   },
   {
    "duration": 36,
    "start_time": "2022-05-27T11:39:01.049Z"
   },
   {
    "duration": 66,
    "start_time": "2022-05-27T11:39:01.087Z"
   },
   {
    "duration": 40,
    "start_time": "2022-05-27T11:39:01.154Z"
   },
   {
    "duration": 223,
    "start_time": "2022-05-27T11:39:01.196Z"
   },
   {
    "duration": 9,
    "start_time": "2022-05-27T11:39:01.422Z"
   },
   {
    "duration": 56,
    "start_time": "2022-05-27T11:39:01.433Z"
   },
   {
    "duration": 78,
    "start_time": "2022-05-27T11:39:01.491Z"
   },
   {
    "duration": 44,
    "start_time": "2022-05-27T11:39:01.571Z"
   },
   {
    "duration": 73,
    "start_time": "2022-05-27T11:39:01.617Z"
   },
   {
    "duration": 107,
    "start_time": "2022-05-27T11:39:01.692Z"
   },
   {
    "duration": 9155,
    "start_time": "2022-05-27T11:39:01.801Z"
   },
   {
    "duration": 0,
    "start_time": "2022-05-27T11:39:10.958Z"
   },
   {
    "duration": 3188,
    "start_time": "2022-05-27T11:43:39.457Z"
   },
   {
    "duration": 12,
    "start_time": "2022-05-27T11:44:02.796Z"
   },
   {
    "duration": 3245,
    "start_time": "2022-05-27T11:45:37.600Z"
   },
   {
    "duration": 2332,
    "start_time": "2022-05-27T11:46:59.378Z"
   },
   {
    "duration": 2331,
    "start_time": "2022-05-27T11:47:36.949Z"
   },
   {
    "duration": 14,
    "start_time": "2022-05-27T11:48:43.491Z"
   },
   {
    "duration": 9,
    "start_time": "2022-05-27T11:49:54.923Z"
   },
   {
    "duration": 12,
    "start_time": "2022-05-27T11:50:45.264Z"
   },
   {
    "duration": 14,
    "start_time": "2022-05-27T11:51:07.382Z"
   },
   {
    "duration": 8,
    "start_time": "2022-05-27T11:51:26.266Z"
   },
   {
    "duration": 13,
    "start_time": "2022-05-27T11:52:50.402Z"
   },
   {
    "duration": 7,
    "start_time": "2022-05-27T11:52:58.119Z"
   },
   {
    "duration": 5,
    "start_time": "2022-05-27T11:53:17.155Z"
   },
   {
    "duration": 7,
    "start_time": "2022-05-27T11:53:33.835Z"
   },
   {
    "duration": 16,
    "start_time": "2022-05-27T11:53:48.879Z"
   },
   {
    "duration": 66,
    "start_time": "2022-05-27T11:54:45.671Z"
   },
   {
    "duration": 15,
    "start_time": "2022-05-27T11:55:42.501Z"
   },
   {
    "duration": 22,
    "start_time": "2022-05-27T11:55:47.884Z"
   },
   {
    "duration": 37,
    "start_time": "2022-05-27T11:56:07.490Z"
   },
   {
    "duration": 33,
    "start_time": "2022-05-27T11:56:12.301Z"
   },
   {
    "duration": 14,
    "start_time": "2022-05-27T11:56:23.229Z"
   },
   {
    "duration": 16,
    "start_time": "2022-05-27T11:56:35.526Z"
   },
   {
    "duration": 15,
    "start_time": "2022-05-27T11:58:45.773Z"
   },
   {
    "duration": 12,
    "start_time": "2022-05-27T11:59:37.726Z"
   },
   {
    "duration": 8,
    "start_time": "2022-05-27T11:59:44.140Z"
   },
   {
    "duration": 77,
    "start_time": "2022-05-27T12:03:11.184Z"
   },
   {
    "duration": 89,
    "start_time": "2022-05-27T12:03:26.374Z"
   },
   {
    "duration": 208,
    "start_time": "2022-05-27T12:03:34.570Z"
   },
   {
    "duration": 1127,
    "start_time": "2022-05-27T12:10:32.493Z"
   },
   {
    "duration": 1958,
    "start_time": "2022-05-27T12:11:02.072Z"
   },
   {
    "duration": 1578,
    "start_time": "2022-05-27T12:12:05.807Z"
   },
   {
    "duration": 1809,
    "start_time": "2022-05-27T12:12:13.167Z"
   },
   {
    "duration": 1601,
    "start_time": "2022-05-27T12:12:22.079Z"
   },
   {
    "duration": 1675,
    "start_time": "2022-05-27T12:12:34.632Z"
   },
   {
    "duration": 1979,
    "start_time": "2022-05-27T12:12:50.452Z"
   },
   {
    "duration": 1944,
    "start_time": "2022-05-27T12:13:43.179Z"
   },
   {
    "duration": 5,
    "start_time": "2022-05-27T12:15:24.417Z"
   },
   {
    "duration": 10,
    "start_time": "2022-05-27T12:15:34.607Z"
   },
   {
    "duration": 7,
    "start_time": "2022-05-27T12:15:38.875Z"
   },
   {
    "duration": 1015,
    "start_time": "2022-05-27T12:16:13.599Z"
   },
   {
    "duration": 13,
    "start_time": "2022-05-27T12:16:30.479Z"
   },
   {
    "duration": 1934,
    "start_time": "2022-05-27T12:16:38.029Z"
   },
   {
    "duration": 7,
    "start_time": "2022-05-27T12:17:11.838Z"
   },
   {
    "duration": 8,
    "start_time": "2022-05-27T12:17:17.717Z"
   },
   {
    "duration": 1699,
    "start_time": "2022-05-27T12:17:32.509Z"
   },
   {
    "duration": 17,
    "start_time": "2022-05-27T12:22:52.951Z"
   },
   {
    "duration": 2094,
    "start_time": "2022-05-27T12:22:59.040Z"
   },
   {
    "duration": 392,
    "start_time": "2022-05-27T12:39:24.992Z"
   },
   {
    "duration": 26,
    "start_time": "2022-05-27T12:41:55.256Z"
   },
   {
    "duration": 27,
    "start_time": "2022-05-27T12:44:35.047Z"
   },
   {
    "duration": 27,
    "start_time": "2022-05-27T12:45:21.413Z"
   },
   {
    "duration": 20,
    "start_time": "2022-05-27T12:45:40.157Z"
   },
   {
    "duration": 18,
    "start_time": "2022-05-27T12:45:52.190Z"
   },
   {
    "duration": 1990,
    "start_time": "2022-05-27T13:05:21.651Z"
   },
   {
    "duration": 2186,
    "start_time": "2022-05-27T13:05:39.568Z"
   },
   {
    "duration": 2165,
    "start_time": "2022-05-27T13:06:43.286Z"
   },
   {
    "duration": 2383,
    "start_time": "2022-05-27T13:07:31.152Z"
   },
   {
    "duration": 501,
    "start_time": "2022-05-27T13:07:47.246Z"
   },
   {
    "duration": 2214,
    "start_time": "2022-05-27T13:07:59.546Z"
   },
   {
    "duration": 50,
    "start_time": "2022-05-27T13:12:00.366Z"
   },
   {
    "duration": 29,
    "start_time": "2022-05-27T13:13:07.191Z"
   },
   {
    "duration": 27,
    "start_time": "2022-05-27T13:14:11.369Z"
   },
   {
    "duration": 31,
    "start_time": "2022-05-27T13:14:56.847Z"
   },
   {
    "duration": 36,
    "start_time": "2022-05-27T13:15:17.980Z"
   },
   {
    "duration": 458,
    "start_time": "2022-05-27T13:27:06.923Z"
   },
   {
    "duration": 245,
    "start_time": "2022-05-27T13:30:47.151Z"
   },
   {
    "duration": 17,
    "start_time": "2022-05-27T13:41:51.902Z"
   },
   {
    "duration": 15,
    "start_time": "2022-05-27T13:42:01.647Z"
   },
   {
    "duration": 15,
    "start_time": "2022-05-27T13:42:12.506Z"
   },
   {
    "duration": 14,
    "start_time": "2022-05-27T13:42:17.643Z"
   },
   {
    "duration": 24,
    "start_time": "2022-05-27T13:43:54.009Z"
   },
   {
    "duration": 10,
    "start_time": "2022-05-27T13:44:01.262Z"
   },
   {
    "duration": 385,
    "start_time": "2022-05-27T13:44:45.628Z"
   },
   {
    "duration": 19,
    "start_time": "2022-05-27T13:46:08.817Z"
   },
   {
    "duration": 713,
    "start_time": "2022-05-27T13:46:18.744Z"
   },
   {
    "duration": 10,
    "start_time": "2022-05-27T13:47:46.735Z"
   },
   {
    "duration": 10,
    "start_time": "2022-05-27T13:48:36.026Z"
   },
   {
    "duration": 20,
    "start_time": "2022-05-27T13:48:42.009Z"
   },
   {
    "duration": 26,
    "start_time": "2022-05-27T13:48:54.166Z"
   },
   {
    "duration": 61,
    "start_time": "2022-05-28T11:04:23.775Z"
   },
   {
    "duration": 1570,
    "start_time": "2022-05-28T11:04:37.171Z"
   },
   {
    "duration": 1480,
    "start_time": "2022-05-28T11:04:38.744Z"
   },
   {
    "duration": 25,
    "start_time": "2022-05-28T11:04:40.225Z"
   },
   {
    "duration": 7,
    "start_time": "2022-05-28T11:04:40.295Z"
   },
   {
    "duration": 125,
    "start_time": "2022-05-28T11:04:40.304Z"
   },
   {
    "duration": 71,
    "start_time": "2022-05-28T11:04:40.430Z"
   },
   {
    "duration": 821,
    "start_time": "2022-05-28T11:04:40.502Z"
   },
   {
    "duration": 108,
    "start_time": "2022-05-28T11:04:41.325Z"
   },
   {
    "duration": 85,
    "start_time": "2022-05-28T11:04:41.435Z"
   },
   {
    "duration": 22,
    "start_time": "2022-05-28T11:04:41.522Z"
   },
   {
    "duration": 11,
    "start_time": "2022-05-28T11:04:41.545Z"
   },
   {
    "duration": 11,
    "start_time": "2022-05-28T11:04:41.558Z"
   },
   {
    "duration": 183,
    "start_time": "2022-05-28T11:04:41.571Z"
   },
   {
    "duration": 10,
    "start_time": "2022-05-28T11:04:41.756Z"
   },
   {
    "duration": 39,
    "start_time": "2022-05-28T11:04:41.768Z"
   },
   {
    "duration": 31,
    "start_time": "2022-05-28T11:04:41.809Z"
   },
   {
    "duration": 11,
    "start_time": "2022-05-28T11:04:41.842Z"
   },
   {
    "duration": 6,
    "start_time": "2022-05-28T11:04:41.855Z"
   },
   {
    "duration": 44,
    "start_time": "2022-05-28T11:04:41.863Z"
   },
   {
    "duration": 2249,
    "start_time": "2022-05-28T11:04:41.909Z"
   },
   {
    "duration": 198,
    "start_time": "2022-05-28T11:04:44.160Z"
   },
   {
    "duration": 90,
    "start_time": "2022-05-28T11:04:56.175Z"
   },
   {
    "duration": 20,
    "start_time": "2022-05-28T11:05:00.907Z"
   },
   {
    "duration": 97,
    "start_time": "2022-05-28T11:05:53.021Z"
   },
   {
    "duration": 10,
    "start_time": "2022-05-28T11:06:53.181Z"
   },
   {
    "duration": 9,
    "start_time": "2022-05-28T11:06:56.972Z"
   },
   {
    "duration": 16,
    "start_time": "2022-05-28T11:07:07.114Z"
   },
   {
    "duration": 22,
    "start_time": "2022-05-28T11:07:13.511Z"
   },
   {
    "duration": 246,
    "start_time": "2022-05-28T11:08:23.816Z"
   },
   {
    "duration": 154,
    "start_time": "2022-05-28T11:08:58.612Z"
   },
   {
    "duration": 172,
    "start_time": "2022-05-28T11:09:05.465Z"
   },
   {
    "duration": 211,
    "start_time": "2022-05-28T11:09:34.586Z"
   },
   {
    "duration": 213,
    "start_time": "2022-05-28T11:09:40.040Z"
   },
   {
    "duration": 136,
    "start_time": "2022-05-28T11:11:23.213Z"
   },
   {
    "duration": 172,
    "start_time": "2022-05-28T11:11:28.074Z"
   },
   {
    "duration": 177,
    "start_time": "2022-05-28T11:12:46.907Z"
   },
   {
    "duration": 35,
    "start_time": "2022-05-28T11:16:01.608Z"
   },
   {
    "duration": 30,
    "start_time": "2022-05-28T11:16:19.221Z"
   },
   {
    "duration": 125,
    "start_time": "2022-05-28T11:16:45.531Z"
   },
   {
    "duration": 16,
    "start_time": "2022-05-28T11:17:51.531Z"
   },
   {
    "duration": 20,
    "start_time": "2022-05-28T11:19:47.345Z"
   },
   {
    "duration": 19,
    "start_time": "2022-05-28T11:20:03.187Z"
   },
   {
    "duration": 23,
    "start_time": "2022-05-28T11:20:10.189Z"
   },
   {
    "duration": 16,
    "start_time": "2022-05-28T11:21:38.612Z"
   },
   {
    "duration": 27,
    "start_time": "2022-05-28T11:21:43.876Z"
   },
   {
    "duration": 11,
    "start_time": "2022-05-28T11:22:29.371Z"
   },
   {
    "duration": 23,
    "start_time": "2022-05-28T11:22:36.526Z"
   },
   {
    "duration": 36,
    "start_time": "2022-05-28T11:25:40.811Z"
   },
   {
    "duration": 26,
    "start_time": "2022-05-28T11:26:04.942Z"
   },
   {
    "duration": 38,
    "start_time": "2022-05-28T11:26:17.622Z"
   },
   {
    "duration": 23,
    "start_time": "2022-05-28T11:26:34.720Z"
   },
   {
    "duration": 41,
    "start_time": "2022-05-28T11:26:49.811Z"
   },
   {
    "duration": 41,
    "start_time": "2022-05-28T11:27:19.194Z"
   },
   {
    "duration": 41,
    "start_time": "2022-05-28T11:27:39.981Z"
   },
   {
    "duration": 23,
    "start_time": "2022-05-28T11:28:48.137Z"
   },
   {
    "duration": 17,
    "start_time": "2022-05-28T11:29:43.286Z"
   },
   {
    "duration": 15,
    "start_time": "2022-05-28T11:29:49.113Z"
   },
   {
    "duration": 102,
    "start_time": "2022-05-28T11:30:03.736Z"
   },
   {
    "duration": 695,
    "start_time": "2022-05-28T11:31:02.674Z"
   },
   {
    "duration": 32,
    "start_time": "2022-05-28T11:31:20.532Z"
   },
   {
    "duration": 20,
    "start_time": "2022-05-28T11:31:29.450Z"
   },
   {
    "duration": 35,
    "start_time": "2022-05-28T11:32:28.815Z"
   },
   {
    "duration": 24,
    "start_time": "2022-05-28T11:32:32.455Z"
   },
   {
    "duration": 21,
    "start_time": "2022-05-28T11:32:48.142Z"
   },
   {
    "duration": 24,
    "start_time": "2022-05-28T11:33:34.271Z"
   },
   {
    "duration": 32,
    "start_time": "2022-05-28T11:33:39.354Z"
   },
   {
    "duration": 25,
    "start_time": "2022-05-28T11:33:46.435Z"
   },
   {
    "duration": 35,
    "start_time": "2022-05-28T11:34:04.045Z"
   },
   {
    "duration": 24,
    "start_time": "2022-05-28T11:34:16.757Z"
   },
   {
    "duration": 31,
    "start_time": "2022-05-28T11:34:39.982Z"
   },
   {
    "duration": 26,
    "start_time": "2022-05-28T11:34:47.598Z"
   },
   {
    "duration": 37,
    "start_time": "2022-05-28T11:35:49.156Z"
   },
   {
    "duration": 30,
    "start_time": "2022-05-28T11:36:27.937Z"
   },
   {
    "duration": 39,
    "start_time": "2022-05-28T11:36:53.720Z"
   },
   {
    "duration": 44,
    "start_time": "2022-05-28T11:36:59.566Z"
   },
   {
    "duration": 31,
    "start_time": "2022-05-28T11:37:36.880Z"
   },
   {
    "duration": 9,
    "start_time": "2022-05-28T11:38:38.380Z"
   },
   {
    "duration": 44,
    "start_time": "2022-05-28T11:39:24.609Z"
   },
   {
    "duration": 30,
    "start_time": "2022-05-28T11:39:34.796Z"
   },
   {
    "duration": 32,
    "start_time": "2022-05-28T11:39:54.840Z"
   },
   {
    "duration": 33,
    "start_time": "2022-05-28T11:40:27.022Z"
   },
   {
    "duration": 40,
    "start_time": "2022-05-28T11:41:06.346Z"
   },
   {
    "duration": 55,
    "start_time": "2022-05-28T11:41:31.981Z"
   },
   {
    "duration": 4,
    "start_time": "2022-05-28T11:42:02.533Z"
   },
   {
    "duration": 1206,
    "start_time": "2022-05-28T11:42:02.541Z"
   },
   {
    "duration": 24,
    "start_time": "2022-05-28T11:42:03.749Z"
   },
   {
    "duration": 16,
    "start_time": "2022-05-28T11:42:03.776Z"
   },
   {
    "duration": 91,
    "start_time": "2022-05-28T11:42:03.794Z"
   },
   {
    "duration": 24,
    "start_time": "2022-05-28T11:42:03.887Z"
   },
   {
    "duration": 410,
    "start_time": "2022-05-28T11:42:03.917Z"
   },
   {
    "duration": 108,
    "start_time": "2022-05-28T11:42:04.329Z"
   },
   {
    "duration": 88,
    "start_time": "2022-05-28T11:42:04.439Z"
   },
   {
    "duration": 38,
    "start_time": "2022-05-28T11:42:04.528Z"
   },
   {
    "duration": 37,
    "start_time": "2022-05-28T11:42:04.568Z"
   },
   {
    "duration": 25,
    "start_time": "2022-05-28T11:42:04.607Z"
   },
   {
    "duration": 209,
    "start_time": "2022-05-28T11:42:04.633Z"
   },
   {
    "duration": 10,
    "start_time": "2022-05-28T11:42:04.844Z"
   },
   {
    "duration": 19,
    "start_time": "2022-05-28T11:42:04.857Z"
   },
   {
    "duration": 40,
    "start_time": "2022-05-28T11:42:04.897Z"
   },
   {
    "duration": 17,
    "start_time": "2022-05-28T11:42:04.939Z"
   },
   {
    "duration": 9,
    "start_time": "2022-05-28T11:42:04.958Z"
   },
   {
    "duration": 62,
    "start_time": "2022-05-28T11:42:04.969Z"
   },
   {
    "duration": 13,
    "start_time": "2022-05-28T11:42:05.033Z"
   },
   {
    "duration": 38,
    "start_time": "2022-05-28T11:42:05.049Z"
   },
   {
    "duration": 17,
    "start_time": "2022-05-28T11:42:05.090Z"
   },
   {
    "duration": 0,
    "start_time": "2022-05-28T11:42:05.109Z"
   },
   {
    "duration": 0,
    "start_time": "2022-05-28T11:42:05.111Z"
   },
   {
    "duration": 23,
    "start_time": "2022-05-28T11:43:29.021Z"
   },
   {
    "duration": 23,
    "start_time": "2022-05-28T11:43:54.028Z"
   },
   {
    "duration": 34,
    "start_time": "2022-05-28T11:44:20.760Z"
   },
   {
    "duration": 17,
    "start_time": "2022-05-28T11:45:10.313Z"
   },
   {
    "duration": 17,
    "start_time": "2022-05-28T11:45:15.441Z"
   },
   {
    "duration": 11,
    "start_time": "2022-05-28T11:45:28.514Z"
   },
   {
    "duration": 633,
    "start_time": "2022-05-28T11:45:52.711Z"
   },
   {
    "duration": 19,
    "start_time": "2022-05-28T11:47:00.649Z"
   },
   {
    "duration": 114,
    "start_time": "2022-05-28T11:47:08.815Z"
   },
   {
    "duration": 19,
    "start_time": "2022-05-28T11:47:17.752Z"
   },
   {
    "duration": 10,
    "start_time": "2022-05-28T11:48:13.559Z"
   },
   {
    "duration": 18,
    "start_time": "2022-05-28T11:48:19.222Z"
   },
   {
    "duration": 293,
    "start_time": "2022-05-28T11:48:32.573Z"
   },
   {
    "duration": 25,
    "start_time": "2022-05-28T11:48:56.630Z"
   },
   {
    "duration": 26,
    "start_time": "2022-05-28T11:49:03.635Z"
   },
   {
    "duration": 245,
    "start_time": "2022-05-28T11:49:06.713Z"
   },
   {
    "duration": 18,
    "start_time": "2022-05-28T11:50:21.124Z"
   },
   {
    "duration": 19,
    "start_time": "2022-05-28T11:52:10.413Z"
   },
   {
    "duration": 17,
    "start_time": "2022-05-28T11:52:36.919Z"
   },
   {
    "duration": 37,
    "start_time": "2022-05-28T11:53:27.576Z"
   },
   {
    "duration": 272,
    "start_time": "2022-05-28T11:53:43.211Z"
   },
   {
    "duration": 435,
    "start_time": "2022-05-28T11:53:53.126Z"
   },
   {
    "duration": 303,
    "start_time": "2022-05-28T11:53:58.074Z"
   },
   {
    "duration": 544,
    "start_time": "2022-05-28T11:54:36.820Z"
   },
   {
    "duration": 482,
    "start_time": "2022-05-28T11:54:49.496Z"
   },
   {
    "duration": 25,
    "start_time": "2022-05-28T11:55:16.410Z"
   },
   {
    "duration": 40,
    "start_time": "2022-05-28T11:57:11.705Z"
   },
   {
    "duration": 26,
    "start_time": "2022-05-28T11:57:20.765Z"
   },
   {
    "duration": 533,
    "start_time": "2022-05-28T11:57:26.826Z"
   },
   {
    "duration": 522,
    "start_time": "2022-05-28T11:57:50.514Z"
   },
   {
    "duration": 21,
    "start_time": "2022-05-28T11:58:53.362Z"
   },
   {
    "duration": 18,
    "start_time": "2022-05-28T11:59:35.626Z"
   },
   {
    "duration": 23,
    "start_time": "2022-05-28T11:59:55.337Z"
   },
   {
    "duration": 583,
    "start_time": "2022-05-28T12:02:00.557Z"
   },
   {
    "duration": 438,
    "start_time": "2022-05-28T12:02:11.624Z"
   },
   {
    "duration": 168,
    "start_time": "2022-05-28T12:03:25.551Z"
   },
   {
    "duration": 23,
    "start_time": "2022-05-28T12:03:50.340Z"
   },
   {
    "duration": 162,
    "start_time": "2022-05-28T12:03:52.600Z"
   },
   {
    "duration": 110,
    "start_time": "2022-05-28T12:09:39.426Z"
   },
   {
    "duration": 149,
    "start_time": "2022-05-28T12:10:58.765Z"
   },
   {
    "duration": 551,
    "start_time": "2022-05-28T12:11:13.314Z"
   },
   {
    "duration": 505,
    "start_time": "2022-05-28T12:11:32.782Z"
   },
   {
    "duration": 145,
    "start_time": "2022-05-28T12:11:48.581Z"
   },
   {
    "duration": 251,
    "start_time": "2022-05-28T12:11:59.089Z"
   },
   {
    "duration": 278,
    "start_time": "2022-05-28T12:12:37.281Z"
   },
   {
    "duration": 402,
    "start_time": "2022-05-28T12:13:27.324Z"
   },
   {
    "duration": 355,
    "start_time": "2022-05-28T12:14:22.041Z"
   },
   {
    "duration": 10,
    "start_time": "2022-05-28T12:14:41.105Z"
   },
   {
    "duration": 5,
    "start_time": "2022-05-28T12:14:45.504Z"
   },
   {
    "duration": 22,
    "start_time": "2022-05-28T12:15:08.068Z"
   },
   {
    "duration": 4,
    "start_time": "2022-05-28T12:15:10.327Z"
   },
   {
    "duration": 4,
    "start_time": "2022-05-28T12:15:15.965Z"
   },
   {
    "duration": 490,
    "start_time": "2022-05-28T12:15:31.553Z"
   },
   {
    "duration": 27,
    "start_time": "2022-05-28T12:15:53.784Z"
   },
   {
    "duration": 6,
    "start_time": "2022-05-28T12:15:57.117Z"
   },
   {
    "duration": 6,
    "start_time": "2022-05-28T12:16:09.141Z"
   },
   {
    "duration": 127,
    "start_time": "2022-05-28T12:17:35.933Z"
   },
   {
    "duration": 182,
    "start_time": "2022-05-28T12:17:50.684Z"
   },
   {
    "duration": 5,
    "start_time": "2022-05-28T12:18:43.258Z"
   },
   {
    "duration": 196,
    "start_time": "2022-05-28T12:18:53.311Z"
   },
   {
    "duration": 310,
    "start_time": "2022-05-28T12:19:09.637Z"
   },
   {
    "duration": 195,
    "start_time": "2022-05-28T12:19:22.434Z"
   },
   {
    "duration": 149,
    "start_time": "2022-05-28T12:19:46.508Z"
   },
   {
    "duration": 146,
    "start_time": "2022-05-28T12:20:03.842Z"
   },
   {
    "duration": 170,
    "start_time": "2022-05-28T12:20:29.882Z"
   },
   {
    "duration": 152,
    "start_time": "2022-05-28T12:21:00.338Z"
   },
   {
    "duration": 161,
    "start_time": "2022-05-28T12:22:25.886Z"
   },
   {
    "duration": 163,
    "start_time": "2022-05-28T12:23:41.832Z"
   },
   {
    "duration": 181,
    "start_time": "2022-05-28T12:24:12.331Z"
   },
   {
    "duration": 309,
    "start_time": "2022-05-28T12:24:23.149Z"
   },
   {
    "duration": 2138,
    "start_time": "2022-05-28T12:28:02.882Z"
   },
   {
    "duration": 33,
    "start_time": "2022-05-28T12:28:10.171Z"
   },
   {
    "duration": 180,
    "start_time": "2022-05-28T12:29:04.754Z"
   },
   {
    "duration": 327,
    "start_time": "2022-05-28T12:37:51.535Z"
   },
   {
    "duration": 26,
    "start_time": "2022-05-28T12:38:24.909Z"
   },
   {
    "duration": 172,
    "start_time": "2022-05-28T12:38:39.406Z"
   },
   {
    "duration": 217,
    "start_time": "2022-05-28T12:38:50.524Z"
   },
   {
    "duration": 192,
    "start_time": "2022-05-28T12:39:30.977Z"
   },
   {
    "duration": 175,
    "start_time": "2022-05-28T12:41:33.013Z"
   },
   {
    "duration": 25,
    "start_time": "2022-05-28T12:42:33.174Z"
   },
   {
    "duration": 163,
    "start_time": "2022-05-28T12:42:51.343Z"
   },
   {
    "duration": 23,
    "start_time": "2022-05-28T12:43:59.294Z"
   },
   {
    "duration": 18,
    "start_time": "2022-05-28T12:44:14.681Z"
   },
   {
    "duration": 168,
    "start_time": "2022-05-28T12:44:21.081Z"
   },
   {
    "duration": 26,
    "start_time": "2022-05-28T12:44:55.826Z"
   },
   {
    "duration": 172,
    "start_time": "2022-05-28T12:53:46.303Z"
   },
   {
    "duration": 184,
    "start_time": "2022-05-28T12:54:26.510Z"
   },
   {
    "duration": 159,
    "start_time": "2022-05-28T12:54:36.034Z"
   },
   {
    "duration": 174,
    "start_time": "2022-05-28T12:55:37.456Z"
   },
   {
    "duration": 429,
    "start_time": "2022-05-28T12:55:48.885Z"
   },
   {
    "duration": 170,
    "start_time": "2022-05-28T12:55:56.102Z"
   },
   {
    "duration": 158,
    "start_time": "2022-05-28T12:56:24.179Z"
   },
   {
    "duration": 120,
    "start_time": "2022-05-28T12:56:47.377Z"
   },
   {
    "duration": 157,
    "start_time": "2022-05-28T12:56:57.247Z"
   },
   {
    "duration": 166,
    "start_time": "2022-05-28T12:57:05.099Z"
   },
   {
    "duration": 218,
    "start_time": "2022-05-28T12:57:17.996Z"
   },
   {
    "duration": 184,
    "start_time": "2022-05-28T12:58:02.490Z"
   },
   {
    "duration": 160,
    "start_time": "2022-05-28T12:58:43.606Z"
   },
   {
    "duration": 170,
    "start_time": "2022-05-28T12:58:49.197Z"
   },
   {
    "duration": 223,
    "start_time": "2022-05-28T13:01:52.879Z"
   },
   {
    "duration": 159,
    "start_time": "2022-05-28T13:02:27.835Z"
   },
   {
    "duration": 160,
    "start_time": "2022-05-28T13:02:51.023Z"
   },
   {
    "duration": 1414,
    "start_time": "2022-05-29T09:27:34.596Z"
   },
   {
    "duration": 1054,
    "start_time": "2022-05-29T09:27:36.013Z"
   },
   {
    "duration": 22,
    "start_time": "2022-05-29T09:27:37.068Z"
   },
   {
    "duration": 6,
    "start_time": "2022-05-29T09:27:37.092Z"
   },
   {
    "duration": 52,
    "start_time": "2022-05-29T09:27:37.099Z"
   },
   {
    "duration": 13,
    "start_time": "2022-05-29T09:27:37.153Z"
   },
   {
    "duration": 341,
    "start_time": "2022-05-29T09:27:37.168Z"
   },
   {
    "duration": 103,
    "start_time": "2022-05-29T09:27:37.511Z"
   },
   {
    "duration": 68,
    "start_time": "2022-05-29T09:27:37.615Z"
   },
   {
    "duration": 38,
    "start_time": "2022-05-29T09:27:37.686Z"
   },
   {
    "duration": 11,
    "start_time": "2022-05-29T09:27:37.726Z"
   },
   {
    "duration": 15,
    "start_time": "2022-05-29T09:27:37.738Z"
   },
   {
    "duration": 308,
    "start_time": "2022-05-29T09:27:37.755Z"
   },
   {
    "duration": 63,
    "start_time": "2022-05-29T09:27:38.065Z"
   },
   {
    "duration": 25,
    "start_time": "2022-05-29T09:27:38.130Z"
   },
   {
    "duration": 83,
    "start_time": "2022-05-29T09:27:38.157Z"
   },
   {
    "duration": 15,
    "start_time": "2022-05-29T09:27:38.242Z"
   },
   {
    "duration": 8,
    "start_time": "2022-05-29T09:27:38.258Z"
   },
   {
    "duration": 34,
    "start_time": "2022-05-29T09:27:38.324Z"
   },
   {
    "duration": 504,
    "start_time": "2022-05-29T09:27:38.359Z"
   },
   {
    "duration": 2287,
    "start_time": "2022-05-29T09:27:38.865Z"
   },
   {
    "duration": 235,
    "start_time": "2022-05-29T09:27:41.153Z"
   },
   {
    "duration": 141,
    "start_time": "2022-05-29T10:00:38.927Z"
   },
   {
    "duration": 170,
    "start_time": "2022-05-29T10:01:19.931Z"
   },
   {
    "duration": 178,
    "start_time": "2022-05-29T10:02:35.115Z"
   },
   {
    "duration": 192,
    "start_time": "2022-05-29T10:02:46.695Z"
   },
   {
    "duration": 160,
    "start_time": "2022-05-29T10:03:50.848Z"
   },
   {
    "duration": 256,
    "start_time": "2022-05-29T10:04:00.400Z"
   },
   {
    "duration": 170,
    "start_time": "2022-05-29T10:04:14.161Z"
   },
   {
    "duration": 255,
    "start_time": "2022-05-29T10:04:22.834Z"
   },
   {
    "duration": 177,
    "start_time": "2022-05-29T10:05:56.028Z"
   },
   {
    "duration": 148,
    "start_time": "2022-05-29T10:06:00.545Z"
   },
   {
    "duration": 196,
    "start_time": "2022-05-29T10:06:20.932Z"
   },
   {
    "duration": 236,
    "start_time": "2022-05-29T10:08:00.998Z"
   },
   {
    "duration": 158,
    "start_time": "2022-05-29T10:09:21.478Z"
   },
   {
    "duration": 126,
    "start_time": "2022-05-29T10:09:26.978Z"
   },
   {
    "duration": 159,
    "start_time": "2022-05-29T10:09:49.924Z"
   },
   {
    "duration": 283,
    "start_time": "2022-05-29T10:10:35.186Z"
   },
   {
    "duration": 247,
    "start_time": "2022-05-29T10:10:47.531Z"
   },
   {
    "duration": 29,
    "start_time": "2022-05-29T10:12:06.988Z"
   },
   {
    "duration": 18,
    "start_time": "2022-05-29T10:13:50.460Z"
   },
   {
    "duration": 35,
    "start_time": "2022-05-29T10:14:12.271Z"
   },
   {
    "duration": 3274,
    "start_time": "2022-05-29T10:20:42.702Z"
   },
   {
    "duration": 1361,
    "start_time": "2022-05-29T10:21:10.596Z"
   },
   {
    "duration": 39,
    "start_time": "2022-05-29T10:24:21.860Z"
   },
   {
    "duration": 9,
    "start_time": "2022-05-29T10:24:29.482Z"
   },
   {
    "duration": 18,
    "start_time": "2022-05-29T10:24:47.876Z"
   },
   {
    "duration": 10,
    "start_time": "2022-05-29T10:25:53.661Z"
   },
   {
    "duration": 10,
    "start_time": "2022-05-29T10:26:55.526Z"
   },
   {
    "duration": 154,
    "start_time": "2022-05-29T10:27:03.260Z"
   },
   {
    "duration": 197,
    "start_time": "2022-05-29T10:27:33.981Z"
   },
   {
    "duration": 213,
    "start_time": "2022-05-29T10:28:04.561Z"
   },
   {
    "duration": 22,
    "start_time": "2022-05-29T10:28:46.839Z"
   },
   {
    "duration": 19,
    "start_time": "2022-05-29T10:29:14.224Z"
   },
   {
    "duration": 14,
    "start_time": "2022-05-29T10:29:30.084Z"
   },
   {
    "duration": 151,
    "start_time": "2022-05-29T10:29:51.195Z"
   },
   {
    "duration": 24,
    "start_time": "2022-05-29T10:30:57.246Z"
   },
   {
    "duration": 142,
    "start_time": "2022-05-29T10:31:07.368Z"
   },
   {
    "duration": 216,
    "start_time": "2022-05-29T10:31:39.699Z"
   },
   {
    "duration": 175,
    "start_time": "2022-05-29T10:31:56.533Z"
   },
   {
    "duration": 1916,
    "start_time": "2022-05-29T10:32:01.492Z"
   },
   {
    "duration": 42,
    "start_time": "2022-05-29T10:32:15.867Z"
   },
   {
    "duration": 50294,
    "start_time": "2022-05-29T10:33:04.781Z"
   },
   {
    "duration": 49854,
    "start_time": "2022-05-29T10:34:13.291Z"
   },
   {
    "duration": 352,
    "start_time": "2022-05-29T10:35:07.923Z"
   },
   {
    "duration": 32742,
    "start_time": "2022-05-29T10:35:16.922Z"
   },
   {
    "duration": 1362,
    "start_time": "2022-05-29T10:36:24.061Z"
   },
   {
    "duration": 951,
    "start_time": "2022-05-29T10:36:25.425Z"
   },
   {
    "duration": 25,
    "start_time": "2022-05-29T10:36:26.378Z"
   },
   {
    "duration": 6,
    "start_time": "2022-05-29T10:36:26.405Z"
   },
   {
    "duration": 78,
    "start_time": "2022-05-29T10:36:26.413Z"
   },
   {
    "duration": 18,
    "start_time": "2022-05-29T10:36:26.493Z"
   },
   {
    "duration": 383,
    "start_time": "2022-05-29T10:36:26.513Z"
   },
   {
    "duration": 104,
    "start_time": "2022-05-29T10:36:26.898Z"
   },
   {
    "duration": 75,
    "start_time": "2022-05-29T10:36:27.004Z"
   },
   {
    "duration": 22,
    "start_time": "2022-05-29T10:36:27.081Z"
   },
   {
    "duration": 28,
    "start_time": "2022-05-29T10:36:27.104Z"
   },
   {
    "duration": 8,
    "start_time": "2022-05-29T10:36:27.134Z"
   },
   {
    "duration": 172,
    "start_time": "2022-05-29T10:36:27.144Z"
   },
   {
    "duration": 16,
    "start_time": "2022-05-29T10:36:27.319Z"
   },
   {
    "duration": 30,
    "start_time": "2022-05-29T10:36:27.337Z"
   },
   {
    "duration": 33,
    "start_time": "2022-05-29T10:36:27.369Z"
   },
   {
    "duration": 20,
    "start_time": "2022-05-29T10:36:27.404Z"
   },
   {
    "duration": 7,
    "start_time": "2022-05-29T10:36:27.426Z"
   },
   {
    "duration": 28,
    "start_time": "2022-05-29T10:36:27.435Z"
   },
   {
    "duration": 300,
    "start_time": "2022-05-29T10:36:27.465Z"
   },
   {
    "duration": 9,
    "start_time": "2022-05-29T10:36:27.766Z"
   },
   {
    "duration": 10,
    "start_time": "2022-05-29T10:36:27.777Z"
   },
   {
    "duration": 167,
    "start_time": "2022-05-29T10:36:27.789Z"
   },
   {
    "duration": 24902,
    "start_time": "2022-05-29T10:36:27.959Z"
   },
   {
    "duration": 2318,
    "start_time": "2022-05-29T10:36:52.867Z"
   },
   {
    "duration": 391,
    "start_time": "2022-05-29T10:36:55.187Z"
   },
   {
    "duration": 203,
    "start_time": "2022-05-29T10:37:04.660Z"
   },
   {
    "duration": 304,
    "start_time": "2022-05-29T10:37:56.396Z"
   },
   {
    "duration": 195,
    "start_time": "2022-05-29T10:38:17.430Z"
   },
   {
    "duration": 209,
    "start_time": "2022-05-29T10:40:31.342Z"
   },
   {
    "duration": 234,
    "start_time": "2022-05-29T10:40:41.767Z"
   },
   {
    "duration": 250,
    "start_time": "2022-05-29T10:40:50.884Z"
   },
   {
    "duration": 407,
    "start_time": "2022-05-29T10:42:02.538Z"
   },
   {
    "duration": 252,
    "start_time": "2022-05-29T10:42:18.346Z"
   },
   {
    "duration": 10,
    "start_time": "2022-05-29T10:42:53.765Z"
   },
   {
    "duration": 9,
    "start_time": "2022-05-29T10:43:06.801Z"
   },
   {
    "duration": 252,
    "start_time": "2022-05-29T10:43:22.840Z"
   },
   {
    "duration": 271,
    "start_time": "2022-05-29T10:46:25.366Z"
   },
   {
    "duration": 1829,
    "start_time": "2022-05-29T10:47:34.735Z"
   },
   {
    "duration": 2271,
    "start_time": "2022-05-29T10:48:08.006Z"
   },
   {
    "duration": 1784,
    "start_time": "2022-05-29T10:48:27.308Z"
   },
   {
    "duration": 1902,
    "start_time": "2022-05-29T10:49:03.485Z"
   },
   {
    "duration": 1931,
    "start_time": "2022-05-29T10:49:28.029Z"
   },
   {
    "duration": 1887,
    "start_time": "2022-05-29T10:49:46.204Z"
   },
   {
    "duration": 23,
    "start_time": "2022-05-29T10:50:32.161Z"
   },
   {
    "duration": 9,
    "start_time": "2022-05-29T11:13:42.003Z"
   },
   {
    "duration": 10,
    "start_time": "2022-05-29T11:14:42.315Z"
   },
   {
    "duration": 379,
    "start_time": "2022-05-29T11:15:15.583Z"
   },
   {
    "duration": 4,
    "start_time": "2022-05-29T11:15:34.097Z"
   },
   {
    "duration": 14,
    "start_time": "2022-05-29T11:15:40.953Z"
   },
   {
    "duration": 20,
    "start_time": "2022-05-29T11:16:45.375Z"
   },
   {
    "duration": 1199,
    "start_time": "2022-05-29T11:24:10.036Z"
   },
   {
    "duration": 622,
    "start_time": "2022-05-29T11:24:11.237Z"
   },
   {
    "duration": 26,
    "start_time": "2022-05-29T11:24:11.861Z"
   },
   {
    "duration": 6,
    "start_time": "2022-05-29T11:24:11.889Z"
   },
   {
    "duration": 74,
    "start_time": "2022-05-29T11:24:11.897Z"
   },
   {
    "duration": 14,
    "start_time": "2022-05-29T11:24:11.973Z"
   },
   {
    "duration": 434,
    "start_time": "2022-05-29T11:24:11.990Z"
   },
   {
    "duration": 118,
    "start_time": "2022-05-29T11:24:12.426Z"
   },
   {
    "duration": 100,
    "start_time": "2022-05-29T11:24:12.547Z"
   },
   {
    "duration": 34,
    "start_time": "2022-05-29T11:24:12.650Z"
   },
   {
    "duration": 15,
    "start_time": "2022-05-29T11:24:12.687Z"
   },
   {
    "duration": 10,
    "start_time": "2022-05-29T11:24:12.724Z"
   },
   {
    "duration": 210,
    "start_time": "2022-05-29T11:24:12.736Z"
   },
   {
    "duration": 3,
    "start_time": "2022-05-29T11:24:12.947Z"
   },
   {
    "duration": 26,
    "start_time": "2022-05-29T11:24:12.952Z"
   },
   {
    "duration": 63,
    "start_time": "2022-05-29T11:24:12.980Z"
   },
   {
    "duration": 15,
    "start_time": "2022-05-29T11:24:13.045Z"
   },
   {
    "duration": 7,
    "start_time": "2022-05-29T11:24:13.062Z"
   },
   {
    "duration": 18,
    "start_time": "2022-05-29T11:24:13.071Z"
   },
   {
    "duration": 279,
    "start_time": "2022-05-29T11:24:13.091Z"
   },
   {
    "duration": 9,
    "start_time": "2022-05-29T11:24:13.371Z"
   },
   {
    "duration": 347,
    "start_time": "2022-05-29T11:24:13.382Z"
   },
   {
    "duration": 3728,
    "start_time": "2022-05-29T11:24:13.731Z"
   },
   {
    "duration": 306,
    "start_time": "2022-05-29T11:24:17.461Z"
   },
   {
    "duration": 82,
    "start_time": "2022-05-29T11:24:17.769Z"
   },
   {
    "duration": 8,
    "start_time": "2022-05-29T11:28:57.466Z"
   },
   {
    "duration": 25,
    "start_time": "2022-05-29T11:29:53.370Z"
   },
   {
    "duration": 30,
    "start_time": "2022-05-29T11:30:02.121Z"
   },
   {
    "duration": 126,
    "start_time": "2022-05-29T11:31:04.795Z"
   },
   {
    "duration": 23,
    "start_time": "2022-05-29T11:31:12.919Z"
   },
   {
    "duration": 6,
    "start_time": "2022-05-29T11:36:25.734Z"
   },
   {
    "duration": 558,
    "start_time": "2022-05-29T11:38:00.669Z"
   },
   {
    "duration": 4,
    "start_time": "2022-05-29T11:39:00.815Z"
   },
   {
    "duration": 13,
    "start_time": "2022-05-29T11:39:05.474Z"
   },
   {
    "duration": 8,
    "start_time": "2022-05-29T11:39:50.297Z"
   },
   {
    "duration": 4,
    "start_time": "2022-05-29T11:40:04.962Z"
   },
   {
    "duration": 9,
    "start_time": "2022-05-29T11:40:12.407Z"
   },
   {
    "duration": 3,
    "start_time": "2022-05-29T11:40:24.304Z"
   },
   {
    "duration": 594,
    "start_time": "2022-05-29T11:40:24.311Z"
   },
   {
    "duration": 20,
    "start_time": "2022-05-29T11:40:24.907Z"
   },
   {
    "duration": 8,
    "start_time": "2022-05-29T11:40:24.929Z"
   },
   {
    "duration": 59,
    "start_time": "2022-05-29T11:40:24.939Z"
   },
   {
    "duration": 30,
    "start_time": "2022-05-29T11:40:25.001Z"
   },
   {
    "duration": 357,
    "start_time": "2022-05-29T11:40:25.033Z"
   },
   {
    "duration": 93,
    "start_time": "2022-05-29T11:40:25.391Z"
   },
   {
    "duration": 74,
    "start_time": "2022-05-29T11:40:25.486Z"
   },
   {
    "duration": 23,
    "start_time": "2022-05-29T11:40:25.562Z"
   },
   {
    "duration": 35,
    "start_time": "2022-05-29T11:40:25.588Z"
   },
   {
    "duration": 8,
    "start_time": "2022-05-29T11:40:25.625Z"
   },
   {
    "duration": 162,
    "start_time": "2022-05-29T11:40:25.634Z"
   },
   {
    "duration": 2,
    "start_time": "2022-05-29T11:40:25.798Z"
   },
   {
    "duration": 29,
    "start_time": "2022-05-29T11:40:25.802Z"
   },
   {
    "duration": 29,
    "start_time": "2022-05-29T11:40:25.833Z"
   },
   {
    "duration": 15,
    "start_time": "2022-05-29T11:40:25.864Z"
   },
   {
    "duration": 7,
    "start_time": "2022-05-29T11:40:25.881Z"
   },
   {
    "duration": 50,
    "start_time": "2022-05-29T11:40:25.890Z"
   },
   {
    "duration": 175,
    "start_time": "2022-05-29T11:40:25.942Z"
   },
   {
    "duration": 11,
    "start_time": "2022-05-29T11:40:26.123Z"
   },
   {
    "duration": 342,
    "start_time": "2022-05-29T11:40:26.136Z"
   },
   {
    "duration": 1998,
    "start_time": "2022-05-29T11:40:26.480Z"
   },
   {
    "duration": 25,
    "start_time": "2022-05-29T11:40:28.480Z"
   },
   {
    "duration": 34,
    "start_time": "2022-05-29T11:40:28.507Z"
   },
   {
    "duration": 28,
    "start_time": "2022-05-29T11:40:28.543Z"
   },
   {
    "duration": 17,
    "start_time": "2022-05-29T11:40:28.573Z"
   },
   {
    "duration": 4,
    "start_time": "2022-05-29T11:40:28.592Z"
   },
   {
    "duration": 7,
    "start_time": "2022-05-29T11:40:28.622Z"
   },
   {
    "duration": 17,
    "start_time": "2022-05-29T11:40:28.631Z"
   },
   {
    "duration": 3,
    "start_time": "2022-05-29T11:40:44.219Z"
   },
   {
    "duration": 3,
    "start_time": "2022-05-29T11:40:58.176Z"
   },
   {
    "duration": 629,
    "start_time": "2022-05-29T11:40:58.181Z"
   },
   {
    "duration": 18,
    "start_time": "2022-05-29T11:40:58.811Z"
   },
   {
    "duration": 6,
    "start_time": "2022-05-29T11:40:58.831Z"
   },
   {
    "duration": 54,
    "start_time": "2022-05-29T11:40:58.839Z"
   },
   {
    "duration": 29,
    "start_time": "2022-05-29T11:40:58.894Z"
   },
   {
    "duration": 342,
    "start_time": "2022-05-29T11:40:58.925Z"
   },
   {
    "duration": 107,
    "start_time": "2022-05-29T11:40:59.269Z"
   },
   {
    "duration": 71,
    "start_time": "2022-05-29T11:40:59.378Z"
   },
   {
    "duration": 21,
    "start_time": "2022-05-29T11:40:59.451Z"
   },
   {
    "duration": 10,
    "start_time": "2022-05-29T11:40:59.474Z"
   },
   {
    "duration": 8,
    "start_time": "2022-05-29T11:40:59.485Z"
   },
   {
    "duration": 162,
    "start_time": "2022-05-29T11:40:59.495Z"
   },
   {
    "duration": 3,
    "start_time": "2022-05-29T11:40:59.659Z"
   },
   {
    "duration": 24,
    "start_time": "2022-05-29T11:40:59.663Z"
   },
   {
    "duration": 43,
    "start_time": "2022-05-29T11:40:59.688Z"
   },
   {
    "duration": 11,
    "start_time": "2022-05-29T11:40:59.733Z"
   },
   {
    "duration": 6,
    "start_time": "2022-05-29T11:40:59.746Z"
   },
   {
    "duration": 21,
    "start_time": "2022-05-29T11:40:59.754Z"
   },
   {
    "duration": 177,
    "start_time": "2022-05-29T11:40:59.777Z"
   },
   {
    "duration": 11,
    "start_time": "2022-05-29T11:40:59.956Z"
   },
   {
    "duration": 327,
    "start_time": "2022-05-29T11:40:59.969Z"
   },
   {
    "duration": 1915,
    "start_time": "2022-05-29T11:41:00.297Z"
   },
   {
    "duration": 28,
    "start_time": "2022-05-29T11:41:02.214Z"
   },
   {
    "duration": 15,
    "start_time": "2022-05-29T11:41:02.243Z"
   },
   {
    "duration": 25,
    "start_time": "2022-05-29T11:41:02.260Z"
   },
   {
    "duration": 41,
    "start_time": "2022-05-29T11:41:02.287Z"
   },
   {
    "duration": 8,
    "start_time": "2022-05-29T11:41:02.330Z"
   },
   {
    "duration": 11,
    "start_time": "2022-05-29T11:41:02.340Z"
   },
   {
    "duration": 6,
    "start_time": "2022-05-29T11:41:02.353Z"
   },
   {
    "duration": 14,
    "start_time": "2022-05-29T11:41:02.361Z"
   },
   {
    "duration": 16,
    "start_time": "2022-05-29T11:41:25.383Z"
   },
   {
    "duration": 6,
    "start_time": "2022-05-29T11:42:13.184Z"
   },
   {
    "duration": 37,
    "start_time": "2022-05-29T11:42:14.637Z"
   },
   {
    "duration": 3,
    "start_time": "2022-05-29T11:42:43.689Z"
   },
   {
    "duration": 6,
    "start_time": "2022-05-29T11:42:54.770Z"
   },
   {
    "duration": 110,
    "start_time": "2022-05-29T11:42:56.332Z"
   },
   {
    "duration": 3,
    "start_time": "2022-05-29T12:00:30.307Z"
   },
   {
    "duration": 930,
    "start_time": "2022-05-29T12:00:30.312Z"
   },
   {
    "duration": 19,
    "start_time": "2022-05-29T12:00:31.244Z"
   },
   {
    "duration": 11,
    "start_time": "2022-05-29T12:00:31.265Z"
   },
   {
    "duration": 72,
    "start_time": "2022-05-29T12:00:31.278Z"
   },
   {
    "duration": 11,
    "start_time": "2022-05-29T12:00:31.352Z"
   },
   {
    "duration": 373,
    "start_time": "2022-05-29T12:00:31.365Z"
   },
   {
    "duration": 106,
    "start_time": "2022-05-29T12:00:31.739Z"
   },
   {
    "duration": 65,
    "start_time": "2022-05-29T12:00:31.847Z"
   },
   {
    "duration": 26,
    "start_time": "2022-05-29T12:00:31.923Z"
   },
   {
    "duration": 13,
    "start_time": "2022-05-29T12:00:31.958Z"
   },
   {
    "duration": 26,
    "start_time": "2022-05-29T12:00:31.973Z"
   },
   {
    "duration": 187,
    "start_time": "2022-05-29T12:00:32.001Z"
   },
   {
    "duration": 10,
    "start_time": "2022-05-29T12:00:32.189Z"
   },
   {
    "duration": 33,
    "start_time": "2022-05-29T12:00:32.200Z"
   },
   {
    "duration": 32,
    "start_time": "2022-05-29T12:00:32.234Z"
   },
   {
    "duration": 11,
    "start_time": "2022-05-29T12:00:32.267Z"
   },
   {
    "duration": 7,
    "start_time": "2022-05-29T12:00:32.279Z"
   },
   {
    "duration": 48,
    "start_time": "2022-05-29T12:00:32.287Z"
   },
   {
    "duration": 173,
    "start_time": "2022-05-29T12:00:32.337Z"
   },
   {
    "duration": 18,
    "start_time": "2022-05-29T12:00:32.511Z"
   },
   {
    "duration": 332,
    "start_time": "2022-05-29T12:00:32.531Z"
   },
   {
    "duration": 1989,
    "start_time": "2022-05-29T12:00:32.866Z"
   },
   {
    "duration": 25,
    "start_time": "2022-05-29T12:00:34.858Z"
   },
   {
    "duration": 14,
    "start_time": "2022-05-29T12:00:34.885Z"
   },
   {
    "duration": 40,
    "start_time": "2022-05-29T12:00:34.901Z"
   },
   {
    "duration": 14,
    "start_time": "2022-05-29T12:00:34.943Z"
   },
   {
    "duration": 4,
    "start_time": "2022-05-29T12:00:34.959Z"
   },
   {
    "duration": 7,
    "start_time": "2022-05-29T12:00:34.967Z"
   },
   {
    "duration": 151,
    "start_time": "2022-05-29T12:00:34.975Z"
   },
   {
    "duration": 9,
    "start_time": "2022-05-29T12:03:26.208Z"
   },
   {
    "duration": 139,
    "start_time": "2022-05-29T12:03:27.802Z"
   },
   {
    "duration": 8,
    "start_time": "2022-05-29T12:05:39.067Z"
   },
   {
    "duration": 10,
    "start_time": "2022-05-29T12:06:16.205Z"
   },
   {
    "duration": 24,
    "start_time": "2022-05-29T12:06:23.776Z"
   },
   {
    "duration": 13,
    "start_time": "2022-05-29T12:06:53.332Z"
   },
   {
    "duration": 112,
    "start_time": "2022-05-29T12:07:05.160Z"
   },
   {
    "duration": 29,
    "start_time": "2022-05-29T12:09:48.004Z"
   },
   {
    "duration": 44,
    "start_time": "2022-05-29T12:10:01.871Z"
   },
   {
    "duration": 22,
    "start_time": "2022-05-29T12:10:23.864Z"
   },
   {
    "duration": 6,
    "start_time": "2022-05-29T12:11:21.562Z"
   },
   {
    "duration": 10,
    "start_time": "2022-05-29T12:16:39.458Z"
   },
   {
    "duration": 11,
    "start_time": "2022-05-29T12:17:21.845Z"
   },
   {
    "duration": 10,
    "start_time": "2022-05-29T12:17:42.000Z"
   },
   {
    "duration": 103,
    "start_time": "2022-05-29T12:18:40.296Z"
   },
   {
    "duration": 78,
    "start_time": "2022-05-29T12:19:21.052Z"
   },
   {
    "duration": 1385,
    "start_time": "2022-05-31T10:51:18.686Z"
   },
   {
    "duration": 630,
    "start_time": "2022-05-31T10:51:20.074Z"
   },
   {
    "duration": 22,
    "start_time": "2022-05-31T10:51:20.705Z"
   },
   {
    "duration": 5,
    "start_time": "2022-05-31T10:51:20.729Z"
   },
   {
    "duration": 60,
    "start_time": "2022-05-31T10:51:20.737Z"
   },
   {
    "duration": 32,
    "start_time": "2022-05-31T10:51:20.798Z"
   },
   {
    "duration": 467,
    "start_time": "2022-05-31T10:51:20.833Z"
   },
   {
    "duration": 111,
    "start_time": "2022-05-31T10:51:21.302Z"
   },
   {
    "duration": 91,
    "start_time": "2022-05-31T10:51:21.415Z"
   },
   {
    "duration": 41,
    "start_time": "2022-05-31T10:51:21.509Z"
   },
   {
    "duration": 16,
    "start_time": "2022-05-31T10:51:21.553Z"
   },
   {
    "duration": 11,
    "start_time": "2022-05-31T10:51:21.571Z"
   },
   {
    "duration": 278,
    "start_time": "2022-05-31T10:51:21.584Z"
   },
   {
    "duration": 10,
    "start_time": "2022-05-31T10:51:21.865Z"
   },
   {
    "duration": 18,
    "start_time": "2022-05-31T10:51:21.877Z"
   },
   {
    "duration": 59,
    "start_time": "2022-05-31T10:51:21.897Z"
   },
   {
    "duration": 11,
    "start_time": "2022-05-31T10:51:21.958Z"
   },
   {
    "duration": 7,
    "start_time": "2022-05-31T10:51:21.971Z"
   },
   {
    "duration": 21,
    "start_time": "2022-05-31T10:51:21.979Z"
   },
   {
    "duration": 260,
    "start_time": "2022-05-31T10:51:22.027Z"
   },
   {
    "duration": 8,
    "start_time": "2022-05-31T10:51:22.289Z"
   },
   {
    "duration": 283,
    "start_time": "2022-05-31T10:51:22.299Z"
   },
   {
    "duration": 2099,
    "start_time": "2022-05-31T10:51:22.583Z"
   },
   {
    "duration": 149,
    "start_time": "2022-05-31T10:51:24.684Z"
   },
   {
    "duration": 14,
    "start_time": "2022-05-31T10:51:24.835Z"
   },
   {
    "duration": 80,
    "start_time": "2022-05-31T10:51:24.851Z"
   },
   {
    "duration": 27,
    "start_time": "2022-05-31T10:51:24.933Z"
   },
   {
    "duration": 7,
    "start_time": "2022-05-31T10:51:24.961Z"
   },
   {
    "duration": 10,
    "start_time": "2022-05-31T10:51:24.970Z"
   },
   {
    "duration": 152,
    "start_time": "2022-05-31T10:51:24.982Z"
   },
   {
    "duration": 58,
    "start_time": "2022-05-31T11:02:01.687Z"
   },
   {
    "duration": 39,
    "start_time": "2022-05-31T11:21:28.939Z"
   },
   {
    "duration": 66,
    "start_time": "2022-05-31T11:21:38.711Z"
   },
   {
    "duration": 1922,
    "start_time": "2022-05-31T11:21:46.581Z"
   },
   {
    "duration": 1574,
    "start_time": "2022-05-31T11:21:48.506Z"
   },
   {
    "duration": 24,
    "start_time": "2022-05-31T11:21:50.081Z"
   },
   {
    "duration": 7,
    "start_time": "2022-05-31T11:21:50.151Z"
   },
   {
    "duration": 192,
    "start_time": "2022-05-31T11:21:50.161Z"
   },
   {
    "duration": 13,
    "start_time": "2022-05-31T11:21:50.355Z"
   },
   {
    "duration": 584,
    "start_time": "2022-05-31T11:21:50.369Z"
   },
   {
    "duration": 140,
    "start_time": "2022-05-31T11:21:50.955Z"
   },
   {
    "duration": 80,
    "start_time": "2022-05-31T11:21:51.097Z"
   },
   {
    "duration": 23,
    "start_time": "2022-05-31T11:21:51.179Z"
   },
   {
    "duration": 11,
    "start_time": "2022-05-31T11:21:51.204Z"
   },
   {
    "duration": 36,
    "start_time": "2022-05-31T11:21:51.217Z"
   },
   {
    "duration": 7,
    "start_time": "2022-05-31T11:21:51.255Z"
   },
   {
    "duration": 170,
    "start_time": "2022-05-31T11:21:51.264Z"
   },
   {
    "duration": 11,
    "start_time": "2022-05-31T11:21:51.436Z"
   },
   {
    "duration": 21,
    "start_time": "2022-05-31T11:21:51.448Z"
   },
   {
    "duration": 32,
    "start_time": "2022-05-31T11:21:51.471Z"
   },
   {
    "duration": 11,
    "start_time": "2022-05-31T11:21:51.505Z"
   },
   {
    "duration": 6,
    "start_time": "2022-05-31T11:21:51.518Z"
   },
   {
    "duration": 44,
    "start_time": "2022-05-31T11:21:51.525Z"
   },
   {
    "duration": 266,
    "start_time": "2022-05-31T11:21:51.571Z"
   },
   {
    "duration": 14,
    "start_time": "2022-05-31T11:21:51.838Z"
   },
   {
    "duration": 281,
    "start_time": "2022-05-31T11:21:51.854Z"
   },
   {
    "duration": 2079,
    "start_time": "2022-05-31T11:21:52.136Z"
   },
   {
    "duration": 150,
    "start_time": "2022-05-31T11:21:54.217Z"
   },
   {
    "duration": 13,
    "start_time": "2022-05-31T11:21:54.369Z"
   },
   {
    "duration": 21,
    "start_time": "2022-05-31T11:21:54.384Z"
   },
   {
    "duration": 56,
    "start_time": "2022-05-31T11:21:54.408Z"
   },
   {
    "duration": 4,
    "start_time": "2022-05-31T11:21:54.465Z"
   },
   {
    "duration": 6,
    "start_time": "2022-05-31T11:21:54.471Z"
   },
   {
    "duration": 127,
    "start_time": "2022-05-31T11:21:54.479Z"
   },
   {
    "duration": 11,
    "start_time": "2022-05-31T11:25:54.450Z"
   },
   {
    "duration": 20,
    "start_time": "2022-05-31T11:26:13.080Z"
   },
   {
    "duration": 10,
    "start_time": "2022-05-31T11:26:41.333Z"
   },
   {
    "duration": 23,
    "start_time": "2022-05-31T11:30:26.346Z"
   },
   {
    "duration": 11,
    "start_time": "2022-05-31T11:34:50.726Z"
   },
   {
    "duration": 18,
    "start_time": "2022-05-31T11:42:20.124Z"
   },
   {
    "duration": 88,
    "start_time": "2022-05-31T11:49:01.795Z"
   },
   {
    "duration": 8,
    "start_time": "2022-05-31T11:50:25.931Z"
   },
   {
    "duration": 14,
    "start_time": "2022-05-31T11:51:07.458Z"
   },
   {
    "duration": 16,
    "start_time": "2022-05-31T11:51:16.030Z"
   },
   {
    "duration": 15,
    "start_time": "2022-05-31T11:51:35.363Z"
   },
   {
    "duration": 22,
    "start_time": "2022-05-31T11:52:10.701Z"
   },
   {
    "duration": 13,
    "start_time": "2022-05-31T12:04:49.554Z"
   },
   {
    "duration": 68,
    "start_time": "2022-05-31T12:05:29.391Z"
   },
   {
    "duration": 19,
    "start_time": "2022-05-31T12:05:44.525Z"
   },
   {
    "duration": 13,
    "start_time": "2022-05-31T12:10:51.954Z"
   },
   {
    "duration": 8,
    "start_time": "2022-05-31T12:11:05.997Z"
   },
   {
    "duration": 27,
    "start_time": "2022-05-31T12:11:29.885Z"
   },
   {
    "duration": 12,
    "start_time": "2022-05-31T12:11:33.772Z"
   },
   {
    "duration": 11,
    "start_time": "2022-05-31T12:12:00.100Z"
   },
   {
    "duration": 13,
    "start_time": "2022-05-31T12:12:13.220Z"
   },
   {
    "duration": 13,
    "start_time": "2022-05-31T12:15:13.860Z"
   },
   {
    "duration": 8,
    "start_time": "2022-05-31T12:15:26.427Z"
   },
   {
    "duration": 7,
    "start_time": "2022-05-31T12:15:48.950Z"
   },
   {
    "duration": 9,
    "start_time": "2022-05-31T12:16:32.496Z"
   },
   {
    "duration": 17,
    "start_time": "2022-05-31T12:17:29.452Z"
   },
   {
    "duration": 12,
    "start_time": "2022-05-31T12:17:41.055Z"
   },
   {
    "duration": 9,
    "start_time": "2022-05-31T12:21:56.891Z"
   },
   {
    "duration": 14,
    "start_time": "2022-05-31T12:22:05.038Z"
   },
   {
    "duration": 9,
    "start_time": "2022-05-31T12:22:43.743Z"
   },
   {
    "duration": 12,
    "start_time": "2022-05-31T12:23:01.237Z"
   },
   {
    "duration": 21,
    "start_time": "2022-05-31T12:23:15.477Z"
   },
   {
    "duration": 14,
    "start_time": "2022-05-31T12:23:39.609Z"
   },
   {
    "duration": 10,
    "start_time": "2022-05-31T12:32:07.383Z"
   },
   {
    "duration": 13,
    "start_time": "2022-05-31T12:34:02.005Z"
   },
   {
    "duration": 19,
    "start_time": "2022-05-31T12:34:25.992Z"
   },
   {
    "duration": 51,
    "start_time": "2022-05-31T12:37:25.265Z"
   },
   {
    "duration": 203,
    "start_time": "2022-05-31T12:38:02.001Z"
   },
   {
    "duration": 212,
    "start_time": "2022-05-31T12:38:33.524Z"
   },
   {
    "duration": 215,
    "start_time": "2022-05-31T12:39:58.868Z"
   },
   {
    "duration": 197,
    "start_time": "2022-05-31T12:42:03.131Z"
   },
   {
    "duration": 183,
    "start_time": "2022-05-31T12:43:28.768Z"
   },
   {
    "duration": 203,
    "start_time": "2022-05-31T12:44:41.269Z"
   },
   {
    "duration": 229,
    "start_time": "2022-05-31T12:44:46.355Z"
   },
   {
    "duration": 1162,
    "start_time": "2022-05-31T12:45:16.303Z"
   },
   {
    "duration": 580,
    "start_time": "2022-05-31T12:45:17.468Z"
   },
   {
    "duration": 22,
    "start_time": "2022-05-31T12:45:18.050Z"
   },
   {
    "duration": 8,
    "start_time": "2022-05-31T12:45:18.074Z"
   },
   {
    "duration": 61,
    "start_time": "2022-05-31T12:45:18.085Z"
   },
   {
    "duration": 15,
    "start_time": "2022-05-31T12:45:18.148Z"
   },
   {
    "duration": 363,
    "start_time": "2022-05-31T12:45:18.165Z"
   },
   {
    "duration": 100,
    "start_time": "2022-05-31T12:45:18.529Z"
   },
   {
    "duration": 73,
    "start_time": "2022-05-31T12:45:18.631Z"
   },
   {
    "duration": 21,
    "start_time": "2022-05-31T12:45:18.706Z"
   },
   {
    "duration": 27,
    "start_time": "2022-05-31T12:45:18.729Z"
   },
   {
    "duration": 226,
    "start_time": "2022-05-31T12:45:18.758Z"
   },
   {
    "duration": 31,
    "start_time": "2022-05-31T12:45:18.985Z"
   },
   {
    "duration": 12,
    "start_time": "2022-05-31T12:45:19.019Z"
   },
   {
    "duration": 24,
    "start_time": "2022-05-31T12:45:19.032Z"
   },
   {
    "duration": 25,
    "start_time": "2022-05-31T12:45:19.058Z"
   },
   {
    "duration": 263,
    "start_time": "2022-05-31T12:45:19.085Z"
   },
   {
    "duration": 8,
    "start_time": "2022-05-31T12:45:19.351Z"
   },
   {
    "duration": 530,
    "start_time": "2022-05-31T12:45:19.361Z"
   },
   {
    "duration": 2861,
    "start_time": "2022-05-31T12:45:19.893Z"
   },
   {
    "duration": 139,
    "start_time": "2022-05-31T12:45:22.756Z"
   },
   {
    "duration": 17,
    "start_time": "2022-05-31T12:45:22.897Z"
   },
   {
    "duration": 54,
    "start_time": "2022-05-31T12:45:22.916Z"
   },
   {
    "duration": 24,
    "start_time": "2022-05-31T12:45:22.972Z"
   },
   {
    "duration": 7,
    "start_time": "2022-05-31T12:45:22.997Z"
   },
   {
    "duration": 46,
    "start_time": "2022-05-31T12:45:23.006Z"
   },
   {
    "duration": 116,
    "start_time": "2022-05-31T12:45:23.054Z"
   },
   {
    "duration": 230,
    "start_time": "2022-05-31T12:46:36.780Z"
   },
   {
    "duration": 27,
    "start_time": "2022-05-31T12:52:30.181Z"
   },
   {
    "duration": 14,
    "start_time": "2022-05-31T12:54:34.464Z"
   },
   {
    "duration": 226,
    "start_time": "2022-05-31T13:03:24.924Z"
   },
   {
    "duration": 26,
    "start_time": "2022-05-31T13:04:05.888Z"
   },
   {
    "duration": 36,
    "start_time": "2022-05-31T13:07:56.470Z"
   },
   {
    "duration": 195,
    "start_time": "2022-05-31T13:09:11.399Z"
   },
   {
    "duration": 38,
    "start_time": "2022-05-31T13:09:16.499Z"
   },
   {
    "duration": 212,
    "start_time": "2022-05-31T13:13:50.958Z"
   },
   {
    "duration": 17,
    "start_time": "2022-05-31T13:14:16.570Z"
   },
   {
    "duration": 7,
    "start_time": "2022-05-31T13:18:11.149Z"
   },
   {
    "duration": 6,
    "start_time": "2022-05-31T13:18:17.623Z"
   },
   {
    "duration": 5,
    "start_time": "2022-05-31T13:22:59.416Z"
   },
   {
    "duration": 18,
    "start_time": "2022-05-31T13:25:22.384Z"
   },
   {
    "duration": 670,
    "start_time": "2022-05-31T13:26:01.533Z"
   },
   {
    "duration": 34,
    "start_time": "2022-05-31T13:27:36.660Z"
   },
   {
    "duration": 5,
    "start_time": "2022-05-31T13:28:30.259Z"
   },
   {
    "duration": 3,
    "start_time": "2022-05-31T13:31:28.278Z"
   },
   {
    "duration": 5,
    "start_time": "2022-05-31T13:31:46.205Z"
   },
   {
    "duration": 5,
    "start_time": "2022-05-31T13:31:53.990Z"
   },
   {
    "duration": 21,
    "start_time": "2022-05-31T13:32:08.456Z"
   },
   {
    "duration": 9,
    "start_time": "2022-05-31T13:32:58.216Z"
   },
   {
    "duration": 10,
    "start_time": "2022-05-31T13:33:33.385Z"
   },
   {
    "duration": 8,
    "start_time": "2022-05-31T13:33:39.033Z"
   },
   {
    "duration": 20,
    "start_time": "2022-05-31T13:34:23.403Z"
   },
   {
    "duration": 31,
    "start_time": "2022-05-31T13:37:18.128Z"
   },
   {
    "duration": 14,
    "start_time": "2022-05-31T13:37:23.653Z"
   },
   {
    "duration": 3,
    "start_time": "2022-05-31T13:37:44.459Z"
   },
   {
    "duration": 529,
    "start_time": "2022-05-31T13:37:44.464Z"
   },
   {
    "duration": 16,
    "start_time": "2022-05-31T13:37:44.995Z"
   },
   {
    "duration": 15,
    "start_time": "2022-05-31T13:37:45.013Z"
   },
   {
    "duration": 54,
    "start_time": "2022-05-31T13:37:45.031Z"
   },
   {
    "duration": 12,
    "start_time": "2022-05-31T13:37:45.086Z"
   },
   {
    "duration": 403,
    "start_time": "2022-05-31T13:37:45.100Z"
   },
   {
    "duration": 124,
    "start_time": "2022-05-31T13:37:45.505Z"
   },
   {
    "duration": 76,
    "start_time": "2022-05-31T13:37:45.630Z"
   },
   {
    "duration": 24,
    "start_time": "2022-05-31T13:37:45.708Z"
   },
   {
    "duration": 27,
    "start_time": "2022-05-31T13:37:45.735Z"
   },
   {
    "duration": 174,
    "start_time": "2022-05-31T13:37:45.764Z"
   },
   {
    "duration": 52,
    "start_time": "2022-05-31T13:37:45.940Z"
   },
   {
    "duration": 44,
    "start_time": "2022-05-31T13:37:45.994Z"
   },
   {
    "duration": 18,
    "start_time": "2022-05-31T13:37:46.051Z"
   },
   {
    "duration": 20,
    "start_time": "2022-05-31T13:37:46.071Z"
   },
   {
    "duration": 25,
    "start_time": "2022-05-31T13:37:46.093Z"
   },
   {
    "duration": 33,
    "start_time": "2022-05-31T13:37:46.120Z"
   },
   {
    "duration": 8,
    "start_time": "2022-05-31T13:37:46.155Z"
   },
   {
    "duration": 49,
    "start_time": "2022-05-31T13:37:46.165Z"
   },
   {
    "duration": 10,
    "start_time": "2022-05-31T13:37:46.216Z"
   },
   {
    "duration": 7,
    "start_time": "2022-05-31T13:37:46.228Z"
   },
   {
    "duration": 27,
    "start_time": "2022-05-31T13:37:46.237Z"
   },
   {
    "duration": 187,
    "start_time": "2022-05-31T13:37:46.266Z"
   },
   {
    "duration": 9,
    "start_time": "2022-05-31T13:37:46.454Z"
   },
   {
    "duration": 284,
    "start_time": "2022-05-31T13:37:46.464Z"
   },
   {
    "duration": 2311,
    "start_time": "2022-05-31T13:37:46.751Z"
   },
   {
    "duration": 32,
    "start_time": "2022-05-31T13:37:49.064Z"
   },
   {
    "duration": 21,
    "start_time": "2022-05-31T13:37:49.151Z"
   },
   {
    "duration": 79,
    "start_time": "2022-05-31T13:37:49.174Z"
   },
   {
    "duration": 13,
    "start_time": "2022-05-31T13:37:49.255Z"
   },
   {
    "duration": 4,
    "start_time": "2022-05-31T13:37:49.270Z"
   },
   {
    "duration": 9,
    "start_time": "2022-05-31T13:37:49.276Z"
   },
   {
    "duration": 198,
    "start_time": "2022-05-31T13:37:49.287Z"
   },
   {
    "duration": 14,
    "start_time": "2022-05-31T13:44:41.365Z"
   },
   {
    "duration": 12,
    "start_time": "2022-05-31T13:45:03.488Z"
   },
   {
    "duration": 48,
    "start_time": "2022-05-31T13:45:19.512Z"
   },
   {
    "duration": 12,
    "start_time": "2022-05-31T13:45:22.029Z"
   },
   {
    "duration": 58,
    "start_time": "2022-05-31T13:45:31.834Z"
   },
   {
    "duration": 129,
    "start_time": "2022-05-31T13:45:53.187Z"
   },
   {
    "duration": 13,
    "start_time": "2022-05-31T13:45:55.614Z"
   },
   {
    "duration": 173,
    "start_time": "2022-05-31T13:46:12.980Z"
   },
   {
    "duration": 12,
    "start_time": "2022-05-31T13:46:14.271Z"
   },
   {
    "duration": 3,
    "start_time": "2022-05-31T13:46:24.133Z"
   },
   {
    "duration": 543,
    "start_time": "2022-05-31T13:46:24.138Z"
   },
   {
    "duration": 16,
    "start_time": "2022-05-31T13:46:24.683Z"
   },
   {
    "duration": 6,
    "start_time": "2022-05-31T13:46:24.701Z"
   },
   {
    "duration": 53,
    "start_time": "2022-05-31T13:46:24.709Z"
   },
   {
    "duration": 12,
    "start_time": "2022-05-31T13:46:24.763Z"
   },
   {
    "duration": 316,
    "start_time": "2022-05-31T13:46:24.776Z"
   },
   {
    "duration": 254,
    "start_time": "2022-05-31T13:46:25.094Z"
   },
   {
    "duration": 16,
    "start_time": "2022-05-31T13:46:25.353Z"
   },
   {
    "duration": 94,
    "start_time": "2022-05-31T13:46:25.371Z"
   },
   {
    "duration": 21,
    "start_time": "2022-05-31T13:46:25.467Z"
   },
   {
    "duration": 13,
    "start_time": "2022-05-31T13:46:25.489Z"
   },
   {
    "duration": 178,
    "start_time": "2022-05-31T13:46:25.504Z"
   },
   {
    "duration": 108,
    "start_time": "2022-05-31T13:46:25.685Z"
   },
   {
    "duration": 0,
    "start_time": "2022-05-31T13:46:25.795Z"
   },
   {
    "duration": 0,
    "start_time": "2022-05-31T13:46:25.795Z"
   },
   {
    "duration": 0,
    "start_time": "2022-05-31T13:46:25.797Z"
   },
   {
    "duration": 0,
    "start_time": "2022-05-31T13:46:25.797Z"
   },
   {
    "duration": 0,
    "start_time": "2022-05-31T13:46:25.798Z"
   },
   {
    "duration": 0,
    "start_time": "2022-05-31T13:46:25.799Z"
   },
   {
    "duration": 0,
    "start_time": "2022-05-31T13:46:25.800Z"
   },
   {
    "duration": 0,
    "start_time": "2022-05-31T13:46:25.801Z"
   },
   {
    "duration": 0,
    "start_time": "2022-05-31T13:46:25.802Z"
   },
   {
    "duration": 0,
    "start_time": "2022-05-31T13:46:25.803Z"
   },
   {
    "duration": 0,
    "start_time": "2022-05-31T13:46:25.804Z"
   },
   {
    "duration": 0,
    "start_time": "2022-05-31T13:46:25.804Z"
   },
   {
    "duration": 0,
    "start_time": "2022-05-31T13:46:25.805Z"
   },
   {
    "duration": 0,
    "start_time": "2022-05-31T13:46:25.806Z"
   },
   {
    "duration": 0,
    "start_time": "2022-05-31T13:46:25.807Z"
   },
   {
    "duration": 0,
    "start_time": "2022-05-31T13:46:25.808Z"
   },
   {
    "duration": 0,
    "start_time": "2022-05-31T13:46:25.809Z"
   },
   {
    "duration": 0,
    "start_time": "2022-05-31T13:46:25.809Z"
   },
   {
    "duration": 0,
    "start_time": "2022-05-31T13:46:25.810Z"
   },
   {
    "duration": 0,
    "start_time": "2022-05-31T13:46:25.811Z"
   },
   {
    "duration": 0,
    "start_time": "2022-05-31T13:46:25.812Z"
   },
   {
    "duration": 70,
    "start_time": "2022-05-31T13:47:56.920Z"
   },
   {
    "duration": 3,
    "start_time": "2022-05-31T13:48:06.695Z"
   },
   {
    "duration": 584,
    "start_time": "2022-05-31T13:48:06.702Z"
   },
   {
    "duration": 19,
    "start_time": "2022-05-31T13:48:07.287Z"
   },
   {
    "duration": 8,
    "start_time": "2022-05-31T13:48:07.308Z"
   },
   {
    "duration": 63,
    "start_time": "2022-05-31T13:48:07.318Z"
   },
   {
    "duration": 13,
    "start_time": "2022-05-31T13:48:07.383Z"
   },
   {
    "duration": 386,
    "start_time": "2022-05-31T13:48:07.397Z"
   },
   {
    "duration": 107,
    "start_time": "2022-05-31T13:48:07.785Z"
   },
   {
    "duration": 77,
    "start_time": "2022-05-31T13:48:07.895Z"
   },
   {
    "duration": 26,
    "start_time": "2022-05-31T13:48:07.974Z"
   },
   {
    "duration": 15,
    "start_time": "2022-05-31T13:48:08.004Z"
   },
   {
    "duration": 216,
    "start_time": "2022-05-31T13:48:08.021Z"
   },
   {
    "duration": 53,
    "start_time": "2022-05-31T13:48:08.239Z"
   },
   {
    "duration": 42,
    "start_time": "2022-05-31T13:48:08.294Z"
   },
   {
    "duration": 30,
    "start_time": "2022-05-31T13:48:08.338Z"
   },
   {
    "duration": 29,
    "start_time": "2022-05-31T13:48:08.370Z"
   },
   {
    "duration": 11,
    "start_time": "2022-05-31T13:48:08.401Z"
   },
   {
    "duration": 11,
    "start_time": "2022-05-31T13:48:08.414Z"
   },
   {
    "duration": 8,
    "start_time": "2022-05-31T13:48:08.427Z"
   },
   {
    "duration": 32,
    "start_time": "2022-05-31T13:48:08.451Z"
   },
   {
    "duration": 12,
    "start_time": "2022-05-31T13:48:08.484Z"
   },
   {
    "duration": 7,
    "start_time": "2022-05-31T13:48:08.498Z"
   },
   {
    "duration": 48,
    "start_time": "2022-05-31T13:48:08.506Z"
   },
   {
    "duration": 193,
    "start_time": "2022-05-31T13:48:08.556Z"
   },
   {
    "duration": 12,
    "start_time": "2022-05-31T13:48:08.752Z"
   },
   {
    "duration": 435,
    "start_time": "2022-05-31T13:48:08.766Z"
   },
   {
    "duration": 1879,
    "start_time": "2022-05-31T13:48:09.203Z"
   },
   {
    "duration": 30,
    "start_time": "2022-05-31T13:48:11.084Z"
   },
   {
    "duration": 14,
    "start_time": "2022-05-31T13:48:11.117Z"
   },
   {
    "duration": 23,
    "start_time": "2022-05-31T13:48:11.152Z"
   },
   {
    "duration": 13,
    "start_time": "2022-05-31T13:48:11.177Z"
   },
   {
    "duration": 4,
    "start_time": "2022-05-31T13:48:11.192Z"
   },
   {
    "duration": 8,
    "start_time": "2022-05-31T13:48:11.197Z"
   },
   {
    "duration": 109,
    "start_time": "2022-05-31T13:48:11.207Z"
   },
   {
    "duration": 210,
    "start_time": "2022-05-31T13:50:25.264Z"
   },
   {
    "duration": 13,
    "start_time": "2022-05-31T13:50:39.511Z"
   },
   {
    "duration": 44,
    "start_time": "2022-05-31T13:50:48.152Z"
   },
   {
    "duration": 4,
    "start_time": "2022-05-31T13:50:56.675Z"
   },
   {
    "duration": 548,
    "start_time": "2022-05-31T13:50:56.683Z"
   },
   {
    "duration": 17,
    "start_time": "2022-05-31T13:50:57.233Z"
   },
   {
    "duration": 11,
    "start_time": "2022-05-31T13:50:57.251Z"
   },
   {
    "duration": 58,
    "start_time": "2022-05-31T13:50:57.264Z"
   },
   {
    "duration": 11,
    "start_time": "2022-05-31T13:50:57.324Z"
   },
   {
    "duration": 304,
    "start_time": "2022-05-31T13:50:57.337Z"
   },
   {
    "duration": 22,
    "start_time": "2022-05-31T13:50:57.651Z"
   },
   {
    "duration": 0,
    "start_time": "2022-05-31T13:50:57.676Z"
   },
   {
    "duration": 0,
    "start_time": "2022-05-31T13:50:57.678Z"
   },
   {
    "duration": 0,
    "start_time": "2022-05-31T13:50:57.680Z"
   },
   {
    "duration": 0,
    "start_time": "2022-05-31T13:50:57.681Z"
   },
   {
    "duration": 0,
    "start_time": "2022-05-31T13:50:57.683Z"
   },
   {
    "duration": 0,
    "start_time": "2022-05-31T13:50:57.684Z"
   },
   {
    "duration": 0,
    "start_time": "2022-05-31T13:50:57.686Z"
   },
   {
    "duration": 0,
    "start_time": "2022-05-31T13:50:57.687Z"
   },
   {
    "duration": 0,
    "start_time": "2022-05-31T13:50:57.688Z"
   },
   {
    "duration": 0,
    "start_time": "2022-05-31T13:50:57.689Z"
   },
   {
    "duration": 0,
    "start_time": "2022-05-31T13:50:57.690Z"
   },
   {
    "duration": 0,
    "start_time": "2022-05-31T13:50:57.691Z"
   },
   {
    "duration": 0,
    "start_time": "2022-05-31T13:50:57.692Z"
   },
   {
    "duration": 0,
    "start_time": "2022-05-31T13:50:57.693Z"
   },
   {
    "duration": 0,
    "start_time": "2022-05-31T13:50:57.694Z"
   },
   {
    "duration": 0,
    "start_time": "2022-05-31T13:50:57.695Z"
   },
   {
    "duration": 0,
    "start_time": "2022-05-31T13:50:57.696Z"
   },
   {
    "duration": 0,
    "start_time": "2022-05-31T13:50:57.697Z"
   },
   {
    "duration": 0,
    "start_time": "2022-05-31T13:50:57.698Z"
   },
   {
    "duration": 0,
    "start_time": "2022-05-31T13:50:57.699Z"
   },
   {
    "duration": 0,
    "start_time": "2022-05-31T13:50:57.700Z"
   },
   {
    "duration": 0,
    "start_time": "2022-05-31T13:50:57.701Z"
   },
   {
    "duration": 0,
    "start_time": "2022-05-31T13:50:57.702Z"
   },
   {
    "duration": 1,
    "start_time": "2022-05-31T13:50:57.702Z"
   },
   {
    "duration": 0,
    "start_time": "2022-05-31T13:50:57.703Z"
   },
   {
    "duration": 0,
    "start_time": "2022-05-31T13:50:57.704Z"
   },
   {
    "duration": 3,
    "start_time": "2022-05-31T13:51:58.991Z"
   },
   {
    "duration": 528,
    "start_time": "2022-05-31T13:51:58.998Z"
   },
   {
    "duration": 17,
    "start_time": "2022-05-31T13:51:59.528Z"
   },
   {
    "duration": 21,
    "start_time": "2022-05-31T13:51:59.547Z"
   },
   {
    "duration": 51,
    "start_time": "2022-05-31T13:51:59.570Z"
   },
   {
    "duration": 12,
    "start_time": "2022-05-31T13:51:59.622Z"
   },
   {
    "duration": 333,
    "start_time": "2022-05-31T13:51:59.635Z"
   },
   {
    "duration": 103,
    "start_time": "2022-05-31T13:51:59.969Z"
   },
   {
    "duration": 60,
    "start_time": "2022-05-31T13:52:00.074Z"
   },
   {
    "duration": 40,
    "start_time": "2022-05-31T13:52:00.136Z"
   },
   {
    "duration": 32,
    "start_time": "2022-05-31T13:52:00.179Z"
   },
   {
    "duration": 195,
    "start_time": "2022-05-31T13:52:00.213Z"
   },
   {
    "duration": 42,
    "start_time": "2022-05-31T13:52:00.410Z"
   },
   {
    "duration": 39,
    "start_time": "2022-05-31T13:52:00.453Z"
   },
   {
    "duration": 24,
    "start_time": "2022-05-31T13:52:00.493Z"
   },
   {
    "duration": 34,
    "start_time": "2022-05-31T13:52:00.518Z"
   },
   {
    "duration": 5,
    "start_time": "2022-05-31T13:52:00.554Z"
   },
   {
    "duration": 22,
    "start_time": "2022-05-31T13:52:00.560Z"
   },
   {
    "duration": 22,
    "start_time": "2022-05-31T13:52:00.583Z"
   },
   {
    "duration": 38,
    "start_time": "2022-05-31T13:52:00.606Z"
   },
   {
    "duration": 11,
    "start_time": "2022-05-31T13:52:00.646Z"
   },
   {
    "duration": 6,
    "start_time": "2022-05-31T13:52:00.659Z"
   },
   {
    "duration": 22,
    "start_time": "2022-05-31T13:52:00.667Z"
   },
   {
    "duration": 189,
    "start_time": "2022-05-31T13:52:00.691Z"
   },
   {
    "duration": 9,
    "start_time": "2022-05-31T13:52:00.882Z"
   },
   {
    "duration": 415,
    "start_time": "2022-05-31T13:52:00.893Z"
   },
   {
    "duration": 1926,
    "start_time": "2022-05-31T13:52:01.310Z"
   },
   {
    "duration": 28,
    "start_time": "2022-05-31T13:52:03.237Z"
   },
   {
    "duration": 13,
    "start_time": "2022-05-31T13:52:03.268Z"
   },
   {
    "duration": 20,
    "start_time": "2022-05-31T13:52:03.283Z"
   },
   {
    "duration": 12,
    "start_time": "2022-05-31T13:52:03.305Z"
   },
   {
    "duration": 3,
    "start_time": "2022-05-31T13:52:03.318Z"
   },
   {
    "duration": 33,
    "start_time": "2022-05-31T13:52:03.323Z"
   },
   {
    "duration": 94,
    "start_time": "2022-05-31T13:52:03.358Z"
   },
   {
    "duration": 19,
    "start_time": "2022-05-31T13:52:38.389Z"
   },
   {
    "duration": 10,
    "start_time": "2022-05-31T13:53:09.959Z"
   },
   {
    "duration": 176,
    "start_time": "2022-05-31T13:53:16.741Z"
   },
   {
    "duration": 66,
    "start_time": "2022-05-31T13:53:49.591Z"
   },
   {
    "duration": 3,
    "start_time": "2022-05-31T13:54:02.845Z"
   },
   {
    "duration": 540,
    "start_time": "2022-05-31T13:54:02.852Z"
   },
   {
    "duration": 16,
    "start_time": "2022-05-31T13:54:03.394Z"
   },
   {
    "duration": 8,
    "start_time": "2022-05-31T13:54:03.412Z"
   },
   {
    "duration": 55,
    "start_time": "2022-05-31T13:54:03.423Z"
   },
   {
    "duration": 12,
    "start_time": "2022-05-31T13:54:03.479Z"
   },
   {
    "duration": 312,
    "start_time": "2022-05-31T13:54:03.492Z"
   },
   {
    "duration": 92,
    "start_time": "2022-05-31T13:54:03.805Z"
   },
   {
    "duration": 57,
    "start_time": "2022-05-31T13:54:03.899Z"
   },
   {
    "duration": 21,
    "start_time": "2022-05-31T13:54:03.958Z"
   },
   {
    "duration": 13,
    "start_time": "2022-05-31T13:54:03.981Z"
   },
   {
    "duration": 188,
    "start_time": "2022-05-31T13:54:03.996Z"
   },
   {
    "duration": 34,
    "start_time": "2022-05-31T13:54:04.186Z"
   },
   {
    "duration": 50,
    "start_time": "2022-05-31T13:54:04.222Z"
   },
   {
    "duration": 18,
    "start_time": "2022-05-31T13:54:04.274Z"
   },
   {
    "duration": 18,
    "start_time": "2022-05-31T13:54:04.294Z"
   },
   {
    "duration": 8,
    "start_time": "2022-05-31T13:54:04.314Z"
   },
   {
    "duration": 43,
    "start_time": "2022-05-31T13:54:04.323Z"
   },
   {
    "duration": 7,
    "start_time": "2022-05-31T13:54:04.368Z"
   },
   {
    "duration": 35,
    "start_time": "2022-05-31T13:54:04.376Z"
   },
   {
    "duration": 11,
    "start_time": "2022-05-31T13:54:04.412Z"
   },
   {
    "duration": 6,
    "start_time": "2022-05-31T13:54:04.425Z"
   },
   {
    "duration": 24,
    "start_time": "2022-05-31T13:54:04.454Z"
   },
   {
    "duration": 175,
    "start_time": "2022-05-31T13:54:04.479Z"
   },
   {
    "duration": 10,
    "start_time": "2022-05-31T13:54:04.655Z"
   },
   {
    "duration": 273,
    "start_time": "2022-05-31T13:54:04.666Z"
   },
   {
    "duration": 2756,
    "start_time": "2022-05-31T13:54:04.940Z"
   },
   {
    "duration": 23,
    "start_time": "2022-05-31T13:54:07.698Z"
   },
   {
    "duration": 30,
    "start_time": "2022-05-31T13:54:07.725Z"
   },
   {
    "duration": 22,
    "start_time": "2022-05-31T13:54:07.757Z"
   },
   {
    "duration": 14,
    "start_time": "2022-05-31T13:54:07.780Z"
   },
   {
    "duration": 3,
    "start_time": "2022-05-31T13:54:07.796Z"
   },
   {
    "duration": 11,
    "start_time": "2022-05-31T13:54:07.801Z"
   },
   {
    "duration": 114,
    "start_time": "2022-05-31T13:54:07.814Z"
   },
   {
    "duration": 4,
    "start_time": "2022-05-31T13:57:54.469Z"
   },
   {
    "duration": 4,
    "start_time": "2022-05-31T13:58:59.837Z"
   },
   {
    "duration": 4,
    "start_time": "2022-05-31T14:00:51.810Z"
   },
   {
    "duration": 576,
    "start_time": "2022-05-31T14:00:51.819Z"
   },
   {
    "duration": 16,
    "start_time": "2022-05-31T14:00:52.397Z"
   },
   {
    "duration": 7,
    "start_time": "2022-05-31T14:00:52.415Z"
   },
   {
    "duration": 56,
    "start_time": "2022-05-31T14:00:52.424Z"
   },
   {
    "duration": 14,
    "start_time": "2022-05-31T14:00:52.481Z"
   },
   {
    "duration": 351,
    "start_time": "2022-05-31T14:00:52.497Z"
   },
   {
    "duration": 87,
    "start_time": "2022-05-31T14:00:52.852Z"
   },
   {
    "duration": 64,
    "start_time": "2022-05-31T14:00:52.940Z"
   },
   {
    "duration": 24,
    "start_time": "2022-05-31T14:00:53.006Z"
   },
   {
    "duration": 15,
    "start_time": "2022-05-31T14:00:53.055Z"
   },
   {
    "duration": 173,
    "start_time": "2022-05-31T14:00:53.072Z"
   },
   {
    "duration": 37,
    "start_time": "2022-05-31T14:00:53.247Z"
   },
   {
    "duration": 36,
    "start_time": "2022-05-31T14:00:53.286Z"
   },
   {
    "duration": 35,
    "start_time": "2022-05-31T14:00:53.324Z"
   },
   {
    "duration": 5,
    "start_time": "2022-05-31T14:00:53.361Z"
   },
   {
    "duration": 5,
    "start_time": "2022-05-31T14:00:53.368Z"
   },
   {
    "duration": 23,
    "start_time": "2022-05-31T14:00:53.375Z"
   },
   {
    "duration": 3,
    "start_time": "2022-05-31T14:00:53.400Z"
   },
   {
    "duration": 62,
    "start_time": "2022-05-31T14:00:53.405Z"
   },
   {
    "duration": 13,
    "start_time": "2022-05-31T14:00:53.469Z"
   },
   {
    "duration": 7,
    "start_time": "2022-05-31T14:00:53.484Z"
   },
   {
    "duration": 24,
    "start_time": "2022-05-31T14:00:53.493Z"
   },
   {
    "duration": 209,
    "start_time": "2022-05-31T14:00:53.519Z"
   },
   {
    "duration": 11,
    "start_time": "2022-05-31T14:00:53.730Z"
   },
   {
    "duration": 562,
    "start_time": "2022-05-31T14:00:53.753Z"
   },
   {
    "duration": 2978,
    "start_time": "2022-05-31T14:00:54.317Z"
   },
   {
    "duration": 25,
    "start_time": "2022-05-31T14:00:57.297Z"
   },
   {
    "duration": 35,
    "start_time": "2022-05-31T14:00:57.325Z"
   },
   {
    "duration": 23,
    "start_time": "2022-05-31T14:00:57.361Z"
   },
   {
    "duration": 13,
    "start_time": "2022-05-31T14:00:57.386Z"
   },
   {
    "duration": 3,
    "start_time": "2022-05-31T14:00:57.401Z"
   },
   {
    "duration": 10,
    "start_time": "2022-05-31T14:00:57.406Z"
   },
   {
    "duration": 128,
    "start_time": "2022-05-31T14:00:57.418Z"
   },
   {
    "duration": 20,
    "start_time": "2022-05-31T14:07:40.531Z"
   },
   {
    "duration": 20,
    "start_time": "2022-05-31T14:09:25.877Z"
   },
   {
    "duration": 24,
    "start_time": "2022-05-31T14:10:37.589Z"
   },
   {
    "duration": 29,
    "start_time": "2022-05-31T14:11:48.976Z"
   },
   {
    "duration": 11,
    "start_time": "2022-05-31T14:14:12.203Z"
   },
   {
    "duration": 4,
    "start_time": "2022-05-31T14:14:42.330Z"
   },
   {
    "duration": 592,
    "start_time": "2022-05-31T14:14:42.338Z"
   },
   {
    "duration": 21,
    "start_time": "2022-05-31T14:14:42.933Z"
   },
   {
    "duration": 5,
    "start_time": "2022-05-31T14:14:42.955Z"
   },
   {
    "duration": 76,
    "start_time": "2022-05-31T14:14:42.962Z"
   },
   {
    "duration": 13,
    "start_time": "2022-05-31T14:14:43.040Z"
   },
   {
    "duration": 330,
    "start_time": "2022-05-31T14:14:43.055Z"
   },
   {
    "duration": 100,
    "start_time": "2022-05-31T14:14:43.387Z"
   },
   {
    "duration": 64,
    "start_time": "2022-05-31T14:14:43.489Z"
   },
   {
    "duration": 24,
    "start_time": "2022-05-31T14:14:43.554Z"
   },
   {
    "duration": 13,
    "start_time": "2022-05-31T14:14:43.580Z"
   },
   {
    "duration": 190,
    "start_time": "2022-05-31T14:14:43.594Z"
   },
   {
    "duration": 35,
    "start_time": "2022-05-31T14:14:43.786Z"
   },
   {
    "duration": 51,
    "start_time": "2022-05-31T14:14:43.823Z"
   },
   {
    "duration": 18,
    "start_time": "2022-05-31T14:14:43.876Z"
   },
   {
    "duration": 4,
    "start_time": "2022-05-31T14:14:43.896Z"
   },
   {
    "duration": 24,
    "start_time": "2022-05-31T14:14:43.902Z"
   },
   {
    "duration": 41,
    "start_time": "2022-05-31T14:14:43.928Z"
   },
   {
    "duration": 28,
    "start_time": "2022-05-31T14:14:43.971Z"
   },
   {
    "duration": 0,
    "start_time": "2022-05-31T14:14:44.001Z"
   },
   {
    "duration": 0,
    "start_time": "2022-05-31T14:14:44.003Z"
   },
   {
    "duration": 0,
    "start_time": "2022-05-31T14:14:44.004Z"
   },
   {
    "duration": 0,
    "start_time": "2022-05-31T14:14:44.005Z"
   },
   {
    "duration": 0,
    "start_time": "2022-05-31T14:14:44.006Z"
   },
   {
    "duration": 0,
    "start_time": "2022-05-31T14:14:44.007Z"
   },
   {
    "duration": 0,
    "start_time": "2022-05-31T14:14:44.008Z"
   },
   {
    "duration": 0,
    "start_time": "2022-05-31T14:14:44.009Z"
   },
   {
    "duration": 0,
    "start_time": "2022-05-31T14:14:44.010Z"
   },
   {
    "duration": 1,
    "start_time": "2022-05-31T14:14:44.011Z"
   },
   {
    "duration": 0,
    "start_time": "2022-05-31T14:14:44.012Z"
   },
   {
    "duration": 0,
    "start_time": "2022-05-31T14:14:44.013Z"
   },
   {
    "duration": 0,
    "start_time": "2022-05-31T14:14:44.014Z"
   },
   {
    "duration": 0,
    "start_time": "2022-05-31T14:14:44.015Z"
   },
   {
    "duration": 0,
    "start_time": "2022-05-31T14:14:44.016Z"
   },
   {
    "duration": 0,
    "start_time": "2022-05-31T14:14:44.052Z"
   },
   {
    "duration": 12,
    "start_time": "2022-05-31T14:15:32.155Z"
   },
   {
    "duration": 15,
    "start_time": "2022-05-31T14:15:41.134Z"
   },
   {
    "duration": 1215,
    "start_time": "2022-05-31T14:15:57.141Z"
   },
   {
    "duration": 567,
    "start_time": "2022-05-31T14:15:58.358Z"
   },
   {
    "duration": 20,
    "start_time": "2022-05-31T14:15:58.926Z"
   },
   {
    "duration": 4,
    "start_time": "2022-05-31T14:15:58.948Z"
   },
   {
    "duration": 56,
    "start_time": "2022-05-31T14:15:58.954Z"
   },
   {
    "duration": 12,
    "start_time": "2022-05-31T14:15:59.011Z"
   },
   {
    "duration": 350,
    "start_time": "2022-05-31T14:15:59.025Z"
   },
   {
    "duration": 104,
    "start_time": "2022-05-31T14:15:59.376Z"
   },
   {
    "duration": 70,
    "start_time": "2022-05-31T14:15:59.482Z"
   },
   {
    "duration": 21,
    "start_time": "2022-05-31T14:15:59.555Z"
   },
   {
    "duration": 13,
    "start_time": "2022-05-31T14:15:59.578Z"
   },
   {
    "duration": 187,
    "start_time": "2022-05-31T14:15:59.592Z"
   },
   {
    "duration": 46,
    "start_time": "2022-05-31T14:15:59.780Z"
   },
   {
    "duration": 54,
    "start_time": "2022-05-31T14:15:59.827Z"
   },
   {
    "duration": 17,
    "start_time": "2022-05-31T14:15:59.882Z"
   },
   {
    "duration": 11,
    "start_time": "2022-05-31T14:15:59.901Z"
   },
   {
    "duration": 37,
    "start_time": "2022-05-31T14:15:59.914Z"
   },
   {
    "duration": 34,
    "start_time": "2022-05-31T14:15:59.953Z"
   },
   {
    "duration": 22,
    "start_time": "2022-05-31T14:15:59.989Z"
   },
   {
    "duration": 25,
    "start_time": "2022-05-31T14:16:00.013Z"
   },
   {
    "duration": 60,
    "start_time": "2022-05-31T14:16:00.039Z"
   },
   {
    "duration": 38,
    "start_time": "2022-05-31T14:16:00.101Z"
   },
   {
    "duration": 11,
    "start_time": "2022-05-31T14:16:00.141Z"
   },
   {
    "duration": 43,
    "start_time": "2022-05-31T14:16:00.155Z"
   },
   {
    "duration": 274,
    "start_time": "2022-05-31T14:16:00.200Z"
   },
   {
    "duration": 11,
    "start_time": "2022-05-31T14:16:00.476Z"
   },
   {
    "duration": 589,
    "start_time": "2022-05-31T14:16:00.488Z"
   },
   {
    "duration": 2235,
    "start_time": "2022-05-31T14:16:01.080Z"
   },
   {
    "duration": 160,
    "start_time": "2022-05-31T14:16:03.317Z"
   },
   {
    "duration": 17,
    "start_time": "2022-05-31T14:16:03.478Z"
   },
   {
    "duration": 22,
    "start_time": "2022-05-31T14:16:03.496Z"
   },
   {
    "duration": 16,
    "start_time": "2022-05-31T14:16:03.552Z"
   },
   {
    "duration": 4,
    "start_time": "2022-05-31T14:16:03.570Z"
   },
   {
    "duration": 8,
    "start_time": "2022-05-31T14:16:03.575Z"
   },
   {
    "duration": 142,
    "start_time": "2022-05-31T14:16:03.584Z"
   },
   {
    "duration": 35,
    "start_time": "2022-05-31T14:18:45.645Z"
   },
   {
    "duration": 27,
    "start_time": "2022-05-31T14:19:22.539Z"
   },
   {
    "duration": 18,
    "start_time": "2022-05-31T14:19:54.625Z"
   },
   {
    "duration": 19,
    "start_time": "2022-05-31T14:20:27.032Z"
   },
   {
    "duration": 26,
    "start_time": "2022-05-31T14:20:35.876Z"
   },
   {
    "duration": 125,
    "start_time": "2022-05-31T14:21:09.799Z"
   },
   {
    "duration": 23,
    "start_time": "2022-05-31T14:21:43.857Z"
   },
   {
    "duration": 3,
    "start_time": "2022-05-31T14:22:02.200Z"
   },
   {
    "duration": 633,
    "start_time": "2022-05-31T14:22:02.208Z"
   },
   {
    "duration": 17,
    "start_time": "2022-05-31T14:22:02.843Z"
   },
   {
    "duration": 10,
    "start_time": "2022-05-31T14:22:02.861Z"
   },
   {
    "duration": 53,
    "start_time": "2022-05-31T14:22:02.873Z"
   },
   {
    "duration": 11,
    "start_time": "2022-05-31T14:22:02.927Z"
   },
   {
    "duration": 310,
    "start_time": "2022-05-31T14:22:02.940Z"
   },
   {
    "duration": 90,
    "start_time": "2022-05-31T14:22:03.252Z"
   },
   {
    "duration": 63,
    "start_time": "2022-05-31T14:22:03.343Z"
   },
   {
    "duration": 23,
    "start_time": "2022-05-31T14:22:03.407Z"
   },
   {
    "duration": 14,
    "start_time": "2022-05-31T14:22:03.453Z"
   },
   {
    "duration": 166,
    "start_time": "2022-05-31T14:22:03.468Z"
   },
   {
    "duration": 40,
    "start_time": "2022-05-31T14:22:03.635Z"
   },
   {
    "duration": 38,
    "start_time": "2022-05-31T14:22:03.677Z"
   },
   {
    "duration": 18,
    "start_time": "2022-05-31T14:22:03.716Z"
   },
   {
    "duration": 19,
    "start_time": "2022-05-31T14:22:03.735Z"
   },
   {
    "duration": 29,
    "start_time": "2022-05-31T14:22:03.756Z"
   },
   {
    "duration": 33,
    "start_time": "2022-05-31T14:22:03.787Z"
   },
   {
    "duration": 84,
    "start_time": "2022-05-31T14:22:03.822Z"
   },
   {
    "duration": 2,
    "start_time": "2022-05-31T14:22:03.908Z"
   },
   {
    "duration": 43,
    "start_time": "2022-05-31T14:22:03.911Z"
   },
   {
    "duration": 13,
    "start_time": "2022-05-31T14:22:03.956Z"
   },
   {
    "duration": 6,
    "start_time": "2022-05-31T14:22:03.971Z"
   },
   {
    "duration": 38,
    "start_time": "2022-05-31T14:22:03.978Z"
   },
   {
    "duration": 187,
    "start_time": "2022-05-31T14:22:04.017Z"
   },
   {
    "duration": 9,
    "start_time": "2022-05-31T14:22:04.206Z"
   },
   {
    "duration": 1065,
    "start_time": "2022-05-31T14:22:04.217Z"
   },
   {
    "duration": 2329,
    "start_time": "2022-05-31T14:22:05.284Z"
   },
   {
    "duration": 36,
    "start_time": "2022-05-31T14:22:07.616Z"
   },
   {
    "duration": 19,
    "start_time": "2022-05-31T14:22:07.653Z"
   },
   {
    "duration": 22,
    "start_time": "2022-05-31T14:22:07.674Z"
   },
   {
    "duration": 13,
    "start_time": "2022-05-31T14:22:07.698Z"
   },
   {
    "duration": 3,
    "start_time": "2022-05-31T14:22:07.713Z"
   },
   {
    "duration": 35,
    "start_time": "2022-05-31T14:22:07.717Z"
   },
   {
    "duration": 112,
    "start_time": "2022-05-31T14:22:07.754Z"
   },
   {
    "duration": 205,
    "start_time": "2022-05-31T14:23:28.333Z"
   },
   {
    "duration": 68,
    "start_time": "2022-05-31T14:24:10.319Z"
   },
   {
    "duration": 78,
    "start_time": "2022-05-31T14:24:36.520Z"
   },
   {
    "duration": 24,
    "start_time": "2022-05-31T14:26:16.158Z"
   },
   {
    "duration": 3,
    "start_time": "2022-05-31T14:28:21.555Z"
   },
   {
    "duration": 552,
    "start_time": "2022-05-31T14:28:21.563Z"
   },
   {
    "duration": 17,
    "start_time": "2022-05-31T14:28:22.117Z"
   },
   {
    "duration": 11,
    "start_time": "2022-05-31T14:28:22.136Z"
   },
   {
    "duration": 55,
    "start_time": "2022-05-31T14:28:22.149Z"
   },
   {
    "duration": 11,
    "start_time": "2022-05-31T14:28:22.206Z"
   },
   {
    "duration": 316,
    "start_time": "2022-05-31T14:28:22.218Z"
   },
   {
    "duration": 119,
    "start_time": "2022-05-31T14:28:22.536Z"
   },
   {
    "duration": 64,
    "start_time": "2022-05-31T14:28:22.658Z"
   },
   {
    "duration": 37,
    "start_time": "2022-05-31T14:28:22.724Z"
   },
   {
    "duration": 13,
    "start_time": "2022-05-31T14:28:22.763Z"
   },
   {
    "duration": 176,
    "start_time": "2022-05-31T14:28:22.778Z"
   },
   {
    "duration": 39,
    "start_time": "2022-05-31T14:28:22.956Z"
   },
   {
    "duration": 35,
    "start_time": "2022-05-31T14:28:22.996Z"
   },
   {
    "duration": 21,
    "start_time": "2022-05-31T14:28:23.033Z"
   },
   {
    "duration": 6,
    "start_time": "2022-05-31T14:28:23.056Z"
   },
   {
    "duration": 25,
    "start_time": "2022-05-31T14:28:23.063Z"
   },
   {
    "duration": 31,
    "start_time": "2022-05-31T14:28:23.090Z"
   },
   {
    "duration": 33,
    "start_time": "2022-05-31T14:28:23.123Z"
   },
   {
    "duration": 2,
    "start_time": "2022-05-31T14:28:23.158Z"
   },
   {
    "duration": 37,
    "start_time": "2022-05-31T14:28:23.161Z"
   },
   {
    "duration": 12,
    "start_time": "2022-05-31T14:28:23.199Z"
   },
   {
    "duration": 6,
    "start_time": "2022-05-31T14:28:23.212Z"
   },
   {
    "duration": 41,
    "start_time": "2022-05-31T14:28:23.220Z"
   },
   {
    "duration": 181,
    "start_time": "2022-05-31T14:28:23.262Z"
   },
   {
    "duration": 10,
    "start_time": "2022-05-31T14:28:23.451Z"
   },
   {
    "duration": 385,
    "start_time": "2022-05-31T14:28:23.463Z"
   },
   {
    "duration": 3026,
    "start_time": "2022-05-31T14:28:23.852Z"
   },
   {
    "duration": 25,
    "start_time": "2022-05-31T14:28:26.882Z"
   },
   {
    "duration": 16,
    "start_time": "2022-05-31T14:28:26.908Z"
   },
   {
    "duration": 23,
    "start_time": "2022-05-31T14:28:26.951Z"
   },
   {
    "duration": 12,
    "start_time": "2022-05-31T14:28:26.976Z"
   },
   {
    "duration": 3,
    "start_time": "2022-05-31T14:28:26.989Z"
   },
   {
    "duration": 6,
    "start_time": "2022-05-31T14:28:26.994Z"
   },
   {
    "duration": 129,
    "start_time": "2022-05-31T14:28:27.002Z"
   },
   {
    "duration": 4,
    "start_time": "2022-05-31T14:30:14.496Z"
   },
   {
    "duration": 582,
    "start_time": "2022-05-31T14:30:14.504Z"
   },
   {
    "duration": 16,
    "start_time": "2022-05-31T14:30:15.088Z"
   },
   {
    "duration": 24,
    "start_time": "2022-05-31T14:30:15.106Z"
   },
   {
    "duration": 79,
    "start_time": "2022-05-31T14:30:15.132Z"
   },
   {
    "duration": 12,
    "start_time": "2022-05-31T14:30:15.213Z"
   },
   {
    "duration": 381,
    "start_time": "2022-05-31T14:30:15.227Z"
   },
   {
    "duration": 94,
    "start_time": "2022-05-31T14:30:15.610Z"
   },
   {
    "duration": 67,
    "start_time": "2022-05-31T14:30:15.706Z"
   },
   {
    "duration": 24,
    "start_time": "2022-05-31T14:30:15.775Z"
   },
   {
    "duration": 14,
    "start_time": "2022-05-31T14:30:15.803Z"
   },
   {
    "duration": 33,
    "start_time": "2022-05-31T14:30:15.819Z"
   },
   {
    "duration": 176,
    "start_time": "2022-05-31T14:30:15.854Z"
   },
   {
    "duration": 37,
    "start_time": "2022-05-31T14:30:16.032Z"
   },
   {
    "duration": 39,
    "start_time": "2022-05-31T14:30:16.071Z"
   },
   {
    "duration": 9,
    "start_time": "2022-05-31T14:30:16.112Z"
   },
   {
    "duration": 26,
    "start_time": "2022-05-31T14:30:16.123Z"
   },
   {
    "duration": 47,
    "start_time": "2022-05-31T14:30:16.152Z"
   },
   {
    "duration": 34,
    "start_time": "2022-05-31T14:30:16.201Z"
   },
   {
    "duration": 14,
    "start_time": "2022-05-31T14:30:16.236Z"
   },
   {
    "duration": 9,
    "start_time": "2022-05-31T14:30:16.251Z"
   },
   {
    "duration": 55,
    "start_time": "2022-05-31T14:30:16.262Z"
   },
   {
    "duration": 11,
    "start_time": "2022-05-31T14:30:16.319Z"
   },
   {
    "duration": 9,
    "start_time": "2022-05-31T14:30:16.332Z"
   },
   {
    "duration": 30,
    "start_time": "2022-05-31T14:30:16.342Z"
   },
   {
    "duration": 201,
    "start_time": "2022-05-31T14:30:16.374Z"
   },
   {
    "duration": 10,
    "start_time": "2022-05-31T14:30:16.576Z"
   },
   {
    "duration": 375,
    "start_time": "2022-05-31T14:30:16.588Z"
   },
   {
    "duration": 2722,
    "start_time": "2022-05-31T14:30:16.966Z"
   },
   {
    "duration": 26,
    "start_time": "2022-05-31T14:30:19.689Z"
   },
   {
    "duration": 17,
    "start_time": "2022-05-31T14:30:19.716Z"
   },
   {
    "duration": 22,
    "start_time": "2022-05-31T14:30:19.751Z"
   },
   {
    "duration": 14,
    "start_time": "2022-05-31T14:30:19.774Z"
   },
   {
    "duration": 3,
    "start_time": "2022-05-31T14:30:19.789Z"
   },
   {
    "duration": 9,
    "start_time": "2022-05-31T14:30:19.794Z"
   },
   {
    "duration": 118,
    "start_time": "2022-05-31T14:30:19.804Z"
   },
   {
    "duration": 21,
    "start_time": "2022-05-31T14:31:38.104Z"
   },
   {
    "duration": 10,
    "start_time": "2022-05-31T14:32:03.040Z"
   },
   {
    "duration": 26,
    "start_time": "2022-05-31T14:32:05.177Z"
   },
   {
    "duration": 476,
    "start_time": "2022-05-31T14:33:19.727Z"
   },
   {
    "duration": 425,
    "start_time": "2022-05-31T14:33:32.672Z"
   },
   {
    "duration": 15,
    "start_time": "2022-05-31T14:33:49.314Z"
   },
   {
    "duration": 8,
    "start_time": "2022-05-31T14:33:54.586Z"
   },
   {
    "duration": 21,
    "start_time": "2022-05-31T14:34:03.882Z"
   },
   {
    "duration": 55,
    "start_time": "2022-05-31T14:34:24.568Z"
   },
   {
    "duration": 164,
    "start_time": "2022-05-31T14:35:18.706Z"
   },
   {
    "duration": 52,
    "start_time": "2022-05-31T14:35:26.031Z"
   },
   {
    "duration": 3,
    "start_time": "2022-05-31T14:40:02.513Z"
   },
   {
    "duration": 582,
    "start_time": "2022-05-31T14:40:02.521Z"
   },
   {
    "duration": 21,
    "start_time": "2022-05-31T14:40:03.105Z"
   },
   {
    "duration": 7,
    "start_time": "2022-05-31T14:40:03.128Z"
   },
   {
    "duration": 65,
    "start_time": "2022-05-31T14:40:03.137Z"
   },
   {
    "duration": 13,
    "start_time": "2022-05-31T14:40:03.204Z"
   },
   {
    "duration": 340,
    "start_time": "2022-05-31T14:40:03.219Z"
   },
   {
    "duration": 102,
    "start_time": "2022-05-31T14:40:03.561Z"
   },
   {
    "duration": 56,
    "start_time": "2022-05-31T14:40:03.665Z"
   },
   {
    "duration": 42,
    "start_time": "2022-05-31T14:40:03.722Z"
   },
   {
    "duration": 20,
    "start_time": "2022-05-31T14:40:03.768Z"
   },
   {
    "duration": 7,
    "start_time": "2022-05-31T14:40:03.790Z"
   },
   {
    "duration": 202,
    "start_time": "2022-05-31T14:40:03.799Z"
   },
   {
    "duration": 38,
    "start_time": "2022-05-31T14:40:04.003Z"
   },
   {
    "duration": 39,
    "start_time": "2022-05-31T14:40:04.053Z"
   },
   {
    "duration": 9,
    "start_time": "2022-05-31T14:40:04.093Z"
   },
   {
    "duration": 5,
    "start_time": "2022-05-31T14:40:04.104Z"
   },
   {
    "duration": 23,
    "start_time": "2022-05-31T14:40:04.111Z"
   },
   {
    "duration": 9,
    "start_time": "2022-05-31T14:40:04.152Z"
   },
   {
    "duration": 15,
    "start_time": "2022-05-31T14:40:04.164Z"
   },
   {
    "duration": 74,
    "start_time": "2022-05-31T14:40:04.180Z"
   },
   {
    "duration": 33,
    "start_time": "2022-05-31T14:40:04.255Z"
   },
   {
    "duration": 13,
    "start_time": "2022-05-31T14:40:04.289Z"
   },
   {
    "duration": 7,
    "start_time": "2022-05-31T14:40:04.303Z"
   },
   {
    "duration": 52,
    "start_time": "2022-05-31T14:40:04.311Z"
   },
   {
    "duration": 177,
    "start_time": "2022-05-31T14:40:04.365Z"
   },
   {
    "duration": 10,
    "start_time": "2022-05-31T14:40:04.543Z"
   },
   {
    "duration": 274,
    "start_time": "2022-05-31T14:40:04.555Z"
   },
   {
    "duration": 3339,
    "start_time": "2022-05-31T14:40:04.832Z"
   },
   {
    "duration": 92,
    "start_time": "2022-05-31T14:40:08.174Z"
   },
   {
    "duration": 17,
    "start_time": "2022-05-31T14:40:08.269Z"
   },
   {
    "duration": 73,
    "start_time": "2022-05-31T14:40:08.289Z"
   },
   {
    "duration": 15,
    "start_time": "2022-05-31T14:40:08.365Z"
   },
   {
    "duration": 12,
    "start_time": "2022-05-31T14:40:08.382Z"
   },
   {
    "duration": 87,
    "start_time": "2022-05-31T14:40:08.396Z"
   },
   {
    "duration": 194,
    "start_time": "2022-05-31T14:40:08.485Z"
   },
   {
    "duration": 27,
    "start_time": "2022-05-31T14:40:50.493Z"
   },
   {
    "duration": 13,
    "start_time": "2022-05-31T14:53:53.779Z"
   },
   {
    "duration": 41,
    "start_time": "2022-05-31T14:54:45.553Z"
   },
   {
    "duration": 13,
    "start_time": "2022-05-31T14:56:23.379Z"
   },
   {
    "duration": 42,
    "start_time": "2022-05-31T15:00:32.248Z"
   },
   {
    "duration": 31,
    "start_time": "2022-05-31T15:11:51.116Z"
   },
   {
    "duration": 13,
    "start_time": "2022-05-31T15:19:22.897Z"
   },
   {
    "duration": 30,
    "start_time": "2022-05-31T15:24:01.810Z"
   },
   {
    "duration": 23,
    "start_time": "2022-05-31T15:24:14.410Z"
   },
   {
    "duration": 7,
    "start_time": "2022-05-31T15:24:36.468Z"
   },
   {
    "duration": 18,
    "start_time": "2022-05-31T15:26:34.174Z"
   },
   {
    "duration": 6,
    "start_time": "2022-05-31T15:27:00.007Z"
   },
   {
    "duration": 374,
    "start_time": "2022-05-31T15:27:40.980Z"
   },
   {
    "duration": 7,
    "start_time": "2022-05-31T15:27:49.731Z"
   },
   {
    "duration": 6,
    "start_time": "2022-05-31T15:27:58.007Z"
   },
   {
    "duration": 4,
    "start_time": "2022-05-31T15:28:13.291Z"
   },
   {
    "duration": 7,
    "start_time": "2022-05-31T15:28:37.882Z"
   },
   {
    "duration": 6,
    "start_time": "2022-05-31T15:31:57.664Z"
   },
   {
    "duration": 468,
    "start_time": "2022-05-31T15:32:25.045Z"
   },
   {
    "duration": 22,
    "start_time": "2022-05-31T15:32:55.699Z"
   },
   {
    "duration": 7,
    "start_time": "2022-05-31T15:33:39.911Z"
   },
   {
    "duration": 4,
    "start_time": "2022-05-31T15:34:18.853Z"
   },
   {
    "duration": 13,
    "start_time": "2022-05-31T15:34:41.719Z"
   },
   {
    "duration": 5,
    "start_time": "2022-05-31T15:35:21.016Z"
   },
   {
    "duration": 3,
    "start_time": "2022-05-31T15:35:48.121Z"
   },
   {
    "duration": 550,
    "start_time": "2022-05-31T15:35:48.126Z"
   },
   {
    "duration": 18,
    "start_time": "2022-05-31T15:35:48.677Z"
   },
   {
    "duration": 6,
    "start_time": "2022-05-31T15:35:48.697Z"
   },
   {
    "duration": 63,
    "start_time": "2022-05-31T15:35:48.704Z"
   },
   {
    "duration": 13,
    "start_time": "2022-05-31T15:35:48.769Z"
   },
   {
    "duration": 342,
    "start_time": "2022-05-31T15:35:48.784Z"
   },
   {
    "duration": 104,
    "start_time": "2022-05-31T15:35:49.127Z"
   },
   {
    "duration": 72,
    "start_time": "2022-05-31T15:35:49.234Z"
   },
   {
    "duration": 23,
    "start_time": "2022-05-31T15:35:49.308Z"
   },
   {
    "duration": 27,
    "start_time": "2022-05-31T15:35:49.332Z"
   },
   {
    "duration": 8,
    "start_time": "2022-05-31T15:35:49.361Z"
   },
   {
    "duration": 186,
    "start_time": "2022-05-31T15:35:49.370Z"
   },
   {
    "duration": 52,
    "start_time": "2022-05-31T15:35:49.558Z"
   },
   {
    "duration": 41,
    "start_time": "2022-05-31T15:35:49.611Z"
   },
   {
    "duration": 40,
    "start_time": "2022-05-31T15:35:49.654Z"
   },
   {
    "duration": 10,
    "start_time": "2022-05-31T15:35:49.695Z"
   },
   {
    "duration": 4,
    "start_time": "2022-05-31T15:35:49.706Z"
   },
   {
    "duration": 43,
    "start_time": "2022-05-31T15:35:49.712Z"
   },
   {
    "duration": 8,
    "start_time": "2022-05-31T15:35:49.756Z"
   },
   {
    "duration": 16,
    "start_time": "2022-05-31T15:35:49.765Z"
   },
   {
    "duration": 74,
    "start_time": "2022-05-31T15:35:49.782Z"
   },
   {
    "duration": 26,
    "start_time": "2022-05-31T15:35:49.858Z"
   },
   {
    "duration": 12,
    "start_time": "2022-05-31T15:35:49.887Z"
   },
   {
    "duration": 6,
    "start_time": "2022-05-31T15:35:49.901Z"
   },
   {
    "duration": 52,
    "start_time": "2022-05-31T15:35:49.909Z"
   },
   {
    "duration": 196,
    "start_time": "2022-05-31T15:35:49.963Z"
   },
   {
    "duration": 10,
    "start_time": "2022-05-31T15:35:50.161Z"
   },
   {
    "duration": 283,
    "start_time": "2022-05-31T15:35:50.173Z"
   },
   {
    "duration": 3035,
    "start_time": "2022-05-31T15:35:50.458Z"
   },
   {
    "duration": 72,
    "start_time": "2022-05-31T15:35:53.494Z"
   },
   {
    "duration": 5,
    "start_time": "2022-05-31T15:35:53.567Z"
   },
   {
    "duration": 14,
    "start_time": "2022-05-31T15:35:53.574Z"
   },
   {
    "duration": 63,
    "start_time": "2022-05-31T15:35:53.589Z"
   },
   {
    "duration": 21,
    "start_time": "2022-05-31T15:35:53.654Z"
   },
   {
    "duration": 12,
    "start_time": "2022-05-31T15:35:53.676Z"
   },
   {
    "duration": 3,
    "start_time": "2022-05-31T15:35:53.689Z"
   },
   {
    "duration": 58,
    "start_time": "2022-05-31T15:35:53.694Z"
   },
   {
    "duration": 133,
    "start_time": "2022-05-31T15:35:53.754Z"
   },
   {
    "duration": 24,
    "start_time": "2022-05-31T15:36:42.594Z"
   },
   {
    "duration": 9,
    "start_time": "2022-05-31T15:36:57.217Z"
   },
   {
    "duration": 4,
    "start_time": "2022-05-31T15:37:33.680Z"
   },
   {
    "duration": 25,
    "start_time": "2022-05-31T15:38:06.198Z"
   },
   {
    "duration": 4,
    "start_time": "2022-05-31T15:38:08.079Z"
   },
   {
    "duration": 11,
    "start_time": "2022-05-31T15:38:19.171Z"
   },
   {
    "duration": 8,
    "start_time": "2022-05-31T15:38:26.338Z"
   },
   {
    "duration": 11,
    "start_time": "2022-05-31T15:38:50.448Z"
   },
   {
    "duration": 20,
    "start_time": "2022-05-31T15:39:05.099Z"
   },
   {
    "duration": 5,
    "start_time": "2022-05-31T15:39:07.369Z"
   },
   {
    "duration": 6,
    "start_time": "2022-05-31T15:39:18.100Z"
   },
   {
    "duration": 7,
    "start_time": "2022-05-31T15:39:31.941Z"
   },
   {
    "duration": 8,
    "start_time": "2022-05-31T15:39:40.958Z"
   },
   {
    "duration": 18,
    "start_time": "2022-05-31T15:39:59.620Z"
   },
   {
    "duration": 7,
    "start_time": "2022-05-31T15:40:02.116Z"
   },
   {
    "duration": 5,
    "start_time": "2022-05-31T15:40:10.798Z"
   },
   {
    "duration": 4,
    "start_time": "2022-05-31T15:40:19.019Z"
   },
   {
    "duration": 18,
    "start_time": "2022-05-31T15:40:36.444Z"
   },
   {
    "duration": 12,
    "start_time": "2022-05-31T15:40:53.765Z"
   },
   {
    "duration": 20,
    "start_time": "2022-05-31T15:42:24.483Z"
   },
   {
    "duration": 20,
    "start_time": "2022-05-31T15:43:07.792Z"
   },
   {
    "duration": 10,
    "start_time": "2022-05-31T15:43:51.870Z"
   },
   {
    "duration": 1200,
    "start_time": "2022-05-31T15:48:57.221Z"
   },
   {
    "duration": 538,
    "start_time": "2022-05-31T15:48:58.423Z"
   },
   {
    "duration": 20,
    "start_time": "2022-05-31T15:48:58.963Z"
   },
   {
    "duration": 5,
    "start_time": "2022-05-31T15:48:58.984Z"
   },
   {
    "duration": 50,
    "start_time": "2022-05-31T15:48:58.990Z"
   },
   {
    "duration": 13,
    "start_time": "2022-05-31T15:48:59.052Z"
   },
   {
    "duration": 341,
    "start_time": "2022-05-31T15:48:59.067Z"
   },
   {
    "duration": 102,
    "start_time": "2022-05-31T15:48:59.409Z"
   },
   {
    "duration": 75,
    "start_time": "2022-05-31T15:48:59.513Z"
   },
   {
    "duration": 21,
    "start_time": "2022-05-31T15:48:59.590Z"
   },
   {
    "duration": 13,
    "start_time": "2022-05-31T15:48:59.613Z"
   },
   {
    "duration": 24,
    "start_time": "2022-05-31T15:48:59.628Z"
   },
   {
    "duration": 166,
    "start_time": "2022-05-31T15:48:59.653Z"
   },
   {
    "duration": 62,
    "start_time": "2022-05-31T15:48:59.821Z"
   },
   {
    "duration": 24,
    "start_time": "2022-05-31T15:48:59.885Z"
   },
   {
    "duration": 49,
    "start_time": "2022-05-31T15:48:59.911Z"
   },
   {
    "duration": 7,
    "start_time": "2022-05-31T15:48:59.962Z"
   },
   {
    "duration": 7,
    "start_time": "2022-05-31T15:48:59.971Z"
   },
   {
    "duration": 18,
    "start_time": "2022-05-31T15:48:59.980Z"
   },
   {
    "duration": 6,
    "start_time": "2022-05-31T15:49:00.000Z"
   },
   {
    "duration": 27,
    "start_time": "2022-05-31T15:49:00.008Z"
   },
   {
    "duration": 140,
    "start_time": "2022-05-31T15:49:00.036Z"
   },
   {
    "duration": 23,
    "start_time": "2022-05-31T15:49:00.178Z"
   },
   {
    "duration": 11,
    "start_time": "2022-05-31T15:49:00.202Z"
   },
   {
    "duration": 5,
    "start_time": "2022-05-31T15:49:00.215Z"
   },
   {
    "duration": 45,
    "start_time": "2022-05-31T15:49:00.222Z"
   },
   {
    "duration": 174,
    "start_time": "2022-05-31T15:49:00.268Z"
   },
   {
    "duration": 10,
    "start_time": "2022-05-31T15:49:00.451Z"
   },
   {
    "duration": 278,
    "start_time": "2022-05-31T15:49:00.462Z"
   },
   {
    "duration": 2022,
    "start_time": "2022-05-31T15:49:00.741Z"
   },
   {
    "duration": 19,
    "start_time": "2022-05-31T15:49:02.765Z"
   },
   {
    "duration": 149,
    "start_time": "2022-05-31T15:49:02.786Z"
   },
   {
    "duration": 13,
    "start_time": "2022-05-31T15:49:02.937Z"
   },
   {
    "duration": 22,
    "start_time": "2022-05-31T15:49:02.952Z"
   },
   {
    "duration": 13,
    "start_time": "2022-05-31T15:49:02.976Z"
   },
   {
    "duration": 3,
    "start_time": "2022-05-31T15:49:02.990Z"
   },
   {
    "duration": 58,
    "start_time": "2022-05-31T15:49:02.995Z"
   },
   {
    "duration": 80,
    "start_time": "2022-05-31T15:49:03.055Z"
   },
   {
    "duration": 11,
    "start_time": "2022-05-31T15:50:46.916Z"
   },
   {
    "duration": 11,
    "start_time": "2022-05-31T15:51:07.040Z"
   },
   {
    "duration": 7,
    "start_time": "2022-05-31T15:52:49.703Z"
   },
   {
    "duration": 9,
    "start_time": "2022-05-31T15:54:52.425Z"
   },
   {
    "duration": 22,
    "start_time": "2022-05-31T15:56:15.146Z"
   },
   {
    "duration": 11,
    "start_time": "2022-05-31T15:56:20.650Z"
   },
   {
    "duration": 17,
    "start_time": "2022-05-31T16:04:55.604Z"
   },
   {
    "duration": 13,
    "start_time": "2022-05-31T16:04:57.508Z"
   },
   {
    "duration": 19,
    "start_time": "2022-05-31T16:05:54.388Z"
   },
   {
    "duration": 12,
    "start_time": "2022-05-31T16:05:56.118Z"
   },
   {
    "duration": 41,
    "start_time": "2022-05-31T16:07:16.348Z"
   },
   {
    "duration": 1307,
    "start_time": "2022-05-31T16:13:03.263Z"
   },
   {
    "duration": 574,
    "start_time": "2022-05-31T16:13:04.572Z"
   },
   {
    "duration": 31,
    "start_time": "2022-05-31T16:13:05.148Z"
   },
   {
    "duration": 6,
    "start_time": "2022-05-31T16:13:05.182Z"
   },
   {
    "duration": 87,
    "start_time": "2022-05-31T16:13:05.191Z"
   },
   {
    "duration": 14,
    "start_time": "2022-05-31T16:13:05.283Z"
   },
   {
    "duration": 486,
    "start_time": "2022-05-31T16:13:05.299Z"
   },
   {
    "duration": 161,
    "start_time": "2022-05-31T16:13:05.791Z"
   },
   {
    "duration": 81,
    "start_time": "2022-05-31T16:13:05.955Z"
   },
   {
    "duration": 38,
    "start_time": "2022-05-31T16:13:06.039Z"
   },
   {
    "duration": 25,
    "start_time": "2022-05-31T16:13:06.079Z"
   },
   {
    "duration": 30,
    "start_time": "2022-05-31T16:13:06.106Z"
   },
   {
    "duration": 195,
    "start_time": "2022-05-31T16:13:06.138Z"
   },
   {
    "duration": 64,
    "start_time": "2022-05-31T16:13:06.335Z"
   },
   {
    "duration": 26,
    "start_time": "2022-05-31T16:13:06.401Z"
   },
   {
    "duration": 66,
    "start_time": "2022-05-31T16:13:06.429Z"
   },
   {
    "duration": 8,
    "start_time": "2022-05-31T16:13:06.497Z"
   },
   {
    "duration": 7,
    "start_time": "2022-05-31T16:13:06.507Z"
   },
   {
    "duration": 38,
    "start_time": "2022-05-31T16:13:06.515Z"
   },
   {
    "duration": 9,
    "start_time": "2022-05-31T16:13:06.556Z"
   },
   {
    "duration": 18,
    "start_time": "2022-05-31T16:13:06.567Z"
   },
   {
    "duration": 184,
    "start_time": "2022-05-31T16:13:06.587Z"
   },
   {
    "duration": 22,
    "start_time": "2022-05-31T16:13:06.773Z"
   },
   {
    "duration": 11,
    "start_time": "2022-05-31T16:13:06.853Z"
   },
   {
    "duration": 7,
    "start_time": "2022-05-31T16:13:06.866Z"
   },
   {
    "duration": 20,
    "start_time": "2022-05-31T16:13:06.874Z"
   },
   {
    "duration": 437,
    "start_time": "2022-05-31T16:13:06.953Z"
   },
   {
    "duration": 62,
    "start_time": "2022-05-31T16:13:07.395Z"
   },
   {
    "duration": 638,
    "start_time": "2022-05-31T16:13:07.459Z"
   },
   {
    "duration": 2616,
    "start_time": "2022-05-31T16:13:08.153Z"
   },
   {
    "duration": 21,
    "start_time": "2022-05-31T16:13:10.771Z"
   },
   {
    "duration": 146,
    "start_time": "2022-05-31T16:13:10.793Z"
   },
   {
    "duration": 15,
    "start_time": "2022-05-31T16:13:10.941Z"
   },
   {
    "duration": 22,
    "start_time": "2022-05-31T16:13:10.957Z"
   },
   {
    "duration": 12,
    "start_time": "2022-05-31T16:13:10.981Z"
   },
   {
    "duration": 4,
    "start_time": "2022-05-31T16:13:10.994Z"
   },
   {
    "duration": 56,
    "start_time": "2022-05-31T16:13:11.000Z"
   },
   {
    "duration": 125,
    "start_time": "2022-05-31T16:13:11.059Z"
   },
   {
    "duration": 36,
    "start_time": "2022-05-31T16:13:38.639Z"
   },
   {
    "duration": 40,
    "start_time": "2022-06-01T05:16:39.316Z"
   },
   {
    "duration": 73,
    "start_time": "2022-06-01T05:44:44.561Z"
   },
   {
    "duration": 1655,
    "start_time": "2022-06-01T05:44:55.663Z"
   },
   {
    "duration": 905,
    "start_time": "2022-06-01T05:44:57.321Z"
   },
   {
    "duration": 24,
    "start_time": "2022-06-01T05:44:58.227Z"
   },
   {
    "duration": 14,
    "start_time": "2022-06-01T05:44:58.254Z"
   },
   {
    "duration": 62,
    "start_time": "2022-06-01T05:44:58.269Z"
   },
   {
    "duration": 12,
    "start_time": "2022-06-01T05:44:58.332Z"
   },
   {
    "duration": 420,
    "start_time": "2022-06-01T05:44:58.346Z"
   },
   {
    "duration": 141,
    "start_time": "2022-06-01T05:44:58.768Z"
   },
   {
    "duration": 104,
    "start_time": "2022-06-01T05:44:58.911Z"
   },
   {
    "duration": 29,
    "start_time": "2022-06-01T05:44:59.036Z"
   },
   {
    "duration": 16,
    "start_time": "2022-06-01T05:44:59.066Z"
   },
   {
    "duration": 6,
    "start_time": "2022-06-01T05:44:59.085Z"
   },
   {
    "duration": 208,
    "start_time": "2022-06-01T05:44:59.093Z"
   },
   {
    "duration": 65,
    "start_time": "2022-06-01T05:44:59.304Z"
   },
   {
    "duration": 32,
    "start_time": "2022-06-01T05:44:59.371Z"
   },
   {
    "duration": 57,
    "start_time": "2022-06-01T05:44:59.405Z"
   },
   {
    "duration": 9,
    "start_time": "2022-06-01T05:44:59.463Z"
   },
   {
    "duration": 4,
    "start_time": "2022-06-01T05:44:59.474Z"
   },
   {
    "duration": 25,
    "start_time": "2022-06-01T05:44:59.480Z"
   },
   {
    "duration": 20,
    "start_time": "2022-06-01T05:44:59.507Z"
   },
   {
    "duration": 14,
    "start_time": "2022-06-01T05:44:59.529Z"
   },
   {
    "duration": 137,
    "start_time": "2022-06-01T05:44:59.545Z"
   },
   {
    "duration": 23,
    "start_time": "2022-06-01T05:44:59.684Z"
   },
   {
    "duration": 25,
    "start_time": "2022-06-01T05:44:59.709Z"
   },
   {
    "duration": 7,
    "start_time": "2022-06-01T05:44:59.736Z"
   },
   {
    "duration": 34,
    "start_time": "2022-06-01T05:44:59.744Z"
   },
   {
    "duration": 177,
    "start_time": "2022-06-01T05:44:59.780Z"
   },
   {
    "duration": 9,
    "start_time": "2022-06-01T05:44:59.959Z"
   },
   {
    "duration": 270,
    "start_time": "2022-06-01T05:44:59.969Z"
   },
   {
    "duration": 3500,
    "start_time": "2022-06-01T05:45:00.241Z"
   },
   {
    "duration": 20,
    "start_time": "2022-06-01T05:45:03.744Z"
   },
   {
    "duration": 145,
    "start_time": "2022-06-01T05:45:03.765Z"
   },
   {
    "duration": 13,
    "start_time": "2022-06-01T05:45:03.911Z"
   },
   {
    "duration": 25,
    "start_time": "2022-06-01T05:45:03.926Z"
   },
   {
    "duration": 13,
    "start_time": "2022-06-01T05:45:03.952Z"
   },
   {
    "duration": 4,
    "start_time": "2022-06-01T05:45:03.967Z"
   },
   {
    "duration": 62,
    "start_time": "2022-06-01T05:45:03.973Z"
   },
   {
    "duration": 123,
    "start_time": "2022-06-01T05:45:04.037Z"
   },
   {
    "duration": 3,
    "start_time": "2022-06-01T05:47:09.954Z"
   },
   {
    "duration": 633,
    "start_time": "2022-06-01T05:47:09.976Z"
   },
   {
    "duration": 19,
    "start_time": "2022-06-01T05:47:10.611Z"
   },
   {
    "duration": 8,
    "start_time": "2022-06-01T05:47:10.632Z"
   },
   {
    "duration": 59,
    "start_time": "2022-06-01T05:47:10.642Z"
   },
   {
    "duration": 29,
    "start_time": "2022-06-01T05:47:10.702Z"
   },
   {
    "duration": 370,
    "start_time": "2022-06-01T05:47:10.733Z"
   },
   {
    "duration": 100,
    "start_time": "2022-06-01T05:47:11.106Z"
   },
   {
    "duration": 82,
    "start_time": "2022-06-01T05:47:11.208Z"
   },
   {
    "duration": 42,
    "start_time": "2022-06-01T05:47:11.292Z"
   },
   {
    "duration": 14,
    "start_time": "2022-06-01T05:47:11.337Z"
   },
   {
    "duration": 25,
    "start_time": "2022-06-01T05:47:11.353Z"
   },
   {
    "duration": 185,
    "start_time": "2022-06-01T05:47:11.379Z"
   },
   {
    "duration": 46,
    "start_time": "2022-06-01T05:47:11.566Z"
   },
   {
    "duration": 42,
    "start_time": "2022-06-01T05:47:11.614Z"
   },
   {
    "duration": 41,
    "start_time": "2022-06-01T05:47:11.658Z"
   },
   {
    "duration": 28,
    "start_time": "2022-06-01T05:47:11.701Z"
   },
   {
    "duration": 16,
    "start_time": "2022-06-01T05:47:11.730Z"
   },
   {
    "duration": 26,
    "start_time": "2022-06-01T05:47:11.748Z"
   },
   {
    "duration": 7,
    "start_time": "2022-06-01T05:47:11.776Z"
   },
   {
    "duration": 19,
    "start_time": "2022-06-01T05:47:11.785Z"
   },
   {
    "duration": 76,
    "start_time": "2022-06-01T05:47:11.806Z"
   },
   {
    "duration": 47,
    "start_time": "2022-06-01T05:47:11.883Z"
   },
   {
    "duration": 17,
    "start_time": "2022-06-01T05:47:11.933Z"
   },
   {
    "duration": 8,
    "start_time": "2022-06-01T05:47:11.953Z"
   },
   {
    "duration": 22,
    "start_time": "2022-06-01T05:47:11.963Z"
   },
   {
    "duration": 220,
    "start_time": "2022-06-01T05:47:11.988Z"
   },
   {
    "duration": 22,
    "start_time": "2022-06-01T05:47:12.210Z"
   },
   {
    "duration": 267,
    "start_time": "2022-06-01T05:47:12.237Z"
   },
   {
    "duration": 2553,
    "start_time": "2022-06-01T05:47:12.506Z"
   },
   {
    "duration": 77,
    "start_time": "2022-06-01T05:47:15.060Z"
   },
   {
    "duration": 12,
    "start_time": "2022-06-01T05:47:15.139Z"
   },
   {
    "duration": 84,
    "start_time": "2022-06-01T05:47:15.153Z"
   },
   {
    "duration": 40,
    "start_time": "2022-06-01T05:47:15.238Z"
   },
   {
    "duration": 56,
    "start_time": "2022-06-01T05:47:15.279Z"
   },
   {
    "duration": 3,
    "start_time": "2022-06-01T05:47:15.337Z"
   },
   {
    "duration": 12,
    "start_time": "2022-06-01T05:47:15.342Z"
   },
   {
    "duration": 199,
    "start_time": "2022-06-01T05:47:15.356Z"
   },
   {
    "duration": 23,
    "start_time": "2022-06-01T05:49:50.927Z"
   },
   {
    "duration": 679,
    "start_time": "2022-06-01T05:50:02.089Z"
   },
   {
    "duration": 5,
    "start_time": "2022-06-01T05:50:14.754Z"
   },
   {
    "duration": 690,
    "start_time": "2022-06-01T05:50:14.764Z"
   },
   {
    "duration": 21,
    "start_time": "2022-06-01T05:50:15.456Z"
   },
   {
    "duration": 5,
    "start_time": "2022-06-01T05:50:15.479Z"
   },
   {
    "duration": 69,
    "start_time": "2022-06-01T05:50:15.486Z"
   },
   {
    "duration": 17,
    "start_time": "2022-06-01T05:50:15.558Z"
   },
   {
    "duration": 416,
    "start_time": "2022-06-01T05:50:15.577Z"
   },
   {
    "duration": 105,
    "start_time": "2022-06-01T05:50:15.995Z"
   },
   {
    "duration": 84,
    "start_time": "2022-06-01T05:50:16.101Z"
   },
   {
    "duration": 24,
    "start_time": "2022-06-01T05:50:16.186Z"
   },
   {
    "duration": 18,
    "start_time": "2022-06-01T05:50:16.228Z"
   },
   {
    "duration": 15,
    "start_time": "2022-06-01T05:50:16.248Z"
   },
   {
    "duration": 216,
    "start_time": "2022-06-01T05:50:16.265Z"
   },
   {
    "duration": 58,
    "start_time": "2022-06-01T05:50:16.483Z"
   },
   {
    "duration": 22,
    "start_time": "2022-06-01T05:50:16.543Z"
   },
   {
    "duration": 296,
    "start_time": "2022-06-01T05:50:16.567Z"
   },
   {
    "duration": 0,
    "start_time": "2022-06-01T05:50:16.866Z"
   },
   {
    "duration": 0,
    "start_time": "2022-06-01T05:50:16.868Z"
   },
   {
    "duration": 0,
    "start_time": "2022-06-01T05:50:16.869Z"
   },
   {
    "duration": 0,
    "start_time": "2022-06-01T05:50:16.871Z"
   },
   {
    "duration": 0,
    "start_time": "2022-06-01T05:50:16.873Z"
   },
   {
    "duration": 0,
    "start_time": "2022-06-01T05:50:16.875Z"
   },
   {
    "duration": 0,
    "start_time": "2022-06-01T05:50:16.876Z"
   },
   {
    "duration": 0,
    "start_time": "2022-06-01T05:50:16.877Z"
   },
   {
    "duration": 0,
    "start_time": "2022-06-01T05:50:16.878Z"
   },
   {
    "duration": 0,
    "start_time": "2022-06-01T05:50:16.879Z"
   },
   {
    "duration": 0,
    "start_time": "2022-06-01T05:50:16.880Z"
   },
   {
    "duration": 0,
    "start_time": "2022-06-01T05:50:16.881Z"
   },
   {
    "duration": 0,
    "start_time": "2022-06-01T05:50:16.882Z"
   },
   {
    "duration": 0,
    "start_time": "2022-06-01T05:50:16.883Z"
   },
   {
    "duration": 0,
    "start_time": "2022-06-01T05:50:16.884Z"
   },
   {
    "duration": 0,
    "start_time": "2022-06-01T05:50:16.885Z"
   },
   {
    "duration": 0,
    "start_time": "2022-06-01T05:50:16.886Z"
   },
   {
    "duration": 0,
    "start_time": "2022-06-01T05:50:16.887Z"
   },
   {
    "duration": 0,
    "start_time": "2022-06-01T05:50:16.889Z"
   },
   {
    "duration": 0,
    "start_time": "2022-06-01T05:50:16.889Z"
   },
   {
    "duration": 0,
    "start_time": "2022-06-01T05:50:16.891Z"
   },
   {
    "duration": 0,
    "start_time": "2022-06-01T05:50:16.892Z"
   },
   {
    "duration": 21,
    "start_time": "2022-06-01T05:50:42.968Z"
   },
   {
    "duration": 54,
    "start_time": "2022-06-01T05:50:44.640Z"
   },
   {
    "duration": 30,
    "start_time": "2022-06-01T05:51:07.976Z"
   },
   {
    "duration": 7,
    "start_time": "2022-06-01T05:51:08.010Z"
   },
   {
    "duration": 12,
    "start_time": "2022-06-01T05:51:08.019Z"
   },
   {
    "duration": 44,
    "start_time": "2022-06-01T05:51:08.033Z"
   },
   {
    "duration": 7,
    "start_time": "2022-06-01T05:51:08.079Z"
   },
   {
    "duration": 19,
    "start_time": "2022-06-01T05:51:08.088Z"
   },
   {
    "duration": 61,
    "start_time": "2022-06-01T05:51:08.109Z"
   },
   {
    "duration": 25,
    "start_time": "2022-06-01T05:51:08.172Z"
   },
   {
    "duration": 35,
    "start_time": "2022-06-01T05:51:08.199Z"
   },
   {
    "duration": 10,
    "start_time": "2022-06-01T05:51:08.237Z"
   },
   {
    "duration": 29,
    "start_time": "2022-06-01T05:51:08.249Z"
   },
   {
    "duration": 222,
    "start_time": "2022-06-01T05:51:08.279Z"
   },
   {
    "duration": 11,
    "start_time": "2022-06-01T05:51:08.502Z"
   },
   {
    "duration": 399,
    "start_time": "2022-06-01T05:51:08.533Z"
   },
   {
    "duration": 1950,
    "start_time": "2022-06-01T05:51:08.933Z"
   },
   {
    "duration": 22,
    "start_time": "2022-06-01T05:51:10.885Z"
   },
   {
    "duration": 31,
    "start_time": "2022-06-01T05:51:10.908Z"
   },
   {
    "duration": 17,
    "start_time": "2022-06-01T05:51:10.942Z"
   },
   {
    "duration": 28,
    "start_time": "2022-06-01T05:51:10.961Z"
   },
   {
    "duration": 42,
    "start_time": "2022-06-01T05:51:10.991Z"
   },
   {
    "duration": 4,
    "start_time": "2022-06-01T05:51:11.035Z"
   },
   {
    "duration": 10,
    "start_time": "2022-06-01T05:51:11.041Z"
   },
   {
    "duration": 122,
    "start_time": "2022-06-01T05:51:11.053Z"
   },
   {
    "duration": 28,
    "start_time": "2022-06-01T06:05:34.872Z"
   }
  ],
  "kernelspec": {
   "display_name": "Python 3 (ipykernel)",
   "language": "python",
   "name": "python3"
  },
  "language_info": {
   "codemirror_mode": {
    "name": "ipython",
    "version": 3
   },
   "file_extension": ".py",
   "mimetype": "text/x-python",
   "name": "python",
   "nbconvert_exporter": "python",
   "pygments_lexer": "ipython3",
   "version": "3.9.5"
  },
  "toc": {
   "base_numbering": 1,
   "nav_menu": {},
   "number_sections": true,
   "sideBar": true,
   "skip_h1_title": true,
   "title_cell": "Оглавление",
   "title_sidebar": "Contents",
   "toc_cell": true,
   "toc_position": {
    "height": "calc(100% - 180px)",
    "left": "10px",
    "top": "150px",
    "width": "165px"
   },
   "toc_section_display": true,
   "toc_window_display": true
  }
 },
 "nbformat": 4,
 "nbformat_minor": 2
}
