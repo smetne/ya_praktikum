{
 "cells": [
  {
   "cell_type": "markdown",
   "metadata": {},
   "source": [
    "# Исследование рынка компьютерных игр"
   ]
  },
  {
   "cell_type": "markdown",
   "metadata": {},
   "source": [
    "## Изучение данных датафрейма"
   ]
  },
  {
   "cell_type": "code",
   "execution_count": 1,
   "metadata": {},
   "outputs": [],
   "source": [
    "import pandas as pd\n",
    "import numpy as np\n",
    "from scipy import stats as st\n",
    "import matplotlib.pyplot as plt\n",
    "import seaborn as sns"
   ]
  },
  {
   "cell_type": "markdown",
   "metadata": {},
   "source": [
    "Откроем файл с данными и изучим общую информацию."
   ]
  },
  {
   "cell_type": "code",
   "execution_count": 2,
   "metadata": {},
   "outputs": [],
   "source": [
    "data = pd.read_csv('games.csv')"
   ]
  },
  {
   "cell_type": "code",
   "execution_count": 3,
   "metadata": {},
   "outputs": [
    {
     "name": "stdout",
     "output_type": "stream",
     "text": [
      "<class 'pandas.core.frame.DataFrame'>\n",
      "RangeIndex: 16715 entries, 0 to 16714\n",
      "Data columns (total 11 columns):\n",
      " #   Column           Non-Null Count  Dtype  \n",
      "---  ------           --------------  -----  \n",
      " 0   Name             16713 non-null  object \n",
      " 1   Platform         16715 non-null  object \n",
      " 2   Year_of_Release  16446 non-null  float64\n",
      " 3   Genre            16713 non-null  object \n",
      " 4   NA_sales         16715 non-null  float64\n",
      " 5   EU_sales         16715 non-null  float64\n",
      " 6   JP_sales         16715 non-null  float64\n",
      " 7   Other_sales      16715 non-null  float64\n",
      " 8   Critic_Score     8137 non-null   float64\n",
      " 9   User_Score       10014 non-null  object \n",
      " 10  Rating           9949 non-null   object \n",
      "dtypes: float64(6), object(5)\n",
      "memory usage: 1.4+ MB\n"
     ]
    }
   ],
   "source": [
    "data.info()"
   ]
  },
  {
   "cell_type": "markdown",
   "metadata": {},
   "source": [
    "Датафрейм содержит 11 столбцов и 16 715 строк. В столбцах Name, Year_of_Release, Genre, Critic_Score, User_Score и Rating наблюдаются пропуски, их следует, по возможности, обработать."
   ]
  },
  {
   "cell_type": "code",
   "execution_count": 4,
   "metadata": {
    "scrolled": true
   },
   "outputs": [
    {
     "data": {
      "text/html": [
       "<div>\n",
       "<style scoped>\n",
       "    .dataframe tbody tr th:only-of-type {\n",
       "        vertical-align: middle;\n",
       "    }\n",
       "\n",
       "    .dataframe tbody tr th {\n",
       "        vertical-align: top;\n",
       "    }\n",
       "\n",
       "    .dataframe thead th {\n",
       "        text-align: right;\n",
       "    }\n",
       "</style>\n",
       "<table border=\"1\" class=\"dataframe\">\n",
       "  <thead>\n",
       "    <tr style=\"text-align: right;\">\n",
       "      <th></th>\n",
       "      <th>Name</th>\n",
       "      <th>Platform</th>\n",
       "      <th>Year_of_Release</th>\n",
       "      <th>Genre</th>\n",
       "      <th>NA_sales</th>\n",
       "      <th>EU_sales</th>\n",
       "      <th>JP_sales</th>\n",
       "      <th>Other_sales</th>\n",
       "      <th>Critic_Score</th>\n",
       "      <th>User_Score</th>\n",
       "      <th>Rating</th>\n",
       "    </tr>\n",
       "  </thead>\n",
       "  <tbody>\n",
       "    <tr>\n",
       "      <th>12867</th>\n",
       "      <td>Alvin and the Chipmunks</td>\n",
       "      <td>Wii</td>\n",
       "      <td>2007.0</td>\n",
       "      <td>Misc</td>\n",
       "      <td>0.05</td>\n",
       "      <td>0.00</td>\n",
       "      <td>0.00</td>\n",
       "      <td>0.00</td>\n",
       "      <td>30.0</td>\n",
       "      <td>3.6</td>\n",
       "      <td>E</td>\n",
       "    </tr>\n",
       "    <tr>\n",
       "      <th>13527</th>\n",
       "      <td>Virtua Tennis 3</td>\n",
       "      <td>X360</td>\n",
       "      <td>2007.0</td>\n",
       "      <td>Sports</td>\n",
       "      <td>0.03</td>\n",
       "      <td>0.01</td>\n",
       "      <td>0.00</td>\n",
       "      <td>0.00</td>\n",
       "      <td>80.0</td>\n",
       "      <td>6.8</td>\n",
       "      <td>E</td>\n",
       "    </tr>\n",
       "    <tr>\n",
       "      <th>6881</th>\n",
       "      <td>4x4 EVO 2</td>\n",
       "      <td>XB</td>\n",
       "      <td>2001.0</td>\n",
       "      <td>Racing</td>\n",
       "      <td>0.18</td>\n",
       "      <td>0.05</td>\n",
       "      <td>0.00</td>\n",
       "      <td>0.01</td>\n",
       "      <td>59.0</td>\n",
       "      <td>6.2</td>\n",
       "      <td>E</td>\n",
       "    </tr>\n",
       "    <tr>\n",
       "      <th>5888</th>\n",
       "      <td>Army Men: Air Attack 2</td>\n",
       "      <td>PS</td>\n",
       "      <td>2000.0</td>\n",
       "      <td>Action</td>\n",
       "      <td>0.17</td>\n",
       "      <td>0.11</td>\n",
       "      <td>0.00</td>\n",
       "      <td>0.02</td>\n",
       "      <td>74.0</td>\n",
       "      <td>5.3</td>\n",
       "      <td>T</td>\n",
       "    </tr>\n",
       "    <tr>\n",
       "      <th>8115</th>\n",
       "      <td>F1 Challenge</td>\n",
       "      <td>SAT</td>\n",
       "      <td>1994.0</td>\n",
       "      <td>Racing</td>\n",
       "      <td>0.00</td>\n",
       "      <td>0.00</td>\n",
       "      <td>0.18</td>\n",
       "      <td>0.00</td>\n",
       "      <td>NaN</td>\n",
       "      <td>NaN</td>\n",
       "      <td>NaN</td>\n",
       "    </tr>\n",
       "  </tbody>\n",
       "</table>\n",
       "</div>"
      ],
      "text/plain": [
       "                          Name Platform  Year_of_Release   Genre  NA_sales  \\\n",
       "12867  Alvin and the Chipmunks      Wii           2007.0    Misc      0.05   \n",
       "13527          Virtua Tennis 3     X360           2007.0  Sports      0.03   \n",
       "6881                 4x4 EVO 2       XB           2001.0  Racing      0.18   \n",
       "5888    Army Men: Air Attack 2       PS           2000.0  Action      0.17   \n",
       "8115              F1 Challenge      SAT           1994.0  Racing      0.00   \n",
       "\n",
       "       EU_sales  JP_sales  Other_sales  Critic_Score User_Score Rating  \n",
       "12867      0.00      0.00         0.00          30.0        3.6      E  \n",
       "13527      0.01      0.00         0.00          80.0        6.8      E  \n",
       "6881       0.05      0.00         0.01          59.0        6.2      E  \n",
       "5888       0.11      0.00         0.02          74.0        5.3      T  \n",
       "8115       0.00      0.18         0.00           NaN        NaN    NaN  "
      ]
     },
     "execution_count": 4,
     "metadata": {},
     "output_type": "execute_result"
    }
   ],
   "source": [
    "data.sample(5)"
   ]
  },
  {
   "cell_type": "markdown",
   "metadata": {},
   "source": [
    "На первый взгляд следует привести к нижнему регистру наименования столбцов, данные в столбце с годом релиза привести к соответсвующему типу данных, разобраться с пропусками и поискать дубликаты."
   ]
  },
  {
   "cell_type": "markdown",
   "metadata": {},
   "source": [
    "## Подготовка данных"
   ]
  },
  {
   "cell_type": "markdown",
   "metadata": {},
   "source": [
    "### Обработка пропусков и замена типов данных"
   ]
  },
  {
   "cell_type": "markdown",
   "metadata": {},
   "source": [
    "Приведем к нижнему регистру наименования столбцов"
   ]
  },
  {
   "cell_type": "code",
   "execution_count": 5,
   "metadata": {},
   "outputs": [],
   "source": [
    "data.columns = data.columns.str.lower()"
   ]
  },
  {
   "cell_type": "markdown",
   "metadata": {},
   "source": [
    "Посмотрим, где и в каком кол-ве есть пропуски"
   ]
  },
  {
   "cell_type": "code",
   "execution_count": 6,
   "metadata": {
    "scrolled": true
   },
   "outputs": [
    {
     "data": {
      "text/plain": [
       "name                  2\n",
       "platform              0\n",
       "year_of_release     269\n",
       "genre                 2\n",
       "na_sales              0\n",
       "eu_sales              0\n",
       "jp_sales              0\n",
       "other_sales           0\n",
       "critic_score       8578\n",
       "user_score         6701\n",
       "rating             6766\n",
       "dtype: int64"
      ]
     },
     "execution_count": 6,
     "metadata": {},
     "output_type": "execute_result"
    }
   ],
   "source": [
    "data.isna().sum()"
   ]
  },
  {
   "cell_type": "code",
   "execution_count": 7,
   "metadata": {},
   "outputs": [
    {
     "data": {
      "text/html": [
       "<div>\n",
       "<style scoped>\n",
       "    .dataframe tbody tr th:only-of-type {\n",
       "        vertical-align: middle;\n",
       "    }\n",
       "\n",
       "    .dataframe tbody tr th {\n",
       "        vertical-align: top;\n",
       "    }\n",
       "\n",
       "    .dataframe thead th {\n",
       "        text-align: right;\n",
       "    }\n",
       "</style>\n",
       "<table border=\"1\" class=\"dataframe\">\n",
       "  <thead>\n",
       "    <tr style=\"text-align: right;\">\n",
       "      <th></th>\n",
       "      <th>name</th>\n",
       "      <th>platform</th>\n",
       "      <th>year_of_release</th>\n",
       "      <th>genre</th>\n",
       "      <th>na_sales</th>\n",
       "      <th>eu_sales</th>\n",
       "      <th>jp_sales</th>\n",
       "      <th>other_sales</th>\n",
       "      <th>critic_score</th>\n",
       "      <th>user_score</th>\n",
       "      <th>rating</th>\n",
       "    </tr>\n",
       "  </thead>\n",
       "  <tbody>\n",
       "    <tr>\n",
       "      <th>659</th>\n",
       "      <td>NaN</td>\n",
       "      <td>GEN</td>\n",
       "      <td>1993.0</td>\n",
       "      <td>NaN</td>\n",
       "      <td>1.78</td>\n",
       "      <td>0.53</td>\n",
       "      <td>0.00</td>\n",
       "      <td>0.08</td>\n",
       "      <td>NaN</td>\n",
       "      <td>NaN</td>\n",
       "      <td>NaN</td>\n",
       "    </tr>\n",
       "    <tr>\n",
       "      <th>14244</th>\n",
       "      <td>NaN</td>\n",
       "      <td>GEN</td>\n",
       "      <td>1993.0</td>\n",
       "      <td>NaN</td>\n",
       "      <td>0.00</td>\n",
       "      <td>0.00</td>\n",
       "      <td>0.03</td>\n",
       "      <td>0.00</td>\n",
       "      <td>NaN</td>\n",
       "      <td>NaN</td>\n",
       "      <td>NaN</td>\n",
       "    </tr>\n",
       "  </tbody>\n",
       "</table>\n",
       "</div>"
      ],
      "text/plain": [
       "      name platform  year_of_release genre  na_sales  eu_sales  jp_sales  \\\n",
       "659    NaN      GEN           1993.0   NaN      1.78      0.53      0.00   \n",
       "14244  NaN      GEN           1993.0   NaN      0.00      0.00      0.03   \n",
       "\n",
       "       other_sales  critic_score user_score rating  \n",
       "659           0.08           NaN        NaN    NaN  \n",
       "14244         0.00           NaN        NaN    NaN  "
      ]
     },
     "execution_count": 7,
     "metadata": {},
     "output_type": "execute_result"
    }
   ],
   "source": [
    "data[data['name'].isna()]"
   ]
  },
  {
   "cell_type": "markdown",
   "metadata": {},
   "source": [
    "Пропуски в имени и жанре у двух древних игр, можно смело удалять, данные по ним очень скудные и не повлияют на исследование."
   ]
  },
  {
   "cell_type": "code",
   "execution_count": 8,
   "metadata": {},
   "outputs": [],
   "source": [
    "data.dropna(subset = ['name'], inplace = True)"
   ]
  },
  {
   "cell_type": "markdown",
   "metadata": {},
   "source": [
    "Посмотрим на пропуски в годах релиза"
   ]
  },
  {
   "cell_type": "code",
   "execution_count": 9,
   "metadata": {
    "scrolled": true
   },
   "outputs": [
    {
     "data": {
      "text/html": [
       "<div>\n",
       "<style scoped>\n",
       "    .dataframe tbody tr th:only-of-type {\n",
       "        vertical-align: middle;\n",
       "    }\n",
       "\n",
       "    .dataframe tbody tr th {\n",
       "        vertical-align: top;\n",
       "    }\n",
       "\n",
       "    .dataframe thead th {\n",
       "        text-align: right;\n",
       "    }\n",
       "</style>\n",
       "<table border=\"1\" class=\"dataframe\">\n",
       "  <thead>\n",
       "    <tr style=\"text-align: right;\">\n",
       "      <th></th>\n",
       "      <th>name</th>\n",
       "      <th>platform</th>\n",
       "      <th>year_of_release</th>\n",
       "      <th>genre</th>\n",
       "      <th>na_sales</th>\n",
       "      <th>eu_sales</th>\n",
       "      <th>jp_sales</th>\n",
       "      <th>other_sales</th>\n",
       "      <th>critic_score</th>\n",
       "      <th>user_score</th>\n",
       "      <th>rating</th>\n",
       "    </tr>\n",
       "  </thead>\n",
       "  <tbody>\n",
       "    <tr>\n",
       "      <th>183</th>\n",
       "      <td>Madden NFL 2004</td>\n",
       "      <td>PS2</td>\n",
       "      <td>NaN</td>\n",
       "      <td>Sports</td>\n",
       "      <td>4.26</td>\n",
       "      <td>0.26</td>\n",
       "      <td>0.01</td>\n",
       "      <td>0.71</td>\n",
       "      <td>94.0</td>\n",
       "      <td>8.5</td>\n",
       "      <td>E</td>\n",
       "    </tr>\n",
       "    <tr>\n",
       "      <th>377</th>\n",
       "      <td>FIFA Soccer 2004</td>\n",
       "      <td>PS2</td>\n",
       "      <td>NaN</td>\n",
       "      <td>Sports</td>\n",
       "      <td>0.59</td>\n",
       "      <td>2.36</td>\n",
       "      <td>0.04</td>\n",
       "      <td>0.51</td>\n",
       "      <td>84.0</td>\n",
       "      <td>6.4</td>\n",
       "      <td>E</td>\n",
       "    </tr>\n",
       "    <tr>\n",
       "      <th>456</th>\n",
       "      <td>LEGO Batman: The Videogame</td>\n",
       "      <td>Wii</td>\n",
       "      <td>NaN</td>\n",
       "      <td>Action</td>\n",
       "      <td>1.80</td>\n",
       "      <td>0.97</td>\n",
       "      <td>0.00</td>\n",
       "      <td>0.29</td>\n",
       "      <td>74.0</td>\n",
       "      <td>7.9</td>\n",
       "      <td>E10+</td>\n",
       "    </tr>\n",
       "    <tr>\n",
       "      <th>475</th>\n",
       "      <td>wwe Smackdown vs. Raw 2006</td>\n",
       "      <td>PS2</td>\n",
       "      <td>NaN</td>\n",
       "      <td>Fighting</td>\n",
       "      <td>1.57</td>\n",
       "      <td>1.02</td>\n",
       "      <td>0.00</td>\n",
       "      <td>0.41</td>\n",
       "      <td>NaN</td>\n",
       "      <td>NaN</td>\n",
       "      <td>NaN</td>\n",
       "    </tr>\n",
       "    <tr>\n",
       "      <th>609</th>\n",
       "      <td>Space Invaders</td>\n",
       "      <td>2600</td>\n",
       "      <td>NaN</td>\n",
       "      <td>Shooter</td>\n",
       "      <td>2.36</td>\n",
       "      <td>0.14</td>\n",
       "      <td>0.00</td>\n",
       "      <td>0.03</td>\n",
       "      <td>NaN</td>\n",
       "      <td>NaN</td>\n",
       "      <td>NaN</td>\n",
       "    </tr>\n",
       "    <tr>\n",
       "      <th>...</th>\n",
       "      <td>...</td>\n",
       "      <td>...</td>\n",
       "      <td>...</td>\n",
       "      <td>...</td>\n",
       "      <td>...</td>\n",
       "      <td>...</td>\n",
       "      <td>...</td>\n",
       "      <td>...</td>\n",
       "      <td>...</td>\n",
       "      <td>...</td>\n",
       "      <td>...</td>\n",
       "    </tr>\n",
       "    <tr>\n",
       "      <th>16373</th>\n",
       "      <td>PDC World Championship Darts 2008</td>\n",
       "      <td>PSP</td>\n",
       "      <td>NaN</td>\n",
       "      <td>Sports</td>\n",
       "      <td>0.01</td>\n",
       "      <td>0.00</td>\n",
       "      <td>0.00</td>\n",
       "      <td>0.00</td>\n",
       "      <td>43.0</td>\n",
       "      <td>tbd</td>\n",
       "      <td>E10+</td>\n",
       "    </tr>\n",
       "    <tr>\n",
       "      <th>16405</th>\n",
       "      <td>Freaky Flyers</td>\n",
       "      <td>GC</td>\n",
       "      <td>NaN</td>\n",
       "      <td>Racing</td>\n",
       "      <td>0.01</td>\n",
       "      <td>0.00</td>\n",
       "      <td>0.00</td>\n",
       "      <td>0.00</td>\n",
       "      <td>69.0</td>\n",
       "      <td>6.5</td>\n",
       "      <td>T</td>\n",
       "    </tr>\n",
       "    <tr>\n",
       "      <th>16448</th>\n",
       "      <td>Inversion</td>\n",
       "      <td>PC</td>\n",
       "      <td>NaN</td>\n",
       "      <td>Shooter</td>\n",
       "      <td>0.01</td>\n",
       "      <td>0.00</td>\n",
       "      <td>0.00</td>\n",
       "      <td>0.00</td>\n",
       "      <td>59.0</td>\n",
       "      <td>6.7</td>\n",
       "      <td>M</td>\n",
       "    </tr>\n",
       "    <tr>\n",
       "      <th>16458</th>\n",
       "      <td>Hakuouki: Shinsengumi Kitan</td>\n",
       "      <td>PS3</td>\n",
       "      <td>NaN</td>\n",
       "      <td>Adventure</td>\n",
       "      <td>0.01</td>\n",
       "      <td>0.00</td>\n",
       "      <td>0.00</td>\n",
       "      <td>0.00</td>\n",
       "      <td>NaN</td>\n",
       "      <td>NaN</td>\n",
       "      <td>NaN</td>\n",
       "    </tr>\n",
       "    <tr>\n",
       "      <th>16522</th>\n",
       "      <td>Virtua Quest</td>\n",
       "      <td>GC</td>\n",
       "      <td>NaN</td>\n",
       "      <td>Role-Playing</td>\n",
       "      <td>0.01</td>\n",
       "      <td>0.00</td>\n",
       "      <td>0.00</td>\n",
       "      <td>0.00</td>\n",
       "      <td>55.0</td>\n",
       "      <td>5.5</td>\n",
       "      <td>T</td>\n",
       "    </tr>\n",
       "  </tbody>\n",
       "</table>\n",
       "<p>269 rows × 11 columns</p>\n",
       "</div>"
      ],
      "text/plain": [
       "                                    name platform  year_of_release  \\\n",
       "183                      Madden NFL 2004      PS2              NaN   \n",
       "377                     FIFA Soccer 2004      PS2              NaN   \n",
       "456           LEGO Batman: The Videogame      Wii              NaN   \n",
       "475           wwe Smackdown vs. Raw 2006      PS2              NaN   \n",
       "609                       Space Invaders     2600              NaN   \n",
       "...                                  ...      ...              ...   \n",
       "16373  PDC World Championship Darts 2008      PSP              NaN   \n",
       "16405                      Freaky Flyers       GC              NaN   \n",
       "16448                          Inversion       PC              NaN   \n",
       "16458        Hakuouki: Shinsengumi Kitan      PS3              NaN   \n",
       "16522                       Virtua Quest       GC              NaN   \n",
       "\n",
       "              genre  na_sales  eu_sales  jp_sales  other_sales  critic_score  \\\n",
       "183          Sports      4.26      0.26      0.01         0.71          94.0   \n",
       "377          Sports      0.59      2.36      0.04         0.51          84.0   \n",
       "456          Action      1.80      0.97      0.00         0.29          74.0   \n",
       "475        Fighting      1.57      1.02      0.00         0.41           NaN   \n",
       "609         Shooter      2.36      0.14      0.00         0.03           NaN   \n",
       "...             ...       ...       ...       ...          ...           ...   \n",
       "16373        Sports      0.01      0.00      0.00         0.00          43.0   \n",
       "16405        Racing      0.01      0.00      0.00         0.00          69.0   \n",
       "16448       Shooter      0.01      0.00      0.00         0.00          59.0   \n",
       "16458     Adventure      0.01      0.00      0.00         0.00           NaN   \n",
       "16522  Role-Playing      0.01      0.00      0.00         0.00          55.0   \n",
       "\n",
       "      user_score rating  \n",
       "183          8.5      E  \n",
       "377          6.4      E  \n",
       "456          7.9   E10+  \n",
       "475          NaN    NaN  \n",
       "609          NaN    NaN  \n",
       "...          ...    ...  \n",
       "16373        tbd   E10+  \n",
       "16405        6.5      T  \n",
       "16448        6.7      M  \n",
       "16458        NaN    NaN  \n",
       "16522        5.5      T  \n",
       "\n",
       "[269 rows x 11 columns]"
      ]
     },
     "execution_count": 9,
     "metadata": {},
     "output_type": "execute_result"
    }
   ],
   "source": [
    "data[data['year_of_release'].isna()]"
   ]
  },
  {
   "cell_type": "markdown",
   "metadata": {},
   "source": [
    "269 пропусков, меньше 10% от всего датафрейма, попробуем удалить."
   ]
  },
  {
   "cell_type": "code",
   "execution_count": 10,
   "metadata": {},
   "outputs": [],
   "source": [
    "data.dropna(subset = ['year_of_release'], inplace = True)"
   ]
  },
  {
   "cell_type": "markdown",
   "metadata": {},
   "source": [
    "Заменим тип данных в годах релиза"
   ]
  },
  {
   "cell_type": "code",
   "execution_count": 11,
   "metadata": {
    "scrolled": true
   },
   "outputs": [],
   "source": [
    "data['year_of_release'] = data['year_of_release'].astype('int64')"
   ]
  },
  {
   "cell_type": "markdown",
   "metadata": {},
   "source": [
    "Обратим внимание на значение 'tbd' в столбце с оценкой пользователей. Поиск в интренете говорит, что это значит \"Подлежит определению\", т.е. оценка еще не определена. Фактически, это то же самое, что и NaN, поэтому tbd можно заменить на NaN."
   ]
  },
  {
   "cell_type": "code",
   "execution_count": 12,
   "metadata": {},
   "outputs": [],
   "source": [
    "data['user_score'] = data['user_score'].replace('tbd', np.nan)\n",
    "data['user_score'] = data['user_score'].astype('float64')"
   ]
  },
  {
   "cell_type": "markdown",
   "metadata": {},
   "source": [
    "Пропуски в оценке критиков, пользователей и рейтинге"
   ]
  },
  {
   "cell_type": "code",
   "execution_count": 13,
   "metadata": {},
   "outputs": [
    {
     "name": "stdout",
     "output_type": "stream",
     "text": [
      "У 8461 строки датафрейма отсутствует значение в столбце с оценкой критиков.\n",
      "У 8981 строки датафрейма отсутствует значение в столбце с оценкой пользователей.\n",
      "У 6676 строк датафрейма отсутствует значение в столбце с рейтингом.\n"
     ]
    }
   ],
   "source": [
    "print(f'У {data[\"critic_score\"].isna().sum()} строки датафрейма отсутствует значение в столбце с оценкой критиков.')\n",
    "print(f'У {data[\"user_score\"].isna().sum()} строки датафрейма отсутствует значение в столбце с оценкой пользователей.')\n",
    "print(f'У {data[\"rating\"].isna().sum()} строк датафрейма отсутствует значение в столбце с рейтингом.')"
   ]
  },
  {
   "cell_type": "code",
   "execution_count": 14,
   "metadata": {},
   "outputs": [
    {
     "data": {
      "text/html": [
       "<div>\n",
       "<style scoped>\n",
       "    .dataframe tbody tr th:only-of-type {\n",
       "        vertical-align: middle;\n",
       "    }\n",
       "\n",
       "    .dataframe tbody tr th {\n",
       "        vertical-align: top;\n",
       "    }\n",
       "\n",
       "    .dataframe thead th {\n",
       "        text-align: right;\n",
       "    }\n",
       "</style>\n",
       "<table border=\"1\" class=\"dataframe\">\n",
       "  <thead>\n",
       "    <tr style=\"text-align: right;\">\n",
       "      <th></th>\n",
       "      <th>name</th>\n",
       "      <th>platform</th>\n",
       "      <th>year_of_release</th>\n",
       "      <th>genre</th>\n",
       "      <th>na_sales</th>\n",
       "      <th>eu_sales</th>\n",
       "      <th>jp_sales</th>\n",
       "      <th>other_sales</th>\n",
       "      <th>critic_score</th>\n",
       "      <th>user_score</th>\n",
       "      <th>rating</th>\n",
       "    </tr>\n",
       "  </thead>\n",
       "  <tbody>\n",
       "    <tr>\n",
       "      <th>1</th>\n",
       "      <td>Super Mario Bros.</td>\n",
       "      <td>NES</td>\n",
       "      <td>1985</td>\n",
       "      <td>Platform</td>\n",
       "      <td>29.08</td>\n",
       "      <td>3.58</td>\n",
       "      <td>6.81</td>\n",
       "      <td>0.77</td>\n",
       "      <td>NaN</td>\n",
       "      <td>NaN</td>\n",
       "      <td>NaN</td>\n",
       "    </tr>\n",
       "    <tr>\n",
       "      <th>4</th>\n",
       "      <td>Pokemon Red/Pokemon Blue</td>\n",
       "      <td>GB</td>\n",
       "      <td>1996</td>\n",
       "      <td>Role-Playing</td>\n",
       "      <td>11.27</td>\n",
       "      <td>8.89</td>\n",
       "      <td>10.22</td>\n",
       "      <td>1.00</td>\n",
       "      <td>NaN</td>\n",
       "      <td>NaN</td>\n",
       "      <td>NaN</td>\n",
       "    </tr>\n",
       "    <tr>\n",
       "      <th>5</th>\n",
       "      <td>Tetris</td>\n",
       "      <td>GB</td>\n",
       "      <td>1989</td>\n",
       "      <td>Puzzle</td>\n",
       "      <td>23.20</td>\n",
       "      <td>2.26</td>\n",
       "      <td>4.22</td>\n",
       "      <td>0.58</td>\n",
       "      <td>NaN</td>\n",
       "      <td>NaN</td>\n",
       "      <td>NaN</td>\n",
       "    </tr>\n",
       "    <tr>\n",
       "      <th>9</th>\n",
       "      <td>Duck Hunt</td>\n",
       "      <td>NES</td>\n",
       "      <td>1984</td>\n",
       "      <td>Shooter</td>\n",
       "      <td>26.93</td>\n",
       "      <td>0.63</td>\n",
       "      <td>0.28</td>\n",
       "      <td>0.47</td>\n",
       "      <td>NaN</td>\n",
       "      <td>NaN</td>\n",
       "      <td>NaN</td>\n",
       "    </tr>\n",
       "    <tr>\n",
       "      <th>10</th>\n",
       "      <td>Nintendogs</td>\n",
       "      <td>DS</td>\n",
       "      <td>2005</td>\n",
       "      <td>Simulation</td>\n",
       "      <td>9.05</td>\n",
       "      <td>10.95</td>\n",
       "      <td>1.93</td>\n",
       "      <td>2.74</td>\n",
       "      <td>NaN</td>\n",
       "      <td>NaN</td>\n",
       "      <td>NaN</td>\n",
       "    </tr>\n",
       "    <tr>\n",
       "      <th>...</th>\n",
       "      <td>...</td>\n",
       "      <td>...</td>\n",
       "      <td>...</td>\n",
       "      <td>...</td>\n",
       "      <td>...</td>\n",
       "      <td>...</td>\n",
       "      <td>...</td>\n",
       "      <td>...</td>\n",
       "      <td>...</td>\n",
       "      <td>...</td>\n",
       "      <td>...</td>\n",
       "    </tr>\n",
       "    <tr>\n",
       "      <th>16710</th>\n",
       "      <td>Samurai Warriors: Sanada Maru</td>\n",
       "      <td>PS3</td>\n",
       "      <td>2016</td>\n",
       "      <td>Action</td>\n",
       "      <td>0.00</td>\n",
       "      <td>0.00</td>\n",
       "      <td>0.01</td>\n",
       "      <td>0.00</td>\n",
       "      <td>NaN</td>\n",
       "      <td>NaN</td>\n",
       "      <td>NaN</td>\n",
       "    </tr>\n",
       "    <tr>\n",
       "      <th>16711</th>\n",
       "      <td>LMA Manager 2007</td>\n",
       "      <td>X360</td>\n",
       "      <td>2006</td>\n",
       "      <td>Sports</td>\n",
       "      <td>0.00</td>\n",
       "      <td>0.01</td>\n",
       "      <td>0.00</td>\n",
       "      <td>0.00</td>\n",
       "      <td>NaN</td>\n",
       "      <td>NaN</td>\n",
       "      <td>NaN</td>\n",
       "    </tr>\n",
       "    <tr>\n",
       "      <th>16712</th>\n",
       "      <td>Haitaka no Psychedelica</td>\n",
       "      <td>PSV</td>\n",
       "      <td>2016</td>\n",
       "      <td>Adventure</td>\n",
       "      <td>0.00</td>\n",
       "      <td>0.00</td>\n",
       "      <td>0.01</td>\n",
       "      <td>0.00</td>\n",
       "      <td>NaN</td>\n",
       "      <td>NaN</td>\n",
       "      <td>NaN</td>\n",
       "    </tr>\n",
       "    <tr>\n",
       "      <th>16713</th>\n",
       "      <td>Spirits &amp; Spells</td>\n",
       "      <td>GBA</td>\n",
       "      <td>2003</td>\n",
       "      <td>Platform</td>\n",
       "      <td>0.01</td>\n",
       "      <td>0.00</td>\n",
       "      <td>0.00</td>\n",
       "      <td>0.00</td>\n",
       "      <td>NaN</td>\n",
       "      <td>NaN</td>\n",
       "      <td>NaN</td>\n",
       "    </tr>\n",
       "    <tr>\n",
       "      <th>16714</th>\n",
       "      <td>Winning Post 8 2016</td>\n",
       "      <td>PSV</td>\n",
       "      <td>2016</td>\n",
       "      <td>Simulation</td>\n",
       "      <td>0.00</td>\n",
       "      <td>0.00</td>\n",
       "      <td>0.01</td>\n",
       "      <td>0.00</td>\n",
       "      <td>NaN</td>\n",
       "      <td>NaN</td>\n",
       "      <td>NaN</td>\n",
       "    </tr>\n",
       "  </tbody>\n",
       "</table>\n",
       "<p>6580 rows × 11 columns</p>\n",
       "</div>"
      ],
      "text/plain": [
       "                                name platform  year_of_release         genre  \\\n",
       "1                  Super Mario Bros.      NES             1985      Platform   \n",
       "4           Pokemon Red/Pokemon Blue       GB             1996  Role-Playing   \n",
       "5                             Tetris       GB             1989        Puzzle   \n",
       "9                          Duck Hunt      NES             1984       Shooter   \n",
       "10                        Nintendogs       DS             2005    Simulation   \n",
       "...                              ...      ...              ...           ...   \n",
       "16710  Samurai Warriors: Sanada Maru      PS3             2016        Action   \n",
       "16711               LMA Manager 2007     X360             2006        Sports   \n",
       "16712        Haitaka no Psychedelica      PSV             2016     Adventure   \n",
       "16713               Spirits & Spells      GBA             2003      Platform   \n",
       "16714            Winning Post 8 2016      PSV             2016    Simulation   \n",
       "\n",
       "       na_sales  eu_sales  jp_sales  other_sales  critic_score  user_score  \\\n",
       "1         29.08      3.58      6.81         0.77           NaN         NaN   \n",
       "4         11.27      8.89     10.22         1.00           NaN         NaN   \n",
       "5         23.20      2.26      4.22         0.58           NaN         NaN   \n",
       "9         26.93      0.63      0.28         0.47           NaN         NaN   \n",
       "10         9.05     10.95      1.93         2.74           NaN         NaN   \n",
       "...         ...       ...       ...          ...           ...         ...   \n",
       "16710      0.00      0.00      0.01         0.00           NaN         NaN   \n",
       "16711      0.00      0.01      0.00         0.00           NaN         NaN   \n",
       "16712      0.00      0.00      0.01         0.00           NaN         NaN   \n",
       "16713      0.01      0.00      0.00         0.00           NaN         NaN   \n",
       "16714      0.00      0.00      0.01         0.00           NaN         NaN   \n",
       "\n",
       "      rating  \n",
       "1        NaN  \n",
       "4        NaN  \n",
       "5        NaN  \n",
       "9        NaN  \n",
       "10       NaN  \n",
       "...      ...  \n",
       "16710    NaN  \n",
       "16711    NaN  \n",
       "16712    NaN  \n",
       "16713    NaN  \n",
       "16714    NaN  \n",
       "\n",
       "[6580 rows x 11 columns]"
      ]
     },
     "execution_count": 14,
     "metadata": {},
     "output_type": "execute_result"
    }
   ],
   "source": [
    "data[(data['critic_score'].isna()) & (data['user_score'].isna()) & (data['rating'].isna())]"
   ]
  },
  {
   "cell_type": "markdown",
   "metadata": {},
   "source": [
    "6580 строк содержат пропуски одновременно в оценке критиков, пользователей и рейтинге, пропуски как в старых, так и в \"свежих\" играх."
   ]
  },
  {
   "cell_type": "markdown",
   "metadata": {},
   "source": [
    "Такой большой объем пропусков нельзя заменить без риска повлиять на результаты исследования, поэтому лучше оставить их нетронутыми, так как все три параметра зависят от содержания конкретной игры, которое мы не можем определить по имеющимся данным. "
   ]
  },
  {
   "cell_type": "markdown",
   "metadata": {},
   "source": [
    "### Подсчет суммарных продаж"
   ]
  },
  {
   "cell_type": "markdown",
   "metadata": {},
   "source": [
    "Посчитаем суммы продаж по всем регионам и добавим в датафрейм в новый столбец"
   ]
  },
  {
   "cell_type": "code",
   "execution_count": 15,
   "metadata": {},
   "outputs": [],
   "source": [
    "data['world_sales'] = data['na_sales'] + data['eu_sales'] + data['jp_sales'] + data['other_sales']"
   ]
  },
  {
   "cell_type": "markdown",
   "metadata": {},
   "source": [
    "## Исследовательский анализ данных"
   ]
  },
  {
   "cell_type": "markdown",
   "metadata": {},
   "source": [
    "### Cколько игр выпускалось в разные годы"
   ]
  },
  {
   "cell_type": "markdown",
   "metadata": {},
   "source": [
    "Построим график и посмотрим на динамику выхода игр в разные годы"
   ]
  },
  {
   "cell_type": "code",
   "execution_count": 16,
   "metadata": {},
   "outputs": [
    {
     "data": {
      "image/png": "[encoded data removed]",
      "text/plain": [
       "<Figure size 1080x432 with 1 Axes>"
      ]
     },
     "metadata": {
      "needs_background": "light"
     },
     "output_type": "display_data"
    }
   ],
   "source": [
    "data_year = data.pivot_table(index='year_of_release', values='name', aggfunc='count')\n",
    "plt.figure(figsize=(15,6))\n",
    "sns.lineplot(data=data_year)\n",
    "plt.title('Динамика выхода игр по годам')\n",
    "plt.xlabel('Год релиза')\n",
    "plt.ylabel('Количество вышедших игр')\n",
    "plt.legend('')\n",
    "plt.show()"
   ]
  },
  {
   "cell_type": "markdown",
   "metadata": {},
   "source": [
    "Судя по графику, с 1990 начался плавный рост числа выпускаемых игр, с 2000 наблюдается довольно резкий скачок вверх, который пошел на спад только после 2008-2009 года. К 2013 году спад замедляется, возможно, для прогноза стоит использовать имеено этот отрезок с 2013 по 2016."
   ]
  },
  {
   "cell_type": "markdown",
   "metadata": {},
   "source": [
    "###  Как менялись продажи по платформам"
   ]
  },
  {
   "cell_type": "markdown",
   "metadata": {},
   "source": [
    "Посмотрим на продажи для каждой платформы, чтобы отобрать самые популярные."
   ]
  },
  {
   "cell_type": "code",
   "execution_count": 17,
   "metadata": {},
   "outputs": [],
   "source": [
    "data_clear_year = data.query('year_of_release > 1999')\n",
    "data_platform_sales = data_clear_year.pivot_table(index='platform', \n",
    "                                       values='world_sales', aggfunc='sum').sort_values(by='world_sales', ascending=False)"
   ]
  },
  {
   "cell_type": "code",
   "execution_count": 18,
   "metadata": {},
   "outputs": [
    {
     "data": {
      "image/png": "[encoded data removed]",
      "text/plain": [
       "<Figure size 1080x432 with 1 Axes>"
      ]
     },
     "metadata": {
      "needs_background": "light"
     },
     "output_type": "display_data"
    }
   ],
   "source": [
    "plt.figure(figsize=(15,6))\n",
    "sns.barplot(x=data_platform_sales.index, y=data_platform_sales['world_sales'])\n",
    "plt.title('Количество продаж для каждой платформы')\n",
    "plt.xlabel('Платформа')\n",
    "plt.ylabel('Количество продаж')\n",
    "plt.show()"
   ]
  },
  {
   "cell_type": "markdown",
   "metadata": {},
   "source": [
    "С заметным отрывом лидируют 5 игровых платформ: PS2, X360, PS3, Wii, DS."
   ]
  },
  {
   "cell_type": "markdown",
   "metadata": {},
   "source": [
    "Посмотрим на распределение продаж для ТОП-5 платформ по годам"
   ]
  },
  {
   "cell_type": "code",
   "execution_count": 19,
   "metadata": {},
   "outputs": [],
   "source": [
    "top_platforms = list(data_platform_sales[:5].index)"
   ]
  },
  {
   "cell_type": "code",
   "execution_count": 20,
   "metadata": {
    "scrolled": true
   },
   "outputs": [],
   "source": [
    "data_top_platform_year = data_clear_year.pivot_table(index='platform', columns='year_of_release', values='world_sales', \n",
    "                                          aggfunc='sum').query('platform in @top_platforms').T"
   ]
  },
  {
   "cell_type": "code",
   "execution_count": 21,
   "metadata": {
    "scrolled": true
   },
   "outputs": [
    {
     "data": {
      "image/png": "[encoded data removed]",
      "text/plain": [
       "<Figure size 1080x360 with 1 Axes>"
      ]
     },
     "metadata": {
      "needs_background": "light"
     },
     "output_type": "display_data"
    }
   ],
   "source": [
    "data_top_platform_year.plot(kind='bar', figsize=(15,5))\n",
    "plt.title('Количество продаж по годам для каждой платформы 2000-2016гг')\n",
    "plt.xlabel('Год')\n",
    "plt.ylabel('Количество продаж')\n",
    "plt.show()"
   ]
  },
  {
   "cell_type": "markdown",
   "metadata": {},
   "source": [
    "На графике видно, что жизненный цикл каждой платформы состовляет около 10 лет. При этом можем наблюдать, что продажи PS2 сошли на нет в 2010 году, то же самое происходит с PS3 в 2016, что логично, так как на их место пришла PS4. К 2013 сдулись продажи DS, к 2015 Wii и X360."
   ]
  },
  {
   "cell_type": "markdown",
   "metadata": {},
   "source": [
    "### Определение актуального периода"
   ]
  },
  {
   "cell_type": "markdown",
   "metadata": {},
   "source": [
    "На основании данных анализа, представленных выше, можно обозначить актуальный период анализа в 3 года - с 2013, когда резкий спад числа выпущенных игр змедлился, по настоящее время. При этом, данные за 2016 год у нас не полные, а это может сказаться на результатах исследования, т.к. из-за недостаточности данных может показаться ложный тренд на снижение."
   ]
  },
  {
   "cell_type": "code",
   "execution_count": 22,
   "metadata": {},
   "outputs": [],
   "source": [
    "actual_data = data.query('year_of_release > 2012')"
   ]
  },
  {
   "cell_type": "markdown",
   "metadata": {},
   "source": [
    "### Определение потенциально прибыльных платформ"
   ]
  },
  {
   "cell_type": "markdown",
   "metadata": {},
   "source": [
    "Используя данные за актуальный период, посмотрим на продажи платформ."
   ]
  },
  {
   "cell_type": "code",
   "execution_count": 24,
   "metadata": {
    "scrolled": true
   },
   "outputs": [
    {
     "data": {
      "image/png": "[encoded data removed]",
      "text/plain": [
       "<Figure size 1080x360 with 1 Axes>"
      ]
     },
     "metadata": {
      "needs_background": "light"
     },
     "output_type": "display_data"
    }
   ],
   "source": [
    "actual_data_sales = actual_data.pivot_table(index='platform', columns='year_of_release', values='world_sales', \n",
    "                                          aggfunc='sum').T\n",
    "actual_data_sales.plot(kind='line', figsize=(15,5))\n",
    "plt.title('Динамика продаж по годам для каждой платформы 2013-2016гг')\n",
    "plt.xlabel('Год')\n",
    "plt.ylabel('Количество продаж')\n",
    "plt.show()"
   ]
  },
  {
   "cell_type": "markdown",
   "metadata": {},
   "source": [
    "Всего у двух платформ наблюдается тренд на рост продаж: XOne и PS4, у остальных же либо стабильно низкий уровень, либо тренд на снижение. Некогда популярные платформы к 2016 году уже не актуальны и не пользуются успехом на глобальном рынке."
   ]
  },
  {
   "cell_type": "markdown",
   "metadata": {},
   "source": [
    "Отберем ТОП-5 платформ по уровню продаж."
   ]
  },
  {
   "cell_type": "code",
   "execution_count": 25,
   "metadata": {},
   "outputs": [],
   "source": [
    "top5_actual_platforms = list(actual_data.groupby('platform')['world_sales'].sum().sort_values(ascending=False)[:5].index)"
   ]
  },
  {
   "cell_type": "code",
   "execution_count": 26,
   "metadata": {},
   "outputs": [
    {
     "name": "stdout",
     "output_type": "stream",
     "text": [
      "PS4, PS3, XOne, 3DS, X360\n"
     ]
    }
   ],
   "source": [
    "print(\", \".join(top5_actual_platforms))"
   ]
  },
  {
   "cell_type": "code",
   "execution_count": 27,
   "metadata": {
    "scrolled": true
   },
   "outputs": [
    {
     "data": {
      "image/png": "[encoded data removed]",
      "text/plain": [
       "<Figure size 1080x360 with 1 Axes>"
      ]
     },
     "metadata": {
      "needs_background": "light"
     },
     "output_type": "display_data"
    }
   ],
   "source": [
    "persp_platforms = actual_data.query('platform in @top5_actual_platforms')\n",
    "persp_platforms.pivot_table(index='year_of_release', columns='platform', \n",
    "                            values='world_sales').boxplot(figsize=(15, 5))\n",
    "plt.title('Диаграмма размаха продаж для каждой платформы 2013-2016гг')\n",
    "plt.xlabel('Платформа')\n",
    "plt.ylabel('Количество продаж')\n",
    "plt.show()"
   ]
  },
  {
   "cell_type": "markdown",
   "metadata": {},
   "source": [
    "Если посмотреть на продажи по всему миру по каждой платформе, то можно увидеть, что PS4 значительно опережает другие платформы. Межквартильный размах PS4 расположен намного выше, чем у других платформ. Однозначно, PS4 очень перспективная платформа, ее пытается догнать XOne. "
   ]
  },
  {
   "cell_type": "markdown",
   "metadata": {},
   "source": [
    "### Как влияют на продажи внутри платформы отзывы пользователей и критиков"
   ]
  },
  {
   "cell_type": "markdown",
   "metadata": {},
   "source": [
    "Для ответа на этот вопрос рассмотрим данные об отзывах популярной платформы PS4."
   ]
  },
  {
   "cell_type": "code",
   "execution_count": 29,
   "metadata": {
    "scrolled": true
   },
   "outputs": [],
   "source": [
    "PS4_data = actual_data.query('platform == \"PS4\"')"
   ]
  },
  {
   "cell_type": "code",
   "execution_count": 30,
   "metadata": {
    "scrolled": true
   },
   "outputs": [
    {
     "data": {
      "image/png": "[encoded data removed]",
      "text/plain": [
       "<Figure size 1152x360 with 2 Axes>"
      ]
     },
     "metadata": {
      "needs_background": "light"
     },
     "output_type": "display_data"
    }
   ],
   "source": [
    "fig, axes = plt.subplots(1, 2, figsize=(16, 5))\n",
    "PS4_data.plot(x='critic_score', y='world_sales', kind='scatter', ax=axes[0])\n",
    "PS4_data.plot(x='user_score', y='world_sales', kind='scatter', ax=axes[1])\n",
    "axes[0].set(title='Зависимость продаж от оценки критиков')\n",
    "axes[0].set(xlabel='Оценка критиков')\n",
    "axes[0].set(ylabel='Количество продаж')\n",
    "axes[1].set(title='Зависимость продаж от оценки пользователей')\n",
    "axes[1].set(xlabel='Оценка пользователей')\n",
    "axes[1].set(ylabel='Количество продаж')\n",
    "plt.show()"
   ]
  },
  {
   "cell_type": "code",
   "execution_count": 31,
   "metadata": {},
   "outputs": [
    {
     "name": "stdout",
     "output_type": "stream",
     "text": [
      "Корреляция между оценками критиков и продажами составляет 0.41\n",
      "Корреляция между оценками пользователей и продажами составляет -0.03\n"
     ]
    }
   ],
   "source": [
    "print(f\"Корреляция между оценками критиков и продажами составляет {round((PS4_data['critic_score'].corr(PS4_data['world_sales'])), 2)}\")\n",
    "print(f\"Корреляция между оценками пользователей и продажами составляет {round((PS4_data['user_score'].corr(PS4_data['world_sales'])), 2)}\")"
   ]
  },
  {
   "cell_type": "markdown",
   "metadata": {},
   "source": [
    "Для интерпретации корреляционной связи будем использовать шкалу Чеддока:\n",
    "\n",
    "- от 0 до 0,3 - очень слабая\n",
    "- от 0,3 до 0,5 - слабая\n",
    "- от 0,5 до 0,7 - средняя\n",
    "- от 0,7 до 0,9 - высокая\n",
    "- от 0,9 до 1 - очень высокая"
   ]
  },
  {
   "cell_type": "markdown",
   "metadata": {},
   "source": [
    "Связь между оценками критиков и продажами слабая. Очень слабая обратная связь между оценками пользователей и продажами, ее практически нет."
   ]
  },
  {
   "cell_type": "markdown",
   "metadata": {},
   "source": [
    "**Посмотрим на корреляцию у других платформ**"
   ]
  },
  {
   "cell_type": "code",
   "execution_count": 32,
   "metadata": {},
   "outputs": [],
   "source": [
    "def correlation(platform_name):\n",
    "    platform_data = actual_data[actual_data['platform'] == platform_name]\n",
    "    \n",
    "    critic_corr = platform_data['critic_score'].corr(platform_data['world_sales'])\n",
    "    user_corr = platform_data['user_score'].corr(platform_data['world_sales'])\n",
    "    \n",
    "    print(f\"Корреляция между оценками критиков и продажами у {platform_name} составляет {round(critic_corr, 2)}\")\n",
    "    print(f\"Корреляция между оценками пользователей и продажами у {platform_name} составляет {round(user_corr, 2)}\")\n",
    "    print()"
   ]
  },
  {
   "cell_type": "code",
   "execution_count": 33,
   "metadata": {
    "scrolled": true
   },
   "outputs": [
    {
     "name": "stdout",
     "output_type": "stream",
     "text": [
      "Корреляция между оценками критиков и продажами у PS4 составляет 0.41\n",
      "Корреляция между оценками пользователей и продажами у PS4 составляет -0.03\n",
      "\n",
      "Корреляция между оценками критиков и продажами у PS3 составляет 0.33\n",
      "Корреляция между оценками пользователей и продажами у PS3 составляет 0.0\n",
      "\n",
      "Корреляция между оценками критиков и продажами у XOne составляет 0.42\n",
      "Корреляция между оценками пользователей и продажами у XOne составляет -0.07\n",
      "\n",
      "Корреляция между оценками критиков и продажами у 3DS составляет 0.36\n",
      "Корреляция между оценками пользователей и продажами у 3DS составляет 0.24\n",
      "\n",
      "Корреляция между оценками критиков и продажами у X360 составляет 0.35\n",
      "Корреляция между оценками пользователей и продажами у X360 составляет -0.01\n",
      "\n"
     ]
    }
   ],
   "source": [
    "for platform in top5_actual_platforms:\n",
    "    correlation(platform)  "
   ]
  },
  {
   "cell_type": "markdown",
   "metadata": {},
   "source": [
    "На основании полученных данных, можем отметить, что оценка пользователей очень слабо влияет на продажи только в случае с платформой 3DS, в остальных случаях связь настолько мала, что будем считать, что ее нет."
   ]
  },
  {
   "cell_type": "markdown",
   "metadata": {},
   "source": [
    "Оценка критиков у всех платформ стабильно показывает слабую связь с продажами. То есть высокая оценка критиков в какой-то степени влияет на рост продаж, хоть и слабо."
   ]
  },
  {
   "cell_type": "markdown",
   "metadata": {},
   "source": [
    "### Общее распределение игр по жанрам"
   ]
  },
  {
   "cell_type": "markdown",
   "metadata": {},
   "source": [
    "Посмотрим на общее распределение игр по жанрам"
   ]
  },
  {
   "cell_type": "code",
   "execution_count": 34,
   "metadata": {},
   "outputs": [],
   "source": [
    "genre_data = actual_data.pivot_table(index='genre', values='world_sales', \n",
    "                                     aggfunc='sum').sort_values(by='world_sales', ascending=False)"
   ]
  },
  {
   "cell_type": "code",
   "execution_count": 35,
   "metadata": {
    "scrolled": true
   },
   "outputs": [
    {
     "data": {
      "image/png": "[encoded data removed]",
      "text/plain": [
       "<Figure size 1080x288 with 1 Axes>"
      ]
     },
     "metadata": {
      "needs_background": "light"
     },
     "output_type": "display_data"
    }
   ],
   "source": [
    "plt.figure(figsize=(15,4))\n",
    "sns.barplot(x=genre_data.index, y=genre_data['world_sales'])\n",
    "plt.title('Уровень продаж по жанрам')\n",
    "plt.xlabel('Жанр')\n",
    "plt.ylabel('Количество продаж')\n",
    "plt.show()"
   ]
  },
  {
   "cell_type": "code",
   "execution_count": 36,
   "metadata": {},
   "outputs": [],
   "source": [
    "top5_genre_data = list(genre_data[:5].index)"
   ]
  },
  {
   "cell_type": "code",
   "execution_count": 37,
   "metadata": {},
   "outputs": [
    {
     "name": "stdout",
     "output_type": "stream",
     "text": [
      "ТОП-5 жанров: Action, Shooter, Sports, Role-Playing, Misc. В аутсайдерах игры в жанрах Pazzle и Strategy\n"
     ]
    }
   ],
   "source": [
    "print(f'ТОП-5 жанров: {\", \".join(top5_genre_data)}. В аутсайдерах игры в жанрах Pazzle и Strategy')"
   ]
  },
  {
   "cell_type": "markdown",
   "metadata": {},
   "source": [
    "**Вывод**"
   ]
  },
  {
   "cell_type": "markdown",
   "metadata": {},
   "source": [
    "- C 1990 начался плавный рост количества выпускаемых игр, на период с 2000 по 2008 пришелся резкий скачок вверх, а после 2009 и вплоть до 2013 года количество игр начало стремительно сокращаться.\n",
    "\n",
    "- Жизненный цикл платформы составляет около 10 лет.\n",
    "\n",
    "- Самые популярные игровые платформы за все время: PS2, X360, PS3, Wii, DS.\n",
    "\n",
    "- Для целей настоящего исследования актуальный период анализа следует обозначить в последние 3 года - с 2013 по настоящее время.\n",
    "\n",
    "- Популярные за актуальный период платформы: PS4, X360, PS3, XOne, 3DS. Тренд на рост продаж наблюдается только у XOne и PS4. \n",
    "\n",
    "- PS4 значительно опережает другие платформы по количеству проданных игр.\n",
    "\n",
    "- Оценка пользователей не влияет на продажи. Ооценка критиков слабо, но напрямую влияет на продажи внутри платформы.\n",
    "\n",
    "- ТОП-5 самых прибыльных жанров на ауктуальный период: Action, Shooter, Sports, Role-Playing и Misc. Самые бесперспективные жанры: паззлы и стратегии."
   ]
  },
  {
   "cell_type": "markdown",
   "metadata": {},
   "source": [
    "## Портрет пользователя"
   ]
  },
  {
   "cell_type": "markdown",
   "metadata": {},
   "source": [
    "Составим портрет пользователя для каждого региона, для этого выясним:\n",
    "- Самые популярные платформы (топ-5)\n",
    "- Самые популярные жанры (топ-5)\n",
    "- Влияет ли рейтинг ESRB на продажи в отдельном регионе?"
   ]
  },
  {
   "cell_type": "markdown",
   "metadata": {},
   "source": [
    "### North America"
   ]
  },
  {
   "cell_type": "markdown",
   "metadata": {},
   "source": [
    "**Самые популярные платформы**"
   ]
  },
  {
   "cell_type": "code",
   "execution_count": 38,
   "metadata": {},
   "outputs": [],
   "source": [
    "na_platform_sales = actual_data.pivot_table(index='platform', values='na_sales', \n",
    "                                     aggfunc='sum').sort_values(by='na_sales', ascending=False)"
   ]
  },
  {
   "cell_type": "code",
   "execution_count": 39,
   "metadata": {},
   "outputs": [],
   "source": [
    "world_platform_sales = actual_data.pivot_table(index='platform', values='world_sales', \n",
    "                                     aggfunc='sum').sort_values(by='world_sales', ascending=False)"
   ]
  },
  {
   "cell_type": "code",
   "execution_count": 40,
   "metadata": {
    "scrolled": true
   },
   "outputs": [
    {
     "data": {
      "image/png": "[encoded data removed]",
      "text/plain": [
       "<Figure size 1080x360 with 1 Axes>"
      ]
     },
     "metadata": {
      "needs_background": "light"
     },
     "output_type": "display_data"
    }
   ],
   "source": [
    "plt.figure(figsize=(15,5))\n",
    "sns.barplot(x=na_platform_sales.index, y=na_platform_sales['na_sales'])\n",
    "plt.title('Количество продаж для каждой платформы')\n",
    "plt.xlabel('Платформа')\n",
    "plt.ylabel('Количество продаж')\n",
    "\n",
    "plt.show()"
   ]
  },
  {
   "cell_type": "code",
   "execution_count": 41,
   "metadata": {},
   "outputs": [],
   "source": [
    "top5_na_platform = list(na_platform_sales[:5].index)"
   ]
  },
  {
   "cell_type": "code",
   "execution_count": 42,
   "metadata": {},
   "outputs": [
    {
     "name": "stdout",
     "output_type": "stream",
     "text": [
      "ТОП-5 платформ в Северной Америке: PS4, XOne, X360, PS3, 3DS\n"
     ]
    }
   ],
   "source": [
    "print(f'ТОП-5 платформ в Северной Америке: {\", \".join(top5_na_platform)}')"
   ]
  },
  {
   "cell_type": "code",
   "execution_count": 43,
   "metadata": {
    "scrolled": true
   },
   "outputs": [
    {
     "data": {
      "image/png": "[encoded data removed]",
      "text/plain": [
       "<Figure size 1152x360 with 2 Axes>"
      ]
     },
     "metadata": {},
     "output_type": "display_data"
    }
   ],
   "source": [
    "fig, axes = plt.subplots(1, 2, figsize=(16, 5))\n",
    "\n",
    "na_platform_sales.query('platform in @top5_na_platform').plot.pie(y='na_sales', autopct='%1.1f%%', ax=axes[0])\n",
    "world_platform_sales.query('platform in @top5_actual_platforms').plot.pie(y='world_sales', autopct='%1.1f%%', ax=axes[1])\n",
    "axes[0].set(title='Доля продаж для каждой платформы в Северной Америке')\n",
    "axes[0].set(ylabel='Продажи')\n",
    "axes[1].set(title='Доля продаж для каждой платформы во всем мире')\n",
    "axes[1].set(ylabel='Продажи')\n",
    "plt.show()"
   ]
  },
  {
   "cell_type": "markdown",
   "metadata": {},
   "source": [
    "Североамериканский рынок возглавляет PS4, что соответсвует общемировой тенденции, далее чуть меньшую долю рынка занимает XOne, хотя в целом на мировом рынке он все же на 3 месте. Не сильно отстает его предшественник X360, не смотря на то, что по продажам во всем мире он плетется в хвосте. PS3 занимает лишь 4 место против 2 на мировой арене. Самая малая доля рынка остается за 3DS."
   ]
  },
  {
   "cell_type": "markdown",
   "metadata": {},
   "source": [
    "**Самые популярные жанры**"
   ]
  },
  {
   "cell_type": "code",
   "execution_count": 44,
   "metadata": {},
   "outputs": [],
   "source": [
    "na_genre = actual_data.pivot_table(index='genre', values='na_sales', \n",
    "                                     aggfunc='sum').sort_values(by='na_sales', ascending=False)"
   ]
  },
  {
   "cell_type": "code",
   "execution_count": 45,
   "metadata": {
    "scrolled": true
   },
   "outputs": [
    {
     "data": {
      "image/png": "[encoded data removed]",
      "text/plain": [
       "<Figure size 1152x720 with 2 Axes>"
      ]
     },
     "metadata": {
      "needs_background": "light"
     },
     "output_type": "display_data"
    }
   ],
   "source": [
    "fig, axes = plt.subplots(2, 1, figsize=(16, 10))\n",
    "\n",
    "sns.barplot(x=na_genre.index, y=na_genre['na_sales'], ax=axes[0])\n",
    "axes[0].set(title='Популярность жанров в Северной Америке')\n",
    "axes[0].set(xlabel='Жанр')\n",
    "axes[0].set(ylabel='Количество продаж')\n",
    "\n",
    "sns.barplot(x=genre_data.index, y=genre_data['world_sales'], ax=axes[1])\n",
    "axes[1].set(title='Популярность жанров в мире')\n",
    "axes[1].set(xlabel='Жанр')\n",
    "axes[1].set(ylabel='Количество продаж')\n",
    "\n",
    "plt.show()"
   ]
  },
  {
   "cell_type": "code",
   "execution_count": 46,
   "metadata": {},
   "outputs": [
    {
     "name": "stdout",
     "output_type": "stream",
     "text": [
      "ТОП-5 жанров в Северной Америке: Action, Shooter, Sports, Role-Playing, Misc\n"
     ]
    }
   ],
   "source": [
    "top5_na_genre = list(na_genre[:5].index)\n",
    "print(f'ТОП-5 жанров в Северной Америке: {\", \".join(top5_na_genre)}')"
   ]
  },
  {
   "cell_type": "markdown",
   "metadata": {},
   "source": [
    "Популярность жанров компьютерных игр в Северной Америке полностью соответсвует общемировым тенденциям. Можно отметить, что игры в жанре Sports несколько популярнее Role-Playing, тогда как во всем мире популярность этих жанров примерно на одном уровне."
   ]
  },
  {
   "cell_type": "markdown",
   "metadata": {},
   "source": [
    "**Влияние рейтинга ESRB на продажи**"
   ]
  },
  {
   "cell_type": "code",
   "execution_count": 47,
   "metadata": {},
   "outputs": [],
   "source": [
    "na_rating_sales = actual_data.pivot_table(index='rating', values='na_sales', \n",
    "                                     aggfunc='sum').sort_values(by='na_sales', ascending=False)\n",
    "world_rating_sales = actual_data.pivot_table(index='rating', values='world_sales', \n",
    "                                     aggfunc='sum').sort_values(by='world_sales', ascending=False)"
   ]
  },
  {
   "cell_type": "code",
   "execution_count": 48,
   "metadata": {
    "scrolled": false
   },
   "outputs": [
    {
     "data": {
      "image/png": "[encoded data removed]",
      "text/plain": [
       "<Figure size 1080x360 with 2 Axes>"
      ]
     },
     "metadata": {
      "needs_background": "light"
     },
     "output_type": "display_data"
    }
   ],
   "source": [
    "fig, axes = plt.subplots(1, 2, figsize=(15, 5))\n",
    "\n",
    "sns.barplot(x=na_rating_sales.index, y=na_rating_sales['na_sales'], ax=axes[0])\n",
    "axes[0].set(title='Популярность игр по рейтингам ESRB в Северной Америке')\n",
    "axes[0].set(xlabel='Рейтинг')\n",
    "axes[0].set(ylabel='Количество продаж')\n",
    "\n",
    "sns.barplot(x=world_rating_sales.index, y=world_rating_sales['world_sales'], ax=axes[1])\n",
    "axes[1].set(title='Популярность игр по рейтингам ESRB в мире')\n",
    "axes[1].set(xlabel='Рейтинг')\n",
    "axes[1].set(ylabel='Количество продаж')\n",
    "\n",
    "plt.show()"
   ]
  },
  {
   "cell_type": "markdown",
   "metadata": {},
   "source": [
    "В Северной Америке востребованы игры рейтинга M и E, как и во всем мире. При этом, наоборот чуть более популярны игры с рейтингом E10+, нежели T."
   ]
  },
  {
   "cell_type": "markdown",
   "metadata": {},
   "source": [
    "**Вывод**"
   ]
  },
  {
   "cell_type": "markdown",
   "metadata": {},
   "source": [
    "Характерные черты пользователя из Северной Америки:\n",
    "- самые популярные платформы PS4, XOne, X360, PS3 и 3DS\n",
    "- популярные жанры Action, Shooter, Sports, Role-Playing и Misc\n",
    "- больше всего покупают игр с рейтингом M, далее идет E, E10+, T."
   ]
  },
  {
   "cell_type": "markdown",
   "metadata": {},
   "source": [
    "### Europe"
   ]
  },
  {
   "cell_type": "markdown",
   "metadata": {},
   "source": [
    "**Самые популярные платформы**"
   ]
  },
  {
   "cell_type": "code",
   "execution_count": 49,
   "metadata": {},
   "outputs": [],
   "source": [
    "eu_platform_sales = actual_data.pivot_table(index='platform', values='eu_sales', \n",
    "                                     aggfunc='sum').sort_values(by='eu_sales', ascending=False)"
   ]
  },
  {
   "cell_type": "code",
   "execution_count": 50,
   "metadata": {
    "scrolled": true
   },
   "outputs": [
    {
     "data": {
      "image/png": "[encoded data removed]",
      "text/plain": [
       "<Figure size 1080x360 with 1 Axes>"
      ]
     },
     "metadata": {
      "needs_background": "light"
     },
     "output_type": "display_data"
    }
   ],
   "source": [
    "plt.figure(figsize=(15,5))\n",
    "sns.barplot(x=eu_platform_sales.index, y=eu_platform_sales['eu_sales'])\n",
    "plt.title('Количество продаж для каждой платформы')\n",
    "plt.xlabel('Платформа')\n",
    "plt.ylabel('Количество продаж')\n",
    "\n",
    "plt.show()"
   ]
  },
  {
   "cell_type": "code",
   "execution_count": 51,
   "metadata": {},
   "outputs": [],
   "source": [
    "top5_eu_platform = list(eu_platform_sales[:5].index)"
   ]
  },
  {
   "cell_type": "code",
   "execution_count": 52,
   "metadata": {},
   "outputs": [
    {
     "name": "stdout",
     "output_type": "stream",
     "text": [
      "ТОП-5 платформ в Европе: PS4, PS3, XOne, X360, 3DS\n"
     ]
    }
   ],
   "source": [
    "print(f'ТОП-5 платформ в Европе: {\", \".join(top5_eu_platform)}')"
   ]
  },
  {
   "cell_type": "code",
   "execution_count": 53,
   "metadata": {
    "scrolled": true
   },
   "outputs": [
    {
     "data": {
      "image/png": "[encoded data removed]",
      "text/plain": [
       "<Figure size 1152x360 with 2 Axes>"
      ]
     },
     "metadata": {},
     "output_type": "display_data"
    }
   ],
   "source": [
    "fig, axes = plt.subplots(1, 2, figsize=(16, 5))\n",
    "\n",
    "eu_platform_sales.query('platform in @top5_eu_platform').plot.pie(y='eu_sales', autopct='%1.1f%%', ax=axes[0])\n",
    "world_platform_sales.query('platform in @top5_actual_platforms').plot.pie(y='world_sales', autopct='%1.1f%%', ax=axes[1])\n",
    "axes[0].set(title='Доля продаж для каждой платформы в Европе')\n",
    "axes[0].set(ylabel='Продажи')\n",
    "axes[1].set(title='Доля продаж для каждой платформы во всем мире')\n",
    "axes[1].set(ylabel='Продажи')\n",
    "plt.show()"
   ]
  },
  {
   "cell_type": "markdown",
   "metadata": {},
   "source": [
    "С большим отрывом лидирует PS4, почти половина рынка, на втором месте PS3, дальше плетутся XBox и 3DS."
   ]
  },
  {
   "cell_type": "markdown",
   "metadata": {},
   "source": [
    "**Самые популярные жанры**"
   ]
  },
  {
   "cell_type": "code",
   "execution_count": 54,
   "metadata": {},
   "outputs": [],
   "source": [
    "eu_genre = actual_data.pivot_table(index='genre', values='eu_sales', \n",
    "                                     aggfunc='sum').sort_values(by='eu_sales', ascending=False)"
   ]
  },
  {
   "cell_type": "code",
   "execution_count": 55,
   "metadata": {
    "scrolled": true
   },
   "outputs": [
    {
     "data": {
      "image/png": "[encoded data removed]",
      "text/plain": [
       "<Figure size 1152x720 with 2 Axes>"
      ]
     },
     "metadata": {
      "needs_background": "light"
     },
     "output_type": "display_data"
    }
   ],
   "source": [
    "fig, axes = plt.subplots(2, 1, figsize=(16, 10))\n",
    "\n",
    "sns.barplot(x=eu_genre.index, y=eu_genre['eu_sales'], ax=axes[0])\n",
    "axes[0].set(title='Популярность жанров в Европе')\n",
    "axes[0].set(xlabel='Жанр')\n",
    "axes[0].set(ylabel='Количество продаж')\n",
    "\n",
    "sns.barplot(x=genre_data.index, y=genre_data['world_sales'], ax=axes[1])\n",
    "axes[1].set(title='Популярность жанров в мире')\n",
    "axes[1].set(xlabel='Жанр')\n",
    "axes[1].set(ylabel='Количество продаж')\n",
    "\n",
    "plt.show()"
   ]
  },
  {
   "cell_type": "code",
   "execution_count": 56,
   "metadata": {},
   "outputs": [
    {
     "name": "stdout",
     "output_type": "stream",
     "text": [
      "ТОП-5 жанров в Европе: Action, Shooter, Sports, Role-Playing, Racing\n"
     ]
    }
   ],
   "source": [
    "top5_eu_genre = list(eu_genre[:5].index)\n",
    "print(f'ТОП-5 жанров в Европе: {\", \".join(top5_eu_genre)}')"
   ]
  },
  {
   "cell_type": "markdown",
   "metadata": {},
   "source": [
    "Предпочтения по жанрам у Европы такие же, как и в Северной Америке, однако в Европе несколько больше любителей гонок."
   ]
  },
  {
   "cell_type": "markdown",
   "metadata": {},
   "source": [
    "**Влияние рейтинга ESRB на продажи**"
   ]
  },
  {
   "cell_type": "code",
   "execution_count": 57,
   "metadata": {},
   "outputs": [],
   "source": [
    "eu_rating_sales = actual_data.pivot_table(index='rating', values='eu_sales', \n",
    "                                     aggfunc='sum').sort_values(by='eu_sales', ascending=False)\n",
    "world_rating_sales = actual_data.pivot_table(index='rating', values='world_sales', \n",
    "                                     aggfunc='sum').sort_values(by='world_sales', ascending=False)"
   ]
  },
  {
   "cell_type": "code",
   "execution_count": 58,
   "metadata": {
    "scrolled": false
   },
   "outputs": [
    {
     "data": {
      "image/png": "[encoded data removed]",
      "text/plain": [
       "<Figure size 1080x360 with 2 Axes>"
      ]
     },
     "metadata": {
      "needs_background": "light"
     },
     "output_type": "display_data"
    }
   ],
   "source": [
    "fig, axes = plt.subplots(1, 2, figsize=(15, 5))\n",
    "\n",
    "sns.barplot(x=eu_rating_sales.index, y=eu_rating_sales['eu_sales'], ax=axes[0])\n",
    "axes[0].set(title='Популярность игр по рейтингам ESRB в Европе')\n",
    "axes[0].set(xlabel='Рейтинг')\n",
    "axes[0].set(ylabel='Количество продаж')\n",
    "\n",
    "sns.barplot(x=world_rating_sales.index, y=world_rating_sales['world_sales'], ax=axes[1])\n",
    "axes[1].set(title='Популярность игр по рейтингам ESRB в мире')\n",
    "axes[1].set(xlabel='Рейтинг')\n",
    "axes[1].set(ylabel='Количество продаж')\n",
    "\n",
    "plt.show()"
   ]
  },
  {
   "cell_type": "markdown",
   "metadata": {},
   "source": [
    "Популярность игр в зависимости от рейтинга в Европе в целом соответствует данным по Северной Америке. "
   ]
  },
  {
   "cell_type": "markdown",
   "metadata": {},
   "source": [
    "**Вывод**"
   ]
  },
  {
   "cell_type": "markdown",
   "metadata": {},
   "source": [
    "Характерные черты пользователя из Европы:\n",
    "- самая популярная платформа у европейцев - PS4 и ее прошлое поколение, дальше идут платформы XBox и 3DS\n",
    "- в Европе популярны те же жанры, что и в Северной Америке, чуть больше любят в европе гонки\n",
    "- распределение по рейтингам ESRB соответствует североамериканскому рынку"
   ]
  },
  {
   "cell_type": "markdown",
   "metadata": {},
   "source": [
    "### Japan"
   ]
  },
  {
   "cell_type": "markdown",
   "metadata": {},
   "source": [
    "**Самые популярные платформы**"
   ]
  },
  {
   "cell_type": "code",
   "execution_count": 59,
   "metadata": {},
   "outputs": [],
   "source": [
    "jp_platform_sales = actual_data.pivot_table(index='platform', values='jp_sales', \n",
    "                                     aggfunc='sum').sort_values(by='jp_sales', ascending=False)"
   ]
  },
  {
   "cell_type": "code",
   "execution_count": 60,
   "metadata": {
    "scrolled": true
   },
   "outputs": [
    {
     "data": {
      "image/png": "[encoded data removed]",
      "text/plain": [
       "<Figure size 1080x360 with 1 Axes>"
      ]
     },
     "metadata": {
      "needs_background": "light"
     },
     "output_type": "display_data"
    }
   ],
   "source": [
    "plt.figure(figsize=(15,5))\n",
    "sns.barplot(x=jp_platform_sales.index, y=jp_platform_sales['jp_sales'])\n",
    "plt.title('Количество продаж для каждой платформы')\n",
    "plt.xlabel('Платформа')\n",
    "plt.ylabel('Количество продаж')\n",
    "\n",
    "plt.show()"
   ]
  },
  {
   "cell_type": "code",
   "execution_count": 61,
   "metadata": {},
   "outputs": [],
   "source": [
    "top5_jp_platform = list(jp_platform_sales[:5].index)"
   ]
  },
  {
   "cell_type": "code",
   "execution_count": 62,
   "metadata": {},
   "outputs": [
    {
     "name": "stdout",
     "output_type": "stream",
     "text": [
      "ТОП-5 платформ в Японии: 3DS, PS3, PSV, PS4, WiiU\n"
     ]
    }
   ],
   "source": [
    "print(f'ТОП-5 платформ в Японии: {\", \".join(top5_jp_platform)}')"
   ]
  },
  {
   "cell_type": "code",
   "execution_count": 63,
   "metadata": {
    "scrolled": true
   },
   "outputs": [
    {
     "data": {
      "image/png": "[encoded data removed]",
      "text/plain": [
       "<Figure size 1152x360 with 2 Axes>"
      ]
     },
     "metadata": {},
     "output_type": "display_data"
    }
   ],
   "source": [
    "fig, axes = plt.subplots(1, 2, figsize=(16, 5))\n",
    "\n",
    "jp_platform_sales.query('platform in @top5_jp_platform').plot.pie(y='jp_sales', autopct='%1.1f%%', ax=axes[0])\n",
    "world_platform_sales.query('platform in @top5_actual_platforms').plot.pie(y='world_sales', autopct='%1.1f%%', ax=axes[1])\n",
    "axes[0].set(title='Доля продаж для каждой платформы в Японии')\n",
    "axes[0].set(ylabel='Продажи')\n",
    "axes[1].set(title='Доля продаж для каждой платформы во всем мире')\n",
    "axes[1].set(ylabel='Продажи')\n",
    "plt.show()"
   ]
  },
  {
   "cell_type": "markdown",
   "metadata": {},
   "source": [
    "Половину рынка занимает платформа 3DS, остаток делят между собой разничные платформы PS, небольшой кусочек ухватила WiiU."
   ]
  },
  {
   "cell_type": "markdown",
   "metadata": {},
   "source": [
    "**Самые популярные жанры**"
   ]
  },
  {
   "cell_type": "code",
   "execution_count": 64,
   "metadata": {},
   "outputs": [],
   "source": [
    "jp_genre = actual_data.pivot_table(index='genre', values='jp_sales', \n",
    "                                     aggfunc='sum').sort_values(by='jp_sales', ascending=False)"
   ]
  },
  {
   "cell_type": "code",
   "execution_count": 65,
   "metadata": {
    "scrolled": true
   },
   "outputs": [
    {
     "data": {
      "image/png": "[encoded data removed]",
      "text/plain": [
       "<Figure size 1152x720 with 2 Axes>"
      ]
     },
     "metadata": {
      "needs_background": "light"
     },
     "output_type": "display_data"
    }
   ],
   "source": [
    "fig, axes = plt.subplots(2, 1, figsize=(16, 10))\n",
    "\n",
    "sns.barplot(x=jp_genre.index, y=jp_genre['jp_sales'], ax=axes[0])\n",
    "axes[0].set(title='Популярность жанров в Японии')\n",
    "axes[0].set(xlabel='')\n",
    "axes[0].set(ylabel='Количество продаж')\n",
    "\n",
    "sns.barplot(x=genre_data.index, y=genre_data['world_sales'], ax=axes[1])\n",
    "axes[1].set(title='Популярность жанров в мире')\n",
    "axes[1].set(xlabel='')\n",
    "axes[1].set(ylabel='Количество продаж')\n",
    "\n",
    "plt.show()"
   ]
  },
  {
   "cell_type": "code",
   "execution_count": 66,
   "metadata": {
    "scrolled": true
   },
   "outputs": [
    {
     "name": "stdout",
     "output_type": "stream",
     "text": [
      "ТОП-5 жанров в Японии: Role-Playing, Action, Misc, Fighting, Shooter\n"
     ]
    }
   ],
   "source": [
    "top5_jp_genre = list(jp_genre[:5].index)\n",
    "print(f'ТОП-5 жанров в Японии: {\", \".join(top5_jp_genre)}')"
   ]
  },
  {
   "cell_type": "markdown",
   "metadata": {},
   "source": [
    "**Влияние рейтинга ESRB на продажи**"
   ]
  },
  {
   "cell_type": "code",
   "execution_count": 67,
   "metadata": {},
   "outputs": [],
   "source": [
    "jp_rating_sales = actual_data.pivot_table(index='rating', values='jp_sales', \n",
    "                                     aggfunc='sum').sort_values(by='jp_sales', ascending=False)\n",
    "world_rating_sales = actual_data.pivot_table(index='rating', values='world_sales', \n",
    "                                     aggfunc='sum').sort_values(by='world_sales', ascending=False)"
   ]
  },
  {
   "cell_type": "code",
   "execution_count": 68,
   "metadata": {
    "scrolled": false
   },
   "outputs": [
    {
     "data": {
      "image/png": "[encoded data removed]",
      "text/plain": [
       "<Figure size 1080x360 with 2 Axes>"
      ]
     },
     "metadata": {
      "needs_background": "light"
     },
     "output_type": "display_data"
    }
   ],
   "source": [
    "fig, axes = plt.subplots(1, 2, figsize=(15, 5))\n",
    "\n",
    "sns.barplot(x=jp_rating_sales.index, y=jp_rating_sales['jp_sales'], ax=axes[0])\n",
    "axes[0].set(title='Популярность игр по рейтингам ESRB в Японии')\n",
    "axes[0].set(xlabel='Рейтинг')\n",
    "axes[0].set(ylabel='Количество продаж')\n",
    "\n",
    "sns.barplot(x=world_rating_sales.index, y=world_rating_sales['world_sales'], ax=axes[1])\n",
    "axes[1].set(title='Популярность игр по рейтингам ESRB в мире')\n",
    "axes[1].set(xlabel='Рейтинг')\n",
    "axes[1].set(ylabel='Количество продаж')\n",
    "\n",
    "plt.show()"
   ]
  },
  {
   "cell_type": "markdown",
   "metadata": {},
   "source": [
    "Совершенно другая картина с популярными рейтингами на японском рынке - в топе игры для подростков (13+), второе место делят игры 17+ и для всех."
   ]
  },
  {
   "cell_type": "markdown",
   "metadata": {},
   "source": [
    "**Вывод**"
   ]
  },
  {
   "cell_type": "markdown",
   "metadata": {},
   "source": [
    "Характерные черты пользователя из Японии:\n",
    "- самая популярная платформа 3DS, также востебованы вариации PS и WiiU\n",
    "- из жанров лидируют по популярности Role-Playing и Action, намного меньше Misc, Fighting, Shooter\n",
    "- по рейтингу ESRB в топе игры для подростков, от 17 лет и для всех"
   ]
  },
  {
   "cell_type": "markdown",
   "metadata": {},
   "source": [
    "## Проверка гипотез"
   ]
  },
  {
   "cell_type": "markdown",
   "metadata": {},
   "source": [
    "### Средние пользовательские рейтинги платформ Xbox One и PC одинаковые"
   ]
  },
  {
   "cell_type": "markdown",
   "metadata": {},
   "source": [
    "Сформулируем нулевую и альтернативную гипотезы:\n",
    "- средний пользовательский рейтинг платформы Xbox One равен среднему пользовательскому рейтингу платформы PC\n",
    "- средний пользовательский рейтинг платформы Xbox One не равен среднему пользовательскому рейтингу платформы PC"
   ]
  },
  {
   "cell_type": "markdown",
   "metadata": {},
   "source": [
    "Подготовим данные для проверки гипотез"
   ]
  },
  {
   "cell_type": "code",
   "execution_count": 69,
   "metadata": {},
   "outputs": [],
   "source": [
    "xone_data = actual_data.query('platform == \"XOne\"')\n",
    "pc_data = actual_data.query('platform == \"PC\"')"
   ]
  },
  {
   "cell_type": "markdown",
   "metadata": {},
   "source": [
    "Приступим к проверке"
   ]
  },
  {
   "cell_type": "code",
   "execution_count": 70,
   "metadata": {},
   "outputs": [
    {
     "name": "stdout",
     "output_type": "stream",
     "text": [
      "p-значение:  0.1401265840361139\n",
      "Не получилось отвергнуть нулевую гипотезу\n"
     ]
    }
   ],
   "source": [
    "alpha = .05\n",
    "results = st.ttest_ind(xone_data['user_score'], pc_data['user_score'], nan_policy='omit')\n",
    "print('p-значение: ', results.pvalue)\n",
    "\n",
    "if results.pvalue < alpha:\n",
    "    print(\"Отвергаем нулевую гипотезу\")\n",
    "else:\n",
    "    print(\"Не получилось отвергнуть нулевую гипотезу\") "
   ]
  },
  {
   "cell_type": "markdown",
   "metadata": {},
   "source": [
    "Вероятность того, что мы можем получить разные средние пользовательские оценки случайно - 14%, это больше 5%. Нулевую гипотезу отвергать нельзя - средние пользовательские рейтинги платформ XOne и PC равны."
   ]
  },
  {
   "cell_type": "markdown",
   "metadata": {},
   "source": [
    "### Средние пользовательские рейтинги жанров Action и Sports разные"
   ]
  },
  {
   "cell_type": "markdown",
   "metadata": {},
   "source": [
    "Сформулируем нулевую и альтернативную гипотезы:\n",
    "- средний пользовательский рейтинг жанра Action равен среднему пользовательскому рейтингу жанра Sports\n",
    "- средний пользовательский рейтинг жанра Action не равен среднему пользовательскому рейтингу жанра Sports"
   ]
  },
  {
   "cell_type": "markdown",
   "metadata": {},
   "source": [
    "Подготовим данные для проверки гипотез"
   ]
  },
  {
   "cell_type": "code",
   "execution_count": 71,
   "metadata": {},
   "outputs": [],
   "source": [
    "action_data = actual_data.query('genre == \"Action\"')\n",
    "sports_data = actual_data.query('genre == \"Sports\"')"
   ]
  },
  {
   "cell_type": "markdown",
   "metadata": {},
   "source": [
    "Приступим к проверке"
   ]
  },
  {
   "cell_type": "code",
   "execution_count": 72,
   "metadata": {},
   "outputs": [
    {
     "name": "stdout",
     "output_type": "stream",
     "text": [
      "p-значение:  1.0517832389142297e-27\n",
      "Отвергаем нулевую гипотезу\n"
     ]
    }
   ],
   "source": [
    "alpha = .05\n",
    "results = st.ttest_ind(action_data['user_score'], sports_data['user_score'], nan_policy='omit')\n",
    "print('p-значение: ', results.pvalue)\n",
    "\n",
    "if results.pvalue < alpha:\n",
    "    print(\"Отвергаем нулевую гипотезу\")\n",
    "else:\n",
    "    print(\"Не получилось отвергнуть нулевую гипотезу\") "
   ]
  },
  {
   "cell_type": "markdown",
   "metadata": {},
   "source": [
    "Вероятность того, что мы можем получить разные средние пользовательские оценки случайно - 0,95%, это меньше 5%. Можно отвергнуть нулевую гипотезу - средние пользовательские рейтинги жанров Action и Sports не равны."
   ]
  },
  {
   "cell_type": "markdown",
   "metadata": {},
   "source": [
    "## Общий вывод"
   ]
  },
  {
   "cell_type": "markdown",
   "metadata": {},
   "source": [
    "Было проведено исследование рынка компьютерных игр для интернет-магазина «Стримчик», который продаёт по всему миру компьютерные игры. В нашем распоряжении были исторические данные (до 2016 года) из открытых источников о продажах игр, оценки пользователей и экспертов, жанры и платформы (например, Xbox или PlayStation).\n",
    "Основной задачей было выявить определяющие успешность игры закономерности, чтобы выявить потенциально популярный продукт и спланировать рекламные кампании.\n",
    "\n",
    "В ходе исследования удалось выяснить следующее, что с 1990 плавно начался рост количества выпускаемых игр, на период с 2000 по 2008 пришелся резкий скачок вверх, а после 2009 и вплоть до 2013 года количество выпускаемых игр начало стремительно сокращаться. Продолжительность \"жизни\" игровой платформы около 10 лет, а самые популярные игровые платформы за все время: PS2, X360, PS3, Wii, DS.\n",
    "\n",
    "Для целей настоящего исследования актуальный период анализа был обозначен с 2013 по 2016 год.\n",
    "Популярные за актуальный период платформы: PS4, X360, PS3, XOne, 3DS. При этом тренд на рост продаж наблюдается только у XOne и PS4, предыдущие их поколения все еще пользуются популярностью, но их жизненный цикл подходит к концу, а значит, продажи неминуемо будут продолжать падать. PS4 значительно опережает другие платформы по количеству проданных игр.\n",
    "\n",
    "Ислледование оценок пользователей и критиков показало, что пользовательские оценки не влияют на продажи, а оценки критиков слабо, но напрямую влияют на продажи внутри платформы.\n",
    "\n",
    "Среди самых популярных жанров за ауктуальный период можно выделить: Action, Shooter, Sports, Role-Playing и Misc. Самые безперспективные жанры: паззлы и стратегии. При этом по регионам эти данные будут несколько отличаться.\n",
    "\n",
    "По результатам исследования удалось составить портреты пользователей различных регионов.\n",
    "Пользователь из Северной Америки:\n",
    "- самые популярные платформы PS4, XOne, X360, PS3 и 3DS\n",
    "- популярные жанры Action, Shooter, Sports, Role-Playing и Misc\n",
    "- больше всего покупают игр с рейтингом \"17+\" и \"для всех\", поменьше \"10+\" и \"13+\"\n",
    "\n",
    "Пользователь из Европы:\n",
    "- PS4 и ее прошлое поколение с большим отрывом от остальных, пытаются не отставать XBox и 3DS\n",
    "- в Европе популярны те же жанры, что и в Северной Америке, за исключением гонок - только в европе они входят в топ-5 игр\n",
    "- распределение по рейтингам ESRB то же, что и в Северной Америке: \"17+\" и \"для всех\" в топе, далее идут \"10+\" и \"13+\"\n",
    "\n",
    "Пользователь из Японии:\n",
    "- безусловным лидером является 3DS, также востебованы различные виды платформ PS и WiiU\n",
    "- в отличие от американского и европейского рынков самые популярные жанры - Role-Playing и Action, намного меньше Misc, Fighting, Shooter\n",
    "- по рейтингу ESRB в топе игры для подростков \"13+\", \"17+\" и \"для всех\"\n",
    "\n",
    "Также удалось выяснить, что средние пользовательские рейтинги платформ Xbox One и PC равны, а те же рейтинги в жанрах Action и Sports разные."
   ]
  },
  {
   "cell_type": "markdown",
   "metadata": {},
   "source": [
    "Возвращаясь к основной цели ислледования, можем сделать следующие выводы:\n",
    "\n",
    "Перспективные платформы на ближайшие несколько лет - PS4, XOne и 3DS. При этом есть региональная специфика - на Японский рынок не стоит выходить с играми на XOne, так как платформа там совершенно не востребована, а половину рынка занимает 3DS.\n",
    "\n",
    "Из жанров стоит сделать ставку на Shooter и Action, при этом, для японского рынка однозначно надо ориентироваться на Role-Playing.\n",
    "\n",
    "По рейтингу ESRB самые популярные игры \"17+\" и \"для всех\", на японский рынок стоит идти в том числе с \"13+\"."
   ]
  }
 ],
 "metadata": {
  "ExecuteTimeLog": [
   {
    "duration": 1115,
    "start_time": "2022-01-17T08:06:14.504Z"
   },
   {
    "duration": 37,
    "start_time": "2022-01-17T08:07:37.276Z"
   },
   {
    "duration": 11,
    "start_time": "2022-01-17T08:07:57.401Z"
   },
   {
    "duration": 32,
    "start_time": "2022-01-17T08:08:14.710Z"
   },
   {
    "duration": 29,
    "start_time": "2022-01-17T08:08:35.944Z"
   },
   {
    "duration": 14,
    "start_time": "2022-01-17T08:13:29.274Z"
   },
   {
    "duration": 309,
    "start_time": "2022-01-17T08:38:34.311Z"
   },
   {
    "duration": 403,
    "start_time": "2022-01-17T08:38:45.876Z"
   },
   {
    "duration": 610,
    "start_time": "2022-01-17T08:38:57.674Z"
   },
   {
    "duration": 5,
    "start_time": "2022-01-17T08:43:07.706Z"
   },
   {
    "duration": 191,
    "start_time": "2022-01-17T08:43:33.725Z"
   },
   {
    "duration": 184,
    "start_time": "2022-01-17T08:44:44.703Z"
   },
   {
    "duration": 177,
    "start_time": "2022-01-17T08:49:51.097Z"
   },
   {
    "duration": 3,
    "start_time": "2022-01-17T08:49:57.042Z"
   },
   {
    "duration": 8,
    "start_time": "2022-01-17T08:58:25.028Z"
   },
   {
    "duration": 7,
    "start_time": "2022-01-17T08:59:31.740Z"
   },
   {
    "duration": 8,
    "start_time": "2022-01-17T09:00:55.324Z"
   },
   {
    "duration": 6,
    "start_time": "2022-01-17T09:03:38.184Z"
   },
   {
    "duration": 5,
    "start_time": "2022-01-17T09:03:45.312Z"
   },
   {
    "duration": 6,
    "start_time": "2022-01-17T09:04:44.706Z"
   },
   {
    "duration": 20,
    "start_time": "2022-01-17T09:05:02.839Z"
   },
   {
    "duration": 10,
    "start_time": "2022-01-17T09:08:27.975Z"
   },
   {
    "duration": 13,
    "start_time": "2022-01-17T09:10:00.844Z"
   },
   {
    "duration": 9,
    "start_time": "2022-01-17T09:11:57.507Z"
   },
   {
    "duration": 9,
    "start_time": "2022-01-17T09:12:09.551Z"
   },
   {
    "duration": 7,
    "start_time": "2022-01-17T09:17:26.716Z"
   },
   {
    "duration": 3,
    "start_time": "2022-01-17T09:17:48.955Z"
   },
   {
    "duration": 35,
    "start_time": "2022-01-17T09:17:48.968Z"
   },
   {
    "duration": 9,
    "start_time": "2022-01-17T09:17:49.004Z"
   },
   {
    "duration": 12,
    "start_time": "2022-01-17T09:17:49.015Z"
   },
   {
    "duration": 2,
    "start_time": "2022-01-17T09:17:49.029Z"
   },
   {
    "duration": 9,
    "start_time": "2022-01-17T09:17:49.033Z"
   },
   {
    "duration": 8,
    "start_time": "2022-01-17T09:17:49.043Z"
   },
   {
    "duration": 47,
    "start_time": "2022-01-17T09:17:49.053Z"
   },
   {
    "duration": 7,
    "start_time": "2022-01-17T09:17:49.102Z"
   },
   {
    "duration": 19,
    "start_time": "2022-01-17T09:17:49.111Z"
   },
   {
    "duration": 2,
    "start_time": "2022-01-17T09:17:49.132Z"
   },
   {
    "duration": 194,
    "start_time": "2022-01-17T09:19:23.009Z"
   },
   {
    "duration": 5,
    "start_time": "2022-01-17T09:20:09.193Z"
   },
   {
    "duration": 3,
    "start_time": "2022-01-17T09:20:14.491Z"
   },
   {
    "duration": 64,
    "start_time": "2022-01-17T09:20:14.496Z"
   },
   {
    "duration": 9,
    "start_time": "2022-01-17T09:20:14.561Z"
   },
   {
    "duration": 13,
    "start_time": "2022-01-17T09:20:14.572Z"
   },
   {
    "duration": 3,
    "start_time": "2022-01-17T09:20:14.586Z"
   },
   {
    "duration": 12,
    "start_time": "2022-01-17T09:20:14.590Z"
   },
   {
    "duration": 9,
    "start_time": "2022-01-17T09:20:14.604Z"
   },
   {
    "duration": 15,
    "start_time": "2022-01-17T09:20:14.614Z"
   },
   {
    "duration": 8,
    "start_time": "2022-01-17T09:20:14.630Z"
   },
   {
    "duration": 20,
    "start_time": "2022-01-17T09:20:14.639Z"
   },
   {
    "duration": 1942,
    "start_time": "2022-01-17T09:20:14.660Z"
   },
   {
    "duration": 2,
    "start_time": "2022-01-17T09:20:16.604Z"
   },
   {
    "duration": 9,
    "start_time": "2022-01-17T09:20:32.610Z"
   },
   {
    "duration": 21,
    "start_time": "2022-01-17T09:23:16.557Z"
   },
   {
    "duration": 17,
    "start_time": "2022-01-17T09:23:50.083Z"
   },
   {
    "duration": 40,
    "start_time": "2022-01-17T09:23:50.102Z"
   },
   {
    "duration": 11,
    "start_time": "2022-01-17T09:23:50.144Z"
   },
   {
    "duration": 18,
    "start_time": "2022-01-17T09:23:50.156Z"
   },
   {
    "duration": 16,
    "start_time": "2022-01-17T09:23:50.176Z"
   },
   {
    "duration": 6,
    "start_time": "2022-01-17T09:23:50.193Z"
   },
   {
    "duration": 11,
    "start_time": "2022-01-17T09:23:50.202Z"
   },
   {
    "duration": 15,
    "start_time": "2022-01-17T09:23:50.215Z"
   },
   {
    "duration": 13,
    "start_time": "2022-01-17T09:23:50.231Z"
   },
   {
    "duration": 50,
    "start_time": "2022-01-17T09:23:50.246Z"
   },
   {
    "duration": 7,
    "start_time": "2022-01-17T09:23:50.298Z"
   },
   {
    "duration": 20,
    "start_time": "2022-01-17T09:23:50.306Z"
   },
   {
    "duration": 21,
    "start_time": "2022-01-17T09:56:39.647Z"
   },
   {
    "duration": 25,
    "start_time": "2022-01-17T09:57:13.194Z"
   },
   {
    "duration": 193,
    "start_time": "2022-01-17T09:57:26.261Z"
   },
   {
    "duration": 27,
    "start_time": "2022-01-17T09:57:32.199Z"
   },
   {
    "duration": 23,
    "start_time": "2022-01-17T09:59:18.905Z"
   },
   {
    "duration": 22,
    "start_time": "2022-01-17T09:59:49.049Z"
   },
   {
    "duration": 18,
    "start_time": "2022-01-17T10:04:07.156Z"
   },
   {
    "duration": 6,
    "start_time": "2022-01-17T10:04:20.287Z"
   },
   {
    "duration": 22,
    "start_time": "2022-01-17T10:04:38.022Z"
   },
   {
    "duration": 4981,
    "start_time": "2022-01-17T10:06:09.215Z"
   },
   {
    "duration": 10,
    "start_time": "2022-01-17T10:06:18.613Z"
   },
   {
    "duration": 122,
    "start_time": "2022-01-17T10:06:34.810Z"
   },
   {
    "duration": 169,
    "start_time": "2022-01-17T10:06:41.848Z"
   },
   {
    "duration": 189,
    "start_time": "2022-01-17T10:07:11.200Z"
   },
   {
    "duration": 160,
    "start_time": "2022-01-17T10:07:23.440Z"
   },
   {
    "duration": 18,
    "start_time": "2022-01-17T10:07:40.395Z"
   },
   {
    "duration": 8,
    "start_time": "2022-01-17T10:09:00.383Z"
   },
   {
    "duration": 12,
    "start_time": "2022-01-17T10:10:48.614Z"
   },
   {
    "duration": 18,
    "start_time": "2022-01-17T10:13:04.807Z"
   },
   {
    "duration": 184,
    "start_time": "2022-01-17T10:19:11.881Z"
   },
   {
    "duration": 6,
    "start_time": "2022-01-17T10:19:32.265Z"
   },
   {
    "duration": 6,
    "start_time": "2022-01-17T10:19:40.642Z"
   },
   {
    "duration": 4,
    "start_time": "2022-01-17T10:29:22.727Z"
   },
   {
    "duration": 40,
    "start_time": "2022-01-17T10:29:22.733Z"
   },
   {
    "duration": 9,
    "start_time": "2022-01-17T10:29:22.776Z"
   },
   {
    "duration": 21,
    "start_time": "2022-01-17T10:29:22.786Z"
   },
   {
    "duration": 4,
    "start_time": "2022-01-17T10:29:22.809Z"
   },
   {
    "duration": 11,
    "start_time": "2022-01-17T10:29:22.815Z"
   },
   {
    "duration": 10,
    "start_time": "2022-01-17T10:29:22.827Z"
   },
   {
    "duration": 14,
    "start_time": "2022-01-17T10:29:22.840Z"
   },
   {
    "duration": 8,
    "start_time": "2022-01-17T10:29:22.856Z"
   },
   {
    "duration": 48,
    "start_time": "2022-01-17T10:29:22.865Z"
   },
   {
    "duration": 8,
    "start_time": "2022-01-17T10:29:22.916Z"
   },
   {
    "duration": 24,
    "start_time": "2022-01-17T10:29:22.926Z"
   },
   {
    "duration": 5,
    "start_time": "2022-01-17T10:29:22.952Z"
   },
   {
    "duration": 5,
    "start_time": "2022-01-17T10:31:36.556Z"
   },
   {
    "duration": 13,
    "start_time": "2022-01-17T10:31:43.475Z"
   },
   {
    "duration": 20,
    "start_time": "2022-01-17T10:31:56.257Z"
   },
   {
    "duration": 5,
    "start_time": "2022-01-17T10:32:52.946Z"
   },
   {
    "duration": 7,
    "start_time": "2022-01-17T10:33:28.309Z"
   },
   {
    "duration": 5,
    "start_time": "2022-01-17T10:33:42.603Z"
   },
   {
    "duration": 60,
    "start_time": "2022-01-17T10:33:42.610Z"
   },
   {
    "duration": 13,
    "start_time": "2022-01-17T10:33:42.672Z"
   },
   {
    "duration": 18,
    "start_time": "2022-01-17T10:33:42.687Z"
   },
   {
    "duration": 4,
    "start_time": "2022-01-17T10:33:42.708Z"
   },
   {
    "duration": 8,
    "start_time": "2022-01-17T10:33:42.714Z"
   },
   {
    "duration": 22,
    "start_time": "2022-01-17T10:33:42.724Z"
   },
   {
    "duration": 27,
    "start_time": "2022-01-17T10:33:42.748Z"
   },
   {
    "duration": 10,
    "start_time": "2022-01-17T10:33:42.777Z"
   },
   {
    "duration": 26,
    "start_time": "2022-01-17T10:33:42.789Z"
   },
   {
    "duration": 5,
    "start_time": "2022-01-17T10:33:42.817Z"
   },
   {
    "duration": 4,
    "start_time": "2022-01-17T10:33:42.824Z"
   },
   {
    "duration": 26,
    "start_time": "2022-01-17T10:33:42.830Z"
   },
   {
    "duration": 4,
    "start_time": "2022-01-17T10:33:42.858Z"
   },
   {
    "duration": 15,
    "start_time": "2022-01-17T10:34:21.208Z"
   },
   {
    "duration": 14,
    "start_time": "2022-01-17T10:34:48.408Z"
   },
   {
    "duration": 17,
    "start_time": "2022-01-17T10:35:02.696Z"
   },
   {
    "duration": 22,
    "start_time": "2022-01-17T10:35:22.461Z"
   },
   {
    "duration": 17,
    "start_time": "2022-01-17T10:35:34.501Z"
   },
   {
    "duration": 1155,
    "start_time": "2022-01-17T12:46:39.473Z"
   },
   {
    "duration": 1160,
    "start_time": "2022-01-17T12:46:53.853Z"
   },
   {
    "duration": 1170,
    "start_time": "2022-01-17T12:47:33.197Z"
   },
   {
    "duration": 408,
    "start_time": "2022-01-17T12:47:57.713Z"
   },
   {
    "duration": 5,
    "start_time": "2022-01-17T12:48:28.051Z"
   },
   {
    "duration": 19,
    "start_time": "2022-01-17T12:48:46.493Z"
   },
   {
    "duration": 7,
    "start_time": "2022-01-17T12:49:00.620Z"
   },
   {
    "duration": 5,
    "start_time": "2022-01-17T12:49:04.766Z"
   },
   {
    "duration": 9,
    "start_time": "2022-01-17T12:54:01.977Z"
   },
   {
    "duration": 4,
    "start_time": "2022-01-17T12:54:05.209Z"
   },
   {
    "duration": 38,
    "start_time": "2022-01-17T12:54:05.215Z"
   },
   {
    "duration": 9,
    "start_time": "2022-01-17T12:54:05.256Z"
   },
   {
    "duration": 13,
    "start_time": "2022-01-17T12:54:05.267Z"
   },
   {
    "duration": 5,
    "start_time": "2022-01-17T12:54:05.282Z"
   },
   {
    "duration": 8,
    "start_time": "2022-01-17T12:54:05.290Z"
   },
   {
    "duration": 13,
    "start_time": "2022-01-17T12:54:05.299Z"
   },
   {
    "duration": 15,
    "start_time": "2022-01-17T12:54:05.313Z"
   },
   {
    "duration": 8,
    "start_time": "2022-01-17T12:54:05.330Z"
   },
   {
    "duration": 19,
    "start_time": "2022-01-17T12:54:05.340Z"
   },
   {
    "duration": 34,
    "start_time": "2022-01-17T12:54:05.361Z"
   },
   {
    "duration": 21,
    "start_time": "2022-01-17T12:54:05.397Z"
   },
   {
    "duration": 4,
    "start_time": "2022-01-17T12:54:05.420Z"
   },
   {
    "duration": 8,
    "start_time": "2022-01-17T12:57:31.720Z"
   },
   {
    "duration": 7,
    "start_time": "2022-01-17T12:58:42.226Z"
   },
   {
    "duration": 38,
    "start_time": "2022-01-17T12:58:45.941Z"
   },
   {
    "duration": 3,
    "start_time": "2022-01-17T12:58:55.093Z"
   },
   {
    "duration": 49,
    "start_time": "2022-01-17T12:58:55.100Z"
   },
   {
    "duration": 10,
    "start_time": "2022-01-17T12:58:55.151Z"
   },
   {
    "duration": 13,
    "start_time": "2022-01-17T12:58:55.164Z"
   },
   {
    "duration": 14,
    "start_time": "2022-01-17T12:58:55.179Z"
   },
   {
    "duration": 8,
    "start_time": "2022-01-17T12:58:55.194Z"
   },
   {
    "duration": 13,
    "start_time": "2022-01-17T12:58:55.203Z"
   },
   {
    "duration": 14,
    "start_time": "2022-01-17T12:58:55.218Z"
   },
   {
    "duration": 7,
    "start_time": "2022-01-17T12:58:55.234Z"
   },
   {
    "duration": 49,
    "start_time": "2022-01-17T12:58:55.244Z"
   },
   {
    "duration": 7,
    "start_time": "2022-01-17T12:58:55.295Z"
   },
   {
    "duration": 4,
    "start_time": "2022-01-17T12:58:55.304Z"
   },
   {
    "duration": 25,
    "start_time": "2022-01-17T12:58:55.310Z"
   },
   {
    "duration": 5,
    "start_time": "2022-01-17T12:58:55.336Z"
   },
   {
    "duration": 6,
    "start_time": "2022-01-17T13:02:21.541Z"
   },
   {
    "duration": 53,
    "start_time": "2022-01-17T13:03:56.483Z"
   },
   {
    "duration": 66,
    "start_time": "2022-01-17T13:04:41.309Z"
   },
   {
    "duration": 5,
    "start_time": "2022-01-17T13:04:48.755Z"
   },
   {
    "duration": 4,
    "start_time": "2022-01-17T13:04:58.496Z"
   },
   {
    "duration": 4,
    "start_time": "2022-01-17T13:05:13.745Z"
   },
   {
    "duration": 7,
    "start_time": "2022-01-17T13:05:59.809Z"
   },
   {
    "duration": 1098,
    "start_time": "2022-01-17T13:06:20.335Z"
   },
   {
    "duration": 40,
    "start_time": "2022-01-17T13:06:21.435Z"
   },
   {
    "duration": 10,
    "start_time": "2022-01-17T13:06:21.478Z"
   },
   {
    "duration": 17,
    "start_time": "2022-01-17T13:06:21.491Z"
   },
   {
    "duration": 3,
    "start_time": "2022-01-17T13:06:21.510Z"
   },
   {
    "duration": 9,
    "start_time": "2022-01-17T13:06:21.514Z"
   },
   {
    "duration": 8,
    "start_time": "2022-01-17T13:06:21.525Z"
   },
   {
    "duration": 19,
    "start_time": "2022-01-17T13:06:21.535Z"
   },
   {
    "duration": 36,
    "start_time": "2022-01-17T13:06:21.556Z"
   },
   {
    "duration": 31,
    "start_time": "2022-01-17T13:06:21.594Z"
   },
   {
    "duration": 13,
    "start_time": "2022-01-17T13:06:21.627Z"
   },
   {
    "duration": 7,
    "start_time": "2022-01-17T13:06:21.641Z"
   },
   {
    "duration": 14,
    "start_time": "2022-01-17T13:06:21.650Z"
   },
   {
    "duration": 55,
    "start_time": "2022-01-17T13:06:21.666Z"
   },
   {
    "duration": 6,
    "start_time": "2022-01-17T13:06:21.722Z"
   },
   {
    "duration": 7,
    "start_time": "2022-01-17T13:09:44.792Z"
   },
   {
    "duration": 11,
    "start_time": "2022-01-17T13:10:30.529Z"
   },
   {
    "duration": 7,
    "start_time": "2022-01-17T13:11:20.864Z"
   },
   {
    "duration": 4,
    "start_time": "2022-01-17T13:12:44.881Z"
   },
   {
    "duration": 1147,
    "start_time": "2022-01-17T13:12:57.983Z"
   },
   {
    "duration": 38,
    "start_time": "2022-01-17T13:12:59.132Z"
   },
   {
    "duration": 10,
    "start_time": "2022-01-17T13:12:59.175Z"
   },
   {
    "duration": 17,
    "start_time": "2022-01-17T13:12:59.191Z"
   },
   {
    "duration": 3,
    "start_time": "2022-01-17T13:12:59.210Z"
   },
   {
    "duration": 10,
    "start_time": "2022-01-17T13:12:59.215Z"
   },
   {
    "duration": 264,
    "start_time": "2022-01-17T13:12:59.226Z"
   },
   {
    "duration": -766,
    "start_time": "2022-01-17T13:13:00.259Z"
   },
   {
    "duration": -769,
    "start_time": "2022-01-17T13:13:00.263Z"
   },
   {
    "duration": -769,
    "start_time": "2022-01-17T13:13:00.265Z"
   },
   {
    "duration": -769,
    "start_time": "2022-01-17T13:13:00.267Z"
   },
   {
    "duration": -768,
    "start_time": "2022-01-17T13:13:00.268Z"
   },
   {
    "duration": -769,
    "start_time": "2022-01-17T13:13:00.271Z"
   },
   {
    "duration": -771,
    "start_time": "2022-01-17T13:13:00.274Z"
   },
   {
    "duration": -770,
    "start_time": "2022-01-17T13:13:00.275Z"
   },
   {
    "duration": -770,
    "start_time": "2022-01-17T13:13:00.277Z"
   },
   {
    "duration": -771,
    "start_time": "2022-01-17T13:13:00.279Z"
   },
   {
    "duration": 166,
    "start_time": "2022-01-17T13:13:14.792Z"
   },
   {
    "duration": 169,
    "start_time": "2022-01-17T13:13:24.295Z"
   },
   {
    "duration": 167,
    "start_time": "2022-01-17T13:14:09.937Z"
   },
   {
    "duration": 4,
    "start_time": "2022-01-17T13:14:13.680Z"
   },
   {
    "duration": 40,
    "start_time": "2022-01-17T13:14:13.686Z"
   },
   {
    "duration": 10,
    "start_time": "2022-01-17T13:14:13.728Z"
   },
   {
    "duration": 13,
    "start_time": "2022-01-17T13:14:13.740Z"
   },
   {
    "duration": 4,
    "start_time": "2022-01-17T13:14:13.755Z"
   },
   {
    "duration": 30,
    "start_time": "2022-01-17T13:14:13.761Z"
   },
   {
    "duration": 9,
    "start_time": "2022-01-17T13:14:13.793Z"
   },
   {
    "duration": 13,
    "start_time": "2022-01-17T13:14:13.804Z"
   },
   {
    "duration": 9,
    "start_time": "2022-01-17T13:14:13.819Z"
   },
   {
    "duration": 19,
    "start_time": "2022-01-17T13:14:13.829Z"
   },
   {
    "duration": 41,
    "start_time": "2022-01-17T13:14:13.850Z"
   },
   {
    "duration": 4,
    "start_time": "2022-01-17T13:14:13.894Z"
   },
   {
    "duration": 6,
    "start_time": "2022-01-17T13:14:13.900Z"
   },
   {
    "duration": 8,
    "start_time": "2022-01-17T13:14:13.908Z"
   },
   {
    "duration": 21,
    "start_time": "2022-01-17T13:14:13.918Z"
   },
   {
    "duration": 10,
    "start_time": "2022-01-17T13:14:13.940Z"
   },
   {
    "duration": 43,
    "start_time": "2022-01-17T13:14:13.952Z"
   },
   {
    "duration": 4,
    "start_time": "2022-01-17T13:14:39.143Z"
   },
   {
    "duration": 83,
    "start_time": "2022-01-17T13:14:39.150Z"
   },
   {
    "duration": 9,
    "start_time": "2022-01-17T13:14:39.235Z"
   },
   {
    "duration": 41,
    "start_time": "2022-01-17T13:14:39.246Z"
   },
   {
    "duration": 20,
    "start_time": "2022-01-17T13:14:39.289Z"
   },
   {
    "duration": 26,
    "start_time": "2022-01-17T13:14:39.311Z"
   },
   {
    "duration": 46,
    "start_time": "2022-01-17T13:14:39.340Z"
   },
   {
    "duration": 51,
    "start_time": "2022-01-17T13:14:39.389Z"
   },
   {
    "duration": 20,
    "start_time": "2022-01-17T13:14:39.442Z"
   },
   {
    "duration": 27,
    "start_time": "2022-01-17T13:14:39.463Z"
   },
   {
    "duration": 7,
    "start_time": "2022-01-17T13:14:39.492Z"
   },
   {
    "duration": 16,
    "start_time": "2022-01-17T13:14:39.500Z"
   },
   {
    "duration": 20,
    "start_time": "2022-01-17T13:14:39.518Z"
   },
   {
    "duration": 37,
    "start_time": "2022-01-17T13:14:39.540Z"
   },
   {
    "duration": 9,
    "start_time": "2022-01-17T13:14:39.579Z"
   },
   {
    "duration": 25,
    "start_time": "2022-01-17T13:14:39.589Z"
   },
   {
    "duration": 4,
    "start_time": "2022-01-17T13:16:08.266Z"
   },
   {
    "duration": 62,
    "start_time": "2022-01-17T13:16:08.272Z"
   },
   {
    "duration": 11,
    "start_time": "2022-01-17T13:16:08.336Z"
   },
   {
    "duration": 34,
    "start_time": "2022-01-17T13:16:08.349Z"
   },
   {
    "duration": 4,
    "start_time": "2022-01-17T13:16:08.385Z"
   },
   {
    "duration": 12,
    "start_time": "2022-01-17T13:16:08.391Z"
   },
   {
    "duration": 16,
    "start_time": "2022-01-17T13:16:08.405Z"
   },
   {
    "duration": 16,
    "start_time": "2022-01-17T13:16:08.424Z"
   },
   {
    "duration": 14,
    "start_time": "2022-01-17T13:16:08.442Z"
   },
   {
    "duration": 37,
    "start_time": "2022-01-17T13:16:08.458Z"
   },
   {
    "duration": 4,
    "start_time": "2022-01-17T13:16:08.498Z"
   },
   {
    "duration": 12,
    "start_time": "2022-01-17T13:16:08.504Z"
   },
   {
    "duration": 10,
    "start_time": "2022-01-17T13:16:08.518Z"
   },
   {
    "duration": 45,
    "start_time": "2022-01-17T13:16:08.530Z"
   },
   {
    "duration": 16,
    "start_time": "2022-01-17T13:16:08.578Z"
   },
   {
    "duration": 4,
    "start_time": "2022-01-17T13:18:08.422Z"
   },
   {
    "duration": 43,
    "start_time": "2022-01-17T13:18:08.428Z"
   },
   {
    "duration": 11,
    "start_time": "2022-01-17T13:18:08.473Z"
   },
   {
    "duration": 15,
    "start_time": "2022-01-17T13:18:08.487Z"
   },
   {
    "duration": 4,
    "start_time": "2022-01-17T13:18:08.504Z"
   },
   {
    "duration": 11,
    "start_time": "2022-01-17T13:18:08.510Z"
   },
   {
    "duration": 19,
    "start_time": "2022-01-17T13:18:08.523Z"
   },
   {
    "duration": 15,
    "start_time": "2022-01-17T13:18:08.544Z"
   },
   {
    "duration": 34,
    "start_time": "2022-01-17T13:18:08.562Z"
   },
   {
    "duration": 20,
    "start_time": "2022-01-17T13:18:08.598Z"
   },
   {
    "duration": 8,
    "start_time": "2022-01-17T13:18:08.620Z"
   },
   {
    "duration": 9,
    "start_time": "2022-01-17T13:18:08.629Z"
   },
   {
    "duration": 8,
    "start_time": "2022-01-17T13:18:08.639Z"
   },
   {
    "duration": 61,
    "start_time": "2022-01-17T13:18:08.649Z"
   },
   {
    "duration": 5,
    "start_time": "2022-01-17T13:18:08.712Z"
   },
   {
    "duration": 193,
    "start_time": "2022-01-17T13:25:54.911Z"
   },
   {
    "duration": 231,
    "start_time": "2022-01-17T13:26:33.129Z"
   },
   {
    "duration": 236,
    "start_time": "2022-01-17T13:26:40.681Z"
   },
   {
    "duration": 189,
    "start_time": "2022-01-17T13:26:46.416Z"
   },
   {
    "duration": 227,
    "start_time": "2022-01-17T13:26:50.695Z"
   },
   {
    "duration": 187,
    "start_time": "2022-01-17T13:27:22.872Z"
   },
   {
    "duration": 351,
    "start_time": "2022-01-17T13:27:30.033Z"
   },
   {
    "duration": 282,
    "start_time": "2022-01-17T13:27:45.018Z"
   },
   {
    "duration": 411,
    "start_time": "2022-01-17T13:29:13.196Z"
   },
   {
    "duration": 471,
    "start_time": "2022-01-17T13:29:18.577Z"
   },
   {
    "duration": 218,
    "start_time": "2022-01-17T13:29:34.778Z"
   },
   {
    "duration": 172,
    "start_time": "2022-01-17T13:30:19.838Z"
   },
   {
    "duration": 205,
    "start_time": "2022-01-17T13:30:34.202Z"
   },
   {
    "duration": 232,
    "start_time": "2022-01-17T13:31:49.078Z"
   },
   {
    "duration": 253,
    "start_time": "2022-01-17T13:35:51.653Z"
   },
   {
    "duration": 230,
    "start_time": "2022-01-17T13:35:59.820Z"
   },
   {
    "duration": 248,
    "start_time": "2022-01-17T13:36:03.564Z"
   },
   {
    "duration": 226,
    "start_time": "2022-01-17T13:36:18.135Z"
   },
   {
    "duration": 276,
    "start_time": "2022-01-17T13:37:45.970Z"
   },
   {
    "duration": 353,
    "start_time": "2022-01-17T13:38:13.886Z"
   },
   {
    "duration": 225,
    "start_time": "2022-01-17T13:40:20.319Z"
   },
   {
    "duration": 272,
    "start_time": "2022-01-17T13:40:25.626Z"
   },
   {
    "duration": 189,
    "start_time": "2022-01-17T13:40:44.506Z"
   },
   {
    "duration": 445,
    "start_time": "2022-01-17T13:40:55.480Z"
   },
   {
    "duration": 4287,
    "start_time": "2022-01-17T13:41:37.940Z"
   },
   {
    "duration": 276,
    "start_time": "2022-01-17T13:42:14.660Z"
   },
   {
    "duration": 246,
    "start_time": "2022-01-17T13:42:23.405Z"
   },
   {
    "duration": 319,
    "start_time": "2022-01-17T13:42:34.192Z"
   },
   {
    "duration": 286,
    "start_time": "2022-01-17T13:42:42.254Z"
   },
   {
    "duration": 286,
    "start_time": "2022-01-17T13:42:48.832Z"
   },
   {
    "duration": 307,
    "start_time": "2022-01-17T13:45:20.119Z"
   },
   {
    "duration": 11,
    "start_time": "2022-01-17T13:55:41.115Z"
   },
   {
    "duration": 463,
    "start_time": "2022-01-17T13:58:53.996Z"
   },
   {
    "duration": 419,
    "start_time": "2022-01-17T13:59:07.967Z"
   },
   {
    "duration": 418,
    "start_time": "2022-01-17T13:59:18.784Z"
   },
   {
    "duration": 436,
    "start_time": "2022-01-17T13:59:27.442Z"
   },
   {
    "duration": 421,
    "start_time": "2022-01-17T13:59:56.993Z"
   },
   {
    "duration": 9,
    "start_time": "2022-01-17T14:11:37.169Z"
   },
   {
    "duration": 1138,
    "start_time": "2022-01-17T14:14:00.500Z"
   },
   {
    "duration": 38,
    "start_time": "2022-01-17T14:14:01.640Z"
   },
   {
    "duration": 13,
    "start_time": "2022-01-17T14:14:01.681Z"
   },
   {
    "duration": 18,
    "start_time": "2022-01-17T14:14:01.696Z"
   },
   {
    "duration": 4,
    "start_time": "2022-01-17T14:14:01.716Z"
   },
   {
    "duration": 14,
    "start_time": "2022-01-17T14:14:01.722Z"
   },
   {
    "duration": 10,
    "start_time": "2022-01-17T14:14:01.738Z"
   },
   {
    "duration": 41,
    "start_time": "2022-01-17T14:14:01.751Z"
   },
   {
    "duration": 8,
    "start_time": "2022-01-17T14:14:01.794Z"
   },
   {
    "duration": 21,
    "start_time": "2022-01-17T14:14:01.804Z"
   },
   {
    "duration": 7,
    "start_time": "2022-01-17T14:14:01.827Z"
   },
   {
    "duration": 11,
    "start_time": "2022-01-17T14:14:01.836Z"
   },
   {
    "duration": 17,
    "start_time": "2022-01-17T14:14:01.848Z"
   },
   {
    "duration": 42,
    "start_time": "2022-01-17T14:14:01.866Z"
   },
   {
    "duration": 5,
    "start_time": "2022-01-17T14:14:01.910Z"
   },
   {
    "duration": 337,
    "start_time": "2022-01-17T14:14:01.917Z"
   },
   {
    "duration": 11,
    "start_time": "2022-01-17T14:14:02.256Z"
   },
   {
    "duration": 450,
    "start_time": "2022-01-17T14:14:02.269Z"
   },
   {
    "duration": 317,
    "start_time": "2022-01-17T14:20:37.288Z"
   },
   {
    "duration": 18,
    "start_time": "2022-01-17T14:21:13.617Z"
   },
   {
    "duration": 48,
    "start_time": "2022-01-17T14:21:20.444Z"
   },
   {
    "duration": 44,
    "start_time": "2022-01-17T14:21:43.086Z"
   },
   {
    "duration": 49,
    "start_time": "2022-01-17T14:23:11.144Z"
   },
   {
    "duration": 14,
    "start_time": "2022-01-17T14:24:32.888Z"
   },
   {
    "duration": 16,
    "start_time": "2022-01-17T14:25:53.516Z"
   },
   {
    "duration": 1899,
    "start_time": "2022-01-17T14:26:43.967Z"
   },
   {
    "duration": 2014,
    "start_time": "2022-01-17T14:26:59.458Z"
   },
   {
    "duration": 2173,
    "start_time": "2022-01-17T14:27:17.528Z"
   },
   {
    "duration": 868,
    "start_time": "2022-01-17T14:27:34.384Z"
   },
   {
    "duration": 850,
    "start_time": "2022-01-17T14:27:52.642Z"
   },
   {
    "duration": 815,
    "start_time": "2022-01-17T14:28:01.704Z"
   },
   {
    "duration": 855,
    "start_time": "2022-01-17T14:28:07.967Z"
   },
   {
    "duration": 58,
    "start_time": "2022-01-17T14:28:16.694Z"
   },
   {
    "duration": 518,
    "start_time": "2022-01-17T14:28:21.329Z"
   },
   {
    "duration": 526,
    "start_time": "2022-01-17T14:29:09.724Z"
   },
   {
    "duration": 767,
    "start_time": "2022-01-17T14:29:25.354Z"
   },
   {
    "duration": 557,
    "start_time": "2022-01-17T14:29:29.456Z"
   },
   {
    "duration": 642,
    "start_time": "2022-01-17T14:29:55.503Z"
   },
   {
    "duration": 6198,
    "start_time": "2022-01-17T14:31:45.707Z"
   },
   {
    "duration": 5616,
    "start_time": "2022-01-17T14:32:04.259Z"
   },
   {
    "duration": 5736,
    "start_time": "2022-01-17T14:32:19.698Z"
   },
   {
    "duration": 869,
    "start_time": "2022-01-17T14:32:43.425Z"
   },
   {
    "duration": 166,
    "start_time": "2022-01-17T14:32:55.883Z"
   },
   {
    "duration": 644,
    "start_time": "2022-01-17T14:33:04.581Z"
   },
   {
    "duration": 688,
    "start_time": "2022-01-17T14:33:45.597Z"
   },
   {
    "duration": 2009,
    "start_time": "2022-01-17T14:34:00.463Z"
   },
   {
    "duration": 17,
    "start_time": "2022-01-17T14:34:45.323Z"
   },
   {
    "duration": 2342,
    "start_time": "2022-01-17T14:34:47.496Z"
   },
   {
    "duration": 996,
    "start_time": "2022-01-17T14:34:51.996Z"
   },
   {
    "duration": 712,
    "start_time": "2022-01-17T14:35:15.796Z"
   },
   {
    "duration": 169,
    "start_time": "2022-01-17T14:37:10.197Z"
   },
   {
    "duration": 353,
    "start_time": "2022-01-17T14:37:21.451Z"
   },
   {
    "duration": 319,
    "start_time": "2022-01-17T14:37:32.228Z"
   },
   {
    "duration": 385,
    "start_time": "2022-01-17T14:37:38.781Z"
   },
   {
    "duration": 2097,
    "start_time": "2022-01-17T14:38:09.831Z"
   },
   {
    "duration": 2216,
    "start_time": "2022-01-17T14:38:21.222Z"
   },
   {
    "duration": 2590,
    "start_time": "2022-01-17T14:38:34.780Z"
   },
   {
    "duration": 165,
    "start_time": "2022-01-17T14:40:17.213Z"
   },
   {
    "duration": 475,
    "start_time": "2022-01-17T14:40:32.129Z"
   },
   {
    "duration": 411,
    "start_time": "2022-01-17T14:40:44.875Z"
   },
   {
    "duration": 17,
    "start_time": "2022-01-18T07:45:32.063Z"
   },
   {
    "duration": 2467,
    "start_time": "2022-01-18T07:45:34.633Z"
   },
   {
    "duration": 2395,
    "start_time": "2022-01-18T07:45:42.640Z"
   },
   {
    "duration": 60,
    "start_time": "2022-01-18T07:47:26.253Z"
   },
   {
    "duration": 7,
    "start_time": "2022-01-18T07:47:35.499Z"
   },
   {
    "duration": 186,
    "start_time": "2022-01-18T07:48:46.335Z"
   },
   {
    "duration": 2525,
    "start_time": "2022-01-18T07:48:58.516Z"
   },
   {
    "duration": 113788,
    "start_time": "2022-01-18T07:49:39.121Z"
   },
   {
    "duration": 513,
    "start_time": "2022-01-18T07:51:32.911Z"
   },
   {
    "duration": 5809,
    "start_time": "2022-01-18T07:52:12.599Z"
   },
   {
    "duration": 31,
    "start_time": "2022-01-18T07:52:34.585Z"
   },
   {
    "duration": 306,
    "start_time": "2022-01-18T07:53:17.737Z"
   },
   {
    "duration": 6743,
    "start_time": "2022-01-18T07:53:29.141Z"
   },
   {
    "duration": 111023,
    "start_time": "2022-01-18T07:54:08.769Z"
   },
   {
    "duration": 4,
    "start_time": "2022-01-18T07:56:55.266Z"
   },
   {
    "duration": 4,
    "start_time": "2022-01-18T07:56:59.185Z"
   },
   {
    "duration": 41,
    "start_time": "2022-01-18T07:56:59.191Z"
   },
   {
    "duration": 10,
    "start_time": "2022-01-18T07:56:59.234Z"
   },
   {
    "duration": 16,
    "start_time": "2022-01-18T07:56:59.246Z"
   },
   {
    "duration": 8,
    "start_time": "2022-01-18T07:56:59.264Z"
   },
   {
    "duration": 207,
    "start_time": "2022-01-18T07:56:59.274Z"
   },
   {
    "duration": -641,
    "start_time": "2022-01-18T07:57:00.125Z"
   },
   {
    "duration": -642,
    "start_time": "2022-01-18T07:57:00.127Z"
   },
   {
    "duration": -645,
    "start_time": "2022-01-18T07:57:00.131Z"
   },
   {
    "duration": -646,
    "start_time": "2022-01-18T07:57:00.133Z"
   },
   {
    "duration": -647,
    "start_time": "2022-01-18T07:57:00.135Z"
   },
   {
    "duration": -648,
    "start_time": "2022-01-18T07:57:00.137Z"
   },
   {
    "duration": -650,
    "start_time": "2022-01-18T07:57:00.140Z"
   },
   {
    "duration": -651,
    "start_time": "2022-01-18T07:57:00.142Z"
   },
   {
    "duration": -657,
    "start_time": "2022-01-18T07:57:00.149Z"
   },
   {
    "duration": -676,
    "start_time": "2022-01-18T07:57:00.169Z"
   },
   {
    "duration": -680,
    "start_time": "2022-01-18T07:57:00.174Z"
   },
   {
    "duration": -682,
    "start_time": "2022-01-18T07:57:00.177Z"
   },
   {
    "duration": -687,
    "start_time": "2022-01-18T07:57:00.183Z"
   },
   {
    "duration": -688,
    "start_time": "2022-01-18T07:57:00.185Z"
   },
   {
    "duration": -689,
    "start_time": "2022-01-18T07:57:00.187Z"
   },
   {
    "duration": 233,
    "start_time": "2022-01-18T07:57:13.366Z"
   },
   {
    "duration": 3,
    "start_time": "2022-01-18T07:58:48.605Z"
   },
   {
    "duration": 52,
    "start_time": "2022-01-18T07:58:48.610Z"
   },
   {
    "duration": 10,
    "start_time": "2022-01-18T07:58:48.664Z"
   },
   {
    "duration": 16,
    "start_time": "2022-01-18T07:58:48.676Z"
   },
   {
    "duration": 13,
    "start_time": "2022-01-18T07:58:48.694Z"
   },
   {
    "duration": 4279,
    "start_time": "2022-01-18T07:58:48.708Z"
   },
   {
    "duration": -743,
    "start_time": "2022-01-18T07:58:53.732Z"
   },
   {
    "duration": -745,
    "start_time": "2022-01-18T07:58:53.735Z"
   },
   {
    "duration": -747,
    "start_time": "2022-01-18T07:58:53.738Z"
   },
   {
    "duration": -753,
    "start_time": "2022-01-18T07:58:53.745Z"
   },
   {
    "duration": -754,
    "start_time": "2022-01-18T07:58:53.747Z"
   },
   {
    "duration": -755,
    "start_time": "2022-01-18T07:58:53.749Z"
   },
   {
    "duration": -756,
    "start_time": "2022-01-18T07:58:53.751Z"
   },
   {
    "duration": -758,
    "start_time": "2022-01-18T07:58:53.754Z"
   },
   {
    "duration": -763,
    "start_time": "2022-01-18T07:58:53.760Z"
   },
   {
    "duration": -765,
    "start_time": "2022-01-18T07:58:53.763Z"
   },
   {
    "duration": -766,
    "start_time": "2022-01-18T07:58:53.765Z"
   },
   {
    "duration": -767,
    "start_time": "2022-01-18T07:58:53.767Z"
   },
   {
    "duration": -769,
    "start_time": "2022-01-18T07:58:53.769Z"
   },
   {
    "duration": -770,
    "start_time": "2022-01-18T07:58:53.772Z"
   },
   {
    "duration": -777,
    "start_time": "2022-01-18T07:58:53.779Z"
   },
   {
    "duration": -777,
    "start_time": "2022-01-18T07:58:53.781Z"
   },
   {
    "duration": 3,
    "start_time": "2022-01-18T07:59:07.899Z"
   },
   {
    "duration": 51,
    "start_time": "2022-01-18T07:59:07.904Z"
   },
   {
    "duration": 10,
    "start_time": "2022-01-18T07:59:07.957Z"
   },
   {
    "duration": 25,
    "start_time": "2022-01-18T07:59:07.969Z"
   },
   {
    "duration": 30,
    "start_time": "2022-01-18T07:59:07.996Z"
   },
   {
    "duration": 4282,
    "start_time": "2022-01-18T07:59:08.028Z"
   },
   {
    "duration": -625,
    "start_time": "2022-01-18T07:59:12.938Z"
   },
   {
    "duration": -631,
    "start_time": "2022-01-18T07:59:12.945Z"
   },
   {
    "duration": -633,
    "start_time": "2022-01-18T07:59:12.948Z"
   },
   {
    "duration": -635,
    "start_time": "2022-01-18T07:59:12.951Z"
   },
   {
    "duration": -635,
    "start_time": "2022-01-18T07:59:12.952Z"
   },
   {
    "duration": -636,
    "start_time": "2022-01-18T07:59:12.954Z"
   },
   {
    "duration": -638,
    "start_time": "2022-01-18T07:59:12.958Z"
   },
   {
    "duration": -643,
    "start_time": "2022-01-18T07:59:12.964Z"
   },
   {
    "duration": -644,
    "start_time": "2022-01-18T07:59:12.965Z"
   },
   {
    "duration": -645,
    "start_time": "2022-01-18T07:59:12.967Z"
   },
   {
    "duration": -645,
    "start_time": "2022-01-18T07:59:12.968Z"
   },
   {
    "duration": -646,
    "start_time": "2022-01-18T07:59:12.970Z"
   },
   {
    "duration": -648,
    "start_time": "2022-01-18T07:59:12.973Z"
   },
   {
    "duration": -649,
    "start_time": "2022-01-18T07:59:12.975Z"
   },
   {
    "duration": -649,
    "start_time": "2022-01-18T07:59:12.976Z"
   },
   {
    "duration": -650,
    "start_time": "2022-01-18T07:59:12.978Z"
   },
   {
    "duration": 3,
    "start_time": "2022-01-18T08:00:49.842Z"
   },
   {
    "duration": 38,
    "start_time": "2022-01-18T08:00:49.847Z"
   },
   {
    "duration": 10,
    "start_time": "2022-01-18T08:00:49.887Z"
   },
   {
    "duration": 13,
    "start_time": "2022-01-18T08:00:49.899Z"
   },
   {
    "duration": 2,
    "start_time": "2022-01-18T08:00:49.914Z"
   },
   {
    "duration": 200,
    "start_time": "2022-01-18T08:00:49.917Z"
   },
   {
    "duration": -641,
    "start_time": "2022-01-18T08:00:50.760Z"
   },
   {
    "duration": -642,
    "start_time": "2022-01-18T08:00:50.762Z"
   },
   {
    "duration": -644,
    "start_time": "2022-01-18T08:00:50.765Z"
   },
   {
    "duration": -646,
    "start_time": "2022-01-18T08:00:50.768Z"
   },
   {
    "duration": -649,
    "start_time": "2022-01-18T08:00:50.771Z"
   },
   {
    "duration": -650,
    "start_time": "2022-01-18T08:00:50.773Z"
   },
   {
    "duration": -662,
    "start_time": "2022-01-18T08:00:50.786Z"
   },
   {
    "duration": -664,
    "start_time": "2022-01-18T08:00:50.789Z"
   },
   {
    "duration": -665,
    "start_time": "2022-01-18T08:00:50.791Z"
   },
   {
    "duration": -666,
    "start_time": "2022-01-18T08:00:50.793Z"
   },
   {
    "duration": -667,
    "start_time": "2022-01-18T08:00:50.795Z"
   },
   {
    "duration": -671,
    "start_time": "2022-01-18T08:00:50.800Z"
   },
   {
    "duration": -673,
    "start_time": "2022-01-18T08:00:50.802Z"
   },
   {
    "duration": -674,
    "start_time": "2022-01-18T08:00:50.804Z"
   },
   {
    "duration": -673,
    "start_time": "2022-01-18T08:00:50.805Z"
   },
   {
    "duration": -674,
    "start_time": "2022-01-18T08:00:50.807Z"
   },
   {
    "duration": 3,
    "start_time": "2022-01-18T08:01:29.211Z"
   },
   {
    "duration": 3,
    "start_time": "2022-01-18T08:02:51.662Z"
   },
   {
    "duration": 48,
    "start_time": "2022-01-18T08:02:51.668Z"
   },
   {
    "duration": 10,
    "start_time": "2022-01-18T08:02:51.718Z"
   },
   {
    "duration": 14,
    "start_time": "2022-01-18T08:02:51.730Z"
   },
   {
    "duration": 4,
    "start_time": "2022-01-18T08:02:51.746Z"
   },
   {
    "duration": 186,
    "start_time": "2022-01-18T08:02:51.752Z"
   },
   {
    "duration": -632,
    "start_time": "2022-01-18T08:02:52.572Z"
   },
   {
    "duration": -633,
    "start_time": "2022-01-18T08:02:52.574Z"
   },
   {
    "duration": -633,
    "start_time": "2022-01-18T08:02:52.575Z"
   },
   {
    "duration": -634,
    "start_time": "2022-01-18T08:02:52.577Z"
   },
   {
    "duration": -634,
    "start_time": "2022-01-18T08:02:52.578Z"
   },
   {
    "duration": -636,
    "start_time": "2022-01-18T08:02:52.581Z"
   },
   {
    "duration": -642,
    "start_time": "2022-01-18T08:02:52.588Z"
   },
   {
    "duration": -643,
    "start_time": "2022-01-18T08:02:52.590Z"
   },
   {
    "duration": -644,
    "start_time": "2022-01-18T08:02:52.592Z"
   },
   {
    "duration": -645,
    "start_time": "2022-01-18T08:02:52.594Z"
   },
   {
    "duration": -646,
    "start_time": "2022-01-18T08:02:52.596Z"
   },
   {
    "duration": -646,
    "start_time": "2022-01-18T08:02:52.597Z"
   },
   {
    "duration": -653,
    "start_time": "2022-01-18T08:02:52.605Z"
   },
   {
    "duration": -654,
    "start_time": "2022-01-18T08:02:52.607Z"
   },
   {
    "duration": -655,
    "start_time": "2022-01-18T08:02:52.609Z"
   },
   {
    "duration": -656,
    "start_time": "2022-01-18T08:02:52.611Z"
   },
   {
    "duration": 4,
    "start_time": "2022-01-18T08:04:22.177Z"
   },
   {
    "duration": 37,
    "start_time": "2022-01-18T08:04:22.183Z"
   },
   {
    "duration": 10,
    "start_time": "2022-01-18T08:04:22.222Z"
   },
   {
    "duration": 20,
    "start_time": "2022-01-18T08:04:22.234Z"
   },
   {
    "duration": 13,
    "start_time": "2022-01-18T08:04:22.256Z"
   },
   {
    "duration": 21,
    "start_time": "2022-01-18T08:04:22.271Z"
   },
   {
    "duration": 24,
    "start_time": "2022-01-18T08:04:22.294Z"
   },
   {
    "duration": 20,
    "start_time": "2022-01-18T08:04:22.322Z"
   },
   {
    "duration": 23,
    "start_time": "2022-01-18T08:04:22.344Z"
   },
   {
    "duration": 19,
    "start_time": "2022-01-18T08:04:22.369Z"
   },
   {
    "duration": 7,
    "start_time": "2022-01-18T08:04:22.390Z"
   },
   {
    "duration": 17,
    "start_time": "2022-01-18T08:04:22.399Z"
   },
   {
    "duration": 11,
    "start_time": "2022-01-18T08:04:22.417Z"
   },
   {
    "duration": 29,
    "start_time": "2022-01-18T08:04:22.429Z"
   },
   {
    "duration": 4,
    "start_time": "2022-01-18T08:04:22.460Z"
   },
   {
    "duration": 408,
    "start_time": "2022-01-18T08:04:22.466Z"
   },
   {
    "duration": 19,
    "start_time": "2022-01-18T08:04:22.876Z"
   },
   {
    "duration": 515,
    "start_time": "2022-01-18T08:04:22.897Z"
   },
   {
    "duration": 17,
    "start_time": "2022-01-18T08:04:23.414Z"
   },
   {
    "duration": 32,
    "start_time": "2022-01-18T08:04:23.432Z"
   },
   {
    "duration": 106164,
    "start_time": "2022-01-18T08:04:23.490Z"
   },
   {
    "duration": 42,
    "start_time": "2022-01-18T08:12:42.758Z"
   },
   {
    "duration": 14,
    "start_time": "2022-01-18T08:12:52.159Z"
   },
   {
    "duration": 39,
    "start_time": "2022-01-18T08:12:59.224Z"
   },
   {
    "duration": 3,
    "start_time": "2022-01-18T08:14:14.304Z"
   },
   {
    "duration": 226,
    "start_time": "2022-01-18T08:14:17.104Z"
   },
   {
    "duration": 33,
    "start_time": "2022-01-18T08:14:28.628Z"
   },
   {
    "duration": 37,
    "start_time": "2022-01-18T08:15:47.740Z"
   },
   {
    "duration": 33,
    "start_time": "2022-01-18T08:16:04.509Z"
   },
   {
    "duration": 6003,
    "start_time": "2022-01-18T08:16:39.089Z"
   },
   {
    "duration": 6064,
    "start_time": "2022-01-18T08:18:00.405Z"
   },
   {
    "duration": 270,
    "start_time": "2022-01-18T08:19:59.897Z"
   },
   {
    "duration": 53,
    "start_time": "2022-01-18T08:20:47.887Z"
   },
   {
    "duration": 19,
    "start_time": "2022-01-18T08:20:55.916Z"
   },
   {
    "duration": 194,
    "start_time": "2022-01-18T08:22:16.904Z"
   },
   {
    "duration": 33,
    "start_time": "2022-01-18T08:22:36.810Z"
   },
   {
    "duration": 6052,
    "start_time": "2022-01-18T08:24:23.247Z"
   },
   {
    "duration": 193,
    "start_time": "2022-01-18T08:25:14.471Z"
   },
   {
    "duration": 189,
    "start_time": "2022-01-18T08:25:37.097Z"
   },
   {
    "duration": -641,
    "start_time": "2022-01-18T08:27:29.050Z"
   },
   {
    "duration": -645,
    "start_time": "2022-01-18T08:27:29.055Z"
   },
   {
    "duration": 40,
    "start_time": "2022-01-18T08:27:36.074Z"
   },
   {
    "duration": 217,
    "start_time": "2022-01-18T08:27:48.831Z"
   },
   {
    "duration": 205,
    "start_time": "2022-01-18T08:28:16.515Z"
   },
   {
    "duration": 224,
    "start_time": "2022-01-18T08:30:09.973Z"
   },
   {
    "duration": 34,
    "start_time": "2022-01-18T08:30:18.643Z"
   },
   {
    "duration": 26,
    "start_time": "2022-01-18T08:30:36.448Z"
   },
   {
    "duration": 28,
    "start_time": "2022-01-18T08:31:02.248Z"
   },
   {
    "duration": 37459,
    "start_time": "2022-01-18T08:31:10.135Z"
   },
   {
    "duration": 958,
    "start_time": "2022-01-18T08:31:47.596Z"
   },
   {
    "duration": 1122,
    "start_time": "2022-01-18T08:31:58.590Z"
   },
   {
    "duration": 1247,
    "start_time": "2022-01-18T08:33:53.184Z"
   },
   {
    "duration": 1244,
    "start_time": "2022-01-18T08:34:00.290Z"
   },
   {
    "duration": 1410,
    "start_time": "2022-01-18T08:36:19.016Z"
   },
   {
    "duration": 29,
    "start_time": "2022-01-18T08:38:50.273Z"
   },
   {
    "duration": 699,
    "start_time": "2022-01-18T08:41:15.226Z"
   },
   {
    "duration": 672,
    "start_time": "2022-01-18T08:41:43.279Z"
   },
   {
    "duration": 3,
    "start_time": "2022-01-18T08:43:01.107Z"
   },
   {
    "duration": 26,
    "start_time": "2022-01-18T08:43:03.584Z"
   },
   {
    "duration": 614,
    "start_time": "2022-01-18T08:43:06.970Z"
   },
   {
    "duration": 701,
    "start_time": "2022-01-18T08:43:15.755Z"
   },
   {
    "duration": 28,
    "start_time": "2022-01-18T08:44:37.743Z"
   },
   {
    "duration": 28,
    "start_time": "2022-01-18T08:44:45.134Z"
   },
   {
    "duration": 459,
    "start_time": "2022-01-18T08:47:36.704Z"
   },
   {
    "duration": 12,
    "start_time": "2022-01-18T08:47:47.186Z"
   },
   {
    "duration": 15,
    "start_time": "2022-01-18T08:48:20.407Z"
   },
   {
    "duration": 403,
    "start_time": "2022-01-18T08:48:25.134Z"
   },
   {
    "duration": 24,
    "start_time": "2022-01-18T08:48:54.710Z"
   },
   {
    "duration": 520,
    "start_time": "2022-01-18T08:49:04.049Z"
   },
   {
    "duration": 80,
    "start_time": "2022-01-18T08:52:16.757Z"
   },
   {
    "duration": 63,
    "start_time": "2022-01-18T08:52:31.086Z"
   },
   {
    "duration": 575,
    "start_time": "2022-01-18T08:52:40.187Z"
   },
   {
    "duration": 532,
    "start_time": "2022-01-18T08:52:55.566Z"
   },
   {
    "duration": 17,
    "start_time": "2022-01-18T08:53:03.536Z"
   },
   {
    "duration": 14,
    "start_time": "2022-01-18T09:13:46.585Z"
   },
   {
    "duration": 407,
    "start_time": "2022-01-18T09:13:52.674Z"
   },
   {
    "duration": 18,
    "start_time": "2022-01-18T09:14:11.358Z"
   },
   {
    "duration": 511,
    "start_time": "2022-01-18T09:14:14.903Z"
   },
   {
    "duration": 8,
    "start_time": "2022-01-18T09:15:16.437Z"
   },
   {
    "duration": 7,
    "start_time": "2022-01-18T09:16:30.908Z"
   },
   {
    "duration": 27,
    "start_time": "2022-01-18T09:18:16.483Z"
   },
   {
    "duration": 29,
    "start_time": "2022-01-18T09:18:29.894Z"
   },
   {
    "duration": 1092,
    "start_time": "2022-01-18T09:19:10.940Z"
   },
   {
    "duration": 38,
    "start_time": "2022-01-18T09:19:12.034Z"
   },
   {
    "duration": 10,
    "start_time": "2022-01-18T09:19:12.075Z"
   },
   {
    "duration": 26,
    "start_time": "2022-01-18T09:19:12.091Z"
   },
   {
    "duration": 3,
    "start_time": "2022-01-18T09:19:12.119Z"
   },
   {
    "duration": 14,
    "start_time": "2022-01-18T09:19:12.124Z"
   },
   {
    "duration": 26,
    "start_time": "2022-01-18T09:19:12.140Z"
   },
   {
    "duration": 18,
    "start_time": "2022-01-18T09:19:12.169Z"
   },
   {
    "duration": 35,
    "start_time": "2022-01-18T09:19:12.190Z"
   },
   {
    "duration": 12,
    "start_time": "2022-01-18T09:19:12.227Z"
   },
   {
    "duration": 4,
    "start_time": "2022-01-18T09:19:12.241Z"
   },
   {
    "duration": 9,
    "start_time": "2022-01-18T09:19:12.247Z"
   },
   {
    "duration": 7,
    "start_time": "2022-01-18T09:19:12.258Z"
   },
   {
    "duration": 24,
    "start_time": "2022-01-18T09:19:12.267Z"
   },
   {
    "duration": 5,
    "start_time": "2022-01-18T09:19:12.293Z"
   },
   {
    "duration": 304,
    "start_time": "2022-01-18T09:19:12.300Z"
   },
   {
    "duration": 14,
    "start_time": "2022-01-18T09:19:12.606Z"
   },
   {
    "duration": 343,
    "start_time": "2022-01-18T09:19:12.621Z"
   },
   {
    "duration": 3,
    "start_time": "2022-01-18T09:19:12.966Z"
   },
   {
    "duration": 28,
    "start_time": "2022-01-18T09:19:12.971Z"
   },
   {
    "duration": 450,
    "start_time": "2022-01-18T09:19:13.000Z"
   },
   {
    "duration": 6,
    "start_time": "2022-01-18T09:19:13.452Z"
   },
   {
    "duration": 41,
    "start_time": "2022-01-18T09:19:13.461Z"
   },
   {
    "duration": 263,
    "start_time": "2022-01-18T09:20:51.108Z"
   },
   {
    "duration": 20,
    "start_time": "2022-01-18T09:21:05.445Z"
   },
   {
    "duration": 13,
    "start_time": "2022-01-18T09:21:48.704Z"
   },
   {
    "duration": 18,
    "start_time": "2022-01-18T09:22:10.978Z"
   },
   {
    "duration": 517,
    "start_time": "2022-01-18T09:22:13.218Z"
   },
   {
    "duration": 7,
    "start_time": "2022-01-18T09:22:22.291Z"
   },
   {
    "duration": 20,
    "start_time": "2022-01-18T09:22:25.827Z"
   },
   {
    "duration": 314,
    "start_time": "2022-01-18T09:25:39.677Z"
   },
   {
    "duration": 368,
    "start_time": "2022-01-18T09:26:22.401Z"
   },
   {
    "duration": 307,
    "start_time": "2022-01-18T09:26:48.880Z"
   },
   {
    "duration": 236,
    "start_time": "2022-01-18T09:27:00.671Z"
   },
   {
    "duration": 11,
    "start_time": "2022-01-18T09:27:11.802Z"
   },
   {
    "duration": 25,
    "start_time": "2022-01-18T09:27:17.799Z"
   },
   {
    "duration": 15,
    "start_time": "2022-01-18T09:27:40.733Z"
   },
   {
    "duration": 36,
    "start_time": "2022-01-18T09:28:33.508Z"
   },
   {
    "duration": 677,
    "start_time": "2022-01-18T09:29:01.484Z"
   },
   {
    "duration": 702,
    "start_time": "2022-01-18T09:29:15.510Z"
   },
   {
    "duration": 451,
    "start_time": "2022-01-18T09:33:18.412Z"
   },
   {
    "duration": 7,
    "start_time": "2022-01-18T09:34:02.383Z"
   },
   {
    "duration": 360,
    "start_time": "2022-01-18T09:34:05.789Z"
   },
   {
    "duration": 7,
    "start_time": "2022-01-18T09:35:37.359Z"
   },
   {
    "duration": 8,
    "start_time": "2022-01-18T09:36:06.342Z"
   },
   {
    "duration": 369,
    "start_time": "2022-01-18T09:36:09.181Z"
   },
   {
    "duration": 396,
    "start_time": "2022-01-18T09:39:00.236Z"
   },
   {
    "duration": 402,
    "start_time": "2022-01-18T09:39:06.808Z"
   },
   {
    "duration": 196,
    "start_time": "2022-01-18T09:39:14.122Z"
   },
   {
    "duration": 196,
    "start_time": "2022-01-18T09:39:21.252Z"
   },
   {
    "duration": 360,
    "start_time": "2022-01-18T09:39:28.110Z"
   },
   {
    "duration": 6,
    "start_time": "2022-01-18T09:40:55.740Z"
   },
   {
    "duration": 343,
    "start_time": "2022-01-18T09:40:57.101Z"
   },
   {
    "duration": 8,
    "start_time": "2022-01-18T09:41:08.364Z"
   },
   {
    "duration": 370,
    "start_time": "2022-01-18T09:41:09.663Z"
   },
   {
    "duration": 381,
    "start_time": "2022-01-18T09:43:20.657Z"
   },
   {
    "duration": 499,
    "start_time": "2022-01-18T09:43:36.414Z"
   },
   {
    "duration": 432,
    "start_time": "2022-01-18T09:43:50.610Z"
   },
   {
    "duration": 3,
    "start_time": "2022-01-18T09:48:05.532Z"
   },
   {
    "duration": 3,
    "start_time": "2022-01-18T09:48:13.821Z"
   },
   {
    "duration": 45,
    "start_time": "2022-01-18T09:48:13.826Z"
   },
   {
    "duration": 10,
    "start_time": "2022-01-18T09:48:13.873Z"
   },
   {
    "duration": 16,
    "start_time": "2022-01-18T09:48:13.885Z"
   },
   {
    "duration": 5,
    "start_time": "2022-01-18T09:48:13.903Z"
   },
   {
    "duration": 12,
    "start_time": "2022-01-18T09:48:13.910Z"
   },
   {
    "duration": 14,
    "start_time": "2022-01-18T09:48:13.924Z"
   },
   {
    "duration": 10,
    "start_time": "2022-01-18T09:48:13.939Z"
   },
   {
    "duration": 24,
    "start_time": "2022-01-18T09:48:13.952Z"
   },
   {
    "duration": 8,
    "start_time": "2022-01-18T09:48:13.992Z"
   },
   {
    "duration": 13,
    "start_time": "2022-01-18T09:48:14.002Z"
   },
   {
    "duration": 9,
    "start_time": "2022-01-18T09:48:14.017Z"
   },
   {
    "duration": 8,
    "start_time": "2022-01-18T09:48:14.027Z"
   },
   {
    "duration": 25,
    "start_time": "2022-01-18T09:48:14.037Z"
   },
   {
    "duration": 4,
    "start_time": "2022-01-18T09:48:14.064Z"
   },
   {
    "duration": 324,
    "start_time": "2022-01-18T09:48:14.070Z"
   },
   {
    "duration": 15,
    "start_time": "2022-01-18T09:48:14.396Z"
   },
   {
    "duration": 368,
    "start_time": "2022-01-18T09:48:14.412Z"
   },
   {
    "duration": 3,
    "start_time": "2022-01-18T09:48:14.781Z"
   },
   {
    "duration": 17,
    "start_time": "2022-01-18T09:48:14.791Z"
   },
   {
    "duration": 469,
    "start_time": "2022-01-18T09:48:14.809Z"
   },
   {
    "duration": 16,
    "start_time": "2022-01-18T09:48:15.279Z"
   },
   {
    "duration": 362,
    "start_time": "2022-01-18T09:48:15.296Z"
   },
   {
    "duration": 450,
    "start_time": "2022-01-18T09:48:15.660Z"
   },
   {
    "duration": 3,
    "start_time": "2022-01-18T09:48:36.346Z"
   },
   {
    "duration": 42,
    "start_time": "2022-01-18T09:48:36.350Z"
   },
   {
    "duration": 10,
    "start_time": "2022-01-18T09:48:36.394Z"
   },
   {
    "duration": 14,
    "start_time": "2022-01-18T09:48:36.406Z"
   },
   {
    "duration": 9,
    "start_time": "2022-01-18T09:48:36.421Z"
   },
   {
    "duration": 11,
    "start_time": "2022-01-18T09:48:36.431Z"
   },
   {
    "duration": 22,
    "start_time": "2022-01-18T09:48:36.443Z"
   },
   {
    "duration": 23,
    "start_time": "2022-01-18T09:48:36.468Z"
   },
   {
    "duration": 19,
    "start_time": "2022-01-18T09:48:36.494Z"
   },
   {
    "duration": 8,
    "start_time": "2022-01-18T09:48:36.515Z"
   },
   {
    "duration": 4,
    "start_time": "2022-01-18T09:48:36.525Z"
   },
   {
    "duration": 8,
    "start_time": "2022-01-18T09:48:36.530Z"
   },
   {
    "duration": 8,
    "start_time": "2022-01-18T09:48:36.540Z"
   },
   {
    "duration": 50,
    "start_time": "2022-01-18T09:48:36.550Z"
   },
   {
    "duration": 5,
    "start_time": "2022-01-18T09:48:36.602Z"
   },
   {
    "duration": 316,
    "start_time": "2022-01-18T09:48:36.609Z"
   },
   {
    "duration": 14,
    "start_time": "2022-01-18T09:48:36.927Z"
   },
   {
    "duration": 471,
    "start_time": "2022-01-18T09:48:36.942Z"
   },
   {
    "duration": 3,
    "start_time": "2022-01-18T09:48:37.415Z"
   },
   {
    "duration": 20,
    "start_time": "2022-01-18T09:48:37.420Z"
   },
   {
    "duration": 478,
    "start_time": "2022-01-18T09:48:37.441Z"
   },
   {
    "duration": 7,
    "start_time": "2022-01-18T09:48:37.921Z"
   },
   {
    "duration": 390,
    "start_time": "2022-01-18T09:48:37.931Z"
   },
   {
    "duration": 700,
    "start_time": "2022-01-18T09:48:38.322Z"
   },
   {
    "duration": 7,
    "start_time": "2022-01-18T09:56:35.145Z"
   },
   {
    "duration": 336,
    "start_time": "2022-01-18T09:56:37.789Z"
   },
   {
    "duration": 6,
    "start_time": "2022-01-18T09:57:00.609Z"
   },
   {
    "duration": 359,
    "start_time": "2022-01-18T09:57:01.687Z"
   },
   {
    "duration": 7,
    "start_time": "2022-01-18T09:57:09.908Z"
   },
   {
    "duration": 324,
    "start_time": "2022-01-18T09:57:11.724Z"
   },
   {
    "duration": 382,
    "start_time": "2022-01-18T09:57:15.628Z"
   },
   {
    "duration": 14,
    "start_time": "2022-01-18T10:03:35.614Z"
   },
   {
    "duration": 6,
    "start_time": "2022-01-18T10:22:23.744Z"
   },
   {
    "duration": 441,
    "start_time": "2022-01-18T10:22:26.985Z"
   },
   {
    "duration": 15,
    "start_time": "2022-01-18T10:22:30.506Z"
   },
   {
    "duration": 369,
    "start_time": "2022-01-18T10:23:11.814Z"
   },
   {
    "duration": 54,
    "start_time": "2022-01-18T11:47:24.566Z"
   },
   {
    "duration": 352,
    "start_time": "2022-01-18T11:47:29.704Z"
   },
   {
    "duration": 192,
    "start_time": "2022-01-18T11:48:00.232Z"
   },
   {
    "duration": 4288,
    "start_time": "2022-01-18T11:50:47.928Z"
   },
   {
    "duration": 10,
    "start_time": "2022-01-18T11:51:59.078Z"
   },
   {
    "duration": 1375,
    "start_time": "2022-01-18T11:52:17.317Z"
   },
   {
    "duration": 1256,
    "start_time": "2022-01-18T11:52:33.224Z"
   },
   {
    "duration": 21,
    "start_time": "2022-01-18T11:52:38.435Z"
   },
   {
    "duration": 15,
    "start_time": "2022-01-18T11:54:49.945Z"
   },
   {
    "duration": 25,
    "start_time": "2022-01-18T11:54:56.894Z"
   },
   {
    "duration": 211,
    "start_time": "2022-01-18T11:55:05.314Z"
   },
   {
    "duration": 22,
    "start_time": "2022-01-18T11:55:13.850Z"
   },
   {
    "duration": 9,
    "start_time": "2022-01-18T11:55:49.744Z"
   },
   {
    "duration": 173,
    "start_time": "2022-01-18T11:56:05.554Z"
   },
   {
    "duration": 9,
    "start_time": "2022-01-18T11:56:13.028Z"
   },
   {
    "duration": 26,
    "start_time": "2022-01-18T11:58:41.433Z"
   },
   {
    "duration": 174,
    "start_time": "2022-01-18T12:00:22.252Z"
   },
   {
    "duration": 14,
    "start_time": "2022-01-18T12:01:14.833Z"
   },
   {
    "duration": 272,
    "start_time": "2022-01-18T12:01:22.134Z"
   },
   {
    "duration": 832,
    "start_time": "2022-01-18T12:01:55.431Z"
   },
   {
    "duration": 17,
    "start_time": "2022-01-18T12:03:07.174Z"
   },
   {
    "duration": 22,
    "start_time": "2022-01-18T12:03:12.041Z"
   },
   {
    "duration": 189,
    "start_time": "2022-01-18T12:03:33.271Z"
   },
   {
    "duration": 164,
    "start_time": "2022-01-18T12:03:52.788Z"
   },
   {
    "duration": 164,
    "start_time": "2022-01-18T12:05:44.732Z"
   },
   {
    "duration": 160,
    "start_time": "2022-01-18T12:06:26.753Z"
   },
   {
    "duration": 155,
    "start_time": "2022-01-18T12:22:59.201Z"
   },
   {
    "duration": 19,
    "start_time": "2022-01-18T12:28:02.390Z"
   },
   {
    "duration": 42,
    "start_time": "2022-01-18T12:38:32.554Z"
   },
   {
    "duration": 6,
    "start_time": "2022-01-18T12:40:06.858Z"
   },
   {
    "duration": 32,
    "start_time": "2022-01-18T12:40:33.953Z"
   },
   {
    "duration": 40,
    "start_time": "2022-01-18T12:41:16.430Z"
   },
   {
    "duration": 33,
    "start_time": "2022-01-18T12:41:42.197Z"
   },
   {
    "duration": 41,
    "start_time": "2022-01-18T12:50:30.431Z"
   },
   {
    "duration": 21,
    "start_time": "2022-01-18T12:56:14.216Z"
   },
   {
    "duration": 18,
    "start_time": "2022-01-18T12:56:39.510Z"
   },
   {
    "duration": 3872,
    "start_time": "2022-01-18T12:58:45.070Z"
   },
   {
    "duration": -1055,
    "start_time": "2022-01-18T12:58:49.999Z"
   },
   {
    "duration": 14,
    "start_time": "2022-01-18T12:59:06.032Z"
   },
   {
    "duration": 20,
    "start_time": "2022-01-18T13:01:26.537Z"
   },
   {
    "duration": 21,
    "start_time": "2022-01-18T13:02:16.114Z"
   },
   {
    "duration": 20,
    "start_time": "2022-01-18T13:02:37.554Z"
   },
   {
    "duration": 21,
    "start_time": "2022-01-18T13:05:35.265Z"
   },
   {
    "duration": 9,
    "start_time": "2022-01-18T13:07:00.905Z"
   },
   {
    "duration": 20,
    "start_time": "2022-01-18T13:07:06.424Z"
   },
   {
    "duration": 199,
    "start_time": "2022-01-18T13:10:33.858Z"
   },
   {
    "duration": 196,
    "start_time": "2022-01-18T13:11:05.321Z"
   },
   {
    "duration": 22,
    "start_time": "2022-01-18T13:11:13.042Z"
   },
   {
    "duration": 6,
    "start_time": "2022-01-18T13:11:39.414Z"
   },
   {
    "duration": 21,
    "start_time": "2022-01-18T13:14:27.296Z"
   },
   {
    "duration": 311,
    "start_time": "2022-01-18T13:15:02.117Z"
   },
   {
    "duration": 264,
    "start_time": "2022-01-18T13:15:12.143Z"
   },
   {
    "duration": 439,
    "start_time": "2022-01-18T13:16:38.029Z"
   },
   {
    "duration": 498,
    "start_time": "2022-01-18T13:16:53.744Z"
   },
   {
    "duration": 517,
    "start_time": "2022-01-18T13:17:00.079Z"
   },
   {
    "duration": 528,
    "start_time": "2022-01-18T13:17:32.524Z"
   },
   {
    "duration": 466,
    "start_time": "2022-01-18T13:19:01.659Z"
   },
   {
    "duration": 353,
    "start_time": "2022-01-18T13:19:57.767Z"
   },
   {
    "duration": 576,
    "start_time": "2022-01-18T13:20:16.365Z"
   },
   {
    "duration": 6,
    "start_time": "2022-01-18T13:50:08.140Z"
   },
   {
    "duration": 4,
    "start_time": "2022-01-18T13:50:35.106Z"
   },
   {
    "duration": 69,
    "start_time": "2022-01-18T13:52:29.644Z"
   },
   {
    "duration": 5,
    "start_time": "2022-01-18T13:52:53.143Z"
   },
   {
    "duration": 5,
    "start_time": "2022-01-18T13:53:21.748Z"
   },
   {
    "duration": 5,
    "start_time": "2022-01-18T13:53:32.976Z"
   },
   {
    "duration": 4,
    "start_time": "2022-01-18T13:53:43.783Z"
   },
   {
    "duration": 4,
    "start_time": "2022-01-18T13:53:52.011Z"
   },
   {
    "duration": 175,
    "start_time": "2022-01-18T13:53:57.369Z"
   },
   {
    "duration": 5,
    "start_time": "2022-01-18T13:54:15.568Z"
   },
   {
    "duration": 5,
    "start_time": "2022-01-18T13:54:59.172Z"
   },
   {
    "duration": 6,
    "start_time": "2022-01-18T13:55:18.199Z"
   },
   {
    "duration": 7,
    "start_time": "2022-01-18T13:55:33.199Z"
   },
   {
    "duration": 6,
    "start_time": "2022-01-18T14:12:53.638Z"
   },
   {
    "duration": 5,
    "start_time": "2022-01-18T14:13:46.689Z"
   },
   {
    "duration": 6,
    "start_time": "2022-01-18T14:14:05.172Z"
   },
   {
    "duration": 60,
    "start_time": "2022-01-18T14:14:46.040Z"
   },
   {
    "duration": 6,
    "start_time": "2022-01-18T14:15:09.768Z"
   },
   {
    "duration": 6,
    "start_time": "2022-01-18T14:25:22.574Z"
   },
   {
    "duration": 489,
    "start_time": "2022-01-18T14:25:24.626Z"
   },
   {
    "duration": 5,
    "start_time": "2022-01-18T14:25:29.754Z"
   },
   {
    "duration": 15,
    "start_time": "2022-01-18T14:27:32.470Z"
   },
   {
    "duration": 11,
    "start_time": "2022-01-18T14:27:54.969Z"
   },
   {
    "duration": 233,
    "start_time": "2022-01-18T14:28:27.261Z"
   },
   {
    "duration": 10,
    "start_time": "2022-01-18T14:28:47.438Z"
   },
   {
    "duration": 303,
    "start_time": "2022-01-18T14:28:49.618Z"
   },
   {
    "duration": 279,
    "start_time": "2022-01-18T14:29:04.139Z"
   },
   {
    "duration": 268,
    "start_time": "2022-01-18T14:29:47.118Z"
   },
   {
    "duration": 10,
    "start_time": "2022-01-18T14:30:13.707Z"
   },
   {
    "duration": 261,
    "start_time": "2022-01-18T14:30:16.012Z"
   },
   {
    "duration": 286,
    "start_time": "2022-01-18T14:30:52.508Z"
   },
   {
    "duration": 313,
    "start_time": "2022-01-18T14:31:36.624Z"
   },
   {
    "duration": 11,
    "start_time": "2022-01-18T14:32:25.202Z"
   },
   {
    "duration": 385,
    "start_time": "2022-01-18T14:32:26.453Z"
   },
   {
    "duration": 537,
    "start_time": "2022-01-18T14:35:50.641Z"
   },
   {
    "duration": 552,
    "start_time": "2022-01-18T14:36:32.361Z"
   },
   {
    "duration": 593,
    "start_time": "2022-01-18T14:36:49.395Z"
   },
   {
    "duration": 484,
    "start_time": "2022-01-18T14:37:03.710Z"
   },
   {
    "duration": 522,
    "start_time": "2022-01-18T14:37:20.064Z"
   },
   {
    "duration": 607,
    "start_time": "2022-01-18T14:37:57.199Z"
   },
   {
    "duration": 479,
    "start_time": "2022-01-18T14:38:09.912Z"
   },
   {
    "duration": 513,
    "start_time": "2022-01-18T14:38:25.877Z"
   },
   {
    "duration": 480,
    "start_time": "2022-01-18T14:38:46.721Z"
   },
   {
    "duration": 558,
    "start_time": "2022-01-18T14:39:00.499Z"
   },
   {
    "duration": 383,
    "start_time": "2022-01-18T14:39:34.230Z"
   },
   {
    "duration": 11,
    "start_time": "2022-01-18T14:41:01.255Z"
   },
   {
    "duration": 257,
    "start_time": "2022-01-18T14:41:03.510Z"
   },
   {
    "duration": 9,
    "start_time": "2022-01-18T14:41:15.228Z"
   },
   {
    "duration": 259,
    "start_time": "2022-01-18T14:41:17.305Z"
   },
   {
    "duration": 4,
    "start_time": "2022-01-18T14:45:02.920Z"
   },
   {
    "duration": 7,
    "start_time": "2022-01-18T14:45:08.616Z"
   },
   {
    "duration": 4,
    "start_time": "2022-01-18T14:45:19.467Z"
   },
   {
    "duration": 7,
    "start_time": "2022-01-18T14:45:57.987Z"
   },
   {
    "duration": 4,
    "start_time": "2022-01-18T14:46:11.117Z"
   },
   {
    "duration": 179,
    "start_time": "2022-01-18T14:46:23.471Z"
   },
   {
    "duration": 5,
    "start_time": "2022-01-18T14:46:27.512Z"
   },
   {
    "duration": 4,
    "start_time": "2022-01-18T14:47:28.097Z"
   },
   {
    "duration": 18,
    "start_time": "2022-01-18T14:47:30.489Z"
   },
   {
    "duration": 476,
    "start_time": "2022-01-18T14:47:32.787Z"
   },
   {
    "duration": 1154,
    "start_time": "2022-01-18T14:47:56.777Z"
   },
   {
    "duration": 39,
    "start_time": "2022-01-18T14:47:57.933Z"
   },
   {
    "duration": 10,
    "start_time": "2022-01-18T14:47:57.975Z"
   },
   {
    "duration": 21,
    "start_time": "2022-01-18T14:47:57.991Z"
   },
   {
    "duration": 4,
    "start_time": "2022-01-18T14:47:58.014Z"
   },
   {
    "duration": 11,
    "start_time": "2022-01-18T14:47:58.020Z"
   },
   {
    "duration": 17,
    "start_time": "2022-01-18T14:47:58.033Z"
   },
   {
    "duration": 13,
    "start_time": "2022-01-18T14:47:58.052Z"
   },
   {
    "duration": 31,
    "start_time": "2022-01-18T14:47:58.067Z"
   },
   {
    "duration": 11,
    "start_time": "2022-01-18T14:47:58.099Z"
   },
   {
    "duration": 5,
    "start_time": "2022-01-18T14:47:58.111Z"
   },
   {
    "duration": 11,
    "start_time": "2022-01-18T14:47:58.117Z"
   },
   {
    "duration": 6,
    "start_time": "2022-01-18T14:47:58.130Z"
   },
   {
    "duration": 20,
    "start_time": "2022-01-18T14:47:58.138Z"
   },
   {
    "duration": 35,
    "start_time": "2022-01-18T14:47:58.160Z"
   },
   {
    "duration": 317,
    "start_time": "2022-01-18T14:47:58.197Z"
   },
   {
    "duration": 15,
    "start_time": "2022-01-18T14:47:58.516Z"
   },
   {
    "duration": 362,
    "start_time": "2022-01-18T14:47:58.532Z"
   },
   {
    "duration": 3,
    "start_time": "2022-01-18T14:47:58.895Z"
   },
   {
    "duration": 23,
    "start_time": "2022-01-18T14:47:58.900Z"
   },
   {
    "duration": 473,
    "start_time": "2022-01-18T14:47:58.925Z"
   },
   {
    "duration": 6,
    "start_time": "2022-01-18T14:47:59.400Z"
   },
   {
    "duration": 371,
    "start_time": "2022-01-18T14:47:59.409Z"
   },
   {
    "duration": 237,
    "start_time": "2022-01-18T14:47:59.783Z"
   },
   {
    "duration": 8,
    "start_time": "2022-01-18T14:48:00.022Z"
   },
   {
    "duration": 542,
    "start_time": "2022-01-18T14:48:00.031Z"
   },
   {
    "duration": 16,
    "start_time": "2022-01-18T14:48:00.575Z"
   },
   {
    "duration": 16,
    "start_time": "2022-01-18T14:48:00.593Z"
   },
   {
    "duration": 276,
    "start_time": "2022-01-18T14:48:00.611Z"
   },
   {
    "duration": 5,
    "start_time": "2022-01-18T14:48:00.892Z"
   },
   {
    "duration": 42,
    "start_time": "2022-01-18T14:50:49.816Z"
   },
   {
    "duration": 273,
    "start_time": "2022-01-18T14:52:02.212Z"
   },
   {
    "duration": 21,
    "start_time": "2022-01-18T14:52:22.954Z"
   },
   {
    "duration": 195,
    "start_time": "2022-01-18T14:54:17.863Z"
   },
   {
    "duration": 4,
    "start_time": "2022-01-18T14:54:38.221Z"
   },
   {
    "duration": 5,
    "start_time": "2022-01-18T14:55:33.252Z"
   },
   {
    "duration": 7,
    "start_time": "2022-01-18T14:55:52.761Z"
   },
   {
    "duration": 182,
    "start_time": "2022-01-18T14:56:58.163Z"
   },
   {
    "duration": 10,
    "start_time": "2022-01-18T14:57:21.580Z"
   },
   {
    "duration": 7,
    "start_time": "2022-01-18T15:06:13.453Z"
   },
   {
    "duration": 325,
    "start_time": "2022-01-18T15:06:16.049Z"
   },
   {
    "duration": 8,
    "start_time": "2022-01-18T15:06:45.647Z"
   },
   {
    "duration": 1090,
    "start_time": "2022-01-18T15:08:38.238Z"
   },
   {
    "duration": 39,
    "start_time": "2022-01-18T15:08:39.330Z"
   },
   {
    "duration": 11,
    "start_time": "2022-01-18T15:08:39.371Z"
   },
   {
    "duration": 23,
    "start_time": "2022-01-18T15:08:39.383Z"
   },
   {
    "duration": 5,
    "start_time": "2022-01-18T15:08:39.408Z"
   },
   {
    "duration": 27,
    "start_time": "2022-01-18T15:08:39.414Z"
   },
   {
    "duration": 38,
    "start_time": "2022-01-18T15:08:39.443Z"
   },
   {
    "duration": 29,
    "start_time": "2022-01-18T15:08:39.490Z"
   },
   {
    "duration": 50,
    "start_time": "2022-01-18T15:08:39.530Z"
   },
   {
    "duration": 13,
    "start_time": "2022-01-18T15:08:39.588Z"
   },
   {
    "duration": 16,
    "start_time": "2022-01-18T15:08:39.604Z"
   },
   {
    "duration": 30,
    "start_time": "2022-01-18T15:08:39.622Z"
   },
   {
    "duration": 10,
    "start_time": "2022-01-18T15:08:39.658Z"
   },
   {
    "duration": 42,
    "start_time": "2022-01-18T15:08:39.670Z"
   },
   {
    "duration": 12,
    "start_time": "2022-01-18T15:08:39.724Z"
   },
   {
    "duration": 312,
    "start_time": "2022-01-18T15:08:39.738Z"
   },
   {
    "duration": 16,
    "start_time": "2022-01-18T15:08:40.052Z"
   },
   {
    "duration": 367,
    "start_time": "2022-01-18T15:08:40.070Z"
   },
   {
    "duration": 3,
    "start_time": "2022-01-18T15:08:40.439Z"
   },
   {
    "duration": 21,
    "start_time": "2022-01-18T15:08:40.444Z"
   },
   {
    "duration": 480,
    "start_time": "2022-01-18T15:08:40.467Z"
   },
   {
    "duration": 6,
    "start_time": "2022-01-18T15:08:40.949Z"
   },
   {
    "duration": 347,
    "start_time": "2022-01-18T15:08:40.958Z"
   },
   {
    "duration": 7,
    "start_time": "2022-01-18T15:08:41.307Z"
   },
   {
    "duration": 240,
    "start_time": "2022-01-18T15:08:41.316Z"
   },
   {
    "duration": 5,
    "start_time": "2022-01-18T15:08:41.558Z"
   },
   {
    "duration": 539,
    "start_time": "2022-01-18T15:08:41.565Z"
   },
   {
    "duration": 6,
    "start_time": "2022-01-18T15:08:42.105Z"
   },
   {
    "duration": 12,
    "start_time": "2022-01-18T15:08:42.113Z"
   },
   {
    "duration": 277,
    "start_time": "2022-01-18T15:08:42.126Z"
   },
   {
    "duration": 4,
    "start_time": "2022-01-18T15:08:42.405Z"
   },
   {
    "duration": 343,
    "start_time": "2022-01-18T15:09:08.122Z"
   },
   {
    "duration": 8,
    "start_time": "2022-01-18T15:09:49.707Z"
   },
   {
    "duration": 8,
    "start_time": "2022-01-18T15:12:07.096Z"
   },
   {
    "duration": 7,
    "start_time": "2022-01-18T15:13:15.043Z"
   },
   {
    "duration": 7,
    "start_time": "2022-01-18T15:13:20.529Z"
   },
   {
    "duration": 7,
    "start_time": "2022-01-18T15:13:31.986Z"
   },
   {
    "duration": 5,
    "start_time": "2022-01-18T15:13:45.644Z"
   },
   {
    "duration": 214,
    "start_time": "2022-01-18T15:15:11.842Z"
   },
   {
    "duration": 277,
    "start_time": "2022-01-18T15:15:42.895Z"
   },
   {
    "duration": 241,
    "start_time": "2022-01-18T15:15:48.044Z"
   },
   {
    "duration": 252,
    "start_time": "2022-01-18T15:15:53.997Z"
   },
   {
    "duration": 259,
    "start_time": "2022-01-18T15:16:12.534Z"
   },
   {
    "duration": 285,
    "start_time": "2022-01-18T15:20:17.459Z"
   },
   {
    "duration": 314,
    "start_time": "2022-01-19T10:17:26.367Z"
   },
   {
    "duration": 1279,
    "start_time": "2022-01-19T10:18:13.719Z"
   },
   {
    "duration": 43,
    "start_time": "2022-01-19T10:18:15.000Z"
   },
   {
    "duration": 16,
    "start_time": "2022-01-19T10:18:15.045Z"
   },
   {
    "duration": 18,
    "start_time": "2022-01-19T10:18:15.063Z"
   },
   {
    "duration": 4,
    "start_time": "2022-01-19T10:18:15.083Z"
   },
   {
    "duration": 14,
    "start_time": "2022-01-19T10:18:15.088Z"
   },
   {
    "duration": 13,
    "start_time": "2022-01-19T10:18:15.103Z"
   },
   {
    "duration": 8,
    "start_time": "2022-01-19T10:18:15.119Z"
   },
   {
    "duration": 49,
    "start_time": "2022-01-19T10:18:15.129Z"
   },
   {
    "duration": 7,
    "start_time": "2022-01-19T10:18:15.180Z"
   },
   {
    "duration": 7,
    "start_time": "2022-01-19T10:18:15.189Z"
   },
   {
    "duration": 9,
    "start_time": "2022-01-19T10:18:15.198Z"
   },
   {
    "duration": 11,
    "start_time": "2022-01-19T10:18:15.208Z"
   },
   {
    "duration": 50,
    "start_time": "2022-01-19T10:18:15.221Z"
   },
   {
    "duration": 9,
    "start_time": "2022-01-19T10:18:15.273Z"
   },
   {
    "duration": 301,
    "start_time": "2022-01-19T10:18:15.283Z"
   },
   {
    "duration": 14,
    "start_time": "2022-01-19T10:18:15.586Z"
   },
   {
    "duration": 338,
    "start_time": "2022-01-19T10:18:15.602Z"
   },
   {
    "duration": 3,
    "start_time": "2022-01-19T10:18:15.942Z"
   },
   {
    "duration": 27,
    "start_time": "2022-01-19T10:18:15.946Z"
   },
   {
    "duration": 457,
    "start_time": "2022-01-19T10:18:15.975Z"
   },
   {
    "duration": 6,
    "start_time": "2022-01-19T10:18:16.434Z"
   },
   {
    "duration": 397,
    "start_time": "2022-01-19T10:18:16.443Z"
   },
   {
    "duration": 29,
    "start_time": "2022-01-19T10:18:16.843Z"
   },
   {
    "duration": 330,
    "start_time": "2022-01-19T10:18:16.875Z"
   },
   {
    "duration": 6,
    "start_time": "2022-01-19T10:18:17.207Z"
   },
   {
    "duration": 530,
    "start_time": "2022-01-19T10:18:17.215Z"
   },
   {
    "duration": 17,
    "start_time": "2022-01-19T10:18:17.747Z"
   },
   {
    "duration": 48,
    "start_time": "2022-01-19T10:18:17.765Z"
   },
   {
    "duration": 245,
    "start_time": "2022-01-19T10:18:17.815Z"
   },
   {
    "duration": 5,
    "start_time": "2022-01-19T10:18:18.062Z"
   },
   {
    "duration": 241,
    "start_time": "2022-01-19T10:24:16.304Z"
   },
   {
    "duration": 7207,
    "start_time": "2022-01-19T10:25:11.856Z"
   },
   {
    "duration": 244,
    "start_time": "2022-01-19T10:26:33.710Z"
   },
   {
    "duration": 471,
    "start_time": "2022-01-19T10:26:49.898Z"
   },
   {
    "duration": 617,
    "start_time": "2022-01-19T10:33:24.349Z"
   },
   {
    "duration": 595,
    "start_time": "2022-01-19T10:34:43.506Z"
   },
   {
    "duration": 578,
    "start_time": "2022-01-19T10:35:25.846Z"
   },
   {
    "duration": 587,
    "start_time": "2022-01-19T10:36:59.991Z"
   },
   {
    "duration": 627,
    "start_time": "2022-01-19T10:37:08.136Z"
   },
   {
    "duration": 588,
    "start_time": "2022-01-19T10:37:48.074Z"
   },
   {
    "duration": 272,
    "start_time": "2022-01-19T10:38:59.635Z"
   },
   {
    "duration": 112,
    "start_time": "2022-01-19T10:54:09.225Z"
   },
   {
    "duration": 6,
    "start_time": "2022-01-19T10:54:18.736Z"
   },
   {
    "duration": 706,
    "start_time": "2022-01-19T10:55:45.697Z"
   },
   {
    "duration": 6,
    "start_time": "2022-01-19T10:56:52.436Z"
   },
   {
    "duration": 2454,
    "start_time": "2022-01-19T10:56:54.974Z"
   },
   {
    "duration": 4,
    "start_time": "2022-01-19T10:58:37.281Z"
   },
   {
    "duration": 14,
    "start_time": "2022-01-19T10:58:40.557Z"
   },
   {
    "duration": 4,
    "start_time": "2022-01-19T10:59:26.388Z"
   },
   {
    "duration": 13,
    "start_time": "2022-01-19T10:59:29.321Z"
   },
   {
    "duration": 4,
    "start_time": "2022-01-19T11:01:51.859Z"
   },
   {
    "duration": 15,
    "start_time": "2022-01-19T11:01:54.348Z"
   },
   {
    "duration": 332,
    "start_time": "2022-01-19T11:02:19.279Z"
   },
   {
    "duration": 701,
    "start_time": "2022-01-19T11:02:36.565Z"
   },
   {
    "duration": 5,
    "start_time": "2022-01-19T11:03:01.414Z"
   },
   {
    "duration": 253,
    "start_time": "2022-01-19T11:03:29.319Z"
   },
   {
    "duration": 4,
    "start_time": "2022-01-19T11:03:33.562Z"
   },
   {
    "duration": 3,
    "start_time": "2022-01-19T11:03:40.409Z"
   },
   {
    "duration": 8,
    "start_time": "2022-01-19T11:03:54.003Z"
   },
   {
    "duration": 8,
    "start_time": "2022-01-19T11:04:12.563Z"
   },
   {
    "duration": 16,
    "start_time": "2022-01-19T11:04:25.341Z"
   },
   {
    "duration": 16,
    "start_time": "2022-01-19T11:06:42.907Z"
   },
   {
    "duration": 19,
    "start_time": "2022-01-19T11:06:47.424Z"
   },
   {
    "duration": 18,
    "start_time": "2022-01-19T11:07:56.662Z"
   },
   {
    "duration": 246,
    "start_time": "2022-01-19T11:09:43.625Z"
   },
   {
    "duration": 261,
    "start_time": "2022-01-19T11:10:05.685Z"
   },
   {
    "duration": 15,
    "start_time": "2022-01-19T11:10:45.225Z"
   },
   {
    "duration": 415,
    "start_time": "2022-01-19T11:14:30.616Z"
   },
   {
    "duration": 13,
    "start_time": "2022-01-19T11:14:59.194Z"
   },
   {
    "duration": 4,
    "start_time": "2022-01-19T11:15:07.630Z"
   },
   {
    "duration": 5,
    "start_time": "2022-01-19T11:16:19.495Z"
   },
   {
    "duration": 18,
    "start_time": "2022-01-19T11:16:22.192Z"
   },
   {
    "duration": 163,
    "start_time": "2022-01-19T11:19:26.038Z"
   },
   {
    "duration": 3,
    "start_time": "2022-01-19T11:20:12.502Z"
   },
   {
    "duration": 3,
    "start_time": "2022-01-19T11:20:53.889Z"
   },
   {
    "duration": 350,
    "start_time": "2022-01-19T11:23:12.216Z"
   },
   {
    "duration": 274,
    "start_time": "2022-01-19T11:23:26.283Z"
   },
   {
    "duration": 277,
    "start_time": "2022-01-19T11:24:34.226Z"
   },
   {
    "duration": 330,
    "start_time": "2022-01-19T11:24:38.367Z"
   },
   {
    "duration": 439,
    "start_time": "2022-01-19T11:25:04.185Z"
   },
   {
    "duration": 319,
    "start_time": "2022-01-19T11:25:08.835Z"
   },
   {
    "duration": 10,
    "start_time": "2022-01-19T11:35:35.911Z"
   },
   {
    "duration": 398,
    "start_time": "2022-01-19T11:35:42.681Z"
   },
   {
    "duration": 24,
    "start_time": "2022-01-19T11:36:29.690Z"
   },
   {
    "duration": 1170,
    "start_time": "2022-01-19T11:36:33.072Z"
   },
   {
    "duration": 3,
    "start_time": "2022-01-19T11:37:04.684Z"
   },
   {
    "duration": 77,
    "start_time": "2022-01-19T11:37:04.690Z"
   },
   {
    "duration": 14,
    "start_time": "2022-01-19T11:37:04.770Z"
   },
   {
    "duration": 30,
    "start_time": "2022-01-19T11:37:04.786Z"
   },
   {
    "duration": 4,
    "start_time": "2022-01-19T11:37:04.818Z"
   },
   {
    "duration": 35,
    "start_time": "2022-01-19T11:37:04.824Z"
   },
   {
    "duration": 41,
    "start_time": "2022-01-19T11:37:04.861Z"
   },
   {
    "duration": 41,
    "start_time": "2022-01-19T11:37:04.905Z"
   },
   {
    "duration": 49,
    "start_time": "2022-01-19T11:37:04.949Z"
   },
   {
    "duration": 26,
    "start_time": "2022-01-19T11:37:05.001Z"
   },
   {
    "duration": 29,
    "start_time": "2022-01-19T11:37:05.029Z"
   },
   {
    "duration": 26,
    "start_time": "2022-01-19T11:37:05.061Z"
   },
   {
    "duration": 40,
    "start_time": "2022-01-19T11:37:05.089Z"
   },
   {
    "duration": 63,
    "start_time": "2022-01-19T11:37:05.131Z"
   },
   {
    "duration": 19,
    "start_time": "2022-01-19T11:37:05.196Z"
   },
   {
    "duration": 449,
    "start_time": "2022-01-19T11:37:05.217Z"
   },
   {
    "duration": 17,
    "start_time": "2022-01-19T11:37:05.669Z"
   },
   {
    "duration": 625,
    "start_time": "2022-01-19T11:37:05.688Z"
   },
   {
    "duration": 3,
    "start_time": "2022-01-19T11:37:06.315Z"
   },
   {
    "duration": 50,
    "start_time": "2022-01-19T11:37:06.320Z"
   },
   {
    "duration": 703,
    "start_time": "2022-01-19T11:37:06.372Z"
   },
   {
    "duration": 7,
    "start_time": "2022-01-19T11:37:07.077Z"
   },
   {
    "duration": 729,
    "start_time": "2022-01-19T11:37:07.088Z"
   },
   {
    "duration": 6,
    "start_time": "2022-01-19T11:37:07.820Z"
   },
   {
    "duration": 408,
    "start_time": "2022-01-19T11:37:07.829Z"
   },
   {
    "duration": 6,
    "start_time": "2022-01-19T11:37:08.239Z"
   },
   {
    "duration": 757,
    "start_time": "2022-01-19T11:37:08.247Z"
   },
   {
    "duration": 6,
    "start_time": "2022-01-19T11:37:09.006Z"
   },
   {
    "duration": 52,
    "start_time": "2022-01-19T11:37:09.014Z"
   },
   {
    "duration": 39,
    "start_time": "2022-01-19T11:37:09.069Z"
   },
   {
    "duration": 37,
    "start_time": "2022-01-19T11:37:09.110Z"
   },
   {
    "duration": 269,
    "start_time": "2022-01-19T11:37:09.149Z"
   },
   {
    "duration": 4,
    "start_time": "2022-01-19T11:37:09.420Z"
   },
   {
    "duration": 6712,
    "start_time": "2022-01-19T12:06:48.306Z"
   },
   {
    "duration": 18,
    "start_time": "2022-01-19T12:07:46.389Z"
   },
   {
    "duration": 10,
    "start_time": "2022-01-19T12:08:34.045Z"
   },
   {
    "duration": 1123,
    "start_time": "2022-01-19T12:08:58.072Z"
   },
   {
    "duration": 39,
    "start_time": "2022-01-19T12:08:59.197Z"
   },
   {
    "duration": 12,
    "start_time": "2022-01-19T12:08:59.238Z"
   },
   {
    "duration": 29,
    "start_time": "2022-01-19T12:08:59.252Z"
   },
   {
    "duration": 3,
    "start_time": "2022-01-19T12:08:59.282Z"
   },
   {
    "duration": 32,
    "start_time": "2022-01-19T12:08:59.287Z"
   },
   {
    "duration": 22,
    "start_time": "2022-01-19T12:08:59.321Z"
   },
   {
    "duration": 28,
    "start_time": "2022-01-19T12:08:59.346Z"
   },
   {
    "duration": 42,
    "start_time": "2022-01-19T12:08:59.376Z"
   },
   {
    "duration": 7,
    "start_time": "2022-01-19T12:08:59.419Z"
   },
   {
    "duration": 39,
    "start_time": "2022-01-19T12:08:59.428Z"
   },
   {
    "duration": 19,
    "start_time": "2022-01-19T12:08:59.469Z"
   },
   {
    "duration": 34,
    "start_time": "2022-01-19T12:08:59.490Z"
   },
   {
    "duration": 24,
    "start_time": "2022-01-19T12:08:59.526Z"
   },
   {
    "duration": 9,
    "start_time": "2022-01-19T12:08:59.552Z"
   },
   {
    "duration": 311,
    "start_time": "2022-01-19T12:08:59.563Z"
   },
   {
    "duration": 16,
    "start_time": "2022-01-19T12:08:59.875Z"
   },
   {
    "duration": 339,
    "start_time": "2022-01-19T12:08:59.893Z"
   },
   {
    "duration": 3,
    "start_time": "2022-01-19T12:09:00.234Z"
   },
   {
    "duration": 33,
    "start_time": "2022-01-19T12:09:00.238Z"
   },
   {
    "duration": 452,
    "start_time": "2022-01-19T12:09:00.273Z"
   },
   {
    "duration": 6,
    "start_time": "2022-01-19T12:09:00.727Z"
   },
   {
    "duration": 342,
    "start_time": "2022-01-19T12:09:00.736Z"
   },
   {
    "duration": 5,
    "start_time": "2022-01-19T12:09:01.080Z"
   },
   {
    "duration": 415,
    "start_time": "2022-01-19T12:09:01.087Z"
   },
   {
    "duration": 5,
    "start_time": "2022-01-19T12:09:01.504Z"
   },
   {
    "duration": 558,
    "start_time": "2022-01-19T12:09:01.511Z"
   },
   {
    "duration": 6,
    "start_time": "2022-01-19T12:09:02.071Z"
   },
   {
    "duration": 25,
    "start_time": "2022-01-19T12:09:02.079Z"
   },
   {
    "duration": 55,
    "start_time": "2022-01-19T12:09:02.105Z"
   },
   {
    "duration": 9,
    "start_time": "2022-01-19T12:09:02.162Z"
   },
   {
    "duration": 265,
    "start_time": "2022-01-19T12:09:02.173Z"
   },
   {
    "duration": 2,
    "start_time": "2022-01-19T12:09:02.440Z"
   },
   {
    "duration": 24,
    "start_time": "2022-01-19T12:09:02.444Z"
   },
   {
    "duration": 6699,
    "start_time": "2022-01-19T12:09:02.470Z"
   },
   {
    "duration": 266,
    "start_time": "2022-01-19T12:09:17.433Z"
   },
   {
    "duration": 4,
    "start_time": "2022-01-19T12:10:15.817Z"
   },
   {
    "duration": 3,
    "start_time": "2022-01-19T12:10:38.700Z"
   },
   {
    "duration": 5,
    "start_time": "2022-01-19T12:10:42.879Z"
   },
   {
    "duration": 3,
    "start_time": "2022-01-19T12:12:40.862Z"
   },
   {
    "duration": 9,
    "start_time": "2022-01-19T12:13:52.348Z"
   },
   {
    "duration": 280,
    "start_time": "2022-01-19T12:16:13.569Z"
   },
   {
    "duration": 9,
    "start_time": "2022-01-19T12:16:52.601Z"
   },
   {
    "duration": 247,
    "start_time": "2022-01-19T12:21:02.285Z"
   },
   {
    "duration": 106,
    "start_time": "2022-01-19T12:21:26.623Z"
   },
   {
    "duration": 117,
    "start_time": "2022-01-19T12:21:56.612Z"
   },
   {
    "duration": 155,
    "start_time": "2022-01-19T12:22:02.602Z"
   },
   {
    "duration": 122,
    "start_time": "2022-01-19T12:22:07.820Z"
   },
   {
    "duration": 199,
    "start_time": "2022-01-19T12:22:12.544Z"
   },
   {
    "duration": 113,
    "start_time": "2022-01-19T12:22:25.747Z"
   },
   {
    "duration": 116,
    "start_time": "2022-01-19T12:23:32.010Z"
   },
   {
    "duration": 146,
    "start_time": "2022-01-19T12:24:10.336Z"
   },
   {
    "duration": 10,
    "start_time": "2022-01-19T12:36:14.234Z"
   },
   {
    "duration": 245,
    "start_time": "2022-01-19T12:36:48.873Z"
   },
   {
    "duration": 4,
    "start_time": "2022-01-19T12:38:08.509Z"
   },
   {
    "duration": 228,
    "start_time": "2022-01-19T12:40:12.265Z"
   },
   {
    "duration": 6931,
    "start_time": "2022-01-19T12:42:02.344Z"
   },
   {
    "duration": 192,
    "start_time": "2022-01-19T12:42:22.047Z"
   },
   {
    "duration": 190,
    "start_time": "2022-01-19T12:42:27.646Z"
   },
   {
    "duration": 268,
    "start_time": "2022-01-19T12:42:50.719Z"
   },
   {
    "duration": 249,
    "start_time": "2022-01-19T12:42:57.003Z"
   },
   {
    "duration": 352,
    "start_time": "2022-01-19T12:45:20.412Z"
   },
   {
    "duration": 24242,
    "start_time": "2022-01-19T12:47:49.177Z"
   },
   {
    "duration": 23659,
    "start_time": "2022-01-19T12:49:32.754Z"
   },
   {
    "duration": 264,
    "start_time": "2022-01-19T12:55:56.404Z"
   },
   {
    "duration": 13,
    "start_time": "2022-01-19T12:56:05.545Z"
   },
   {
    "duration": 303,
    "start_time": "2022-01-19T12:56:20.098Z"
   },
   {
    "duration": 408,
    "start_time": "2022-01-19T13:12:57.192Z"
   },
   {
    "duration": 261,
    "start_time": "2022-01-19T13:13:50.613Z"
   },
   {
    "duration": 305,
    "start_time": "2022-01-19T13:14:11.224Z"
   },
   {
    "duration": 378,
    "start_time": "2022-01-19T13:14:25.304Z"
   },
   {
    "duration": 364,
    "start_time": "2022-01-19T13:15:03.235Z"
   },
   {
    "duration": 671,
    "start_time": "2022-01-19T13:15:27.301Z"
   },
   {
    "duration": 271,
    "start_time": "2022-01-19T13:15:44.501Z"
   },
   {
    "duration": 7111,
    "start_time": "2022-01-19T13:17:06.272Z"
   },
   {
    "duration": 770,
    "start_time": "2022-01-19T13:17:46.419Z"
   },
   {
    "duration": 534,
    "start_time": "2022-01-19T13:18:51.632Z"
   },
   {
    "duration": 614,
    "start_time": "2022-01-19T13:19:07.415Z"
   },
   {
    "duration": 423,
    "start_time": "2022-01-19T13:19:13.762Z"
   },
   {
    "duration": 583,
    "start_time": "2022-01-19T13:20:17.622Z"
   },
   {
    "duration": 414,
    "start_time": "2022-01-19T13:20:24.228Z"
   },
   {
    "duration": 247,
    "start_time": "2022-01-19T13:20:28.419Z"
   },
   {
    "duration": 1001,
    "start_time": "2022-01-19T13:20:36.071Z"
   },
   {
    "duration": 428,
    "start_time": "2022-01-19T13:20:46.905Z"
   },
   {
    "duration": 706,
    "start_time": "2022-01-19T13:22:11.483Z"
   },
   {
    "duration": 482,
    "start_time": "2022-01-19T13:22:18.636Z"
   },
   {
    "duration": 503,
    "start_time": "2022-01-19T13:22:24.245Z"
   },
   {
    "duration": 706,
    "start_time": "2022-01-19T13:22:30.637Z"
   },
   {
    "duration": 836,
    "start_time": "2022-01-19T13:22:58.772Z"
   },
   {
    "duration": 731,
    "start_time": "2022-01-19T13:23:41.073Z"
   },
   {
    "duration": 16,
    "start_time": "2022-01-19T13:42:24.077Z"
   },
   {
    "duration": 583,
    "start_time": "2022-01-19T13:56:57.440Z"
   },
   {
    "duration": 42896,
    "start_time": "2022-01-19T13:59:41.617Z"
   },
   {
    "duration": 7902,
    "start_time": "2022-01-19T14:01:00.680Z"
   },
   {
    "duration": 540,
    "start_time": "2022-01-19T14:01:30.075Z"
   },
   {
    "duration": 26,
    "start_time": "2022-01-19T14:03:00.348Z"
   },
   {
    "duration": 7183,
    "start_time": "2022-01-19T14:03:06.762Z"
   },
   {
    "duration": 8716,
    "start_time": "2022-01-19T14:04:11.384Z"
   },
   {
    "duration": 7937,
    "start_time": "2022-01-19T14:07:35.950Z"
   },
   {
    "duration": 1284,
    "start_time": "2022-01-19T14:07:59.581Z"
   },
   {
    "duration": 53,
    "start_time": "2022-01-19T14:08:00.868Z"
   },
   {
    "duration": 21,
    "start_time": "2022-01-19T14:08:00.925Z"
   },
   {
    "duration": 57,
    "start_time": "2022-01-19T14:08:00.949Z"
   },
   {
    "duration": 27,
    "start_time": "2022-01-19T14:08:01.007Z"
   },
   {
    "duration": 54,
    "start_time": "2022-01-19T14:08:01.036Z"
   },
   {
    "duration": 77,
    "start_time": "2022-01-19T14:08:01.092Z"
   },
   {
    "duration": 46,
    "start_time": "2022-01-19T14:08:01.172Z"
   },
   {
    "duration": 78,
    "start_time": "2022-01-19T14:08:01.221Z"
   },
   {
    "duration": 50,
    "start_time": "2022-01-19T14:08:01.301Z"
   },
   {
    "duration": 40,
    "start_time": "2022-01-19T14:08:01.353Z"
   },
   {
    "duration": 50,
    "start_time": "2022-01-19T14:08:01.395Z"
   },
   {
    "duration": 59,
    "start_time": "2022-01-19T14:08:01.447Z"
   },
   {
    "duration": 49,
    "start_time": "2022-01-19T14:08:01.508Z"
   },
   {
    "duration": 47,
    "start_time": "2022-01-19T14:08:01.560Z"
   },
   {
    "duration": 565,
    "start_time": "2022-01-19T14:08:01.609Z"
   },
   {
    "duration": 18,
    "start_time": "2022-01-19T14:08:02.177Z"
   },
   {
    "duration": 457,
    "start_time": "2022-01-19T14:08:02.196Z"
   },
   {
    "duration": 5,
    "start_time": "2022-01-19T14:08:02.655Z"
   },
   {
    "duration": 53,
    "start_time": "2022-01-19T14:08:02.662Z"
   },
   {
    "duration": 474,
    "start_time": "2022-01-19T14:08:02.716Z"
   },
   {
    "duration": 5,
    "start_time": "2022-01-19T14:08:03.192Z"
   },
   {
    "duration": 352,
    "start_time": "2022-01-19T14:08:03.201Z"
   },
   {
    "duration": 14,
    "start_time": "2022-01-19T14:08:03.560Z"
   },
   {
    "duration": 549,
    "start_time": "2022-01-19T14:08:03.576Z"
   },
   {
    "duration": 5,
    "start_time": "2022-01-19T14:08:04.128Z"
   },
   {
    "duration": 544,
    "start_time": "2022-01-19T14:08:04.135Z"
   },
   {
    "duration": 13,
    "start_time": "2022-01-19T14:08:04.682Z"
   },
   {
    "duration": 22,
    "start_time": "2022-01-19T14:08:04.698Z"
   },
   {
    "duration": 46,
    "start_time": "2022-01-19T14:08:04.723Z"
   },
   {
    "duration": 18,
    "start_time": "2022-01-19T14:08:04.771Z"
   },
   {
    "duration": 391,
    "start_time": "2022-01-19T14:08:04.791Z"
   },
   {
    "duration": 3,
    "start_time": "2022-01-19T14:08:05.185Z"
   },
   {
    "duration": 76,
    "start_time": "2022-01-19T14:08:05.191Z"
   },
   {
    "duration": 71,
    "start_time": "2022-01-19T14:08:05.269Z"
   },
   {
    "duration": 279,
    "start_time": "2022-01-19T14:08:05.343Z"
   },
   {
    "duration": 3,
    "start_time": "2022-01-19T14:08:05.624Z"
   },
   {
    "duration": 405,
    "start_time": "2022-01-19T14:08:05.628Z"
   },
   {
    "duration": 10,
    "start_time": "2022-01-19T14:08:06.035Z"
   },
   {
    "duration": 557,
    "start_time": "2022-01-19T14:08:06.047Z"
   },
   {
    "duration": 20,
    "start_time": "2022-01-19T14:08:06.606Z"
   },
   {
    "duration": 7722,
    "start_time": "2022-01-19T14:08:06.628Z"
   },
   {
    "duration": 7,
    "start_time": "2022-01-19T14:08:19.106Z"
   },
   {
    "duration": 7,
    "start_time": "2022-01-19T14:08:35.958Z"
   },
   {
    "duration": 432,
    "start_time": "2022-01-19T14:10:14.891Z"
   },
   {
    "duration": 529,
    "start_time": "2022-01-19T14:10:32.277Z"
   },
   {
    "duration": 597,
    "start_time": "2022-01-19T14:10:41.032Z"
   },
   {
    "duration": 335,
    "start_time": "2022-01-19T14:16:11.037Z"
   },
   {
    "duration": 6798,
    "start_time": "2022-01-19T14:23:12.074Z"
   },
   {
    "duration": 7126,
    "start_time": "2022-01-19T14:23:19.578Z"
   },
   {
    "duration": 7200,
    "start_time": "2022-01-19T14:23:52.838Z"
   },
   {
    "duration": 312,
    "start_time": "2022-01-19T14:24:27.795Z"
   },
   {
    "duration": 11,
    "start_time": "2022-01-19T14:39:29.004Z"
   },
   {
    "duration": 267,
    "start_time": "2022-01-19T14:39:40.977Z"
   },
   {
    "duration": 4,
    "start_time": "2022-01-19T14:39:59.377Z"
   },
   {
    "duration": 276,
    "start_time": "2022-01-19T14:41:11.048Z"
   },
   {
    "duration": 11,
    "start_time": "2022-01-19T14:41:23.924Z"
   },
   {
    "duration": 520,
    "start_time": "2022-01-19T14:41:42.945Z"
   },
   {
    "duration": 25,
    "start_time": "2022-01-19T14:42:24.512Z"
   },
   {
    "duration": 496,
    "start_time": "2022-01-19T14:42:49.200Z"
   },
   {
    "duration": 12,
    "start_time": "2022-01-19T14:43:22.351Z"
   },
   {
    "duration": 273,
    "start_time": "2022-01-19T14:43:31.105Z"
   },
   {
    "duration": 658,
    "start_time": "2022-01-19T14:44:20.253Z"
   },
   {
    "duration": 3,
    "start_time": "2022-01-19T14:44:30.506Z"
   },
   {
    "duration": 279,
    "start_time": "2022-01-19T14:44:32.630Z"
   },
   {
    "duration": 16,
    "start_time": "2022-01-19T14:44:48.602Z"
   },
   {
    "duration": 993,
    "start_time": "2022-01-19T14:44:59.946Z"
   },
   {
    "duration": 18,
    "start_time": "2022-01-19T14:45:59.084Z"
   },
   {
    "duration": 349,
    "start_time": "2022-01-19T14:46:08.960Z"
   },
   {
    "duration": 4,
    "start_time": "2022-01-19T14:47:35.246Z"
   },
   {
    "duration": 379,
    "start_time": "2022-01-19T14:48:30.845Z"
   },
   {
    "duration": 5,
    "start_time": "2022-01-19T14:48:40.555Z"
   },
   {
    "duration": 4,
    "start_time": "2022-01-19T14:50:12.247Z"
   },
   {
    "duration": 3,
    "start_time": "2022-01-19T14:50:15.500Z"
   },
   {
    "duration": 11,
    "start_time": "2022-01-19T14:50:31.908Z"
   },
   {
    "duration": 525,
    "start_time": "2022-01-19T14:50:40.125Z"
   },
   {
    "duration": 320,
    "start_time": "2022-01-19T14:50:53.588Z"
   },
   {
    "duration": 691,
    "start_time": "2022-01-19T14:51:51.074Z"
   },
   {
    "duration": 4,
    "start_time": "2022-01-19T14:52:20.548Z"
   },
   {
    "duration": 4,
    "start_time": "2022-01-19T14:52:25.673Z"
   },
   {
    "duration": 4,
    "start_time": "2022-01-19T14:52:48.010Z"
   },
   {
    "duration": 3,
    "start_time": "2022-01-19T14:53:47.379Z"
   },
   {
    "duration": 3,
    "start_time": "2022-01-19T14:55:46.727Z"
   },
   {
    "duration": 10,
    "start_time": "2022-01-19T14:56:24.784Z"
   },
   {
    "duration": 4,
    "start_time": "2022-01-19T14:57:09.328Z"
   },
   {
    "duration": 3,
    "start_time": "2022-01-19T14:58:37.616Z"
   },
   {
    "duration": 4,
    "start_time": "2022-01-19T14:59:37.775Z"
   },
   {
    "duration": 3,
    "start_time": "2022-01-19T15:00:00.633Z"
   },
   {
    "duration": 273,
    "start_time": "2022-01-19T15:00:19.563Z"
   },
   {
    "duration": 525,
    "start_time": "2022-01-19T15:00:43.598Z"
   },
   {
    "duration": 479,
    "start_time": "2022-01-19T15:01:00.629Z"
   },
   {
    "duration": 3,
    "start_time": "2022-01-19T15:01:55.297Z"
   },
   {
    "duration": 4,
    "start_time": "2022-01-19T15:02:35.245Z"
   },
   {
    "duration": 267,
    "start_time": "2022-01-19T15:02:44.973Z"
   },
   {
    "duration": 512,
    "start_time": "2022-01-19T15:02:57.774Z"
   },
   {
    "duration": 332,
    "start_time": "2022-01-19T15:03:18.279Z"
   },
   {
    "duration": 653,
    "start_time": "2022-01-19T15:03:33.846Z"
   },
   {
    "duration": 492,
    "start_time": "2022-01-19T15:03:48.582Z"
   },
   {
    "duration": 495,
    "start_time": "2022-01-19T15:04:03.230Z"
   },
   {
    "duration": 300,
    "start_time": "2022-01-20T07:08:18.138Z"
   },
   {
    "duration": 1206,
    "start_time": "2022-01-20T07:08:30.399Z"
   },
   {
    "duration": 41,
    "start_time": "2022-01-20T07:08:31.608Z"
   },
   {
    "duration": 12,
    "start_time": "2022-01-20T07:08:31.652Z"
   },
   {
    "duration": 23,
    "start_time": "2022-01-20T07:08:31.666Z"
   },
   {
    "duration": 4,
    "start_time": "2022-01-20T07:08:31.691Z"
   },
   {
    "duration": 13,
    "start_time": "2022-01-20T07:08:31.697Z"
   },
   {
    "duration": 15,
    "start_time": "2022-01-20T07:08:31.712Z"
   },
   {
    "duration": 38,
    "start_time": "2022-01-20T07:08:31.731Z"
   },
   {
    "duration": 20,
    "start_time": "2022-01-20T07:08:31.772Z"
   },
   {
    "duration": 8,
    "start_time": "2022-01-20T07:08:31.794Z"
   },
   {
    "duration": 5,
    "start_time": "2022-01-20T07:08:31.803Z"
   },
   {
    "duration": 7,
    "start_time": "2022-01-20T07:08:31.810Z"
   },
   {
    "duration": 9,
    "start_time": "2022-01-20T07:08:31.819Z"
   },
   {
    "duration": 22,
    "start_time": "2022-01-20T07:08:31.861Z"
   },
   {
    "duration": 5,
    "start_time": "2022-01-20T07:08:31.885Z"
   },
   {
    "duration": 300,
    "start_time": "2022-01-20T07:08:31.892Z"
   },
   {
    "duration": 15,
    "start_time": "2022-01-20T07:08:32.193Z"
   },
   {
    "duration": 332,
    "start_time": "2022-01-20T07:08:32.210Z"
   },
   {
    "duration": 3,
    "start_time": "2022-01-20T07:08:32.544Z"
   },
   {
    "duration": 16,
    "start_time": "2022-01-20T07:08:32.560Z"
   },
   {
    "duration": 435,
    "start_time": "2022-01-20T07:08:32.578Z"
   },
   {
    "duration": 6,
    "start_time": "2022-01-20T07:08:33.015Z"
   },
   {
    "duration": 363,
    "start_time": "2022-01-20T07:08:33.025Z"
   },
   {
    "duration": 6,
    "start_time": "2022-01-20T07:08:33.392Z"
   },
   {
    "duration": 347,
    "start_time": "2022-01-20T07:08:33.399Z"
   },
   {
    "duration": -210,
    "start_time": "2022-01-20T07:08:33.958Z"
   },
   {
    "duration": -213,
    "start_time": "2022-01-20T07:08:33.962Z"
   },
   {
    "duration": -216,
    "start_time": "2022-01-20T07:08:33.966Z"
   },
   {
    "duration": -220,
    "start_time": "2022-01-20T07:08:33.971Z"
   },
   {
    "duration": -222,
    "start_time": "2022-01-20T07:08:33.974Z"
   },
   {
    "duration": -225,
    "start_time": "2022-01-20T07:08:33.978Z"
   },
   {
    "duration": -237,
    "start_time": "2022-01-20T07:08:33.991Z"
   },
   {
    "duration": -241,
    "start_time": "2022-01-20T07:08:33.995Z"
   },
   {
    "duration": -243,
    "start_time": "2022-01-20T07:08:33.998Z"
   },
   {
    "duration": -248,
    "start_time": "2022-01-20T07:08:34.004Z"
   },
   {
    "duration": -250,
    "start_time": "2022-01-20T07:08:34.007Z"
   },
   {
    "duration": -253,
    "start_time": "2022-01-20T07:08:34.011Z"
   },
   {
    "duration": -255,
    "start_time": "2022-01-20T07:08:34.014Z"
   },
   {
    "duration": -264,
    "start_time": "2022-01-20T07:08:34.024Z"
   },
   {
    "duration": -268,
    "start_time": "2022-01-20T07:08:34.028Z"
   },
   {
    "duration": -270,
    "start_time": "2022-01-20T07:08:34.031Z"
   },
   {
    "duration": -273,
    "start_time": "2022-01-20T07:08:34.035Z"
   },
   {
    "duration": -277,
    "start_time": "2022-01-20T07:08:34.040Z"
   },
   {
    "duration": -280,
    "start_time": "2022-01-20T07:08:34.044Z"
   },
   {
    "duration": -283,
    "start_time": "2022-01-20T07:08:34.048Z"
   },
   {
    "duration": -288,
    "start_time": "2022-01-20T07:08:34.053Z"
   },
   {
    "duration": -291,
    "start_time": "2022-01-20T07:08:34.057Z"
   },
   {
    "duration": -294,
    "start_time": "2022-01-20T07:08:34.061Z"
   },
   {
    "duration": -297,
    "start_time": "2022-01-20T07:08:34.065Z"
   },
   {
    "duration": -299,
    "start_time": "2022-01-20T07:08:34.067Z"
   },
   {
    "duration": -302,
    "start_time": "2022-01-20T07:08:34.071Z"
   },
   {
    "duration": -304,
    "start_time": "2022-01-20T07:08:34.074Z"
   },
   {
    "duration": -306,
    "start_time": "2022-01-20T07:08:34.077Z"
   },
   {
    "duration": -308,
    "start_time": "2022-01-20T07:08:34.080Z"
   },
   {
    "duration": -311,
    "start_time": "2022-01-20T07:08:34.083Z"
   },
   {
    "duration": -313,
    "start_time": "2022-01-20T07:08:34.086Z"
   },
   {
    "duration": -316,
    "start_time": "2022-01-20T07:08:34.090Z"
   },
   {
    "duration": -318,
    "start_time": "2022-01-20T07:08:34.093Z"
   },
   {
    "duration": -321,
    "start_time": "2022-01-20T07:08:34.097Z"
   },
   {
    "duration": -324,
    "start_time": "2022-01-20T07:08:34.100Z"
   },
   {
    "duration": -328,
    "start_time": "2022-01-20T07:08:34.105Z"
   },
   {
    "duration": -331,
    "start_time": "2022-01-20T07:08:34.109Z"
   },
   {
    "duration": -333,
    "start_time": "2022-01-20T07:08:34.112Z"
   },
   {
    "duration": 4,
    "start_time": "2022-01-20T07:09:30.011Z"
   },
   {
    "duration": 363,
    "start_time": "2022-01-20T07:09:39.217Z"
   },
   {
    "duration": 5,
    "start_time": "2022-01-20T07:09:39.583Z"
   },
   {
    "duration": 549,
    "start_time": "2022-01-20T07:09:39.590Z"
   },
   {
    "duration": 4,
    "start_time": "2022-01-20T07:09:40.141Z"
   },
   {
    "duration": 14,
    "start_time": "2022-01-20T07:09:40.147Z"
   },
   {
    "duration": 19,
    "start_time": "2022-01-20T07:09:40.162Z"
   },
   {
    "duration": 11,
    "start_time": "2022-01-20T07:09:40.183Z"
   },
   {
    "duration": 256,
    "start_time": "2022-01-20T07:09:40.196Z"
   },
   {
    "duration": 8,
    "start_time": "2022-01-20T07:09:40.454Z"
   },
   {
    "duration": 6,
    "start_time": "2022-01-20T07:09:40.463Z"
   },
   {
    "duration": 12,
    "start_time": "2022-01-20T07:09:40.470Z"
   },
   {
    "duration": 10,
    "start_time": "2022-01-20T07:09:40.484Z"
   },
   {
    "duration": 250,
    "start_time": "2022-01-20T07:09:40.496Z"
   },
   {
    "duration": 2,
    "start_time": "2022-01-20T07:09:40.748Z"
   },
   {
    "duration": 3,
    "start_time": "2022-01-20T07:09:40.760Z"
   },
   {
    "duration": 299,
    "start_time": "2022-01-20T07:09:40.764Z"
   },
   {
    "duration": 11,
    "start_time": "2022-01-20T07:09:41.065Z"
   },
   {
    "duration": 788,
    "start_time": "2022-01-20T07:09:41.078Z"
   },
   {
    "duration": 23,
    "start_time": "2022-01-20T07:09:41.868Z"
   },
   {
    "duration": 440,
    "start_time": "2022-01-20T07:09:41.893Z"
   },
   {
    "duration": 11,
    "start_time": "2022-01-20T07:09:42.335Z"
   },
   {
    "duration": 287,
    "start_time": "2022-01-20T07:09:42.360Z"
   },
   {
    "duration": 3,
    "start_time": "2022-01-20T07:09:42.651Z"
   },
   {
    "duration": 18,
    "start_time": "2022-01-20T07:09:42.662Z"
   },
   {
    "duration": 285,
    "start_time": "2022-01-20T07:09:42.681Z"
   },
   {
    "duration": 10,
    "start_time": "2022-01-20T07:09:42.967Z"
   },
   {
    "duration": 597,
    "start_time": "2022-01-20T07:09:42.979Z"
   },
   {
    "duration": 16,
    "start_time": "2022-01-20T07:09:43.577Z"
   },
   {
    "duration": 314,
    "start_time": "2022-01-20T07:09:43.595Z"
   },
   {
    "duration": 11,
    "start_time": "2022-01-20T07:09:43.910Z"
   },
   {
    "duration": 255,
    "start_time": "2022-01-20T07:09:43.922Z"
   },
   {
    "duration": 3,
    "start_time": "2022-01-20T07:09:44.179Z"
   },
   {
    "duration": 8,
    "start_time": "2022-01-20T07:09:44.184Z"
   },
   {
    "duration": 267,
    "start_time": "2022-01-20T07:09:44.194Z"
   },
   {
    "duration": 11,
    "start_time": "2022-01-20T07:09:44.463Z"
   },
   {
    "duration": 500,
    "start_time": "2022-01-20T07:09:44.476Z"
   },
   {
    "duration": 18,
    "start_time": "2022-01-20T07:09:44.978Z"
   },
   {
    "duration": 329,
    "start_time": "2022-01-20T07:09:44.998Z"
   },
   {
    "duration": 4,
    "start_time": "2022-01-20T07:16:52.860Z"
   },
   {
    "duration": 5,
    "start_time": "2022-01-20T07:17:03.774Z"
   },
   {
    "duration": 4,
    "start_time": "2022-01-20T07:17:57.617Z"
   },
   {
    "duration": 4,
    "start_time": "2022-01-20T07:18:44.420Z"
   },
   {
    "duration": 4,
    "start_time": "2022-01-20T07:28:23.758Z"
   },
   {
    "duration": 7,
    "start_time": "2022-01-20T07:48:08.184Z"
   },
   {
    "duration": 5,
    "start_time": "2022-01-20T07:50:51.203Z"
   },
   {
    "duration": 6,
    "start_time": "2022-01-20T07:52:37.297Z"
   },
   {
    "duration": 7,
    "start_time": "2022-01-20T07:52:46.310Z"
   },
   {
    "duration": 7,
    "start_time": "2022-01-20T07:52:50.886Z"
   },
   {
    "duration": 6,
    "start_time": "2022-01-20T07:53:16.160Z"
   },
   {
    "duration": 6,
    "start_time": "2022-01-20T07:56:55.520Z"
   },
   {
    "duration": 8,
    "start_time": "2022-01-20T08:10:11.570Z"
   },
   {
    "duration": 7,
    "start_time": "2022-01-20T08:10:28.332Z"
   },
   {
    "duration": 7,
    "start_time": "2022-01-20T08:14:22.234Z"
   },
   {
    "duration": 6,
    "start_time": "2022-01-20T08:14:26.801Z"
   },
   {
    "duration": 5,
    "start_time": "2022-01-20T08:35:03.605Z"
   },
   {
    "duration": 299,
    "start_time": "2022-01-20T08:35:05.618Z"
   },
   {
    "duration": 6,
    "start_time": "2022-01-20T08:35:27.330Z"
   },
   {
    "duration": 320,
    "start_time": "2022-01-20T08:35:29.582Z"
   },
   {
    "duration": 6060,
    "start_time": "2022-01-24T16:23:45.047Z"
   },
   {
    "duration": 839,
    "start_time": "2022-01-24T16:25:43.808Z"
   },
   {
    "duration": 35,
    "start_time": "2022-01-24T16:25:44.649Z"
   },
   {
    "duration": 10,
    "start_time": "2022-01-24T16:25:44.686Z"
   },
   {
    "duration": 15,
    "start_time": "2022-01-24T16:25:44.698Z"
   },
   {
    "duration": 3,
    "start_time": "2022-01-24T16:25:44.715Z"
   },
   {
    "duration": 9,
    "start_time": "2022-01-24T16:25:44.720Z"
   },
   {
    "duration": 41,
    "start_time": "2022-01-24T16:25:44.731Z"
   },
   {
    "duration": 9,
    "start_time": "2022-01-24T16:25:44.774Z"
   },
   {
    "duration": 19,
    "start_time": "2022-01-24T16:25:44.785Z"
   },
   {
    "duration": 7,
    "start_time": "2022-01-24T16:25:44.805Z"
   },
   {
    "duration": 4,
    "start_time": "2022-01-24T16:25:44.813Z"
   },
   {
    "duration": 6,
    "start_time": "2022-01-24T16:25:44.818Z"
   },
   {
    "duration": 8,
    "start_time": "2022-01-24T16:25:44.826Z"
   },
   {
    "duration": 53,
    "start_time": "2022-01-24T16:25:44.835Z"
   },
   {
    "duration": 7,
    "start_time": "2022-01-24T16:25:44.890Z"
   },
   {
    "duration": 288,
    "start_time": "2022-01-24T16:25:44.898Z"
   },
   {
    "duration": 14,
    "start_time": "2022-01-24T16:25:45.188Z"
   },
   {
    "duration": 349,
    "start_time": "2022-01-24T16:25:45.203Z"
   },
   {
    "duration": 2,
    "start_time": "2022-01-24T16:25:45.554Z"
   },
   {
    "duration": 22,
    "start_time": "2022-01-24T16:25:45.558Z"
   },
   {
    "duration": 540,
    "start_time": "2022-01-24T16:25:45.582Z"
   },
   {
    "duration": 6,
    "start_time": "2022-01-24T16:25:46.124Z"
   },
   {
    "duration": 5456,
    "start_time": "2022-01-24T16:25:46.133Z"
   },
   {
    "duration": -11583,
    "start_time": "2022-01-24T16:26:03.175Z"
   },
   {
    "duration": -11584,
    "start_time": "2022-01-24T16:26:03.177Z"
   },
   {
    "duration": -11643,
    "start_time": "2022-01-24T16:26:03.237Z"
   },
   {
    "duration": -11645,
    "start_time": "2022-01-24T16:26:03.240Z"
   },
   {
    "duration": -11647,
    "start_time": "2022-01-24T16:26:03.243Z"
   },
   {
    "duration": -11649,
    "start_time": "2022-01-24T16:26:03.246Z"
   },
   {
    "duration": -11651,
    "start_time": "2022-01-24T16:26:03.249Z"
   },
   {
    "duration": -11653,
    "start_time": "2022-01-24T16:26:03.252Z"
   },
   {
    "duration": -11655,
    "start_time": "2022-01-24T16:26:03.255Z"
   },
   {
    "duration": -11657,
    "start_time": "2022-01-24T16:26:03.258Z"
   },
   {
    "duration": -11660,
    "start_time": "2022-01-24T16:26:03.262Z"
   },
   {
    "duration": -11662,
    "start_time": "2022-01-24T16:26:03.265Z"
   },
   {
    "duration": -11664,
    "start_time": "2022-01-24T16:26:03.268Z"
   },
   {
    "duration": -11668,
    "start_time": "2022-01-24T16:26:03.272Z"
   },
   {
    "duration": -11670,
    "start_time": "2022-01-24T16:26:03.275Z"
   },
   {
    "duration": -11672,
    "start_time": "2022-01-24T16:26:03.278Z"
   },
   {
    "duration": -11675,
    "start_time": "2022-01-24T16:26:03.282Z"
   },
   {
    "duration": -11677,
    "start_time": "2022-01-24T16:26:03.285Z"
   },
   {
    "duration": -11679,
    "start_time": "2022-01-24T16:26:03.288Z"
   },
   {
    "duration": -11683,
    "start_time": "2022-01-24T16:26:03.292Z"
   },
   {
    "duration": -11779,
    "start_time": "2022-01-24T16:26:03.389Z"
   },
   {
    "duration": -11781,
    "start_time": "2022-01-24T16:26:03.392Z"
   },
   {
    "duration": -11783,
    "start_time": "2022-01-24T16:26:03.395Z"
   },
   {
    "duration": -11786,
    "start_time": "2022-01-24T16:26:03.398Z"
   },
   {
    "duration": -11788,
    "start_time": "2022-01-24T16:26:03.401Z"
   },
   {
    "duration": -11790,
    "start_time": "2022-01-24T16:26:03.404Z"
   },
   {
    "duration": -11792,
    "start_time": "2022-01-24T16:26:03.407Z"
   },
   {
    "duration": -11795,
    "start_time": "2022-01-24T16:26:03.410Z"
   },
   {
    "duration": -11797,
    "start_time": "2022-01-24T16:26:03.413Z"
   },
   {
    "duration": -11799,
    "start_time": "2022-01-24T16:26:03.416Z"
   },
   {
    "duration": -11801,
    "start_time": "2022-01-24T16:26:03.419Z"
   },
   {
    "duration": -11803,
    "start_time": "2022-01-24T16:26:03.422Z"
   },
   {
    "duration": -11806,
    "start_time": "2022-01-24T16:26:03.425Z"
   },
   {
    "duration": -11808,
    "start_time": "2022-01-24T16:26:03.428Z"
   },
   {
    "duration": -11810,
    "start_time": "2022-01-24T16:26:03.431Z"
   },
   {
    "duration": -11812,
    "start_time": "2022-01-24T16:26:03.434Z"
   },
   {
    "duration": -11815,
    "start_time": "2022-01-24T16:26:03.437Z"
   },
   {
    "duration": -11876,
    "start_time": "2022-01-24T16:26:03.499Z"
   },
   {
    "duration": -11898,
    "start_time": "2022-01-24T16:26:03.522Z"
   },
   {
    "duration": -11900,
    "start_time": "2022-01-24T16:26:03.525Z"
   },
   {
    "duration": -11903,
    "start_time": "2022-01-24T16:26:03.528Z"
   },
   {
    "duration": -11904,
    "start_time": "2022-01-24T16:26:03.530Z"
   },
   {
    "duration": -11907,
    "start_time": "2022-01-24T16:26:03.534Z"
   },
   {
    "duration": -11909,
    "start_time": "2022-01-24T16:26:03.537Z"
   },
   {
    "duration": -11911,
    "start_time": "2022-01-24T16:26:03.540Z"
   },
   {
    "duration": -11914,
    "start_time": "2022-01-24T16:26:03.543Z"
   },
   {
    "duration": -11916,
    "start_time": "2022-01-24T16:26:03.546Z"
   },
   {
    "duration": -11877,
    "start_time": "2022-01-24T16:26:03.549Z"
   },
   {
    "duration": 896,
    "start_time": "2022-01-24T16:26:22.380Z"
   },
   {
    "duration": 394,
    "start_time": "2022-01-24T16:26:41.285Z"
   },
   {
    "duration": 6,
    "start_time": "2022-01-24T16:26:41.681Z"
   },
   {
    "duration": 5,
    "start_time": "2022-01-24T16:26:41.689Z"
   },
   {
    "duration": 276,
    "start_time": "2022-01-24T16:26:41.696Z"
   },
   {
    "duration": 4,
    "start_time": "2022-01-24T16:26:41.974Z"
   },
   {
    "duration": 566,
    "start_time": "2022-01-24T16:26:41.980Z"
   },
   {
    "duration": 5,
    "start_time": "2022-01-24T16:26:42.548Z"
   },
   {
    "duration": 16,
    "start_time": "2022-01-24T16:26:42.555Z"
   },
   {
    "duration": 13,
    "start_time": "2022-01-24T16:26:42.573Z"
   },
   {
    "duration": 8,
    "start_time": "2022-01-24T16:26:42.588Z"
   },
   {
    "duration": 243,
    "start_time": "2022-01-24T16:26:42.597Z"
   },
   {
    "duration": 3,
    "start_time": "2022-01-24T16:26:42.841Z"
   },
   {
    "duration": 7,
    "start_time": "2022-01-24T16:26:42.846Z"
   },
   {
    "duration": 21,
    "start_time": "2022-01-24T16:26:42.855Z"
   },
   {
    "duration": 14,
    "start_time": "2022-01-24T16:26:42.878Z"
   },
   {
    "duration": 255,
    "start_time": "2022-01-24T16:26:42.894Z"
   },
   {
    "duration": 3,
    "start_time": "2022-01-24T16:26:43.150Z"
   },
   {
    "duration": 5,
    "start_time": "2022-01-24T16:26:43.155Z"
   },
   {
    "duration": 265,
    "start_time": "2022-01-24T16:26:43.172Z"
   },
   {
    "duration": 11,
    "start_time": "2022-01-24T16:26:43.439Z"
   },
   {
    "duration": 474,
    "start_time": "2022-01-24T16:26:43.451Z"
   },
   {
    "duration": 4,
    "start_time": "2022-01-24T16:26:43.927Z"
   },
   {
    "duration": 15,
    "start_time": "2022-01-24T16:26:43.934Z"
   },
   {
    "duration": 314,
    "start_time": "2022-01-24T16:26:43.951Z"
   },
   {
    "duration": 10,
    "start_time": "2022-01-24T16:26:44.267Z"
   },
   {
    "duration": 240,
    "start_time": "2022-01-24T16:26:44.279Z"
   },
   {
    "duration": 2,
    "start_time": "2022-01-24T16:26:44.521Z"
   },
   {
    "duration": 5,
    "start_time": "2022-01-24T16:26:44.525Z"
   },
   {
    "duration": 261,
    "start_time": "2022-01-24T16:26:44.531Z"
   },
   {
    "duration": 10,
    "start_time": "2022-01-24T16:26:44.794Z"
   },
   {
    "duration": 706,
    "start_time": "2022-01-24T16:26:44.806Z"
   },
   {
    "duration": 4,
    "start_time": "2022-01-24T16:26:45.514Z"
   },
   {
    "duration": 17,
    "start_time": "2022-01-24T16:26:45.519Z"
   },
   {
    "duration": 455,
    "start_time": "2022-01-24T16:26:45.537Z"
   },
   {
    "duration": 10,
    "start_time": "2022-01-24T16:26:45.994Z"
   },
   {
    "duration": 280,
    "start_time": "2022-01-24T16:26:46.006Z"
   },
   {
    "duration": 3,
    "start_time": "2022-01-24T16:26:46.288Z"
   },
   {
    "duration": 6,
    "start_time": "2022-01-24T16:26:46.293Z"
   },
   {
    "duration": 252,
    "start_time": "2022-01-24T16:26:46.300Z"
   },
   {
    "duration": 19,
    "start_time": "2022-01-24T16:26:46.554Z"
   },
   {
    "duration": 678,
    "start_time": "2022-01-24T16:26:46.575Z"
   },
   {
    "duration": 4,
    "start_time": "2022-01-24T16:26:47.255Z"
   },
   {
    "duration": 24,
    "start_time": "2022-01-24T16:26:47.260Z"
   },
   {
    "duration": 293,
    "start_time": "2022-01-24T16:26:47.286Z"
   },
   {
    "duration": 6,
    "start_time": "2022-01-24T16:26:47.580Z"
   },
   {
    "duration": 9,
    "start_time": "2022-01-24T16:26:47.588Z"
   },
   {
    "duration": 8,
    "start_time": "2022-01-24T16:26:47.599Z"
   },
   {
    "duration": 6,
    "start_time": "2022-01-24T16:26:47.609Z"
   },
   {
    "duration": 1031,
    "start_time": "2022-01-24T16:48:59.904Z"
   },
   {
    "duration": 890,
    "start_time": "2022-01-24T16:49:09.627Z"
   },
   {
    "duration": 38,
    "start_time": "2022-01-24T16:49:10.519Z"
   },
   {
    "duration": 10,
    "start_time": "2022-01-24T16:49:10.559Z"
   },
   {
    "duration": 16,
    "start_time": "2022-01-24T16:49:10.571Z"
   },
   {
    "duration": 3,
    "start_time": "2022-01-24T16:49:10.597Z"
   },
   {
    "duration": 12,
    "start_time": "2022-01-24T16:49:10.601Z"
   },
   {
    "duration": 12,
    "start_time": "2022-01-24T16:49:10.615Z"
   },
   {
    "duration": 7,
    "start_time": "2022-01-24T16:49:10.630Z"
   },
   {
    "duration": 19,
    "start_time": "2022-01-24T16:49:10.639Z"
   },
   {
    "duration": 7,
    "start_time": "2022-01-24T16:49:10.659Z"
   },
   {
    "duration": 32,
    "start_time": "2022-01-24T16:49:10.668Z"
   },
   {
    "duration": 8,
    "start_time": "2022-01-24T16:49:10.702Z"
   },
   {
    "duration": 7,
    "start_time": "2022-01-24T16:49:10.712Z"
   },
   {
    "duration": 21,
    "start_time": "2022-01-24T16:49:10.721Z"
   },
   {
    "duration": 5,
    "start_time": "2022-01-24T16:49:10.743Z"
   },
   {
    "duration": 333,
    "start_time": "2022-01-24T16:49:10.750Z"
   },
   {
    "duration": 20,
    "start_time": "2022-01-24T16:49:11.085Z"
   },
   {
    "duration": 356,
    "start_time": "2022-01-24T16:49:11.106Z"
   },
   {
    "duration": 2,
    "start_time": "2022-01-24T16:49:11.464Z"
   },
   {
    "duration": 18,
    "start_time": "2022-01-24T16:49:11.468Z"
   },
   {
    "duration": 483,
    "start_time": "2022-01-24T16:49:11.498Z"
   },
   {
    "duration": 6,
    "start_time": "2022-01-24T16:49:11.982Z"
   },
   {
    "duration": 875,
    "start_time": "2022-01-24T16:49:11.991Z"
   },
   {
    "duration": 550,
    "start_time": "2022-01-24T16:49:12.868Z"
   },
   {
    "duration": 5,
    "start_time": "2022-01-24T16:49:13.420Z"
   },
   {
    "duration": 7,
    "start_time": "2022-01-24T16:49:13.426Z"
   },
   {
    "duration": 309,
    "start_time": "2022-01-24T16:49:13.434Z"
   },
   {
    "duration": 6,
    "start_time": "2022-01-24T16:49:13.744Z"
   },
   {
    "duration": 675,
    "start_time": "2022-01-24T16:49:13.751Z"
   },
   {
    "duration": 5,
    "start_time": "2022-01-24T16:49:14.428Z"
   },
   {
    "duration": 65,
    "start_time": "2022-01-24T16:49:14.434Z"
   },
   {
    "duration": 39,
    "start_time": "2022-01-24T16:49:14.500Z"
   },
   {
    "duration": 17,
    "start_time": "2022-01-24T16:49:14.540Z"
   },
   {
    "duration": 349,
    "start_time": "2022-01-24T16:49:14.559Z"
   },
   {
    "duration": 3,
    "start_time": "2022-01-24T16:49:14.909Z"
   },
   {
    "duration": 17,
    "start_time": "2022-01-24T16:49:14.914Z"
   },
   {
    "duration": 24,
    "start_time": "2022-01-24T16:49:14.932Z"
   },
   {
    "duration": 17,
    "start_time": "2022-01-24T16:49:14.957Z"
   },
   {
    "duration": 290,
    "start_time": "2022-01-24T16:49:14.975Z"
   },
   {
    "duration": 4,
    "start_time": "2022-01-24T16:49:15.267Z"
   },
   {
    "duration": 6,
    "start_time": "2022-01-24T16:49:15.273Z"
   },
   {
    "duration": 299,
    "start_time": "2022-01-24T16:49:15.280Z"
   },
   {
    "duration": 21,
    "start_time": "2022-01-24T16:49:15.582Z"
   },
   {
    "duration": 559,
    "start_time": "2022-01-24T16:49:15.605Z"
   },
   {
    "duration": 4,
    "start_time": "2022-01-24T16:49:16.166Z"
   },
   {
    "duration": 30,
    "start_time": "2022-01-24T16:49:16.172Z"
   },
   {
    "duration": 365,
    "start_time": "2022-01-24T16:49:16.204Z"
   },
   {
    "duration": 11,
    "start_time": "2022-01-24T16:49:16.571Z"
   },
   {
    "duration": 285,
    "start_time": "2022-01-24T16:49:16.584Z"
   },
   {
    "duration": 4,
    "start_time": "2022-01-24T16:49:16.871Z"
   },
   {
    "duration": 22,
    "start_time": "2022-01-24T16:49:16.877Z"
   },
   {
    "duration": 284,
    "start_time": "2022-01-24T16:49:16.901Z"
   },
   {
    "duration": 12,
    "start_time": "2022-01-24T16:49:17.187Z"
   },
   {
    "duration": 555,
    "start_time": "2022-01-24T16:49:17.201Z"
   },
   {
    "duration": 4,
    "start_time": "2022-01-24T16:49:17.757Z"
   },
   {
    "duration": 17,
    "start_time": "2022-01-24T16:49:17.763Z"
   },
   {
    "duration": 525,
    "start_time": "2022-01-24T16:49:17.781Z"
   },
   {
    "duration": 9,
    "start_time": "2022-01-24T16:49:18.307Z"
   },
   {
    "duration": 272,
    "start_time": "2022-01-24T16:49:18.318Z"
   },
   {
    "duration": 8,
    "start_time": "2022-01-24T16:49:18.591Z"
   },
   {
    "duration": 7,
    "start_time": "2022-01-24T16:49:18.600Z"
   },
   {
    "duration": 296,
    "start_time": "2022-01-24T16:49:18.608Z"
   },
   {
    "duration": 9,
    "start_time": "2022-01-24T16:49:18.905Z"
   },
   {
    "duration": 556,
    "start_time": "2022-01-24T16:49:18.916Z"
   },
   {
    "duration": 3,
    "start_time": "2022-01-24T16:49:19.474Z"
   },
   {
    "duration": 28,
    "start_time": "2022-01-24T16:49:19.479Z"
   },
   {
    "duration": 354,
    "start_time": "2022-01-24T16:49:19.509Z"
   },
   {
    "duration": 7,
    "start_time": "2022-01-24T16:49:19.867Z"
   },
   {
    "duration": 8,
    "start_time": "2022-01-24T16:49:19.875Z"
   },
   {
    "duration": 18,
    "start_time": "2022-01-24T16:49:19.885Z"
   },
   {
    "duration": 7,
    "start_time": "2022-01-24T16:49:19.904Z"
   },
   {
    "duration": 228,
    "start_time": "2022-01-24T16:57:29.868Z"
   },
   {
    "duration": 285,
    "start_time": "2022-01-24T16:57:44.571Z"
   },
   {
    "duration": 292,
    "start_time": "2022-01-24T16:57:55.542Z"
   },
   {
    "duration": 294,
    "start_time": "2022-01-24T17:00:30.195Z"
   },
   {
    "duration": 609,
    "start_time": "2022-01-24T17:02:34.399Z"
   },
   {
    "duration": 299,
    "start_time": "2022-01-24T17:02:41.407Z"
   },
   {
    "duration": 415,
    "start_time": "2022-01-24T17:04:21.370Z"
   },
   {
    "duration": 297,
    "start_time": "2022-01-24T17:04:37.240Z"
   },
   {
    "duration": 303,
    "start_time": "2022-01-24T17:04:44.468Z"
   },
   {
    "duration": 287,
    "start_time": "2022-01-24T17:05:40.326Z"
   },
   {
    "duration": 316,
    "start_time": "2022-01-24T17:05:50.256Z"
   },
   {
    "duration": 288,
    "start_time": "2022-01-24T17:08:18.607Z"
   },
   {
    "duration": 286,
    "start_time": "2022-01-24T17:08:24.817Z"
   },
   {
    "duration": 282,
    "start_time": "2022-01-24T17:09:16.582Z"
   },
   {
    "duration": 286,
    "start_time": "2022-01-24T17:09:22.299Z"
   },
   {
    "duration": 19,
    "start_time": "2022-01-24T17:22:51.259Z"
   },
   {
    "duration": 14,
    "start_time": "2022-01-24T17:23:09.018Z"
   },
   {
    "duration": 232,
    "start_time": "2022-01-24T17:23:31.488Z"
   },
   {
    "duration": 292,
    "start_time": "2022-01-24T17:23:37.547Z"
   },
   {
    "duration": 21,
    "start_time": "2022-01-24T17:23:43.738Z"
   },
   {
    "duration": 1101,
    "start_time": "2022-01-24T17:24:04.446Z"
   },
   {
    "duration": 40,
    "start_time": "2022-01-24T17:24:05.549Z"
   },
   {
    "duration": 12,
    "start_time": "2022-01-24T17:24:05.591Z"
   },
   {
    "duration": 18,
    "start_time": "2022-01-24T17:24:05.605Z"
   },
   {
    "duration": 3,
    "start_time": "2022-01-24T17:24:05.625Z"
   },
   {
    "duration": 17,
    "start_time": "2022-01-24T17:24:05.629Z"
   },
   {
    "duration": 15,
    "start_time": "2022-01-24T17:24:05.648Z"
   },
   {
    "duration": 34,
    "start_time": "2022-01-24T17:24:05.666Z"
   },
   {
    "duration": 21,
    "start_time": "2022-01-24T17:24:05.703Z"
   },
   {
    "duration": 7,
    "start_time": "2022-01-24T17:24:05.726Z"
   },
   {
    "duration": 7,
    "start_time": "2022-01-24T17:24:05.734Z"
   },
   {
    "duration": 18,
    "start_time": "2022-01-24T17:24:05.742Z"
   },
   {
    "duration": 8,
    "start_time": "2022-01-24T17:24:05.762Z"
   },
   {
    "duration": 39,
    "start_time": "2022-01-24T17:24:05.771Z"
   },
   {
    "duration": 5,
    "start_time": "2022-01-24T17:24:05.812Z"
   },
   {
    "duration": 340,
    "start_time": "2022-01-24T17:24:05.819Z"
   },
   {
    "duration": 15,
    "start_time": "2022-01-24T17:24:06.161Z"
   },
   {
    "duration": 378,
    "start_time": "2022-01-24T17:24:06.178Z"
   },
   {
    "duration": 3,
    "start_time": "2022-01-24T17:24:06.558Z"
   },
   {
    "duration": 21,
    "start_time": "2022-01-24T17:24:06.563Z"
   },
   {
    "duration": 522,
    "start_time": "2022-01-24T17:24:06.586Z"
   },
   {
    "duration": 5,
    "start_time": "2022-01-24T17:24:07.110Z"
   },
   {
    "duration": 1192,
    "start_time": "2022-01-24T17:24:07.119Z"
   },
   {
    "duration": 616,
    "start_time": "2022-01-24T17:24:08.314Z"
   },
   {
    "duration": 7,
    "start_time": "2022-01-24T17:24:08.933Z"
   },
   {
    "duration": 7,
    "start_time": "2022-01-24T17:24:08.942Z"
   },
   {
    "duration": 313,
    "start_time": "2022-01-24T17:24:08.951Z"
   },
   {
    "duration": 5,
    "start_time": "2022-01-24T17:24:09.266Z"
   },
   {
    "duration": 564,
    "start_time": "2022-01-24T17:24:09.273Z"
   },
   {
    "duration": 6,
    "start_time": "2022-01-24T17:24:09.839Z"
   },
   {
    "duration": 5,
    "start_time": "2022-01-24T17:24:09.847Z"
   },
   {
    "duration": 21,
    "start_time": "2022-01-24T17:24:09.854Z"
   },
   {
    "duration": 29,
    "start_time": "2022-01-24T17:24:09.876Z"
   },
   {
    "duration": 279,
    "start_time": "2022-01-24T17:24:09.907Z"
   },
   {
    "duration": 3,
    "start_time": "2022-01-24T17:24:10.188Z"
   },
   {
    "duration": 12,
    "start_time": "2022-01-24T17:24:10.192Z"
   },
   {
    "duration": 11,
    "start_time": "2022-01-24T17:24:10.206Z"
   },
   {
    "duration": 9,
    "start_time": "2022-01-24T17:24:10.219Z"
   },
   {
    "duration": 281,
    "start_time": "2022-01-24T17:24:10.230Z"
   },
   {
    "duration": 3,
    "start_time": "2022-01-24T17:24:10.514Z"
   },
   {
    "duration": 6,
    "start_time": "2022-01-24T17:24:10.519Z"
   },
   {
    "duration": 301,
    "start_time": "2022-01-24T17:24:10.526Z"
   },
   {
    "duration": 10,
    "start_time": "2022-01-24T17:24:10.829Z"
   },
   {
    "duration": 556,
    "start_time": "2022-01-24T17:24:10.841Z"
   },
   {
    "duration": 4,
    "start_time": "2022-01-24T17:24:11.399Z"
   },
   {
    "duration": 17,
    "start_time": "2022-01-24T17:24:11.405Z"
   },
   {
    "duration": 365,
    "start_time": "2022-01-24T17:24:11.424Z"
   },
   {
    "duration": 15,
    "start_time": "2022-01-24T17:24:11.791Z"
   },
   {
    "duration": 288,
    "start_time": "2022-01-24T17:24:11.807Z"
   },
   {
    "duration": 3,
    "start_time": "2022-01-24T17:24:12.098Z"
   },
   {
    "duration": 5,
    "start_time": "2022-01-24T17:24:12.103Z"
   },
   {
    "duration": 308,
    "start_time": "2022-01-24T17:24:12.110Z"
   },
   {
    "duration": 12,
    "start_time": "2022-01-24T17:24:12.420Z"
   },
   {
    "duration": 588,
    "start_time": "2022-01-24T17:24:12.433Z"
   },
   {
    "duration": 3,
    "start_time": "2022-01-24T17:24:13.023Z"
   },
   {
    "duration": 19,
    "start_time": "2022-01-24T17:24:13.028Z"
   },
   {
    "duration": 508,
    "start_time": "2022-01-24T17:24:13.048Z"
   },
   {
    "duration": 9,
    "start_time": "2022-01-24T17:24:13.558Z"
   },
   {
    "duration": 284,
    "start_time": "2022-01-24T17:24:13.568Z"
   },
   {
    "duration": 3,
    "start_time": "2022-01-24T17:24:13.854Z"
   },
   {
    "duration": 5,
    "start_time": "2022-01-24T17:24:13.859Z"
   },
   {
    "duration": 286,
    "start_time": "2022-01-24T17:24:13.865Z"
   },
   {
    "duration": 10,
    "start_time": "2022-01-24T17:24:14.153Z"
   },
   {
    "duration": 580,
    "start_time": "2022-01-24T17:24:14.165Z"
   },
   {
    "duration": 4,
    "start_time": "2022-01-24T17:24:14.747Z"
   },
   {
    "duration": 18,
    "start_time": "2022-01-24T17:24:14.753Z"
   },
   {
    "duration": 387,
    "start_time": "2022-01-24T17:24:14.773Z"
   },
   {
    "duration": 7,
    "start_time": "2022-01-24T17:24:15.165Z"
   },
   {
    "duration": 9,
    "start_time": "2022-01-24T17:24:15.174Z"
   },
   {
    "duration": 8,
    "start_time": "2022-01-24T17:24:15.198Z"
   },
   {
    "duration": 12,
    "start_time": "2022-01-24T17:24:15.208Z"
   },
   {
    "duration": 569,
    "start_time": "2022-01-25T10:37:49.397Z"
   },
   {
    "duration": 1476,
    "start_time": "2022-01-25T10:37:57.812Z"
   },
   {
    "duration": 49,
    "start_time": "2022-01-25T10:37:59.290Z"
   },
   {
    "duration": 14,
    "start_time": "2022-01-25T10:37:59.343Z"
   },
   {
    "duration": 24,
    "start_time": "2022-01-25T10:37:59.366Z"
   },
   {
    "duration": 4,
    "start_time": "2022-01-25T10:37:59.393Z"
   },
   {
    "duration": 18,
    "start_time": "2022-01-25T10:37:59.399Z"
   },
   {
    "duration": 54,
    "start_time": "2022-01-25T10:37:59.420Z"
   },
   {
    "duration": 11,
    "start_time": "2022-01-25T10:37:59.477Z"
   },
   {
    "duration": 28,
    "start_time": "2022-01-25T10:37:59.491Z"
   },
   {
    "duration": 11,
    "start_time": "2022-01-25T10:37:59.521Z"
   },
   {
    "duration": 33,
    "start_time": "2022-01-25T10:37:59.534Z"
   },
   {
    "duration": 14,
    "start_time": "2022-01-25T10:37:59.570Z"
   },
   {
    "duration": 9,
    "start_time": "2022-01-25T10:37:59.587Z"
   },
   {
    "duration": 32,
    "start_time": "2022-01-25T10:37:59.598Z"
   },
   {
    "duration": 36,
    "start_time": "2022-01-25T10:37:59.633Z"
   },
   {
    "duration": 473,
    "start_time": "2022-01-25T10:37:59.672Z"
   },
   {
    "duration": 31,
    "start_time": "2022-01-25T10:38:00.147Z"
   },
   {
    "duration": 570,
    "start_time": "2022-01-25T10:38:00.180Z"
   },
   {
    "duration": 13,
    "start_time": "2022-01-25T10:38:00.752Z"
   },
   {
    "duration": 35,
    "start_time": "2022-01-25T10:38:00.767Z"
   },
   {
    "duration": 749,
    "start_time": "2022-01-25T10:38:00.805Z"
   },
   {
    "duration": 14,
    "start_time": "2022-01-25T10:38:01.556Z"
   },
   {
    "duration": 9823,
    "start_time": "2022-01-25T10:38:01.576Z"
   },
   {
    "duration": 984,
    "start_time": "2022-01-25T10:38:11.403Z"
   },
   {
    "duration": 8,
    "start_time": "2022-01-25T10:38:12.390Z"
   },
   {
    "duration": 11,
    "start_time": "2022-01-25T10:38:12.400Z"
   },
   {
    "duration": 445,
    "start_time": "2022-01-25T10:38:12.413Z"
   },
   {
    "duration": 448,
    "start_time": "2022-01-25T10:38:12.864Z"
   },
   {
    "duration": 7,
    "start_time": "2022-01-25T10:38:13.315Z"
   },
   {
    "duration": 817,
    "start_time": "2022-01-25T10:38:13.325Z"
   },
   {
    "duration": 8,
    "start_time": "2022-01-25T10:38:14.144Z"
   },
   {
    "duration": 5,
    "start_time": "2022-01-25T10:38:14.165Z"
   },
   {
    "duration": 30,
    "start_time": "2022-01-25T10:38:14.173Z"
   },
   {
    "duration": 17,
    "start_time": "2022-01-25T10:38:14.206Z"
   },
   {
    "duration": 411,
    "start_time": "2022-01-25T10:38:14.226Z"
   },
   {
    "duration": 4,
    "start_time": "2022-01-25T10:38:14.639Z"
   },
   {
    "duration": 18,
    "start_time": "2022-01-25T10:38:14.646Z"
   },
   {
    "duration": 17,
    "start_time": "2022-01-25T10:38:14.667Z"
   },
   {
    "duration": 14,
    "start_time": "2022-01-25T10:38:14.687Z"
   },
   {
    "duration": 409,
    "start_time": "2022-01-25T10:38:14.704Z"
   },
   {
    "duration": 5,
    "start_time": "2022-01-25T10:38:15.115Z"
   },
   {
    "duration": 11,
    "start_time": "2022-01-25T10:38:15.122Z"
   },
   {
    "duration": 436,
    "start_time": "2022-01-25T10:38:15.136Z"
   },
   {
    "duration": 15,
    "start_time": "2022-01-25T10:38:15.574Z"
   },
   {
    "duration": 819,
    "start_time": "2022-01-25T10:38:15.592Z"
   },
   {
    "duration": 5,
    "start_time": "2022-01-25T10:38:16.413Z"
   },
   {
    "duration": 47,
    "start_time": "2022-01-25T10:38:16.420Z"
   },
   {
    "duration": 529,
    "start_time": "2022-01-25T10:38:16.470Z"
   },
   {
    "duration": 14,
    "start_time": "2022-01-25T10:38:17.001Z"
   },
   {
    "duration": 408,
    "start_time": "2022-01-25T10:38:17.017Z"
   },
   {
    "duration": 4,
    "start_time": "2022-01-25T10:38:17.428Z"
   },
   {
    "duration": 8,
    "start_time": "2022-01-25T10:38:17.434Z"
   },
   {
    "duration": 431,
    "start_time": "2022-01-25T10:38:17.444Z"
   },
   {
    "duration": 15,
    "start_time": "2022-01-25T10:38:17.878Z"
   },
   {
    "duration": 978,
    "start_time": "2022-01-25T10:38:17.895Z"
   },
   {
    "duration": 7,
    "start_time": "2022-01-25T10:38:18.877Z"
   },
   {
    "duration": 61,
    "start_time": "2022-01-25T10:38:18.887Z"
   },
   {
    "duration": 507,
    "start_time": "2022-01-25T10:38:18.950Z"
   },
   {
    "duration": 14,
    "start_time": "2022-01-25T10:38:19.464Z"
   },
   {
    "duration": 404,
    "start_time": "2022-01-25T10:38:19.480Z"
   },
   {
    "duration": 4,
    "start_time": "2022-01-25T10:38:19.887Z"
   },
   {
    "duration": 9,
    "start_time": "2022-01-25T10:38:19.893Z"
   },
   {
    "duration": 427,
    "start_time": "2022-01-25T10:38:19.905Z"
   },
   {
    "duration": 15,
    "start_time": "2022-01-25T10:38:20.335Z"
   },
   {
    "duration": 834,
    "start_time": "2022-01-25T10:38:20.366Z"
   },
   {
    "duration": 7,
    "start_time": "2022-01-25T10:38:21.203Z"
   },
   {
    "duration": 33,
    "start_time": "2022-01-25T10:38:21.213Z"
   },
   {
    "duration": 515,
    "start_time": "2022-01-25T10:38:21.270Z"
   },
   {
    "duration": 11,
    "start_time": "2022-01-25T10:38:21.789Z"
   },
   {
    "duration": 15,
    "start_time": "2022-01-25T10:38:21.802Z"
   },
   {
    "duration": 11,
    "start_time": "2022-01-25T10:38:21.820Z"
   },
   {
    "duration": 37,
    "start_time": "2022-01-25T10:38:21.834Z"
   },
   {
    "duration": 455,
    "start_time": "2022-01-25T10:39:26.242Z"
   }
  ],
  "kernelspec": {
   "display_name": "Python 3 (ipykernel)",
   "language": "python",
   "name": "python3"
  },
  "language_info": {
   "codemirror_mode": {
    "name": "ipython",
    "version": 3
   },
   "file_extension": ".py",
   "mimetype": "text/x-python",
   "name": "python",
   "nbconvert_exporter": "python",
   "pygments_lexer": "ipython3",
   "version": "3.9.12"
  },
  "toc": {
   "base_numbering": 1,
   "nav_menu": {
    "height": "163px",
    "width": "236px"
   },
   "number_sections": true,
   "sideBar": true,
   "skip_h1_title": true,
   "title_cell": "Содержание",
   "title_sidebar": "Contents",
   "toc_cell": false,
   "toc_position": {
    "height": "calc(100% - 180px)",
    "left": "10px",
    "top": "150px",
    "width": "323.903px"
   },
   "toc_section_display": true,
   "toc_window_display": true
  }
 },
 "nbformat": 4,
 "nbformat_minor": 2
}
