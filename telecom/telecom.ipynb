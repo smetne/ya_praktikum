{
 "cells": [
  {
   "cell_type": "markdown",
   "metadata": {},
   "source": [
    "# Определение перспективного тарифа для телеком-компании"
   ]
  },
  {
   "cell_type": "markdown",
   "metadata": {},
   "source": [
    "## Изучение данных из файлов"
   ]
  },
  {
   "cell_type": "code",
   "execution_count": 1,
   "metadata": {},
   "outputs": [],
   "source": [
    "import pandas as pd\n",
    "import numpy as np\n",
    "from scipy import stats as st\n",
    "import matplotlib.pyplot as plt\n",
    "from functools import reduce\n",
    "import seaborn as sns\n",
    "import warnings\n",
    "warnings.filterwarnings('ignore')"
   ]
  },
  {
   "cell_type": "markdown",
   "metadata": {},
   "source": [
    "Откроем файлы с данными и изучим общую информацию."
   ]
  },
  {
   "cell_type": "code",
   "execution_count": 2,
   "metadata": {},
   "outputs": [],
   "source": [
    "calls = pd.read_csv('calls.csv')\n",
    "internet = pd.read_csv('internet.csv', index_col=0)\n",
    "messages = pd.read_csv('messages.csv')\n",
    "tariffs = pd.read_csv('tariffs.csv')\n",
    "users = pd.read_csv('users.csv')"
   ]
  },
  {
   "cell_type": "code",
   "execution_count": 3,
   "metadata": {
    "scrolled": true
   },
   "outputs": [
    {
     "name": "stdout",
     "output_type": "stream",
     "text": [
      "<class 'pandas.core.frame.DataFrame'>\n",
      "RangeIndex: 202607 entries, 0 to 202606\n",
      "Data columns (total 4 columns):\n",
      " #   Column     Non-Null Count   Dtype  \n",
      "---  ------     --------------   -----  \n",
      " 0   id         202607 non-null  object \n",
      " 1   call_date  202607 non-null  object \n",
      " 2   duration   202607 non-null  float64\n",
      " 3   user_id    202607 non-null  int64  \n",
      "dtypes: float64(1), int64(1), object(2)\n",
      "memory usage: 6.2+ MB\n"
     ]
    },
    {
     "data": {
      "text/html": [
       "<div>\n",
       "<style scoped>\n",
       "    .dataframe tbody tr th:only-of-type {\n",
       "        vertical-align: middle;\n",
       "    }\n",
       "\n",
       "    .dataframe tbody tr th {\n",
       "        vertical-align: top;\n",
       "    }\n",
       "\n",
       "    .dataframe thead th {\n",
       "        text-align: right;\n",
       "    }\n",
       "</style>\n",
       "<table border=\"1\" class=\"dataframe\">\n",
       "  <thead>\n",
       "    <tr style=\"text-align: right;\">\n",
       "      <th></th>\n",
       "      <th>id</th>\n",
       "      <th>call_date</th>\n",
       "      <th>duration</th>\n",
       "      <th>user_id</th>\n",
       "    </tr>\n",
       "  </thead>\n",
       "  <tbody>\n",
       "    <tr>\n",
       "      <th>49752</th>\n",
       "      <td>1123_771</td>\n",
       "      <td>2018-03-27</td>\n",
       "      <td>0.00</td>\n",
       "      <td>1123</td>\n",
       "    </tr>\n",
       "    <tr>\n",
       "      <th>152050</th>\n",
       "      <td>1379_285</td>\n",
       "      <td>2018-08-20</td>\n",
       "      <td>7.98</td>\n",
       "      <td>1379</td>\n",
       "    </tr>\n",
       "    <tr>\n",
       "      <th>163393</th>\n",
       "      <td>1402_216</td>\n",
       "      <td>2018-10-15</td>\n",
       "      <td>5.28</td>\n",
       "      <td>1402</td>\n",
       "    </tr>\n",
       "    <tr>\n",
       "      <th>54460</th>\n",
       "      <td>1136_69</td>\n",
       "      <td>2018-11-22</td>\n",
       "      <td>12.67</td>\n",
       "      <td>1136</td>\n",
       "    </tr>\n",
       "    <tr>\n",
       "      <th>67252</th>\n",
       "      <td>1171_277</td>\n",
       "      <td>2018-06-18</td>\n",
       "      <td>5.52</td>\n",
       "      <td>1171</td>\n",
       "    </tr>\n",
       "  </tbody>\n",
       "</table>\n",
       "</div>"
      ],
      "text/plain": [
       "              id   call_date  duration  user_id\n",
       "49752   1123_771  2018-03-27      0.00     1123\n",
       "152050  1379_285  2018-08-20      7.98     1379\n",
       "163393  1402_216  2018-10-15      5.28     1402\n",
       "54460    1136_69  2018-11-22     12.67     1136\n",
       "67252   1171_277  2018-06-18      5.52     1171"
      ]
     },
     "execution_count": 3,
     "metadata": {},
     "output_type": "execute_result"
    }
   ],
   "source": [
    "calls.info()\n",
    "calls.sample(5)"
   ]
  },
  {
   "cell_type": "code",
   "execution_count": 4,
   "metadata": {},
   "outputs": [
    {
     "name": "stdout",
     "output_type": "stream",
     "text": [
      "<class 'pandas.core.frame.DataFrame'>\n",
      "Int64Index: 149396 entries, 0 to 149395\n",
      "Data columns (total 4 columns):\n",
      " #   Column        Non-Null Count   Dtype  \n",
      "---  ------        --------------   -----  \n",
      " 0   id            149396 non-null  object \n",
      " 1   mb_used       149396 non-null  float64\n",
      " 2   session_date  149396 non-null  object \n",
      " 3   user_id       149396 non-null  int64  \n",
      "dtypes: float64(1), int64(1), object(2)\n",
      "memory usage: 5.7+ MB\n"
     ]
    },
    {
     "data": {
      "text/html": [
       "<div>\n",
       "<style scoped>\n",
       "    .dataframe tbody tr th:only-of-type {\n",
       "        vertical-align: middle;\n",
       "    }\n",
       "\n",
       "    .dataframe tbody tr th {\n",
       "        vertical-align: top;\n",
       "    }\n",
       "\n",
       "    .dataframe thead th {\n",
       "        text-align: right;\n",
       "    }\n",
       "</style>\n",
       "<table border=\"1\" class=\"dataframe\">\n",
       "  <thead>\n",
       "    <tr style=\"text-align: right;\">\n",
       "      <th></th>\n",
       "      <th>id</th>\n",
       "      <th>mb_used</th>\n",
       "      <th>session_date</th>\n",
       "      <th>user_id</th>\n",
       "    </tr>\n",
       "  </thead>\n",
       "  <tbody>\n",
       "    <tr>\n",
       "      <th>4809</th>\n",
       "      <td>1014_415</td>\n",
       "      <td>0.00</td>\n",
       "      <td>2018-07-06</td>\n",
       "      <td>1014</td>\n",
       "    </tr>\n",
       "    <tr>\n",
       "      <th>39219</th>\n",
       "      <td>1136_66</td>\n",
       "      <td>578.83</td>\n",
       "      <td>2018-12-01</td>\n",
       "      <td>1136</td>\n",
       "    </tr>\n",
       "    <tr>\n",
       "      <th>62843</th>\n",
       "      <td>1213_225</td>\n",
       "      <td>146.18</td>\n",
       "      <td>2018-10-12</td>\n",
       "      <td>1213</td>\n",
       "    </tr>\n",
       "    <tr>\n",
       "      <th>4304</th>\n",
       "      <td>1012_577</td>\n",
       "      <td>178.90</td>\n",
       "      <td>2018-09-04</td>\n",
       "      <td>1012</td>\n",
       "    </tr>\n",
       "    <tr>\n",
       "      <th>132145</th>\n",
       "      <td>1439_262</td>\n",
       "      <td>511.34</td>\n",
       "      <td>2018-08-10</td>\n",
       "      <td>1439</td>\n",
       "    </tr>\n",
       "  </tbody>\n",
       "</table>\n",
       "</div>"
      ],
      "text/plain": [
       "              id  mb_used session_date  user_id\n",
       "4809    1014_415     0.00   2018-07-06     1014\n",
       "39219    1136_66   578.83   2018-12-01     1136\n",
       "62843   1213_225   146.18   2018-10-12     1213\n",
       "4304    1012_577   178.90   2018-09-04     1012\n",
       "132145  1439_262   511.34   2018-08-10     1439"
      ]
     },
     "execution_count": 4,
     "metadata": {},
     "output_type": "execute_result"
    }
   ],
   "source": [
    "internet.info()\n",
    "internet.sample(5)"
   ]
  },
  {
   "cell_type": "code",
   "execution_count": 5,
   "metadata": {},
   "outputs": [
    {
     "name": "stdout",
     "output_type": "stream",
     "text": [
      "<class 'pandas.core.frame.DataFrame'>\n",
      "RangeIndex: 123036 entries, 0 to 123035\n",
      "Data columns (total 3 columns):\n",
      " #   Column        Non-Null Count   Dtype \n",
      "---  ------        --------------   ----- \n",
      " 0   id            123036 non-null  object\n",
      " 1   message_date  123036 non-null  object\n",
      " 2   user_id       123036 non-null  int64 \n",
      "dtypes: int64(1), object(2)\n",
      "memory usage: 2.8+ MB\n"
     ]
    },
    {
     "data": {
      "text/html": [
       "<div>\n",
       "<style scoped>\n",
       "    .dataframe tbody tr th:only-of-type {\n",
       "        vertical-align: middle;\n",
       "    }\n",
       "\n",
       "    .dataframe tbody tr th {\n",
       "        vertical-align: top;\n",
       "    }\n",
       "\n",
       "    .dataframe thead th {\n",
       "        text-align: right;\n",
       "    }\n",
       "</style>\n",
       "<table border=\"1\" class=\"dataframe\">\n",
       "  <thead>\n",
       "    <tr style=\"text-align: right;\">\n",
       "      <th></th>\n",
       "      <th>id</th>\n",
       "      <th>message_date</th>\n",
       "      <th>user_id</th>\n",
       "    </tr>\n",
       "  </thead>\n",
       "  <tbody>\n",
       "    <tr>\n",
       "      <th>21718</th>\n",
       "      <td>1091_271</td>\n",
       "      <td>2018-05-24</td>\n",
       "      <td>1091</td>\n",
       "    </tr>\n",
       "    <tr>\n",
       "      <th>35265</th>\n",
       "      <td>1150_445</td>\n",
       "      <td>2018-10-28</td>\n",
       "      <td>1150</td>\n",
       "    </tr>\n",
       "    <tr>\n",
       "      <th>75453</th>\n",
       "      <td>1319_42</td>\n",
       "      <td>2018-12-12</td>\n",
       "      <td>1319</td>\n",
       "    </tr>\n",
       "    <tr>\n",
       "      <th>58899</th>\n",
       "      <td>1257_691</td>\n",
       "      <td>2018-12-05</td>\n",
       "      <td>1257</td>\n",
       "    </tr>\n",
       "    <tr>\n",
       "      <th>8057</th>\n",
       "      <td>1032_228</td>\n",
       "      <td>2018-03-29</td>\n",
       "      <td>1032</td>\n",
       "    </tr>\n",
       "  </tbody>\n",
       "</table>\n",
       "</div>"
      ],
      "text/plain": [
       "             id message_date  user_id\n",
       "21718  1091_271   2018-05-24     1091\n",
       "35265  1150_445   2018-10-28     1150\n",
       "75453   1319_42   2018-12-12     1319\n",
       "58899  1257_691   2018-12-05     1257\n",
       "8057   1032_228   2018-03-29     1032"
      ]
     },
     "execution_count": 5,
     "metadata": {},
     "output_type": "execute_result"
    }
   ],
   "source": [
    "messages.info()\n",
    "messages.sample(5)"
   ]
  },
  {
   "cell_type": "code",
   "execution_count": 6,
   "metadata": {
    "scrolled": true
   },
   "outputs": [
    {
     "data": {
      "text/html": [
       "<div>\n",
       "<style scoped>\n",
       "    .dataframe tbody tr th:only-of-type {\n",
       "        vertical-align: middle;\n",
       "    }\n",
       "\n",
       "    .dataframe tbody tr th {\n",
       "        vertical-align: top;\n",
       "    }\n",
       "\n",
       "    .dataframe thead th {\n",
       "        text-align: right;\n",
       "    }\n",
       "</style>\n",
       "<table border=\"1\" class=\"dataframe\">\n",
       "  <thead>\n",
       "    <tr style=\"text-align: right;\">\n",
       "      <th></th>\n",
       "      <th>messages_included</th>\n",
       "      <th>mb_per_month_included</th>\n",
       "      <th>minutes_included</th>\n",
       "      <th>rub_monthly_fee</th>\n",
       "      <th>rub_per_gb</th>\n",
       "      <th>rub_per_message</th>\n",
       "      <th>rub_per_minute</th>\n",
       "      <th>tariff_name</th>\n",
       "    </tr>\n",
       "  </thead>\n",
       "  <tbody>\n",
       "    <tr>\n",
       "      <th>0</th>\n",
       "      <td>50</td>\n",
       "      <td>15360</td>\n",
       "      <td>500</td>\n",
       "      <td>550</td>\n",
       "      <td>200</td>\n",
       "      <td>3</td>\n",
       "      <td>3</td>\n",
       "      <td>smart</td>\n",
       "    </tr>\n",
       "    <tr>\n",
       "      <th>1</th>\n",
       "      <td>1000</td>\n",
       "      <td>30720</td>\n",
       "      <td>3000</td>\n",
       "      <td>1950</td>\n",
       "      <td>150</td>\n",
       "      <td>1</td>\n",
       "      <td>1</td>\n",
       "      <td>ultra</td>\n",
       "    </tr>\n",
       "  </tbody>\n",
       "</table>\n",
       "</div>"
      ],
      "text/plain": [
       "   messages_included  mb_per_month_included  minutes_included  \\\n",
       "0                 50                  15360               500   \n",
       "1               1000                  30720              3000   \n",
       "\n",
       "   rub_monthly_fee  rub_per_gb  rub_per_message  rub_per_minute tariff_name  \n",
       "0              550         200                3               3       smart  \n",
       "1             1950         150                1               1       ultra  "
      ]
     },
     "execution_count": 6,
     "metadata": {},
     "output_type": "execute_result"
    }
   ],
   "source": [
    "tariffs"
   ]
  },
  {
   "cell_type": "code",
   "execution_count": 7,
   "metadata": {
    "scrolled": true
   },
   "outputs": [
    {
     "name": "stdout",
     "output_type": "stream",
     "text": [
      "<class 'pandas.core.frame.DataFrame'>\n",
      "RangeIndex: 500 entries, 0 to 499\n",
      "Data columns (total 8 columns):\n",
      " #   Column      Non-Null Count  Dtype \n",
      "---  ------      --------------  ----- \n",
      " 0   user_id     500 non-null    int64 \n",
      " 1   age         500 non-null    int64 \n",
      " 2   churn_date  38 non-null     object\n",
      " 3   city        500 non-null    object\n",
      " 4   first_name  500 non-null    object\n",
      " 5   last_name   500 non-null    object\n",
      " 6   reg_date    500 non-null    object\n",
      " 7   tariff      500 non-null    object\n",
      "dtypes: int64(2), object(6)\n",
      "memory usage: 31.4+ KB\n"
     ]
    },
    {
     "data": {
      "text/html": [
       "<div>\n",
       "<style scoped>\n",
       "    .dataframe tbody tr th:only-of-type {\n",
       "        vertical-align: middle;\n",
       "    }\n",
       "\n",
       "    .dataframe tbody tr th {\n",
       "        vertical-align: top;\n",
       "    }\n",
       "\n",
       "    .dataframe thead th {\n",
       "        text-align: right;\n",
       "    }\n",
       "</style>\n",
       "<table border=\"1\" class=\"dataframe\">\n",
       "  <thead>\n",
       "    <tr style=\"text-align: right;\">\n",
       "      <th></th>\n",
       "      <th>user_id</th>\n",
       "      <th>age</th>\n",
       "      <th>churn_date</th>\n",
       "      <th>city</th>\n",
       "      <th>first_name</th>\n",
       "      <th>last_name</th>\n",
       "      <th>reg_date</th>\n",
       "      <th>tariff</th>\n",
       "    </tr>\n",
       "  </thead>\n",
       "  <tbody>\n",
       "    <tr>\n",
       "      <th>119</th>\n",
       "      <td>1119</td>\n",
       "      <td>53</td>\n",
       "      <td>NaN</td>\n",
       "      <td>Петрозаводск</td>\n",
       "      <td>Олег</td>\n",
       "      <td>Сухарев</td>\n",
       "      <td>2018-04-22</td>\n",
       "      <td>smart</td>\n",
       "    </tr>\n",
       "    <tr>\n",
       "      <th>424</th>\n",
       "      <td>1424</td>\n",
       "      <td>27</td>\n",
       "      <td>NaN</td>\n",
       "      <td>Москва</td>\n",
       "      <td>Розалия</td>\n",
       "      <td>Ёрохова</td>\n",
       "      <td>2018-06-20</td>\n",
       "      <td>ultra</td>\n",
       "    </tr>\n",
       "    <tr>\n",
       "      <th>490</th>\n",
       "      <td>1490</td>\n",
       "      <td>30</td>\n",
       "      <td>NaN</td>\n",
       "      <td>Москва</td>\n",
       "      <td>Радомир</td>\n",
       "      <td>Алесин</td>\n",
       "      <td>2018-04-03</td>\n",
       "      <td>smart</td>\n",
       "    </tr>\n",
       "    <tr>\n",
       "      <th>56</th>\n",
       "      <td>1056</td>\n",
       "      <td>73</td>\n",
       "      <td>2018-10-14</td>\n",
       "      <td>Иркутск</td>\n",
       "      <td>Радислав</td>\n",
       "      <td>Артемьев</td>\n",
       "      <td>2018-04-13</td>\n",
       "      <td>smart</td>\n",
       "    </tr>\n",
       "    <tr>\n",
       "      <th>88</th>\n",
       "      <td>1088</td>\n",
       "      <td>58</td>\n",
       "      <td>NaN</td>\n",
       "      <td>Казань</td>\n",
       "      <td>Веселина</td>\n",
       "      <td>Андреенко</td>\n",
       "      <td>2018-06-04</td>\n",
       "      <td>smart</td>\n",
       "    </tr>\n",
       "  </tbody>\n",
       "</table>\n",
       "</div>"
      ],
      "text/plain": [
       "     user_id  age  churn_date          city first_name  last_name    reg_date  \\\n",
       "119     1119   53         NaN  Петрозаводск       Олег    Сухарев  2018-04-22   \n",
       "424     1424   27         NaN        Москва    Розалия    Ёрохова  2018-06-20   \n",
       "490     1490   30         NaN        Москва    Радомир     Алесин  2018-04-03   \n",
       "56      1056   73  2018-10-14       Иркутск   Радислав   Артемьев  2018-04-13   \n",
       "88      1088   58         NaN        Казань   Веселина  Андреенко  2018-06-04   \n",
       "\n",
       "    tariff  \n",
       "119  smart  \n",
       "424  ultra  \n",
       "490  smart  \n",
       "56   smart  \n",
       "88   smart  "
      ]
     },
     "execution_count": 7,
     "metadata": {},
     "output_type": "execute_result"
    }
   ],
   "source": [
    "users.info()\n",
    "users.sample(5)"
   ]
  },
  {
   "cell_type": "markdown",
   "metadata": {},
   "source": [
    "Данные разбиты на 5 таблиц, на первый взгляд информация в таблицах корректна, некоторые столбцы требуют замены типа данных. Прорусков нет (кроме столбца с информацией о прекращении пользования тарифом, но это не ошибка). Также можно проверить данные на скрытые дубликаты."
   ]
  },
  {
   "cell_type": "markdown",
   "metadata": {},
   "source": [
    "## Предобработка данных"
   ]
  },
  {
   "cell_type": "markdown",
   "metadata": {},
   "source": [
    "### Замена типа данных"
   ]
  },
  {
   "cell_type": "code",
   "execution_count": 8,
   "metadata": {},
   "outputs": [],
   "source": [
    "calls['call_date'] = pd.to_datetime(calls['call_date'], format='%Y-%m-%d')\n",
    "internet['session_date'] = pd.to_datetime(internet['session_date'], format='%Y-%m-%d')\n",
    "messages['message_date'] = pd.to_datetime(messages['message_date'], format='%Y-%m-%d')\n",
    "users['reg_date'] = pd.to_datetime(users['reg_date'], format='%Y-%m-%d')\n",
    "users['churn_date'] = pd.to_datetime(users['churn_date'], format='%Y-%m-%d')"
   ]
  },
  {
   "cell_type": "markdown",
   "metadata": {},
   "source": [
    "Округлим время звонка в большую сторону, т.к. «Мегалайн» всегда округляет секунды до минут."
   ]
  },
  {
   "cell_type": "code",
   "execution_count": 9,
   "metadata": {},
   "outputs": [],
   "source": [
    "calls['duration'] = np.ceil(calls['duration'])"
   ]
  },
  {
   "cell_type": "markdown",
   "metadata": {},
   "source": [
    "Переведем лимит по Мб в ГБ в таблице с тарифами."
   ]
  },
  {
   "cell_type": "code",
   "execution_count": 10,
   "metadata": {},
   "outputs": [],
   "source": [
    "tariffs['mb_per_month_included'] = tariffs['mb_per_month_included'] / 1024\n",
    "tariffs.columns = ['messages_included', 'gb_per_month_included', 'minutes_included', \n",
    "                   'rub_monthly_fee', 'rub_per_gb', 'rub_per_message', 'rub_per_minute', 'tariff_name']"
   ]
  },
  {
   "cell_type": "markdown",
   "metadata": {},
   "source": [
    "### Работа с дубликатами"
   ]
  },
  {
   "cell_type": "markdown",
   "metadata": {},
   "source": [
    "Поищем дубликаты."
   ]
  },
  {
   "cell_type": "code",
   "execution_count": 11,
   "metadata": {
    "scrolled": true
   },
   "outputs": [
    {
     "data": {
      "text/plain": [
       "smart    351\n",
       "ultra    149\n",
       "Name: tariff, dtype: int64"
      ]
     },
     "execution_count": 11,
     "metadata": {},
     "output_type": "execute_result"
    }
   ],
   "source": [
    "users['tariff'].value_counts()"
   ]
  },
  {
   "cell_type": "code",
   "execution_count": 12,
   "metadata": {
    "scrolled": true
   },
   "outputs": [
    {
     "data": {
      "text/plain": [
       "0"
      ]
     },
     "execution_count": 12,
     "metadata": {},
     "output_type": "execute_result"
    }
   ],
   "source": [
    "users['user_id'].duplicated().sum()"
   ]
  },
  {
   "cell_type": "markdown",
   "metadata": {},
   "source": [
    "Дубликатов нет."
   ]
  },
  {
   "cell_type": "markdown",
   "metadata": {},
   "source": [
    "### Расчеты для каждого пользователя по месяцам"
   ]
  },
  {
   "cell_type": "markdown",
   "metadata": {},
   "source": [
    "Так как в дальнейшем для анализа нам понадобятся данные по месяцам, добавим в таблицы с информацией о звонках, сообщениях и интернет-траффике в соответсвующие столбцы."
   ]
  },
  {
   "cell_type": "code",
   "execution_count": 13,
   "metadata": {},
   "outputs": [],
   "source": [
    "calls['month'] = calls['call_date'].astype('datetime64[M]')\n",
    "messages['month'] = messages['message_date'].astype('datetime64[M]')\n",
    "internet['month'] = internet['session_date'].astype('datetime64[M]')"
   ]
  },
  {
   "cell_type": "markdown",
   "metadata": {},
   "source": [
    "Посмотрим распределение интернет-траффика и израсходованных минут разговора."
   ]
  },
  {
   "cell_type": "code",
   "execution_count": 14,
   "metadata": {
    "scrolled": true
   },
   "outputs": [
    {
     "data": {
      "image/png": "[encoded data removed]",
      "text/plain": [
       "<Figure size 432x288 with 1 Axes>"
      ]
     },
     "metadata": {
      "needs_background": "light"
     },
     "output_type": "display_data"
    }
   ],
   "source": [
    "plt.hist(calls['duration'], bins=30, alpha = 0.5)\n",
    "plt.show()"
   ]
  },
  {
   "cell_type": "markdown",
   "metadata": {},
   "source": [
    "Есть пики на 0 (возможно, симкарту не используют для звонков), 5-10-15-20 - доподлинно неизвестно, чем вызваны пики, предположим, что особенностями фиксирования звонков."
   ]
  },
  {
   "cell_type": "code",
   "execution_count": 15,
   "metadata": {
    "scrolled": false
   },
   "outputs": [
    {
     "data": {
      "image/png": "[encoded data removed]",
      "text/plain": [
       "<Figure size 432x288 with 1 Axes>"
      ]
     },
     "metadata": {
      "needs_background": "light"
     },
     "output_type": "display_data"
    }
   ],
   "source": [
    "plt.xlim(0, 1500)\n",
    "plt.hist(internet['mb_used'], bins=30, alpha = 0.5)\n",
    "plt.show()"
   ]
  },
  {
   "cell_type": "markdown",
   "metadata": {},
   "source": [
    "Присутсвует пик на нулевых зеачениях. Опять же, интеренетом могут не пользоваться и использовать симкарту для звонков. В любом случае, дальнейший анализ наличие нулей никак не исказит, поэтому оставим их."
   ]
  },
  {
   "cell_type": "markdown",
   "metadata": {},
   "source": [
    "- Расчитаем по месяцам количество сделанных звонков и израсходованных минут разговора"
   ]
  },
  {
   "cell_type": "markdown",
   "metadata": {},
   "source": [
    "Для этого сделаем сводную таблицу по пользователям и месяцам, с подсчетом израсходованных минут и количеством звонков."
   ]
  },
  {
   "cell_type": "code",
   "execution_count": 16,
   "metadata": {},
   "outputs": [
    {
     "data": {
      "text/html": [
       "<div>\n",
       "<style scoped>\n",
       "    .dataframe tbody tr th:only-of-type {\n",
       "        vertical-align: middle;\n",
       "    }\n",
       "\n",
       "    .dataframe tbody tr th {\n",
       "        vertical-align: top;\n",
       "    }\n",
       "\n",
       "    .dataframe thead th {\n",
       "        text-align: right;\n",
       "    }\n",
       "</style>\n",
       "<table border=\"1\" class=\"dataframe\">\n",
       "  <thead>\n",
       "    <tr style=\"text-align: right;\">\n",
       "      <th></th>\n",
       "      <th></th>\n",
       "      <th>calls_quantity</th>\n",
       "      <th>calls_duration</th>\n",
       "    </tr>\n",
       "    <tr>\n",
       "      <th>user_id</th>\n",
       "      <th>month</th>\n",
       "      <th></th>\n",
       "      <th></th>\n",
       "    </tr>\n",
       "  </thead>\n",
       "  <tbody>\n",
       "    <tr>\n",
       "      <th>1460</th>\n",
       "      <th>2018-10-01</th>\n",
       "      <td>96</td>\n",
       "      <td>711.0</td>\n",
       "    </tr>\n",
       "    <tr>\n",
       "      <th>1060</th>\n",
       "      <th>2018-11-01</th>\n",
       "      <td>46</td>\n",
       "      <td>371.0</td>\n",
       "    </tr>\n",
       "    <tr>\n",
       "      <th>1189</th>\n",
       "      <th>2018-01-01</th>\n",
       "      <td>7</td>\n",
       "      <td>51.0</td>\n",
       "    </tr>\n",
       "    <tr>\n",
       "      <th>1482</th>\n",
       "      <th>2018-08-01</th>\n",
       "      <td>42</td>\n",
       "      <td>331.0</td>\n",
       "    </tr>\n",
       "    <tr>\n",
       "      <th>1159</th>\n",
       "      <th>2018-11-01</th>\n",
       "      <td>10</td>\n",
       "      <td>85.0</td>\n",
       "    </tr>\n",
       "  </tbody>\n",
       "</table>\n",
       "</div>"
      ],
      "text/plain": [
       "                    calls_quantity  calls_duration\n",
       "user_id month                                     \n",
       "1460    2018-10-01              96           711.0\n",
       "1060    2018-11-01              46           371.0\n",
       "1189    2018-01-01               7            51.0\n",
       "1482    2018-08-01              42           331.0\n",
       "1159    2018-11-01              10            85.0"
      ]
     },
     "execution_count": 16,
     "metadata": {},
     "output_type": "execute_result"
    }
   ],
   "source": [
    "pivot_calls = calls.pivot_table(index=['user_id', 'month'], values='duration', aggfunc=['count', 'sum'])\n",
    "pivot_calls.columns = ['calls_quantity', 'calls_duration']\n",
    "pivot_calls.sample(5)"
   ]
  },
  {
   "cell_type": "markdown",
   "metadata": {},
   "source": [
    "- Расчитаем по месяцам количество отправленных сообщений"
   ]
  },
  {
   "cell_type": "code",
   "execution_count": 17,
   "metadata": {},
   "outputs": [
    {
     "data": {
      "text/html": [
       "<div>\n",
       "<style scoped>\n",
       "    .dataframe tbody tr th:only-of-type {\n",
       "        vertical-align: middle;\n",
       "    }\n",
       "\n",
       "    .dataframe tbody tr th {\n",
       "        vertical-align: top;\n",
       "    }\n",
       "\n",
       "    .dataframe thead th {\n",
       "        text-align: right;\n",
       "    }\n",
       "</style>\n",
       "<table border=\"1\" class=\"dataframe\">\n",
       "  <thead>\n",
       "    <tr style=\"text-align: right;\">\n",
       "      <th></th>\n",
       "      <th></th>\n",
       "      <th>messages_quantity</th>\n",
       "    </tr>\n",
       "    <tr>\n",
       "      <th>user_id</th>\n",
       "      <th>month</th>\n",
       "      <th></th>\n",
       "    </tr>\n",
       "  </thead>\n",
       "  <tbody>\n",
       "    <tr>\n",
       "      <th>1052</th>\n",
       "      <th>2018-09-01</th>\n",
       "      <td>80</td>\n",
       "    </tr>\n",
       "    <tr>\n",
       "      <th>1121</th>\n",
       "      <th>2018-08-01</th>\n",
       "      <td>29</td>\n",
       "    </tr>\n",
       "    <tr>\n",
       "      <th>1492</th>\n",
       "      <th>2018-06-01</th>\n",
       "      <td>1</td>\n",
       "    </tr>\n",
       "    <tr>\n",
       "      <th>1052</th>\n",
       "      <th>2018-07-01</th>\n",
       "      <td>19</td>\n",
       "    </tr>\n",
       "    <tr>\n",
       "      <th>1193</th>\n",
       "      <th>2018-12-01</th>\n",
       "      <td>26</td>\n",
       "    </tr>\n",
       "  </tbody>\n",
       "</table>\n",
       "</div>"
      ],
      "text/plain": [
       "                    messages_quantity\n",
       "user_id month                        \n",
       "1052    2018-09-01                 80\n",
       "1121    2018-08-01                 29\n",
       "1492    2018-06-01                  1\n",
       "1052    2018-07-01                 19\n",
       "1193    2018-12-01                 26"
      ]
     },
     "execution_count": 17,
     "metadata": {},
     "output_type": "execute_result"
    }
   ],
   "source": [
    "pivot_messages = messages.pivot_table(index=['user_id', 'month'], values='id', aggfunc='count')\n",
    "pivot_messages.columns = ['messages_quantity']\n",
    "pivot_messages.sample(5)"
   ]
  },
  {
   "cell_type": "markdown",
   "metadata": {},
   "source": [
    "- Расчитаем по месяцам объем израсходованного интернет-трафика по месяцам"
   ]
  },
  {
   "cell_type": "code",
   "execution_count": 18,
   "metadata": {},
   "outputs": [],
   "source": [
    "pivot_internet = internet.pivot_table(index=['user_id', 'month'], values='mb_used', aggfunc='sum')"
   ]
  },
  {
   "cell_type": "markdown",
   "metadata": {},
   "source": [
    "Так как по правилам оператора месячный траффик считается в ГБ и округляется в боьшую сторону, переведем Мб в ГБ и округлим вверх."
   ]
  },
  {
   "cell_type": "code",
   "execution_count": 19,
   "metadata": {},
   "outputs": [
    {
     "data": {
      "text/html": [
       "<div>\n",
       "<style scoped>\n",
       "    .dataframe tbody tr th:only-of-type {\n",
       "        vertical-align: middle;\n",
       "    }\n",
       "\n",
       "    .dataframe tbody tr th {\n",
       "        vertical-align: top;\n",
       "    }\n",
       "\n",
       "    .dataframe thead th {\n",
       "        text-align: right;\n",
       "    }\n",
       "</style>\n",
       "<table border=\"1\" class=\"dataframe\">\n",
       "  <thead>\n",
       "    <tr style=\"text-align: right;\">\n",
       "      <th></th>\n",
       "      <th></th>\n",
       "      <th>gb_used</th>\n",
       "    </tr>\n",
       "    <tr>\n",
       "      <th>user_id</th>\n",
       "      <th>month</th>\n",
       "      <th></th>\n",
       "    </tr>\n",
       "  </thead>\n",
       "  <tbody>\n",
       "    <tr>\n",
       "      <th>1142</th>\n",
       "      <th>2018-11-01</th>\n",
       "      <td>22.0</td>\n",
       "    </tr>\n",
       "    <tr>\n",
       "      <th>1388</th>\n",
       "      <th>2018-09-01</th>\n",
       "      <td>23.0</td>\n",
       "    </tr>\n",
       "    <tr>\n",
       "      <th>1134</th>\n",
       "      <th>2018-08-01</th>\n",
       "      <td>17.0</td>\n",
       "    </tr>\n",
       "    <tr>\n",
       "      <th>1161</th>\n",
       "      <th>2018-11-01</th>\n",
       "      <td>5.0</td>\n",
       "    </tr>\n",
       "    <tr>\n",
       "      <th>1136</th>\n",
       "      <th>2018-12-01</th>\n",
       "      <td>31.0</td>\n",
       "    </tr>\n",
       "  </tbody>\n",
       "</table>\n",
       "</div>"
      ],
      "text/plain": [
       "                    gb_used\n",
       "user_id month              \n",
       "1142    2018-11-01     22.0\n",
       "1388    2018-09-01     23.0\n",
       "1134    2018-08-01     17.0\n",
       "1161    2018-11-01      5.0\n",
       "1136    2018-12-01     31.0"
      ]
     },
     "execution_count": 19,
     "metadata": {},
     "output_type": "execute_result"
    }
   ],
   "source": [
    "pivot_internet.columns = ['gb_used']\n",
    "pivot_internet['gb_used'] = np.ceil(pivot_internet['gb_used'] / 1024)\n",
    "pivot_internet.sample(5)"
   ]
  },
  {
   "cell_type": "markdown",
   "metadata": {},
   "source": [
    "- Расчитаем по месяцам выручку с каждого пользователя"
   ]
  },
  {
   "cell_type": "markdown",
   "metadata": {},
   "source": [
    "Для этого сначала объединим три сводные таблицы в одну."
   ]
  },
  {
   "cell_type": "code",
   "execution_count": 20,
   "metadata": {},
   "outputs": [],
   "source": [
    "data_frames = [pivot_calls, pivot_messages, pivot_internet]\n",
    "megaline_data = reduce(lambda left, right: pd.merge(left, right, on=['user_id', 'month'],\n",
    "                                            how='outer'), data_frames)\n",
    "megaline_data = megaline_data.reset_index()"
   ]
  },
  {
   "cell_type": "markdown",
   "metadata": {},
   "source": [
    "Добавим остальные данные о пользователях."
   ]
  },
  {
   "cell_type": "code",
   "execution_count": 21,
   "metadata": {},
   "outputs": [],
   "source": [
    "megaline_data = megaline_data.merge(users, on='user_id', how='right')"
   ]
  },
  {
   "cell_type": "markdown",
   "metadata": {},
   "source": [
    "Некоторые пользователи используют не все возможности своего тарифа, и не пользуются, например, интренетом или звонками, поэтому после объединения всех таблиц возможны пропуски, заменим их нулями."
   ]
  },
  {
   "cell_type": "code",
   "execution_count": 22,
   "metadata": {},
   "outputs": [],
   "source": [
    "for column in ('calls_quantity', 'calls_duration', 'messages_quantity', 'gb_used'):\n",
    "    megaline_data[column] = megaline_data[column].fillna(0)"
   ]
  },
  {
   "cell_type": "markdown",
   "metadata": {},
   "source": [
    "Напишем функцию, которая будет считать выручку в зависимости от тарифа."
   ]
  },
  {
   "cell_type": "code",
   "execution_count": 23,
   "metadata": {},
   "outputs": [],
   "source": [
    "tariffs_dict = tariffs.set_index('tariff_name').T.to_dict(\n",
    "    'list')  # создаем словарь с тарифами и их условиями\n",
    "\n",
    "\n",
    "def total_cost(data):  # объявляем функцию\n",
    "    if data['tariff'] == 'smart':  # задаем условия для тарифа smart\n",
    "        messages_cost = np.where(data['messages_quantity'] < list(tariffs_dict.values())[0][0], 0,\n",
    "                                 (data['messages_quantity']\n",
    "                                  - list(tariffs_dict.values())[0][0])*list(tariffs_dict.values())[0][5])\n",
    "        calls_cost = np.where(data['calls_duration'] < list(tariffs_dict.values())[0][2], 0,\n",
    "                              (data['calls_duration']\n",
    "                               - list(tariffs_dict.values())[0][2])*list(tariffs_dict.values())[0][6])\n",
    "        gb_cost = np.where(data['gb_used'] < list(tariffs_dict.values())[0][1], 0,\n",
    "                           (data['gb_used']\n",
    "                            - list(tariffs_dict.values())[0][1])*list(tariffs_dict.values())[0][4])\n",
    "        total_cost = messages_cost + calls_cost + gb_cost + list(tariffs_dict.values())[0][3]\n",
    "    if data['tariff'] == 'ultra':  # задаем условия для тарифа ultra\n",
    "        messages_cost = np.where(data['messages_quantity'] < list(tariffs_dict.values())[1][0], 0,\n",
    "                                 (data['messages_quantity']\n",
    "                                  - list(tariffs_dict.values())[1][0])*list(tariffs_dict.values())[1][5])\n",
    "        calls_cost = np.where(data['calls_duration'] < list(tariffs_dict.values())[1][2], 0,\n",
    "                              (data['calls_duration']\n",
    "                               - list(tariffs_dict.values())[1][2])*list(tariffs_dict.values())[1][6])\n",
    "        gb_cost = np.where(data['gb_used'] < list(tariffs_dict.values())[1][1], 0,\n",
    "                           (data['gb_used']\n",
    "                            - list(tariffs_dict.values())[1][1])*list(tariffs_dict.values())[1][4])\n",
    "        total_cost = messages_cost + calls_cost + gb_cost + list(tariffs_dict.values())[1][3]\n",
    "    return total_cost"
   ]
  },
  {
   "cell_type": "markdown",
   "metadata": {},
   "source": [
    "Добавим в таблицу столбец с помесячной платой для каждого пользователя."
   ]
  },
  {
   "cell_type": "code",
   "execution_count": 24,
   "metadata": {
    "scrolled": true
   },
   "outputs": [
    {
     "data": {
      "text/html": [
       "<div>\n",
       "<style scoped>\n",
       "    .dataframe tbody tr th:only-of-type {\n",
       "        vertical-align: middle;\n",
       "    }\n",
       "\n",
       "    .dataframe tbody tr th {\n",
       "        vertical-align: top;\n",
       "    }\n",
       "\n",
       "    .dataframe thead th {\n",
       "        text-align: right;\n",
       "    }\n",
       "</style>\n",
       "<table border=\"1\" class=\"dataframe\">\n",
       "  <thead>\n",
       "    <tr style=\"text-align: right;\">\n",
       "      <th></th>\n",
       "      <th></th>\n",
       "      <th></th>\n",
       "      <th>calls_duration</th>\n",
       "      <th>calls_quantity</th>\n",
       "      <th>gb_used</th>\n",
       "      <th>messages_quantity</th>\n",
       "      <th>total_cost</th>\n",
       "    </tr>\n",
       "    <tr>\n",
       "      <th>user_id</th>\n",
       "      <th>age</th>\n",
       "      <th>month</th>\n",
       "      <th></th>\n",
       "      <th></th>\n",
       "      <th></th>\n",
       "      <th></th>\n",
       "      <th></th>\n",
       "    </tr>\n",
       "  </thead>\n",
       "  <tbody>\n",
       "    <tr>\n",
       "      <th rowspan=\"5\" valign=\"top\">1000</th>\n",
       "      <th rowspan=\"5\" valign=\"top\">52</th>\n",
       "      <th>2018-05-01</th>\n",
       "      <td>159.0</td>\n",
       "      <td>22.0</td>\n",
       "      <td>3.0</td>\n",
       "      <td>22.0</td>\n",
       "      <td>1950.0</td>\n",
       "    </tr>\n",
       "    <tr>\n",
       "      <th>2018-06-01</th>\n",
       "      <td>172.0</td>\n",
       "      <td>43.0</td>\n",
       "      <td>23.0</td>\n",
       "      <td>60.0</td>\n",
       "      <td>1950.0</td>\n",
       "    </tr>\n",
       "    <tr>\n",
       "      <th>2018-07-01</th>\n",
       "      <td>340.0</td>\n",
       "      <td>47.0</td>\n",
       "      <td>14.0</td>\n",
       "      <td>75.0</td>\n",
       "      <td>1950.0</td>\n",
       "    </tr>\n",
       "    <tr>\n",
       "      <th>2018-08-01</th>\n",
       "      <td>408.0</td>\n",
       "      <td>52.0</td>\n",
       "      <td>14.0</td>\n",
       "      <td>81.0</td>\n",
       "      <td>1950.0</td>\n",
       "    </tr>\n",
       "    <tr>\n",
       "      <th>2018-09-01</th>\n",
       "      <td>466.0</td>\n",
       "      <td>58.0</td>\n",
       "      <td>15.0</td>\n",
       "      <td>57.0</td>\n",
       "      <td>1950.0</td>\n",
       "    </tr>\n",
       "    <tr>\n",
       "      <th>...</th>\n",
       "      <th>...</th>\n",
       "      <th>...</th>\n",
       "      <td>...</td>\n",
       "      <td>...</td>\n",
       "      <td>...</td>\n",
       "      <td>...</td>\n",
       "      <td>...</td>\n",
       "    </tr>\n",
       "    <tr>\n",
       "      <th>1498</th>\n",
       "      <th>68</th>\n",
       "      <th>2018-10-01</th>\n",
       "      <td>247.0</td>\n",
       "      <td>41.0</td>\n",
       "      <td>21.0</td>\n",
       "      <td>42.0</td>\n",
       "      <td>1750.0</td>\n",
       "    </tr>\n",
       "    <tr>\n",
       "      <th rowspan=\"4\" valign=\"top\">1499</th>\n",
       "      <th rowspan=\"4\" valign=\"top\">35</th>\n",
       "      <th>2018-09-01</th>\n",
       "      <td>70.0</td>\n",
       "      <td>9.0</td>\n",
       "      <td>2.0</td>\n",
       "      <td>11.0</td>\n",
       "      <td>550.0</td>\n",
       "    </tr>\n",
       "    <tr>\n",
       "      <th>2018-10-01</th>\n",
       "      <td>449.0</td>\n",
       "      <td>68.0</td>\n",
       "      <td>18.0</td>\n",
       "      <td>48.0</td>\n",
       "      <td>1150.0</td>\n",
       "    </tr>\n",
       "    <tr>\n",
       "      <th>2018-11-01</th>\n",
       "      <td>612.0</td>\n",
       "      <td>74.0</td>\n",
       "      <td>18.0</td>\n",
       "      <td>59.0</td>\n",
       "      <td>1513.0</td>\n",
       "    </tr>\n",
       "    <tr>\n",
       "      <th>2018-12-01</th>\n",
       "      <td>492.0</td>\n",
       "      <td>69.0</td>\n",
       "      <td>13.0</td>\n",
       "      <td>66.0</td>\n",
       "      <td>598.0</td>\n",
       "    </tr>\n",
       "  </tbody>\n",
       "</table>\n",
       "<p>3214 rows × 5 columns</p>\n",
       "</div>"
      ],
      "text/plain": [
       "                        calls_duration  calls_quantity  gb_used  \\\n",
       "user_id age month                                                 \n",
       "1000    52  2018-05-01           159.0            22.0      3.0   \n",
       "            2018-06-01           172.0            43.0     23.0   \n",
       "            2018-07-01           340.0            47.0     14.0   \n",
       "            2018-08-01           408.0            52.0     14.0   \n",
       "            2018-09-01           466.0            58.0     15.0   \n",
       "...                                ...             ...      ...   \n",
       "1498    68  2018-10-01           247.0            41.0     21.0   \n",
       "1499    35  2018-09-01            70.0             9.0      2.0   \n",
       "            2018-10-01           449.0            68.0     18.0   \n",
       "            2018-11-01           612.0            74.0     18.0   \n",
       "            2018-12-01           492.0            69.0     13.0   \n",
       "\n",
       "                        messages_quantity  total_cost  \n",
       "user_id age month                                      \n",
       "1000    52  2018-05-01               22.0      1950.0  \n",
       "            2018-06-01               60.0      1950.0  \n",
       "            2018-07-01               75.0      1950.0  \n",
       "            2018-08-01               81.0      1950.0  \n",
       "            2018-09-01               57.0      1950.0  \n",
       "...                                   ...         ...  \n",
       "1498    68  2018-10-01               42.0      1750.0  \n",
       "1499    35  2018-09-01               11.0       550.0  \n",
       "            2018-10-01               48.0      1150.0  \n",
       "            2018-11-01               59.0      1513.0  \n",
       "            2018-12-01               66.0       598.0  \n",
       "\n",
       "[3214 rows x 5 columns]"
      ]
     },
     "execution_count": 24,
     "metadata": {},
     "output_type": "execute_result"
    }
   ],
   "source": [
    "megaline_data['total_cost'] = megaline_data.apply(total_cost, axis=1)\n",
    "megaline_data.pivot_table(index=['user_id', 'age', 'month'])"
   ]
  },
  {
   "cell_type": "markdown",
   "metadata": {},
   "source": [
    "## Анализ данных"
   ]
  },
  {
   "cell_type": "markdown",
   "metadata": {},
   "source": [
    "### Анализ тарифа Smart"
   ]
  },
  {
   "cell_type": "markdown",
   "metadata": {},
   "source": [
    "**Сколько минут разговора, сколько сообщений и какой объём интернет-трафика требуется пользователям тарифа в месяц?**"
   ]
  },
  {
   "cell_type": "markdown",
   "metadata": {},
   "source": [
    "Выделим в отдельную таблицу пользователей тарифа \"Smart\" и расчитаем для этих данных среднее количество, дисперсию и стандартное отклонение."
   ]
  },
  {
   "cell_type": "code",
   "execution_count": 25,
   "metadata": {},
   "outputs": [],
   "source": [
    "smart_data = megaline_data.query('tariff == \"smart\"')"
   ]
  },
  {
   "cell_type": "markdown",
   "metadata": {},
   "source": [
    "#### Средние значения"
   ]
  },
  {
   "cell_type": "code",
   "execution_count": 26,
   "metadata": {
    "scrolled": true
   },
   "outputs": [
    {
     "name": "stdout",
     "output_type": "stream",
     "text": [
      "В среднем расход минут в месяц: 418\n",
      "В среднем сообщений в месяц: 33\n",
      "В среднем ГБ в месяц: 16\n"
     ]
    }
   ],
   "source": [
    "print(\n",
    "    f'В среднем расход минут в месяц: {round(smart_data[\"calls_duration\"].mean())}')\n",
    "print(\n",
    "    f'В среднем сообщений в месяц: {round(smart_data[\"messages_quantity\"].mean())}')\n",
    "print(f'В среднем ГБ в месяц: {round(smart_data[\"gb_used\"].mean())}')"
   ]
  },
  {
   "cell_type": "markdown",
   "metadata": {},
   "source": [
    "#### Стандартное отклонение"
   ]
  },
  {
   "cell_type": "code",
   "execution_count": 27,
   "metadata": {
    "scrolled": true
   },
   "outputs": [
    {
     "name": "stdout",
     "output_type": "stream",
     "text": [
      "Стандартное отклонение для минут в месяц: 190\n",
      "Стандартное отклонение для кол-ва сообщений в месяц: 28\n",
      "Стандартное отклонение для ГБ в месяц: 6\n"
     ]
    }
   ],
   "source": [
    "print(\n",
    "    f'Стандартное отклонение для минут в месяц: {round(np.std(smart_data[\"calls_duration\"], ddof=1))}')\n",
    "print(\n",
    "    f'Стандартное отклонение для кол-ва сообщений в месяц: {round(np.std(smart_data[\"messages_quantity\"], ddof=1))}')\n",
    "print(\n",
    "    f'Стандартное отклонение для ГБ в месяц: {round(np.std(smart_data[\"gb_used\"], ddof=1))}')"
   ]
  },
  {
   "cell_type": "markdown",
   "metadata": {},
   "source": [
    "#### Дисперсия"
   ]
  },
  {
   "cell_type": "code",
   "execution_count": 28,
   "metadata": {},
   "outputs": [
    {
     "name": "stdout",
     "output_type": "stream",
     "text": [
      "Дисперсия расхода минут в месяц составляет 36281\n",
      "Дисперсия количества отправляемых в месяц сообщений составляет 797\n",
      "Дисперсия ежемесячно расходуемого интернет-трафика составляет 33\n"
     ]
    }
   ],
   "source": [
    "print(\n",
    "    f'Дисперсия расхода минут в месяц составляет {round(np.var(smart_data[\"calls_duration\"], ddof=1))}')\n",
    "print(\n",
    "    f'Дисперсия количества отправляемых в месяц сообщений составляет {round(np.var(smart_data[\"messages_quantity\"], ddof=1))}')\n",
    "print(\n",
    "    f'Дисперсия ежемесячно расходуемого интернет-трафика составляет {round(np.var(smart_data[\"gb_used\"], ddof=1))}')"
   ]
  },
  {
   "cell_type": "markdown",
   "metadata": {},
   "source": [
    "### Анализ тарифа Ultra"
   ]
  },
  {
   "cell_type": "markdown",
   "metadata": {},
   "source": [
    "**Сколько минут разговора, сколько сообщений и какой объём интернет-трафика требуется пользователям тарифа в месяц?**"
   ]
  },
  {
   "cell_type": "markdown",
   "metadata": {},
   "source": [
    "Выделим в отдельную таблицу пользователей тарифа \"Ultra\" и расчитаем для этих данных среднее количество, дисперсию и стандартное отклонение."
   ]
  },
  {
   "cell_type": "code",
   "execution_count": 29,
   "metadata": {},
   "outputs": [],
   "source": [
    "ultra_data = megaline_data.query('tariff == \"ultra\"')"
   ]
  },
  {
   "cell_type": "markdown",
   "metadata": {},
   "source": [
    "#### Средние значения"
   ]
  },
  {
   "cell_type": "code",
   "execution_count": 30,
   "metadata": {
    "cell_style": "center"
   },
   "outputs": [
    {
     "name": "stdout",
     "output_type": "stream",
     "text": [
      "В среднем расход минут в месяц: 526\n",
      "В среднем сообщений в месяц: 49\n",
      "В среднем ГБ в месяц: 19\n"
     ]
    }
   ],
   "source": [
    "print(\n",
    "    f'В среднем расход минут в месяц: {round(ultra_data[\"calls_duration\"].mean())}')\n",
    "print(\n",
    "    f'В среднем сообщений в месяц: {round(ultra_data[\"messages_quantity\"].mean())}')\n",
    "print(f'В среднем ГБ в месяц: {round(ultra_data[\"gb_used\"].mean())}')"
   ]
  },
  {
   "cell_type": "markdown",
   "metadata": {},
   "source": [
    "#### Стандартное отклонение"
   ]
  },
  {
   "cell_type": "code",
   "execution_count": 31,
   "metadata": {
    "scrolled": true
   },
   "outputs": [
    {
     "name": "stdout",
     "output_type": "stream",
     "text": [
      "Стандартное отклонение для минут в месяц: 318\n",
      "Стандартное отклонение для кол-ва сообщений в месяц: 48\n",
      "Стандартное отклонение для ГБ в месяц: 10\n"
     ]
    }
   ],
   "source": [
    "print(\n",
    "    f'Стандартное отклонение для минут в месяц: {round(np.std(ultra_data[\"calls_duration\"], ddof=1))}')\n",
    "print(\n",
    "    f'Стандартное отклонение для кол-ва сообщений в месяц: {round(np.std(ultra_data[\"messages_quantity\"], ddof=1))}')\n",
    "print(\n",
    "    f'Стандартное отклонение для ГБ в месяц: {round(np.std(ultra_data[\"gb_used\"], ddof=1))}')"
   ]
  },
  {
   "cell_type": "markdown",
   "metadata": {},
   "source": [
    "#### Дисперсия"
   ]
  },
  {
   "cell_type": "code",
   "execution_count": 32,
   "metadata": {},
   "outputs": [
    {
     "name": "stdout",
     "output_type": "stream",
     "text": [
      "Дисперсия расхода минут в месяц составляет 101052\n",
      "Дисперсия количества отправляемых в месяц сообщений составляет 2285\n",
      "Дисперсия ежемесячно расходуемого интернет-трафика составляет 97\n"
     ]
    }
   ],
   "source": [
    "print(\n",
    "    f'Дисперсия расхода минут в месяц составляет {round(np.var(ultra_data[\"calls_duration\"], ddof=1))}')\n",
    "print(\n",
    "    f'Дисперсия количества отправляемых в месяц сообщений составляет {round(np.var(ultra_data[\"messages_quantity\"], ddof=1))}')\n",
    "print(\n",
    "    f'Дисперсия ежемесячно расходуемого интернет-трафика составляет {round(np.var(ultra_data[\"gb_used\"], ddof=1))}')"
   ]
  },
  {
   "cell_type": "markdown",
   "metadata": {},
   "source": [
    "### Сравнительный анализ"
   ]
  },
  {
   "cell_type": "markdown",
   "metadata": {},
   "source": [
    "Визуализируем данные каждого тарифа и сравним."
   ]
  },
  {
   "cell_type": "markdown",
   "metadata": {},
   "source": [
    "#### Расход минут"
   ]
  },
  {
   "cell_type": "code",
   "execution_count": 33,
   "metadata": {
    "scrolled": true
   },
   "outputs": [
    {
     "data": {
      "image/png": "[encoded data removed]",
      "text/plain": [
       "<Figure size 1152x360 with 2 Axes>"
      ]
     },
     "metadata": {
      "needs_background": "light"
     },
     "output_type": "display_data"
    }
   ],
   "source": [
    "fig, axes = plt.subplots(1, 2, figsize=(16, 5))\n",
    "\n",
    "sns.distplot(smart_data['calls_duration'], ax=axes[0], bins=30, label='Smart')\n",
    "sns.distplot(ultra_data['calls_duration'], ax=axes[0], bins=30, label='Ultra')\n",
    "sns.boxplot(data=megaline_data, x='calls_duration',\n",
    "            y='tariff', ax=axes[1], palette='Set2')\n",
    "axes[0].legend(loc='upper right', labels=['smart', 'ultra'])\n",
    "axes[0].set_xlabel('Израсходовано минут')\n",
    "axes[1].set_xlabel('Израсходовано минут')\n",
    "axes[0].set_ylabel('Плотность распределения')\n",
    "axes[1].set_ylabel(' ')\n",
    "\n",
    "plt.suptitle('Распределение расхода минут по тарифам')\n",
    "\n",
    "plt.show()"
   ]
  },
  {
   "cell_type": "markdown",
   "metadata": {},
   "source": [
    "Расход минут в тарифе Smart от 0 до 950 минут. Больше 950 минут - выбросы. Расход минут в тарифе Ultra от 0 до 1400 минут. Выбросы свыше 1400 минут."
   ]
  },
  {
   "cell_type": "code",
   "execution_count": 34,
   "metadata": {
    "scrolled": false
   },
   "outputs": [
    {
     "name": "stdout",
     "output_type": "stream",
     "text": [
      "Разница между средними значениями составляет: 25.93%\n"
     ]
    }
   ],
   "source": [
    "print(f'Разница между средними значениями составляет: {ultra_data[\"calls_duration\"].mean()/smart_data[\"calls_duration\"].mean() - 1:.2%}')"
   ]
  },
  {
   "cell_type": "markdown",
   "metadata": {},
   "source": [
    "#### Количество сообщений"
   ]
  },
  {
   "cell_type": "code",
   "execution_count": 35,
   "metadata": {},
   "outputs": [
    {
     "data": {
      "image/png": "[encoded data removed]",
      "text/plain": [
       "<Figure size 1152x360 with 2 Axes>"
      ]
     },
     "metadata": {
      "needs_background": "light"
     },
     "output_type": "display_data"
    }
   ],
   "source": [
    "fig, axes = plt.subplots(1, 2, figsize=(16, 5))\n",
    "\n",
    "sns.distplot(smart_data['messages_quantity'],\n",
    "             ax=axes[0], bins=30, label='Smart')\n",
    "sns.distplot(ultra_data['messages_quantity'],\n",
    "             ax=axes[0], bins=30, label='Ultra')\n",
    "sns.boxplot(data=megaline_data, x='messages_quantity',\n",
    "            y='tariff', ax=axes[1], palette='Set2')\n",
    "axes[0].legend(loc='upper right', labels=['smart', 'ultra'])\n",
    "\n",
    "axes[0].set_xlabel('Отправлено сообщений')\n",
    "axes[1].set_xlabel('Отправлено сообщений')\n",
    "axes[0].set_ylabel('Плотность распределения')\n",
    "axes[1].set_ylabel(' ')\n",
    "\n",
    "plt.suptitle('Распределение количества отправленных сообщений по тарифам')\n",
    "\n",
    "plt.show()"
   ]
  },
  {
   "cell_type": "markdown",
   "metadata": {},
   "source": [
    "За месяц в тарифе Smart пользователи отправляют от 0 до 115 сообщений. Остальное - выбросы. Расход сообщений в тарифе Ultra от 0 до 180 в месяц. Выбросы свыше 180."
   ]
  },
  {
   "cell_type": "code",
   "execution_count": 36,
   "metadata": {},
   "outputs": [
    {
     "name": "stdout",
     "output_type": "stream",
     "text": [
      "Разница между средними значениями составляет: 47.78%\n"
     ]
    }
   ],
   "source": [
    "print(f'Разница между средними значениями составляет: {ultra_data[\"messages_quantity\"].mean()/smart_data[\"messages_quantity\"].mean() - 1:.2%}')"
   ]
  },
  {
   "cell_type": "markdown",
   "metadata": {},
   "source": [
    "#### Интернет-трафик"
   ]
  },
  {
   "cell_type": "code",
   "execution_count": 37,
   "metadata": {},
   "outputs": [
    {
     "data": {
      "image/png": "[encoded data removed]",
      "text/plain": [
       "<Figure size 1152x360 with 2 Axes>"
      ]
     },
     "metadata": {
      "needs_background": "light"
     },
     "output_type": "display_data"
    }
   ],
   "source": [
    "fig, axes = plt.subplots(1, 2, figsize=(16, 5))\n",
    "\n",
    "sns.distplot(smart_data['gb_used'], ax=axes[0], bins=30, label='Smart')\n",
    "sns.distplot(ultra_data['gb_used'], ax=axes[0], bins=30, label='Ultra')\n",
    "sns.boxplot(data=megaline_data, x='gb_used',\n",
    "            y='tariff', ax=axes[1], palette='Set2')\n",
    "axes[0].legend(loc='upper right', labels=['smart', 'ultra'])\n",
    "\n",
    "axes[0].set_xlabel('Израсходовано ГБ')\n",
    "axes[1].set_xlabel('Израсходовано ГБ')\n",
    "axes[0].set_ylabel('Плотность распределения')\n",
    "axes[1].set_ylabel(' ')\n",
    "\n",
    "plt.suptitle('Распределение расхода интренет-трафика по тарифам')\n",
    "\n",
    "plt.show()"
   ]
  },
  {
   "cell_type": "markdown",
   "metadata": {},
   "source": [
    "За месяц в тарифе Smart пользователи расходуют от 3 до 30 ГБ. За этими пределами - выбросы. Расход интернет-трафика в тарифе Ultra от 0 до 49 ГБ в месяц. Выбросов не наблюдается."
   ]
  },
  {
   "cell_type": "code",
   "execution_count": 38,
   "metadata": {},
   "outputs": [
    {
     "name": "stdout",
     "output_type": "stream",
     "text": [
      "Разница между средними значениями составляет: 19.32%\n"
     ]
    }
   ],
   "source": [
    "print(f'Разница между средними значениями составляет: {ultra_data[\"gb_used\"].mean()/smart_data[\"gb_used\"].mean() - 1:.2%}')"
   ]
  },
  {
   "cell_type": "markdown",
   "metadata": {},
   "source": [
    "### Вывод"
   ]
  },
  {
   "cell_type": "markdown",
   "metadata": {},
   "source": [
    "При сравнении двух тарифов выяснили, что в тарифе Ultra в среднем наблюдается больший расход минут (на 25,93%), сообщений (на 47,78%) и интернет-трафика (на 19,32%). При этом в тарифе Smart расходуют минимум 3 ГБ интернета в месяц, в тарифе Ultra могут не пользоваться интернетом вообще."
   ]
  },
  {
   "cell_type": "markdown",
   "metadata": {},
   "source": [
    "## Проверка гипотез"
   ]
  },
  {
   "cell_type": "markdown",
   "metadata": {},
   "source": [
    "### Cредняя выручка пользователей тарифов «Ультра» и «Смарт» различаются"
   ]
  },
  {
   "cell_type": "markdown",
   "metadata": {},
   "source": [
    "**Сформулируем нулевую и альтернативную гипотезы**"
   ]
  },
  {
   "cell_type": "markdown",
   "metadata": {},
   "source": [
    "Есть утверждение, что средняя выручка пользователей тарифов разная, при этом, не уточняется в какую сторону, поэтому нулевую гипотезу сформулируем так: средняя выручка пользователей тарифа Smart равна средней выручке пользователей тарифа Ultra."
   ]
  },
  {
   "cell_type": "markdown",
   "metadata": {},
   "source": [
    "В таком случае, альтернативная гипотеза будет звучать так: средняя выручка пользователей тарифа Smart не равна средней выручке пользователей тарифа Ultra."
   ]
  },
  {
   "cell_type": "markdown",
   "metadata": {},
   "source": [
    "**Приступим к проверке гипотезы**"
   ]
  },
  {
   "cell_type": "markdown",
   "metadata": {},
   "source": [
    "Проверим равенство дисперсий тестом Левене."
   ]
  },
  {
   "cell_type": "code",
   "execution_count": 39,
   "metadata": {},
   "outputs": [
    {
     "name": "stdout",
     "output_type": "stream",
     "text": [
      "p-значение:2.3578651290079928e-122\n",
      "Дисперсии не равны\n"
     ]
    }
   ],
   "source": [
    "alpha = .05\n",
    "stat, p = st.levene(\n",
    "    smart_data['total_cost'], \n",
    "    ultra_data['total_cost']\n",
    ")\n",
    "print(f\"p-значение:{p}\")\n",
    "if p < alpha:\n",
    "    print(\"Дисперсии не равны\")\n",
    "else:\n",
    "    print(\"Дисперсии равны\")"
   ]
  },
  {
   "cell_type": "code",
   "execution_count": 40,
   "metadata": {
    "scrolled": true
   },
   "outputs": [
    {
     "name": "stdout",
     "output_type": "stream",
     "text": [
      "p-значение:  1.927011394420941e-250\n",
      "Отвергаем нулевую гипотезу\n"
     ]
    }
   ],
   "source": [
    "alpha = .05 # 5% - будем считать, что если равные значения в среднемесячной выручке подтвердятся \n",
    "# менее чем в 5% случаев, то это не существенный результат\n",
    "\n",
    "results = st.ttest_ind(smart_data['total_cost'], ultra_data['total_cost'], equal_var = False)\n",
    "# так как дисперсии не равны, установим параметр equal_var = False\n",
    "print('p-значение: ', results.pvalue)\n",
    "\n",
    "if results.pvalue < alpha:\n",
    "    print(\"Отвергаем нулевую гипотезу\")\n",
    "else:\n",
    "    print(\"Не получилось отвергнуть нулевую гипотезу\") "
   ]
  },
  {
   "cell_type": "markdown",
   "metadata": {},
   "source": [
    "**Вывод**"
   ]
  },
  {
   "cell_type": "markdown",
   "metadata": {},
   "source": [
    "Полученное значение p-value говорит о том, что вероятность получить равные значения случайно почти 0,08%. Эта вероятность меньше 1%, поэтому мы можем делать вывод в пользу альтернативной гипотезы о различии между месячной выручкой."
   ]
  },
  {
   "cell_type": "markdown",
   "metadata": {},
   "source": [
    "#### Какой тариф лучше?"
   ]
  },
  {
   "cell_type": "markdown",
   "metadata": {},
   "source": [
    "Выясним, пользователи какого тарифа приносят больше выручки в месяц."
   ]
  },
  {
   "cell_type": "code",
   "execution_count": 41,
   "metadata": {},
   "outputs": [
    {
     "data": {
      "image/png": "[encoded data removed]",
      "text/plain": [
       "<Figure size 432x288 with 1 Axes>"
      ]
     },
     "metadata": {
      "needs_background": "light"
     },
     "output_type": "display_data"
    }
   ],
   "source": [
    "plt.hist(smart_data['total_cost'], bins=15, alpha = 0.5, label='Smart')\n",
    "plt.hist(ultra_data['total_cost'], bins=15, alpha = 0.5, label='Ultra')\n",
    "plt.legend(loc='upper right')\n",
    "plt.show()"
   ]
  },
  {
   "cell_type": "code",
   "execution_count": 42,
   "metadata": {},
   "outputs": [
    {
     "name": "stdout",
     "output_type": "stream",
     "text": [
      "Средняя месячная выручка пользователей тарифа Smart: 1290\n",
      "Средняя месячная выручка пользователей тарифа Ultra: 2070\n",
      "Разница между месячной выручкой составляет: 62.30%\n"
     ]
    }
   ],
   "source": [
    "print(\n",
    "    f\"Средняя месячная выручка пользователей тарифа Smart: {round(smart_data['total_cost'].mean())}\")\n",
    "print(\n",
    "    f\"Средняя месячная выручка пользователей тарифа Ultra: {round(ultra_data['total_cost'].mean())}\")\n",
    "print(\n",
    "    f\"Разница между месячной выручкой составляет: {smart_data['total_cost'].mean()/ultra_data['total_cost'].mean():.2%}\")"
   ]
  },
  {
   "cell_type": "markdown",
   "metadata": {},
   "source": [
    "**Вывод**"
   ]
  },
  {
   "cell_type": "markdown",
   "metadata": {},
   "source": [
    "Тариф Ultra приносит на 62,30% больше ежемесячной выручки, чем тариф Smart. На основании этих данных можно сделать вывод, что тариф Ultra лучше, так как он прибыльнее для оператора сотовой связи."
   ]
  },
  {
   "cell_type": "markdown",
   "metadata": {},
   "source": [
    "### Cредняя выручка пользователей из Москвы отличается от выручки пользователей из других регионов"
   ]
  },
  {
   "cell_type": "markdown",
   "metadata": {},
   "source": [
    "**Сформулируем нулевую и альтернативную гипотезы**"
   ]
  },
  {
   "cell_type": "markdown",
   "metadata": {},
   "source": [
    "Есть утверждение, что средняя выручка пользователей из Москвы и пользователей из других регионов отличается, при этом, не уточняется в какую сторону, поэтому нулевую гипотезу сформулируем так: средняя выручка пользователей из Москвы равна средней выручке пользователей из других регионов."
   ]
  },
  {
   "cell_type": "markdown",
   "metadata": {},
   "source": [
    "В таком случае, альтернативная гипотеза будет звучать так: средняя выручка пользователей из Москвы не равна средней выручке пользователей из других регионов."
   ]
  },
  {
   "cell_type": "markdown",
   "metadata": {},
   "source": [
    "**Подготовим данные для проверки гипотезы**"
   ]
  },
  {
   "cell_type": "markdown",
   "metadata": {},
   "source": [
    "Датафрейм с данными по Москве"
   ]
  },
  {
   "cell_type": "code",
   "execution_count": 43,
   "metadata": {},
   "outputs": [
    {
     "data": {
      "text/plain": [
       "611"
      ]
     },
     "execution_count": 43,
     "metadata": {},
     "output_type": "execute_result"
    }
   ],
   "source": [
    "msk_data = megaline_data.query('city == \"Москва\"')\n",
    "len(msk_data)"
   ]
  },
  {
   "cell_type": "markdown",
   "metadata": {},
   "source": [
    "Датафрейм с данными по другим регионам"
   ]
  },
  {
   "cell_type": "code",
   "execution_count": 44,
   "metadata": {},
   "outputs": [
    {
     "data": {
      "text/plain": [
       "2605"
      ]
     },
     "execution_count": 44,
     "metadata": {},
     "output_type": "execute_result"
    }
   ],
   "source": [
    "other_data = megaline_data.query('city != \"Москва\"')\n",
    "len(other_data)"
   ]
  },
  {
   "cell_type": "markdown",
   "metadata": {},
   "source": [
    "**Приступим к проверке гипотезы**"
   ]
  },
  {
   "cell_type": "markdown",
   "metadata": {},
   "source": [
    "Проверим равнество дисперсий тестом Левене."
   ]
  },
  {
   "cell_type": "code",
   "execution_count": 45,
   "metadata": {},
   "outputs": [
    {
     "name": "stdout",
     "output_type": "stream",
     "text": [
      "p-значение:0.014015266770621706\n",
      "Дисперсии не равны\n"
     ]
    }
   ],
   "source": [
    "alpha = .05\n",
    "stat, p = st.levene(\n",
    "    msk_data['total_cost'], \n",
    "    other_data['total_cost']\n",
    ")\n",
    "print(f\"p-значение:{p}\")\n",
    "if p < alpha:\n",
    "    print(\"Дисперсии не равны\")\n",
    "else:\n",
    "    print(\"Дисперсии равны\")"
   ]
  },
  {
   "cell_type": "code",
   "execution_count": 46,
   "metadata": {
    "scrolled": true
   },
   "outputs": [
    {
     "name": "stdout",
     "output_type": "stream",
     "text": [
      "p-значение:  0.5216952110000278\n",
      "Не получилось отвергнуть нулевую гипотезу\n"
     ]
    }
   ],
   "source": [
    "alpha = .05 # 5% - будем считать, что если равные значения в среднемесячной выручке подтвердятся \n",
    "# менее чем в 5% случаев, то это не существенный результат\n",
    "\n",
    "results = st.ttest_ind(msk_data['total_cost'], other_data['total_cost'], equal_var = False)\n",
    "# так как дисперсии не равны, установим параметр equal_var = False\n",
    "print('p-значение: ', results.pvalue)\n",
    "\n",
    "if results.pvalue < alpha:\n",
    "    print(\"Отвергаем нулевую гипотезу\")\n",
    "else:\n",
    "    print(\"Не получилось отвергнуть нулевую гипотезу\") "
   ]
  },
  {
   "cell_type": "markdown",
   "metadata": {},
   "source": [
    "**Вывод**"
   ]
  },
  {
   "cell_type": "markdown",
   "metadata": {},
   "source": [
    "Полученное значение p-value говорит о том, что вероятность получить равные значения случайно 52%. Эта вероятность больше 1%, поэтому мы можем сделать предположение о равности месячной выручки между пользователями из Москвы и пользователями из других регионов."
   ]
  },
  {
   "cell_type": "markdown",
   "metadata": {},
   "source": [
    "## Общий вывод"
   ]
  },
  {
   "cell_type": "markdown",
   "metadata": {},
   "source": [
    "В этом проекте был проведен предварительный анализ тарифов федерального оператора сотовой связи «Мегалайн» на небольшой (500 человек) выборке клиентов.Своим клиентам компания предлагает два тарифных плана: «Смарт» и «Ультра». В нашем распоряжении были слудцющие данные пользователей «Мегалайна»: кто они, откуда, каким тарифом пользуются, сколько звонков и сообщений каждый отправил за 2018 год. Задачей исследования было понять, какой тариф приносит больше денег. Мы проанализировали поведение клиентов чтобы сделать вывод — какой тариф лучше."
   ]
  },
  {
   "cell_type": "markdown",
   "metadata": {},
   "source": [
    "В ходе исследования удалось выяснить, что пользователи тарифа Ultra в среднем больше расходуют минут (на 25,93%), сообщений (на 47,78%) и интернет-трафика (на 19,32%), по сравнению с пользователями тарифа Smart, что в принципе не удивительно. При этом в тарифе Smart расходуют минимум 3 ГБ интернета в месяц, а в тарифе Ultra могут не пользоваться интернетом вообще."
   ]
  },
  {
   "cell_type": "markdown",
   "metadata": {},
   "source": [
    "Но самые важные выводы следующие:"
   ]
  },
  {
   "cell_type": "markdown",
   "metadata": {},
   "source": [
    "- оба тарифа приносят разную ежемесячную выручку, тариф Ultra приносит на 62,30% больше денег, чем тариф Smart, поэтому тариф Ultra лучше"
   ]
  },
  {
   "cell_type": "markdown",
   "metadata": {},
   "source": [
    "- существенной разницы в ежемесячной выручке у пользователей из Москвы и пользователей из других регионов не наблюдается"
   ]
  }
 ],
 "metadata": {
  "ExecuteTimeLog": [
   {
    "duration": 1188,
    "start_time": "2022-01-05T10:43:43.167Z"
   },
   {
    "duration": 189,
    "start_time": "2022-01-05T10:45:03.165Z"
   },
   {
    "duration": 569,
    "start_time": "2022-01-05T10:46:42.920Z"
   },
   {
    "duration": 31,
    "start_time": "2022-01-05T10:46:58.968Z"
   },
   {
    "duration": 47,
    "start_time": "2022-01-05T10:47:57.941Z"
   },
   {
    "duration": 37,
    "start_time": "2022-01-05T10:48:22.964Z"
   },
   {
    "duration": 23,
    "start_time": "2022-01-05T10:48:31.401Z"
   },
   {
    "duration": 22,
    "start_time": "2022-01-05T10:49:03.345Z"
   },
   {
    "duration": 11,
    "start_time": "2022-01-05T10:49:31.078Z"
   },
   {
    "duration": 12,
    "start_time": "2022-01-05T10:49:46.015Z"
   },
   {
    "duration": 9,
    "start_time": "2022-01-05T10:50:13.459Z"
   },
   {
    "duration": 38,
    "start_time": "2022-01-05T11:12:44.467Z"
   },
   {
    "duration": 35,
    "start_time": "2022-01-05T11:13:06.764Z"
   },
   {
    "duration": 37,
    "start_time": "2022-01-05T11:13:37.239Z"
   },
   {
    "duration": 21,
    "start_time": "2022-01-05T11:14:25.524Z"
   },
   {
    "duration": 45,
    "start_time": "2022-01-05T11:27:14.607Z"
   },
   {
    "duration": 13,
    "start_time": "2022-01-05T11:27:38.492Z"
   },
   {
    "duration": 20,
    "start_time": "2022-01-05T11:27:49.491Z"
   },
   {
    "duration": 60,
    "start_time": "2022-01-05T11:30:02.676Z"
   },
   {
    "duration": 10,
    "start_time": "2022-01-05T11:38:58.738Z"
   },
   {
    "duration": 13,
    "start_time": "2022-01-05T11:39:13.796Z"
   },
   {
    "duration": 484,
    "start_time": "2022-01-05T11:42:13.677Z"
   },
   {
    "duration": 9,
    "start_time": "2022-01-05T11:43:11.430Z"
   },
   {
    "duration": 8,
    "start_time": "2022-01-05T11:46:10.468Z"
   },
   {
    "duration": 10,
    "start_time": "2022-01-05T11:47:18.428Z"
   },
   {
    "duration": 10,
    "start_time": "2022-01-05T11:48:05.289Z"
   },
   {
    "duration": 5,
    "start_time": "2022-01-05T11:56:29.129Z"
   },
   {
    "duration": 13,
    "start_time": "2022-01-05T11:56:43.627Z"
   },
   {
    "duration": 19,
    "start_time": "2022-01-05T11:56:57.386Z"
   },
   {
    "duration": 1187,
    "start_time": "2022-01-05T11:57:23.932Z"
   },
   {
    "duration": 524,
    "start_time": "2022-01-05T11:57:25.121Z"
   },
   {
    "duration": 53,
    "start_time": "2022-01-05T11:57:25.648Z"
   },
   {
    "duration": 40,
    "start_time": "2022-01-05T11:57:25.704Z"
   },
   {
    "duration": 30,
    "start_time": "2022-01-05T11:57:25.747Z"
   },
   {
    "duration": 11,
    "start_time": "2022-01-05T11:57:25.779Z"
   },
   {
    "duration": 50,
    "start_time": "2022-01-05T11:57:25.792Z"
   },
   {
    "duration": 125,
    "start_time": "2022-01-05T11:57:25.847Z"
   },
   {
    "duration": 6,
    "start_time": "2022-01-05T11:57:25.975Z"
   },
   {
    "duration": 12,
    "start_time": "2022-01-05T11:57:25.985Z"
   },
   {
    "duration": 29,
    "start_time": "2022-01-05T11:57:25.999Z"
   },
   {
    "duration": 13,
    "start_time": "2022-01-05T11:57:26.032Z"
   },
   {
    "duration": 395,
    "start_time": "2022-01-05T11:59:52.363Z"
   },
   {
    "duration": 6,
    "start_time": "2022-01-05T12:00:23.362Z"
   },
   {
    "duration": 13,
    "start_time": "2022-01-05T12:00:35.418Z"
   },
   {
    "duration": 1231,
    "start_time": "2022-01-05T12:01:31.701Z"
   },
   {
    "duration": 545,
    "start_time": "2022-01-05T12:01:32.934Z"
   },
   {
    "duration": 53,
    "start_time": "2022-01-05T12:01:33.485Z"
   },
   {
    "duration": 35,
    "start_time": "2022-01-05T12:01:33.541Z"
   },
   {
    "duration": 57,
    "start_time": "2022-01-05T12:01:33.578Z"
   },
   {
    "duration": 13,
    "start_time": "2022-01-05T12:01:33.638Z"
   },
   {
    "duration": 23,
    "start_time": "2022-01-05T12:01:33.654Z"
   },
   {
    "duration": 144,
    "start_time": "2022-01-05T12:01:33.679Z"
   },
   {
    "duration": 12,
    "start_time": "2022-01-05T12:01:33.826Z"
   },
   {
    "duration": 7,
    "start_time": "2022-01-05T12:01:33.841Z"
   },
   {
    "duration": 16,
    "start_time": "2022-01-05T12:01:33.850Z"
   },
   {
    "duration": 15,
    "start_time": "2022-01-05T12:01:33.869Z"
   },
   {
    "duration": 10,
    "start_time": "2022-01-05T12:01:33.923Z"
   },
   {
    "duration": 10,
    "start_time": "2022-01-05T12:01:33.936Z"
   },
   {
    "duration": 43,
    "start_time": "2022-01-05T12:04:37.048Z"
   },
   {
    "duration": 7,
    "start_time": "2022-01-05T12:07:41.318Z"
   },
   {
    "duration": 387,
    "start_time": "2022-01-05T12:10:19.508Z"
   },
   {
    "duration": 79,
    "start_time": "2022-01-05T12:10:53.486Z"
   },
   {
    "duration": 45,
    "start_time": "2022-01-05T12:32:56.065Z"
   },
   {
    "duration": 22,
    "start_time": "2022-01-05T12:33:11.342Z"
   },
   {
    "duration": 73,
    "start_time": "2022-01-05T12:38:23.991Z"
   },
   {
    "duration": 49,
    "start_time": "2022-01-05T12:38:26.042Z"
   },
   {
    "duration": 66,
    "start_time": "2022-01-05T12:39:24.192Z"
   },
   {
    "duration": 14,
    "start_time": "2022-01-05T12:39:26.520Z"
   },
   {
    "duration": 15,
    "start_time": "2022-01-05T12:39:53.172Z"
   },
   {
    "duration": 64,
    "start_time": "2022-01-05T12:40:35.373Z"
   },
   {
    "duration": 14,
    "start_time": "2022-01-05T12:40:37.468Z"
   },
   {
    "duration": 13,
    "start_time": "2022-01-05T12:40:44.298Z"
   },
   {
    "duration": 17,
    "start_time": "2022-01-05T12:44:57.605Z"
   },
   {
    "duration": 4,
    "start_time": "2022-01-05T12:48:12.121Z"
   },
   {
    "duration": 18,
    "start_time": "2022-01-05T12:48:12.901Z"
   },
   {
    "duration": 302,
    "start_time": "2022-01-05T12:50:04.091Z"
   },
   {
    "duration": 1231,
    "start_time": "2022-01-05T12:50:28.096Z"
   },
   {
    "duration": 518,
    "start_time": "2022-01-05T12:50:29.330Z"
   },
   {
    "duration": 75,
    "start_time": "2022-01-05T12:50:29.852Z"
   },
   {
    "duration": 51,
    "start_time": "2022-01-05T12:50:29.930Z"
   },
   {
    "duration": 72,
    "start_time": "2022-01-05T12:50:29.985Z"
   },
   {
    "duration": 16,
    "start_time": "2022-01-05T12:50:30.060Z"
   },
   {
    "duration": 52,
    "start_time": "2022-01-05T12:50:30.080Z"
   },
   {
    "duration": 170,
    "start_time": "2022-01-05T12:50:30.136Z"
   },
   {
    "duration": 13,
    "start_time": "2022-01-05T12:50:30.310Z"
   },
   {
    "duration": 17,
    "start_time": "2022-01-05T12:50:30.327Z"
   },
   {
    "duration": 10,
    "start_time": "2022-01-05T12:50:30.347Z"
   },
   {
    "duration": 13,
    "start_time": "2022-01-05T12:50:30.360Z"
   },
   {
    "duration": 119,
    "start_time": "2022-01-05T12:50:30.376Z"
   },
   {
    "duration": 82,
    "start_time": "2022-01-05T12:50:30.497Z"
   },
   {
    "duration": 4,
    "start_time": "2022-01-05T12:50:30.582Z"
   },
   {
    "duration": 18,
    "start_time": "2022-01-05T12:50:30.588Z"
   },
   {
    "duration": 423,
    "start_time": "2022-01-05T12:50:30.608Z"
   },
   {
    "duration": 35,
    "start_time": "2022-01-05T12:51:06.280Z"
   },
   {
    "duration": 4,
    "start_time": "2022-01-05T12:51:33.813Z"
   },
   {
    "duration": 12,
    "start_time": "2022-01-05T12:51:53.525Z"
   },
   {
    "duration": 36,
    "start_time": "2022-01-05T12:58:14.422Z"
   },
   {
    "duration": 4,
    "start_time": "2022-01-05T12:58:16.676Z"
   },
   {
    "duration": 12,
    "start_time": "2022-01-05T12:58:19.019Z"
   },
   {
    "duration": 14,
    "start_time": "2022-01-05T12:58:21.184Z"
   },
   {
    "duration": 12,
    "start_time": "2022-01-05T13:07:48.938Z"
   },
   {
    "duration": 13,
    "start_time": "2022-01-05T13:08:00.231Z"
   },
   {
    "duration": 14,
    "start_time": "2022-01-05T13:08:57.064Z"
   },
   {
    "duration": 15,
    "start_time": "2022-01-05T13:08:58.684Z"
   },
   {
    "duration": 15,
    "start_time": "2022-01-05T13:11:30.001Z"
   },
   {
    "duration": 15,
    "start_time": "2022-01-05T13:11:32.266Z"
   },
   {
    "duration": 403,
    "start_time": "2022-01-05T13:20:38.090Z"
   },
   {
    "duration": 14,
    "start_time": "2022-01-05T13:21:29.382Z"
   },
   {
    "duration": 25,
    "start_time": "2022-01-05T13:21:44.426Z"
   },
   {
    "duration": 315,
    "start_time": "2022-01-05T13:23:16.824Z"
   },
   {
    "duration": 305,
    "start_time": "2022-01-05T13:24:01.812Z"
   },
   {
    "duration": 1154,
    "start_time": "2022-01-05T13:24:14.244Z"
   },
   {
    "duration": 516,
    "start_time": "2022-01-05T13:24:15.400Z"
   },
   {
    "duration": 52,
    "start_time": "2022-01-05T13:24:15.919Z"
   },
   {
    "duration": 53,
    "start_time": "2022-01-05T13:24:15.974Z"
   },
   {
    "duration": 31,
    "start_time": "2022-01-05T13:24:16.030Z"
   },
   {
    "duration": 11,
    "start_time": "2022-01-05T13:24:16.064Z"
   },
   {
    "duration": 56,
    "start_time": "2022-01-05T13:24:16.077Z"
   },
   {
    "duration": 111,
    "start_time": "2022-01-05T13:24:16.137Z"
   },
   {
    "duration": 5,
    "start_time": "2022-01-05T13:24:16.251Z"
   },
   {
    "duration": 12,
    "start_time": "2022-01-05T13:24:16.259Z"
   },
   {
    "duration": 13,
    "start_time": "2022-01-05T13:24:16.273Z"
   },
   {
    "duration": 37,
    "start_time": "2022-01-05T13:24:16.288Z"
   },
   {
    "duration": 96,
    "start_time": "2022-01-05T13:24:16.327Z"
   },
   {
    "duration": 69,
    "start_time": "2022-01-05T13:24:16.426Z"
   },
   {
    "duration": 3,
    "start_time": "2022-01-05T13:24:16.497Z"
   },
   {
    "duration": 30,
    "start_time": "2022-01-05T13:24:16.502Z"
   },
   {
    "duration": 48,
    "start_time": "2022-01-05T13:24:16.535Z"
   },
   {
    "duration": 4,
    "start_time": "2022-01-05T13:24:16.585Z"
   },
   {
    "duration": 39,
    "start_time": "2022-01-05T13:24:16.592Z"
   },
   {
    "duration": 36,
    "start_time": "2022-01-05T13:24:16.634Z"
   },
   {
    "duration": 4,
    "start_time": "2022-01-05T13:24:16.673Z"
   },
   {
    "duration": 13,
    "start_time": "2022-01-05T13:24:16.680Z"
   },
   {
    "duration": 13,
    "start_time": "2022-01-05T13:24:16.722Z"
   },
   {
    "duration": 16,
    "start_time": "2022-01-05T13:24:16.739Z"
   },
   {
    "duration": 17,
    "start_time": "2022-01-05T13:24:16.757Z"
   },
   {
    "duration": 55,
    "start_time": "2022-01-05T13:24:16.776Z"
   },
   {
    "duration": 16,
    "start_time": "2022-01-05T13:24:16.833Z"
   },
   {
    "duration": 24,
    "start_time": "2022-01-05T13:24:16.851Z"
   },
   {
    "duration": 513,
    "start_time": "2022-01-05T13:24:22.589Z"
   },
   {
    "duration": 675,
    "start_time": "2022-01-05T13:25:15.393Z"
   },
   {
    "duration": 429,
    "start_time": "2022-01-05T13:25:29.384Z"
   },
   {
    "duration": 311,
    "start_time": "2022-01-05T13:28:12.010Z"
   },
   {
    "duration": 395,
    "start_time": "2022-01-05T13:28:22.461Z"
   },
   {
    "duration": 29,
    "start_time": "2022-01-05T13:28:30.758Z"
   },
   {
    "duration": 15,
    "start_time": "2022-01-05T13:28:32.949Z"
   },
   {
    "duration": 1427,
    "start_time": "2022-01-05T13:29:05.376Z"
   },
   {
    "duration": 680,
    "start_time": "2022-01-05T13:29:06.807Z"
   },
   {
    "duration": 73,
    "start_time": "2022-01-05T13:29:07.491Z"
   },
   {
    "duration": 56,
    "start_time": "2022-01-05T13:29:07.568Z"
   },
   {
    "duration": 32,
    "start_time": "2022-01-05T13:29:07.627Z"
   },
   {
    "duration": 12,
    "start_time": "2022-01-05T13:29:07.662Z"
   },
   {
    "duration": 66,
    "start_time": "2022-01-05T13:29:07.678Z"
   },
   {
    "duration": 176,
    "start_time": "2022-01-05T13:29:07.751Z"
   },
   {
    "duration": 6,
    "start_time": "2022-01-05T13:29:07.930Z"
   },
   {
    "duration": 23,
    "start_time": "2022-01-05T13:29:07.939Z"
   },
   {
    "duration": 10,
    "start_time": "2022-01-05T13:29:07.965Z"
   },
   {
    "duration": 10,
    "start_time": "2022-01-05T13:29:07.978Z"
   },
   {
    "duration": 151,
    "start_time": "2022-01-05T13:29:07.991Z"
   },
   {
    "duration": 114,
    "start_time": "2022-01-05T13:29:08.145Z"
   },
   {
    "duration": 5,
    "start_time": "2022-01-05T13:29:08.262Z"
   },
   {
    "duration": 19,
    "start_time": "2022-01-05T13:29:08.270Z"
   },
   {
    "duration": 52,
    "start_time": "2022-01-05T13:29:08.292Z"
   },
   {
    "duration": 4,
    "start_time": "2022-01-05T13:29:08.347Z"
   },
   {
    "duration": 28,
    "start_time": "2022-01-05T13:29:08.353Z"
   },
   {
    "duration": 35,
    "start_time": "2022-01-05T13:29:08.384Z"
   },
   {
    "duration": 4,
    "start_time": "2022-01-05T13:29:08.424Z"
   },
   {
    "duration": 25,
    "start_time": "2022-01-05T13:29:08.430Z"
   },
   {
    "duration": 18,
    "start_time": "2022-01-05T13:29:08.460Z"
   },
   {
    "duration": 22,
    "start_time": "2022-01-05T13:29:08.481Z"
   },
   {
    "duration": 33,
    "start_time": "2022-01-05T13:29:08.507Z"
   },
   {
    "duration": 23,
    "start_time": "2022-01-05T13:29:08.543Z"
   },
   {
    "duration": 65,
    "start_time": "2022-01-05T13:29:08.569Z"
   },
   {
    "duration": 19,
    "start_time": "2022-01-05T13:29:08.637Z"
   },
   {
    "duration": 426,
    "start_time": "2022-01-05T13:29:36.630Z"
   },
   {
    "duration": 339,
    "start_time": "2022-01-05T13:30:06.383Z"
   },
   {
    "duration": 402,
    "start_time": "2022-01-05T13:30:25.800Z"
   },
   {
    "duration": 33,
    "start_time": "2022-01-05T13:33:10.707Z"
   },
   {
    "duration": 15,
    "start_time": "2022-01-05T13:33:13.199Z"
   },
   {
    "duration": 1224,
    "start_time": "2022-01-05T13:36:42.951Z"
   },
   {
    "duration": 517,
    "start_time": "2022-01-05T13:36:44.178Z"
   },
   {
    "duration": 53,
    "start_time": "2022-01-05T13:36:44.701Z"
   },
   {
    "duration": 35,
    "start_time": "2022-01-05T13:36:44.756Z"
   },
   {
    "duration": 49,
    "start_time": "2022-01-05T13:36:44.794Z"
   },
   {
    "duration": 11,
    "start_time": "2022-01-05T13:36:44.845Z"
   },
   {
    "duration": 19,
    "start_time": "2022-01-05T13:36:44.860Z"
   },
   {
    "duration": 147,
    "start_time": "2022-01-05T13:36:44.882Z"
   },
   {
    "duration": 5,
    "start_time": "2022-01-05T13:36:45.031Z"
   },
   {
    "duration": 14,
    "start_time": "2022-01-05T13:36:45.038Z"
   },
   {
    "duration": 11,
    "start_time": "2022-01-05T13:36:45.055Z"
   },
   {
    "duration": 12,
    "start_time": "2022-01-05T13:36:45.068Z"
   },
   {
    "duration": 118,
    "start_time": "2022-01-05T13:36:45.082Z"
   },
   {
    "duration": 76,
    "start_time": "2022-01-05T13:36:45.202Z"
   },
   {
    "duration": 4,
    "start_time": "2022-01-05T13:36:45.280Z"
   },
   {
    "duration": 14,
    "start_time": "2022-01-05T13:36:45.287Z"
   },
   {
    "duration": 49,
    "start_time": "2022-01-05T13:36:45.303Z"
   },
   {
    "duration": 4,
    "start_time": "2022-01-05T13:36:45.354Z"
   },
   {
    "duration": 14,
    "start_time": "2022-01-05T13:36:45.360Z"
   },
   {
    "duration": 70,
    "start_time": "2022-01-05T13:36:45.376Z"
   },
   {
    "duration": 5,
    "start_time": "2022-01-05T13:36:45.448Z"
   },
   {
    "duration": 15,
    "start_time": "2022-01-05T13:36:45.457Z"
   },
   {
    "duration": 12,
    "start_time": "2022-01-05T13:36:45.475Z"
   },
   {
    "duration": 41,
    "start_time": "2022-01-05T13:36:45.490Z"
   },
   {
    "duration": 16,
    "start_time": "2022-01-05T13:36:45.534Z"
   },
   {
    "duration": 15,
    "start_time": "2022-01-05T13:36:45.553Z"
   },
   {
    "duration": 4,
    "start_time": "2022-01-05T13:36:45.571Z"
   },
   {
    "duration": 5,
    "start_time": "2022-01-05T13:36:45.577Z"
   },
   {
    "duration": 14,
    "start_time": "2022-01-05T13:37:22.732Z"
   },
   {
    "duration": 23,
    "start_time": "2022-01-05T13:37:26.379Z"
   },
   {
    "duration": 417,
    "start_time": "2022-01-05T13:38:40.912Z"
   },
   {
    "duration": 1152,
    "start_time": "2022-01-05T13:43:13.566Z"
   },
   {
    "duration": 524,
    "start_time": "2022-01-05T13:43:14.721Z"
   },
   {
    "duration": 55,
    "start_time": "2022-01-05T13:43:15.248Z"
   },
   {
    "duration": 58,
    "start_time": "2022-01-05T13:43:15.307Z"
   },
   {
    "duration": 56,
    "start_time": "2022-01-05T13:43:15.367Z"
   },
   {
    "duration": 12,
    "start_time": "2022-01-05T13:43:15.426Z"
   },
   {
    "duration": 22,
    "start_time": "2022-01-05T13:43:15.441Z"
   },
   {
    "duration": 131,
    "start_time": "2022-01-05T13:43:15.467Z"
   },
   {
    "duration": 5,
    "start_time": "2022-01-05T13:43:15.601Z"
   },
   {
    "duration": 25,
    "start_time": "2022-01-05T13:43:15.609Z"
   },
   {
    "duration": 15,
    "start_time": "2022-01-05T13:43:15.637Z"
   },
   {
    "duration": 21,
    "start_time": "2022-01-05T13:43:15.655Z"
   },
   {
    "duration": 103,
    "start_time": "2022-01-05T13:43:15.678Z"
   },
   {
    "duration": 83,
    "start_time": "2022-01-05T13:43:15.784Z"
   },
   {
    "duration": 4,
    "start_time": "2022-01-05T13:43:15.869Z"
   },
   {
    "duration": 17,
    "start_time": "2022-01-05T13:43:15.876Z"
   },
   {
    "duration": 54,
    "start_time": "2022-01-05T13:43:15.895Z"
   },
   {
    "duration": 5,
    "start_time": "2022-01-05T13:43:15.952Z"
   },
   {
    "duration": 18,
    "start_time": "2022-01-05T13:43:15.960Z"
   },
   {
    "duration": 73,
    "start_time": "2022-01-05T13:43:15.981Z"
   },
   {
    "duration": 5,
    "start_time": "2022-01-05T13:43:16.057Z"
   },
   {
    "duration": 13,
    "start_time": "2022-01-05T13:43:16.065Z"
   },
   {
    "duration": 16,
    "start_time": "2022-01-05T13:43:16.085Z"
   },
   {
    "duration": 32,
    "start_time": "2022-01-05T13:43:16.103Z"
   },
   {
    "duration": 15,
    "start_time": "2022-01-05T13:43:16.137Z"
   },
   {
    "duration": 16,
    "start_time": "2022-01-05T13:43:16.155Z"
   },
   {
    "duration": 56,
    "start_time": "2022-01-05T13:43:16.173Z"
   },
   {
    "duration": 18,
    "start_time": "2022-01-05T13:43:16.232Z"
   },
   {
    "duration": 452,
    "start_time": "2022-01-05T13:43:16.253Z"
   },
   {
    "duration": 1485,
    "start_time": "2022-01-05T13:44:20.302Z"
   },
   {
    "duration": 582,
    "start_time": "2022-01-05T13:44:21.791Z"
   },
   {
    "duration": 65,
    "start_time": "2022-01-05T13:44:22.377Z"
   },
   {
    "duration": 43,
    "start_time": "2022-01-05T13:44:22.446Z"
   },
   {
    "duration": 56,
    "start_time": "2022-01-05T13:44:22.493Z"
   },
   {
    "duration": 11,
    "start_time": "2022-01-05T13:44:22.552Z"
   },
   {
    "duration": 24,
    "start_time": "2022-01-05T13:44:22.566Z"
   },
   {
    "duration": 131,
    "start_time": "2022-01-05T13:44:22.627Z"
   },
   {
    "duration": 6,
    "start_time": "2022-01-05T13:44:22.762Z"
   },
   {
    "duration": 20,
    "start_time": "2022-01-05T13:44:22.770Z"
   },
   {
    "duration": 30,
    "start_time": "2022-01-05T13:44:22.793Z"
   },
   {
    "duration": 11,
    "start_time": "2022-01-05T13:44:22.826Z"
   },
   {
    "duration": 105,
    "start_time": "2022-01-05T13:44:22.840Z"
   },
   {
    "duration": 92,
    "start_time": "2022-01-05T13:44:22.948Z"
   },
   {
    "duration": 4,
    "start_time": "2022-01-05T13:44:23.043Z"
   },
   {
    "duration": 22,
    "start_time": "2022-01-05T13:44:23.050Z"
   },
   {
    "duration": 57,
    "start_time": "2022-01-05T13:44:23.076Z"
   },
   {
    "duration": 4,
    "start_time": "2022-01-05T13:44:23.135Z"
   },
   {
    "duration": 18,
    "start_time": "2022-01-05T13:44:23.142Z"
   },
   {
    "duration": 38,
    "start_time": "2022-01-05T13:44:23.163Z"
   },
   {
    "duration": 4,
    "start_time": "2022-01-05T13:44:23.225Z"
   },
   {
    "duration": 24,
    "start_time": "2022-01-05T13:44:23.232Z"
   },
   {
    "duration": 22,
    "start_time": "2022-01-05T13:44:23.261Z"
   },
   {
    "duration": 19,
    "start_time": "2022-01-05T13:44:23.286Z"
   },
   {
    "duration": 31,
    "start_time": "2022-01-05T13:44:23.308Z"
   },
   {
    "duration": 23,
    "start_time": "2022-01-05T13:44:23.342Z"
   },
   {
    "duration": 24,
    "start_time": "2022-01-05T13:44:23.368Z"
   },
   {
    "duration": 37,
    "start_time": "2022-01-05T13:44:23.395Z"
   },
   {
    "duration": 7,
    "start_time": "2022-01-05T13:44:23.435Z"
   },
   {
    "duration": 7,
    "start_time": "2022-01-05T13:44:23.445Z"
   },
   {
    "duration": 1269,
    "start_time": "2022-01-05T13:46:45.417Z"
   },
   {
    "duration": 512,
    "start_time": "2022-01-05T13:46:46.689Z"
   },
   {
    "duration": 53,
    "start_time": "2022-01-05T13:46:47.203Z"
   },
   {
    "duration": 36,
    "start_time": "2022-01-05T13:46:47.259Z"
   },
   {
    "duration": 55,
    "start_time": "2022-01-05T13:46:47.297Z"
   },
   {
    "duration": 14,
    "start_time": "2022-01-05T13:46:47.355Z"
   },
   {
    "duration": 23,
    "start_time": "2022-01-05T13:46:47.371Z"
   },
   {
    "duration": 107,
    "start_time": "2022-01-05T13:46:47.424Z"
   },
   {
    "duration": 4,
    "start_time": "2022-01-05T13:46:47.535Z"
   },
   {
    "duration": 37,
    "start_time": "2022-01-05T13:46:47.542Z"
   },
   {
    "duration": 25,
    "start_time": "2022-01-05T13:46:47.582Z"
   },
   {
    "duration": 43,
    "start_time": "2022-01-05T13:46:47.609Z"
   },
   {
    "duration": 98,
    "start_time": "2022-01-05T13:46:47.654Z"
   },
   {
    "duration": 75,
    "start_time": "2022-01-05T13:46:47.754Z"
   },
   {
    "duration": 4,
    "start_time": "2022-01-05T13:46:47.831Z"
   },
   {
    "duration": 15,
    "start_time": "2022-01-05T13:46:47.837Z"
   },
   {
    "duration": 34,
    "start_time": "2022-01-05T13:46:47.854Z"
   },
   {
    "duration": 3,
    "start_time": "2022-01-05T13:46:47.891Z"
   },
   {
    "duration": 11,
    "start_time": "2022-01-05T13:46:47.923Z"
   },
   {
    "duration": 32,
    "start_time": "2022-01-05T13:46:47.936Z"
   },
   {
    "duration": 5,
    "start_time": "2022-01-05T13:46:47.971Z"
   },
   {
    "duration": 46,
    "start_time": "2022-01-05T13:46:47.979Z"
   },
   {
    "duration": 11,
    "start_time": "2022-01-05T13:46:48.032Z"
   },
   {
    "duration": 17,
    "start_time": "2022-01-05T13:46:48.046Z"
   },
   {
    "duration": 19,
    "start_time": "2022-01-05T13:46:48.066Z"
   },
   {
    "duration": 50,
    "start_time": "2022-01-05T13:46:48.088Z"
   },
   {
    "duration": 18,
    "start_time": "2022-01-05T13:46:48.141Z"
   },
   {
    "duration": 7,
    "start_time": "2022-01-05T13:46:48.162Z"
   },
   {
    "duration": 54,
    "start_time": "2022-01-05T13:46:48.171Z"
   },
   {
    "duration": 3,
    "start_time": "2022-01-05T13:46:48.227Z"
   },
   {
    "duration": 7,
    "start_time": "2022-01-05T13:46:48.232Z"
   },
   {
    "duration": 1217,
    "start_time": "2022-01-05T13:47:50.227Z"
   },
   {
    "duration": 515,
    "start_time": "2022-01-05T13:47:51.447Z"
   },
   {
    "duration": 52,
    "start_time": "2022-01-05T13:47:51.965Z"
   },
   {
    "duration": 36,
    "start_time": "2022-01-05T13:47:52.019Z"
   },
   {
    "duration": 34,
    "start_time": "2022-01-05T13:47:52.058Z"
   },
   {
    "duration": 39,
    "start_time": "2022-01-05T13:47:52.095Z"
   },
   {
    "duration": 27,
    "start_time": "2022-01-05T13:47:52.137Z"
   },
   {
    "duration": 168,
    "start_time": "2022-01-05T13:47:52.169Z"
   },
   {
    "duration": 5,
    "start_time": "2022-01-05T13:47:52.341Z"
   },
   {
    "duration": 14,
    "start_time": "2022-01-05T13:47:52.349Z"
   },
   {
    "duration": 10,
    "start_time": "2022-01-05T13:47:52.366Z"
   },
   {
    "duration": 8,
    "start_time": "2022-01-05T13:47:52.379Z"
   },
   {
    "duration": 113,
    "start_time": "2022-01-05T13:47:52.390Z"
   },
   {
    "duration": 80,
    "start_time": "2022-01-05T13:47:52.505Z"
   },
   {
    "duration": 3,
    "start_time": "2022-01-05T13:47:52.588Z"
   },
   {
    "duration": 30,
    "start_time": "2022-01-05T13:47:52.593Z"
   },
   {
    "duration": 41,
    "start_time": "2022-01-05T13:47:52.626Z"
   },
   {
    "duration": 4,
    "start_time": "2022-01-05T13:47:52.670Z"
   },
   {
    "duration": 15,
    "start_time": "2022-01-05T13:47:52.676Z"
   },
   {
    "duration": 61,
    "start_time": "2022-01-05T13:47:52.694Z"
   },
   {
    "duration": 5,
    "start_time": "2022-01-05T13:47:52.758Z"
   },
   {
    "duration": 14,
    "start_time": "2022-01-05T13:47:52.766Z"
   },
   {
    "duration": 37,
    "start_time": "2022-01-05T13:47:52.786Z"
   },
   {
    "duration": 18,
    "start_time": "2022-01-05T13:47:52.826Z"
   },
   {
    "duration": 18,
    "start_time": "2022-01-05T13:47:52.847Z"
   },
   {
    "duration": 6,
    "start_time": "2022-01-05T13:47:52.868Z"
   },
   {
    "duration": 49,
    "start_time": "2022-01-05T13:47:52.877Z"
   },
   {
    "duration": 3,
    "start_time": "2022-01-05T13:47:52.929Z"
   },
   {
    "duration": 6,
    "start_time": "2022-01-05T13:47:52.935Z"
   },
   {
    "duration": 17,
    "start_time": "2022-01-05T13:48:40.838Z"
   },
   {
    "duration": 52,
    "start_time": "2022-01-05T13:48:46.770Z"
   },
   {
    "duration": 31,
    "start_time": "2022-01-05T13:50:07.971Z"
   },
   {
    "duration": 13,
    "start_time": "2022-01-05T13:51:02.084Z"
   },
   {
    "duration": 1174,
    "start_time": "2022-01-05T14:07:14.425Z"
   },
   {
    "duration": 519,
    "start_time": "2022-01-05T14:07:15.603Z"
   },
   {
    "duration": 74,
    "start_time": "2022-01-05T14:07:16.126Z"
   },
   {
    "duration": 67,
    "start_time": "2022-01-05T14:07:16.204Z"
   },
   {
    "duration": 62,
    "start_time": "2022-01-05T14:07:16.273Z"
   },
   {
    "duration": 14,
    "start_time": "2022-01-05T14:07:16.338Z"
   },
   {
    "duration": 26,
    "start_time": "2022-01-05T14:07:16.355Z"
   },
   {
    "duration": 174,
    "start_time": "2022-01-05T14:07:16.384Z"
   },
   {
    "duration": 5,
    "start_time": "2022-01-05T14:07:16.563Z"
   },
   {
    "duration": 15,
    "start_time": "2022-01-05T14:07:16.572Z"
   },
   {
    "duration": 33,
    "start_time": "2022-01-05T14:07:16.590Z"
   },
   {
    "duration": 7,
    "start_time": "2022-01-05T14:07:16.626Z"
   },
   {
    "duration": 121,
    "start_time": "2022-01-05T14:07:16.635Z"
   },
   {
    "duration": 96,
    "start_time": "2022-01-05T14:07:16.759Z"
   },
   {
    "duration": 4,
    "start_time": "2022-01-05T14:07:16.858Z"
   },
   {
    "duration": 20,
    "start_time": "2022-01-05T14:07:16.865Z"
   },
   {
    "duration": 60,
    "start_time": "2022-01-05T14:07:16.888Z"
   },
   {
    "duration": 4,
    "start_time": "2022-01-05T14:07:16.951Z"
   },
   {
    "duration": 16,
    "start_time": "2022-01-05T14:07:16.958Z"
   },
   {
    "duration": 55,
    "start_time": "2022-01-05T14:07:16.977Z"
   },
   {
    "duration": 4,
    "start_time": "2022-01-05T14:07:17.035Z"
   },
   {
    "duration": 13,
    "start_time": "2022-01-05T14:07:17.042Z"
   },
   {
    "duration": 13,
    "start_time": "2022-01-05T14:07:17.057Z"
   },
   {
    "duration": 17,
    "start_time": "2022-01-05T14:07:17.073Z"
   },
   {
    "duration": 46,
    "start_time": "2022-01-05T14:07:17.093Z"
   },
   {
    "duration": 9,
    "start_time": "2022-01-05T14:07:17.142Z"
   },
   {
    "duration": 16,
    "start_time": "2022-01-05T14:07:17.157Z"
   },
   {
    "duration": 51,
    "start_time": "2022-01-05T14:07:17.177Z"
   },
   {
    "duration": 102,
    "start_time": "2022-01-05T14:07:17.230Z"
   },
   {
    "duration": 345,
    "start_time": "2022-01-05T14:07:16.990Z"
   },
   {
    "duration": 10,
    "start_time": "2022-01-05T14:07:47.811Z"
   },
   {
    "duration": 27,
    "start_time": "2022-01-05T14:08:01.746Z"
   },
   {
    "duration": 5,
    "start_time": "2022-01-05T14:08:18.300Z"
   },
   {
    "duration": 539,
    "start_time": "2022-01-05T14:08:18.308Z"
   },
   {
    "duration": 42,
    "start_time": "2022-01-05T14:08:18.851Z"
   },
   {
    "duration": 39,
    "start_time": "2022-01-05T14:08:18.897Z"
   },
   {
    "duration": 29,
    "start_time": "2022-01-05T14:08:18.938Z"
   },
   {
    "duration": 12,
    "start_time": "2022-01-05T14:08:18.970Z"
   },
   {
    "duration": 58,
    "start_time": "2022-01-05T14:08:18.985Z"
   },
   {
    "duration": 108,
    "start_time": "2022-01-05T14:08:19.050Z"
   },
   {
    "duration": 5,
    "start_time": "2022-01-05T14:08:19.161Z"
   },
   {
    "duration": 11,
    "start_time": "2022-01-05T14:08:19.169Z"
   },
   {
    "duration": 16,
    "start_time": "2022-01-05T14:08:19.183Z"
   },
   {
    "duration": 27,
    "start_time": "2022-01-05T14:08:19.201Z"
   },
   {
    "duration": 93,
    "start_time": "2022-01-05T14:08:19.231Z"
   },
   {
    "duration": 60,
    "start_time": "2022-01-05T14:08:19.327Z"
   },
   {
    "duration": 4,
    "start_time": "2022-01-05T14:08:19.389Z"
   },
   {
    "duration": 35,
    "start_time": "2022-01-05T14:08:19.396Z"
   },
   {
    "duration": 33,
    "start_time": "2022-01-05T14:08:19.434Z"
   },
   {
    "duration": 4,
    "start_time": "2022-01-05T14:08:19.469Z"
   },
   {
    "duration": 12,
    "start_time": "2022-01-05T14:08:19.476Z"
   },
   {
    "duration": 56,
    "start_time": "2022-01-05T14:08:19.491Z"
   },
   {
    "duration": 4,
    "start_time": "2022-01-05T14:08:19.550Z"
   },
   {
    "duration": 6,
    "start_time": "2022-01-05T14:08:19.557Z"
   },
   {
    "duration": 15,
    "start_time": "2022-01-05T14:08:19.568Z"
   },
   {
    "duration": 53,
    "start_time": "2022-01-05T14:08:19.586Z"
   },
   {
    "duration": 18,
    "start_time": "2022-01-05T14:08:19.642Z"
   },
   {
    "duration": 7,
    "start_time": "2022-01-05T14:08:19.662Z"
   },
   {
    "duration": 20,
    "start_time": "2022-01-05T14:08:19.672Z"
   },
   {
    "duration": 16,
    "start_time": "2022-01-05T14:08:19.724Z"
   },
   {
    "duration": 11,
    "start_time": "2022-01-05T14:08:19.742Z"
   },
   {
    "duration": 34,
    "start_time": "2022-01-05T14:08:19.756Z"
   },
   {
    "duration": 234,
    "start_time": "2022-01-05T14:09:14.591Z"
   },
   {
    "duration": 28,
    "start_time": "2022-01-05T14:09:16.983Z"
   },
   {
    "duration": 6,
    "start_time": "2022-01-05T14:51:05.112Z"
   },
   {
    "duration": 1175,
    "start_time": "2022-01-05T14:51:19.951Z"
   },
   {
    "duration": 515,
    "start_time": "2022-01-05T14:51:21.129Z"
   },
   {
    "duration": 50,
    "start_time": "2022-01-05T14:51:21.646Z"
   },
   {
    "duration": 38,
    "start_time": "2022-01-05T14:51:21.699Z"
   },
   {
    "duration": 29,
    "start_time": "2022-01-05T14:51:21.739Z"
   },
   {
    "duration": 11,
    "start_time": "2022-01-05T14:51:21.771Z"
   },
   {
    "duration": 51,
    "start_time": "2022-01-05T14:51:21.785Z"
   },
   {
    "duration": 113,
    "start_time": "2022-01-05T14:51:21.839Z"
   },
   {
    "duration": 5,
    "start_time": "2022-01-05T14:51:21.954Z"
   },
   {
    "duration": 14,
    "start_time": "2022-01-05T14:51:21.961Z"
   },
   {
    "duration": 12,
    "start_time": "2022-01-05T14:51:21.977Z"
   },
   {
    "duration": 8,
    "start_time": "2022-01-05T14:51:21.991Z"
   },
   {
    "duration": 6,
    "start_time": "2022-01-05T14:51:22.024Z"
   },
   {
    "duration": 103,
    "start_time": "2022-01-05T14:51:22.032Z"
   },
   {
    "duration": 71,
    "start_time": "2022-01-05T14:51:22.138Z"
   },
   {
    "duration": 4,
    "start_time": "2022-01-05T14:51:22.224Z"
   },
   {
    "duration": 19,
    "start_time": "2022-01-05T14:51:22.230Z"
   },
   {
    "duration": 30,
    "start_time": "2022-01-05T14:51:22.254Z"
   },
   {
    "duration": 3,
    "start_time": "2022-01-05T14:51:22.287Z"
   },
   {
    "duration": 36,
    "start_time": "2022-01-05T14:51:22.293Z"
   },
   {
    "duration": 29,
    "start_time": "2022-01-05T14:51:22.332Z"
   },
   {
    "duration": 4,
    "start_time": "2022-01-05T14:51:22.363Z"
   },
   {
    "duration": 8,
    "start_time": "2022-01-05T14:51:22.369Z"
   },
   {
    "duration": 44,
    "start_time": "2022-01-05T14:51:22.379Z"
   },
   {
    "duration": 16,
    "start_time": "2022-01-05T14:51:22.425Z"
   },
   {
    "duration": 18,
    "start_time": "2022-01-05T14:51:22.443Z"
   },
   {
    "duration": 5,
    "start_time": "2022-01-05T14:51:22.464Z"
   },
   {
    "duration": 13,
    "start_time": "2022-01-05T14:51:22.471Z"
   },
   {
    "duration": 41,
    "start_time": "2022-01-05T14:51:22.486Z"
   },
   {
    "duration": 239,
    "start_time": "2022-01-05T14:51:22.529Z"
   },
   {
    "duration": 25,
    "start_time": "2022-01-05T14:51:22.771Z"
   },
   {
    "duration": 4,
    "start_time": "2022-01-05T15:11:55.986Z"
   },
   {
    "duration": 500,
    "start_time": "2022-01-05T15:11:55.992Z"
   },
   {
    "duration": 39,
    "start_time": "2022-01-05T15:11:56.495Z"
   },
   {
    "duration": 33,
    "start_time": "2022-01-05T15:11:56.537Z"
   },
   {
    "duration": 52,
    "start_time": "2022-01-05T15:11:56.572Z"
   },
   {
    "duration": 10,
    "start_time": "2022-01-05T15:11:56.626Z"
   },
   {
    "duration": 86,
    "start_time": "2022-01-05T15:11:56.640Z"
   },
   {
    "duration": 98,
    "start_time": "2022-01-05T15:11:56.729Z"
   },
   {
    "duration": 5,
    "start_time": "2022-01-05T15:11:56.829Z"
   },
   {
    "duration": 12,
    "start_time": "2022-01-05T15:11:56.837Z"
   },
   {
    "duration": 30,
    "start_time": "2022-01-05T15:11:56.851Z"
   },
   {
    "duration": 8,
    "start_time": "2022-01-05T15:11:56.884Z"
   },
   {
    "duration": 10,
    "start_time": "2022-01-05T15:11:56.894Z"
   },
   {
    "duration": 87,
    "start_time": "2022-01-05T15:11:56.906Z"
   },
   {
    "duration": 85,
    "start_time": "2022-01-05T15:11:56.995Z"
   },
   {
    "duration": 3,
    "start_time": "2022-01-05T15:11:57.083Z"
   },
   {
    "duration": 13,
    "start_time": "2022-01-05T15:11:57.089Z"
   },
   {
    "duration": 32,
    "start_time": "2022-01-05T15:11:57.124Z"
   },
   {
    "duration": 4,
    "start_time": "2022-01-05T15:11:57.160Z"
   },
   {
    "duration": 14,
    "start_time": "2022-01-05T15:11:57.166Z"
   },
   {
    "duration": 53,
    "start_time": "2022-01-05T15:11:57.183Z"
   },
   {
    "duration": 3,
    "start_time": "2022-01-05T15:11:57.239Z"
   },
   {
    "duration": 8,
    "start_time": "2022-01-05T15:11:57.244Z"
   },
   {
    "duration": 12,
    "start_time": "2022-01-05T15:11:57.254Z"
   },
   {
    "duration": 14,
    "start_time": "2022-01-05T15:11:57.268Z"
   },
   {
    "duration": 46,
    "start_time": "2022-01-05T15:11:57.284Z"
   },
   {
    "duration": 6,
    "start_time": "2022-01-05T15:11:57.332Z"
   },
   {
    "duration": 13,
    "start_time": "2022-01-05T15:11:57.340Z"
   },
   {
    "duration": 7,
    "start_time": "2022-01-05T15:11:57.355Z"
   },
   {
    "duration": 259,
    "start_time": "2022-01-05T15:11:57.364Z"
   },
   {
    "duration": 23,
    "start_time": "2022-01-05T15:11:57.625Z"
   },
   {
    "duration": 12,
    "start_time": "2022-01-05T15:13:07.359Z"
   },
   {
    "duration": 7495,
    "start_time": "2022-01-05T15:14:04.573Z"
   },
   {
    "duration": 404,
    "start_time": "2022-01-05T15:14:11.667Z"
   },
   {
    "duration": 4,
    "start_time": "2022-01-05T15:14:22.158Z"
   },
   {
    "duration": 495,
    "start_time": "2022-01-05T15:14:22.165Z"
   },
   {
    "duration": 41,
    "start_time": "2022-01-05T15:14:22.663Z"
   },
   {
    "duration": 34,
    "start_time": "2022-01-05T15:14:22.707Z"
   },
   {
    "duration": 28,
    "start_time": "2022-01-05T15:14:22.743Z"
   },
   {
    "duration": 10,
    "start_time": "2022-01-05T15:14:22.773Z"
   },
   {
    "duration": 46,
    "start_time": "2022-01-05T15:14:22.785Z"
   },
   {
    "duration": 100,
    "start_time": "2022-01-05T15:14:22.835Z"
   },
   {
    "duration": 4,
    "start_time": "2022-01-05T15:14:22.939Z"
   },
   {
    "duration": 339,
    "start_time": "2022-01-05T15:14:22.946Z"
   },
   {
    "duration": 423,
    "start_time": "2022-01-05T15:14:22.867Z"
   },
   {
    "duration": 419,
    "start_time": "2022-01-05T15:14:22.873Z"
   },
   {
    "duration": 417,
    "start_time": "2022-01-05T15:14:22.876Z"
   },
   {
    "duration": 416,
    "start_time": "2022-01-05T15:14:22.879Z"
   },
   {
    "duration": 407,
    "start_time": "2022-01-05T15:14:22.889Z"
   },
   {
    "duration": 405,
    "start_time": "2022-01-05T15:14:22.893Z"
   },
   {
    "duration": 403,
    "start_time": "2022-01-05T15:14:22.896Z"
   },
   {
    "duration": 394,
    "start_time": "2022-01-05T15:14:22.907Z"
   },
   {
    "duration": 392,
    "start_time": "2022-01-05T15:14:22.911Z"
   },
   {
    "duration": 388,
    "start_time": "2022-01-05T15:14:22.916Z"
   },
   {
    "duration": 380,
    "start_time": "2022-01-05T15:14:22.925Z"
   },
   {
    "duration": 375,
    "start_time": "2022-01-05T15:14:22.932Z"
   },
   {
    "duration": 366,
    "start_time": "2022-01-05T15:14:22.942Z"
   },
   {
    "duration": 361,
    "start_time": "2022-01-05T15:14:22.948Z"
   },
   {
    "duration": 351,
    "start_time": "2022-01-05T15:14:22.960Z"
   },
   {
    "duration": 334,
    "start_time": "2022-01-05T15:14:22.978Z"
   },
   {
    "duration": 330,
    "start_time": "2022-01-05T15:14:22.984Z"
   },
   {
    "duration": 314,
    "start_time": "2022-01-05T15:14:23.001Z"
   },
   {
    "duration": 283,
    "start_time": "2022-01-05T15:14:23.033Z"
   },
   {
    "duration": 274,
    "start_time": "2022-01-05T15:14:23.043Z"
   },
   {
    "duration": 267,
    "start_time": "2022-01-05T15:14:23.051Z"
   },
   {
    "duration": 264,
    "start_time": "2022-01-05T15:14:23.056Z"
   },
   {
    "duration": 5,
    "start_time": "2022-01-05T15:14:44.283Z"
   },
   {
    "duration": 12,
    "start_time": "2022-01-05T15:14:46.048Z"
   },
   {
    "duration": 5,
    "start_time": "2022-01-05T15:15:14.404Z"
   },
   {
    "duration": 485,
    "start_time": "2022-01-05T15:15:14.412Z"
   },
   {
    "duration": 40,
    "start_time": "2022-01-05T15:15:14.900Z"
   },
   {
    "duration": 33,
    "start_time": "2022-01-05T15:15:14.942Z"
   },
   {
    "duration": 53,
    "start_time": "2022-01-05T15:15:14.978Z"
   },
   {
    "duration": 11,
    "start_time": "2022-01-05T15:15:15.033Z"
   },
   {
    "duration": 23,
    "start_time": "2022-01-05T15:15:15.047Z"
   },
   {
    "duration": 120,
    "start_time": "2022-01-05T15:15:15.075Z"
   },
   {
    "duration": 5,
    "start_time": "2022-01-05T15:15:15.198Z"
   },
   {
    "duration": 18,
    "start_time": "2022-01-05T15:15:15.206Z"
   },
   {
    "duration": 19,
    "start_time": "2022-01-05T15:15:15.226Z"
   },
   {
    "duration": 9,
    "start_time": "2022-01-05T15:15:15.248Z"
   },
   {
    "duration": 7,
    "start_time": "2022-01-05T15:15:15.260Z"
   },
   {
    "duration": 101,
    "start_time": "2022-01-05T15:15:15.269Z"
   },
   {
    "duration": 76,
    "start_time": "2022-01-05T15:15:15.372Z"
   },
   {
    "duration": 3,
    "start_time": "2022-01-05T15:15:15.451Z"
   },
   {
    "duration": 14,
    "start_time": "2022-01-05T15:15:15.457Z"
   },
   {
    "duration": 56,
    "start_time": "2022-01-05T15:15:15.473Z"
   },
   {
    "duration": 3,
    "start_time": "2022-01-05T15:15:15.532Z"
   },
   {
    "duration": 15,
    "start_time": "2022-01-05T15:15:15.538Z"
   },
   {
    "duration": 26,
    "start_time": "2022-01-05T15:15:15.556Z"
   },
   {
    "duration": 4,
    "start_time": "2022-01-05T15:15:15.584Z"
   },
   {
    "duration": 33,
    "start_time": "2022-01-05T15:15:15.592Z"
   },
   {
    "duration": 13,
    "start_time": "2022-01-05T15:15:15.628Z"
   },
   {
    "duration": 14,
    "start_time": "2022-01-05T15:15:15.644Z"
   },
   {
    "duration": 14,
    "start_time": "2022-01-05T15:15:15.661Z"
   },
   {
    "duration": 6,
    "start_time": "2022-01-05T15:15:15.677Z"
   },
   {
    "duration": 48,
    "start_time": "2022-01-05T15:15:15.685Z"
   },
   {
    "duration": 9,
    "start_time": "2022-01-05T15:15:15.735Z"
   },
   {
    "duration": 255,
    "start_time": "2022-01-05T15:15:15.747Z"
   },
   {
    "duration": 33,
    "start_time": "2022-01-05T15:15:16.005Z"
   },
   {
    "duration": 24,
    "start_time": "2022-01-05T15:18:09.957Z"
   },
   {
    "duration": 280,
    "start_time": "2022-01-05T15:29:45.489Z"
   },
   {
    "duration": 8,
    "start_time": "2022-01-05T15:29:54.528Z"
   },
   {
    "duration": 20,
    "start_time": "2022-01-05T15:31:32.630Z"
   },
   {
    "duration": 48,
    "start_time": "2022-01-05T15:31:40.748Z"
   },
   {
    "duration": 285,
    "start_time": "2022-01-05T15:36:11.226Z"
   },
   {
    "duration": 96,
    "start_time": "2022-01-05T15:36:19.904Z"
   },
   {
    "duration": 5,
    "start_time": "2022-01-05T15:37:12.191Z"
   },
   {
    "duration": 523,
    "start_time": "2022-01-05T15:37:12.199Z"
   },
   {
    "duration": 41,
    "start_time": "2022-01-05T15:37:12.726Z"
   },
   {
    "duration": 55,
    "start_time": "2022-01-05T15:37:12.770Z"
   },
   {
    "duration": 31,
    "start_time": "2022-01-05T15:37:12.827Z"
   },
   {
    "duration": 10,
    "start_time": "2022-01-05T15:37:12.861Z"
   },
   {
    "duration": 62,
    "start_time": "2022-01-05T15:37:12.874Z"
   },
   {
    "duration": 105,
    "start_time": "2022-01-05T15:37:12.939Z"
   },
   {
    "duration": 5,
    "start_time": "2022-01-05T15:37:13.048Z"
   },
   {
    "duration": 6,
    "start_time": "2022-01-05T15:37:13.056Z"
   },
   {
    "duration": 14,
    "start_time": "2022-01-05T15:37:13.064Z"
   },
   {
    "duration": 11,
    "start_time": "2022-01-05T15:37:13.081Z"
   },
   {
    "duration": 35,
    "start_time": "2022-01-05T15:37:13.095Z"
   },
   {
    "duration": 114,
    "start_time": "2022-01-05T15:37:13.133Z"
   },
   {
    "duration": 83,
    "start_time": "2022-01-05T15:37:13.250Z"
   },
   {
    "duration": 4,
    "start_time": "2022-01-05T15:37:13.335Z"
   },
   {
    "duration": 17,
    "start_time": "2022-01-05T15:37:13.342Z"
   },
   {
    "duration": 73,
    "start_time": "2022-01-05T15:37:13.363Z"
   },
   {
    "duration": 5,
    "start_time": "2022-01-05T15:37:13.439Z"
   },
   {
    "duration": 20,
    "start_time": "2022-01-05T15:37:13.447Z"
   },
   {
    "duration": 58,
    "start_time": "2022-01-05T15:37:13.471Z"
   },
   {
    "duration": 4,
    "start_time": "2022-01-05T15:37:13.533Z"
   },
   {
    "duration": 8,
    "start_time": "2022-01-05T15:37:13.541Z"
   },
   {
    "duration": 13,
    "start_time": "2022-01-05T15:37:13.551Z"
   },
   {
    "duration": 17,
    "start_time": "2022-01-05T15:37:13.566Z"
   },
   {
    "duration": 49,
    "start_time": "2022-01-05T15:37:13.586Z"
   },
   {
    "duration": 6,
    "start_time": "2022-01-05T15:37:13.639Z"
   },
   {
    "duration": 18,
    "start_time": "2022-01-05T15:37:13.647Z"
   },
   {
    "duration": 8,
    "start_time": "2022-01-05T15:37:13.668Z"
   },
   {
    "duration": 273,
    "start_time": "2022-01-05T15:37:13.678Z"
   },
   {
    "duration": 80,
    "start_time": "2022-01-05T15:37:13.953Z"
   },
   {
    "duration": 7,
    "start_time": "2022-01-05T15:37:14.036Z"
   },
   {
    "duration": 48,
    "start_time": "2022-01-05T15:37:14.045Z"
   },
   {
    "duration": 38,
    "start_time": "2022-01-05T15:37:56.919Z"
   },
   {
    "duration": 6,
    "start_time": "2022-01-05T15:39:15.784Z"
   },
   {
    "duration": 6,
    "start_time": "2022-01-05T15:39:33.367Z"
   },
   {
    "duration": 50,
    "start_time": "2022-01-05T15:42:49.736Z"
   },
   {
    "duration": 1184,
    "start_time": "2022-01-05T15:43:37.650Z"
   },
   {
    "duration": 733,
    "start_time": "2022-01-05T15:43:38.837Z"
   },
   {
    "duration": 82,
    "start_time": "2022-01-05T15:43:39.575Z"
   },
   {
    "duration": 36,
    "start_time": "2022-01-05T15:43:39.660Z"
   },
   {
    "duration": 50,
    "start_time": "2022-01-05T15:43:39.698Z"
   },
   {
    "duration": 11,
    "start_time": "2022-01-05T15:43:39.751Z"
   },
   {
    "duration": 22,
    "start_time": "2022-01-05T15:43:39.765Z"
   },
   {
    "duration": 106,
    "start_time": "2022-01-05T15:43:39.824Z"
   },
   {
    "duration": 6,
    "start_time": "2022-01-05T15:43:39.933Z"
   },
   {
    "duration": 13,
    "start_time": "2022-01-05T15:43:39.941Z"
   },
   {
    "duration": 11,
    "start_time": "2022-01-05T15:43:39.956Z"
   },
   {
    "duration": 20,
    "start_time": "2022-01-05T15:43:39.971Z"
   },
   {
    "duration": 32,
    "start_time": "2022-01-05T15:43:39.995Z"
   },
   {
    "duration": 127,
    "start_time": "2022-01-05T15:43:40.031Z"
   },
   {
    "duration": 106,
    "start_time": "2022-01-05T15:43:40.161Z"
   },
   {
    "duration": 4,
    "start_time": "2022-01-05T15:43:40.269Z"
   },
   {
    "duration": 28,
    "start_time": "2022-01-05T15:43:40.275Z"
   },
   {
    "duration": 42,
    "start_time": "2022-01-05T15:43:40.306Z"
   },
   {
    "duration": 4,
    "start_time": "2022-01-05T15:43:40.351Z"
   },
   {
    "duration": 16,
    "start_time": "2022-01-05T15:43:40.357Z"
   },
   {
    "duration": 48,
    "start_time": "2022-01-05T15:43:40.375Z"
   },
   {
    "duration": 4,
    "start_time": "2022-01-05T15:43:40.426Z"
   },
   {
    "duration": 5,
    "start_time": "2022-01-05T15:43:40.435Z"
   },
   {
    "duration": 16,
    "start_time": "2022-01-05T15:43:40.443Z"
   },
   {
    "duration": 15,
    "start_time": "2022-01-05T15:43:40.462Z"
   },
   {
    "duration": 46,
    "start_time": "2022-01-05T15:43:40.480Z"
   },
   {
    "duration": 6,
    "start_time": "2022-01-05T15:43:40.528Z"
   },
   {
    "duration": 17,
    "start_time": "2022-01-05T15:43:40.537Z"
   },
   {
    "duration": 9,
    "start_time": "2022-01-05T15:43:40.557Z"
   },
   {
    "duration": 267,
    "start_time": "2022-01-05T15:43:40.569Z"
   },
   {
    "duration": 38,
    "start_time": "2022-01-05T15:43:40.839Z"
   },
   {
    "duration": 7,
    "start_time": "2022-01-05T15:43:40.880Z"
   },
   {
    "duration": 72,
    "start_time": "2022-01-05T15:43:40.889Z"
   },
   {
    "duration": 36,
    "start_time": "2022-01-05T15:44:50.693Z"
   },
   {
    "duration": 40,
    "start_time": "2022-01-05T15:45:09.992Z"
   },
   {
    "duration": 39,
    "start_time": "2022-01-05T15:45:21.469Z"
   },
   {
    "duration": 38,
    "start_time": "2022-01-05T15:45:25.358Z"
   },
   {
    "duration": 298,
    "start_time": "2022-01-06T09:12:14.613Z"
   },
   {
    "duration": 1364,
    "start_time": "2022-01-06T09:12:27.819Z"
   },
   {
    "duration": 406,
    "start_time": "2022-01-06T09:12:29.185Z"
   },
   {
    "duration": 80,
    "start_time": "2022-01-06T09:12:29.595Z"
   },
   {
    "duration": 25,
    "start_time": "2022-01-06T09:12:29.677Z"
   },
   {
    "duration": 31,
    "start_time": "2022-01-06T09:12:29.704Z"
   },
   {
    "duration": 7,
    "start_time": "2022-01-06T09:12:29.737Z"
   },
   {
    "duration": 23,
    "start_time": "2022-01-06T09:12:29.746Z"
   },
   {
    "duration": 112,
    "start_time": "2022-01-06T09:12:29.771Z"
   },
   {
    "duration": 4,
    "start_time": "2022-01-06T09:12:29.885Z"
   },
   {
    "duration": 17,
    "start_time": "2022-01-06T09:12:29.890Z"
   },
   {
    "duration": 17,
    "start_time": "2022-01-06T09:12:29.909Z"
   },
   {
    "duration": 20,
    "start_time": "2022-01-06T09:12:29.928Z"
   },
   {
    "duration": 14,
    "start_time": "2022-01-06T09:12:29.951Z"
   },
   {
    "duration": 86,
    "start_time": "2022-01-06T09:12:29.966Z"
   },
   {
    "duration": 76,
    "start_time": "2022-01-06T09:12:30.054Z"
   },
   {
    "duration": 3,
    "start_time": "2022-01-06T09:12:30.133Z"
   },
   {
    "duration": 23,
    "start_time": "2022-01-06T09:12:30.138Z"
   },
   {
    "duration": 52,
    "start_time": "2022-01-06T09:12:30.163Z"
   },
   {
    "duration": 3,
    "start_time": "2022-01-06T09:12:30.218Z"
   },
   {
    "duration": 25,
    "start_time": "2022-01-06T09:12:30.224Z"
   },
   {
    "duration": 62,
    "start_time": "2022-01-06T09:12:30.252Z"
   },
   {
    "duration": 3,
    "start_time": "2022-01-06T09:12:30.319Z"
   },
   {
    "duration": 35,
    "start_time": "2022-01-06T09:12:30.324Z"
   },
   {
    "duration": 32,
    "start_time": "2022-01-06T09:12:30.361Z"
   },
   {
    "duration": 28,
    "start_time": "2022-01-06T09:12:30.396Z"
   },
   {
    "duration": 30,
    "start_time": "2022-01-06T09:12:30.427Z"
   },
   {
    "duration": 5,
    "start_time": "2022-01-06T09:12:30.459Z"
   },
   {
    "duration": 29,
    "start_time": "2022-01-06T09:12:30.465Z"
   },
   {
    "duration": 28,
    "start_time": "2022-01-06T09:12:30.496Z"
   },
   {
    "duration": 175,
    "start_time": "2022-01-06T09:12:30.526Z"
   },
   {
    "duration": 26,
    "start_time": "2022-01-06T09:12:30.703Z"
   },
   {
    "duration": 19,
    "start_time": "2022-01-06T09:12:30.731Z"
   },
   {
    "duration": 43,
    "start_time": "2022-01-06T09:12:30.752Z"
   },
   {
    "duration": 8,
    "start_time": "2022-01-06T09:12:30.797Z"
   },
   {
    "duration": 5,
    "start_time": "2022-01-06T09:16:58.115Z"
   },
   {
    "duration": 23,
    "start_time": "2022-01-06T09:17:19.000Z"
   },
   {
    "duration": 5,
    "start_time": "2022-01-06T09:17:35.950Z"
   },
   {
    "duration": 4,
    "start_time": "2022-01-06T09:18:03.325Z"
   },
   {
    "duration": 5,
    "start_time": "2022-01-06T09:19:44.640Z"
   },
   {
    "duration": 4,
    "start_time": "2022-01-06T09:20:38.930Z"
   },
   {
    "duration": 4,
    "start_time": "2022-01-06T09:21:44.248Z"
   },
   {
    "duration": 6878,
    "start_time": "2022-01-06T09:22:41.942Z"
   },
   {
    "duration": 1992,
    "start_time": "2022-01-06T09:23:09.793Z"
   },
   {
    "duration": 4,
    "start_time": "2022-01-06T09:24:01.568Z"
   },
   {
    "duration": 6,
    "start_time": "2022-01-06T09:27:59.675Z"
   },
   {
    "duration": 32,
    "start_time": "2022-01-06T09:28:01.526Z"
   },
   {
    "duration": 4,
    "start_time": "2022-01-06T09:31:43.130Z"
   },
   {
    "duration": 5,
    "start_time": "2022-01-06T09:31:45.284Z"
   },
   {
    "duration": 4,
    "start_time": "2022-01-06T09:31:47.242Z"
   },
   {
    "duration": 879,
    "start_time": "2022-01-06T09:38:13.327Z"
   },
   {
    "duration": 1019,
    "start_time": "2022-01-06T09:38:31.541Z"
   },
   {
    "duration": 5066,
    "start_time": "2022-01-06T09:38:49.273Z"
   },
   {
    "duration": 1145,
    "start_time": "2022-01-06T09:38:59.141Z"
   },
   {
    "duration": 221,
    "start_time": "2022-01-06T09:39:28.635Z"
   },
   {
    "duration": 632,
    "start_time": "2022-01-06T09:43:31.512Z"
   },
   {
    "duration": 536,
    "start_time": "2022-01-06T09:43:40.078Z"
   },
   {
    "duration": 465,
    "start_time": "2022-01-06T09:44:14.139Z"
   },
   {
    "duration": 199,
    "start_time": "2022-01-06T09:44:31.164Z"
   },
   {
    "duration": 199,
    "start_time": "2022-01-06T09:44:46.079Z"
   },
   {
    "duration": 457,
    "start_time": "2022-01-06T09:46:01.175Z"
   },
   {
    "duration": 199,
    "start_time": "2022-01-06T09:46:14.635Z"
   },
   {
    "duration": 433,
    "start_time": "2022-01-06T09:48:41.134Z"
   },
   {
    "duration": 427,
    "start_time": "2022-01-06T09:49:17.013Z"
   },
   {
    "duration": 422,
    "start_time": "2022-01-06T09:56:47.797Z"
   },
   {
    "duration": 420,
    "start_time": "2022-01-06T09:56:56.988Z"
   },
   {
    "duration": 4,
    "start_time": "2022-01-06T10:02:14.689Z"
   },
   {
    "duration": 5,
    "start_time": "2022-01-06T10:02:23.403Z"
   },
   {
    "duration": 4,
    "start_time": "2022-01-06T10:02:29.542Z"
   },
   {
    "duration": 5,
    "start_time": "2022-01-06T10:02:34.895Z"
   },
   {
    "duration": 5,
    "start_time": "2022-01-06T10:02:40.268Z"
   },
   {
    "duration": 4,
    "start_time": "2022-01-06T10:03:08.273Z"
   },
   {
    "duration": 4,
    "start_time": "2022-01-06T10:03:14.814Z"
   },
   {
    "duration": 4,
    "start_time": "2022-01-06T10:03:19.507Z"
   },
   {
    "duration": 3,
    "start_time": "2022-01-06T10:16:07.866Z"
   },
   {
    "duration": 408,
    "start_time": "2022-01-06T10:18:03.464Z"
   },
   {
    "duration": 372,
    "start_time": "2022-01-06T10:27:26.792Z"
   },
   {
    "duration": 1027,
    "start_time": "2022-01-06T10:27:59.106Z"
   },
   {
    "duration": 388,
    "start_time": "2022-01-06T10:28:00.135Z"
   },
   {
    "duration": 38,
    "start_time": "2022-01-06T10:28:00.528Z"
   },
   {
    "duration": 27,
    "start_time": "2022-01-06T10:28:00.568Z"
   },
   {
    "duration": 30,
    "start_time": "2022-01-06T10:28:00.598Z"
   },
   {
    "duration": 35,
    "start_time": "2022-01-06T10:28:00.630Z"
   },
   {
    "duration": 23,
    "start_time": "2022-01-06T10:28:00.669Z"
   },
   {
    "duration": 88,
    "start_time": "2022-01-06T10:28:00.694Z"
   },
   {
    "duration": 4,
    "start_time": "2022-01-06T10:28:00.784Z"
   },
   {
    "duration": 26,
    "start_time": "2022-01-06T10:28:00.790Z"
   },
   {
    "duration": 13,
    "start_time": "2022-01-06T10:28:00.818Z"
   },
   {
    "duration": 10,
    "start_time": "2022-01-06T10:28:00.833Z"
   },
   {
    "duration": 12,
    "start_time": "2022-01-06T10:28:00.844Z"
   },
   {
    "duration": 69,
    "start_time": "2022-01-06T10:28:00.858Z"
   },
   {
    "duration": 60,
    "start_time": "2022-01-06T10:28:00.929Z"
   },
   {
    "duration": 3,
    "start_time": "2022-01-06T10:28:00.991Z"
   },
   {
    "duration": 14,
    "start_time": "2022-01-06T10:28:00.995Z"
   },
   {
    "duration": 37,
    "start_time": "2022-01-06T10:28:01.011Z"
   },
   {
    "duration": 3,
    "start_time": "2022-01-06T10:28:01.050Z"
   },
   {
    "duration": 19,
    "start_time": "2022-01-06T10:28:01.054Z"
   },
   {
    "duration": 39,
    "start_time": "2022-01-06T10:28:01.075Z"
   },
   {
    "duration": 7,
    "start_time": "2022-01-06T10:28:01.118Z"
   },
   {
    "duration": 24,
    "start_time": "2022-01-06T10:28:01.127Z"
   },
   {
    "duration": 19,
    "start_time": "2022-01-06T10:28:01.153Z"
   },
   {
    "duration": 44,
    "start_time": "2022-01-06T10:28:01.174Z"
   },
   {
    "duration": 97,
    "start_time": "2022-01-06T10:28:01.220Z"
   },
   {
    "duration": 37,
    "start_time": "2022-01-06T10:28:01.319Z"
   },
   {
    "duration": 42,
    "start_time": "2022-01-06T10:28:01.358Z"
   },
   {
    "duration": 9,
    "start_time": "2022-01-06T10:28:01.402Z"
   },
   {
    "duration": 195,
    "start_time": "2022-01-06T10:28:01.412Z"
   },
   {
    "duration": 29,
    "start_time": "2022-01-06T10:28:01.609Z"
   },
   {
    "duration": 21,
    "start_time": "2022-01-06T10:28:01.641Z"
   },
   {
    "duration": 36,
    "start_time": "2022-01-06T10:28:01.664Z"
   },
   {
    "duration": 5,
    "start_time": "2022-01-06T10:28:01.702Z"
   },
   {
    "duration": 11,
    "start_time": "2022-01-06T10:28:01.709Z"
   },
   {
    "duration": 7,
    "start_time": "2022-01-06T10:28:01.722Z"
   },
   {
    "duration": 32,
    "start_time": "2022-01-06T10:28:01.730Z"
   },
   {
    "duration": 32,
    "start_time": "2022-01-06T10:28:01.764Z"
   },
   {
    "duration": 4,
    "start_time": "2022-01-06T10:28:01.798Z"
   },
   {
    "duration": 22,
    "start_time": "2022-01-06T10:28:01.804Z"
   },
   {
    "duration": 10,
    "start_time": "2022-01-06T10:28:01.828Z"
   },
   {
    "duration": 490,
    "start_time": "2022-01-06T10:28:01.840Z"
   },
   {
    "duration": 144,
    "start_time": "2022-01-06T10:28:02.332Z"
   },
   {
    "duration": 136,
    "start_time": "2022-01-06T10:28:02.478Z"
   },
   {
    "duration": 6,
    "start_time": "2022-01-06T10:35:27.890Z"
   },
   {
    "duration": 207,
    "start_time": "2022-01-06T10:36:00.629Z"
   },
   {
    "duration": 128,
    "start_time": "2022-01-06T10:36:03.482Z"
   },
   {
    "duration": 354,
    "start_time": "2022-01-06T10:36:08.449Z"
   },
   {
    "duration": 205,
    "start_time": "2022-01-06T10:36:33.612Z"
   },
   {
    "duration": 205,
    "start_time": "2022-01-06T10:36:36.015Z"
   },
   {
    "duration": 6,
    "start_time": "2022-01-06T10:37:14.173Z"
   },
   {
    "duration": 6,
    "start_time": "2022-01-06T10:39:15.233Z"
   },
   {
    "duration": 25,
    "start_time": "2022-01-06T10:39:32.774Z"
   },
   {
    "duration": 1085,
    "start_time": "2022-01-06T10:40:51.846Z"
   },
   {
    "duration": 426,
    "start_time": "2022-01-06T10:40:52.933Z"
   },
   {
    "duration": 36,
    "start_time": "2022-01-06T10:40:53.361Z"
   },
   {
    "duration": 26,
    "start_time": "2022-01-06T10:40:53.399Z"
   },
   {
    "duration": 44,
    "start_time": "2022-01-06T10:40:53.427Z"
   },
   {
    "duration": 8,
    "start_time": "2022-01-06T10:40:53.473Z"
   },
   {
    "duration": 15,
    "start_time": "2022-01-06T10:40:53.483Z"
   },
   {
    "duration": 103,
    "start_time": "2022-01-06T10:40:53.501Z"
   },
   {
    "duration": 5,
    "start_time": "2022-01-06T10:40:53.606Z"
   },
   {
    "duration": 10,
    "start_time": "2022-01-06T10:40:53.612Z"
   },
   {
    "duration": 8,
    "start_time": "2022-01-06T10:40:53.624Z"
   },
   {
    "duration": 9,
    "start_time": "2022-01-06T10:40:53.634Z"
   },
   {
    "duration": 5,
    "start_time": "2022-01-06T10:40:53.661Z"
   },
   {
    "duration": 63,
    "start_time": "2022-01-06T10:40:53.668Z"
   },
   {
    "duration": 73,
    "start_time": "2022-01-06T10:40:53.733Z"
   },
   {
    "duration": 2,
    "start_time": "2022-01-06T10:40:53.808Z"
   },
   {
    "duration": 11,
    "start_time": "2022-01-06T10:40:53.812Z"
   },
   {
    "duration": 42,
    "start_time": "2022-01-06T10:40:53.827Z"
   },
   {
    "duration": 2,
    "start_time": "2022-01-06T10:40:53.871Z"
   },
   {
    "duration": 15,
    "start_time": "2022-01-06T10:40:53.875Z"
   },
   {
    "duration": 23,
    "start_time": "2022-01-06T10:40:53.891Z"
   },
   {
    "duration": 3,
    "start_time": "2022-01-06T10:40:53.915Z"
   },
   {
    "duration": 4,
    "start_time": "2022-01-06T10:40:53.922Z"
   },
   {
    "duration": 36,
    "start_time": "2022-01-06T10:40:53.928Z"
   },
   {
    "duration": 20,
    "start_time": "2022-01-06T10:40:53.966Z"
   },
   {
    "duration": 14,
    "start_time": "2022-01-06T10:40:53.988Z"
   },
   {
    "duration": 4,
    "start_time": "2022-01-06T10:40:54.005Z"
   },
   {
    "duration": 14,
    "start_time": "2022-01-06T10:40:54.011Z"
   },
   {
    "duration": 6,
    "start_time": "2022-01-06T10:40:54.027Z"
   },
   {
    "duration": 177,
    "start_time": "2022-01-06T10:40:54.035Z"
   },
   {
    "duration": 29,
    "start_time": "2022-01-06T10:40:54.214Z"
   },
   {
    "duration": 18,
    "start_time": "2022-01-06T10:40:54.245Z"
   },
   {
    "duration": 33,
    "start_time": "2022-01-06T10:40:54.265Z"
   },
   {
    "duration": 5,
    "start_time": "2022-01-06T10:40:54.300Z"
   },
   {
    "duration": 6,
    "start_time": "2022-01-06T10:40:54.307Z"
   },
   {
    "duration": 6,
    "start_time": "2022-01-06T10:40:54.315Z"
   },
   {
    "duration": 45,
    "start_time": "2022-01-06T10:40:54.323Z"
   },
   {
    "duration": 33,
    "start_time": "2022-01-06T10:40:54.370Z"
   },
   {
    "duration": 4,
    "start_time": "2022-01-06T10:40:54.404Z"
   },
   {
    "duration": 8,
    "start_time": "2022-01-06T10:40:54.410Z"
   },
   {
    "duration": 4,
    "start_time": "2022-01-06T10:40:54.420Z"
   },
   {
    "duration": 237,
    "start_time": "2022-01-06T10:40:54.426Z"
   },
   {
    "duration": 136,
    "start_time": "2022-01-06T10:40:54.664Z"
   },
   {
    "duration": 224,
    "start_time": "2022-01-06T10:40:54.802Z"
   },
   {
    "duration": 143,
    "start_time": "2022-01-06T10:40:55.028Z"
   },
   {
    "duration": 4,
    "start_time": "2022-01-06T10:44:39.478Z"
   },
   {
    "duration": 4,
    "start_time": "2022-01-06T10:45:28.363Z"
   },
   {
    "duration": 119,
    "start_time": "2022-01-06T10:47:32.743Z"
   },
   {
    "duration": 3,
    "start_time": "2022-01-06T10:47:43.964Z"
   },
   {
    "duration": 408,
    "start_time": "2022-01-06T10:47:43.971Z"
   },
   {
    "duration": 30,
    "start_time": "2022-01-06T10:47:44.380Z"
   },
   {
    "duration": 26,
    "start_time": "2022-01-06T10:47:44.412Z"
   },
   {
    "duration": 30,
    "start_time": "2022-01-06T10:47:44.440Z"
   },
   {
    "duration": 7,
    "start_time": "2022-01-06T10:47:44.472Z"
   },
   {
    "duration": 16,
    "start_time": "2022-01-06T10:47:44.480Z"
   },
   {
    "duration": 81,
    "start_time": "2022-01-06T10:47:44.497Z"
   },
   {
    "duration": 4,
    "start_time": "2022-01-06T10:47:44.580Z"
   },
   {
    "duration": 4,
    "start_time": "2022-01-06T10:47:44.586Z"
   },
   {
    "duration": 10,
    "start_time": "2022-01-06T10:47:44.592Z"
   },
   {
    "duration": 12,
    "start_time": "2022-01-06T10:47:44.604Z"
   },
   {
    "duration": 10,
    "start_time": "2022-01-06T10:47:44.617Z"
   },
   {
    "duration": 77,
    "start_time": "2022-01-06T10:47:44.628Z"
   },
   {
    "duration": 60,
    "start_time": "2022-01-06T10:47:44.707Z"
   },
   {
    "duration": 2,
    "start_time": "2022-01-06T10:47:44.769Z"
   },
   {
    "duration": 9,
    "start_time": "2022-01-06T10:47:44.773Z"
   },
   {
    "duration": 26,
    "start_time": "2022-01-06T10:47:44.784Z"
   },
   {
    "duration": 3,
    "start_time": "2022-01-06T10:47:44.811Z"
   },
   {
    "duration": 10,
    "start_time": "2022-01-06T10:47:44.815Z"
   },
   {
    "duration": 43,
    "start_time": "2022-01-06T10:47:44.827Z"
   },
   {
    "duration": 3,
    "start_time": "2022-01-06T10:47:44.872Z"
   },
   {
    "duration": 7,
    "start_time": "2022-01-06T10:47:44.877Z"
   },
   {
    "duration": 11,
    "start_time": "2022-01-06T10:47:44.886Z"
   },
   {
    "duration": 13,
    "start_time": "2022-01-06T10:47:44.899Z"
   },
   {
    "duration": 11,
    "start_time": "2022-01-06T10:47:44.914Z"
   },
   {
    "duration": 4,
    "start_time": "2022-01-06T10:47:44.926Z"
   },
   {
    "duration": 9,
    "start_time": "2022-01-06T10:47:44.962Z"
   },
   {
    "duration": 6,
    "start_time": "2022-01-06T10:47:44.973Z"
   },
   {
    "duration": 168,
    "start_time": "2022-01-06T10:47:44.981Z"
   },
   {
    "duration": 38,
    "start_time": "2022-01-06T10:47:45.151Z"
   },
   {
    "duration": 6,
    "start_time": "2022-01-06T10:47:45.191Z"
   },
   {
    "duration": 32,
    "start_time": "2022-01-06T10:47:45.199Z"
   },
   {
    "duration": 4,
    "start_time": "2022-01-06T10:47:45.233Z"
   },
   {
    "duration": 6,
    "start_time": "2022-01-06T10:47:45.239Z"
   },
   {
    "duration": 5,
    "start_time": "2022-01-06T10:47:45.261Z"
   },
   {
    "duration": 8,
    "start_time": "2022-01-06T10:47:45.268Z"
   },
   {
    "duration": 34,
    "start_time": "2022-01-06T10:47:45.277Z"
   },
   {
    "duration": 4,
    "start_time": "2022-01-06T10:47:45.313Z"
   },
   {
    "duration": 9,
    "start_time": "2022-01-06T10:47:45.319Z"
   },
   {
    "duration": 33,
    "start_time": "2022-01-06T10:47:45.330Z"
   },
   {
    "duration": 224,
    "start_time": "2022-01-06T10:47:45.365Z"
   },
   {
    "duration": 209,
    "start_time": "2022-01-06T10:47:45.590Z"
   },
   {
    "duration": 232,
    "start_time": "2022-01-06T10:47:45.801Z"
   },
   {
    "duration": 169,
    "start_time": "2022-01-06T10:47:46.035Z"
   },
   {
    "duration": 367,
    "start_time": "2022-01-06T10:47:46.260Z"
   },
   {
    "duration": 154,
    "start_time": "2022-01-06T10:47:46.629Z"
   },
   {
    "duration": 386,
    "start_time": "2022-01-06T10:47:46.785Z"
   },
   {
    "duration": 395,
    "start_time": "2022-01-06T10:47:47.174Z"
   },
   {
    "duration": 126,
    "start_time": "2022-01-06T10:50:17.972Z"
   },
   {
    "duration": 124,
    "start_time": "2022-01-06T10:50:22.778Z"
   },
   {
    "duration": 125,
    "start_time": "2022-01-06T10:50:40.181Z"
   },
   {
    "duration": 138,
    "start_time": "2022-01-06T10:50:45.557Z"
   },
   {
    "duration": 322,
    "start_time": "2022-01-06T10:56:00.360Z"
   },
   {
    "duration": 220,
    "start_time": "2022-01-06T10:56:00.685Z"
   },
   {
    "duration": 259,
    "start_time": "2022-01-06T10:56:00.908Z"
   },
   {
    "duration": 156,
    "start_time": "2022-01-06T10:56:01.169Z"
   },
   {
    "duration": 134,
    "start_time": "2022-01-06T10:56:19.569Z"
   },
   {
    "duration": 345,
    "start_time": "2022-01-06T11:01:19.041Z"
   },
   {
    "duration": 2069,
    "start_time": "2022-01-06T11:01:35.403Z"
   },
   {
    "duration": 265,
    "start_time": "2022-01-06T11:01:52.168Z"
   },
   {
    "duration": 222,
    "start_time": "2022-01-06T11:02:40.328Z"
   },
   {
    "duration": 421,
    "start_time": "2022-01-06T11:02:54.104Z"
   },
   {
    "duration": 285,
    "start_time": "2022-01-06T11:06:41.041Z"
   },
   {
    "duration": 349,
    "start_time": "2022-01-06T11:06:46.729Z"
   },
   {
    "duration": 827,
    "start_time": "2022-01-06T11:06:58.270Z"
   },
   {
    "duration": 267,
    "start_time": "2022-01-06T11:07:42.093Z"
   },
   {
    "duration": 329,
    "start_time": "2022-01-06T11:08:14.643Z"
   },
   {
    "duration": 204,
    "start_time": "2022-01-06T11:09:26.378Z"
   },
   {
    "duration": 213,
    "start_time": "2022-01-06T11:13:04.421Z"
   },
   {
    "duration": 204,
    "start_time": "2022-01-06T11:13:34.700Z"
   },
   {
    "duration": 83,
    "start_time": "2022-01-06T11:13:47.514Z"
   },
   {
    "duration": 250,
    "start_time": "2022-01-06T11:13:50.639Z"
   },
   {
    "duration": 107,
    "start_time": "2022-01-06T11:14:02.092Z"
   },
   {
    "duration": 227,
    "start_time": "2022-01-06T11:14:05.495Z"
   },
   {
    "duration": 427,
    "start_time": "2022-01-06T11:15:19.665Z"
   },
   {
    "duration": 245,
    "start_time": "2022-01-06T11:15:26.999Z"
   },
   {
    "duration": 135,
    "start_time": "2022-01-06T11:15:35.225Z"
   },
   {
    "duration": 127,
    "start_time": "2022-01-06T11:15:41.748Z"
   },
   {
    "duration": 132,
    "start_time": "2022-01-06T11:15:48.993Z"
   },
   {
    "duration": 801,
    "start_time": "2022-01-06T11:17:35.044Z"
   },
   {
    "duration": 258,
    "start_time": "2022-01-06T11:23:05.679Z"
   },
   {
    "duration": 1037,
    "start_time": "2022-01-06T12:09:33.711Z"
   },
   {
    "duration": 420,
    "start_time": "2022-01-06T12:09:34.750Z"
   },
   {
    "duration": 34,
    "start_time": "2022-01-06T12:09:35.172Z"
   },
   {
    "duration": 25,
    "start_time": "2022-01-06T12:09:35.208Z"
   },
   {
    "duration": 34,
    "start_time": "2022-01-06T12:09:35.235Z"
   },
   {
    "duration": 9,
    "start_time": "2022-01-06T12:09:35.270Z"
   },
   {
    "duration": 19,
    "start_time": "2022-01-06T12:09:35.280Z"
   },
   {
    "duration": 90,
    "start_time": "2022-01-06T12:09:35.302Z"
   },
   {
    "duration": 5,
    "start_time": "2022-01-06T12:09:35.394Z"
   },
   {
    "duration": 17,
    "start_time": "2022-01-06T12:09:35.400Z"
   },
   {
    "duration": 17,
    "start_time": "2022-01-06T12:09:35.419Z"
   },
   {
    "duration": 20,
    "start_time": "2022-01-06T12:09:35.437Z"
   },
   {
    "duration": 29,
    "start_time": "2022-01-06T12:09:35.458Z"
   },
   {
    "duration": 72,
    "start_time": "2022-01-06T12:09:35.488Z"
   },
   {
    "duration": 57,
    "start_time": "2022-01-06T12:09:35.562Z"
   },
   {
    "duration": 2,
    "start_time": "2022-01-06T12:09:35.621Z"
   },
   {
    "duration": 26,
    "start_time": "2022-01-06T12:09:35.625Z"
   },
   {
    "duration": 39,
    "start_time": "2022-01-06T12:09:35.653Z"
   },
   {
    "duration": 3,
    "start_time": "2022-01-06T12:09:35.694Z"
   },
   {
    "duration": 23,
    "start_time": "2022-01-06T12:09:35.698Z"
   },
   {
    "duration": 39,
    "start_time": "2022-01-06T12:09:35.723Z"
   },
   {
    "duration": 3,
    "start_time": "2022-01-06T12:09:35.764Z"
   },
   {
    "duration": 25,
    "start_time": "2022-01-06T12:09:35.770Z"
   },
   {
    "duration": 22,
    "start_time": "2022-01-06T12:09:35.797Z"
   },
   {
    "duration": 23,
    "start_time": "2022-01-06T12:09:35.821Z"
   },
   {
    "duration": 27,
    "start_time": "2022-01-06T12:09:35.846Z"
   },
   {
    "duration": 24,
    "start_time": "2022-01-06T12:09:35.875Z"
   },
   {
    "duration": 19,
    "start_time": "2022-01-06T12:09:35.901Z"
   },
   {
    "duration": 23,
    "start_time": "2022-01-06T12:09:35.922Z"
   },
   {
    "duration": 154,
    "start_time": "2022-01-06T12:09:35.946Z"
   },
   {
    "duration": 26,
    "start_time": "2022-01-06T12:09:36.101Z"
   },
   {
    "duration": 14,
    "start_time": "2022-01-06T12:09:36.128Z"
   },
   {
    "duration": 42,
    "start_time": "2022-01-06T12:09:36.143Z"
   },
   {
    "duration": 335,
    "start_time": "2022-01-06T12:09:36.187Z"
   },
   {
    "duration": -1534,
    "start_time": "2022-01-06T12:09:38.058Z"
   },
   {
    "duration": -1537,
    "start_time": "2022-01-06T12:09:38.062Z"
   },
   {
    "duration": -1549,
    "start_time": "2022-01-06T12:09:38.075Z"
   },
   {
    "duration": -1553,
    "start_time": "2022-01-06T12:09:38.079Z"
   },
   {
    "duration": -1557,
    "start_time": "2022-01-06T12:09:38.084Z"
   },
   {
    "duration": -1560,
    "start_time": "2022-01-06T12:09:38.088Z"
   },
   {
    "duration": -1564,
    "start_time": "2022-01-06T12:09:38.093Z"
   },
   {
    "duration": -1566,
    "start_time": "2022-01-06T12:09:38.096Z"
   },
   {
    "duration": -1569,
    "start_time": "2022-01-06T12:09:38.100Z"
   },
   {
    "duration": -1572,
    "start_time": "2022-01-06T12:09:38.104Z"
   },
   {
    "duration": -1575,
    "start_time": "2022-01-06T12:09:38.108Z"
   },
   {
    "duration": -1578,
    "start_time": "2022-01-06T12:09:38.112Z"
   },
   {
    "duration": -1582,
    "start_time": "2022-01-06T12:09:38.116Z"
   },
   {
    "duration": -1584,
    "start_time": "2022-01-06T12:09:38.119Z"
   },
   {
    "duration": -1588,
    "start_time": "2022-01-06T12:09:38.124Z"
   },
   {
    "duration": -1590,
    "start_time": "2022-01-06T12:09:38.127Z"
   },
   {
    "duration": 4,
    "start_time": "2022-01-06T12:10:40.403Z"
   },
   {
    "duration": 419,
    "start_time": "2022-01-06T12:10:40.409Z"
   },
   {
    "duration": 30,
    "start_time": "2022-01-06T12:10:40.831Z"
   },
   {
    "duration": 25,
    "start_time": "2022-01-06T12:10:40.863Z"
   },
   {
    "duration": 21,
    "start_time": "2022-01-06T12:10:40.890Z"
   },
   {
    "duration": 7,
    "start_time": "2022-01-06T12:10:40.913Z"
   },
   {
    "duration": 40,
    "start_time": "2022-01-06T12:10:40.922Z"
   },
   {
    "duration": 67,
    "start_time": "2022-01-06T12:10:40.964Z"
   },
   {
    "duration": 4,
    "start_time": "2022-01-06T12:10:41.034Z"
   },
   {
    "duration": 20,
    "start_time": "2022-01-06T12:10:41.040Z"
   },
   {
    "duration": 8,
    "start_time": "2022-01-06T12:10:41.062Z"
   },
   {
    "duration": 7,
    "start_time": "2022-01-06T12:10:41.072Z"
   },
   {
    "duration": 5,
    "start_time": "2022-01-06T12:10:41.081Z"
   },
   {
    "duration": 73,
    "start_time": "2022-01-06T12:10:41.088Z"
   },
   {
    "duration": 53,
    "start_time": "2022-01-06T12:10:41.162Z"
   },
   {
    "duration": 3,
    "start_time": "2022-01-06T12:10:41.217Z"
   },
   {
    "duration": 10,
    "start_time": "2022-01-06T12:10:41.221Z"
   },
   {
    "duration": 43,
    "start_time": "2022-01-06T12:10:41.233Z"
   },
   {
    "duration": 3,
    "start_time": "2022-01-06T12:10:41.277Z"
   },
   {
    "duration": 11,
    "start_time": "2022-01-06T12:10:41.281Z"
   },
   {
    "duration": 20,
    "start_time": "2022-01-06T12:10:41.293Z"
   },
   {
    "duration": 2,
    "start_time": "2022-01-06T12:10:41.315Z"
   },
   {
    "duration": 6,
    "start_time": "2022-01-06T12:10:41.319Z"
   },
   {
    "duration": 10,
    "start_time": "2022-01-06T12:10:41.326Z"
   },
   {
    "duration": 12,
    "start_time": "2022-01-06T12:10:41.361Z"
   },
   {
    "duration": 10,
    "start_time": "2022-01-06T12:10:41.375Z"
   },
   {
    "duration": 5,
    "start_time": "2022-01-06T12:10:41.388Z"
   },
   {
    "duration": 10,
    "start_time": "2022-01-06T12:10:41.395Z"
   },
   {
    "duration": 5,
    "start_time": "2022-01-06T12:10:41.407Z"
   },
   {
    "duration": 174,
    "start_time": "2022-01-06T12:10:41.414Z"
   },
   {
    "duration": 28,
    "start_time": "2022-01-06T12:10:41.590Z"
   },
   {
    "duration": 5,
    "start_time": "2022-01-06T12:10:41.620Z"
   },
   {
    "duration": 51,
    "start_time": "2022-01-06T12:10:41.627Z"
   },
   {
    "duration": 4,
    "start_time": "2022-01-06T12:10:41.680Z"
   },
   {
    "duration": 8,
    "start_time": "2022-01-06T12:10:41.686Z"
   },
   {
    "duration": 11,
    "start_time": "2022-01-06T12:10:41.695Z"
   },
   {
    "duration": 10,
    "start_time": "2022-01-06T12:10:41.707Z"
   },
   {
    "duration": 48,
    "start_time": "2022-01-06T12:10:41.719Z"
   },
   {
    "duration": 4,
    "start_time": "2022-01-06T12:10:41.769Z"
   },
   {
    "duration": 6,
    "start_time": "2022-01-06T12:10:41.775Z"
   },
   {
    "duration": 8,
    "start_time": "2022-01-06T12:10:41.783Z"
   },
   {
    "duration": 278,
    "start_time": "2022-01-06T12:10:41.793Z"
   },
   {
    "duration": 141,
    "start_time": "2022-01-06T12:10:42.073Z"
   },
   {
    "duration": 146,
    "start_time": "2022-01-06T12:10:42.215Z"
   },
   {
    "duration": 289,
    "start_time": "2022-01-06T12:10:42.362Z"
   },
   {
    "duration": 144,
    "start_time": "2022-01-06T12:10:42.661Z"
   },
   {
    "duration": 140,
    "start_time": "2022-01-06T12:10:42.808Z"
   },
   {
    "duration": 358,
    "start_time": "2022-01-06T12:10:42.950Z"
   },
   {
    "duration": 145,
    "start_time": "2022-01-06T12:10:43.310Z"
   },
   {
    "duration": 132,
    "start_time": "2022-01-06T12:10:43.461Z"
   },
   {
    "duration": 190,
    "start_time": "2022-01-06T12:13:07.861Z"
   },
   {
    "duration": 260,
    "start_time": "2022-01-06T12:13:25.796Z"
   },
   {
    "duration": 164,
    "start_time": "2022-01-06T12:13:50.169Z"
   },
   {
    "duration": 371,
    "start_time": "2022-01-06T12:15:31.718Z"
   },
   {
    "duration": 352,
    "start_time": "2022-01-06T12:15:39.702Z"
   },
   {
    "duration": 276,
    "start_time": "2022-01-06T12:15:54.823Z"
   },
   {
    "duration": 5,
    "start_time": "2022-01-06T12:16:36.078Z"
   },
   {
    "duration": 5,
    "start_time": "2022-01-06T12:17:04.450Z"
   },
   {
    "duration": 6,
    "start_time": "2022-01-06T12:17:06.695Z"
   },
   {
    "duration": 9,
    "start_time": "2022-01-06T12:17:09.023Z"
   },
   {
    "duration": 6,
    "start_time": "2022-01-06T12:17:45.177Z"
   },
   {
    "duration": 5,
    "start_time": "2022-01-06T12:17:46.950Z"
   },
   {
    "duration": 5,
    "start_time": "2022-01-06T12:17:48.727Z"
   },
   {
    "duration": 275,
    "start_time": "2022-01-06T12:18:21.313Z"
   },
   {
    "duration": 356,
    "start_time": "2022-01-06T12:20:27.513Z"
   },
   {
    "duration": 496,
    "start_time": "2022-01-06T12:22:01.532Z"
   },
   {
    "duration": 422,
    "start_time": "2022-01-06T12:23:28.030Z"
   },
   {
    "duration": 339,
    "start_time": "2022-01-06T12:23:55.017Z"
   },
   {
    "duration": 385,
    "start_time": "2022-01-06T12:24:13.164Z"
   },
   {
    "duration": 382,
    "start_time": "2022-01-06T12:24:19.889Z"
   },
   {
    "duration": 353,
    "start_time": "2022-01-06T12:24:30.733Z"
   },
   {
    "duration": 317,
    "start_time": "2022-01-06T12:24:52.027Z"
   },
   {
    "duration": 283,
    "start_time": "2022-01-06T12:36:53.892Z"
   },
   {
    "duration": 10,
    "start_time": "2022-01-06T12:36:59.321Z"
   },
   {
    "duration": 93,
    "start_time": "2022-01-06T12:38:34.011Z"
   },
   {
    "duration": 81,
    "start_time": "2022-01-06T12:38:52.738Z"
   },
   {
    "duration": 8,
    "start_time": "2022-01-06T12:38:59.589Z"
   },
   {
    "duration": 5,
    "start_time": "2022-01-06T12:39:24.398Z"
   },
   {
    "duration": 5,
    "start_time": "2022-01-06T12:40:22.853Z"
   },
   {
    "duration": 5,
    "start_time": "2022-01-06T12:40:41.876Z"
   },
   {
    "duration": 5,
    "start_time": "2022-01-06T12:40:57.145Z"
   },
   {
    "duration": 4,
    "start_time": "2022-01-06T12:41:22.133Z"
   },
   {
    "duration": 4,
    "start_time": "2022-01-06T12:43:30.269Z"
   },
   {
    "duration": 4,
    "start_time": "2022-01-06T12:43:33.229Z"
   },
   {
    "duration": 5,
    "start_time": "2022-01-06T12:44:03.749Z"
   },
   {
    "duration": 78,
    "start_time": "2022-01-06T12:44:23.818Z"
   },
   {
    "duration": 86,
    "start_time": "2022-01-06T12:44:31.820Z"
   },
   {
    "duration": 97,
    "start_time": "2022-01-06T12:44:47.642Z"
   },
   {
    "duration": 81,
    "start_time": "2022-01-06T12:44:58.765Z"
   },
   {
    "duration": 81,
    "start_time": "2022-01-06T12:45:03.763Z"
   },
   {
    "duration": 83,
    "start_time": "2022-01-06T12:45:13.833Z"
   },
   {
    "duration": 5,
    "start_time": "2022-01-06T12:45:19.953Z"
   },
   {
    "duration": 4,
    "start_time": "2022-01-06T12:45:28.698Z"
   },
   {
    "duration": 81,
    "start_time": "2022-01-06T12:45:36.208Z"
   },
   {
    "duration": 125,
    "start_time": "2022-01-06T12:45:39.312Z"
   },
   {
    "duration": 4,
    "start_time": "2022-01-06T12:45:53.904Z"
   },
   {
    "duration": 76,
    "start_time": "2022-01-06T12:45:58.873Z"
   },
   {
    "duration": 84,
    "start_time": "2022-01-06T12:46:16.570Z"
   },
   {
    "duration": 5,
    "start_time": "2022-01-06T12:46:21.481Z"
   },
   {
    "duration": 4,
    "start_time": "2022-01-06T12:46:59.711Z"
   },
   {
    "duration": 4,
    "start_time": "2022-01-06T12:47:04.036Z"
   },
   {
    "duration": 3,
    "start_time": "2022-01-06T12:50:02.888Z"
   },
   {
    "duration": 452,
    "start_time": "2022-01-06T12:50:02.893Z"
   },
   {
    "duration": 53,
    "start_time": "2022-01-06T12:50:03.348Z"
   },
   {
    "duration": 42,
    "start_time": "2022-01-06T12:50:03.403Z"
   },
   {
    "duration": 22,
    "start_time": "2022-01-06T12:50:03.460Z"
   },
   {
    "duration": 15,
    "start_time": "2022-01-06T12:50:03.484Z"
   },
   {
    "duration": 32,
    "start_time": "2022-01-06T12:50:03.500Z"
   },
   {
    "duration": 107,
    "start_time": "2022-01-06T12:50:03.534Z"
   },
   {
    "duration": 5,
    "start_time": "2022-01-06T12:50:03.645Z"
   },
   {
    "duration": 15,
    "start_time": "2022-01-06T12:50:03.652Z"
   },
   {
    "duration": 30,
    "start_time": "2022-01-06T12:50:03.669Z"
   },
   {
    "duration": 22,
    "start_time": "2022-01-06T12:50:03.701Z"
   },
   {
    "duration": 30,
    "start_time": "2022-01-06T12:50:03.725Z"
   },
   {
    "duration": 82,
    "start_time": "2022-01-06T12:50:03.757Z"
   },
   {
    "duration": 54,
    "start_time": "2022-01-06T12:50:03.841Z"
   },
   {
    "duration": 3,
    "start_time": "2022-01-06T12:50:03.897Z"
   },
   {
    "duration": 17,
    "start_time": "2022-01-06T12:50:03.902Z"
   },
   {
    "duration": 40,
    "start_time": "2022-01-06T12:50:03.920Z"
   },
   {
    "duration": 2,
    "start_time": "2022-01-06T12:50:03.963Z"
   },
   {
    "duration": 16,
    "start_time": "2022-01-06T12:50:03.967Z"
   },
   {
    "duration": 27,
    "start_time": "2022-01-06T12:50:03.985Z"
   },
   {
    "duration": 5,
    "start_time": "2022-01-06T12:50:04.013Z"
   },
   {
    "duration": 16,
    "start_time": "2022-01-06T12:50:04.019Z"
   },
   {
    "duration": 50,
    "start_time": "2022-01-06T12:50:04.037Z"
   },
   {
    "duration": 22,
    "start_time": "2022-01-06T12:50:04.089Z"
   },
   {
    "duration": 14,
    "start_time": "2022-01-06T12:50:04.114Z"
   },
   {
    "duration": 9,
    "start_time": "2022-01-06T12:50:04.134Z"
   },
   {
    "duration": 16,
    "start_time": "2022-01-06T12:50:04.146Z"
   },
   {
    "duration": 21,
    "start_time": "2022-01-06T12:50:04.164Z"
   },
   {
    "duration": 265,
    "start_time": "2022-01-06T12:50:04.187Z"
   },
   {
    "duration": 43,
    "start_time": "2022-01-06T12:50:04.455Z"
   },
   {
    "duration": 8,
    "start_time": "2022-01-06T12:50:04.500Z"
   },
   {
    "duration": 20,
    "start_time": "2022-01-06T12:50:04.511Z"
   },
   {
    "duration": 17,
    "start_time": "2022-01-06T12:50:04.533Z"
   },
   {
    "duration": 31,
    "start_time": "2022-01-06T12:50:04.552Z"
   },
   {
    "duration": 21,
    "start_time": "2022-01-06T12:50:04.585Z"
   },
   {
    "duration": 44,
    "start_time": "2022-01-06T12:50:04.607Z"
   },
   {
    "duration": 24,
    "start_time": "2022-01-06T12:50:04.653Z"
   },
   {
    "duration": 22,
    "start_time": "2022-01-06T12:50:04.679Z"
   },
   {
    "duration": 18,
    "start_time": "2022-01-06T12:50:04.703Z"
   },
   {
    "duration": 17,
    "start_time": "2022-01-06T12:50:04.723Z"
   },
   {
    "duration": 18,
    "start_time": "2022-01-06T12:50:04.742Z"
   },
   {
    "duration": 12,
    "start_time": "2022-01-06T12:50:04.762Z"
   },
   {
    "duration": 14,
    "start_time": "2022-01-06T12:50:04.776Z"
   },
   {
    "duration": 12,
    "start_time": "2022-01-06T12:50:04.792Z"
   },
   {
    "duration": 10,
    "start_time": "2022-01-06T12:50:04.806Z"
   },
   {
    "duration": 22,
    "start_time": "2022-01-06T12:50:04.818Z"
   },
   {
    "duration": 9,
    "start_time": "2022-01-06T12:50:04.842Z"
   },
   {
    "duration": 33,
    "start_time": "2022-01-06T12:50:04.854Z"
   },
   {
    "duration": 29,
    "start_time": "2022-01-06T12:50:04.890Z"
   },
   {
    "duration": 26,
    "start_time": "2022-01-06T12:50:04.921Z"
   },
   {
    "duration": 269,
    "start_time": "2022-01-06T12:50:04.949Z"
   },
   {
    "duration": 134,
    "start_time": "2022-01-06T12:50:05.220Z"
   },
   {
    "duration": 143,
    "start_time": "2022-01-06T12:50:05.356Z"
   },
   {
    "duration": 277,
    "start_time": "2022-01-06T12:50:05.501Z"
   },
   {
    "duration": 148,
    "start_time": "2022-01-06T12:50:05.780Z"
   },
   {
    "duration": 232,
    "start_time": "2022-01-06T12:50:05.930Z"
   },
   {
    "duration": 280,
    "start_time": "2022-01-06T12:50:06.165Z"
   },
   {
    "duration": 148,
    "start_time": "2022-01-06T12:50:06.448Z"
   },
   {
    "duration": 147,
    "start_time": "2022-01-06T12:50:06.598Z"
   },
   {
    "duration": 4,
    "start_time": "2022-01-06T12:55:44.343Z"
   },
   {
    "duration": 4,
    "start_time": "2022-01-06T12:56:07.978Z"
   },
   {
    "duration": 5,
    "start_time": "2022-01-06T12:56:26.603Z"
   },
   {
    "duration": 4,
    "start_time": "2022-01-06T12:56:34.539Z"
   },
   {
    "duration": 4,
    "start_time": "2022-01-06T12:56:38.420Z"
   },
   {
    "duration": 4,
    "start_time": "2022-01-06T12:56:51.603Z"
   },
   {
    "duration": 3,
    "start_time": "2022-01-06T12:56:56.004Z"
   },
   {
    "duration": 4,
    "start_time": "2022-01-06T12:56:59.698Z"
   },
   {
    "duration": 4,
    "start_time": "2022-01-06T12:57:05.445Z"
   },
   {
    "duration": 4,
    "start_time": "2022-01-06T13:00:56.228Z"
   },
   {
    "duration": 4,
    "start_time": "2022-01-06T13:01:04.826Z"
   },
   {
    "duration": 5,
    "start_time": "2022-01-06T13:01:11.016Z"
   },
   {
    "duration": 112,
    "start_time": "2022-01-06T13:01:55.904Z"
   },
   {
    "duration": 4,
    "start_time": "2022-01-06T13:02:20.451Z"
   },
   {
    "duration": 4,
    "start_time": "2022-01-06T13:02:36.258Z"
   },
   {
    "duration": 4,
    "start_time": "2022-01-06T13:03:35.449Z"
   },
   {
    "duration": 4,
    "start_time": "2022-01-06T13:03:39.732Z"
   },
   {
    "duration": 4,
    "start_time": "2022-01-06T13:03:54.571Z"
   },
   {
    "duration": 4,
    "start_time": "2022-01-06T13:04:04.128Z"
   },
   {
    "duration": 5,
    "start_time": "2022-01-06T13:04:21.846Z"
   },
   {
    "duration": 4,
    "start_time": "2022-01-06T13:04:34.004Z"
   },
   {
    "duration": 4,
    "start_time": "2022-01-06T13:04:56.359Z"
   },
   {
    "duration": 5,
    "start_time": "2022-01-06T13:05:05.642Z"
   },
   {
    "duration": 4,
    "start_time": "2022-01-06T13:06:02.474Z"
   },
   {
    "duration": 82,
    "start_time": "2022-01-06T13:06:13.389Z"
   },
   {
    "duration": 5,
    "start_time": "2022-01-06T13:06:24.640Z"
   },
   {
    "duration": 6,
    "start_time": "2022-01-06T13:06:45.844Z"
   },
   {
    "duration": 4,
    "start_time": "2022-01-06T13:07:28.545Z"
   },
   {
    "duration": 4,
    "start_time": "2022-01-06T13:26:37.045Z"
   },
   {
    "duration": 4,
    "start_time": "2022-01-06T13:27:08.621Z"
   },
   {
    "duration": 5,
    "start_time": "2022-01-06T13:27:24.465Z"
   },
   {
    "duration": 4,
    "start_time": "2022-01-06T13:28:00.304Z"
   },
   {
    "duration": 4,
    "start_time": "2022-01-06T13:28:19.861Z"
   },
   {
    "duration": 4,
    "start_time": "2022-01-06T13:28:39.238Z"
   },
   {
    "duration": 3,
    "start_time": "2022-01-06T13:29:19.517Z"
   },
   {
    "duration": 4,
    "start_time": "2022-01-06T13:30:10.663Z"
   },
   {
    "duration": 3,
    "start_time": "2022-01-06T13:30:56.792Z"
   },
   {
    "duration": 4,
    "start_time": "2022-01-06T13:32:41.584Z"
   },
   {
    "duration": 4,
    "start_time": "2022-01-06T13:33:08.417Z"
   },
   {
    "duration": 4,
    "start_time": "2022-01-06T13:33:27.411Z"
   },
   {
    "duration": 5,
    "start_time": "2022-01-06T13:33:34.229Z"
   },
   {
    "duration": 946,
    "start_time": "2022-01-06T13:33:43.229Z"
   },
   {
    "duration": 4,
    "start_time": "2022-01-06T13:33:50.072Z"
   },
   {
    "duration": 4,
    "start_time": "2022-01-06T13:34:00.509Z"
   },
   {
    "duration": 3,
    "start_time": "2022-01-06T13:34:05.270Z"
   },
   {
    "duration": 3,
    "start_time": "2022-01-06T13:34:13.530Z"
   },
   {
    "duration": 1058,
    "start_time": "2022-01-06T13:34:22.869Z"
   },
   {
    "duration": 400,
    "start_time": "2022-01-06T13:34:23.929Z"
   },
   {
    "duration": 35,
    "start_time": "2022-01-06T13:34:24.331Z"
   },
   {
    "duration": 26,
    "start_time": "2022-01-06T13:34:24.368Z"
   },
   {
    "duration": 21,
    "start_time": "2022-01-06T13:34:24.396Z"
   },
   {
    "duration": 6,
    "start_time": "2022-01-06T13:34:24.419Z"
   },
   {
    "duration": 41,
    "start_time": "2022-01-06T13:34:24.427Z"
   },
   {
    "duration": 68,
    "start_time": "2022-01-06T13:34:24.470Z"
   },
   {
    "duration": 22,
    "start_time": "2022-01-06T13:34:24.540Z"
   },
   {
    "duration": 9,
    "start_time": "2022-01-06T13:34:24.563Z"
   },
   {
    "duration": 8,
    "start_time": "2022-01-06T13:34:24.574Z"
   },
   {
    "duration": 7,
    "start_time": "2022-01-06T13:34:24.584Z"
   },
   {
    "duration": 6,
    "start_time": "2022-01-06T13:34:24.592Z"
   },
   {
    "duration": 77,
    "start_time": "2022-01-06T13:34:24.599Z"
   },
   {
    "duration": 58,
    "start_time": "2022-01-06T13:34:24.678Z"
   },
   {
    "duration": 2,
    "start_time": "2022-01-06T13:34:24.738Z"
   },
   {
    "duration": 24,
    "start_time": "2022-01-06T13:34:24.742Z"
   },
   {
    "duration": 24,
    "start_time": "2022-01-06T13:34:24.768Z"
   },
   {
    "duration": 3,
    "start_time": "2022-01-06T13:34:24.793Z"
   },
   {
    "duration": 9,
    "start_time": "2022-01-06T13:34:24.797Z"
   },
   {
    "duration": 23,
    "start_time": "2022-01-06T13:34:24.808Z"
   },
   {
    "duration": 3,
    "start_time": "2022-01-06T13:34:24.832Z"
   },
   {
    "duration": 3,
    "start_time": "2022-01-06T13:34:24.862Z"
   },
   {
    "duration": 9,
    "start_time": "2022-01-06T13:34:24.868Z"
   },
   {
    "duration": 9,
    "start_time": "2022-01-06T13:34:24.879Z"
   },
   {
    "duration": 9,
    "start_time": "2022-01-06T13:34:24.890Z"
   },
   {
    "duration": 4,
    "start_time": "2022-01-06T13:34:24.900Z"
   },
   {
    "duration": 8,
    "start_time": "2022-01-06T13:34:24.905Z"
   },
   {
    "duration": 5,
    "start_time": "2022-01-06T13:34:24.915Z"
   },
   {
    "duration": 175,
    "start_time": "2022-01-06T13:34:24.921Z"
   },
   {
    "duration": 25,
    "start_time": "2022-01-06T13:34:25.097Z"
   },
   {
    "duration": 5,
    "start_time": "2022-01-06T13:34:25.124Z"
   },
   {
    "duration": 8,
    "start_time": "2022-01-06T13:34:25.130Z"
   },
   {
    "duration": 22,
    "start_time": "2022-01-06T13:34:25.139Z"
   },
   {
    "duration": 4,
    "start_time": "2022-01-06T13:34:25.163Z"
   },
   {
    "duration": 9,
    "start_time": "2022-01-06T13:34:25.168Z"
   },
   {
    "duration": 6,
    "start_time": "2022-01-06T13:34:25.179Z"
   },
   {
    "duration": 5,
    "start_time": "2022-01-06T13:34:25.187Z"
   },
   {
    "duration": 8,
    "start_time": "2022-01-06T13:34:25.194Z"
   },
   {
    "duration": 5,
    "start_time": "2022-01-06T13:34:25.204Z"
   },
   {
    "duration": 6,
    "start_time": "2022-01-06T13:34:25.211Z"
   },
   {
    "duration": 8,
    "start_time": "2022-01-06T13:34:25.218Z"
   },
   {
    "duration": 5,
    "start_time": "2022-01-06T13:34:25.227Z"
   },
   {
    "duration": 32,
    "start_time": "2022-01-06T13:34:25.233Z"
   },
   {
    "duration": 6,
    "start_time": "2022-01-06T13:34:25.266Z"
   },
   {
    "duration": 6,
    "start_time": "2022-01-06T13:34:25.273Z"
   },
   {
    "duration": 5,
    "start_time": "2022-01-06T13:34:25.281Z"
   },
   {
    "duration": 5,
    "start_time": "2022-01-06T13:34:25.288Z"
   },
   {
    "duration": 4,
    "start_time": "2022-01-06T13:34:25.294Z"
   },
   {
    "duration": 5,
    "start_time": "2022-01-06T13:34:25.300Z"
   },
   {
    "duration": 5,
    "start_time": "2022-01-06T13:34:25.307Z"
   },
   {
    "duration": 290,
    "start_time": "2022-01-06T13:34:25.314Z"
   },
   {
    "duration": 130,
    "start_time": "2022-01-06T13:34:25.605Z"
   },
   {
    "duration": 149,
    "start_time": "2022-01-06T13:34:25.736Z"
   },
   {
    "duration": 3,
    "start_time": "2022-01-06T13:34:25.886Z"
   },
   {
    "duration": 257,
    "start_time": "2022-01-06T13:34:25.890Z"
   },
   {
    "duration": 133,
    "start_time": "2022-01-06T13:34:26.149Z"
   },
   {
    "duration": 129,
    "start_time": "2022-01-06T13:34:26.284Z"
   },
   {
    "duration": 3,
    "start_time": "2022-01-06T13:34:26.415Z"
   },
   {
    "duration": 341,
    "start_time": "2022-01-06T13:34:26.420Z"
   },
   {
    "duration": 144,
    "start_time": "2022-01-06T13:34:26.762Z"
   },
   {
    "duration": 133,
    "start_time": "2022-01-06T13:34:26.907Z"
   },
   {
    "duration": 3,
    "start_time": "2022-01-06T13:34:27.041Z"
   },
   {
    "duration": 3,
    "start_time": "2022-01-06T13:43:47.252Z"
   },
   {
    "duration": 6,
    "start_time": "2022-01-06T13:44:14.758Z"
   },
   {
    "duration": 5,
    "start_time": "2022-01-06T13:44:35.106Z"
   },
   {
    "duration": 5,
    "start_time": "2022-01-06T13:46:16.678Z"
   },
   {
    "duration": 5,
    "start_time": "2022-01-06T13:47:33.821Z"
   },
   {
    "duration": 5,
    "start_time": "2022-01-06T13:48:16.800Z"
   },
   {
    "duration": 6,
    "start_time": "2022-01-06T13:53:18.457Z"
   },
   {
    "duration": 6,
    "start_time": "2022-01-06T13:53:22.797Z"
   },
   {
    "duration": 5,
    "start_time": "2022-01-06T13:53:53.239Z"
   },
   {
    "duration": 5,
    "start_time": "2022-01-06T13:55:58.429Z"
   },
   {
    "duration": 5,
    "start_time": "2022-01-06T13:59:24.146Z"
   },
   {
    "duration": 6,
    "start_time": "2022-01-06T13:59:57.297Z"
   },
   {
    "duration": 7,
    "start_time": "2022-01-06T14:00:29.888Z"
   },
   {
    "duration": 536,
    "start_time": "2022-01-06T14:00:50.949Z"
   },
   {
    "duration": 8,
    "start_time": "2022-01-06T14:01:35.538Z"
   },
   {
    "duration": 6,
    "start_time": "2022-01-06T14:01:59.199Z"
   },
   {
    "duration": 6380,
    "start_time": "2022-01-06T14:02:31.956Z"
   },
   {
    "duration": 12,
    "start_time": "2022-01-06T14:03:07.435Z"
   },
   {
    "duration": 6,
    "start_time": "2022-01-06T14:04:07.986Z"
   },
   {
    "duration": 7,
    "start_time": "2022-01-06T14:04:35.548Z"
   },
   {
    "duration": 6,
    "start_time": "2022-01-06T14:04:39.071Z"
   },
   {
    "duration": 5,
    "start_time": "2022-01-06T14:27:35.975Z"
   },
   {
    "duration": 6,
    "start_time": "2022-01-06T14:27:41.931Z"
   },
   {
    "duration": 7,
    "start_time": "2022-01-06T14:30:46.622Z"
   },
   {
    "duration": 5,
    "start_time": "2022-01-06T14:31:49.665Z"
   },
   {
    "duration": 281,
    "start_time": "2022-01-06T14:31:59.010Z"
   },
   {
    "duration": 5,
    "start_time": "2022-01-06T14:32:10.169Z"
   },
   {
    "duration": 7970,
    "start_time": "2022-01-06T14:32:27.524Z"
   },
   {
    "duration": 7,
    "start_time": "2022-01-06T14:32:42.130Z"
   },
   {
    "duration": 4,
    "start_time": "2022-01-06T14:33:20.708Z"
   },
   {
    "duration": 4,
    "start_time": "2022-01-06T14:33:34.885Z"
   },
   {
    "duration": 10,
    "start_time": "2022-01-06T14:51:35.132Z"
   },
   {
    "duration": 4,
    "start_time": "2022-01-06T14:51:59.939Z"
   },
   {
    "duration": 5,
    "start_time": "2022-01-06T14:52:28.600Z"
   },
   {
    "duration": 1332,
    "start_time": "2022-01-06T14:52:46.506Z"
   },
   {
    "duration": 406,
    "start_time": "2022-01-06T14:52:47.840Z"
   },
   {
    "duration": 37,
    "start_time": "2022-01-06T14:52:48.249Z"
   },
   {
    "duration": 30,
    "start_time": "2022-01-06T14:52:48.289Z"
   },
   {
    "duration": 44,
    "start_time": "2022-01-06T14:52:48.321Z"
   },
   {
    "duration": 8,
    "start_time": "2022-01-06T14:52:48.367Z"
   },
   {
    "duration": 15,
    "start_time": "2022-01-06T14:52:48.377Z"
   },
   {
    "duration": 98,
    "start_time": "2022-01-06T14:52:48.395Z"
   },
   {
    "duration": 6,
    "start_time": "2022-01-06T14:52:48.496Z"
   },
   {
    "duration": 5,
    "start_time": "2022-01-06T14:52:48.504Z"
   },
   {
    "duration": 10,
    "start_time": "2022-01-06T14:52:48.511Z"
   },
   {
    "duration": 8,
    "start_time": "2022-01-06T14:52:48.523Z"
   },
   {
    "duration": 6,
    "start_time": "2022-01-06T14:52:48.561Z"
   },
   {
    "duration": 61,
    "start_time": "2022-01-06T14:52:48.569Z"
   },
   {
    "duration": 72,
    "start_time": "2022-01-06T14:52:48.632Z"
   },
   {
    "duration": 3,
    "start_time": "2022-01-06T14:52:48.706Z"
   },
   {
    "duration": 12,
    "start_time": "2022-01-06T14:52:48.711Z"
   },
   {
    "duration": 39,
    "start_time": "2022-01-06T14:52:48.725Z"
   },
   {
    "duration": 3,
    "start_time": "2022-01-06T14:52:48.765Z"
   },
   {
    "duration": 10,
    "start_time": "2022-01-06T14:52:48.770Z"
   },
   {
    "duration": 21,
    "start_time": "2022-01-06T14:52:48.781Z"
   },
   {
    "duration": 3,
    "start_time": "2022-01-06T14:52:48.803Z"
   },
   {
    "duration": 4,
    "start_time": "2022-01-06T14:52:48.809Z"
   },
   {
    "duration": 8,
    "start_time": "2022-01-06T14:52:48.815Z"
   },
   {
    "duration": 41,
    "start_time": "2022-01-06T14:52:48.825Z"
   },
   {
    "duration": 12,
    "start_time": "2022-01-06T14:52:48.867Z"
   },
   {
    "duration": 4,
    "start_time": "2022-01-06T14:52:48.881Z"
   },
   {
    "duration": 8,
    "start_time": "2022-01-06T14:52:48.886Z"
   },
   {
    "duration": 6,
    "start_time": "2022-01-06T14:52:48.896Z"
   },
   {
    "duration": 177,
    "start_time": "2022-01-06T14:52:48.904Z"
   },
   {
    "duration": 29,
    "start_time": "2022-01-06T14:52:49.083Z"
   },
   {
    "duration": 5,
    "start_time": "2022-01-06T14:52:49.114Z"
   },
   {
    "duration": 6,
    "start_time": "2022-01-06T14:52:49.121Z"
   },
   {
    "duration": 33,
    "start_time": "2022-01-06T14:52:49.129Z"
   },
   {
    "duration": 4,
    "start_time": "2022-01-06T14:52:49.164Z"
   },
   {
    "duration": 7,
    "start_time": "2022-01-06T14:52:49.169Z"
   },
   {
    "duration": 5,
    "start_time": "2022-01-06T14:52:49.177Z"
   },
   {
    "duration": 4,
    "start_time": "2022-01-06T14:52:49.184Z"
   },
   {
    "duration": 7,
    "start_time": "2022-01-06T14:52:49.190Z"
   },
   {
    "duration": 4,
    "start_time": "2022-01-06T14:52:49.199Z"
   },
   {
    "duration": 4,
    "start_time": "2022-01-06T14:52:49.205Z"
   },
   {
    "duration": 50,
    "start_time": "2022-01-06T14:52:49.211Z"
   },
   {
    "duration": 7,
    "start_time": "2022-01-06T14:52:49.263Z"
   },
   {
    "duration": 6,
    "start_time": "2022-01-06T14:52:49.271Z"
   },
   {
    "duration": 6,
    "start_time": "2022-01-06T14:52:49.279Z"
   },
   {
    "duration": 6,
    "start_time": "2022-01-06T14:52:49.286Z"
   },
   {
    "duration": 7,
    "start_time": "2022-01-06T14:52:49.294Z"
   },
   {
    "duration": 6,
    "start_time": "2022-01-06T14:52:49.303Z"
   },
   {
    "duration": 6,
    "start_time": "2022-01-06T14:52:49.311Z"
   },
   {
    "duration": 6,
    "start_time": "2022-01-06T14:52:49.319Z"
   },
   {
    "duration": 5,
    "start_time": "2022-01-06T14:52:49.361Z"
   },
   {
    "duration": 263,
    "start_time": "2022-01-06T14:52:49.368Z"
   },
   {
    "duration": 135,
    "start_time": "2022-01-06T14:52:49.633Z"
   },
   {
    "duration": 163,
    "start_time": "2022-01-06T14:52:49.770Z"
   },
   {
    "duration": 4,
    "start_time": "2022-01-06T14:52:49.935Z"
   },
   {
    "duration": 321,
    "start_time": "2022-01-06T14:52:49.941Z"
   },
   {
    "duration": 146,
    "start_time": "2022-01-06T14:52:50.264Z"
   },
   {
    "duration": 138,
    "start_time": "2022-01-06T14:52:50.412Z"
   },
   {
    "duration": 8,
    "start_time": "2022-01-06T14:52:50.552Z"
   },
   {
    "duration": 335,
    "start_time": "2022-01-06T14:52:50.562Z"
   },
   {
    "duration": 152,
    "start_time": "2022-01-06T14:52:50.899Z"
   },
   {
    "duration": 149,
    "start_time": "2022-01-06T14:52:51.054Z"
   },
   {
    "duration": 4,
    "start_time": "2022-01-06T14:52:51.205Z"
   },
   {
    "duration": 12,
    "start_time": "2022-01-06T14:52:51.212Z"
   },
   {
    "duration": 10,
    "start_time": "2022-01-06T14:52:51.226Z"
   },
   {
    "duration": 7,
    "start_time": "2022-01-06T14:52:51.238Z"
   },
   {
    "duration": 5,
    "start_time": "2022-01-06T14:52:51.261Z"
   },
   {
    "duration": 4,
    "start_time": "2022-01-06T14:52:51.271Z"
   },
   {
    "duration": 7,
    "start_time": "2022-01-06T14:52:51.277Z"
   },
   {
    "duration": 7,
    "start_time": "2022-01-06T14:52:51.285Z"
   },
   {
    "duration": 11,
    "start_time": "2022-01-06T14:52:51.294Z"
   },
   {
    "duration": 1101,
    "start_time": "2022-01-06T15:03:07.439Z"
   },
   {
    "duration": 412,
    "start_time": "2022-01-06T15:03:08.542Z"
   },
   {
    "duration": 36,
    "start_time": "2022-01-06T15:03:08.958Z"
   },
   {
    "duration": 26,
    "start_time": "2022-01-06T15:03:08.996Z"
   },
   {
    "duration": 48,
    "start_time": "2022-01-06T15:03:09.023Z"
   },
   {
    "duration": 7,
    "start_time": "2022-01-06T15:03:09.073Z"
   },
   {
    "duration": 16,
    "start_time": "2022-01-06T15:03:09.083Z"
   },
   {
    "duration": 89,
    "start_time": "2022-01-06T15:03:09.101Z"
   },
   {
    "duration": 4,
    "start_time": "2022-01-06T15:03:09.192Z"
   },
   {
    "duration": 8,
    "start_time": "2022-01-06T15:03:09.198Z"
   },
   {
    "duration": 12,
    "start_time": "2022-01-06T15:03:09.208Z"
   },
   {
    "duration": 10,
    "start_time": "2022-01-06T15:03:09.221Z"
   },
   {
    "duration": 7,
    "start_time": "2022-01-06T15:03:09.233Z"
   },
   {
    "duration": 71,
    "start_time": "2022-01-06T15:03:09.241Z"
   },
   {
    "duration": 63,
    "start_time": "2022-01-06T15:03:09.314Z"
   },
   {
    "duration": 3,
    "start_time": "2022-01-06T15:03:09.379Z"
   },
   {
    "duration": 13,
    "start_time": "2022-01-06T15:03:09.383Z"
   },
   {
    "duration": 29,
    "start_time": "2022-01-06T15:03:09.398Z"
   },
   {
    "duration": 3,
    "start_time": "2022-01-06T15:03:09.428Z"
   },
   {
    "duration": 10,
    "start_time": "2022-01-06T15:03:09.433Z"
   },
   {
    "duration": 22,
    "start_time": "2022-01-06T15:03:09.461Z"
   },
   {
    "duration": 3,
    "start_time": "2022-01-06T15:03:09.487Z"
   },
   {
    "duration": 7,
    "start_time": "2022-01-06T15:03:09.493Z"
   },
   {
    "duration": 14,
    "start_time": "2022-01-06T15:03:09.502Z"
   },
   {
    "duration": 11,
    "start_time": "2022-01-06T15:03:09.518Z"
   },
   {
    "duration": 38,
    "start_time": "2022-01-06T15:03:09.531Z"
   },
   {
    "duration": 5,
    "start_time": "2022-01-06T15:03:09.571Z"
   },
   {
    "duration": 10,
    "start_time": "2022-01-06T15:03:09.577Z"
   },
   {
    "duration": 5,
    "start_time": "2022-01-06T15:03:09.589Z"
   },
   {
    "duration": 156,
    "start_time": "2022-01-06T15:03:09.596Z"
   },
   {
    "duration": 30,
    "start_time": "2022-01-06T15:03:09.754Z"
   },
   {
    "duration": 5,
    "start_time": "2022-01-06T15:03:09.786Z"
   },
   {
    "duration": 8,
    "start_time": "2022-01-06T15:03:09.793Z"
   },
   {
    "duration": 8,
    "start_time": "2022-01-06T15:03:09.803Z"
   },
   {
    "duration": 11,
    "start_time": "2022-01-06T15:03:09.812Z"
   },
   {
    "duration": 19,
    "start_time": "2022-01-06T15:03:09.824Z"
   },
   {
    "duration": 4,
    "start_time": "2022-01-06T15:03:09.844Z"
   },
   {
    "duration": 4,
    "start_time": "2022-01-06T15:03:09.861Z"
   },
   {
    "duration": 9,
    "start_time": "2022-01-06T15:03:09.867Z"
   },
   {
    "duration": 11,
    "start_time": "2022-01-06T15:03:09.878Z"
   },
   {
    "duration": 6,
    "start_time": "2022-01-06T15:03:09.891Z"
   },
   {
    "duration": 8,
    "start_time": "2022-01-06T15:03:09.899Z"
   },
   {
    "duration": 10,
    "start_time": "2022-01-06T15:03:09.909Z"
   },
   {
    "duration": 5,
    "start_time": "2022-01-06T15:03:09.921Z"
   },
   {
    "duration": 5,
    "start_time": "2022-01-06T15:03:09.928Z"
   },
   {
    "duration": 25,
    "start_time": "2022-01-06T15:03:09.935Z"
   },
   {
    "duration": 4,
    "start_time": "2022-01-06T15:03:09.962Z"
   },
   {
    "duration": 9,
    "start_time": "2022-01-06T15:03:09.967Z"
   },
   {
    "duration": 7,
    "start_time": "2022-01-06T15:03:09.978Z"
   },
   {
    "duration": 8,
    "start_time": "2022-01-06T15:03:09.987Z"
   },
   {
    "duration": 6,
    "start_time": "2022-01-06T15:03:09.997Z"
   },
   {
    "duration": 278,
    "start_time": "2022-01-06T15:03:10.005Z"
   },
   {
    "duration": 133,
    "start_time": "2022-01-06T15:03:10.284Z"
   },
   {
    "duration": 143,
    "start_time": "2022-01-06T15:03:10.419Z"
   },
   {
    "duration": 3,
    "start_time": "2022-01-06T15:03:10.564Z"
   },
   {
    "duration": 263,
    "start_time": "2022-01-06T15:03:10.569Z"
   },
   {
    "duration": 138,
    "start_time": "2022-01-06T15:03:10.833Z"
   },
   {
    "duration": 136,
    "start_time": "2022-01-06T15:03:10.973Z"
   },
   {
    "duration": 4,
    "start_time": "2022-01-06T15:03:11.111Z"
   },
   {
    "duration": 341,
    "start_time": "2022-01-06T15:03:11.116Z"
   },
   {
    "duration": 150,
    "start_time": "2022-01-06T15:03:11.461Z"
   },
   {
    "duration": 174,
    "start_time": "2022-01-06T15:03:11.614Z"
   },
   {
    "duration": 4,
    "start_time": "2022-01-06T15:03:11.790Z"
   },
   {
    "duration": 39,
    "start_time": "2022-01-06T15:03:11.795Z"
   },
   {
    "duration": 26,
    "start_time": "2022-01-06T15:03:11.836Z"
   },
   {
    "duration": 25,
    "start_time": "2022-01-06T15:03:11.864Z"
   },
   {
    "duration": 13,
    "start_time": "2022-01-06T15:03:11.895Z"
   },
   {
    "duration": 16,
    "start_time": "2022-01-06T15:03:11.910Z"
   },
   {
    "duration": 20,
    "start_time": "2022-01-06T15:03:11.928Z"
   },
   {
    "duration": 79,
    "start_time": "2022-01-06T15:04:46.410Z"
   },
   {
    "duration": 92,
    "start_time": "2022-01-06T15:05:04.544Z"
   },
   {
    "duration": 82,
    "start_time": "2022-01-06T15:05:23.013Z"
   },
   {
    "duration": 4,
    "start_time": "2022-01-06T15:06:41.448Z"
   },
   {
    "duration": 5,
    "start_time": "2022-01-06T15:07:13.230Z"
   },
   {
    "duration": 4,
    "start_time": "2022-01-06T15:07:31.980Z"
   },
   {
    "duration": 4,
    "start_time": "2022-01-06T15:08:21.133Z"
   },
   {
    "duration": 5,
    "start_time": "2022-01-06T15:08:23.718Z"
   },
   {
    "duration": 4,
    "start_time": "2022-01-06T15:08:33.322Z"
   },
   {
    "duration": 1071,
    "start_time": "2022-01-06T15:08:45.850Z"
   },
   {
    "duration": 394,
    "start_time": "2022-01-06T15:08:46.923Z"
   },
   {
    "duration": 36,
    "start_time": "2022-01-06T15:08:47.319Z"
   },
   {
    "duration": 33,
    "start_time": "2022-01-06T15:08:47.357Z"
   },
   {
    "duration": 23,
    "start_time": "2022-01-06T15:08:47.392Z"
   },
   {
    "duration": 28,
    "start_time": "2022-01-06T15:08:47.417Z"
   },
   {
    "duration": 35,
    "start_time": "2022-01-06T15:08:47.447Z"
   },
   {
    "duration": 70,
    "start_time": "2022-01-06T15:08:47.484Z"
   },
   {
    "duration": 6,
    "start_time": "2022-01-06T15:08:47.556Z"
   },
   {
    "duration": 4,
    "start_time": "2022-01-06T15:08:47.564Z"
   },
   {
    "duration": 9,
    "start_time": "2022-01-06T15:08:47.569Z"
   },
   {
    "duration": 8,
    "start_time": "2022-01-06T15:08:47.580Z"
   },
   {
    "duration": 5,
    "start_time": "2022-01-06T15:08:47.589Z"
   },
   {
    "duration": 79,
    "start_time": "2022-01-06T15:08:47.596Z"
   },
   {
    "duration": 54,
    "start_time": "2022-01-06T15:08:47.676Z"
   },
   {
    "duration": 3,
    "start_time": "2022-01-06T15:08:47.731Z"
   },
   {
    "duration": 13,
    "start_time": "2022-01-06T15:08:47.735Z"
   },
   {
    "duration": 24,
    "start_time": "2022-01-06T15:08:47.760Z"
   },
   {
    "duration": 3,
    "start_time": "2022-01-06T15:08:47.786Z"
   },
   {
    "duration": 9,
    "start_time": "2022-01-06T15:08:47.791Z"
   },
   {
    "duration": 21,
    "start_time": "2022-01-06T15:08:47.801Z"
   },
   {
    "duration": 3,
    "start_time": "2022-01-06T15:08:47.823Z"
   },
   {
    "duration": 32,
    "start_time": "2022-01-06T15:08:47.829Z"
   },
   {
    "duration": 9,
    "start_time": "2022-01-06T15:08:47.863Z"
   },
   {
    "duration": 13,
    "start_time": "2022-01-06T15:08:47.873Z"
   },
   {
    "duration": 10,
    "start_time": "2022-01-06T15:08:47.887Z"
   },
   {
    "duration": 4,
    "start_time": "2022-01-06T15:08:47.898Z"
   },
   {
    "duration": 11,
    "start_time": "2022-01-06T15:08:47.904Z"
   },
   {
    "duration": 6,
    "start_time": "2022-01-06T15:08:47.917Z"
   },
   {
    "duration": 160,
    "start_time": "2022-01-06T15:08:47.924Z"
   },
   {
    "duration": 27,
    "start_time": "2022-01-06T15:08:48.085Z"
   },
   {
    "duration": 5,
    "start_time": "2022-01-06T15:08:48.114Z"
   },
   {
    "duration": 5,
    "start_time": "2022-01-06T15:08:48.121Z"
   },
   {
    "duration": 5,
    "start_time": "2022-01-06T15:08:48.127Z"
   },
   {
    "duration": 28,
    "start_time": "2022-01-06T15:08:48.134Z"
   },
   {
    "duration": 7,
    "start_time": "2022-01-06T15:08:48.164Z"
   },
   {
    "duration": 8,
    "start_time": "2022-01-06T15:08:48.173Z"
   },
   {
    "duration": 22,
    "start_time": "2022-01-06T15:08:48.182Z"
   },
   {
    "duration": 19,
    "start_time": "2022-01-06T15:08:48.206Z"
   },
   {
    "duration": 9,
    "start_time": "2022-01-06T15:08:48.226Z"
   },
   {
    "duration": 17,
    "start_time": "2022-01-06T15:08:48.236Z"
   },
   {
    "duration": 12,
    "start_time": "2022-01-06T15:08:48.255Z"
   },
   {
    "duration": 15,
    "start_time": "2022-01-06T15:08:48.268Z"
   },
   {
    "duration": 18,
    "start_time": "2022-01-06T15:08:48.284Z"
   },
   {
    "duration": 16,
    "start_time": "2022-01-06T15:08:48.304Z"
   },
   {
    "duration": 24,
    "start_time": "2022-01-06T15:08:48.321Z"
   },
   {
    "duration": 9,
    "start_time": "2022-01-06T15:08:48.347Z"
   },
   {
    "duration": 18,
    "start_time": "2022-01-06T15:08:48.357Z"
   },
   {
    "duration": 11,
    "start_time": "2022-01-06T15:08:48.377Z"
   },
   {
    "duration": 12,
    "start_time": "2022-01-06T15:08:48.389Z"
   },
   {
    "duration": 14,
    "start_time": "2022-01-06T15:08:48.402Z"
   },
   {
    "duration": 283,
    "start_time": "2022-01-06T15:08:48.418Z"
   },
   {
    "duration": 134,
    "start_time": "2022-01-06T15:08:48.703Z"
   },
   {
    "duration": 144,
    "start_time": "2022-01-06T15:08:48.838Z"
   },
   {
    "duration": 3,
    "start_time": "2022-01-06T15:08:48.984Z"
   },
   {
    "duration": 280,
    "start_time": "2022-01-06T15:08:48.989Z"
   },
   {
    "duration": 139,
    "start_time": "2022-01-06T15:08:49.271Z"
   },
   {
    "duration": 125,
    "start_time": "2022-01-06T15:08:49.412Z"
   },
   {
    "duration": 3,
    "start_time": "2022-01-06T15:08:49.539Z"
   },
   {
    "duration": 371,
    "start_time": "2022-01-06T15:08:49.544Z"
   },
   {
    "duration": 144,
    "start_time": "2022-01-06T15:08:49.917Z"
   },
   {
    "duration": 130,
    "start_time": "2022-01-06T15:08:50.063Z"
   },
   {
    "duration": 4,
    "start_time": "2022-01-06T15:08:50.195Z"
   },
   {
    "duration": 7,
    "start_time": "2022-01-06T15:08:50.201Z"
   },
   {
    "duration": 6,
    "start_time": "2022-01-06T15:08:50.210Z"
   },
   {
    "duration": 5,
    "start_time": "2022-01-06T15:08:50.218Z"
   },
   {
    "duration": 36,
    "start_time": "2022-01-06T15:08:50.225Z"
   },
   {
    "duration": 4,
    "start_time": "2022-01-06T15:08:50.267Z"
   },
   {
    "duration": 7,
    "start_time": "2022-01-06T15:08:50.273Z"
   },
   {
    "duration": 2112,
    "start_time": "2022-01-07T16:31:16.454Z"
   },
   {
    "duration": 466,
    "start_time": "2022-01-07T16:31:18.569Z"
   },
   {
    "duration": 50,
    "start_time": "2022-01-07T16:31:19.038Z"
   },
   {
    "duration": 49,
    "start_time": "2022-01-07T16:31:19.091Z"
   },
   {
    "duration": 37,
    "start_time": "2022-01-07T16:31:19.142Z"
   },
   {
    "duration": 11,
    "start_time": "2022-01-07T16:31:19.182Z"
   },
   {
    "duration": 25,
    "start_time": "2022-01-07T16:31:19.225Z"
   },
   {
    "duration": 133,
    "start_time": "2022-01-07T16:31:19.256Z"
   },
   {
    "duration": 6,
    "start_time": "2022-01-07T16:31:19.393Z"
   },
   {
    "duration": 22,
    "start_time": "2022-01-07T16:31:19.402Z"
   },
   {
    "duration": 15,
    "start_time": "2022-01-07T16:31:19.426Z"
   },
   {
    "duration": 8,
    "start_time": "2022-01-07T16:31:19.443Z"
   },
   {
    "duration": 6,
    "start_time": "2022-01-07T16:31:19.453Z"
   },
   {
    "duration": 155,
    "start_time": "2022-01-07T16:31:19.462Z"
   },
   {
    "duration": 75,
    "start_time": "2022-01-07T16:31:19.620Z"
   },
   {
    "duration": 3,
    "start_time": "2022-01-07T16:31:19.698Z"
   },
   {
    "duration": 12,
    "start_time": "2022-01-07T16:31:19.724Z"
   },
   {
    "duration": 36,
    "start_time": "2022-01-07T16:31:19.739Z"
   },
   {
    "duration": 4,
    "start_time": "2022-01-07T16:31:19.778Z"
   },
   {
    "duration": 47,
    "start_time": "2022-01-07T16:31:19.785Z"
   },
   {
    "duration": 24,
    "start_time": "2022-01-07T16:31:19.834Z"
   },
   {
    "duration": 3,
    "start_time": "2022-01-07T16:31:19.860Z"
   },
   {
    "duration": 5,
    "start_time": "2022-01-07T16:31:19.869Z"
   },
   {
    "duration": 49,
    "start_time": "2022-01-07T16:31:19.878Z"
   },
   {
    "duration": 15,
    "start_time": "2022-01-07T16:31:19.930Z"
   },
   {
    "duration": 14,
    "start_time": "2022-01-07T16:31:19.948Z"
   },
   {
    "duration": 7,
    "start_time": "2022-01-07T16:31:19.964Z"
   },
   {
    "duration": 12,
    "start_time": "2022-01-07T16:31:19.974Z"
   },
   {
    "duration": 43,
    "start_time": "2022-01-07T16:31:19.988Z"
   },
   {
    "duration": 160,
    "start_time": "2022-01-07T16:31:20.034Z"
   },
   {
    "duration": 45,
    "start_time": "2022-01-07T16:31:20.197Z"
   },
   {
    "duration": 7,
    "start_time": "2022-01-07T16:31:20.244Z"
   },
   {
    "duration": 10,
    "start_time": "2022-01-07T16:31:20.253Z"
   },
   {
    "duration": 12,
    "start_time": "2022-01-07T16:31:20.265Z"
   },
   {
    "duration": 15,
    "start_time": "2022-01-07T16:31:20.279Z"
   },
   {
    "duration": 27,
    "start_time": "2022-01-07T16:31:20.296Z"
   },
   {
    "duration": 7,
    "start_time": "2022-01-07T16:31:20.326Z"
   },
   {
    "duration": 6,
    "start_time": "2022-01-07T16:31:20.335Z"
   },
   {
    "duration": 9,
    "start_time": "2022-01-07T16:31:20.344Z"
   },
   {
    "duration": 6,
    "start_time": "2022-01-07T16:31:20.355Z"
   },
   {
    "duration": 6,
    "start_time": "2022-01-07T16:31:20.363Z"
   },
   {
    "duration": 53,
    "start_time": "2022-01-07T16:31:20.371Z"
   },
   {
    "duration": 6,
    "start_time": "2022-01-07T16:31:20.426Z"
   },
   {
    "duration": 6,
    "start_time": "2022-01-07T16:31:20.435Z"
   },
   {
    "duration": 5,
    "start_time": "2022-01-07T16:31:20.444Z"
   },
   {
    "duration": 5,
    "start_time": "2022-01-07T16:31:20.452Z"
   },
   {
    "duration": 5,
    "start_time": "2022-01-07T16:31:20.459Z"
   },
   {
    "duration": 59,
    "start_time": "2022-01-07T16:31:20.467Z"
   },
   {
    "duration": 7,
    "start_time": "2022-01-07T16:31:20.528Z"
   },
   {
    "duration": 8,
    "start_time": "2022-01-07T16:31:20.537Z"
   },
   {
    "duration": 12,
    "start_time": "2022-01-07T16:31:20.548Z"
   },
   {
    "duration": 455,
    "start_time": "2022-01-07T16:31:20.563Z"
   },
   {
    "duration": 1548,
    "start_time": "2022-01-07T16:31:21.020Z"
   },
   {
    "duration": 314,
    "start_time": "2022-01-07T16:31:22.570Z"
   },
   {
    "duration": 4,
    "start_time": "2022-01-07T16:31:22.887Z"
   },
   {
    "duration": 483,
    "start_time": "2022-01-07T16:31:22.894Z"
   },
   {
    "duration": 295,
    "start_time": "2022-01-07T16:31:23.380Z"
   },
   {
    "duration": 269,
    "start_time": "2022-01-07T16:31:23.677Z"
   },
   {
    "duration": 5,
    "start_time": "2022-01-07T16:31:23.948Z"
   },
   {
    "duration": 468,
    "start_time": "2022-01-07T16:31:23.955Z"
   },
   {
    "duration": 284,
    "start_time": "2022-01-07T16:31:24.425Z"
   },
   {
    "duration": 271,
    "start_time": "2022-01-07T16:31:24.712Z"
   },
   {
    "duration": 5,
    "start_time": "2022-01-07T16:31:24.985Z"
   },
   {
    "duration": 32,
    "start_time": "2022-01-07T16:31:24.993Z"
   },
   {
    "duration": 14,
    "start_time": "2022-01-07T16:31:25.027Z"
   },
   {
    "duration": 10,
    "start_time": "2022-01-07T16:31:25.044Z"
   },
   {
    "duration": 13,
    "start_time": "2022-01-07T16:31:25.057Z"
   },
   {
    "duration": 5,
    "start_time": "2022-01-07T16:31:25.077Z"
   },
   {
    "duration": 11,
    "start_time": "2022-01-07T16:31:25.084Z"
   },
   {
    "duration": 6,
    "start_time": "2022-01-07T16:35:13.326Z"
   },
   {
    "duration": 28,
    "start_time": "2022-01-07T16:35:21.197Z"
   },
   {
    "duration": 1525,
    "start_time": "2022-01-08T09:42:54.510Z"
   },
   {
    "duration": 541,
    "start_time": "2022-01-08T09:42:56.038Z"
   },
   {
    "duration": 48,
    "start_time": "2022-01-08T09:42:56.581Z"
   },
   {
    "duration": 46,
    "start_time": "2022-01-08T09:42:56.631Z"
   },
   {
    "duration": 29,
    "start_time": "2022-01-08T09:42:56.680Z"
   },
   {
    "duration": 11,
    "start_time": "2022-01-08T09:42:56.712Z"
   },
   {
    "duration": 54,
    "start_time": "2022-01-08T09:42:56.726Z"
   },
   {
    "duration": 118,
    "start_time": "2022-01-08T09:42:56.784Z"
   },
   {
    "duration": 6,
    "start_time": "2022-01-08T09:42:56.905Z"
   },
   {
    "duration": 11,
    "start_time": "2022-01-08T09:42:56.914Z"
   },
   {
    "duration": 11,
    "start_time": "2022-01-08T09:42:56.928Z"
   },
   {
    "duration": 23,
    "start_time": "2022-01-08T09:42:56.941Z"
   },
   {
    "duration": 7,
    "start_time": "2022-01-08T09:42:56.967Z"
   },
   {
    "duration": 115,
    "start_time": "2022-01-08T09:42:56.977Z"
   },
   {
    "duration": 84,
    "start_time": "2022-01-08T09:42:57.095Z"
   },
   {
    "duration": 4,
    "start_time": "2022-01-08T09:42:57.181Z"
   },
   {
    "duration": 14,
    "start_time": "2022-01-08T09:42:57.187Z"
   },
   {
    "duration": 36,
    "start_time": "2022-01-08T09:42:57.203Z"
   },
   {
    "duration": 4,
    "start_time": "2022-01-08T09:42:57.263Z"
   },
   {
    "duration": 12,
    "start_time": "2022-01-08T09:42:57.270Z"
   },
   {
    "duration": 28,
    "start_time": "2022-01-08T09:42:57.284Z"
   },
   {
    "duration": 3,
    "start_time": "2022-01-08T09:42:57.315Z"
   },
   {
    "duration": 42,
    "start_time": "2022-01-08T09:42:57.324Z"
   },
   {
    "duration": 11,
    "start_time": "2022-01-08T09:42:57.370Z"
   },
   {
    "duration": 15,
    "start_time": "2022-01-08T09:42:57.383Z"
   },
   {
    "duration": 14,
    "start_time": "2022-01-08T09:42:57.400Z"
   },
   {
    "duration": 6,
    "start_time": "2022-01-08T09:42:57.417Z"
   },
   {
    "duration": 15,
    "start_time": "2022-01-08T09:42:57.463Z"
   },
   {
    "duration": 9,
    "start_time": "2022-01-08T09:42:57.480Z"
   },
   {
    "duration": 276,
    "start_time": "2022-01-08T09:42:57.491Z"
   },
   {
    "duration": 42,
    "start_time": "2022-01-08T09:42:57.769Z"
   },
   {
    "duration": 7,
    "start_time": "2022-01-08T09:42:57.813Z"
   },
   {
    "duration": 8,
    "start_time": "2022-01-08T09:42:57.822Z"
   },
   {
    "duration": 35,
    "start_time": "2022-01-08T09:42:57.832Z"
   },
   {
    "duration": 10,
    "start_time": "2022-01-08T09:42:57.869Z"
   },
   {
    "duration": 6,
    "start_time": "2022-01-08T09:42:57.882Z"
   },
   {
    "duration": 7,
    "start_time": "2022-01-08T09:42:57.890Z"
   },
   {
    "duration": 7,
    "start_time": "2022-01-08T09:42:57.899Z"
   },
   {
    "duration": 8,
    "start_time": "2022-01-08T09:42:57.908Z"
   },
   {
    "duration": 48,
    "start_time": "2022-01-08T09:42:57.918Z"
   },
   {
    "duration": 7,
    "start_time": "2022-01-08T09:42:57.968Z"
   },
   {
    "duration": 8,
    "start_time": "2022-01-08T09:42:57.977Z"
   },
   {
    "duration": 6,
    "start_time": "2022-01-08T09:42:57.988Z"
   },
   {
    "duration": 7,
    "start_time": "2022-01-08T09:42:57.996Z"
   },
   {
    "duration": 6,
    "start_time": "2022-01-08T09:42:58.005Z"
   },
   {
    "duration": 51,
    "start_time": "2022-01-08T09:42:58.014Z"
   },
   {
    "duration": 6,
    "start_time": "2022-01-08T09:42:58.067Z"
   },
   {
    "duration": 8,
    "start_time": "2022-01-08T09:42:58.075Z"
   },
   {
    "duration": 7,
    "start_time": "2022-01-08T09:42:58.085Z"
   },
   {
    "duration": 5,
    "start_time": "2022-01-08T09:42:58.094Z"
   },
   {
    "duration": 6,
    "start_time": "2022-01-08T09:42:58.102Z"
   },
   {
    "duration": 433,
    "start_time": "2022-01-08T09:42:58.164Z"
   },
   {
    "duration": 217,
    "start_time": "2022-01-08T09:42:58.600Z"
   },
   {
    "duration": 238,
    "start_time": "2022-01-08T09:42:58.820Z"
   },
   {
    "duration": 5,
    "start_time": "2022-01-08T09:42:59.061Z"
   },
   {
    "duration": 565,
    "start_time": "2022-01-08T09:42:59.068Z"
   },
   {
    "duration": 234,
    "start_time": "2022-01-08T09:42:59.635Z"
   },
   {
    "duration": 228,
    "start_time": "2022-01-08T09:42:59.873Z"
   },
   {
    "duration": 6,
    "start_time": "2022-01-08T09:43:00.104Z"
   },
   {
    "duration": 533,
    "start_time": "2022-01-08T09:43:00.112Z"
   },
   {
    "duration": 232,
    "start_time": "2022-01-08T09:43:00.648Z"
   },
   {
    "duration": 227,
    "start_time": "2022-01-08T09:43:00.884Z"
   },
   {
    "duration": 4,
    "start_time": "2022-01-08T09:43:01.114Z"
   },
   {
    "duration": 13,
    "start_time": "2022-01-08T09:43:01.122Z"
   },
   {
    "duration": 11,
    "start_time": "2022-01-08T09:43:01.164Z"
   },
   {
    "duration": 27,
    "start_time": "2022-01-08T09:43:01.178Z"
   },
   {
    "duration": 24,
    "start_time": "2022-01-08T09:43:01.208Z"
   },
   {
    "duration": 22,
    "start_time": "2022-01-08T09:43:01.244Z"
   },
   {
    "duration": 13,
    "start_time": "2022-01-08T09:43:01.269Z"
   },
   {
    "duration": 75,
    "start_time": "2022-01-08T09:44:56.092Z"
   },
   {
    "duration": 78,
    "start_time": "2022-01-08T09:45:07.947Z"
   },
   {
    "duration": 7,
    "start_time": "2022-01-08T09:45:15.756Z"
   },
   {
    "duration": 8,
    "start_time": "2022-01-08T09:45:41.599Z"
   },
   {
    "duration": 5,
    "start_time": "2022-01-08T09:45:54.167Z"
   },
   {
    "duration": 623,
    "start_time": "2022-01-08T09:45:54.176Z"
   },
   {
    "duration": 58,
    "start_time": "2022-01-08T09:45:54.803Z"
   },
   {
    "duration": 35,
    "start_time": "2022-01-08T09:45:54.864Z"
   },
   {
    "duration": 34,
    "start_time": "2022-01-08T09:45:54.901Z"
   },
   {
    "duration": 16,
    "start_time": "2022-01-08T09:45:54.964Z"
   },
   {
    "duration": 30,
    "start_time": "2022-01-08T09:45:54.986Z"
   },
   {
    "duration": 142,
    "start_time": "2022-01-08T09:45:55.021Z"
   },
   {
    "duration": 5,
    "start_time": "2022-01-08T09:45:55.165Z"
   },
   {
    "duration": 6,
    "start_time": "2022-01-08T09:45:55.173Z"
   },
   {
    "duration": 12,
    "start_time": "2022-01-08T09:45:55.181Z"
   },
   {
    "duration": 9,
    "start_time": "2022-01-08T09:45:55.196Z"
   },
   {
    "duration": 6,
    "start_time": "2022-01-08T09:45:55.207Z"
   },
   {
    "duration": 4,
    "start_time": "2022-01-08T09:45:55.264Z"
   },
   {
    "duration": 119,
    "start_time": "2022-01-08T09:45:55.271Z"
   },
   {
    "duration": 119,
    "start_time": "2022-01-08T09:45:55.393Z"
   },
   {
    "duration": 4,
    "start_time": "2022-01-08T09:45:55.515Z"
   },
   {
    "duration": 14,
    "start_time": "2022-01-08T09:45:55.523Z"
   },
   {
    "duration": 53,
    "start_time": "2022-01-08T09:45:55.569Z"
   },
   {
    "duration": 5,
    "start_time": "2022-01-08T09:45:55.627Z"
   },
   {
    "duration": 36,
    "start_time": "2022-01-08T09:45:55.634Z"
   },
   {
    "duration": 33,
    "start_time": "2022-01-08T09:45:55.673Z"
   },
   {
    "duration": 4,
    "start_time": "2022-01-08T09:45:55.708Z"
   },
   {
    "duration": 6,
    "start_time": "2022-01-08T09:45:55.715Z"
   },
   {
    "duration": 47,
    "start_time": "2022-01-08T09:45:55.723Z"
   },
   {
    "duration": 16,
    "start_time": "2022-01-08T09:45:55.773Z"
   },
   {
    "duration": 15,
    "start_time": "2022-01-08T09:45:55.791Z"
   },
   {
    "duration": 7,
    "start_time": "2022-01-08T09:45:55.808Z"
   },
   {
    "duration": 58,
    "start_time": "2022-01-08T09:45:55.818Z"
   },
   {
    "duration": 13,
    "start_time": "2022-01-08T09:45:55.879Z"
   },
   {
    "duration": 323,
    "start_time": "2022-01-08T09:45:55.895Z"
   },
   {
    "duration": 57,
    "start_time": "2022-01-08T09:45:56.221Z"
   },
   {
    "duration": 7,
    "start_time": "2022-01-08T09:45:56.281Z"
   },
   {
    "duration": 7,
    "start_time": "2022-01-08T09:45:56.291Z"
   },
   {
    "duration": 5,
    "start_time": "2022-01-08T09:45:56.301Z"
   },
   {
    "duration": 7,
    "start_time": "2022-01-08T09:45:56.308Z"
   },
   {
    "duration": 7,
    "start_time": "2022-01-08T09:45:56.362Z"
   },
   {
    "duration": 6,
    "start_time": "2022-01-08T09:45:56.372Z"
   },
   {
    "duration": 7,
    "start_time": "2022-01-08T09:45:56.380Z"
   },
   {
    "duration": 7,
    "start_time": "2022-01-08T09:45:56.390Z"
   },
   {
    "duration": 5,
    "start_time": "2022-01-08T09:45:56.400Z"
   },
   {
    "duration": 66,
    "start_time": "2022-01-08T09:45:56.408Z"
   },
   {
    "duration": 9,
    "start_time": "2022-01-08T09:45:56.477Z"
   },
   {
    "duration": 7,
    "start_time": "2022-01-08T09:45:56.489Z"
   },
   {
    "duration": 6,
    "start_time": "2022-01-08T09:45:56.499Z"
   },
   {
    "duration": 6,
    "start_time": "2022-01-08T09:45:56.508Z"
   },
   {
    "duration": 49,
    "start_time": "2022-01-08T09:45:56.517Z"
   },
   {
    "duration": 6,
    "start_time": "2022-01-08T09:45:56.569Z"
   },
   {
    "duration": 7,
    "start_time": "2022-01-08T09:45:56.578Z"
   },
   {
    "duration": 6,
    "start_time": "2022-01-08T09:45:56.587Z"
   },
   {
    "duration": 7,
    "start_time": "2022-01-08T09:45:56.595Z"
   },
   {
    "duration": 5,
    "start_time": "2022-01-08T09:45:56.604Z"
   },
   {
    "duration": 468,
    "start_time": "2022-01-08T09:45:56.611Z"
   },
   {
    "duration": 226,
    "start_time": "2022-01-08T09:45:57.081Z"
   },
   {
    "duration": 228,
    "start_time": "2022-01-08T09:45:57.313Z"
   },
   {
    "duration": 4,
    "start_time": "2022-01-08T09:45:57.544Z"
   },
   {
    "duration": 460,
    "start_time": "2022-01-08T09:45:57.562Z"
   },
   {
    "duration": 229,
    "start_time": "2022-01-08T09:45:58.024Z"
   },
   {
    "duration": 303,
    "start_time": "2022-01-08T09:45:58.255Z"
   },
   {
    "duration": 5,
    "start_time": "2022-01-08T09:45:58.560Z"
   },
   {
    "duration": 479,
    "start_time": "2022-01-08T09:45:58.567Z"
   },
   {
    "duration": 231,
    "start_time": "2022-01-08T09:45:59.048Z"
   },
   {
    "duration": 222,
    "start_time": "2022-01-08T09:45:59.281Z"
   },
   {
    "duration": 4,
    "start_time": "2022-01-08T09:45:59.505Z"
   },
   {
    "duration": 8,
    "start_time": "2022-01-08T09:45:59.512Z"
   },
   {
    "duration": 9,
    "start_time": "2022-01-08T09:45:59.523Z"
   },
   {
    "duration": 5,
    "start_time": "2022-01-08T09:45:59.564Z"
   },
   {
    "duration": 8,
    "start_time": "2022-01-08T09:45:59.572Z"
   },
   {
    "duration": 5,
    "start_time": "2022-01-08T09:45:59.582Z"
   },
   {
    "duration": 7,
    "start_time": "2022-01-08T09:45:59.590Z"
   },
   {
    "duration": 75,
    "start_time": "2022-01-08T09:48:51.510Z"
   },
   {
    "duration": 4,
    "start_time": "2022-01-08T09:48:57.363Z"
   },
   {
    "duration": 604,
    "start_time": "2022-01-08T09:48:57.370Z"
   },
   {
    "duration": 43,
    "start_time": "2022-01-08T09:48:57.976Z"
   },
   {
    "duration": 54,
    "start_time": "2022-01-08T09:48:58.022Z"
   },
   {
    "duration": 30,
    "start_time": "2022-01-08T09:48:58.079Z"
   },
   {
    "duration": 12,
    "start_time": "2022-01-08T09:48:58.111Z"
   },
   {
    "duration": 53,
    "start_time": "2022-01-08T09:48:58.127Z"
   },
   {
    "duration": 109,
    "start_time": "2022-01-08T09:48:58.183Z"
   },
   {
    "duration": 5,
    "start_time": "2022-01-08T09:48:58.294Z"
   },
   {
    "duration": 5,
    "start_time": "2022-01-08T09:48:58.301Z"
   },
   {
    "duration": 13,
    "start_time": "2022-01-08T09:48:58.308Z"
   },
   {
    "duration": 39,
    "start_time": "2022-01-08T09:48:58.323Z"
   },
   {
    "duration": 7,
    "start_time": "2022-01-08T09:48:58.365Z"
   },
   {
    "duration": 3,
    "start_time": "2022-01-08T09:48:58.375Z"
   },
   {
    "duration": 89,
    "start_time": "2022-01-08T09:48:58.380Z"
   },
   {
    "duration": 90,
    "start_time": "2022-01-08T09:48:58.472Z"
   },
   {
    "duration": 4,
    "start_time": "2022-01-08T09:48:58.565Z"
   },
   {
    "duration": 15,
    "start_time": "2022-01-08T09:48:58.572Z"
   },
   {
    "duration": 39,
    "start_time": "2022-01-08T09:48:58.592Z"
   },
   {
    "duration": 29,
    "start_time": "2022-01-08T09:48:58.635Z"
   },
   {
    "duration": 14,
    "start_time": "2022-01-08T09:48:58.666Z"
   },
   {
    "duration": 47,
    "start_time": "2022-01-08T09:48:58.682Z"
   },
   {
    "duration": 4,
    "start_time": "2022-01-08T09:48:58.731Z"
   },
   {
    "duration": 26,
    "start_time": "2022-01-08T09:48:58.737Z"
   },
   {
    "duration": 13,
    "start_time": "2022-01-08T09:48:58.765Z"
   },
   {
    "duration": 16,
    "start_time": "2022-01-08T09:48:58.780Z"
   },
   {
    "duration": 16,
    "start_time": "2022-01-08T09:48:58.798Z"
   },
   {
    "duration": 6,
    "start_time": "2022-01-08T09:48:58.816Z"
   },
   {
    "duration": 13,
    "start_time": "2022-01-08T09:48:58.864Z"
   },
   {
    "duration": 11,
    "start_time": "2022-01-08T09:48:58.879Z"
   },
   {
    "duration": 307,
    "start_time": "2022-01-08T09:48:58.893Z"
   },
   {
    "duration": 72,
    "start_time": "2022-01-08T09:48:59.203Z"
   },
   {
    "duration": 8,
    "start_time": "2022-01-08T09:48:59.277Z"
   },
   {
    "duration": 7,
    "start_time": "2022-01-08T09:48:59.287Z"
   },
   {
    "duration": 8,
    "start_time": "2022-01-08T09:48:59.296Z"
   },
   {
    "duration": 12,
    "start_time": "2022-01-08T09:48:59.306Z"
   },
   {
    "duration": 46,
    "start_time": "2022-01-08T09:48:59.320Z"
   },
   {
    "duration": 10,
    "start_time": "2022-01-08T09:48:59.368Z"
   },
   {
    "duration": 10,
    "start_time": "2022-01-08T09:48:59.381Z"
   },
   {
    "duration": 6,
    "start_time": "2022-01-08T09:48:59.393Z"
   },
   {
    "duration": 7,
    "start_time": "2022-01-08T09:48:59.402Z"
   },
   {
    "duration": 52,
    "start_time": "2022-01-08T09:48:59.412Z"
   },
   {
    "duration": 11,
    "start_time": "2022-01-08T09:48:59.467Z"
   },
   {
    "duration": 7,
    "start_time": "2022-01-08T09:48:59.481Z"
   },
   {
    "duration": 9,
    "start_time": "2022-01-08T09:48:59.491Z"
   },
   {
    "duration": 7,
    "start_time": "2022-01-08T09:48:59.503Z"
   },
   {
    "duration": 5,
    "start_time": "2022-01-08T09:48:59.564Z"
   },
   {
    "duration": 8,
    "start_time": "2022-01-08T09:48:59.571Z"
   },
   {
    "duration": 9,
    "start_time": "2022-01-08T09:48:59.582Z"
   },
   {
    "duration": 6,
    "start_time": "2022-01-08T09:48:59.593Z"
   },
   {
    "duration": 6,
    "start_time": "2022-01-08T09:48:59.601Z"
   },
   {
    "duration": 54,
    "start_time": "2022-01-08T09:48:59.610Z"
   },
   {
    "duration": 433,
    "start_time": "2022-01-08T09:48:59.666Z"
   },
   {
    "duration": 235,
    "start_time": "2022-01-08T09:49:00.101Z"
   },
   {
    "duration": 232,
    "start_time": "2022-01-08T09:49:00.344Z"
   },
   {
    "duration": 4,
    "start_time": "2022-01-08T09:49:00.579Z"
   },
   {
    "duration": 468,
    "start_time": "2022-01-08T09:49:00.586Z"
   },
   {
    "duration": 332,
    "start_time": "2022-01-08T09:49:01.056Z"
   },
   {
    "duration": 220,
    "start_time": "2022-01-08T09:49:01.391Z"
   },
   {
    "duration": 4,
    "start_time": "2022-01-08T09:49:01.613Z"
   },
   {
    "duration": 458,
    "start_time": "2022-01-08T09:49:01.619Z"
   },
   {
    "duration": 231,
    "start_time": "2022-01-08T09:49:02.080Z"
   },
   {
    "duration": 219,
    "start_time": "2022-01-08T09:49:02.314Z"
   },
   {
    "duration": 5,
    "start_time": "2022-01-08T09:49:02.535Z"
   },
   {
    "duration": 25,
    "start_time": "2022-01-08T09:49:02.542Z"
   },
   {
    "duration": 7,
    "start_time": "2022-01-08T09:49:02.569Z"
   },
   {
    "duration": 7,
    "start_time": "2022-01-08T09:49:02.578Z"
   },
   {
    "duration": 8,
    "start_time": "2022-01-08T09:49:02.587Z"
   },
   {
    "duration": 7,
    "start_time": "2022-01-08T09:49:02.597Z"
   },
   {
    "duration": 8,
    "start_time": "2022-01-08T09:49:02.606Z"
   },
   {
    "duration": 97,
    "start_time": "2022-01-08T09:57:44.504Z"
   },
   {
    "duration": 324,
    "start_time": "2022-01-08T09:58:03.975Z"
   },
   {
    "duration": 307,
    "start_time": "2022-01-08T09:58:25.200Z"
   },
   {
    "duration": 304,
    "start_time": "2022-01-08T09:58:28.601Z"
   },
   {
    "duration": 310,
    "start_time": "2022-01-08T09:58:39.736Z"
   },
   {
    "duration": 4,
    "start_time": "2022-01-08T09:59:10.086Z"
   },
   {
    "duration": 593,
    "start_time": "2022-01-08T09:59:10.096Z"
   },
   {
    "duration": 43,
    "start_time": "2022-01-08T09:59:10.692Z"
   },
   {
    "duration": 40,
    "start_time": "2022-01-08T09:59:10.739Z"
   },
   {
    "duration": 29,
    "start_time": "2022-01-08T09:59:10.781Z"
   },
   {
    "duration": 11,
    "start_time": "2022-01-08T09:59:10.812Z"
   },
   {
    "duration": 53,
    "start_time": "2022-01-08T09:59:10.825Z"
   },
   {
    "duration": 108,
    "start_time": "2022-01-08T09:59:10.880Z"
   },
   {
    "duration": 5,
    "start_time": "2022-01-08T09:59:10.992Z"
   },
   {
    "duration": 6,
    "start_time": "2022-01-08T09:59:11.000Z"
   },
   {
    "duration": 18,
    "start_time": "2022-01-08T09:59:11.008Z"
   },
   {
    "duration": 10,
    "start_time": "2022-01-08T09:59:11.029Z"
   },
   {
    "duration": 7,
    "start_time": "2022-01-08T09:59:11.063Z"
   },
   {
    "duration": 3,
    "start_time": "2022-01-08T09:59:11.072Z"
   },
   {
    "duration": 88,
    "start_time": "2022-01-08T09:59:11.077Z"
   },
   {
    "duration": 329,
    "start_time": "2022-01-08T09:59:11.167Z"
   },
   {
    "duration": 433,
    "start_time": "2022-01-08T09:59:11.498Z"
   },
   {
    "duration": 91,
    "start_time": "2022-01-08T09:59:11.933Z"
   },
   {
    "duration": 5,
    "start_time": "2022-01-08T09:59:12.027Z"
   },
   {
    "duration": 32,
    "start_time": "2022-01-08T09:59:12.035Z"
   },
   {
    "duration": 43,
    "start_time": "2022-01-08T09:59:12.070Z"
   },
   {
    "duration": 4,
    "start_time": "2022-01-08T09:59:12.116Z"
   },
   {
    "duration": 13,
    "start_time": "2022-01-08T09:59:12.123Z"
   },
   {
    "duration": 32,
    "start_time": "2022-01-08T09:59:12.170Z"
   },
   {
    "duration": 4,
    "start_time": "2022-01-08T09:59:12.207Z"
   },
   {
    "duration": 6,
    "start_time": "2022-01-08T09:59:12.214Z"
   },
   {
    "duration": 51,
    "start_time": "2022-01-08T09:59:12.223Z"
   },
   {
    "duration": 20,
    "start_time": "2022-01-08T09:59:12.277Z"
   },
   {
    "duration": 20,
    "start_time": "2022-01-08T09:59:12.300Z"
   },
   {
    "duration": 44,
    "start_time": "2022-01-08T09:59:12.323Z"
   },
   {
    "duration": 18,
    "start_time": "2022-01-08T09:59:12.370Z"
   },
   {
    "duration": 11,
    "start_time": "2022-01-08T09:59:12.391Z"
   },
   {
    "duration": 308,
    "start_time": "2022-01-08T09:59:12.405Z"
   },
   {
    "duration": 52,
    "start_time": "2022-01-08T09:59:12.715Z"
   },
   {
    "duration": 12,
    "start_time": "2022-01-08T09:59:12.770Z"
   },
   {
    "duration": 13,
    "start_time": "2022-01-08T09:59:12.784Z"
   },
   {
    "duration": 8,
    "start_time": "2022-01-08T09:59:12.800Z"
   },
   {
    "duration": 8,
    "start_time": "2022-01-08T09:59:12.811Z"
   },
   {
    "duration": 47,
    "start_time": "2022-01-08T09:59:12.821Z"
   },
   {
    "duration": 7,
    "start_time": "2022-01-08T09:59:12.870Z"
   },
   {
    "duration": 6,
    "start_time": "2022-01-08T09:59:12.880Z"
   },
   {
    "duration": 7,
    "start_time": "2022-01-08T09:59:12.890Z"
   },
   {
    "duration": 6,
    "start_time": "2022-01-08T09:59:12.899Z"
   },
   {
    "duration": 58,
    "start_time": "2022-01-08T09:59:12.908Z"
   },
   {
    "duration": 9,
    "start_time": "2022-01-08T09:59:12.970Z"
   },
   {
    "duration": 19,
    "start_time": "2022-01-08T09:59:12.982Z"
   },
   {
    "duration": 6,
    "start_time": "2022-01-08T09:59:13.004Z"
   },
   {
    "duration": 7,
    "start_time": "2022-01-08T09:59:13.013Z"
   },
   {
    "duration": 5,
    "start_time": "2022-01-08T09:59:13.022Z"
   },
   {
    "duration": 10,
    "start_time": "2022-01-08T09:59:13.064Z"
   },
   {
    "duration": 8,
    "start_time": "2022-01-08T09:59:13.077Z"
   },
   {
    "duration": 13,
    "start_time": "2022-01-08T09:59:13.089Z"
   },
   {
    "duration": 9,
    "start_time": "2022-01-08T09:59:13.105Z"
   },
   {
    "duration": 51,
    "start_time": "2022-01-08T09:59:13.117Z"
   },
   {
    "duration": 432,
    "start_time": "2022-01-08T09:59:13.171Z"
   },
   {
    "duration": 219,
    "start_time": "2022-01-08T09:59:13.606Z"
   },
   {
    "duration": 242,
    "start_time": "2022-01-08T09:59:13.827Z"
   },
   {
    "duration": 4,
    "start_time": "2022-01-08T09:59:14.072Z"
   },
   {
    "duration": 463,
    "start_time": "2022-01-08T09:59:14.079Z"
   },
   {
    "duration": 235,
    "start_time": "2022-01-08T09:59:14.545Z"
   },
   {
    "duration": 206,
    "start_time": "2022-01-08T09:59:14.783Z"
   },
   {
    "duration": 5,
    "start_time": "2022-01-08T09:59:14.991Z"
   },
   {
    "duration": 448,
    "start_time": "2022-01-08T09:59:14.999Z"
   },
   {
    "duration": 310,
    "start_time": "2022-01-08T09:59:15.450Z"
   },
   {
    "duration": 221,
    "start_time": "2022-01-08T09:59:15.764Z"
   },
   {
    "duration": 4,
    "start_time": "2022-01-08T09:59:15.989Z"
   },
   {
    "duration": 8,
    "start_time": "2022-01-08T09:59:15.996Z"
   },
   {
    "duration": 9,
    "start_time": "2022-01-08T09:59:16.006Z"
   },
   {
    "duration": 6,
    "start_time": "2022-01-08T09:59:16.023Z"
   },
   {
    "duration": 7,
    "start_time": "2022-01-08T09:59:16.064Z"
   },
   {
    "duration": 6,
    "start_time": "2022-01-08T09:59:16.074Z"
   },
   {
    "duration": 8,
    "start_time": "2022-01-08T09:59:16.083Z"
   },
   {
    "duration": 324,
    "start_time": "2022-01-08T10:00:22.842Z"
   },
   {
    "duration": 407,
    "start_time": "2022-01-08T10:00:39.041Z"
   },
   {
    "duration": 351,
    "start_time": "2022-01-08T10:00:43.472Z"
   },
   {
    "duration": 345,
    "start_time": "2022-01-08T10:09:21.744Z"
   },
   {
    "duration": 459,
    "start_time": "2022-01-08T10:09:34.419Z"
   },
   {
    "duration": 341,
    "start_time": "2022-01-08T10:09:42.642Z"
   },
   {
    "duration": 98,
    "start_time": "2022-01-08T10:10:43.866Z"
   },
   {
    "duration": 334,
    "start_time": "2022-01-08T10:11:32.903Z"
   },
   {
    "duration": 4,
    "start_time": "2022-01-08T10:15:55.675Z"
   },
   {
    "duration": 346,
    "start_time": "2022-01-08T10:16:57.002Z"
   },
   {
    "duration": 350,
    "start_time": "2022-01-08T10:17:29.269Z"
   },
   {
    "duration": 4,
    "start_time": "2022-01-08T10:19:43.891Z"
   },
   {
    "duration": 562,
    "start_time": "2022-01-08T10:19:43.901Z"
   },
   {
    "duration": 41,
    "start_time": "2022-01-08T10:19:44.466Z"
   },
   {
    "duration": 53,
    "start_time": "2022-01-08T10:19:44.510Z"
   },
   {
    "duration": 30,
    "start_time": "2022-01-08T10:19:44.566Z"
   },
   {
    "duration": 12,
    "start_time": "2022-01-08T10:19:44.598Z"
   },
   {
    "duration": 151,
    "start_time": "2022-01-08T10:19:44.612Z"
   },
   {
    "duration": 102,
    "start_time": "2022-01-08T10:19:44.765Z"
   },
   {
    "duration": 5,
    "start_time": "2022-01-08T10:19:44.871Z"
   },
   {
    "duration": 5,
    "start_time": "2022-01-08T10:19:44.879Z"
   },
   {
    "duration": 13,
    "start_time": "2022-01-08T10:19:44.886Z"
   },
   {
    "duration": 7,
    "start_time": "2022-01-08T10:19:44.901Z"
   },
   {
    "duration": 7,
    "start_time": "2022-01-08T10:19:44.911Z"
   },
   {
    "duration": 47,
    "start_time": "2022-01-08T10:19:44.920Z"
   },
   {
    "duration": 66,
    "start_time": "2022-01-08T10:19:44.970Z"
   },
   {
    "duration": 352,
    "start_time": "2022-01-08T10:19:45.038Z"
   },
   {
    "duration": 347,
    "start_time": "2022-01-08T10:19:45.393Z"
   },
   {
    "duration": 84,
    "start_time": "2022-01-08T10:19:45.743Z"
   },
   {
    "duration": 5,
    "start_time": "2022-01-08T10:19:45.829Z"
   },
   {
    "duration": 32,
    "start_time": "2022-01-08T10:19:45.837Z"
   },
   {
    "duration": 40,
    "start_time": "2022-01-08T10:19:45.871Z"
   },
   {
    "duration": 3,
    "start_time": "2022-01-08T10:19:45.914Z"
   },
   {
    "duration": 48,
    "start_time": "2022-01-08T10:19:45.920Z"
   },
   {
    "duration": 31,
    "start_time": "2022-01-08T10:19:45.974Z"
   },
   {
    "duration": 4,
    "start_time": "2022-01-08T10:19:46.009Z"
   },
   {
    "duration": 6,
    "start_time": "2022-01-08T10:19:46.015Z"
   },
   {
    "duration": 42,
    "start_time": "2022-01-08T10:19:46.023Z"
   },
   {
    "duration": 5,
    "start_time": "2022-01-08T10:19:46.067Z"
   },
   {
    "duration": 4,
    "start_time": "2022-01-08T10:19:46.074Z"
   },
   {
    "duration": 27,
    "start_time": "2022-01-08T10:19:46.080Z"
   },
   {
    "duration": 7,
    "start_time": "2022-01-08T10:19:46.109Z"
   },
   {
    "duration": 50,
    "start_time": "2022-01-08T10:19:46.118Z"
   },
   {
    "duration": 8,
    "start_time": "2022-01-08T10:19:46.170Z"
   },
   {
    "duration": 282,
    "start_time": "2022-01-08T10:19:46.181Z"
   },
   {
    "duration": 45,
    "start_time": "2022-01-08T10:19:46.465Z"
   },
   {
    "duration": 8,
    "start_time": "2022-01-08T10:19:46.512Z"
   },
   {
    "duration": 16,
    "start_time": "2022-01-08T10:19:46.522Z"
   },
   {
    "duration": 26,
    "start_time": "2022-01-08T10:19:46.540Z"
   },
   {
    "duration": 8,
    "start_time": "2022-01-08T10:19:46.569Z"
   },
   {
    "duration": 6,
    "start_time": "2022-01-08T10:19:46.579Z"
   },
   {
    "duration": 8,
    "start_time": "2022-01-08T10:19:46.588Z"
   },
   {
    "duration": 7,
    "start_time": "2022-01-08T10:19:46.599Z"
   },
   {
    "duration": 55,
    "start_time": "2022-01-08T10:19:46.608Z"
   },
   {
    "duration": 6,
    "start_time": "2022-01-08T10:19:46.666Z"
   },
   {
    "duration": 12,
    "start_time": "2022-01-08T10:19:46.675Z"
   },
   {
    "duration": 7,
    "start_time": "2022-01-08T10:19:46.689Z"
   },
   {
    "duration": 5,
    "start_time": "2022-01-08T10:19:46.699Z"
   },
   {
    "duration": 5,
    "start_time": "2022-01-08T10:19:46.707Z"
   },
   {
    "duration": 47,
    "start_time": "2022-01-08T10:19:46.715Z"
   },
   {
    "duration": 5,
    "start_time": "2022-01-08T10:19:46.765Z"
   },
   {
    "duration": 7,
    "start_time": "2022-01-08T10:19:46.773Z"
   },
   {
    "duration": 6,
    "start_time": "2022-01-08T10:19:46.783Z"
   },
   {
    "duration": 6,
    "start_time": "2022-01-08T10:19:46.792Z"
   },
   {
    "duration": 4,
    "start_time": "2022-01-08T10:19:46.801Z"
   },
   {
    "duration": 58,
    "start_time": "2022-01-08T10:19:46.808Z"
   },
   {
    "duration": 440,
    "start_time": "2022-01-08T10:19:46.868Z"
   },
   {
    "duration": 238,
    "start_time": "2022-01-08T10:19:47.311Z"
   },
   {
    "duration": 276,
    "start_time": "2022-01-08T10:19:47.552Z"
   },
   {
    "duration": 5,
    "start_time": "2022-01-08T10:19:47.831Z"
   },
   {
    "duration": 485,
    "start_time": "2022-01-08T10:19:47.839Z"
   },
   {
    "duration": 221,
    "start_time": "2022-01-08T10:19:48.327Z"
   },
   {
    "duration": 230,
    "start_time": "2022-01-08T10:19:48.552Z"
   },
   {
    "duration": 5,
    "start_time": "2022-01-08T10:19:48.784Z"
   },
   {
    "duration": 575,
    "start_time": "2022-01-08T10:19:48.791Z"
   },
   {
    "duration": 238,
    "start_time": "2022-01-08T10:19:49.369Z"
   },
   {
    "duration": 220,
    "start_time": "2022-01-08T10:19:49.609Z"
   },
   {
    "duration": 5,
    "start_time": "2022-01-08T10:19:49.831Z"
   },
   {
    "duration": 27,
    "start_time": "2022-01-08T10:19:49.838Z"
   },
   {
    "duration": 21,
    "start_time": "2022-01-08T10:19:49.872Z"
   },
   {
    "duration": 21,
    "start_time": "2022-01-08T10:19:49.896Z"
   },
   {
    "duration": 17,
    "start_time": "2022-01-08T10:19:49.919Z"
   },
   {
    "duration": 26,
    "start_time": "2022-01-08T10:19:49.938Z"
   },
   {
    "duration": 16,
    "start_time": "2022-01-08T10:19:49.967Z"
   },
   {
    "duration": 98,
    "start_time": "2022-01-08T10:21:44.461Z"
   },
   {
    "duration": 9,
    "start_time": "2022-01-08T10:40:36.011Z"
   },
   {
    "duration": 14,
    "start_time": "2022-01-08T10:40:58.040Z"
   },
   {
    "duration": 8,
    "start_time": "2022-01-08T10:41:13.962Z"
   },
   {
    "duration": 9,
    "start_time": "2022-01-08T10:41:19.711Z"
   },
   {
    "duration": 8,
    "start_time": "2022-01-08T10:41:45.105Z"
   },
   {
    "duration": 6,
    "start_time": "2022-01-08T10:42:02.812Z"
   },
   {
    "duration": 6,
    "start_time": "2022-01-08T10:42:16.068Z"
   },
   {
    "duration": 100,
    "start_time": "2022-01-08T11:01:34.024Z"
   },
   {
    "duration": 7,
    "start_time": "2022-01-08T11:01:40.189Z"
   },
   {
    "duration": 689,
    "start_time": "2022-01-08T11:03:08.003Z"
   },
   {
    "duration": 434,
    "start_time": "2022-01-08T11:11:31.427Z"
   },
   {
    "duration": 885,
    "start_time": "2022-01-08T11:11:50.428Z"
   },
   {
    "duration": 353,
    "start_time": "2022-01-08T11:20:03.477Z"
   },
   {
    "duration": 9,
    "start_time": "2022-01-08T11:20:52.075Z"
   },
   {
    "duration": 261,
    "start_time": "2022-01-08T11:20:54.766Z"
   },
   {
    "duration": 791,
    "start_time": "2022-01-08T11:24:04.251Z"
   },
   {
    "duration": 4,
    "start_time": "2022-01-08T11:24:11.104Z"
   },
   {
    "duration": 613,
    "start_time": "2022-01-08T11:24:11.112Z"
   },
   {
    "duration": 46,
    "start_time": "2022-01-08T11:24:11.728Z"
   },
   {
    "duration": 38,
    "start_time": "2022-01-08T11:24:11.778Z"
   },
   {
    "duration": 61,
    "start_time": "2022-01-08T11:24:11.819Z"
   },
   {
    "duration": 12,
    "start_time": "2022-01-08T11:24:11.883Z"
   },
   {
    "duration": 21,
    "start_time": "2022-01-08T11:24:11.899Z"
   },
   {
    "duration": 90,
    "start_time": "2022-01-08T11:24:11.964Z"
   },
   {
    "duration": 4,
    "start_time": "2022-01-08T11:24:12.064Z"
   },
   {
    "duration": 5,
    "start_time": "2022-01-08T11:24:12.071Z"
   },
   {
    "duration": 12,
    "start_time": "2022-01-08T11:24:12.079Z"
   },
   {
    "duration": 9,
    "start_time": "2022-01-08T11:24:12.093Z"
   },
   {
    "duration": 6,
    "start_time": "2022-01-08T11:24:12.105Z"
   },
   {
    "duration": 3,
    "start_time": "2022-01-08T11:24:12.114Z"
   },
   {
    "duration": 64,
    "start_time": "2022-01-08T11:24:12.163Z"
   },
   {
    "duration": 370,
    "start_time": "2022-01-08T11:24:12.230Z"
   },
   {
    "duration": 350,
    "start_time": "2022-01-08T11:24:12.602Z"
   },
   {
    "duration": 83,
    "start_time": "2022-01-08T11:24:12.954Z"
   },
   {
    "duration": 4,
    "start_time": "2022-01-08T11:24:13.042Z"
   },
   {
    "duration": 13,
    "start_time": "2022-01-08T11:24:13.063Z"
   },
   {
    "duration": 38,
    "start_time": "2022-01-08T11:24:13.079Z"
   },
   {
    "duration": 4,
    "start_time": "2022-01-08T11:24:13.119Z"
   },
   {
    "duration": 45,
    "start_time": "2022-01-08T11:24:13.126Z"
   },
   {
    "duration": 35,
    "start_time": "2022-01-08T11:24:13.174Z"
   },
   {
    "duration": 3,
    "start_time": "2022-01-08T11:24:13.212Z"
   },
   {
    "duration": 6,
    "start_time": "2022-01-08T11:24:13.218Z"
   },
   {
    "duration": 44,
    "start_time": "2022-01-08T11:24:13.227Z"
   },
   {
    "duration": 5,
    "start_time": "2022-01-08T11:24:13.274Z"
   },
   {
    "duration": 4,
    "start_time": "2022-01-08T11:24:13.282Z"
   },
   {
    "duration": 26,
    "start_time": "2022-01-08T11:24:13.289Z"
   },
   {
    "duration": 6,
    "start_time": "2022-01-08T11:24:13.317Z"
   },
   {
    "duration": 44,
    "start_time": "2022-01-08T11:24:13.326Z"
   },
   {
    "duration": 9,
    "start_time": "2022-01-08T11:24:13.372Z"
   },
   {
    "duration": 275,
    "start_time": "2022-01-08T11:24:13.383Z"
   },
   {
    "duration": 43,
    "start_time": "2022-01-08T11:24:13.662Z"
   },
   {
    "duration": 7,
    "start_time": "2022-01-08T11:24:13.708Z"
   },
   {
    "duration": 5,
    "start_time": "2022-01-08T11:24:13.718Z"
   },
   {
    "duration": 39,
    "start_time": "2022-01-08T11:24:13.726Z"
   },
   {
    "duration": 6,
    "start_time": "2022-01-08T11:24:13.768Z"
   },
   {
    "duration": 6,
    "start_time": "2022-01-08T11:24:13.777Z"
   },
   {
    "duration": 7,
    "start_time": "2022-01-08T11:24:13.786Z"
   },
   {
    "duration": 6,
    "start_time": "2022-01-08T11:24:13.796Z"
   },
   {
    "duration": 62,
    "start_time": "2022-01-08T11:24:13.805Z"
   },
   {
    "duration": 8,
    "start_time": "2022-01-08T11:24:13.869Z"
   },
   {
    "duration": 6,
    "start_time": "2022-01-08T11:24:13.880Z"
   },
   {
    "duration": 10,
    "start_time": "2022-01-08T11:24:13.889Z"
   },
   {
    "duration": 5,
    "start_time": "2022-01-08T11:24:13.902Z"
   },
   {
    "duration": 10,
    "start_time": "2022-01-08T11:24:13.964Z"
   },
   {
    "duration": 6,
    "start_time": "2022-01-08T11:24:13.976Z"
   },
   {
    "duration": 10,
    "start_time": "2022-01-08T11:24:13.984Z"
   },
   {
    "duration": 9,
    "start_time": "2022-01-08T11:24:13.996Z"
   },
   {
    "duration": 13,
    "start_time": "2022-01-08T11:24:14.007Z"
   },
   {
    "duration": 6,
    "start_time": "2022-01-08T11:24:14.023Z"
   },
   {
    "duration": 5,
    "start_time": "2022-01-08T11:24:14.063Z"
   },
   {
    "duration": 6,
    "start_time": "2022-01-08T11:24:14.075Z"
   },
   {
    "duration": 426,
    "start_time": "2022-01-08T11:24:14.083Z"
   },
   {
    "duration": 219,
    "start_time": "2022-01-08T11:24:14.512Z"
   },
   {
    "duration": 321,
    "start_time": "2022-01-08T11:24:14.734Z"
   },
   {
    "duration": 5,
    "start_time": "2022-01-08T11:24:15.058Z"
   },
   {
    "duration": 457,
    "start_time": "2022-01-08T11:24:15.065Z"
   },
   {
    "duration": 231,
    "start_time": "2022-01-08T11:24:15.525Z"
   },
   {
    "duration": 218,
    "start_time": "2022-01-08T11:24:15.759Z"
   },
   {
    "duration": 4,
    "start_time": "2022-01-08T11:24:15.980Z"
   },
   {
    "duration": 451,
    "start_time": "2022-01-08T11:24:15.986Z"
   },
   {
    "duration": 234,
    "start_time": "2022-01-08T11:24:16.439Z"
   },
   {
    "duration": 331,
    "start_time": "2022-01-08T11:24:16.675Z"
   },
   {
    "duration": 5,
    "start_time": "2022-01-08T11:24:17.009Z"
   },
   {
    "duration": 962,
    "start_time": "2022-01-08T11:24:17.016Z"
   },
   {
    "duration": -713,
    "start_time": "2022-01-08T11:24:18.694Z"
   },
   {
    "duration": -718,
    "start_time": "2022-01-08T11:24:18.701Z"
   },
   {
    "duration": -724,
    "start_time": "2022-01-08T11:24:18.709Z"
   },
   {
    "duration": -730,
    "start_time": "2022-01-08T11:24:18.716Z"
   },
   {
    "duration": -734,
    "start_time": "2022-01-08T11:24:18.722Z"
   },
   {
    "duration": -738,
    "start_time": "2022-01-08T11:24:18.728Z"
   },
   {
    "duration": 217,
    "start_time": "2022-01-08T11:25:02.868Z"
   },
   {
    "duration": 5,
    "start_time": "2022-01-08T11:25:05.905Z"
   },
   {
    "duration": 626,
    "start_time": "2022-01-08T11:25:05.914Z"
   },
   {
    "duration": 61,
    "start_time": "2022-01-08T11:25:06.544Z"
   },
   {
    "duration": 56,
    "start_time": "2022-01-08T11:25:06.608Z"
   },
   {
    "duration": 31,
    "start_time": "2022-01-08T11:25:06.667Z"
   },
   {
    "duration": 12,
    "start_time": "2022-01-08T11:25:06.701Z"
   },
   {
    "duration": 62,
    "start_time": "2022-01-08T11:25:06.719Z"
   },
   {
    "duration": 121,
    "start_time": "2022-01-08T11:25:06.785Z"
   },
   {
    "duration": 6,
    "start_time": "2022-01-08T11:25:06.909Z"
   },
   {
    "duration": 7,
    "start_time": "2022-01-08T11:25:06.918Z"
   },
   {
    "duration": 40,
    "start_time": "2022-01-08T11:25:06.927Z"
   },
   {
    "duration": 9,
    "start_time": "2022-01-08T11:25:06.969Z"
   },
   {
    "duration": 6,
    "start_time": "2022-01-08T11:25:06.981Z"
   },
   {
    "duration": 5,
    "start_time": "2022-01-08T11:25:06.990Z"
   },
   {
    "duration": 100,
    "start_time": "2022-01-08T11:25:06.998Z"
   },
   {
    "duration": 363,
    "start_time": "2022-01-08T11:25:07.100Z"
   },
   {
    "duration": 364,
    "start_time": "2022-01-08T11:25:07.465Z"
   },
   {
    "duration": 98,
    "start_time": "2022-01-08T11:25:07.832Z"
   },
   {
    "duration": 4,
    "start_time": "2022-01-08T11:25:07.936Z"
   },
   {
    "duration": 24,
    "start_time": "2022-01-08T11:25:07.944Z"
   },
   {
    "duration": 51,
    "start_time": "2022-01-08T11:25:07.971Z"
   },
   {
    "duration": 4,
    "start_time": "2022-01-08T11:25:08.024Z"
   },
   {
    "duration": 33,
    "start_time": "2022-01-08T11:25:08.031Z"
   },
   {
    "duration": 43,
    "start_time": "2022-01-08T11:25:08.067Z"
   },
   {
    "duration": 3,
    "start_time": "2022-01-08T11:25:08.113Z"
   },
   {
    "duration": 6,
    "start_time": "2022-01-08T11:25:08.119Z"
   },
   {
    "duration": 35,
    "start_time": "2022-01-08T11:25:08.127Z"
   },
   {
    "duration": 3,
    "start_time": "2022-01-08T11:25:08.165Z"
   },
   {
    "duration": 4,
    "start_time": "2022-01-08T11:25:08.171Z"
   },
   {
    "duration": 27,
    "start_time": "2022-01-08T11:25:08.178Z"
   },
   {
    "duration": 7,
    "start_time": "2022-01-08T11:25:08.208Z"
   },
   {
    "duration": 50,
    "start_time": "2022-01-08T11:25:08.217Z"
   },
   {
    "duration": 9,
    "start_time": "2022-01-08T11:25:08.270Z"
   },
   {
    "duration": 267,
    "start_time": "2022-01-08T11:25:08.281Z"
   },
   {
    "duration": 53,
    "start_time": "2022-01-08T11:25:08.551Z"
   },
   {
    "duration": 8,
    "start_time": "2022-01-08T11:25:08.607Z"
   },
   {
    "duration": 7,
    "start_time": "2022-01-08T11:25:08.617Z"
   },
   {
    "duration": 9,
    "start_time": "2022-01-08T11:25:08.627Z"
   },
   {
    "duration": 6,
    "start_time": "2022-01-08T11:25:08.662Z"
   },
   {
    "duration": 7,
    "start_time": "2022-01-08T11:25:08.670Z"
   },
   {
    "duration": 6,
    "start_time": "2022-01-08T11:25:08.679Z"
   },
   {
    "duration": 7,
    "start_time": "2022-01-08T11:25:08.688Z"
   },
   {
    "duration": 11,
    "start_time": "2022-01-08T11:25:08.697Z"
   },
   {
    "duration": 55,
    "start_time": "2022-01-08T11:25:08.710Z"
   },
   {
    "duration": 5,
    "start_time": "2022-01-08T11:25:08.767Z"
   },
   {
    "duration": 8,
    "start_time": "2022-01-08T11:25:08.774Z"
   },
   {
    "duration": 9,
    "start_time": "2022-01-08T11:25:08.785Z"
   },
   {
    "duration": 6,
    "start_time": "2022-01-08T11:25:08.796Z"
   },
   {
    "duration": 6,
    "start_time": "2022-01-08T11:25:08.804Z"
   },
   {
    "duration": 51,
    "start_time": "2022-01-08T11:25:08.812Z"
   },
   {
    "duration": 7,
    "start_time": "2022-01-08T11:25:08.866Z"
   },
   {
    "duration": 7,
    "start_time": "2022-01-08T11:25:08.876Z"
   },
   {
    "duration": 6,
    "start_time": "2022-01-08T11:25:08.886Z"
   },
   {
    "duration": 6,
    "start_time": "2022-01-08T11:25:08.895Z"
   },
   {
    "duration": 5,
    "start_time": "2022-01-08T11:25:08.908Z"
   },
   {
    "duration": 425,
    "start_time": "2022-01-08T11:25:08.965Z"
   },
   {
    "duration": 216,
    "start_time": "2022-01-08T11:25:09.393Z"
   },
   {
    "duration": 233,
    "start_time": "2022-01-08T11:25:09.612Z"
   },
   {
    "duration": 4,
    "start_time": "2022-01-08T11:25:09.848Z"
   },
   {
    "duration": 458,
    "start_time": "2022-01-08T11:25:09.855Z"
   },
   {
    "duration": 237,
    "start_time": "2022-01-08T11:25:10.316Z"
   },
   {
    "duration": 301,
    "start_time": "2022-01-08T11:25:10.562Z"
   },
   {
    "duration": 4,
    "start_time": "2022-01-08T11:25:10.866Z"
   },
   {
    "duration": 463,
    "start_time": "2022-01-08T11:25:10.873Z"
   },
   {
    "duration": 319,
    "start_time": "2022-01-08T11:25:11.338Z"
   },
   {
    "duration": 341,
    "start_time": "2022-01-08T11:25:11.662Z"
   },
   {
    "duration": 6,
    "start_time": "2022-01-08T11:25:12.006Z"
   },
   {
    "duration": 1126,
    "start_time": "2022-01-08T11:25:12.016Z"
   },
   {
    "duration": -696,
    "start_time": "2022-01-08T11:25:13.841Z"
   },
   {
    "duration": -703,
    "start_time": "2022-01-08T11:25:13.849Z"
   },
   {
    "duration": -709,
    "start_time": "2022-01-08T11:25:13.857Z"
   },
   {
    "duration": -712,
    "start_time": "2022-01-08T11:25:13.862Z"
   },
   {
    "duration": -716,
    "start_time": "2022-01-08T11:25:13.867Z"
   },
   {
    "duration": -710,
    "start_time": "2022-01-08T11:25:13.872Z"
   },
   {
    "duration": 6,
    "start_time": "2022-01-08T11:32:31.860Z"
   },
   {
    "duration": 6,
    "start_time": "2022-01-08T11:32:41.402Z"
   },
   {
    "duration": 689,
    "start_time": "2022-01-08T11:36:01.567Z"
   },
   {
    "duration": 828,
    "start_time": "2022-01-08T11:37:26.817Z"
   },
   {
    "duration": 766,
    "start_time": "2022-01-08T11:46:46.190Z"
   },
   {
    "duration": 584,
    "start_time": "2022-01-08T11:46:53.800Z"
   },
   {
    "duration": 996,
    "start_time": "2022-01-08T11:47:17.017Z"
   },
   {
    "duration": 932,
    "start_time": "2022-01-08T11:47:27.309Z"
   },
   {
    "duration": 585,
    "start_time": "2022-01-08T11:48:30.835Z"
   },
   {
    "duration": 637,
    "start_time": "2022-01-08T11:48:41.691Z"
   },
   {
    "duration": 566,
    "start_time": "2022-01-08T11:48:51.932Z"
   },
   {
    "duration": 937,
    "start_time": "2022-01-08T11:49:07.176Z"
   },
   {
    "duration": 703,
    "start_time": "2022-01-08T11:49:17.722Z"
   },
   {
    "duration": 719,
    "start_time": "2022-01-08T11:49:53.815Z"
   },
   {
    "duration": 1186,
    "start_time": "2022-01-08T11:50:16.090Z"
   },
   {
    "duration": 1176,
    "start_time": "2022-01-08T11:50:38.155Z"
   },
   {
    "duration": 906,
    "start_time": "2022-01-08T11:52:58.010Z"
   },
   {
    "duration": 1283,
    "start_time": "2022-01-08T11:53:25.396Z"
   },
   {
    "duration": 1305,
    "start_time": "2022-01-08T11:54:31.399Z"
   },
   {
    "duration": 1159,
    "start_time": "2022-01-08T11:54:39.617Z"
   },
   {
    "duration": 574,
    "start_time": "2022-01-08T12:06:52.422Z"
   },
   {
    "duration": 682,
    "start_time": "2022-01-08T12:07:07.171Z"
   },
   {
    "duration": 860,
    "start_time": "2022-01-08T12:08:30.180Z"
   },
   {
    "duration": 891,
    "start_time": "2022-01-08T12:08:37.108Z"
   },
   {
    "duration": 597,
    "start_time": "2022-01-08T12:08:47.949Z"
   },
   {
    "duration": 595,
    "start_time": "2022-01-08T12:08:53.303Z"
   },
   {
    "duration": 775,
    "start_time": "2022-01-08T12:08:59.651Z"
   },
   {
    "duration": 601,
    "start_time": "2022-01-08T12:09:12.080Z"
   },
   {
    "duration": 730,
    "start_time": "2022-01-08T12:09:21.149Z"
   },
   {
    "duration": 659,
    "start_time": "2022-01-08T12:09:32.523Z"
   },
   {
    "duration": 784,
    "start_time": "2022-01-08T12:12:58.898Z"
   },
   {
    "duration": 749,
    "start_time": "2022-01-08T12:13:10.590Z"
   },
   {
    "duration": 743,
    "start_time": "2022-01-08T12:13:18.870Z"
   },
   {
    "duration": 800,
    "start_time": "2022-01-08T12:15:42.591Z"
   },
   {
    "duration": 806,
    "start_time": "2022-01-08T12:16:13.795Z"
   },
   {
    "duration": 981,
    "start_time": "2022-01-08T12:16:24.956Z"
   },
   {
    "duration": 636,
    "start_time": "2022-01-08T12:16:31.991Z"
   },
   {
    "duration": 577,
    "start_time": "2022-01-08T12:17:22.051Z"
   },
   {
    "duration": 919,
    "start_time": "2022-01-08T12:20:58.919Z"
   },
   {
    "duration": 600,
    "start_time": "2022-01-08T12:21:29.590Z"
   },
   {
    "duration": 602,
    "start_time": "2022-01-08T12:21:58.208Z"
   },
   {
    "duration": 573,
    "start_time": "2022-01-08T12:22:20.719Z"
   },
   {
    "duration": 3743,
    "start_time": "2022-01-08T12:22:31.390Z"
   },
   {
    "duration": 658,
    "start_time": "2022-01-08T12:22:48.680Z"
   },
   {
    "duration": 841,
    "start_time": "2022-01-08T12:25:00.214Z"
   },
   {
    "duration": 699,
    "start_time": "2022-01-08T12:25:31.618Z"
   },
   {
    "duration": 706,
    "start_time": "2022-01-08T12:27:49.051Z"
   },
   {
    "duration": 700,
    "start_time": "2022-01-08T12:28:50.484Z"
   },
   {
    "duration": 814,
    "start_time": "2022-01-08T12:31:32.178Z"
   },
   {
    "duration": 7,
    "start_time": "2022-01-08T12:34:57.283Z"
   },
   {
    "duration": 8,
    "start_time": "2022-01-08T12:41:20.575Z"
   },
   {
    "duration": 8,
    "start_time": "2022-01-08T12:41:47.035Z"
   },
   {
    "duration": 466,
    "start_time": "2022-01-08T12:47:48.197Z"
   },
   {
    "duration": 354,
    "start_time": "2022-01-08T12:48:10.106Z"
   },
   {
    "duration": 211,
    "start_time": "2022-01-08T12:50:02.522Z"
   },
   {
    "duration": 8,
    "start_time": "2022-01-08T12:50:53.249Z"
   },
   {
    "duration": 7,
    "start_time": "2022-01-08T12:51:07.529Z"
   },
   {
    "duration": 140,
    "start_time": "2022-01-08T12:52:42.966Z"
   },
   {
    "duration": 89,
    "start_time": "2022-01-08T12:52:57.438Z"
   },
   {
    "duration": 5,
    "start_time": "2022-01-08T12:53:17.953Z"
   },
   {
    "duration": 6,
    "start_time": "2022-01-08T12:53:59.209Z"
   },
   {
    "duration": 5,
    "start_time": "2022-01-08T12:54:13.270Z"
   },
   {
    "duration": 102,
    "start_time": "2022-01-08T12:58:33.204Z"
   },
   {
    "duration": 5,
    "start_time": "2022-01-08T12:58:57.537Z"
   },
   {
    "duration": 6,
    "start_time": "2022-01-08T12:59:29.214Z"
   },
   {
    "duration": 5,
    "start_time": "2022-01-08T12:59:36.056Z"
   },
   {
    "duration": 6,
    "start_time": "2022-01-08T12:59:52.501Z"
   },
   {
    "duration": 5,
    "start_time": "2022-01-08T13:03:05.767Z"
   },
   {
    "duration": 1494,
    "start_time": "2022-01-08T13:11:14.157Z"
   },
   {
    "duration": 544,
    "start_time": "2022-01-08T13:11:15.654Z"
   },
   {
    "duration": 46,
    "start_time": "2022-01-08T13:11:16.201Z"
   },
   {
    "duration": 37,
    "start_time": "2022-01-08T13:11:16.249Z"
   },
   {
    "duration": 35,
    "start_time": "2022-01-08T13:11:16.290Z"
   },
   {
    "duration": 38,
    "start_time": "2022-01-08T13:11:16.328Z"
   },
   {
    "duration": 28,
    "start_time": "2022-01-08T13:11:16.369Z"
   },
   {
    "duration": 129,
    "start_time": "2022-01-08T13:11:16.400Z"
   },
   {
    "duration": 6,
    "start_time": "2022-01-08T13:11:16.533Z"
   },
   {
    "duration": 22,
    "start_time": "2022-01-08T13:11:16.542Z"
   },
   {
    "duration": 14,
    "start_time": "2022-01-08T13:11:16.568Z"
   },
   {
    "duration": 10,
    "start_time": "2022-01-08T13:11:16.585Z"
   },
   {
    "duration": 7,
    "start_time": "2022-01-08T13:11:16.597Z"
   },
   {
    "duration": 5,
    "start_time": "2022-01-08T13:11:16.606Z"
   },
   {
    "duration": 108,
    "start_time": "2022-01-08T13:11:16.613Z"
   },
   {
    "duration": 474,
    "start_time": "2022-01-08T13:11:16.724Z"
   },
   {
    "duration": 368,
    "start_time": "2022-01-08T13:11:17.200Z"
   },
   {
    "duration": 104,
    "start_time": "2022-01-08T13:11:17.571Z"
   },
   {
    "duration": 5,
    "start_time": "2022-01-08T13:11:17.678Z"
   },
   {
    "duration": 20,
    "start_time": "2022-01-08T13:11:17.687Z"
   },
   {
    "duration": 79,
    "start_time": "2022-01-08T13:11:17.709Z"
   },
   {
    "duration": 5,
    "start_time": "2022-01-08T13:11:17.792Z"
   },
   {
    "duration": 21,
    "start_time": "2022-01-08T13:11:17.799Z"
   },
   {
    "duration": 66,
    "start_time": "2022-01-08T13:11:17.823Z"
   },
   {
    "duration": 4,
    "start_time": "2022-01-08T13:11:17.893Z"
   },
   {
    "duration": 9,
    "start_time": "2022-01-08T13:11:17.899Z"
   },
   {
    "duration": 13,
    "start_time": "2022-01-08T13:11:17.915Z"
   },
   {
    "duration": 31,
    "start_time": "2022-01-08T13:11:17.932Z"
   },
   {
    "duration": 6,
    "start_time": "2022-01-08T13:11:17.967Z"
   },
   {
    "duration": 27,
    "start_time": "2022-01-08T13:11:17.976Z"
   },
   {
    "duration": 7,
    "start_time": "2022-01-08T13:11:18.006Z"
   },
   {
    "duration": 55,
    "start_time": "2022-01-08T13:11:18.016Z"
   },
   {
    "duration": 10,
    "start_time": "2022-01-08T13:11:18.074Z"
   },
   {
    "duration": 287,
    "start_time": "2022-01-08T13:11:18.088Z"
   },
   {
    "duration": 44,
    "start_time": "2022-01-08T13:11:18.377Z"
   },
   {
    "duration": 8,
    "start_time": "2022-01-08T13:11:18.423Z"
   },
   {
    "duration": 32,
    "start_time": "2022-01-08T13:11:18.434Z"
   },
   {
    "duration": 7,
    "start_time": "2022-01-08T13:11:18.468Z"
   },
   {
    "duration": 6,
    "start_time": "2022-01-08T13:11:18.477Z"
   },
   {
    "duration": 6,
    "start_time": "2022-01-08T13:11:18.485Z"
   },
   {
    "duration": 5,
    "start_time": "2022-01-08T13:11:18.493Z"
   },
   {
    "duration": 62,
    "start_time": "2022-01-08T13:11:18.501Z"
   },
   {
    "duration": 6,
    "start_time": "2022-01-08T13:11:18.565Z"
   },
   {
    "duration": 6,
    "start_time": "2022-01-08T13:11:18.574Z"
   },
   {
    "duration": 6,
    "start_time": "2022-01-08T13:11:18.582Z"
   },
   {
    "duration": 7,
    "start_time": "2022-01-08T13:11:18.590Z"
   },
   {
    "duration": 6,
    "start_time": "2022-01-08T13:11:18.600Z"
   },
   {
    "duration": 6,
    "start_time": "2022-01-08T13:11:18.664Z"
   },
   {
    "duration": 8,
    "start_time": "2022-01-08T13:11:18.672Z"
   },
   {
    "duration": 6,
    "start_time": "2022-01-08T13:11:18.682Z"
   },
   {
    "duration": 5,
    "start_time": "2022-01-08T13:11:18.690Z"
   },
   {
    "duration": 6,
    "start_time": "2022-01-08T13:11:18.697Z"
   },
   {
    "duration": 58,
    "start_time": "2022-01-08T13:11:18.705Z"
   },
   {
    "duration": 5,
    "start_time": "2022-01-08T13:11:18.766Z"
   },
   {
    "duration": 11,
    "start_time": "2022-01-08T13:11:18.774Z"
   },
   {
    "duration": 483,
    "start_time": "2022-01-08T13:11:18.787Z"
   },
   {
    "duration": 229,
    "start_time": "2022-01-08T13:11:19.273Z"
   },
   {
    "duration": 306,
    "start_time": "2022-01-08T13:11:19.505Z"
   },
   {
    "duration": 4,
    "start_time": "2022-01-08T13:11:19.814Z"
   },
   {
    "duration": 461,
    "start_time": "2022-01-08T13:11:19.820Z"
   },
   {
    "duration": 234,
    "start_time": "2022-01-08T13:11:20.284Z"
   },
   {
    "duration": 215,
    "start_time": "2022-01-08T13:11:20.521Z"
   },
   {
    "duration": 5,
    "start_time": "2022-01-08T13:11:20.739Z"
   },
   {
    "duration": 451,
    "start_time": "2022-01-08T13:11:20.746Z"
   },
   {
    "duration": 240,
    "start_time": "2022-01-08T13:11:21.199Z"
   },
   {
    "duration": 245,
    "start_time": "2022-01-08T13:11:21.441Z"
   },
   {
    "duration": 6,
    "start_time": "2022-01-08T13:11:21.689Z"
   },
   {
    "duration": 1055,
    "start_time": "2022-01-08T13:11:21.698Z"
   },
   {
    "duration": 9,
    "start_time": "2022-01-08T13:11:22.764Z"
   },
   {
    "duration": 668,
    "start_time": "2022-01-08T13:11:22.776Z"
   },
   {
    "duration": 16,
    "start_time": "2022-01-08T13:11:23.447Z"
   },
   {
    "duration": 6,
    "start_time": "2022-01-08T13:11:23.466Z"
   },
   {
    "duration": 6,
    "start_time": "2022-01-08T13:11:23.475Z"
   },
   {
    "duration": 8,
    "start_time": "2022-01-08T13:11:23.484Z"
   },
   {
    "duration": 7,
    "start_time": "2022-01-08T13:11:23.494Z"
   },
   {
    "duration": 63,
    "start_time": "2022-01-08T13:11:23.503Z"
   },
   {
    "duration": 6,
    "start_time": "2022-01-08T13:11:23.569Z"
   },
   {
    "duration": 8,
    "start_time": "2022-01-08T13:11:23.579Z"
   },
   {
    "duration": 449,
    "start_time": "2022-01-08T13:17:17.589Z"
   },
   {
    "duration": 1018,
    "start_time": "2022-01-08T13:17:33.202Z"
   },
   {
    "duration": 445,
    "start_time": "2022-01-08T13:18:12.022Z"
   },
   {
    "duration": 476,
    "start_time": "2022-01-08T13:18:25.406Z"
   },
   {
    "duration": 819,
    "start_time": "2022-01-08T13:18:36.425Z"
   },
   {
    "duration": 454,
    "start_time": "2022-01-08T13:24:37.337Z"
   },
   {
    "duration": 478,
    "start_time": "2022-01-08T13:31:40.185Z"
   },
   {
    "duration": 444,
    "start_time": "2022-01-08T13:31:56.059Z"
   },
   {
    "duration": 679,
    "start_time": "2022-01-08T13:34:23.048Z"
   },
   {
    "duration": 450,
    "start_time": "2022-01-08T13:34:41.369Z"
   },
   {
    "duration": 945,
    "start_time": "2022-01-08T13:34:54.488Z"
   },
   {
    "duration": 454,
    "start_time": "2022-01-08T13:35:02.843Z"
   },
   {
    "duration": 702,
    "start_time": "2022-01-08T13:35:34.484Z"
   },
   {
    "duration": 708,
    "start_time": "2022-01-08T13:35:37.897Z"
   },
   {
    "duration": 888,
    "start_time": "2022-01-08T13:35:55.838Z"
   },
   {
    "duration": 765,
    "start_time": "2022-01-08T13:36:11.418Z"
   },
   {
    "duration": 1140,
    "start_time": "2022-01-08T13:38:57.203Z"
   },
   {
    "duration": 1284,
    "start_time": "2022-01-08T13:39:03.966Z"
   },
   {
    "duration": 681,
    "start_time": "2022-01-08T13:39:19.782Z"
   },
   {
    "duration": 707,
    "start_time": "2022-01-08T13:39:32.261Z"
   },
   {
    "duration": 708,
    "start_time": "2022-01-08T13:39:58.500Z"
   },
   {
    "duration": 760,
    "start_time": "2022-01-08T13:44:45.127Z"
   },
   {
    "duration": 853,
    "start_time": "2022-01-08T13:45:23.701Z"
   },
   {
    "duration": 729,
    "start_time": "2022-01-08T13:45:33.269Z"
   },
   {
    "duration": 1621,
    "start_time": "2022-01-08T13:47:58.349Z"
   },
   {
    "duration": 541,
    "start_time": "2022-01-08T13:47:59.973Z"
   },
   {
    "duration": 49,
    "start_time": "2022-01-08T13:48:00.517Z"
   },
   {
    "duration": 38,
    "start_time": "2022-01-08T13:48:00.570Z"
   },
   {
    "duration": 56,
    "start_time": "2022-01-08T13:48:00.610Z"
   },
   {
    "duration": 13,
    "start_time": "2022-01-08T13:48:00.669Z"
   },
   {
    "duration": 26,
    "start_time": "2022-01-08T13:48:00.684Z"
   },
   {
    "duration": 133,
    "start_time": "2022-01-08T13:48:00.714Z"
   },
   {
    "duration": 13,
    "start_time": "2022-01-08T13:48:00.850Z"
   },
   {
    "duration": 17,
    "start_time": "2022-01-08T13:48:00.865Z"
   },
   {
    "duration": 12,
    "start_time": "2022-01-08T13:48:00.885Z"
   },
   {
    "duration": 28,
    "start_time": "2022-01-08T13:48:00.900Z"
   },
   {
    "duration": 16,
    "start_time": "2022-01-08T13:48:00.931Z"
   },
   {
    "duration": 29,
    "start_time": "2022-01-08T13:48:00.950Z"
   },
   {
    "duration": 83,
    "start_time": "2022-01-08T13:48:00.981Z"
   },
   {
    "duration": 370,
    "start_time": "2022-01-08T13:48:01.066Z"
   },
   {
    "duration": 367,
    "start_time": "2022-01-08T13:48:01.439Z"
   },
   {
    "duration": 108,
    "start_time": "2022-01-08T13:48:01.809Z"
   },
   {
    "duration": 5,
    "start_time": "2022-01-08T13:48:01.920Z"
   },
   {
    "duration": 34,
    "start_time": "2022-01-08T13:48:01.928Z"
   },
   {
    "duration": 55,
    "start_time": "2022-01-08T13:48:01.965Z"
   },
   {
    "duration": 5,
    "start_time": "2022-01-08T13:48:02.022Z"
   },
   {
    "duration": 31,
    "start_time": "2022-01-08T13:48:02.033Z"
   },
   {
    "duration": 41,
    "start_time": "2022-01-08T13:48:02.068Z"
   },
   {
    "duration": 3,
    "start_time": "2022-01-08T13:48:02.112Z"
   },
   {
    "duration": 8,
    "start_time": "2022-01-08T13:48:02.118Z"
   },
   {
    "duration": 45,
    "start_time": "2022-01-08T13:48:02.129Z"
   },
   {
    "duration": 4,
    "start_time": "2022-01-08T13:48:02.176Z"
   },
   {
    "duration": 6,
    "start_time": "2022-01-08T13:48:02.182Z"
   },
   {
    "duration": 27,
    "start_time": "2022-01-08T13:48:02.190Z"
   },
   {
    "duration": 6,
    "start_time": "2022-01-08T13:48:02.219Z"
   },
   {
    "duration": 44,
    "start_time": "2022-01-08T13:48:02.227Z"
   },
   {
    "duration": 8,
    "start_time": "2022-01-08T13:48:02.274Z"
   },
   {
    "duration": 278,
    "start_time": "2022-01-08T13:48:02.285Z"
   },
   {
    "duration": 46,
    "start_time": "2022-01-08T13:48:02.565Z"
   },
   {
    "duration": 9,
    "start_time": "2022-01-08T13:48:02.615Z"
   },
   {
    "duration": 38,
    "start_time": "2022-01-08T13:48:02.627Z"
   },
   {
    "duration": 6,
    "start_time": "2022-01-08T13:48:02.667Z"
   },
   {
    "duration": 21,
    "start_time": "2022-01-08T13:48:02.675Z"
   },
   {
    "duration": 7,
    "start_time": "2022-01-08T13:48:02.700Z"
   },
   {
    "duration": 8,
    "start_time": "2022-01-08T13:48:02.710Z"
   },
   {
    "duration": 42,
    "start_time": "2022-01-08T13:48:02.721Z"
   },
   {
    "duration": 10,
    "start_time": "2022-01-08T13:48:02.766Z"
   },
   {
    "duration": 7,
    "start_time": "2022-01-08T13:48:02.779Z"
   },
   {
    "duration": 9,
    "start_time": "2022-01-08T13:48:02.789Z"
   },
   {
    "duration": 8,
    "start_time": "2022-01-08T13:48:02.801Z"
   },
   {
    "duration": 11,
    "start_time": "2022-01-08T13:48:02.812Z"
   },
   {
    "duration": 38,
    "start_time": "2022-01-08T13:48:02.826Z"
   },
   {
    "duration": 8,
    "start_time": "2022-01-08T13:48:02.867Z"
   },
   {
    "duration": 6,
    "start_time": "2022-01-08T13:48:02.878Z"
   },
   {
    "duration": 5,
    "start_time": "2022-01-08T13:48:02.887Z"
   },
   {
    "duration": 6,
    "start_time": "2022-01-08T13:48:02.895Z"
   },
   {
    "duration": 6,
    "start_time": "2022-01-08T13:48:02.903Z"
   },
   {
    "duration": 53,
    "start_time": "2022-01-08T13:48:02.912Z"
   },
   {
    "duration": 5,
    "start_time": "2022-01-08T13:48:02.968Z"
   },
   {
    "duration": 448,
    "start_time": "2022-01-08T13:48:02.976Z"
   },
   {
    "duration": 234,
    "start_time": "2022-01-08T13:48:03.426Z"
   },
   {
    "duration": 302,
    "start_time": "2022-01-08T13:48:03.663Z"
   },
   {
    "duration": 5,
    "start_time": "2022-01-08T13:48:03.967Z"
   },
   {
    "duration": 475,
    "start_time": "2022-01-08T13:48:03.974Z"
   },
   {
    "duration": 249,
    "start_time": "2022-01-08T13:48:04.451Z"
   },
   {
    "duration": 218,
    "start_time": "2022-01-08T13:48:04.703Z"
   },
   {
    "duration": 5,
    "start_time": "2022-01-08T13:48:04.923Z"
   },
   {
    "duration": 480,
    "start_time": "2022-01-08T13:48:04.931Z"
   },
   {
    "duration": 242,
    "start_time": "2022-01-08T13:48:05.413Z"
   },
   {
    "duration": 223,
    "start_time": "2022-01-08T13:48:05.657Z"
   },
   {
    "duration": 5,
    "start_time": "2022-01-08T13:48:05.883Z"
   },
   {
    "duration": 781,
    "start_time": "2022-01-08T13:48:05.899Z"
   },
   {
    "duration": 10,
    "start_time": "2022-01-08T13:48:06.683Z"
   },
   {
    "duration": 576,
    "start_time": "2022-01-08T13:48:06.696Z"
   },
   {
    "duration": 6,
    "start_time": "2022-01-08T13:48:07.275Z"
   },
   {
    "duration": 15,
    "start_time": "2022-01-08T13:48:07.284Z"
   },
   {
    "duration": 20,
    "start_time": "2022-01-08T13:48:07.302Z"
   },
   {
    "duration": 19,
    "start_time": "2022-01-08T13:48:07.324Z"
   },
   {
    "duration": 19,
    "start_time": "2022-01-08T13:48:07.345Z"
   },
   {
    "duration": 15,
    "start_time": "2022-01-08T13:48:07.367Z"
   },
   {
    "duration": 11,
    "start_time": "2022-01-08T13:48:07.385Z"
   },
   {
    "duration": 14,
    "start_time": "2022-01-08T13:48:07.399Z"
   },
   {
    "duration": 165,
    "start_time": "2022-01-08T15:46:44.455Z"
   },
   {
    "duration": 435,
    "start_time": "2022-01-08T15:47:43.536Z"
   },
   {
    "duration": 1596,
    "start_time": "2022-01-08T15:47:51.800Z"
   },
   {
    "duration": 567,
    "start_time": "2022-01-08T15:47:53.398Z"
   },
   {
    "duration": 59,
    "start_time": "2022-01-08T15:47:53.968Z"
   },
   {
    "duration": 37,
    "start_time": "2022-01-08T15:47:54.029Z"
   },
   {
    "duration": 62,
    "start_time": "2022-01-08T15:47:54.069Z"
   },
   {
    "duration": 12,
    "start_time": "2022-01-08T15:47:54.133Z"
   },
   {
    "duration": 22,
    "start_time": "2022-01-08T15:47:54.147Z"
   },
   {
    "duration": 129,
    "start_time": "2022-01-08T15:47:54.171Z"
   },
   {
    "duration": 15,
    "start_time": "2022-01-08T15:47:54.304Z"
   },
   {
    "duration": 15,
    "start_time": "2022-01-08T15:47:54.322Z"
   },
   {
    "duration": 12,
    "start_time": "2022-01-08T15:47:54.340Z"
   },
   {
    "duration": 10,
    "start_time": "2022-01-08T15:47:54.355Z"
   },
   {
    "duration": 7,
    "start_time": "2022-01-08T15:47:54.367Z"
   },
   {
    "duration": 4,
    "start_time": "2022-01-08T15:47:54.376Z"
   },
   {
    "duration": 80,
    "start_time": "2022-01-08T15:47:54.418Z"
   },
   {
    "duration": 557,
    "start_time": "2022-01-08T15:47:54.501Z"
   },
   {
    "duration": 431,
    "start_time": "2022-01-08T15:47:55.061Z"
   },
   {
    "duration": 95,
    "start_time": "2022-01-08T15:47:55.495Z"
   },
   {
    "duration": 3,
    "start_time": "2022-01-08T15:47:55.592Z"
   },
   {
    "duration": 23,
    "start_time": "2022-01-08T15:47:55.598Z"
   },
   {
    "duration": 56,
    "start_time": "2022-01-08T15:47:55.623Z"
   },
   {
    "duration": 3,
    "start_time": "2022-01-08T15:47:55.682Z"
   },
   {
    "duration": 31,
    "start_time": "2022-01-08T15:47:55.688Z"
   },
   {
    "duration": 39,
    "start_time": "2022-01-08T15:47:55.722Z"
   },
   {
    "duration": 3,
    "start_time": "2022-01-08T15:47:55.764Z"
   },
   {
    "duration": 7,
    "start_time": "2022-01-08T15:47:55.769Z"
   },
   {
    "duration": 42,
    "start_time": "2022-01-08T15:47:55.783Z"
   },
   {
    "duration": 4,
    "start_time": "2022-01-08T15:47:55.829Z"
   },
   {
    "duration": 6,
    "start_time": "2022-01-08T15:47:55.835Z"
   },
   {
    "duration": 27,
    "start_time": "2022-01-08T15:47:55.844Z"
   },
   {
    "duration": 7,
    "start_time": "2022-01-08T15:47:55.874Z"
   },
   {
    "duration": 15,
    "start_time": "2022-01-08T15:47:55.918Z"
   },
   {
    "duration": 10,
    "start_time": "2022-01-08T15:47:55.935Z"
   },
   {
    "duration": 293,
    "start_time": "2022-01-08T15:47:55.948Z"
   },
   {
    "duration": 40,
    "start_time": "2022-01-08T15:47:56.243Z"
   },
   {
    "duration": 7,
    "start_time": "2022-01-08T15:47:56.285Z"
   },
   {
    "duration": 24,
    "start_time": "2022-01-08T15:47:56.295Z"
   },
   {
    "duration": 6,
    "start_time": "2022-01-08T15:47:56.322Z"
   },
   {
    "duration": 6,
    "start_time": "2022-01-08T15:47:56.331Z"
   },
   {
    "duration": 7,
    "start_time": "2022-01-08T15:47:56.339Z"
   },
   {
    "duration": 5,
    "start_time": "2022-01-08T15:47:56.349Z"
   },
   {
    "duration": 8,
    "start_time": "2022-01-08T15:47:56.357Z"
   },
   {
    "duration": 6,
    "start_time": "2022-01-08T15:47:56.416Z"
   },
   {
    "duration": 6,
    "start_time": "2022-01-08T15:47:56.425Z"
   },
   {
    "duration": 7,
    "start_time": "2022-01-08T15:47:56.434Z"
   },
   {
    "duration": 12,
    "start_time": "2022-01-08T15:47:56.444Z"
   },
   {
    "duration": 8,
    "start_time": "2022-01-08T15:47:56.458Z"
   },
   {
    "duration": 6,
    "start_time": "2022-01-08T15:47:56.517Z"
   },
   {
    "duration": 9,
    "start_time": "2022-01-08T15:47:56.525Z"
   },
   {
    "duration": 8,
    "start_time": "2022-01-08T15:47:56.536Z"
   },
   {
    "duration": 8,
    "start_time": "2022-01-08T15:47:56.546Z"
   },
   {
    "duration": 7,
    "start_time": "2022-01-08T15:47:56.556Z"
   },
   {
    "duration": 6,
    "start_time": "2022-01-08T15:47:56.565Z"
   },
   {
    "duration": 48,
    "start_time": "2022-01-08T15:47:56.573Z"
   },
   {
    "duration": 18,
    "start_time": "2022-01-08T15:47:56.623Z"
   },
   {
    "duration": 559,
    "start_time": "2022-01-08T15:47:56.643Z"
   },
   {
    "duration": 268,
    "start_time": "2022-01-08T15:47:57.206Z"
   },
   {
    "duration": 311,
    "start_time": "2022-01-08T15:47:57.477Z"
   },
   {
    "duration": 4,
    "start_time": "2022-01-08T15:47:57.791Z"
   },
   {
    "duration": 448,
    "start_time": "2022-01-08T15:47:57.797Z"
   },
   {
    "duration": 220,
    "start_time": "2022-01-08T15:47:58.248Z"
   },
   {
    "duration": 220,
    "start_time": "2022-01-08T15:47:58.470Z"
   },
   {
    "duration": 5,
    "start_time": "2022-01-08T15:47:58.693Z"
   },
   {
    "duration": 468,
    "start_time": "2022-01-08T15:47:58.700Z"
   },
   {
    "duration": 227,
    "start_time": "2022-01-08T15:47:59.171Z"
   },
   {
    "duration": 216,
    "start_time": "2022-01-08T15:47:59.401Z"
   },
   {
    "duration": 5,
    "start_time": "2022-01-08T15:47:59.619Z"
   },
   {
    "duration": 742,
    "start_time": "2022-01-08T15:47:59.626Z"
   },
   {
    "duration": 7,
    "start_time": "2022-01-08T15:48:00.371Z"
   },
   {
    "duration": 450,
    "start_time": "2022-01-08T15:48:00.381Z"
   },
   {
    "duration": 5,
    "start_time": "2022-01-08T15:48:00.834Z"
   },
   {
    "duration": 8,
    "start_time": "2022-01-08T15:48:00.841Z"
   },
   {
    "duration": 11,
    "start_time": "2022-01-08T15:48:00.852Z"
   },
   {
    "duration": 9,
    "start_time": "2022-01-08T15:48:00.865Z"
   },
   {
    "duration": 11,
    "start_time": "2022-01-08T15:48:00.876Z"
   },
   {
    "duration": 33,
    "start_time": "2022-01-08T15:48:00.889Z"
   },
   {
    "duration": 16,
    "start_time": "2022-01-08T15:48:00.924Z"
   },
   {
    "duration": 14,
    "start_time": "2022-01-08T15:48:00.942Z"
   },
   {
    "duration": 709,
    "start_time": "2022-01-08T15:50:15.153Z"
   },
   {
    "duration": 707,
    "start_time": "2022-01-08T15:50:38.980Z"
   },
   {
    "duration": 6,
    "start_time": "2022-01-08T15:53:53.863Z"
   },
   {
    "duration": 5,
    "start_time": "2022-01-08T15:53:58.723Z"
   },
   {
    "duration": 524,
    "start_time": "2022-01-08T15:54:07.918Z"
   },
   {
    "duration": 405,
    "start_time": "2022-01-08T15:54:12.822Z"
   },
   {
    "duration": 6,
    "start_time": "2022-01-08T15:54:15.629Z"
   },
   {
    "duration": 6,
    "start_time": "2022-01-08T15:54:20.926Z"
   },
   {
    "duration": 805,
    "start_time": "2022-01-08T15:54:28.184Z"
   },
   {
    "duration": 5,
    "start_time": "2022-01-08T15:54:55.218Z"
   },
   {
    "duration": 377,
    "start_time": "2022-01-08T15:55:49.639Z"
   },
   {
    "duration": 5,
    "start_time": "2022-01-08T15:55:54.004Z"
   },
   {
    "duration": 494,
    "start_time": "2022-01-08T15:56:01.489Z"
   },
   {
    "duration": 6,
    "start_time": "2022-01-08T15:56:29.799Z"
   },
   {
    "duration": 404,
    "start_time": "2022-01-08T15:56:56.542Z"
   },
   {
    "duration": 5,
    "start_time": "2022-01-08T15:57:45.280Z"
   },
   {
    "duration": 6,
    "start_time": "2022-01-08T15:57:54.535Z"
   },
   {
    "duration": 5,
    "start_time": "2022-01-08T15:58:09.988Z"
   },
   {
    "duration": 458,
    "start_time": "2022-01-08T15:59:22.357Z"
   },
   {
    "duration": 5,
    "start_time": "2022-01-08T15:59:28.832Z"
   },
   {
    "duration": 402,
    "start_time": "2022-01-08T15:59:38.881Z"
   },
   {
    "duration": 4,
    "start_time": "2022-01-08T15:59:43.726Z"
   },
   {
    "duration": 5,
    "start_time": "2022-01-08T15:59:51.316Z"
   },
   {
    "duration": 6,
    "start_time": "2022-01-08T16:00:22.186Z"
   },
   {
    "duration": 9,
    "start_time": "2022-01-08T16:01:16.223Z"
   },
   {
    "duration": 304,
    "start_time": "2022-01-08T16:01:27.022Z"
   },
   {
    "duration": 44,
    "start_time": "2022-01-08T16:01:33.636Z"
   },
   {
    "duration": 295,
    "start_time": "2022-01-10T10:14:58.969Z"
   },
   {
    "duration": 1181,
    "start_time": "2022-01-10T10:15:07.818Z"
   },
   {
    "duration": 391,
    "start_time": "2022-01-10T10:15:09.001Z"
   },
   {
    "duration": 38,
    "start_time": "2022-01-10T10:15:09.394Z"
   },
   {
    "duration": 24,
    "start_time": "2022-01-10T10:15:09.434Z"
   },
   {
    "duration": 22,
    "start_time": "2022-01-10T10:15:09.460Z"
   },
   {
    "duration": 7,
    "start_time": "2022-01-10T10:15:09.484Z"
   },
   {
    "duration": 15,
    "start_time": "2022-01-10T10:15:09.493Z"
   },
   {
    "duration": 83,
    "start_time": "2022-01-10T10:15:09.510Z"
   },
   {
    "duration": 4,
    "start_time": "2022-01-10T10:15:09.595Z"
   },
   {
    "duration": 18,
    "start_time": "2022-01-10T10:15:09.601Z"
   },
   {
    "duration": 15,
    "start_time": "2022-01-10T10:15:09.620Z"
   },
   {
    "duration": 6,
    "start_time": "2022-01-10T10:15:09.637Z"
   },
   {
    "duration": 5,
    "start_time": "2022-01-10T10:15:09.645Z"
   },
   {
    "duration": 6,
    "start_time": "2022-01-10T10:15:09.660Z"
   },
   {
    "duration": 58,
    "start_time": "2022-01-10T10:15:09.668Z"
   },
   {
    "duration": 208,
    "start_time": "2022-01-10T10:15:09.728Z"
   },
   {
    "duration": 211,
    "start_time": "2022-01-10T10:15:09.938Z"
   },
   {
    "duration": 68,
    "start_time": "2022-01-10T10:15:10.150Z"
   },
   {
    "duration": 3,
    "start_time": "2022-01-10T10:15:10.220Z"
   },
   {
    "duration": 21,
    "start_time": "2022-01-10T10:15:10.225Z"
   },
   {
    "duration": 43,
    "start_time": "2022-01-10T10:15:10.247Z"
   },
   {
    "duration": 3,
    "start_time": "2022-01-10T10:15:10.291Z"
   },
   {
    "duration": 16,
    "start_time": "2022-01-10T10:15:10.298Z"
   },
   {
    "duration": 30,
    "start_time": "2022-01-10T10:15:10.317Z"
   },
   {
    "duration": 12,
    "start_time": "2022-01-10T10:15:10.349Z"
   },
   {
    "duration": 9,
    "start_time": "2022-01-10T10:15:10.362Z"
   },
   {
    "duration": 38,
    "start_time": "2022-01-10T10:15:10.373Z"
   },
   {
    "duration": 12,
    "start_time": "2022-01-10T10:15:10.413Z"
   },
   {
    "duration": 35,
    "start_time": "2022-01-10T10:15:10.427Z"
   },
   {
    "duration": 36,
    "start_time": "2022-01-10T10:15:10.463Z"
   },
   {
    "duration": 12,
    "start_time": "2022-01-10T10:15:10.501Z"
   },
   {
    "duration": 23,
    "start_time": "2022-01-10T10:15:10.514Z"
   },
   {
    "duration": 9,
    "start_time": "2022-01-10T10:15:10.539Z"
   },
   {
    "duration": 191,
    "start_time": "2022-01-10T10:15:10.550Z"
   },
   {
    "duration": 32,
    "start_time": "2022-01-10T10:15:10.742Z"
   },
   {
    "duration": 6,
    "start_time": "2022-01-10T10:15:10.776Z"
   },
   {
    "duration": 9,
    "start_time": "2022-01-10T10:15:10.784Z"
   },
   {
    "duration": 25,
    "start_time": "2022-01-10T10:15:10.794Z"
   },
   {
    "duration": 7,
    "start_time": "2022-01-10T10:15:10.820Z"
   },
   {
    "duration": 4,
    "start_time": "2022-01-10T10:15:10.828Z"
   },
   {
    "duration": 5,
    "start_time": "2022-01-10T10:15:10.834Z"
   },
   {
    "duration": 21,
    "start_time": "2022-01-10T10:15:10.841Z"
   },
   {
    "duration": 6,
    "start_time": "2022-01-10T10:15:10.864Z"
   },
   {
    "duration": 6,
    "start_time": "2022-01-10T10:15:10.872Z"
   },
   {
    "duration": 5,
    "start_time": "2022-01-10T10:15:10.880Z"
   },
   {
    "duration": 7,
    "start_time": "2022-01-10T10:15:10.886Z"
   },
   {
    "duration": 5,
    "start_time": "2022-01-10T10:15:10.895Z"
   },
   {
    "duration": 5,
    "start_time": "2022-01-10T10:15:10.901Z"
   },
   {
    "duration": 6,
    "start_time": "2022-01-10T10:15:10.908Z"
   },
   {
    "duration": 45,
    "start_time": "2022-01-10T10:15:10.916Z"
   },
   {
    "duration": 9,
    "start_time": "2022-01-10T10:15:10.963Z"
   },
   {
    "duration": 6,
    "start_time": "2022-01-10T10:15:10.973Z"
   },
   {
    "duration": 6,
    "start_time": "2022-01-10T10:15:10.981Z"
   },
   {
    "duration": 7,
    "start_time": "2022-01-10T10:15:10.988Z"
   },
   {
    "duration": 5,
    "start_time": "2022-01-10T10:15:10.996Z"
   },
   {
    "duration": 277,
    "start_time": "2022-01-10T10:15:11.003Z"
   },
   {
    "duration": 134,
    "start_time": "2022-01-10T10:15:11.282Z"
   },
   {
    "duration": 213,
    "start_time": "2022-01-10T10:15:11.418Z"
   },
   {
    "duration": 3,
    "start_time": "2022-01-10T10:15:11.632Z"
   },
   {
    "duration": 284,
    "start_time": "2022-01-10T10:15:11.637Z"
   },
   {
    "duration": 139,
    "start_time": "2022-01-10T10:15:11.923Z"
   },
   {
    "duration": 133,
    "start_time": "2022-01-10T10:15:12.064Z"
   },
   {
    "duration": 3,
    "start_time": "2022-01-10T10:15:12.198Z"
   },
   {
    "duration": 271,
    "start_time": "2022-01-10T10:15:12.203Z"
   },
   {
    "duration": 136,
    "start_time": "2022-01-10T10:15:12.475Z"
   },
   {
    "duration": 134,
    "start_time": "2022-01-10T10:15:12.613Z"
   },
   {
    "duration": 4,
    "start_time": "2022-01-10T10:15:12.749Z"
   },
   {
    "duration": 444,
    "start_time": "2022-01-10T10:15:12.763Z"
   },
   {
    "duration": 7,
    "start_time": "2022-01-10T10:15:13.210Z"
   },
   {
    "duration": 344,
    "start_time": "2022-01-10T10:15:13.219Z"
   },
   {
    "duration": 4,
    "start_time": "2022-01-10T10:15:13.564Z"
   },
   {
    "duration": 8,
    "start_time": "2022-01-10T10:15:13.569Z"
   },
   {
    "duration": 6,
    "start_time": "2022-01-10T10:15:13.579Z"
   },
   {
    "duration": 7,
    "start_time": "2022-01-10T10:15:13.587Z"
   },
   {
    "duration": 9,
    "start_time": "2022-01-10T10:15:13.596Z"
   },
   {
    "duration": 10,
    "start_time": "2022-01-10T10:15:13.606Z"
   },
   {
    "duration": 7,
    "start_time": "2022-01-10T10:15:13.618Z"
   },
   {
    "duration": 34,
    "start_time": "2022-01-10T10:15:13.627Z"
   }
  ],
  "kernelspec": {
   "display_name": "Python 3 (ipykernel)",
   "language": "python",
   "name": "python3"
  },
  "language_info": {
   "codemirror_mode": {
    "name": "ipython",
    "version": 3
   },
   "file_extension": ".py",
   "mimetype": "text/x-python",
   "name": "python",
   "nbconvert_exporter": "python",
   "pygments_lexer": "ipython3",
   "version": "3.9.12"
  },
  "toc": {
   "base_numbering": 1,
   "nav_menu": {
    "height": "178px",
    "width": "291px"
   },
   "number_sections": true,
   "sideBar": true,
   "skip_h1_title": true,
   "title_cell": "Оглавление",
   "title_sidebar": "Contents",
   "toc_cell": false,
   "toc_position": {
    "height": "calc(100% - 180px)",
    "left": "10px",
    "top": "150px",
    "width": "255.594px"
   },
   "toc_section_display": true,
   "toc_window_display": true
  }
 },
 "nbformat": 4,
 "nbformat_minor": 2
}
