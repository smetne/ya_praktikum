{
 "cells": [
  {
   "cell_type": "markdown",
   "metadata": {
    "cellId": "baiiybfkv2ctjdcfbrzoc"
   },
   "source": [
    "Привет, меня зовут Гребенюк Артём. Сегодня я буду делать ревью твоего проекта!\\\n",
    "В Практикуме принято общаться на \"ты\", однако если это неудобно - дай знать, и можем перейти на более официальное общение.\n",
    "\n",
    "Ниже ты найдешь мои комментарии - пожалуйста, не перемещай, не изменяй и не удаляй их. Я буду использовать цветовую разметку: \n",
    "\n",
    "<div class=\"alert alert-block alert-success\">\n",
    "<b>Success:</b> Если все сделано хорошо. </div>\n",
    "\n",
    "<div class=\"alert alert-block alert-warning\">\n",
    "<b>Remarks:</b> Некритичное замечание; если таких замечаний меньше трех — проект может быть принят без их отработки.</div>\n",
    "\n",
    "<div class=\"alert alert-block alert-danger\">\n",
    "<b>Needs fixing:</b> Грубая ошибка, необходимо исправить, иначе проект не будет принят.\n",
    "</div>\n",
    "\n",
    "Давай работать над проектом в диалоге: если ты что-то меняешь в проекте или отвечаешь на мои комменатри — пиши об этом. Мне будет легче отследить изменения, если ты выделишь свои комментарии:\n",
    "Например так:\n",
    "<div class=\"alert alert-block alert-info\">\n",
    "<b>Fixed:</b> \n",
    "Hello World! ✔\n",
    "</div>\n",
    "\n",
    "Или можешь использовать эту галочку ✔ в моих комментариях, если писать особо нечего.\n",
    "\n",
    "<div class=\"alert alert-block alert-warning\">\n",
    "<b>Общее впечатление:</b> \n",
    "    \n",
    "- Спасибо за работу :)\n",
    "- У меня есть пара ремарок, которые помогут тебе сделать проект еще лучше.\n",
    "- Пробегись по моим комментариям, исправь недочёты и всё будет отлично :)\n",
    "    \n",
    "</div>\n",
    "\n"
   ]
  },
  {
   "cell_type": "markdown",
   "metadata": {
    "cellId": "iek67qw3jknyavv5zknbj"
   },
   "source": [
    "<div class=\"alert alert-block alert-info\">\n",
    "Привет, Артём!\n",
    "Спасибо за ремарки, сейчас все исправим :)\n",
    "</div>"
   ]
  },
  {
   "cell_type": "markdown",
   "metadata": {},
   "source": [
    "<div class=\"alert alert-block alert-success\">\n",
    "<b>Привет!</b> Отличная работа над ремарками! Проект принят, поздравляю, желаю удачи в дальнейшем обучении :)"
   ]
  },
  {
   "cell_type": "code",
   "execution_count": 392,
   "metadata": {
    "cellId": "kg37awwdkxpzeamhbbn0h"
   },
   "outputs": [
    {
     "name": "stdout",
     "output_type": "stream",
     "text": [
      "\u001b[33mWARNING: You are using pip version 21.0.1; however, version 21.3.1 is available.\n",
      "You should consider upgrading via the '/usr/local/bin/python3 -m pip install --upgrade pip' command.\u001b[0m\n"
     ]
    }
   ],
   "source": [
    "#%pip install -q -r requirements.txt"
   ]
  },
  {
   "cell_type": "markdown",
   "metadata": {
    "cellId": "t1c4wam07doj74fhz2vfr"
   },
   "source": [
    "# Исследование надёжности заёмщиков\n",
    "\n",
    "Заказчик — кредитный отдел банка. Нужно разобраться, влияет ли семейное положение и количество детей клиента на факт погашения кредита в срок. Входные данные от банка — статистика о платёжеспособности клиентов.\n",
    "\n",
    "Результаты исследования будут учтены при построении модели **кредитного скоринга** — специальной системы, которая оценивает способность потенциального заёмщика вернуть кредит банку."
   ]
  },
  {
   "cell_type": "markdown",
   "metadata": {
    "cellId": "kc5w63gzwskr9wc450jr4i"
   },
   "source": [
    "В ходе исследования будут рассмотрены следующие вопросы:\n",
    "\n",
    "- Есть ли зависимость между наличием детей и возвратом кредита в срок?\n",
    "- Есть ли зависимость между семейным положением и возвратом кредита в срок?\n",
    "- Есть ли зависимость между уровнем дохода и возвратом кредита в срок?\n",
    "- Как разные цели кредита влияют на его возврат в срок?\n",
    "\n",
    "Перед непосредственной работой над поставленными вопросами будет проведена предобработка данных, чтобы очистить их от возможных артефактов и привести в подходящий для проведения исследования формат.\n",
    "\n",
    "### Оглавление\n",
    "\n",
    "1. [Открытие данных](#start)\n",
    "2. [Предобработка данных](#preprocessing)\n",
    "    * [Очистка данных](#clear)\n",
    "    * [Обработка пропущенных значений](#null)\n",
    "    * [Замена типа данных](#type)\n",
    "    * [Обработка дубликатов](#duplicates)\n",
    "    * [Лемматизация](#lemma)\n",
    "    * [Категоризация данных](#categorize)\n",
    "3. [Ответы на вопросы](#answers)\n",
    "4. [Общий вывод](#conclusion)\n"
   ]
  },
  {
   "cell_type": "markdown",
   "metadata": {
    "cellId": "8j7cebslvp8cfnnp21lqpu"
   },
   "source": [
    "<div class=\"alert alert-block alert-warning\">\n",
    "<b>Remarks:</b> \n",
    "\n",
    "Отлично, что у проекта есть введение. Однако стоит задуматься, как еще его можно дополнить, чтобы сделать более ценным для читателя. В студенческом ноушене (если нет доступа, спроси куратора) есть статья о том, как мы оформляем работы.\n",
    "    \n",
    "Также советую тебе взглянуть на <a href=\"https://www.kaggle.com/notebooks/\">работы</a> профессиональных аналитиков, чтобы оценить, как другие люди оформляют и проводят исследования. </div>\n"
   ]
  },
  {
   "cell_type": "markdown",
   "metadata": {
    "cellId": "4gpzov7fq2y2mc22an1lvc"
   },
   "source": [
    "<div class=\"alert alert-block alert-info\">\n",
    "Спасибо за ремарку, мне так тяжело поначалу давался проект, что к концу я совершенно забыла (или забила?) на его оформление.\n",
    "\n",
    "<b>Fixed:</b> посмотри, я добавила краткое содержание проекта и оглавление с гиперссылками. ✔\n",
    "</div>"
   ]
  },
  {
   "cell_type": "markdown",
   "metadata": {},
   "source": [
    "<div class=\"alert alert-block alert-success\">\n",
    "теперь отличное введение получилось!"
   ]
  },
  {
   "cell_type": "markdown",
   "metadata": {
    "cellId": "ixz0t4va3owtov3aml4ee"
   },
   "source": [
    "## Шаг 1. Откройте файл с данными и изучите общую информацию <a id=\"start\"></a>"
   ]
  },
  {
   "cell_type": "code",
   "execution_count": 431,
   "metadata": {
    "cellId": "vzuwn4ov88ss67l9yzqam"
   },
   "outputs": [],
   "source": [
    "import pandas as pd # импорт библиотеки Pandas\n",
    "from pymystem3 import Mystem # импорт библиотеки pymystem3\n",
    "from collections import Counter # импорт библиотеки collections\n",
    "import seaborn as sns\n",
    "m = Mystem()"
   ]
  },
  {
   "cell_type": "code",
   "execution_count": 394,
   "metadata": {
    "cellId": "y9hawwss61jjiwu04hc5o"
   },
   "outputs": [
    {
     "name": "stdout",
     "output_type": "stream",
     "text": [
      "<class 'pandas.core.frame.DataFrame'>\n",
      "RangeIndex: 21525 entries, 0 to 21524\n",
      "Data columns (total 12 columns):\n",
      "children            21525 non-null int64\n",
      "days_employed       19351 non-null float64\n",
      "dob_years           21525 non-null int64\n",
      "education           21525 non-null object\n",
      "education_id        21525 non-null int64\n",
      "family_status       21525 non-null object\n",
      "family_status_id    21525 non-null int64\n",
      "gender              21525 non-null object\n",
      "income_type         21525 non-null object\n",
      "debt                21525 non-null int64\n",
      "total_income        19351 non-null float64\n",
      "purpose             21525 non-null object\n",
      "dtypes: float64(2), int64(5), object(5)\n",
      "memory usage: 2.0+ MB\n"
     ]
    },
    {
     "data": {
      "text/html": [
       "<div>\n",
       "<style scoped>\n",
       "    .dataframe tbody tr th:only-of-type {\n",
       "        vertical-align: middle;\n",
       "    }\n",
       "\n",
       "    .dataframe tbody tr th {\n",
       "        vertical-align: top;\n",
       "    }\n",
       "\n",
       "    .dataframe thead th {\n",
       "        text-align: right;\n",
       "    }\n",
       "</style>\n",
       "<table border=\"1\" class=\"dataframe\">\n",
       "  <thead>\n",
       "    <tr style=\"text-align: right;\">\n",
       "      <th></th>\n",
       "      <th>children</th>\n",
       "      <th>days_employed</th>\n",
       "      <th>dob_years</th>\n",
       "      <th>education_id</th>\n",
       "      <th>family_status_id</th>\n",
       "      <th>debt</th>\n",
       "      <th>total_income</th>\n",
       "    </tr>\n",
       "  </thead>\n",
       "  <tbody>\n",
       "    <tr>\n",
       "      <td>count</td>\n",
       "      <td>21525.000000</td>\n",
       "      <td>19351.000000</td>\n",
       "      <td>21525.000000</td>\n",
       "      <td>21525.000000</td>\n",
       "      <td>21525.000000</td>\n",
       "      <td>21525.000000</td>\n",
       "      <td>1.935100e+04</td>\n",
       "    </tr>\n",
       "    <tr>\n",
       "      <td>mean</td>\n",
       "      <td>0.538908</td>\n",
       "      <td>63046.497661</td>\n",
       "      <td>43.293380</td>\n",
       "      <td>0.817236</td>\n",
       "      <td>0.972544</td>\n",
       "      <td>0.080883</td>\n",
       "      <td>1.674223e+05</td>\n",
       "    </tr>\n",
       "    <tr>\n",
       "      <td>std</td>\n",
       "      <td>1.381587</td>\n",
       "      <td>140827.311974</td>\n",
       "      <td>12.574584</td>\n",
       "      <td>0.548138</td>\n",
       "      <td>1.420324</td>\n",
       "      <td>0.272661</td>\n",
       "      <td>1.029716e+05</td>\n",
       "    </tr>\n",
       "    <tr>\n",
       "      <td>min</td>\n",
       "      <td>-1.000000</td>\n",
       "      <td>-18388.949901</td>\n",
       "      <td>0.000000</td>\n",
       "      <td>0.000000</td>\n",
       "      <td>0.000000</td>\n",
       "      <td>0.000000</td>\n",
       "      <td>2.066726e+04</td>\n",
       "    </tr>\n",
       "    <tr>\n",
       "      <td>25%</td>\n",
       "      <td>0.000000</td>\n",
       "      <td>-2747.423625</td>\n",
       "      <td>33.000000</td>\n",
       "      <td>1.000000</td>\n",
       "      <td>0.000000</td>\n",
       "      <td>0.000000</td>\n",
       "      <td>1.030532e+05</td>\n",
       "    </tr>\n",
       "    <tr>\n",
       "      <td>50%</td>\n",
       "      <td>0.000000</td>\n",
       "      <td>-1203.369529</td>\n",
       "      <td>42.000000</td>\n",
       "      <td>1.000000</td>\n",
       "      <td>0.000000</td>\n",
       "      <td>0.000000</td>\n",
       "      <td>1.450179e+05</td>\n",
       "    </tr>\n",
       "    <tr>\n",
       "      <td>75%</td>\n",
       "      <td>1.000000</td>\n",
       "      <td>-291.095954</td>\n",
       "      <td>53.000000</td>\n",
       "      <td>1.000000</td>\n",
       "      <td>1.000000</td>\n",
       "      <td>0.000000</td>\n",
       "      <td>2.034351e+05</td>\n",
       "    </tr>\n",
       "    <tr>\n",
       "      <td>max</td>\n",
       "      <td>20.000000</td>\n",
       "      <td>401755.400475</td>\n",
       "      <td>75.000000</td>\n",
       "      <td>4.000000</td>\n",
       "      <td>4.000000</td>\n",
       "      <td>1.000000</td>\n",
       "      <td>2.265604e+06</td>\n",
       "    </tr>\n",
       "  </tbody>\n",
       "</table>\n",
       "</div>"
      ],
      "text/plain": [
       "           children  days_employed     dob_years  education_id  \\\n",
       "count  21525.000000   19351.000000  21525.000000  21525.000000   \n",
       "mean       0.538908   63046.497661     43.293380      0.817236   \n",
       "std        1.381587  140827.311974     12.574584      0.548138   \n",
       "min       -1.000000  -18388.949901      0.000000      0.000000   \n",
       "25%        0.000000   -2747.423625     33.000000      1.000000   \n",
       "50%        0.000000   -1203.369529     42.000000      1.000000   \n",
       "75%        1.000000    -291.095954     53.000000      1.000000   \n",
       "max       20.000000  401755.400475     75.000000      4.000000   \n",
       "\n",
       "       family_status_id          debt  total_income  \n",
       "count      21525.000000  21525.000000  1.935100e+04  \n",
       "mean           0.972544      0.080883  1.674223e+05  \n",
       "std            1.420324      0.272661  1.029716e+05  \n",
       "min            0.000000      0.000000  2.066726e+04  \n",
       "25%            0.000000      0.000000  1.030532e+05  \n",
       "50%            0.000000      0.000000  1.450179e+05  \n",
       "75%            1.000000      0.000000  2.034351e+05  \n",
       "max            4.000000      1.000000  2.265604e+06  "
      ]
     },
     "metadata": {},
     "output_type": "display_data"
    }
   ],
   "source": [
    "data = pd.read_csv('/datasets/data.csv') # чтение файла и запись в переменную data\n",
    "data.info() # вывод общей информации о таблице методом info\n",
    "data.describe() # вывод 5 первых и последних строк таблицы "
   ]
  },
  {
   "cell_type": "code",
   "execution_count": 395,
   "metadata": {
    "cellId": "p3130rudh7f90hczbsphm"
   },
   "outputs": [
    {
     "data": {
      "text/html": [
       "<div>\n",
       "<style scoped>\n",
       "    .dataframe tbody tr th:only-of-type {\n",
       "        vertical-align: middle;\n",
       "    }\n",
       "\n",
       "    .dataframe tbody tr th {\n",
       "        vertical-align: top;\n",
       "    }\n",
       "\n",
       "    .dataframe thead th {\n",
       "        text-align: right;\n",
       "    }\n",
       "</style>\n",
       "<table border=\"1\" class=\"dataframe\">\n",
       "  <thead>\n",
       "    <tr style=\"text-align: right;\">\n",
       "      <th></th>\n",
       "      <th>children</th>\n",
       "      <th>days_employed</th>\n",
       "      <th>dob_years</th>\n",
       "      <th>education</th>\n",
       "      <th>education_id</th>\n",
       "      <th>family_status</th>\n",
       "      <th>family_status_id</th>\n",
       "      <th>gender</th>\n",
       "      <th>income_type</th>\n",
       "      <th>debt</th>\n",
       "      <th>total_income</th>\n",
       "      <th>purpose</th>\n",
       "    </tr>\n",
       "  </thead>\n",
       "  <tbody>\n",
       "    <tr>\n",
       "      <td>7340</td>\n",
       "      <td>2</td>\n",
       "      <td>-3818.249310</td>\n",
       "      <td>39</td>\n",
       "      <td>среднее</td>\n",
       "      <td>1</td>\n",
       "      <td>женат / замужем</td>\n",
       "      <td>0</td>\n",
       "      <td>F</td>\n",
       "      <td>сотрудник</td>\n",
       "      <td>0</td>\n",
       "      <td>40930.315696</td>\n",
       "      <td>покупка жилья</td>\n",
       "    </tr>\n",
       "    <tr>\n",
       "      <td>3957</td>\n",
       "      <td>0</td>\n",
       "      <td>-12111.680981</td>\n",
       "      <td>47</td>\n",
       "      <td>среднее</td>\n",
       "      <td>1</td>\n",
       "      <td>женат / замужем</td>\n",
       "      <td>0</td>\n",
       "      <td>F</td>\n",
       "      <td>компаньон</td>\n",
       "      <td>0</td>\n",
       "      <td>108406.132467</td>\n",
       "      <td>покупка коммерческой недвижимости</td>\n",
       "    </tr>\n",
       "    <tr>\n",
       "      <td>6605</td>\n",
       "      <td>0</td>\n",
       "      <td>-3617.168602</td>\n",
       "      <td>48</td>\n",
       "      <td>среднее</td>\n",
       "      <td>1</td>\n",
       "      <td>Не женат / не замужем</td>\n",
       "      <td>4</td>\n",
       "      <td>M</td>\n",
       "      <td>сотрудник</td>\n",
       "      <td>1</td>\n",
       "      <td>214785.654014</td>\n",
       "      <td>получение высшего образования</td>\n",
       "    </tr>\n",
       "    <tr>\n",
       "      <td>14910</td>\n",
       "      <td>0</td>\n",
       "      <td>NaN</td>\n",
       "      <td>20</td>\n",
       "      <td>среднее</td>\n",
       "      <td>1</td>\n",
       "      <td>Не женат / не замужем</td>\n",
       "      <td>4</td>\n",
       "      <td>M</td>\n",
       "      <td>сотрудник</td>\n",
       "      <td>0</td>\n",
       "      <td>NaN</td>\n",
       "      <td>покупка жилой недвижимости</td>\n",
       "    </tr>\n",
       "    <tr>\n",
       "      <td>763</td>\n",
       "      <td>0</td>\n",
       "      <td>NaN</td>\n",
       "      <td>21</td>\n",
       "      <td>среднее</td>\n",
       "      <td>1</td>\n",
       "      <td>гражданский брак</td>\n",
       "      <td>1</td>\n",
       "      <td>M</td>\n",
       "      <td>компаньон</td>\n",
       "      <td>0</td>\n",
       "      <td>NaN</td>\n",
       "      <td>покупка жилья</td>\n",
       "    </tr>\n",
       "  </tbody>\n",
       "</table>\n",
       "</div>"
      ],
      "text/plain": [
       "       children  days_employed  dob_years education  education_id  \\\n",
       "7340          2   -3818.249310         39   среднее             1   \n",
       "3957          0  -12111.680981         47   среднее             1   \n",
       "6605          0   -3617.168602         48   среднее             1   \n",
       "14910         0            NaN         20   среднее             1   \n",
       "763           0            NaN         21   среднее             1   \n",
       "\n",
       "               family_status  family_status_id gender income_type  debt  \\\n",
       "7340         женат / замужем                 0      F   сотрудник     0   \n",
       "3957         женат / замужем                 0      F   компаньон     0   \n",
       "6605   Не женат / не замужем                 4      M   сотрудник     1   \n",
       "14910  Не женат / не замужем                 4      M   сотрудник     0   \n",
       "763         гражданский брак                 1      M   компаньон     0   \n",
       "\n",
       "        total_income                            purpose  \n",
       "7340    40930.315696                      покупка жилья  \n",
       "3957   108406.132467  покупка коммерческой недвижимости  \n",
       "6605   214785.654014      получение высшего образования  \n",
       "14910            NaN         покупка жилой недвижимости  \n",
       "763              NaN                      покупка жилья  "
      ]
     },
     "metadata": {},
     "output_type": "display_data"
    }
   ],
   "source": [
    "data.sample(5, random_state=0)"
   ]
  },
  {
   "cell_type": "markdown",
   "metadata": {
    "cellId": "tsojb8kvctb33u6eesi2py"
   },
   "source": [
    "<div class=\"alert alert-block alert-warning\">\n",
    "<b>Remarks:</b> \n",
    "   \n",
    "- лучше собирать все импорты, настройки и ключевые константы в начале проекта - так в нем будет гораздо проще ориентироваться ✔\n",
    "- стоит отделять импорты от открытия датасета. Это делается для того, чтобы иметь возмонжность в любой момент дописать нвоые библиотеки, перезапустить ячейку с импортами и продолжить работу, не перетирая датасет. ✔\n",
    "- для знакомства с датасетом можно применить методы `head()`, `tail()` и `sample()` - попробуй. Также рекмоендую познакомиться с параметром `random_state` для функции `sample()` ✔\n",
    "- функция `describe()` может быть очень полезна при знакомстве с датасетом, советую её тут использовать. Советую почитать про её аргументы - пригодится в следующих проектах, а также рекомендую рассматривать её в транспонированном виде - в больших датасетах будет гораздо удобнее - `df.describe().T` ✔"
   ]
  },
  {
   "cell_type": "markdown",
   "metadata": {
    "cellId": "yxskef53g07wq2otwfry5g"
   },
   "source": [
    "<div class=\"alert alert-block alert-warning\">\n",
    "<b>Remarks:</b> кажется, эти сортировки не очень показательны, думаю метод `describe()` - то, что тебе нужно :)"
   ]
  },
  {
   "cell_type": "markdown",
   "metadata": {
    "cellId": "ljy9wv6fc6exqu5rc8dsd"
   },
   "source": [
    "<div class=\"alert alert-block alert-info\">\n",
    "<b>Fixed:</b> суперский метод, спасибо! ✔\n",
    "</div>"
   ]
  },
  {
   "cell_type": "markdown",
   "metadata": {},
   "source": [
    "<div class=\"alert alert-block alert-success\">\n",
    "отличная работа!"
   ]
  },
  {
   "cell_type": "markdown",
   "metadata": {
    "cellId": "orgzct04kro4gw3dedhys5"
   },
   "source": [
    "**Вывод**"
   ]
  },
  {
   "cell_type": "markdown",
   "metadata": {
    "cellId": "tauczsenbnrhk1ht9rjmbk"
   },
   "source": [
    "1. Столбцы \"days_employed\" и \"total_income\" содержат одинаковое количество пропусков.\n",
    "2. В столбце \"days_employed\" и 'total_income' данные записаны в виде чисел с плавающей точкой.\n",
    "3. В столбце \"days_employed\" много отрицательных значений, также есть значения слишком большие и слишком маленькие, возможно, запись не в днях.\n",
    "4. В столбце 'dob_years' есть нули.\n",
    "5. Дубликаты в \"education\".\n",
    "6. В столбце с кол-вом детей есть отрицательные значения и подозрительно большие."
   ]
  },
  {
   "cell_type": "markdown",
   "metadata": {
    "cellId": "11ae1fy077kqxh6o64vjyn"
   },
   "source": [
    "## Шаг 2. Предобработка данных <a id=\"processing\"></a>"
   ]
  },
  {
   "cell_type": "markdown",
   "metadata": {
    "cellId": "me71mmjm1mmvit14n7jl"
   },
   "source": [
    "### Очистка данных <a id=\"clear\"></a>"
   ]
  },
  {
   "cell_type": "markdown",
   "metadata": {
    "cellId": "7kfa3hdoe76b44bsvtrf2f"
   },
   "source": [
    "*Посчитаем сколько в таблице отрицательных значений в кол-ве детей.*"
   ]
  },
  {
   "cell_type": "code",
   "execution_count": 396,
   "metadata": {
    "cellId": "7ffyydyob1fv3tbyjqscj"
   },
   "outputs": [
    {
     "data": {
      "text/plain": [
       "47"
      ]
     },
     "metadata": {},
     "output_type": "display_data"
    }
   ],
   "source": [
    "data[data['children'] < 0]['children'].count()"
   ]
  },
  {
   "cell_type": "markdown",
   "metadata": {
    "cellId": "xa1om6jfvzjm4fy3pjqohq"
   },
   "source": [
    "<div class=\"alert alert-block alert-warning\">\n",
    "<b>Remarks:</b> старайся комментарии к исследованию всегда писать в маркдаун-ячейках, # обычно используется для технических пояснений к нетривиальным участкам кода ✔"
   ]
  },
  {
   "cell_type": "markdown",
   "metadata": {
    "cellId": "p81log8h6udb1zt1t7zr7f"
   },
   "source": [
    "*Посчитаем сколько в таблице строк с 0 возрастом.*"
   ]
  },
  {
   "cell_type": "code",
   "execution_count": 397,
   "metadata": {
    "cellId": "hog5g1i4lzmqxto52gpxpj"
   },
   "outputs": [
    {
     "data": {
      "text/plain": [
       "101"
      ]
     },
     "metadata": {},
     "output_type": "display_data"
    }
   ],
   "source": [
    "data[data['dob_years'] == 0]['dob_years'].count()"
   ]
  },
  {
   "cell_type": "markdown",
   "metadata": {
    "cellId": "55oqt1uchfv20wh10knruy"
   },
   "source": [
    "*Уберем из таблицы данные с отрицательными значениями в кол-ве детей.*"
   ]
  },
  {
   "cell_type": "code",
   "execution_count": 398,
   "metadata": {
    "cellId": "237ctoavemlzvjejkh2py"
   },
   "outputs": [],
   "source": [
    "data = data[data['children'] >= 0]"
   ]
  },
  {
   "cell_type": "markdown",
   "metadata": {
    "cellId": "xfl5sm03nijaq93id3rh2"
   },
   "source": [
    "**Вывод**"
   ]
  },
  {
   "cell_type": "markdown",
   "metadata": {
    "cellId": "vrpi1bbidce8ugpk1bcrz"
   },
   "source": [
    "Так как наличие детей является одним из параметров, по которому проводится исследование, принято решение убрать из таблицы строки, в которых наличие или отсутствие детей нельзя определить из-за ошибки в данных. Возраст, напротив, не фигурирует ни в одном из поставленных перед исследованием вопросов, поэтому 0 можно игнорировать, данные по возрасту никак не повлияют на ход исследования."
   ]
  },
  {
   "cell_type": "markdown",
   "metadata": {
    "cellId": "ep7cnjxidzfv2mcg2toy8"
   },
   "source": [
    "### Обработка пропусков <a id=\"null\"></a>"
   ]
  },
  {
   "cell_type": "markdown",
   "metadata": {
    "cellId": "rvahpkbtocnr73bezmdf"
   },
   "source": [
    "*Посмотрим, где и в каком кол-ве есть пропуски*"
   ]
  },
  {
   "cell_type": "code",
   "execution_count": 399,
   "metadata": {
    "cellId": "bx235subwdf1obhga2xcyl"
   },
   "outputs": [
    {
     "data": {
      "text/plain": [
       "children               0\n",
       "days_employed       2171\n",
       "dob_years              0\n",
       "education              0\n",
       "education_id           0\n",
       "family_status          0\n",
       "family_status_id       0\n",
       "gender                 0\n",
       "income_type            0\n",
       "debt                   0\n",
       "total_income        2171\n",
       "purpose                0\n",
       "dtype: int64"
      ]
     },
     "metadata": {},
     "output_type": "display_data"
    }
   ],
   "source": [
    "data.isna().sum()"
   ]
  },
  {
   "cell_type": "markdown",
   "metadata": {
    "cellId": "3tiqb05jl2bxw9w940s5d"
   },
   "source": [
    "Пропуски обнаружены в одинаковом количестве в ежемесячном доходе и рабочем стаже. Скорее всего, эти пропуски соответсвуют одним и тем же строкам."
   ]
  },
  {
   "cell_type": "markdown",
   "metadata": {
    "cellId": "gzq6kwlndpas536082g1r9"
   },
   "source": [
    "*Произведем замены пропусков на медианные значения по типам дохода методом 'fillna'*"
   ]
  },
  {
   "cell_type": "code",
   "execution_count": 400,
   "metadata": {
    "cellId": "n0ctlkbw54mzrd57cyacl"
   },
   "outputs": [],
   "source": [
    "data['total_income'] = data['total_income'].fillna(data.groupby('income_type')['total_income'].transform('median'))\n",
    "data['days_employed'] = data['days_employed'].fillna(data.groupby('income_type')['days_employed'].transform('median'))\n",
    "# P.S. Метод transform мне подсказал преподаватель, я на этом месте застряла и никак не могла произвести замены, без transform мой код просто ничего не делал, как он мне объяснил, \n",
    "# метод используется именно с группировкой"
   ]
  },
  {
   "cell_type": "markdown",
   "metadata": {
    "cellId": "h4pob29pjlvj099yx1mk9"
   },
   "source": [
    "*Проверим, у всех ли типов занятости встречаются отрицательные значения в трудовом стаже*"
   ]
  },
  {
   "cell_type": "code",
   "execution_count": 401,
   "metadata": {
    "cellId": "z6jih0s77jxmb2x64nlzs"
   },
   "outputs": [
    {
     "data": {
      "text/plain": [
       "income_type\n",
       "безработный        337524.466835\n",
       "в декрете           -3296.759962\n",
       "госслужащий        -15193.032201\n",
       "компаньон          -17615.563266\n",
       "пенсионер          328728.720605\n",
       "предприниматель      -520.848083\n",
       "сотрудник          -18388.949901\n",
       "студент              -578.751554\n",
       "Name: days_employed, dtype: float64"
      ]
     },
     "metadata": {},
     "output_type": "display_data"
    }
   ],
   "source": [
    "data.groupby('income_type')['days_employed'].min()"
   ]
  },
  {
   "cell_type": "markdown",
   "metadata": {
    "cellId": "u8s8qfutouff7nm86ut"
   },
   "source": [
    "**Вывод**"
   ]
  },
  {
   "cell_type": "markdown",
   "metadata": {
    "cellId": "t6cdkk4n9ntu7uq1x448r"
   },
   "source": [
    "10 % данных не содержат информации о ежемесячном доходе и стаже, это могло бы быть связано с тем, что эти данные не сообщались, но есть сомнения, что 2171 человека несговариваясь решили не сообщать именно данные о стаже и доходе. Возможно, имеет место ошибка заполнения данных?\n",
    "В трудовом стаже данные очевидно не соответсвуют трудовому стажу в днях - есть отрицательные значения, слишком большие и слишком малые числа, можно предположить, что данные заполнялись в разных форматах. Нет отрицательных значений только у пенсионеров и безработных, возможно, это связано с тем, что этим категориям стаж не начисляется?\n",
    "Так как значения трудового стажа никак не фигурируют в поставленных перед исследованием вопросах, их можно заменить на медианы, данные не повлияют на ход исследования.\n",
    "В таблице не заполнено 10% в значениях ежемесячного дохода - достаточно крупная часть данных, ее удаление может повлиять на статистику и результаты исследования. В связи с этим было принято решение заменить пропуски в  ежемесячном доходе на медианные значения по тем же типам занятости. Медианные значения взяты, чтобы не учитывать выбросы в данных."
   ]
  },
  {
   "cell_type": "markdown",
   "metadata": {
    "cellId": "7ihpn0puchw8oywe5wrtf3"
   },
   "source": [
    "<div class=\"alert alert-block alert-success\">\n",
    "<b>Success:</b> хорошая работа!"
   ]
  },
  {
   "cell_type": "markdown",
   "metadata": {
    "cellId": "8ulzya4zv09jnz1xvnml5l"
   },
   "source": [
    "### Замена типа данных <a id=\"type\"></a>"
   ]
  },
  {
   "cell_type": "markdown",
   "metadata": {
    "cellId": "sfvkg4uoxshbma6owot0qw"
   },
   "source": [
    "*Меняем тип данных в трудовом стаже и в ежемесячном доходе методом astype*"
   ]
  },
  {
   "cell_type": "code",
   "execution_count": 402,
   "metadata": {
    "cellId": "82ksyvq99khj9oakvkycr"
   },
   "outputs": [],
   "source": [
    "data['days_employed'] = data['days_employed'].astype('int')\n",
    "data['total_income'] = data['total_income'].astype('int') "
   ]
  },
  {
   "cell_type": "markdown",
   "metadata": {
    "cellId": "zox7n85jjncq0r8eqy996"
   },
   "source": [
    "*Заменяем отрицательные значения на абсолютные в трудовом стаже*"
   ]
  },
  {
   "cell_type": "code",
   "execution_count": 403,
   "metadata": {
    "cellId": "lzg5syolwabqxnp3th5w"
   },
   "outputs": [],
   "source": [
    "data['days_employed'] = abs(data['days_employed'])"
   ]
  },
  {
   "cell_type": "markdown",
   "metadata": {
    "cellId": "zj1hfoy8j5scw2brvumqzn"
   },
   "source": [
    "*Меняем тип данных в стоблцах 'education', 'family_status', 'income_type', 'gender' для снижения кол-ва затрачиваемой памяти.*"
   ]
  },
  {
   "cell_type": "code",
   "execution_count": 404,
   "metadata": {
    "cellId": "o9ex4ayegz48ke98rm6xt"
   },
   "outputs": [],
   "source": [
    "data['education'] = data['education'].astype('category')\n",
    "data['family_status'] = data['family_status'].astype('category')\n",
    "data['income_type'] = data['income_type'].astype('category')\n",
    "data['gender'] = data['gender'].astype('category')"
   ]
  },
  {
   "cell_type": "markdown",
   "metadata": {
    "cellId": "yrsbeec5rwt6w64cbwxg"
   },
   "source": [
    "**Вывод**"
   ]
  },
  {
   "cell_type": "markdown",
   "metadata": {
    "cellId": "gd2filf9jplu279656d07"
   },
   "source": [
    "Заменили тип данных в трудовом стаже на целочисленный в абсолютных значениях, так как трудовой стаж исчисляется в целых днях и не может иметь отрицательное значение. Заменили тип данных в ежемесячном доходе на целочисленный. В целях оптимизации заменили тип данных на категоральный в столбцах 'education', 'family_status', 'income_type', 'gender'."
   ]
  },
  {
   "cell_type": "markdown",
   "metadata": {
    "cellId": "vb7onaqnm9palbp9f587s"
   },
   "source": [
    "<div class=\"alert alert-block alert-warning\">\n",
    "<b>Remarks:</b> \n",
    "    \n",
    "Потенциал для эффективного изменения типов тут очень широк.\n",
    "    \n",
    "Давай я дам тебе две классные статьи, а ты попробуешь изменить типы данных на еще более подходящие и замеришь, сколько памяти в % ты сэкономишь:\n",
    "    \n",
    "https://pyprog.pro/data_types.html\n",
    "    \n",
    "https://habr.com/ru/company/ruvds/blog/442516/\n",
    "    \n",
    "Также обрати внимание на пары столбцов `education - education_id` и `family_status - family_status_id`"
   ]
  },
  {
   "cell_type": "markdown",
   "metadata": {
    "cellId": "8d8mqekqintuv16bve6d"
   },
   "source": [
    "<div class=\"alert alert-block alert-info\">\n",
    "Я прочитала статьи, но не все поняла. \n",
    "Разобралась только, что данные, отображающие категории, можно преобразовать в категоральный тип, и тогда понадобится меньше памяти для их обработки.\n",
    "С преобразованием числовых данных не получилось пока разобраться, я попробовала преобразовать их не в int, а в uint, и в таблице появились большие стремные цифры.\n",
    "</div>"
   ]
  },
  {
   "cell_type": "markdown",
   "metadata": {
    "cellId": "2ijuarlxmh53jw5inc9miy"
   },
   "source": [
    "### Обработка дубликатов <a id=\"duplicates\"></a>"
   ]
  },
  {
   "cell_type": "markdown",
   "metadata": {
    "cellId": "grspw4v2f69qv8h2mafe4"
   },
   "source": [
    "*Посмотрим на уникальные значения в столбце 'education' методом value_counts, чтобы найти дубликаты*"
   ]
  },
  {
   "cell_type": "code",
   "execution_count": 405,
   "metadata": {
    "cellId": "2xsu2jlh5q2yq1lc7xmi8g"
   },
   "outputs": [
    {
     "data": {
      "text/plain": [
       "среднее                13719\n",
       "высшее                  4710\n",
       "СРЕДНЕЕ                  768\n",
       "Среднее                  709\n",
       "неоконченное высшее      667\n",
       "ВЫСШЕЕ                   273\n",
       "Высшее                   268\n",
       "начальное                250\n",
       "Неоконченное высшее       47\n",
       "НЕОКОНЧЕННОЕ ВЫСШЕЕ       29\n",
       "НАЧАЛЬНОЕ                 17\n",
       "Начальное                 15\n",
       "ученая степень             4\n",
       "Ученая степень             1\n",
       "УЧЕНАЯ СТЕПЕНЬ             1\n",
       "Name: education, dtype: int64"
      ]
     },
     "metadata": {},
     "output_type": "display_data"
    }
   ],
   "source": [
    "data['education'].value_counts()"
   ]
  },
  {
   "cell_type": "markdown",
   "metadata": {
    "cellId": "x4y56ol8h4aakxbkeida7g"
   },
   "source": [
    "*Приведем строки в столбце 'education' к нижнему регистру методом str.lower и убедимся, что больше нет дубликатов*"
   ]
  },
  {
   "cell_type": "code",
   "execution_count": 406,
   "metadata": {
    "cellId": "a9npy74b5z7k308ombtztg"
   },
   "outputs": [
    {
     "data": {
      "text/plain": [
       "среднее                15196\n",
       "высшее                  5251\n",
       "неоконченное высшее      743\n",
       "начальное                282\n",
       "ученая степень             6\n",
       "Name: education, dtype: int64"
      ]
     },
     "metadata": {},
     "output_type": "display_data"
    }
   ],
   "source": [
    "data['education'] = data['education'].str.lower()\n",
    "data['education'].value_counts()"
   ]
  },
  {
   "cell_type": "markdown",
   "metadata": {
    "cellId": "w5ac5au7ifeiyd7sro"
   },
   "source": [
    "<div class=\"alert alert-block alert-warning\">\n",
    "<b>Remarks:</b> \n",
    "    \n",
    "давай попробуем разобраться с этим предупреждением пандаса:\n",
    "    \n",
    "https://www.dataquest.io/blog/settingwithcopywarning/\n",
    "    \n",
    "https://www.machinelearningmastery.ru/understanding-settingwithcopywarning-7142952a01fa/"
   ]
  },
  {
   "cell_type": "markdown",
   "metadata": {
    "cellId": "g7eb2dv1t9gxivc96wf7ak"
   },
   "source": [
    "<div class=\"alert alert-block alert-info\">\n",
    "Предупреждение по неведомым мне причинам больше не вылезает.\n",
    "</div>"
   ]
  },
  {
   "cell_type": "markdown",
   "metadata": {
    "cellId": "ev1alp1339g7f3u2gzydd"
   },
   "source": [
    "*Проверим кол-во идентификаторов для образования, семейного положения, задолженности и пола*"
   ]
  },
  {
   "cell_type": "code",
   "execution_count": 407,
   "metadata": {
    "cellId": "hjd69itnet9s3tvzhvsfq"
   },
   "outputs": [
    {
     "data": {
      "text/plain": [
       "array([0, 1, 2, 3, 4])"
      ]
     },
     "metadata": {},
     "output_type": "display_data"
    }
   ],
   "source": [
    "data['education_id'].unique()"
   ]
  },
  {
   "cell_type": "code",
   "execution_count": 408,
   "metadata": {
    "cellId": "rod3mv9yjxy4fnsqj0js"
   },
   "outputs": [
    {
     "data": {
      "text/plain": [
       "array([0, 1, 2, 3, 4])"
      ]
     },
     "metadata": {},
     "output_type": "display_data"
    }
   ],
   "source": [
    "data['family_status_id'].unique()"
   ]
  },
  {
   "cell_type": "code",
   "execution_count": 409,
   "metadata": {
    "cellId": "l2gceqzjz3q5ckuhe5llk9"
   },
   "outputs": [
    {
     "data": {
      "text/plain": [
       "array([0, 1])"
      ]
     },
     "metadata": {},
     "output_type": "display_data"
    }
   ],
   "source": [
    "data['debt'].unique()"
   ]
  },
  {
   "cell_type": "code",
   "execution_count": 410,
   "metadata": {
    "cellId": "o512h1wg4zse966mqfjmx6"
   },
   "outputs": [
    {
     "data": {
      "text/plain": [
       "[F, M, XNA]\n",
       "Categories (3, object): [F, M, XNA]"
      ]
     },
     "metadata": {},
     "output_type": "display_data"
    }
   ],
   "source": [
    "data['gender'].unique()"
   ]
  },
  {
   "cell_type": "markdown",
   "metadata": {
    "cellId": "7hji4nniwxphlca7ipp608"
   },
   "source": [
    "*Посмотрим на строки, где пол не определен*"
   ]
  },
  {
   "cell_type": "code",
   "execution_count": 411,
   "metadata": {
    "cellId": "izwluek1jj9ea22gtsf2"
   },
   "outputs": [
    {
     "data": {
      "text/html": [
       "<div>\n",
       "<style scoped>\n",
       "    .dataframe tbody tr th:only-of-type {\n",
       "        vertical-align: middle;\n",
       "    }\n",
       "\n",
       "    .dataframe tbody tr th {\n",
       "        vertical-align: top;\n",
       "    }\n",
       "\n",
       "    .dataframe thead th {\n",
       "        text-align: right;\n",
       "    }\n",
       "</style>\n",
       "<table border=\"1\" class=\"dataframe\">\n",
       "  <thead>\n",
       "    <tr style=\"text-align: right;\">\n",
       "      <th></th>\n",
       "      <th>children</th>\n",
       "      <th>days_employed</th>\n",
       "      <th>dob_years</th>\n",
       "      <th>education</th>\n",
       "      <th>education_id</th>\n",
       "      <th>family_status</th>\n",
       "      <th>family_status_id</th>\n",
       "      <th>gender</th>\n",
       "      <th>income_type</th>\n",
       "      <th>debt</th>\n",
       "      <th>total_income</th>\n",
       "      <th>purpose</th>\n",
       "    </tr>\n",
       "  </thead>\n",
       "  <tbody>\n",
       "    <tr>\n",
       "      <td>10701</td>\n",
       "      <td>0</td>\n",
       "      <td>2358</td>\n",
       "      <td>24</td>\n",
       "      <td>неоконченное высшее</td>\n",
       "      <td>2</td>\n",
       "      <td>гражданский брак</td>\n",
       "      <td>1</td>\n",
       "      <td>XNA</td>\n",
       "      <td>компаньон</td>\n",
       "      <td>0</td>\n",
       "      <td>203905</td>\n",
       "      <td>покупка недвижимости</td>\n",
       "    </tr>\n",
       "  </tbody>\n",
       "</table>\n",
       "</div>"
      ],
      "text/plain": [
       "       children  days_employed  dob_years            education  education_id  \\\n",
       "10701         0           2358         24  неоконченное высшее             2   \n",
       "\n",
       "          family_status  family_status_id gender income_type  debt  \\\n",
       "10701  гражданский брак                 1    XNA   компаньон     0   \n",
       "\n",
       "       total_income               purpose  \n",
       "10701        203905  покупка недвижимости  "
      ]
     },
     "metadata": {},
     "output_type": "display_data"
    }
   ],
   "source": [
    "data[data['gender'] == 'XNA']"
   ]
  },
  {
   "cell_type": "markdown",
   "metadata": {
    "cellId": "xmrk9e6erfs7q4nu0eu2in"
   },
   "source": [
    "*Есть строка, где пол не определен, т.к. на исследование информация о поле никак не повлияет, оставим ее нетронутой.\n",
    "В остальных идентификаторах дубликатов не найдено.*"
   ]
  },
  {
   "cell_type": "markdown",
   "metadata": {
    "cellId": "6x42ih8ri3c15asb1gf9lf"
   },
   "source": [
    "*Посмотрим на уникальные значения в столбце 'family_status' и 'income_type', чтобы найти дубликаты.*"
   ]
  },
  {
   "cell_type": "code",
   "execution_count": 412,
   "metadata": {
    "cellId": "9kr5nz605cczkuphbt05mo"
   },
   "outputs": [
    {
     "data": {
      "text/plain": [
       "женат / замужем          12351\n",
       "гражданский брак          4172\n",
       "Не женат / не замужем     2808\n",
       "в разводе                 1191\n",
       "вдовец / вдова             956\n",
       "Name: family_status, dtype: int64"
      ]
     },
     "metadata": {},
     "output_type": "display_data"
    }
   ],
   "source": [
    "data['family_status'].value_counts()"
   ]
  },
  {
   "cell_type": "code",
   "execution_count": 413,
   "metadata": {
    "cellId": "bc70splgwbi4mfrdr1rvmn"
   },
   "outputs": [
    {
     "data": {
      "text/plain": [
       "сотрудник          11093\n",
       "компаньон           5076\n",
       "пенсионер           3848\n",
       "госслужащий         1455\n",
       "предприниматель        2\n",
       "безработный            2\n",
       "студент                1\n",
       "в декрете              1\n",
       "Name: income_type, dtype: int64"
      ]
     },
     "metadata": {},
     "output_type": "display_data"
    }
   ],
   "source": [
    "data['income_type'].value_counts()"
   ]
  },
  {
   "cell_type": "markdown",
   "metadata": {
    "cellId": "0j1uoslgpu2awdfmdshjxr"
   },
   "source": [
    "*Дубликатов не обнаружено.*"
   ]
  },
  {
   "cell_type": "markdown",
   "metadata": {
    "cellId": "9e2101xrntp8t04cgm09px"
   },
   "source": [
    "**Вывод**"
   ]
  },
  {
   "cell_type": "markdown",
   "metadata": {
    "cellId": "xnf3a3u6f6lvmi6tnt108"
   },
   "source": [
    "Удалены дубликаты в данных об образовании, для этого все значения приведены к нижнему регистру. Скорее всего, дубликаты появились в результате записи данных человеком (если бы форма для записи данных была, например, выпадающим списком, то дубликатов бы не было)."
   ]
  },
  {
   "cell_type": "markdown",
   "metadata": {
    "cellId": "fj8hizafh6tdbg96ux0a"
   },
   "source": [
    "### Лемматизация <a id=\"lemma\"></a>"
   ]
  },
  {
   "cell_type": "markdown",
   "metadata": {
    "cellId": "ai1zjudf6ck6405w9z2zs"
   },
   "source": [
    "*Лемматизируем столбец с целями кредита и подсчитаем кол-во лемм.*"
   ]
  },
  {
   "cell_type": "code",
   "execution_count": 414,
   "metadata": {
    "cellId": "imfewmbp27ux1brmc1bn"
   },
   "outputs": [
    {
     "name": "stdout",
     "output_type": "stream",
     "text": [
      "Counter({' ': 33609, '\\n': 21478, 'недвижимость': 6351, 'покупка': 5899, 'жилье': 4465, 'автомобиль': 4304, 'образование': 4012, 'с': 2919, 'операция': 2603, 'свадьба': 2346, 'на': 2229, 'свой': 2228, 'строительство': 1877, 'высокий': 1374, 'коммерческий': 1314, 'получение': 1314, 'для': 1293, 'жилой': 1228, 'сделка': 943, 'заниматься': 908, 'дополнительный': 906, 'проведение': 776, 'сыграть': 773, 'сдача': 652, 'семья': 641, 'собственный': 634, 'со': 627, 'ремонт': 611, 'подержанный': 488, 'подержать': 478, 'приобретение': 460, 'профильный': 434})\n"
     ]
    }
   ],
   "source": [
    "lemmas_data = []\n",
    "for line in data['purpose']:\n",
    "    lemmas = m.lemmatize(line)\n",
    "    lemmas_data += lemmas\n",
    "print(Counter(lemmas_data))"
   ]
  },
  {
   "cell_type": "markdown",
   "metadata": {
    "cellId": "x8dq3fm6oexsneqe5ztr"
   },
   "source": [
    "<div class=\"alert alert-block alert-warning\">\n",
    "<b>Remarks:</b> импоратм место в начале проекта ✔"
   ]
  },
  {
   "cell_type": "markdown",
   "metadata": {
    "cellId": "ug61m2rcl4dtbwr1evn7ag"
   },
   "source": [
    "*Часто встречается слово \"операция\", стоит убедиться, что речь не про хирургическое вмешательство.*"
   ]
  },
  {
   "cell_type": "code",
   "execution_count": 415,
   "metadata": {
    "cellId": "p90q506a8snzhjnegx85i"
   },
   "outputs": [
    {
     "data": {
      "text/plain": [
       "False"
      ]
     },
     "metadata": {},
     "output_type": "display_data"
    }
   ],
   "source": [
    "operations = False # задаем переменной значение False\n",
    "for line in data['purpose']: # для каждой строки в столбце с целью кредита\n",
    "    if 'операц' in line: # если в строке есть 'операц'\n",
    "        if ('недвиж' not in line) and ('жил' not in line): # если в этой же строке с 'операц' нет 'недвиж' и нет 'жил'\n",
    "            operations = True # значение переменной меняется на True, что означает, что в целях кредита есть слово операция не относящееся к недвижимости или жилью\n",
    "operations # печатаем перемнную"
   ]
  },
  {
   "cell_type": "markdown",
   "metadata": {
    "cellId": "je4hz02rkm8gulabkru5l"
   },
   "source": [
    "*В целях кредита отсутсвуют операции, связанные со здоровьем.*"
   ]
  },
  {
   "cell_type": "markdown",
   "metadata": {
    "cellId": "mht6dhk5rwqi2o297s7eh"
   },
   "source": [
    "**Вывод**"
   ]
  },
  {
   "cell_type": "markdown",
   "metadata": {
    "cellId": "92jyesrqq1rrg0rft777m"
   },
   "source": [
    "По итогам можно выделить 4 категории: недвижимость, автомобиль, образование, свадьба."
   ]
  },
  {
   "cell_type": "markdown",
   "metadata": {
    "cellId": "ntvxc7qtxjpelzp4z5k8"
   },
   "source": [
    "<div class=\"alert alert-block alert-success\">\n",
    "<b>Success:</b> отличная работа! Про здоровбе интересное наблюдение, видимо непопулярная цель кредита"
   ]
  },
  {
   "cell_type": "markdown",
   "metadata": {
    "cellId": "9md11diz218how7kbqketv"
   },
   "source": [
    "### Категоризация данных <a id=\"categorize\"></a>"
   ]
  },
  {
   "cell_type": "markdown",
   "metadata": {
    "cellId": "amoc2i1rlv3esdi0774ie"
   },
   "source": [
    "*Категоризируем данные по целям кредита с помощью лемм и добавим данные о присвоенных категориях в таблицу.*"
   ]
  },
  {
   "cell_type": "code",
   "execution_count": 416,
   "metadata": {
    "cellId": "usoi1y77rkoblkas1evexj"
   },
   "outputs": [],
   "source": [
    "def categorized_purpose(row): # создаем функцию для категоризации целей получения кредита\n",
    "    lemma = m.lemmatize(row['purpose']) # находим леммы в столбце\n",
    "    if ('жилье' in lemma) or ('недвижимость' in lemma):\n",
    "        return 'недвижимость'\n",
    "    elif 'автомобиль' in lemma:\n",
    "        return 'автомобиль'\n",
    "    elif 'образование' in lemma:\n",
    "        return 'образование'\n",
    "    elif 'свадьба' in lemma:\n",
    "        return 'свадьба'\n",
    "    return 'проверить вручную'\n",
    "\n",
    "data['categorized_purpose'] = data.apply(categorized_purpose, axis=1) # применяем функцию через метод apply к таблице, результат функции записываем в здесь же созданный столбец 'categorized_purpose', \n",
    "# указываем axis = 1, чтобы на функцию отправлялись строки"
   ]
  },
  {
   "cell_type": "markdown",
   "metadata": {
    "cellId": "7evx8jjs4b1gd5k6bfbzx"
   },
   "source": [
    "*Проверим как прошла категоризация.*"
   ]
  },
  {
   "cell_type": "code",
   "execution_count": 417,
   "metadata": {
    "cellId": "lwbszgthc21avglm65q0r"
   },
   "outputs": [
    {
     "data": {
      "text/plain": [
       "недвижимость    10816\n",
       "автомобиль       4304\n",
       "образование      4012\n",
       "свадьба          2346\n",
       "Name: categorized_purpose, dtype: int64"
      ]
     },
     "metadata": {},
     "output_type": "display_data"
    }
   ],
   "source": [
    "data['categorized_purpose'].value_counts()"
   ]
  },
  {
   "cell_type": "markdown",
   "metadata": {
    "cellId": "dx2wskweyu88uv8t4amyye"
   },
   "source": [
    "*Категоризируем данные по детности.*"
   ]
  },
  {
   "cell_type": "code",
   "execution_count": 418,
   "metadata": {
    "cellId": "bf1hrcqjc7cgm00wg2s9di"
   },
   "outputs": [],
   "source": [
    "def categorized_children(row): # создаем функцию для категоризации детности\n",
    "    children = row['children']\n",
    "    if children == 0:\n",
    "        return 'нет детей'\n",
    "    return 'есть дети'\n",
    "\n",
    "data['categorized_children'] = data.apply(categorized_children, axis=1) # применяем функцию через метод apply к таблице, результат функции записываем в здесь же созданный столбец 'categorized_children', \n",
    "# указываем axis = 1, чтобы на функцию отправлялись строки"
   ]
  },
  {
   "cell_type": "markdown",
   "metadata": {
    "cellId": "7fq4pukzm1ul7zhdqakco"
   },
   "source": [
    "*Проверим как прошла категоризация.*"
   ]
  },
  {
   "cell_type": "code",
   "execution_count": 419,
   "metadata": {
    "cellId": "a8cl5mqeebjt2wxjxifujg"
   },
   "outputs": [
    {
     "data": {
      "text/plain": [
       "нет детей    14149\n",
       "есть дети     7329\n",
       "Name: categorized_children, dtype: int64"
      ]
     },
     "metadata": {},
     "output_type": "display_data"
    }
   ],
   "source": [
    "data['categorized_children'].value_counts()"
   ]
  },
  {
   "cell_type": "markdown",
   "metadata": {
    "cellId": "lgrh3bynmgfm61aqle4c8"
   },
   "source": [
    "*Наблюдение: клиентов без детей почти в два раза больше.*"
   ]
  },
  {
   "cell_type": "markdown",
   "metadata": {
    "cellId": "akzjonbfqjoolj3l618k1r"
   },
   "source": [
    "*Категоризирем данные по ежемесячному доходу.*"
   ]
  },
  {
   "cell_type": "code",
   "execution_count": 420,
   "metadata": {
    "cellId": "isj094otj7fknqpbz0jye9"
   },
   "outputs": [],
   "source": [
    "def categorized_income(row): # создаем функцию для категоризации ежемесячных доходов\n",
    "    income = row['total_income']\n",
    "    if 39000 <= income <= 99000:\n",
    "        return 'средний'\n",
    "    if income < 39000:\n",
    "        return 'ниже среднего'\n",
    "    return 'выше среднего'\n",
    "    \n",
    "data['categorized_income'] = data.apply(categorized_income, axis=1) # применяем функцию через метод apply к таблице, результат функции записываем в здесь же созданный столбец 'categorized_income', \n",
    "# указываем axis = 1, чтобы на функцию отправлялись строки"
   ]
  },
  {
   "cell_type": "markdown",
   "metadata": {
    "cellId": "e5gbdksm9epn3p4lv75n8p"
   },
   "source": [
    "<div class=\"alert alert-block alert-warning\">\n",
    "<b>Remarks:</b>\n",
    "    \n",
    "в подобных функциях можно избавиться от последного условия:\n",
    "    \n",
    "https://medium.com/lemon-code/guard-clauses-3bc0cd96a2d3\n",
    "    \n",
    "TL|DR: После `return/raise/continue/break` лучше пропускать `else\\if\\elif` ✔"
   ]
  },
  {
   "cell_type": "markdown",
   "metadata": {
    "cellId": "hhireotdam6s3b48apphb"
   },
   "source": [
    "*Проверим как прошла категоризация.*"
   ]
  },
  {
   "cell_type": "code",
   "execution_count": 421,
   "metadata": {
    "cellId": "47h3bco30ikac85dh4jmzg"
   },
   "outputs": [
    {
     "data": {
      "text/plain": [
       "выше среднего    17136\n",
       "средний           4234\n",
       "ниже среднего      108\n",
       "Name: categorized_income, dtype: int64"
      ]
     },
     "metadata": {},
     "output_type": "display_data"
    }
   ],
   "source": [
    "data['categorized_income'].value_counts()"
   ]
  },
  {
   "cell_type": "markdown",
   "metadata": {
    "cellId": "g4fsdonw7g5rqlyayltkc"
   },
   "source": [
    "**Вывод**"
   ]
  },
  {
   "cell_type": "markdown",
   "metadata": {
    "cellId": "fk5hfjwblqnm4tep88zo3a"
   },
   "source": [
    "Разбили все цели получения кредита по самым частовстречающимся леммам, также свели данные по наличию детей к есть/нет, данные по доходам разбили на средний, ниже среднего и выше среднего, для коридоров категорий дохода использованы данные [Альфа-банка за 2019 год](https://bankir.ru/novosti/20190624/rossiiskii-srednii-klass-snizhaya-appetity-k-risku-polnyi-obzor-10161766/)."
   ]
  },
  {
   "cell_type": "markdown",
   "metadata": {
    "cellId": "5zuoabvhb4krjcq6hnzj9r"
   },
   "source": [
    "## Шаг 3. Ответьте на вопросы <a id=\"answers\"></a>"
   ]
  },
  {
   "cell_type": "markdown",
   "metadata": {
    "cellId": "n520d1j7evn87ifmpt7a7y"
   },
   "source": [
    "- Есть ли зависимость между наличием детей и возвратом кредита в срок?"
   ]
  },
  {
   "cell_type": "markdown",
   "metadata": {
    "cellId": "pkz1mbp6a5s4y4y2yrk48w"
   },
   "source": [
    "*Создаем сводную таблицу по категориям детности и кредитной задолженности c подсчетом кол-ва в каждой и сохраняем в переменную, создаем новый столбец, в котором считаем отношение кол-ва клиентов с задолженностью по кредиту к общему кол-ву клиентов с кредитом, переводим в проценты и окургляем до 2-х знаков после запятой методом round.*"
   ]
  },
  {
   "cell_type": "code",
   "execution_count": 422,
   "metadata": {
    "cellId": "pig0vx35snlu43ec6ucuo"
   },
   "outputs": [
    {
     "data": {
      "text/html": [
       "<div>\n",
       "<style scoped>\n",
       "    .dataframe tbody tr th:only-of-type {\n",
       "        vertical-align: middle;\n",
       "    }\n",
       "\n",
       "    .dataframe tbody tr th {\n",
       "        vertical-align: top;\n",
       "    }\n",
       "\n",
       "    .dataframe thead th {\n",
       "        text-align: right;\n",
       "    }\n",
       "</style>\n",
       "<table border=\"1\" class=\"dataframe\">\n",
       "  <thead>\n",
       "    <tr style=\"text-align: right;\">\n",
       "      <th>debt</th>\n",
       "      <th>0</th>\n",
       "      <th>1</th>\n",
       "      <th>ratio_%</th>\n",
       "    </tr>\n",
       "    <tr>\n",
       "      <th>categorized_children</th>\n",
       "      <th></th>\n",
       "      <th></th>\n",
       "      <th></th>\n",
       "    </tr>\n",
       "  </thead>\n",
       "  <tbody>\n",
       "    <tr>\n",
       "      <td>есть дети</td>\n",
       "      <td>6652</td>\n",
       "      <td>677</td>\n",
       "      <td>9.24</td>\n",
       "    </tr>\n",
       "    <tr>\n",
       "      <td>нет детей</td>\n",
       "      <td>13086</td>\n",
       "      <td>1063</td>\n",
       "      <td>7.51</td>\n",
       "    </tr>\n",
       "  </tbody>\n",
       "</table>\n",
       "</div>"
      ],
      "text/plain": [
       "debt                      0     1  ratio_%\n",
       "categorized_children                      \n",
       "есть дети              6652   677     9.24\n",
       "нет детей             13086  1063     7.51"
      ]
     },
     "metadata": {},
     "output_type": "display_data"
    }
   ],
   "source": [
    "data_pivot_children = data.pivot_table(index='categorized_children', columns= 'debt', values='total_income', aggfunc='count')\n",
    "data_pivot_children['ratio_%'] = round(data_pivot_children[1] / (data_pivot_children[1]+data_pivot_children[0])*100, 2)\n",
    "data_pivot_children"
   ]
  },
  {
   "cell_type": "markdown",
   "metadata": {
    "cellId": "556dggchhbssf33qdg3og"
   },
   "source": [
    "<div class=\"alert alert-block alert-success\">\n",
    "<b>Success:</b> отличная сводная таблица!"
   ]
  },
  {
   "cell_type": "markdown",
   "metadata": {
    "cellId": "aabc7q49tpj0p08oh9ayvk"
   },
   "source": [
    "**Вывод**"
   ]
  },
  {
   "cell_type": "markdown",
   "metadata": {
    "cellId": "pzs1g222spmbfkt78abpof"
   },
   "source": [
    "Небольшая разница в 1,7% прослеживается между детными и бездетными, имеющими задолженность по кредиту. У клиентов без детей чуть меньше вероятность просрочки. "
   ]
  },
  {
   "cell_type": "markdown",
   "metadata": {
    "cellId": "fa02ggujf9clx69hk478a"
   },
   "source": [
    "- Есть ли зависимость между семейным положением и возвратом кредита в срок?"
   ]
  },
  {
   "cell_type": "markdown",
   "metadata": {
    "cellId": "y6zcjvitw6jb8vuvq7s2m"
   },
   "source": [
    "*Создаем сводную таблицу по типам семейного положения и кредитной задолженности c подсчетом кол-ва в каждом и сохраняем в переменную, создаем новый столбец, в котором считаем отношение кол-ва клиентов с задолженностью по кредиту к общему кол-ву клиентов с кредитом, переводим в проценты и окургляем до 2-х знаков после запятой методом round.*"
   ]
  },
  {
   "cell_type": "code",
   "execution_count": 423,
   "metadata": {
    "cellId": "z8m7f246op40tr5qyud3x"
   },
   "outputs": [
    {
     "data": {
      "text/html": [
       "<div>\n",
       "<style scoped>\n",
       "    .dataframe tbody tr th:only-of-type {\n",
       "        vertical-align: middle;\n",
       "    }\n",
       "\n",
       "    .dataframe tbody tr th {\n",
       "        vertical-align: top;\n",
       "    }\n",
       "\n",
       "    .dataframe thead th {\n",
       "        text-align: right;\n",
       "    }\n",
       "</style>\n",
       "<table border=\"1\" class=\"dataframe\">\n",
       "  <thead>\n",
       "    <tr style=\"text-align: right;\">\n",
       "      <th>debt</th>\n",
       "      <th>0</th>\n",
       "      <th>1</th>\n",
       "      <th>ratio_%</th>\n",
       "    </tr>\n",
       "    <tr>\n",
       "      <th>family_status</th>\n",
       "      <th></th>\n",
       "      <th></th>\n",
       "      <th></th>\n",
       "    </tr>\n",
       "  </thead>\n",
       "  <tbody>\n",
       "    <tr>\n",
       "      <td>Не женат / не замужем</td>\n",
       "      <td>2534</td>\n",
       "      <td>274</td>\n",
       "      <td>9.76</td>\n",
       "    </tr>\n",
       "    <tr>\n",
       "      <td>гражданский брак</td>\n",
       "      <td>3784</td>\n",
       "      <td>388</td>\n",
       "      <td>9.30</td>\n",
       "    </tr>\n",
       "    <tr>\n",
       "      <td>женат / замужем</td>\n",
       "      <td>11421</td>\n",
       "      <td>930</td>\n",
       "      <td>7.53</td>\n",
       "    </tr>\n",
       "    <tr>\n",
       "      <td>в разводе</td>\n",
       "      <td>1106</td>\n",
       "      <td>85</td>\n",
       "      <td>7.14</td>\n",
       "    </tr>\n",
       "    <tr>\n",
       "      <td>вдовец / вдова</td>\n",
       "      <td>893</td>\n",
       "      <td>63</td>\n",
       "      <td>6.59</td>\n",
       "    </tr>\n",
       "  </tbody>\n",
       "</table>\n",
       "</div>"
      ],
      "text/plain": [
       "debt                       0    1  ratio_%\n",
       "family_status                             \n",
       "Не женат / не замужем   2534  274     9.76\n",
       "гражданский брак        3784  388     9.30\n",
       "женат / замужем        11421  930     7.53\n",
       "в разводе               1106   85     7.14\n",
       "вдовец / вдова           893   63     6.59"
      ]
     },
     "metadata": {},
     "output_type": "display_data"
    }
   ],
   "source": [
    "data_pivot_family = data.pivot_table(index='family_status', columns= 'debt', values='total_income', aggfunc='count')\n",
    "data_pivot_family['ratio_%'] = round(data_pivot_family[1] / (data_pivot_family[1]+data_pivot_family[0])*100, 2)\n",
    "data_pivot_family.sort_values(by = 'ratio_%', ascending = False)"
   ]
  },
  {
   "cell_type": "markdown",
   "metadata": {
    "cellId": "a74rrhcryloyyb620vnj4"
   },
   "source": [
    "**Вывод**"
   ]
  },
  {
   "cell_type": "markdown",
   "metadata": {
    "cellId": "taybj3mlmmz3tt4xc7utc"
   },
   "source": [
    "Меньше всего шансов просрочить выплату по кредиту у вдовцов/вдов и клиентов в разводе, на втором месте клиенты в браке, и чуть менее пунктуальны с выплатами по кредиту холостые и клиенты в гражданском браке."
   ]
  },
  {
   "cell_type": "markdown",
   "metadata": {
    "cellId": "en12mj5btknw2invu2v87d"
   },
   "source": [
    "- Есть ли зависимость между уровнем дохода и возвратом кредита в срок?"
   ]
  },
  {
   "cell_type": "markdown",
   "metadata": {
    "cellId": "s45vvgj75jogj1qc70tvfu"
   },
   "source": [
    "*Создаем сводную таблицу по категориям дохода и кредитной задолженности c подсчетом кол-ва в каждой и сохраняем в переменную, создаем новый столбец, в котором считаем отношение кол-ва клиентов с задолженностью по кредиту к общему кол-ву клиентов с кредитом, переводим в проценты и окургляем до 2-х знаков после запятой методом round.*"
   ]
  },
  {
   "cell_type": "code",
   "execution_count": 424,
   "metadata": {
    "cellId": "ulxhawzyxwr912kp5qaaip"
   },
   "outputs": [
    {
     "data": {
      "text/html": [
       "<div>\n",
       "<style scoped>\n",
       "    .dataframe tbody tr th:only-of-type {\n",
       "        vertical-align: middle;\n",
       "    }\n",
       "\n",
       "    .dataframe tbody tr th {\n",
       "        vertical-align: top;\n",
       "    }\n",
       "\n",
       "    .dataframe thead th {\n",
       "        text-align: right;\n",
       "    }\n",
       "</style>\n",
       "<table border=\"1\" class=\"dataframe\">\n",
       "  <thead>\n",
       "    <tr style=\"text-align: right;\">\n",
       "      <th>debt</th>\n",
       "      <th>0</th>\n",
       "      <th>1</th>\n",
       "      <th>ratio_%</th>\n",
       "    </tr>\n",
       "    <tr>\n",
       "      <th>categorized_income</th>\n",
       "      <th></th>\n",
       "      <th></th>\n",
       "      <th></th>\n",
       "    </tr>\n",
       "  </thead>\n",
       "  <tbody>\n",
       "    <tr>\n",
       "      <td>выше среднего</td>\n",
       "      <td>15742</td>\n",
       "      <td>1394</td>\n",
       "      <td>8.13</td>\n",
       "    </tr>\n",
       "    <tr>\n",
       "      <td>средний</td>\n",
       "      <td>3895</td>\n",
       "      <td>339</td>\n",
       "      <td>8.01</td>\n",
       "    </tr>\n",
       "    <tr>\n",
       "      <td>ниже среднего</td>\n",
       "      <td>101</td>\n",
       "      <td>7</td>\n",
       "      <td>6.48</td>\n",
       "    </tr>\n",
       "  </tbody>\n",
       "</table>\n",
       "</div>"
      ],
      "text/plain": [
       "debt                    0     1  ratio_%\n",
       "categorized_income                      \n",
       "выше среднего       15742  1394     8.13\n",
       "средний              3895   339     8.01\n",
       "ниже среднего         101     7     6.48"
      ]
     },
     "metadata": {},
     "output_type": "display_data"
    }
   ],
   "source": [
    "data_pivot_income = data.pivot_table(index='categorized_income', columns= 'debt', values='total_income', aggfunc='count')\n",
    "data_pivot_income['ratio_%'] = round(data_pivot_income[1] / (data_pivot_income[1]+data_pivot_income[0])*100, 2)\n",
    "data_pivot_income.sort_values(by = 'ratio_%', ascending = False)"
   ]
  },
  {
   "cell_type": "markdown",
   "metadata": {
    "cellId": "90znkx8u0a97r9w2pifqmq"
   },
   "source": [
    "**Вывод**"
   ]
  },
  {
   "cell_type": "markdown",
   "metadata": {
    "cellId": "tp60ykybnca5nstxxpexb"
   },
   "source": [
    "Реже всего задолженность по кредиту возникает у клиентов с доходом ниже среднего. Зависимость есть, но разница в пределах 1,5%."
   ]
  },
  {
   "cell_type": "markdown",
   "metadata": {
    "cellId": "0ggysn0l1bevqaswcttn1iq"
   },
   "source": [
    "- Как разные цели кредита влияют на его возврат в срок?"
   ]
  },
  {
   "cell_type": "markdown",
   "metadata": {
    "cellId": "9hb6bcpxuntw0gsfaiod7"
   },
   "source": [
    "*Создаем сводную таблицу по целям кредита и кредитной задолженности c подсчетом кол-ва в каждой и сохраняем в переменную, создаем новый столбец, в котором считаем отношение кол-ва клиентов с задолженностью по кредиту \n",
    "к общему кол-ву клиентов с кредитом, переводим в проценты и окургляем до 2-х знаков после запятой методом round.*"
   ]
  },
  {
   "cell_type": "code",
   "execution_count": 425,
   "metadata": {
    "cellId": "2ktbs4epvie19e50s7drch"
   },
   "outputs": [
    {
     "data": {
      "text/html": [
       "<div>\n",
       "<style scoped>\n",
       "    .dataframe tbody tr th:only-of-type {\n",
       "        vertical-align: middle;\n",
       "    }\n",
       "\n",
       "    .dataframe tbody tr th {\n",
       "        vertical-align: top;\n",
       "    }\n",
       "\n",
       "    .dataframe thead th {\n",
       "        text-align: right;\n",
       "    }\n",
       "</style>\n",
       "<table border=\"1\" class=\"dataframe\">\n",
       "  <thead>\n",
       "    <tr style=\"text-align: right;\">\n",
       "      <th>debt</th>\n",
       "      <th>0</th>\n",
       "      <th>1</th>\n",
       "      <th>ratio_%</th>\n",
       "    </tr>\n",
       "    <tr>\n",
       "      <th>categorized_purpose</th>\n",
       "      <th></th>\n",
       "      <th></th>\n",
       "      <th></th>\n",
       "    </tr>\n",
       "  </thead>\n",
       "  <tbody>\n",
       "    <tr>\n",
       "      <td>автомобиль</td>\n",
       "      <td>3902</td>\n",
       "      <td>402</td>\n",
       "      <td>9.34</td>\n",
       "    </tr>\n",
       "    <tr>\n",
       "      <td>образование</td>\n",
       "      <td>3642</td>\n",
       "      <td>370</td>\n",
       "      <td>9.22</td>\n",
       "    </tr>\n",
       "    <tr>\n",
       "      <td>свадьба</td>\n",
       "      <td>2160</td>\n",
       "      <td>186</td>\n",
       "      <td>7.93</td>\n",
       "    </tr>\n",
       "    <tr>\n",
       "      <td>недвижимость</td>\n",
       "      <td>10034</td>\n",
       "      <td>782</td>\n",
       "      <td>7.23</td>\n",
       "    </tr>\n",
       "  </tbody>\n",
       "</table>\n",
       "</div>"
      ],
      "text/plain": [
       "debt                     0    1  ratio_%\n",
       "categorized_purpose                     \n",
       "автомобиль            3902  402     9.34\n",
       "образование           3642  370     9.22\n",
       "свадьба               2160  186     7.93\n",
       "недвижимость         10034  782     7.23"
      ]
     },
     "metadata": {},
     "output_type": "display_data"
    }
   ],
   "source": [
    "data_pivot_purpose = data.pivot_table(index='categorized_purpose', columns= 'debt', values='total_income', aggfunc='count')\n",
    "data_pivot_purpose['ratio_%'] = round(data_pivot_purpose[1] / (data_pivot_purpose[1]+data_pivot_purpose[0])*100, 2)\n",
    "data_pivot_purpose.sort_values(by = 'ratio_%', ascending = False)"
   ]
  },
  {
   "cell_type": "markdown",
   "metadata": {
    "cellId": "h52ujk61we6hvlrsw6kli"
   },
   "source": [
    "**Вывод**"
   ]
  },
  {
   "cell_type": "markdown",
   "metadata": {
    "cellId": "ek5p944zs5l896b0krq0dn"
   },
   "source": [
    "Чаще возвращают в срок кредиты, взятые на свадьбу и операции с недвижимостью."
   ]
  },
  {
   "cell_type": "markdown",
   "metadata": {
    "cellId": "mc0xmcbblqr2e84kw5mvmc"
   },
   "source": [
    "## Шаг 4. Общий вывод <a id=\"conclusion\"></a>"
   ]
  },
  {
   "cell_type": "markdown",
   "metadata": {
    "cellId": "8bwpxcyln96477mvhm25ax"
   },
   "source": [
    "В ходе исследования были изучены данные о платежеспособности клиентов банка и даны ответы на поставленные вопросы:\n",
    "\n",
    "- Есть ли зависимость между наличием детей и возвратом кредита в срок?\n",
    "- Есть ли зависимость между семейным положением и возвратом кредита в срок?\n",
    "- Есть ли зависимость между уровнем дохода и возвратом кредита в срок?\n",
    "- Как разные цели кредита влияют на его возврат в срок?\n",
    "\n",
    "Сформировался портрет самого частого клиента банка, это человек:\n",
    "\n",
    " - со средним образованием\n",
    " - в браке\n",
    " - с доходом выше среднего\n",
    " - без детей\n",
    " - сотрудник\n",
    "\n",
    "Также было выявлено 4 основные цели кредита:\n",
    "\n",
    "- автомобиль \n",
    "- недвижимость \n",
    "- образование\n",
    "- свадьба\n",
    "\n",
    "\n",
    "Несмотря на то, что в общей массе разница по рассмотренным категориям в возврате кредита в срок сотавляет не более 2%, благодаря полученным данным можно охарактеризовать клиента, который с меньшей долей вероятности будет задерживать оплату по кредиту, это человек:\n",
    "\n",
    "- в разводе (7,14% просрочки) или вдовец/вдова (6,59% просрочки)\n",
    "- без детей (7,51% просрочки против 9,24% у клиентов с детьми)\n",
    "- с зароботком ниже среднего (6,48% просрочки против 8,01% и 8,13% у среднего и выше среднего)\n",
    "- решивший взять кредит на свадьбу (7,93% просрочки) или на операции с недвижимостью (7,23% просрочки)\n"
   ]
  },
  {
   "cell_type": "markdown",
   "metadata": {
    "cellId": "qae0l0hphe9ivisraf4v4p"
   },
   "source": [
    "*Визуализируем для наглядности:* \n",
    "\n",
    "*зависимость между наличием детей и возвратом кредита в срок*"
   ]
  },
  {
   "cell_type": "code",
   "execution_count": 426,
   "metadata": {
    "cellId": "es22lgb3kfztzd1rsou0q"
   },
   "outputs": [
    {
     "data": {
      "text/plain": [
       "<AxesSubplot:xlabel='categorized_children', ylabel='ratio_%'>"
      ]
     },
     "metadata": {},
     "output_type": "display_data"
    },
    {
     "data": {
      "image/png": "[encoded data removed]",
      "text/plain": [
       "<Figure size 432x288 with 1 Axes>"
      ]
     },
     "metadata": {},
     "output_type": "display_data"
    }
   ],
   "source": [
    "sns.barplot(x=data_pivot_children.index,\n",
    "            y='ratio_%',\n",
    "            data=data_pivot_children)"
   ]
  },
  {
   "cell_type": "markdown",
   "metadata": {
    "cellId": "v1e7vw68rpwar1v03mko"
   },
   "source": [
    "*зависимость между семейным положением и возвратом кредита в срок*"
   ]
  },
  {
   "cell_type": "code",
   "execution_count": 427,
   "metadata": {
    "cellId": "czs0u56ruowsaf337rblr"
   },
   "outputs": [
    {
     "data": {
      "text/plain": [
       "<AxesSubplot:xlabel='ratio_%', ylabel='family_status'>"
      ]
     },
     "metadata": {},
     "output_type": "display_data"
    },
    {
     "data": {
      "image/png": "[encoded data removed]",
      "text/plain": [
       "<Figure size 432x288 with 1 Axes>"
      ]
     },
     "metadata": {},
     "output_type": "display_data"
    }
   ],
   "source": [
    "sns.barplot(x='ratio_%',\n",
    "            y=data_pivot_family.index,\n",
    "            data=data_pivot_family)"
   ]
  },
  {
   "cell_type": "markdown",
   "metadata": {
    "cellId": "srrrp0h9pwekszvqzz6p"
   },
   "source": [
    "*зависимость между уровнем дохода и возвратом кредита в срок*"
   ]
  },
  {
   "cell_type": "code",
   "execution_count": 428,
   "metadata": {
    "cellId": "9t7j7c2t1tokompakiuf9i"
   },
   "outputs": [
    {
     "data": {
      "text/plain": [
       "<AxesSubplot:xlabel='categorized_income', ylabel='ratio_%'>"
      ]
     },
     "metadata": {},
     "output_type": "display_data"
    },
    {
     "data": {
      "image/png": "[encoded data removed]",
      "text/plain": [
       "<Figure size 432x288 with 1 Axes>"
      ]
     },
     "metadata": {},
     "output_type": "display_data"
    }
   ],
   "source": [
    "sns.barplot(x=data_pivot_income.index,\n",
    "            y='ratio_%',\n",
    "            data=data_pivot_income)"
   ]
  },
  {
   "cell_type": "markdown",
   "metadata": {
    "cellId": "uvd5ihag4l64d6awju7e"
   },
   "source": [
    "*зависимость между целями кредита и возвратом кредита в срок*"
   ]
  },
  {
   "cell_type": "code",
   "execution_count": 429,
   "metadata": {
    "cellId": "1zd72haa3v94t6o46kk4mj"
   },
   "outputs": [
    {
     "data": {
      "text/plain": [
       "<AxesSubplot:xlabel='ratio_%', ylabel='categorized_purpose'>"
      ]
     },
     "metadata": {},
     "output_type": "display_data"
    },
    {
     "data": {
      "image/png": "[encoded data removed]",
      "text/plain": [
       "<Figure size 432x288 with 1 Axes>"
      ]
     },
     "metadata": {},
     "output_type": "display_data"
    }
   ],
   "source": [
    "sns.barplot(x='ratio_%',\n",
    "            y=data_pivot_purpose.index,\n",
    "            data=data_pivot_purpose)"
   ]
  },
  {
   "cell_type": "markdown",
   "metadata": {
    "cellId": "6xh71k8l94xnc290m8gr5"
   },
   "source": [
    "<div class=\"alert alert-block alert-warning\">\n",
    "    \n",
    "<b>Remarks:</b>  Также давай напишем информативный общий вывод. Подумай об этом так: большинство заказчиков мало понимают в датасаенсе и начнут читать работу именно с него. Вывод должен содержать все обнаруженные инсайды и главное цифры.</div>"
   ]
  },
  {
   "cell_type": "markdown",
   "metadata": {
    "cellId": "x2unxoz2j5hsbpe24yc97j"
   },
   "source": [
    "<div class=\"alert alert-block alert-info\">\n",
    "Я расписала вывод подробнее, добавила цифры и графики.✔\n",
    "</div>"
   ]
  },
  {
   "cell_type": "markdown",
   "metadata": {},
   "source": [
    "<div class=\"alert alert-block alert-success\">\n",
    "Красота!"
   ]
  },
  {
   "cell_type": "markdown",
   "metadata": {
    "cellId": "5b1f1t8kx95u3f3911ggu"
   },
   "source": [
    "## Чек-лист готовности проекта\n",
    "\n",
    "Поставьте 'x' в выполненных пунктах. Далее нажмите Shift+Enter."
   ]
  },
  {
   "cell_type": "markdown",
   "metadata": {
    "cellId": "prvx677fmrr7p2nobaew5g"
   },
   "source": [
    "- [x]  открыт файл;\n",
    "- [x]  файл изучен;\n",
    "- [x]  определены пропущенные значения;\n",
    "- [x]  заполнены пропущенные значения;\n",
    "- [x]  есть пояснение, какие пропущенные значения обнаружены;\n",
    "- [x]  описаны возможные причины появления пропусков в данных;\n",
    "- [x]  объяснено, по какому принципу заполнены пропуски;\n",
    "- [x]  заменен вещественный тип данных на целочисленный;\n",
    "- [x]  есть пояснение, какой метод используется для изменения типа данных и почему;\n",
    "- [x]  удалены дубликаты;\n",
    "- [x]  есть пояснение, какой метод используется для поиска и удаления дубликатов;\n",
    "- [x]  описаны возможные причины появления дубликатов в данных;\n",
    "- [x]  выделены леммы в значениях столбца с целями получения кредита;\n",
    "- [x]  описан процесс лемматизации;\n",
    "- [x]  данные категоризированы;\n",
    "- [x]  есть объяснение принципа категоризации данных;\n",
    "- [x]  есть ответ на вопрос: \"Есть ли зависимость между наличием детей и возвратом кредита в срок?\";\n",
    "- [x]  есть ответ на вопрос: \"Есть ли зависимость между семейным положением и возвратом кредита в срок?\";\n",
    "- [x]  есть ответ на вопрос: \"Есть ли зависимость между уровнем дохода и возвратом кредита в срок?\";\n",
    "- [x]  есть ответ на вопрос: \"Как разные цели кредита влияют на его возврат в срок?\";\n",
    "- [x]  в каждом этапе есть выводы;\n",
    "- [x]  есть общий вывод."
   ]
  },
  {
   "cell_type": "code",
   "execution_count": 430,
   "metadata": {
    "cellId": "yxvjpwd1vyqk6czzc0zb"
   },
   "outputs": [],
   "source": [
    "#!c1.4\n"
   ]
  }
 ],
 "metadata": {
  "ExecuteTimeLog": [
   {
    "duration": 4,
    "start_time": "2021-12-07T18:41:35.927Z"
   },
   {
    "duration": 869,
    "start_time": "2021-12-07T18:41:35.933Z"
   },
   {
    "duration": 47,
    "start_time": "2021-12-07T18:41:36.806Z"
   },
   {
    "duration": 39,
    "start_time": "2021-12-07T18:41:36.856Z"
   },
   {
    "duration": 38,
    "start_time": "2021-12-07T18:41:36.917Z"
   },
   {
    "duration": 61,
    "start_time": "2021-12-07T18:41:36.957Z"
   },
   {
    "duration": 8,
    "start_time": "2021-12-07T18:41:37.022Z"
   },
   {
    "duration": 8,
    "start_time": "2021-12-07T18:41:37.033Z"
   },
   {
    "duration": 10,
    "start_time": "2021-12-07T18:41:37.043Z"
   },
   {
    "duration": 13,
    "start_time": "2021-12-07T18:41:37.055Z"
   },
   {
    "duration": 18,
    "start_time": "2021-12-07T18:41:37.117Z"
   },
   {
    "duration": 10,
    "start_time": "2021-12-07T18:41:37.137Z"
   },
   {
    "duration": 7,
    "start_time": "2021-12-07T18:41:37.149Z"
   },
   {
    "duration": 8,
    "start_time": "2021-12-07T18:41:37.158Z"
   },
   {
    "duration": 50,
    "start_time": "2021-12-07T18:41:37.169Z"
   },
   {
    "duration": 25,
    "start_time": "2021-12-07T18:41:37.221Z"
   },
   {
    "duration": 7,
    "start_time": "2021-12-07T18:41:37.249Z"
   },
   {
    "duration": 13,
    "start_time": "2021-12-07T18:41:37.259Z"
   },
   {
    "duration": 44,
    "start_time": "2021-12-07T18:41:37.276Z"
   },
   {
    "duration": 6,
    "start_time": "2021-12-07T18:41:37.323Z"
   },
   {
    "duration": 21,
    "start_time": "2021-12-07T18:41:37.331Z"
   },
   {
    "duration": 9,
    "start_time": "2021-12-07T18:41:37.355Z"
   },
   {
    "duration": 53,
    "start_time": "2021-12-07T18:41:37.367Z"
   },
   {
    "duration": 4572,
    "start_time": "2021-12-07T18:41:37.422Z"
   },
   {
    "duration": 27,
    "start_time": "2021-12-07T18:41:41.996Z"
   },
   {
    "duration": 5510,
    "start_time": "2021-12-07T18:41:42.026Z"
   },
   {
    "duration": 8,
    "start_time": "2021-12-07T18:41:47.540Z"
   },
   {
    "duration": 401,
    "start_time": "2021-12-07T18:41:47.550Z"
   },
   {
    "duration": 7,
    "start_time": "2021-12-07T18:41:47.953Z"
   },
   {
    "duration": 426,
    "start_time": "2021-12-07T18:41:47.962Z"
   },
   {
    "duration": 9,
    "start_time": "2021-12-07T18:41:48.391Z"
   },
   {
    "duration": 54,
    "start_time": "2021-12-07T18:41:48.402Z"
   },
   {
    "duration": 31,
    "start_time": "2021-12-07T18:41:48.458Z"
   },
   {
    "duration": 53,
    "start_time": "2021-12-07T18:41:48.491Z"
   },
   {
    "duration": 31,
    "start_time": "2021-12-07T18:41:48.546Z"
   },
   {
    "duration": 3,
    "start_time": "2021-12-07T18:41:48.579Z"
   }
  ],
  "kernelspec": {
   "display_name": "Python 3 (ipykernel)",
   "language": "python",
   "name": "python3"
  },
  "language_info": {
   "codemirror_mode": {
    "name": "ipython",
    "version": 3
   },
   "file_extension": ".py",
   "mimetype": "text/x-python",
   "name": "python",
   "nbconvert_exporter": "python",
   "pygments_lexer": "ipython3",
   "version": "3.9.5"
  },
  "notebookId": "14f3e029-d972-42d3-a312-e9e64ab33c72",
  "notebookPath": "977f205d-c6bc-49dc-9304-23e347f3e00f.ipynb",
  "toc": {
   "base_numbering": 1,
   "nav_menu": {},
   "number_sections": true,
   "sideBar": true,
   "skip_h1_title": true,
   "title_cell": "Table of Contents",
   "title_sidebar": "Contents",
   "toc_cell": false,
   "toc_position": {},
   "toc_section_display": true,
   "toc_window_display": false
  }
 },
 "nbformat": 4,
 "nbformat_minor": 4
}
